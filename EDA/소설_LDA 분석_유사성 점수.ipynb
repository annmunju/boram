{
 "cells": [
  {
   "cell_type": "code",
   "execution_count": 1,
   "id": "76ec90f2",
   "metadata": {},
   "outputs": [],
   "source": [
    "import pandas as pd\n",
    "import numpy as np\n",
    "import matplotlib.pyplot as plt"
   ]
  },
  {
   "cell_type": "code",
   "execution_count": 2,
   "id": "a7dc8dcf",
   "metadata": {},
   "outputs": [],
   "source": [
    "df = pd.read_csv('novel_story_sep.csv', lineterminator='\\n')"
   ]
  },
  {
   "cell_type": "code",
   "execution_count": 3,
   "id": "a3d12b5b",
   "metadata": {},
   "outputs": [
    {
     "data": {
      "text/plain": [
       "Index(['itemId', 'title', 'story', 'review', 'piece'], dtype='object')"
      ]
     },
     "execution_count": 3,
     "metadata": {},
     "output_type": "execute_result"
    }
   ],
   "source": [
    "df.columns"
   ]
  },
  {
   "cell_type": "code",
   "execution_count": 4,
   "id": "b5523aa9",
   "metadata": {},
   "outputs": [
    {
     "data": {
      "text/plain": [
       "'3.8.1'"
      ]
     },
     "execution_count": 4,
     "metadata": {},
     "output_type": "execute_result"
    }
   ],
   "source": [
    "import gensim\n",
    "gensim.__version__"
   ]
  },
  {
   "cell_type": "code",
   "execution_count": 5,
   "id": "672d103f",
   "metadata": {},
   "outputs": [],
   "source": [
    "import gensim\n",
    "from gensim import corpora, models\n",
    "from gensim.models import CoherenceModel\n",
    "from gensim.test.utils import common_corpus\n",
    "from gensim.models.wrappers import LdaMallet\n",
    "import pyLDAvis\n",
    "import pyLDAvis.gensim"
   ]
  },
  {
   "cell_type": "code",
   "execution_count": 6,
   "id": "threaded-straight",
   "metadata": {},
   "outputs": [],
   "source": [
    "# vis = pyLDAvis.gensim.prepare(lda_model, corpus, dictionary)\n",
    "# pyLDAvis.display(vis)\n",
    "# pyLDAvis.enable_notebook()"
   ]
  },
  {
   "cell_type": "code",
   "execution_count": 7,
   "id": "c10086c1",
   "metadata": {},
   "outputs": [],
   "source": [
    "df.drop_duplicates('story', inplace=True)"
   ]
  },
  {
   "cell_type": "code",
   "execution_count": 8,
   "id": "533fd6b4",
   "metadata": {},
   "outputs": [],
   "source": [
    "df.dropna(inplace=True)\n",
    "df.reset_index(drop=True, inplace=True)"
   ]
  },
  {
   "cell_type": "markdown",
   "id": "heavy-explosion",
   "metadata": {},
   "source": [
    "## LDA 함수 만들어놓기"
   ]
  },
  {
   "cell_type": "code",
   "execution_count": 9,
   "id": "minus-norfolk",
   "metadata": {},
   "outputs": [],
   "source": [
    "def lda_coh(stories, no_below=5, num_topics=4, data_word=None, data_words=None):\n",
    "    \n",
    "    # 이야기 전체 형태소 분리\n",
    "    if data_word == None:\n",
    "        data_words = []\n",
    "        for story in stories:\n",
    "            data = list(str(story).split())\n",
    "            data_words.append(data)\n",
    "        \n",
    "    \n",
    "    if data_word == 'stop':\n",
    "        data_words = []\n",
    "        for story in stories:\n",
    "            data = list(str(story).split())\n",
    "            data_words.append(data)\n",
    "            \n",
    "        return data_words\n",
    "    \n",
    "    # id2word, corpus 추출\n",
    "    id2word = corpora.Dictionary(data_words)\n",
    "    id2word.filter_extremes(no_below = no_below) # no_below 회 이하로 등장한 단어는 삭제\n",
    "    texts = data_words\n",
    "    corpus = [id2word.doc2bow(text) for text in texts]\n",
    "    \n",
    "    mallet_path = '../mallet-2.0.8/bin/mallet' \n",
    "    ldamallet = gensim.models.wrappers.LdaMallet(mallet_path, corpus=corpus, num_topics=num_topics, random_seed=12, id2word=id2word)\n",
    "\n",
    "    coherence_model_ldamallet = CoherenceModel(model=ldamallet, texts=texts, dictionary=id2word, coherence='c_v')\n",
    "    coherence_ldamallet = coherence_model_ldamallet.get_coherence()\n",
    "    \n",
    "    return texts, corpus, ldamallet, coherence_ldamallet"
   ]
  },
  {
   "cell_type": "code",
   "execution_count": 10,
   "id": "adolescent-species",
   "metadata": {},
   "outputs": [],
   "source": [
    "def lda_coh_id2(stories, no_below=5, num_topics=4, data_word=None, data_words=None):\n",
    "    \n",
    "    # 이야기 전체 형태소 분리\n",
    "    if data_word == None:\n",
    "        data_words = []\n",
    "        for story in stories:\n",
    "            data = list(str(story).split())\n",
    "            data_words.append(data)\n",
    "        \n",
    "    \n",
    "    if data_word == 'stop':\n",
    "        data_words = []\n",
    "        for story in stories:\n",
    "            data = list(str(story).split())\n",
    "            data_words.append(data)\n",
    "            \n",
    "        return data_words\n",
    "    \n",
    "    # id2word, corpus 추출\n",
    "    id2word = corpora.Dictionary(data_words)\n",
    "    id2word.filter_extremes(no_below = no_below) # no_below 회 이하로 등장한 단어는 삭제\n",
    "    texts = data_words\n",
    "    corpus = [id2word.doc2bow(text) for text in texts]\n",
    "    \n",
    "    mallet_path = '../mallet-2.0.8/bin/mallet' \n",
    "    ldamallet = gensim.models.wrappers.LdaMallet(mallet_path, corpus=corpus, num_topics=num_topics, random_seed=12, id2word=id2word)\n",
    "\n",
    "    coherence_model_ldamallet = CoherenceModel(model=ldamallet, texts=texts, dictionary=id2word, coherence='c_v')\n",
    "    coherence_ldamallet = coherence_model_ldamallet.get_coherence()\n",
    "    \n",
    "    return texts, corpus, ldamallet, coherence_ldamallet, id2word"
   ]
  },
  {
   "cell_type": "code",
   "execution_count": 11,
   "id": "selected-tattoo",
   "metadata": {},
   "outputs": [],
   "source": [
    "def format_topics_sentences(texts, corpus, data_words, ldamallet, Data=df):\n",
    "    # Init output\n",
    "\n",
    "    sent_topics_df = pd.DataFrame()\n",
    "\n",
    "    # Get main topic in each document\n",
    "    #ldamallet[corpus]: lda_model에 corpus를 넣어 각 토픽 당 확률을 알 수 있음\n",
    "    for i, row in enumerate(ldamallet[corpus]):\n",
    "        row = sorted(row, key=lambda x: (x[1]), reverse=True)\n",
    "        # Get the Dominant topic, Perc Contribution and Keywords for each document\n",
    "        for j, (topic_num, prop_topic) in enumerate(row):\n",
    "            if j == 0:  # => dominant topic\n",
    "                wp = ldamallet.show_topic(topic_num, topn=10)\n",
    "                topic_keywords = \", \".join([word for word, prop in wp])\n",
    "                sent_topics_df = sent_topics_df.append(pd.Series([int(topic_num), round(prop_topic,4), topic_keywords]), ignore_index=True)\n",
    "            else:\n",
    "                break\n",
    "    sent_topics_df.columns = ['Dominant_Topic', 'Perc_Contribution', 'Topic_Keywords']\n",
    "    print(type(sent_topics_df))\n",
    "\n",
    "    # Add original text to the end of the output\n",
    "    contents = pd.Series(data_words)\n",
    "    # sent_topics_df = pd.concat([sent_topics_df, contents], axis=1)\n",
    "    sent_topics_df = pd.concat([Data['title'], Data['story'], sent_topics_df], axis=1)\n",
    "\n",
    "    return sent_topics_df"
   ]
  },
  {
   "cell_type": "code",
   "execution_count": 12,
   "id": "advance-customs",
   "metadata": {},
   "outputs": [],
   "source": [
    "def compute_coherence_values(stories, limit=10, start=4, step=2):\n",
    "\n",
    "    from tqdm import tqdm\n",
    "    coherence_values = []\n",
    "    model_list = []\n",
    "    for num_topics in tqdm(range(start, limit, step)):\n",
    "        data_words = lda_coh(stories, data_word='stop')\n",
    "        texts, corpus, ldamallet, coherence_ldamallet = lda_coh(stories, no_below=5, num_topics=num_topics, data_words=data_words)\n",
    "        model_list.append(ldamallet)\n",
    "        coherence_values.append(coherence_ldamallet)\n",
    "        \n",
    "    return model_list, coherence_values"
   ]
  },
  {
   "cell_type": "markdown",
   "id": "outer-result",
   "metadata": {},
   "source": [
    "### 스토리 나눠서 분석해보기"
   ]
  },
  {
   "cell_type": "markdown",
   "id": "specified-delay",
   "metadata": {},
   "source": [
    "1. 책소개 (story) "
   ]
  },
  {
   "cell_type": "code",
   "execution_count": 13,
   "id": "c0b27dc5",
   "metadata": {},
   "outputs": [],
   "source": [
    "stories = df['story']\n",
    "# df['story'] + df['review'] + df['piece']"
   ]
  },
  {
   "cell_type": "code",
   "execution_count": 14,
   "id": "center-asthma",
   "metadata": {},
   "outputs": [
    {
     "name": "stderr",
     "output_type": "stream",
     "text": [
      "100%|██████████| 8/8 [04:51<00:00, 36.44s/it]\n"
     ]
    }
   ],
   "source": [
    "limit=20; start=4; step=2;\n",
    "\n",
    "model_list, coherence_values = compute_coherence_values(stories, limit=limit, start=start, step=step)"
   ]
  },
  {
   "cell_type": "code",
   "execution_count": 15,
   "id": "hungry-motel",
   "metadata": {
    "scrolled": true
   },
   "outputs": [
    {
     "name": "stdout",
     "output_type": "stream",
     "text": [
      "{4: 0.2901921210423205, 6: 0.3002358121415844, 8: 0.2954453584367909, 10: 0.3060864642646407, 12: 0.32318150117756983, 14: 0.3107827359802199, 16: 0.29876801427084987, 18: 0.30196198534756163}\n"
     ]
    }
   ],
   "source": [
    "x = range(start, limit, step)\n",
    "\n",
    "find_model = {}\n",
    "for m,c in zip(x, coherence_values):\n",
    "    find_model[m] = c\n",
    "print(find_model)"
   ]
  },
  {
   "cell_type": "code",
   "execution_count": 16,
   "id": "cognitive-scoop",
   "metadata": {},
   "outputs": [
    {
     "data": {
      "image/png": "[encoded data removed]",
      "text/plain": [
       "<Figure size 432x288 with 1 Axes>"
      ]
     },
     "metadata": {
      "needs_background": "light"
     },
     "output_type": "display_data"
    }
   ],
   "source": [
    "x = find_model.keys()\n",
    "y = find_model.values()\n",
    "\n",
    "plt.plot(x, y)\n",
    "plt.show()"
   ]
  },
  {
   "cell_type": "code",
   "execution_count": 17,
   "id": "bored-filter",
   "metadata": {},
   "outputs": [
    {
     "name": "stdout",
     "output_type": "stream",
     "text": [
      "<class 'pandas.core.frame.DataFrame'>\n"
     ]
    }
   ],
   "source": [
    "max_model = max(find_model,key=find_model.get)\n",
    "texts, corpus, ldamallet, coherence_ldamallet = lda_coh(stories, num_topics=max_model)\n",
    "data_words = lda_coh(stories, num_topics=max_model, data_word='stop')\n",
    "df_topic_sents_keywords = format_topics_sentences(texts, corpus, data_words, ldamallet, Data=df)"
   ]
  },
  {
   "cell_type": "code",
   "execution_count": 18,
   "id": "excessive-trout",
   "metadata": {},
   "outputs": [
    {
     "data": {
      "text/plain": [
       "0.32318150117756983"
      ]
     },
     "execution_count": 18,
     "metadata": {},
     "output_type": "execute_result"
    }
   ],
   "source": [
    "max(find_model.values())"
   ]
  },
  {
   "cell_type": "code",
   "execution_count": 19,
   "id": "1f072319",
   "metadata": {},
   "outputs": [],
   "source": [
    "# Format\n",
    "df_topic_story = df_topic_sents_keywords\n",
    "\n",
    "# 각 문서에 대한 토픽 내림차순\n",
    "df_topic_sort=df_topic_story.sort_values(by=['Dominant_Topic'])"
   ]
  },
  {
   "cell_type": "code",
   "execution_count": 20,
   "id": "88001b06",
   "metadata": {},
   "outputs": [],
   "source": [
    "# Group top 5 sentences under each topic\n",
    "sent_topics_sorteddf_mallet = pd.DataFrame()\n",
    "\n",
    "sent_topics_outdf_grpd = df_topic_sents_keywords.groupby('Dominant_Topic')\n",
    "\n",
    "for i, grp in sent_topics_outdf_grpd:\n",
    "    sent_topics_sorteddf_mallet = pd.concat([sent_topics_sorteddf_mallet, \n",
    "                                             grp.sort_values(['Perc_Contribution'], ascending=[0]).head(1)], \n",
    "                                            axis=0)\n"
   ]
  },
  {
   "cell_type": "code",
   "execution_count": 21,
   "id": "6de7a57f",
   "metadata": {
    "scrolled": false
   },
   "outputs": [
    {
     "data": {
      "text/html": [
       "<div>\n",
       "<style scoped>\n",
       "    .dataframe tbody tr th:only-of-type {\n",
       "        vertical-align: middle;\n",
       "    }\n",
       "\n",
       "    .dataframe tbody tr th {\n",
       "        vertical-align: top;\n",
       "    }\n",
       "\n",
       "    .dataframe thead th {\n",
       "        text-align: right;\n",
       "    }\n",
       "</style>\n",
       "<table border=\"1\" class=\"dataframe\">\n",
       "  <thead>\n",
       "    <tr style=\"text-align: right;\">\n",
       "      <th></th>\n",
       "      <th>Perc_Contribution</th>\n",
       "      <th>Dominant_Topic</th>\n",
       "      <th>Topic_Keywords</th>\n",
       "    </tr>\n",
       "  </thead>\n",
       "  <tbody>\n",
       "    <tr>\n",
       "      <th>565</th>\n",
       "      <td>0.5473</td>\n",
       "      <td>0.0</td>\n",
       "      <td>시간, 친구, 아이, 청소년, 엄마, 꿈, 생각, 소년, 날, 감정</td>\n",
       "    </tr>\n",
       "    <tr>\n",
       "      <th>172</th>\n",
       "      <td>0.4796</td>\n",
       "      <td>1.0</td>\n",
       "      <td>사람, 삶, 마음, 말, 사랑, 세상, 소녀, 자신, 스스로, 자리</td>\n",
       "    </tr>\n",
       "    <tr>\n",
       "      <th>274</th>\n",
       "      <td>0.6295</td>\n",
       "      <td>2.0</td>\n",
       "      <td>세계, 젊은, 새로운, 동시, 판타지, 이상, 여름, 주목, 영화, 판매</td>\n",
       "    </tr>\n",
       "    <tr>\n",
       "      <th>250</th>\n",
       "      <td>0.5240</td>\n",
       "      <td>3.0</td>\n",
       "      <td>사랑, 인간, 대표, 운명, 화, 세기, 과정, 묘사, 화제, 지닌</td>\n",
       "    </tr>\n",
       "    <tr>\n",
       "      <th>171</th>\n",
       "      <td>0.3576</td>\n",
       "      <td>4.0</td>\n",
       "      <td>그녀, 남자, 자신, 일, 여자, 서로, 시작, 결혼, 날, 몸</td>\n",
       "    </tr>\n",
       "    <tr>\n",
       "      <th>0</th>\n",
       "      <td>0.5606</td>\n",
       "      <td>5.0</td>\n",
       "      <td>여성, 가족, 아버지, 삶, 향, 살, 아들, 딸, 발견, 시대</td>\n",
       "    </tr>\n",
       "    <tr>\n",
       "      <th>48</th>\n",
       "      <td>0.4033</td>\n",
       "      <td>6.0</td>\n",
       "      <td>집, 세계, 삶, 편의, 사회, 의미, 현실, 시대, 발표, 다양한</td>\n",
       "    </tr>\n",
       "    <tr>\n",
       "      <th>444</th>\n",
       "      <td>0.6387</td>\n",
       "      <td>7.0</td>\n",
       "      <td>자신, 존재, 새로운, 주인공, 누구, 대상, 모습, 서사, 목소리, 손</td>\n",
       "    </tr>\n",
       "    <tr>\n",
       "      <th>236</th>\n",
       "      <td>0.6251</td>\n",
       "      <td>8.0</td>\n",
       "      <td>그린, 역사, 조선, 달, 배경, 로맨스, 왕, 여인, 전개, 차</td>\n",
       "    </tr>\n",
       "    <tr>\n",
       "      <th>639</th>\n",
       "      <td>0.4070</td>\n",
       "      <td>9.0</td>\n",
       "      <td>사건, 미스터리, 스릴러, 살인, 심리, 경찰, 매력, 서점, 반전, 충격</td>\n",
       "    </tr>\n",
       "    <tr>\n",
       "      <th>111</th>\n",
       "      <td>0.5541</td>\n",
       "      <td>10.0</td>\n",
       "      <td>죽음, 전쟁, 처음, 아름다운, 마지막, 도시, 상황, 모습, 소재, 사고</td>\n",
       "    </tr>\n",
       "    <tr>\n",
       "      <th>326</th>\n",
       "      <td>0.6530</td>\n",
       "      <td>11.0</td>\n",
       "      <td>시작, 기억, 사이, 일상, 눈, 밤, 과거, 큰, 현재, 순간</td>\n",
       "    </tr>\n",
       "  </tbody>\n",
       "</table>\n",
       "</div>"
      ],
      "text/plain": [
       "     Perc_Contribution  Dominant_Topic  \\\n",
       "565             0.5473             0.0   \n",
       "172             0.4796             1.0   \n",
       "274             0.6295             2.0   \n",
       "250             0.5240             3.0   \n",
       "171             0.3576             4.0   \n",
       "0               0.5606             5.0   \n",
       "48              0.4033             6.0   \n",
       "444             0.6387             7.0   \n",
       "236             0.6251             8.0   \n",
       "639             0.4070             9.0   \n",
       "111             0.5541            10.0   \n",
       "326             0.6530            11.0   \n",
       "\n",
       "                                Topic_Keywords  \n",
       "565      시간, 친구, 아이, 청소년, 엄마, 꿈, 생각, 소년, 날, 감정  \n",
       "172      사람, 삶, 마음, 말, 사랑, 세상, 소녀, 자신, 스스로, 자리  \n",
       "274   세계, 젊은, 새로운, 동시, 판타지, 이상, 여름, 주목, 영화, 판매  \n",
       "250      사랑, 인간, 대표, 운명, 화, 세기, 과정, 묘사, 화제, 지닌  \n",
       "171        그녀, 남자, 자신, 일, 여자, 서로, 시작, 결혼, 날, 몸  \n",
       "0          여성, 가족, 아버지, 삶, 향, 살, 아들, 딸, 발견, 시대  \n",
       "48       집, 세계, 삶, 편의, 사회, 의미, 현실, 시대, 발표, 다양한  \n",
       "444   자신, 존재, 새로운, 주인공, 누구, 대상, 모습, 서사, 목소리, 손  \n",
       "236       그린, 역사, 조선, 달, 배경, 로맨스, 왕, 여인, 전개, 차  \n",
       "639  사건, 미스터리, 스릴러, 살인, 심리, 경찰, 매력, 서점, 반전, 충격  \n",
       "111  죽음, 전쟁, 처음, 아름다운, 마지막, 도시, 상황, 모습, 소재, 사고  \n",
       "326        시작, 기억, 사이, 일상, 눈, 밤, 과거, 큰, 현재, 순간  "
      ]
     },
     "execution_count": 21,
     "metadata": {},
     "output_type": "execute_result"
    }
   ],
   "source": [
    "sent_topics_sorteddf_mallet[['Perc_Contribution', 'Dominant_Topic', 'Topic_Keywords']]"
   ]
  },
  {
   "cell_type": "code",
   "execution_count": 22,
   "id": "5134cea8",
   "metadata": {
    "scrolled": false
   },
   "outputs": [
    {
     "data": {
      "text/plain": [
       "Dominant_Topic\n",
       "0.0     55\n",
       "1.0     47\n",
       "2.0     54\n",
       "3.0     63\n",
       "4.0     60\n",
       "5.0     57\n",
       "6.0     74\n",
       "7.0     43\n",
       "8.0     40\n",
       "9.0     77\n",
       "10.0    39\n",
       "11.0    36\n",
       "dtype: int64"
      ]
     },
     "execution_count": 22,
     "metadata": {},
     "output_type": "execute_result"
    }
   ],
   "source": [
    "df_topic_story.value_counts('Dominant_Topic').sort_index()"
   ]
  },
  {
   "cell_type": "markdown",
   "id": "intimate-yemen",
   "metadata": {},
   "source": [
    "2. 서평 (review) "
   ]
  },
  {
   "cell_type": "code",
   "execution_count": 23,
   "id": "divided-dryer",
   "metadata": {},
   "outputs": [],
   "source": [
    "stories = df['review']\n",
    "# df['story'] + df['review'] + df['piece']"
   ]
  },
  {
   "cell_type": "code",
   "execution_count": 24,
   "id": "brilliant-endorsement",
   "metadata": {},
   "outputs": [
    {
     "name": "stderr",
     "output_type": "stream",
     "text": [
      "100%|██████████| 8/8 [06:43<00:00, 50.48s/it]\n"
     ]
    }
   ],
   "source": [
    "limit=20; start=4; step=2;\n",
    "\n",
    "model_list, coherence_values = compute_coherence_values(stories, limit=limit, start=start, step=step)"
   ]
  },
  {
   "cell_type": "code",
   "execution_count": 25,
   "id": "happy-ceramic",
   "metadata": {
    "scrolled": true
   },
   "outputs": [
    {
     "name": "stdout",
     "output_type": "stream",
     "text": [
      "{4: 0.3220955066837471, 6: 0.3653328674529936, 8: 0.39012893644947433, 10: 0.4090067934353466, 12: 0.389039125408187, 14: 0.39991153690384246, 16: 0.4057744946471859, 18: 0.4029007521406507}\n"
     ]
    }
   ],
   "source": [
    "x = range(start, limit, step)\n",
    "\n",
    "find_model = {}\n",
    "for m,c in zip(x, coherence_values):\n",
    "    find_model[m] = c\n",
    "print(find_model)"
   ]
  },
  {
   "cell_type": "code",
   "execution_count": 26,
   "id": "reserved-ticket",
   "metadata": {},
   "outputs": [
    {
     "data": {
      "image/png": "[encoded data removed]",
      "text/plain": [
       "<Figure size 432x288 with 1 Axes>"
      ]
     },
     "metadata": {
      "needs_background": "light"
     },
     "output_type": "display_data"
    }
   ],
   "source": [
    "x = find_model.keys()\n",
    "y = find_model.values()\n",
    "\n",
    "plt.plot(x, y)\n",
    "plt.show()"
   ]
  },
  {
   "cell_type": "code",
   "execution_count": 27,
   "id": "sublime-jackson",
   "metadata": {},
   "outputs": [
    {
     "name": "stdout",
     "output_type": "stream",
     "text": [
      "<class 'pandas.core.frame.DataFrame'>\n"
     ]
    }
   ],
   "source": [
    "max_model = max(find_model,key=find_model.get)\n",
    "texts, corpus, ldamallet, coherence_ldamallet = lda_coh(stories, num_topics=max_model)\n",
    "data_words = lda_coh(stories, num_topics=max_model, data_word='stop')\n",
    "df_topic_sents_keywords = format_topics_sentences(texts, corpus, data_words, ldamallet, Data=df)"
   ]
  },
  {
   "cell_type": "code",
   "execution_count": 28,
   "id": "missing-permission",
   "metadata": {},
   "outputs": [
    {
     "data": {
      "text/plain": [
       "0.4090067934353466"
      ]
     },
     "execution_count": 28,
     "metadata": {},
     "output_type": "execute_result"
    }
   ],
   "source": [
    "max(find_model.values())"
   ]
  },
  {
   "cell_type": "code",
   "execution_count": 29,
   "id": "consistent-undergraduate",
   "metadata": {},
   "outputs": [],
   "source": [
    "# Format\n",
    "df_topic_story = df_topic_sents_keywords\n",
    "\n",
    "# 각 문서에 대한 토픽 내림차순\n",
    "df_topic_sort=df_topic_story.sort_values(by=['Dominant_Topic'])"
   ]
  },
  {
   "cell_type": "code",
   "execution_count": 30,
   "id": "driven-draft",
   "metadata": {},
   "outputs": [],
   "source": [
    "# Group top 5 sentences under each topic\n",
    "sent_topics_sorteddf_mallet = pd.DataFrame()\n",
    "\n",
    "sent_topics_outdf_grpd = df_topic_sents_keywords.groupby('Dominant_Topic')\n",
    "\n",
    "for i, grp in sent_topics_outdf_grpd:\n",
    "    sent_topics_sorteddf_mallet = pd.concat([sent_topics_sorteddf_mallet, \n",
    "                                             grp.sort_values(['Perc_Contribution'], ascending=[0]).head(1)], \n",
    "                                            axis=0)\n"
   ]
  },
  {
   "cell_type": "code",
   "execution_count": 31,
   "id": "worth-concentration",
   "metadata": {
    "scrolled": false
   },
   "outputs": [
    {
     "data": {
      "text/html": [
       "<div>\n",
       "<style scoped>\n",
       "    .dataframe tbody tr th:only-of-type {\n",
       "        vertical-align: middle;\n",
       "    }\n",
       "\n",
       "    .dataframe tbody tr th {\n",
       "        vertical-align: top;\n",
       "    }\n",
       "\n",
       "    .dataframe thead th {\n",
       "        text-align: right;\n",
       "    }\n",
       "</style>\n",
       "<table border=\"1\" class=\"dataframe\">\n",
       "  <thead>\n",
       "    <tr style=\"text-align: right;\">\n",
       "      <th></th>\n",
       "      <th>Perc_Contribution</th>\n",
       "      <th>Dominant_Topic</th>\n",
       "      <th>Topic_Keywords</th>\n",
       "    </tr>\n",
       "  </thead>\n",
       "  <tbody>\n",
       "    <tr>\n",
       "      <th>418</th>\n",
       "      <td>0.7919</td>\n",
       "      <td>0.0</td>\n",
       "      <td>그녀, 눈, 몸, 남자, 손, 얼굴, 여자, 소리, 입, 처음</td>\n",
       "    </tr>\n",
       "    <tr>\n",
       "      <th>97</th>\n",
       "      <td>0.8476</td>\n",
       "      <td>1.0</td>\n",
       "      <td>현재, 전쟁, 사이, 과거, 역사, 임, 인간, 시, 명, 현실</td>\n",
       "    </tr>\n",
       "    <tr>\n",
       "      <th>489</th>\n",
       "      <td>0.6528</td>\n",
       "      <td>2.0</td>\n",
       "      <td>사건, 미스터리, 남자, 반전, 진실, 살인, 스릴러, 상, 범인, 형사</td>\n",
       "    </tr>\n",
       "    <tr>\n",
       "      <th>77</th>\n",
       "      <td>0.5600</td>\n",
       "      <td>3.0</td>\n",
       "      <td>집, 서로, 시간, 순간, 감정, 쪽, 존재, 기억, 관계, 이해</td>\n",
       "    </tr>\n",
       "    <tr>\n",
       "      <th>485</th>\n",
       "      <td>0.6573</td>\n",
       "      <td>4.0</td>\n",
       "      <td>인간, 시대, 대표, 역사, 세기, 의미, 사회, 중국, 주의, 의식</td>\n",
       "    </tr>\n",
       "    <tr>\n",
       "      <th>108</th>\n",
       "      <td>0.6381</td>\n",
       "      <td>5.0</td>\n",
       "      <td>인간, 주인공, 존재, 사회, 현실, 미래, 새로운, 밤, 등장, 우주</td>\n",
       "    </tr>\n",
       "    <tr>\n",
       "      <th>111</th>\n",
       "      <td>0.8991</td>\n",
       "      <td>6.0</td>\n",
       "      <td>언어, 글, 사회, 결정, 새로운, 경험, 시대, 시선, 다양한, 판</td>\n",
       "    </tr>\n",
       "    <tr>\n",
       "      <th>293</th>\n",
       "      <td>0.5633</td>\n",
       "      <td>7.0</td>\n",
       "      <td>아이, 친구, 시간, 엄마, 청소년, 꿈, 소년, 학교, 가족, 고민</td>\n",
       "    </tr>\n",
       "    <tr>\n",
       "      <th>302</th>\n",
       "      <td>0.9384</td>\n",
       "      <td>8.0</td>\n",
       "      <td>조선, 로맨스, 판타지, 세월, 여인, 감동, 향, 웹소설, 제작, 돌</td>\n",
       "    </tr>\n",
       "    <tr>\n",
       "      <th>172</th>\n",
       "      <td>0.6314</td>\n",
       "      <td>9.0</td>\n",
       "      <td>죽음, 아버지, 살, 가족, 아들, 인생, 날, 사실, 운명, 도시</td>\n",
       "    </tr>\n",
       "  </tbody>\n",
       "</table>\n",
       "</div>"
      ],
      "text/plain": [
       "     Perc_Contribution  Dominant_Topic  \\\n",
       "418             0.7919             0.0   \n",
       "97              0.8476             1.0   \n",
       "489             0.6528             2.0   \n",
       "77              0.5600             3.0   \n",
       "485             0.6573             4.0   \n",
       "108             0.6381             5.0   \n",
       "111             0.8991             6.0   \n",
       "293             0.5633             7.0   \n",
       "302             0.9384             8.0   \n",
       "172             0.6314             9.0   \n",
       "\n",
       "                               Topic_Keywords  \n",
       "418        그녀, 눈, 몸, 남자, 손, 얼굴, 여자, 소리, 입, 처음  \n",
       "97        현재, 전쟁, 사이, 과거, 역사, 임, 인간, 시, 명, 현실  \n",
       "489  사건, 미스터리, 남자, 반전, 진실, 살인, 스릴러, 상, 범인, 형사  \n",
       "77       집, 서로, 시간, 순간, 감정, 쪽, 존재, 기억, 관계, 이해  \n",
       "485    인간, 시대, 대표, 역사, 세기, 의미, 사회, 중국, 주의, 의식  \n",
       "108   인간, 주인공, 존재, 사회, 현실, 미래, 새로운, 밤, 등장, 우주  \n",
       "111    언어, 글, 사회, 결정, 새로운, 경험, 시대, 시선, 다양한, 판  \n",
       "293    아이, 친구, 시간, 엄마, 청소년, 꿈, 소년, 학교, 가족, 고민  \n",
       "302   조선, 로맨스, 판타지, 세월, 여인, 감동, 향, 웹소설, 제작, 돌  \n",
       "172     죽음, 아버지, 살, 가족, 아들, 인생, 날, 사실, 운명, 도시  "
      ]
     },
     "execution_count": 31,
     "metadata": {},
     "output_type": "execute_result"
    }
   ],
   "source": [
    "sent_topics_sorteddf_mallet[['Perc_Contribution', 'Dominant_Topic', 'Topic_Keywords']]"
   ]
  },
  {
   "cell_type": "code",
   "execution_count": 32,
   "id": "spare-violin",
   "metadata": {
    "scrolled": false
   },
   "outputs": [
    {
     "data": {
      "text/plain": [
       "Dominant_Topic\n",
       "0.0     48\n",
       "1.0     29\n",
       "2.0     98\n",
       "3.0    101\n",
       "4.0     86\n",
       "5.0     71\n",
       "6.0     14\n",
       "7.0     91\n",
       "8.0     43\n",
       "9.0     64\n",
       "dtype: int64"
      ]
     },
     "execution_count": 32,
     "metadata": {},
     "output_type": "execute_result"
    }
   ],
   "source": [
    "df_topic_story.value_counts('Dominant_Topic').sort_index()"
   ]
  },
  {
   "cell_type": "markdown",
   "id": "labeled-wichita",
   "metadata": {},
   "source": [
    "3. 책내용 일부 (piece) "
   ]
  },
  {
   "cell_type": "code",
   "execution_count": 33,
   "id": "insured-spokesman",
   "metadata": {},
   "outputs": [],
   "source": [
    "stories = df['piece']\n",
    "# df['story'] + df['review'] + df['piece']"
   ]
  },
  {
   "cell_type": "code",
   "execution_count": 34,
   "id": "cooked-windsor",
   "metadata": {},
   "outputs": [
    {
     "name": "stderr",
     "output_type": "stream",
     "text": [
      "100%|██████████| 8/8 [05:34<00:00, 41.80s/it]\n"
     ]
    }
   ],
   "source": [
    "limit=20; start=4; step=2;\n",
    "\n",
    "model_list, coherence_values = compute_coherence_values(stories, limit=limit, start=start, step=step)"
   ]
  },
  {
   "cell_type": "code",
   "execution_count": 35,
   "id": "substantial-thousand",
   "metadata": {
    "scrolled": true
   },
   "outputs": [
    {
     "name": "stdout",
     "output_type": "stream",
     "text": [
      "{4: 0.3385571328156868, 6: 0.31194339096639573, 8: 0.3295811114329128, 10: 0.32734448925532644, 12: 0.3235091357706808, 14: 0.3246693577455429, 16: 0.31413986996719123, 18: 0.32799673719900535}\n"
     ]
    }
   ],
   "source": [
    "x = range(start, limit, step)\n",
    "\n",
    "find_model = {}\n",
    "for m,c in zip(x, coherence_values):\n",
    "    find_model[m] = c\n",
    "print(find_model)"
   ]
  },
  {
   "cell_type": "code",
   "execution_count": 36,
   "id": "creative-shoot",
   "metadata": {},
   "outputs": [
    {
     "data": {
      "image/png": "[encoded data removed]",
      "text/plain": [
       "<Figure size 432x288 with 1 Axes>"
      ]
     },
     "metadata": {
      "needs_background": "light"
     },
     "output_type": "display_data"
    }
   ],
   "source": [
    "x = find_model.keys()\n",
    "y = find_model.values()\n",
    "\n",
    "plt.plot(x, y)\n",
    "plt.show()"
   ]
  },
  {
   "cell_type": "code",
   "execution_count": 37,
   "id": "stuffed-poetry",
   "metadata": {},
   "outputs": [
    {
     "name": "stdout",
     "output_type": "stream",
     "text": [
      "<class 'pandas.core.frame.DataFrame'>\n"
     ]
    }
   ],
   "source": [
    "max_model = max(find_model,key=find_model.get)\n",
    "texts, corpus, ldamallet, coherence_ldamallet = lda_coh(stories, num_topics=max_model)\n",
    "data_words = lda_coh(stories, num_topics=max_model, data_word='stop')\n",
    "df_topic_sents_keywords = format_topics_sentences(texts, corpus, data_words, ldamallet, Data=df)"
   ]
  },
  {
   "cell_type": "code",
   "execution_count": 38,
   "id": "engaged-integral",
   "metadata": {},
   "outputs": [
    {
     "data": {
      "text/plain": [
       "0.3385571328156868"
      ]
     },
     "execution_count": 38,
     "metadata": {},
     "output_type": "execute_result"
    }
   ],
   "source": [
    "max(find_model.values())"
   ]
  },
  {
   "cell_type": "code",
   "execution_count": 39,
   "id": "worth-champion",
   "metadata": {},
   "outputs": [],
   "source": [
    "# Format\n",
    "df_topic_story = df_topic_sents_keywords\n",
    "\n",
    "# 각 문서에 대한 토픽 내림차순\n",
    "df_topic_sort=df_topic_story.sort_values(by=['Dominant_Topic'])"
   ]
  },
  {
   "cell_type": "code",
   "execution_count": 40,
   "id": "outstanding-deployment",
   "metadata": {},
   "outputs": [],
   "source": [
    "# Group top 5 sentences under each topic\n",
    "sent_topics_sorteddf_mallet = pd.DataFrame()\n",
    "\n",
    "sent_topics_outdf_grpd = df_topic_sents_keywords.groupby('Dominant_Topic')\n",
    "\n",
    "for i, grp in sent_topics_outdf_grpd:\n",
    "    sent_topics_sorteddf_mallet = pd.concat([sent_topics_sorteddf_mallet, \n",
    "                                             grp.sort_values(['Perc_Contribution'], ascending=[0]).head(1)], \n",
    "                                            axis=0)\n"
   ]
  },
  {
   "cell_type": "code",
   "execution_count": 41,
   "id": "artistic-disclaimer",
   "metadata": {
    "scrolled": false
   },
   "outputs": [
    {
     "data": {
      "text/html": [
       "<div>\n",
       "<style scoped>\n",
       "    .dataframe tbody tr th:only-of-type {\n",
       "        vertical-align: middle;\n",
       "    }\n",
       "\n",
       "    .dataframe tbody tr th {\n",
       "        vertical-align: top;\n",
       "    }\n",
       "\n",
       "    .dataframe thead th {\n",
       "        text-align: right;\n",
       "    }\n",
       "</style>\n",
       "<table border=\"1\" class=\"dataframe\">\n",
       "  <thead>\n",
       "    <tr style=\"text-align: right;\">\n",
       "      <th></th>\n",
       "      <th>Perc_Contribution</th>\n",
       "      <th>Dominant_Topic</th>\n",
       "      <th>Topic_Keywords</th>\n",
       "    </tr>\n",
       "  </thead>\n",
       "  <tbody>\n",
       "    <tr>\n",
       "      <th>327</th>\n",
       "      <td>0.7879</td>\n",
       "      <td>0.0</td>\n",
       "      <td>그녀, 눈, 얼굴, 손, 소리, 몸, 머리, 목소리, 입, 고개</td>\n",
       "    </tr>\n",
       "    <tr>\n",
       "      <th>341</th>\n",
       "      <td>0.5739</td>\n",
       "      <td>1.0</td>\n",
       "      <td>당신, 인간, 사실, 여자, 존재, 삶, 세계, 죽음, 남자, 순간</td>\n",
       "    </tr>\n",
       "    <tr>\n",
       "      <th>143</th>\n",
       "      <td>0.5373</td>\n",
       "      <td>2.0</td>\n",
       "      <td>마음, 엄마, 사랑, 세상, 살, 나를, 날, 집, 아이, 건</td>\n",
       "    </tr>\n",
       "    <tr>\n",
       "      <th>4</th>\n",
       "      <td>0.8376</td>\n",
       "      <td>3.0</td>\n",
       "      <td>시간, 요, 여기, 몇, 시작, 꿈, 줄, 끝, 돈, 정말</td>\n",
       "    </tr>\n",
       "  </tbody>\n",
       "</table>\n",
       "</div>"
      ],
      "text/plain": [
       "     Perc_Contribution  Dominant_Topic                         Topic_Keywords\n",
       "327             0.7879             0.0    그녀, 눈, 얼굴, 손, 소리, 몸, 머리, 목소리, 입, 고개\n",
       "341             0.5739             1.0  당신, 인간, 사실, 여자, 존재, 삶, 세계, 죽음, 남자, 순간\n",
       "143             0.5373             2.0     마음, 엄마, 사랑, 세상, 살, 나를, 날, 집, 아이, 건\n",
       "4               0.8376             3.0       시간, 요, 여기, 몇, 시작, 꿈, 줄, 끝, 돈, 정말"
      ]
     },
     "execution_count": 41,
     "metadata": {},
     "output_type": "execute_result"
    }
   ],
   "source": [
    "sent_topics_sorteddf_mallet[['Perc_Contribution', 'Dominant_Topic', 'Topic_Keywords']]"
   ]
  },
  {
   "cell_type": "code",
   "execution_count": 42,
   "id": "crude-client",
   "metadata": {
    "scrolled": true
   },
   "outputs": [
    {
     "data": {
      "text/plain": [
       "Dominant_Topic\n",
       "0.0    171\n",
       "1.0    192\n",
       "2.0    200\n",
       "3.0     82\n",
       "dtype: int64"
      ]
     },
     "execution_count": 42,
     "metadata": {},
     "output_type": "execute_result"
    }
   ],
   "source": [
    "df_topic_story.value_counts('Dominant_Topic').sort_index()"
   ]
  },
  {
   "cell_type": "markdown",
   "id": "conceptual-admission",
   "metadata": {},
   "source": [
    "4. 책소개 (story) + 서평 (review)"
   ]
  },
  {
   "cell_type": "code",
   "execution_count": 43,
   "id": "sharing-circumstances",
   "metadata": {},
   "outputs": [],
   "source": [
    "stories = df['story'] + df['review']\n",
    "# df['story'] + df['review'] + df['piece']"
   ]
  },
  {
   "cell_type": "code",
   "execution_count": 44,
   "id": "talented-astrology",
   "metadata": {},
   "outputs": [
    {
     "name": "stderr",
     "output_type": "stream",
     "text": [
      "100%|██████████| 8/8 [07:41<00:00, 57.65s/it]\n"
     ]
    }
   ],
   "source": [
    "limit=20; start=4; step=2;\n",
    "\n",
    "model_list, coherence_values = compute_coherence_values(stories, limit=limit, start=start, step=step)"
   ]
  },
  {
   "cell_type": "code",
   "execution_count": 45,
   "id": "frequent-crawford",
   "metadata": {
    "scrolled": true
   },
   "outputs": [
    {
     "name": "stdout",
     "output_type": "stream",
     "text": [
      "{4: 0.3373586186626695, 6: 0.39059541839388295, 8: 0.38586105913263724, 10: 0.4201821884276328, 12: 0.3973658003938066, 14: 0.4156957421963203, 16: 0.400227514787666, 18: 0.3863908878994455}\n"
     ]
    }
   ],
   "source": [
    "x = range(start, limit, step)\n",
    "\n",
    "find_model = {}\n",
    "for m,c in zip(x, coherence_values):\n",
    "    find_model[m] = c\n",
    "print(find_model)"
   ]
  },
  {
   "cell_type": "code",
   "execution_count": 46,
   "id": "incoming-treat",
   "metadata": {},
   "outputs": [
    {
     "data": {
      "image/png": "[encoded data removed]",
      "text/plain": [
       "<Figure size 432x288 with 1 Axes>"
      ]
     },
     "metadata": {
      "needs_background": "light"
     },
     "output_type": "display_data"
    }
   ],
   "source": [
    "x = find_model.keys()\n",
    "y = find_model.values()\n",
    "\n",
    "plt.plot(x, y)\n",
    "plt.show()"
   ]
  },
  {
   "cell_type": "code",
   "execution_count": 47,
   "id": "improving-longer",
   "metadata": {},
   "outputs": [
    {
     "name": "stdout",
     "output_type": "stream",
     "text": [
      "<class 'pandas.core.frame.DataFrame'>\n"
     ]
    }
   ],
   "source": [
    "max_model = max(find_model,key=find_model.get)\n",
    "texts, corpus, ldamallet, coherence_ldamallet = lda_coh(stories, num_topics=max_model)\n",
    "data_words = lda_coh(stories, num_topics=max_model, data_word='stop')\n",
    "df_topic_sents_keywords = format_topics_sentences(texts, corpus, data_words, ldamallet, Data=df)"
   ]
  },
  {
   "cell_type": "code",
   "execution_count": 48,
   "id": "regulated-lodging",
   "metadata": {},
   "outputs": [
    {
     "data": {
      "text/plain": [
       "0.4201821884276328"
      ]
     },
     "execution_count": 48,
     "metadata": {},
     "output_type": "execute_result"
    }
   ],
   "source": [
    "max(find_model.values())"
   ]
  },
  {
   "cell_type": "code",
   "execution_count": 49,
   "id": "painted-thermal",
   "metadata": {},
   "outputs": [],
   "source": [
    "# Format\n",
    "df_topic_story = df_topic_sents_keywords\n",
    "\n",
    "# 각 문서에 대한 토픽 내림차순\n",
    "df_topic_sort=df_topic_story.sort_values(by=['Dominant_Topic'])"
   ]
  },
  {
   "cell_type": "code",
   "execution_count": 50,
   "id": "collaborative-drama",
   "metadata": {},
   "outputs": [],
   "source": [
    "# Group top 5 sentences under each topic\n",
    "sent_topics_sorteddf_mallet = pd.DataFrame()\n",
    "\n",
    "sent_topics_outdf_grpd = df_topic_sents_keywords.groupby('Dominant_Topic')\n",
    "\n",
    "for i, grp in sent_topics_outdf_grpd:\n",
    "    sent_topics_sorteddf_mallet = pd.concat([sent_topics_sorteddf_mallet, \n",
    "                                             grp.sort_values(['Perc_Contribution'], ascending=[0]).head(1)], \n",
    "                                            axis=0)\n"
   ]
  },
  {
   "cell_type": "code",
   "execution_count": 51,
   "id": "peripheral-migration",
   "metadata": {
    "scrolled": false
   },
   "outputs": [
    {
     "data": {
      "text/html": [
       "<div>\n",
       "<style scoped>\n",
       "    .dataframe tbody tr th:only-of-type {\n",
       "        vertical-align: middle;\n",
       "    }\n",
       "\n",
       "    .dataframe tbody tr th {\n",
       "        vertical-align: top;\n",
       "    }\n",
       "\n",
       "    .dataframe thead th {\n",
       "        text-align: right;\n",
       "    }\n",
       "</style>\n",
       "<table border=\"1\" class=\"dataframe\">\n",
       "  <thead>\n",
       "    <tr style=\"text-align: right;\">\n",
       "      <th></th>\n",
       "      <th>Perc_Contribution</th>\n",
       "      <th>Dominant_Topic</th>\n",
       "      <th>Topic_Keywords</th>\n",
       "    </tr>\n",
       "  </thead>\n",
       "  <tbody>\n",
       "    <tr>\n",
       "      <th>620</th>\n",
       "      <td>0.8156</td>\n",
       "      <td>0.0</td>\n",
       "      <td>현실, 영혼, 여행, 시, 밤, 사이, 서사, 환상, 시대, 재난</td>\n",
       "    </tr>\n",
       "    <tr>\n",
       "      <th>172</th>\n",
       "      <td>0.7727</td>\n",
       "      <td>1.0</td>\n",
       "      <td>죽음, 아버지, 존재, 아들, 쪽, 마을, 가족, 소녀, 도시, 사고</td>\n",
       "    </tr>\n",
       "    <tr>\n",
       "      <th>58</th>\n",
       "      <td>0.5469</td>\n",
       "      <td>2.0</td>\n",
       "      <td>집, 기억, 젊은, 서로, 사실, 순간, 사이, 존재, 과거, 방식</td>\n",
       "    </tr>\n",
       "    <tr>\n",
       "      <th>418</th>\n",
       "      <td>0.6937</td>\n",
       "      <td>3.0</td>\n",
       "      <td>그녀, 남자, 여자, 눈, 몸, 당신, 기억, 얼굴, 손, 입</td>\n",
       "    </tr>\n",
       "    <tr>\n",
       "      <th>302</th>\n",
       "      <td>0.9503</td>\n",
       "      <td>4.0</td>\n",
       "      <td>역사, 조선, 왕, 여인, 꽃, 로맨스, 향, 운명, 그녀, 감동</td>\n",
       "    </tr>\n",
       "    <tr>\n",
       "      <th>489</th>\n",
       "      <td>0.7275</td>\n",
       "      <td>5.0</td>\n",
       "      <td>사건, 미스터리, 진실, 살인, 스릴러, 반전, 경찰, 범인, 형사, 추리</td>\n",
       "    </tr>\n",
       "    <tr>\n",
       "      <th>304</th>\n",
       "      <td>0.7123</td>\n",
       "      <td>6.0</td>\n",
       "      <td>재미, 이상, 인생, 판타지, 매력, 만큼, 비밀, 수학, 소재, 세월</td>\n",
       "    </tr>\n",
       "    <tr>\n",
       "      <th>111</th>\n",
       "      <td>0.8956</td>\n",
       "      <td>7.0</td>\n",
       "      <td>시대, 전쟁, 대표, 사회, 역사, 언어, 결정, 판, 의미, 글</td>\n",
       "    </tr>\n",
       "    <tr>\n",
       "      <th>233</th>\n",
       "      <td>0.7339</td>\n",
       "      <td>8.0</td>\n",
       "      <td>여성, 사회, 미래, 욕망, 결혼, 사실, 현실, 지구, 인류, 중국</td>\n",
       "    </tr>\n",
       "    <tr>\n",
       "      <th>477</th>\n",
       "      <td>0.6067</td>\n",
       "      <td>9.0</td>\n",
       "      <td>아이, 친구, 엄마, 청소년, 꿈, 가족, 학교, 상처, 인생, 고민</td>\n",
       "    </tr>\n",
       "  </tbody>\n",
       "</table>\n",
       "</div>"
      ],
      "text/plain": [
       "     Perc_Contribution  Dominant_Topic  \\\n",
       "620             0.8156             0.0   \n",
       "172             0.7727             1.0   \n",
       "58              0.5469             2.0   \n",
       "418             0.6937             3.0   \n",
       "302             0.9503             4.0   \n",
       "489             0.7275             5.0   \n",
       "304             0.7123             6.0   \n",
       "111             0.8956             7.0   \n",
       "233             0.7339             8.0   \n",
       "477             0.6067             9.0   \n",
       "\n",
       "                                Topic_Keywords  \n",
       "620       현실, 영혼, 여행, 시, 밤, 사이, 서사, 환상, 시대, 재난  \n",
       "172     죽음, 아버지, 존재, 아들, 쪽, 마을, 가족, 소녀, 도시, 사고  \n",
       "58       집, 기억, 젊은, 서로, 사실, 순간, 사이, 존재, 과거, 방식  \n",
       "418         그녀, 남자, 여자, 눈, 몸, 당신, 기억, 얼굴, 손, 입  \n",
       "302       역사, 조선, 왕, 여인, 꽃, 로맨스, 향, 운명, 그녀, 감동  \n",
       "489  사건, 미스터리, 진실, 살인, 스릴러, 반전, 경찰, 범인, 형사, 추리  \n",
       "304    재미, 이상, 인생, 판타지, 매력, 만큼, 비밀, 수학, 소재, 세월  \n",
       "111       시대, 전쟁, 대표, 사회, 역사, 언어, 결정, 판, 의미, 글  \n",
       "233     여성, 사회, 미래, 욕망, 결혼, 사실, 현실, 지구, 인류, 중국  \n",
       "477     아이, 친구, 엄마, 청소년, 꿈, 가족, 학교, 상처, 인생, 고민  "
      ]
     },
     "execution_count": 51,
     "metadata": {},
     "output_type": "execute_result"
    }
   ],
   "source": [
    "sent_topics_sorteddf_mallet[['Perc_Contribution', 'Dominant_Topic', 'Topic_Keywords']]"
   ]
  },
  {
   "cell_type": "code",
   "execution_count": 52,
   "id": "stretch-excerpt",
   "metadata": {
    "scrolled": true
   },
   "outputs": [
    {
     "data": {
      "text/plain": [
       "Dominant_Topic\n",
       "0.0    30\n",
       "1.0    54\n",
       "2.0    81\n",
       "3.0    51\n",
       "4.0    51\n",
       "5.0    95\n",
       "6.0    58\n",
       "7.0    65\n",
       "8.0    61\n",
       "9.0    99\n",
       "dtype: int64"
      ]
     },
     "execution_count": 52,
     "metadata": {},
     "output_type": "execute_result"
    }
   ],
   "source": [
    "df_topic_story.value_counts('Dominant_Topic').sort_index()"
   ]
  },
  {
   "cell_type": "markdown",
   "id": "exclusive-holmes",
   "metadata": {},
   "source": [
    "5. 서평 (review) + 책내용 일부 (piece)"
   ]
  },
  {
   "cell_type": "code",
   "execution_count": 53,
   "id": "qualified-template",
   "metadata": {},
   "outputs": [],
   "source": [
    "stories = df['review']\n",
    "# df['story'] + df['review'] + df['piece']"
   ]
  },
  {
   "cell_type": "code",
   "execution_count": 54,
   "id": "brown-assembly",
   "metadata": {},
   "outputs": [
    {
     "name": "stderr",
     "output_type": "stream",
     "text": [
      "100%|██████████| 8/8 [06:30<00:00, 48.75s/it]\n"
     ]
    }
   ],
   "source": [
    "limit=20; start=4; step=2;\n",
    "\n",
    "model_list, coherence_values = compute_coherence_values(stories, limit=limit, start=start, step=step)"
   ]
  },
  {
   "cell_type": "code",
   "execution_count": 55,
   "id": "constitutional-possession",
   "metadata": {
    "scrolled": true
   },
   "outputs": [
    {
     "name": "stdout",
     "output_type": "stream",
     "text": [
      "{4: 0.3220955066837471, 6: 0.3653328674529936, 8: 0.39012893644947433, 10: 0.4090067934353466, 12: 0.389039125408187, 14: 0.39991153690384246, 16: 0.4057744946471859, 18: 0.4029007521406507}\n"
     ]
    }
   ],
   "source": [
    "x = range(start, limit, step)\n",
    "\n",
    "find_model = {}\n",
    "for m,c in zip(x, coherence_values):\n",
    "    find_model[m] = c\n",
    "print(find_model)"
   ]
  },
  {
   "cell_type": "code",
   "execution_count": 56,
   "id": "considered-atmosphere",
   "metadata": {},
   "outputs": [
    {
     "data": {
      "image/png": "[encoded data removed]",
      "text/plain": [
       "<Figure size 432x288 with 1 Axes>"
      ]
     },
     "metadata": {
      "needs_background": "light"
     },
     "output_type": "display_data"
    }
   ],
   "source": [
    "x = find_model.keys()\n",
    "y = find_model.values()\n",
    "\n",
    "plt.plot(x, y)\n",
    "plt.show()"
   ]
  },
  {
   "cell_type": "code",
   "execution_count": 57,
   "id": "painful-today",
   "metadata": {},
   "outputs": [
    {
     "data": {
      "text/plain": [
       "0.4090067934353466"
      ]
     },
     "execution_count": 57,
     "metadata": {},
     "output_type": "execute_result"
    }
   ],
   "source": [
    "max(find_model.values())"
   ]
  },
  {
   "cell_type": "code",
   "execution_count": 58,
   "id": "noted-profile",
   "metadata": {},
   "outputs": [
    {
     "name": "stdout",
     "output_type": "stream",
     "text": [
      "<class 'pandas.core.frame.DataFrame'>\n"
     ]
    }
   ],
   "source": [
    "max_model = max(find_model,key=find_model.get)\n",
    "texts, corpus, ldamallet, coherence_ldamallet = lda_coh(stories, num_topics=max_model)\n",
    "data_words = lda_coh(stories, num_topics=max_model, data_word='stop')\n",
    "df_topic_sents_keywords = format_topics_sentences(texts, corpus, data_words, ldamallet, Data=df)"
   ]
  },
  {
   "cell_type": "code",
   "execution_count": 59,
   "id": "passive-texture",
   "metadata": {},
   "outputs": [],
   "source": [
    "# Format\n",
    "df_topic_story = df_topic_sents_keywords\n",
    "\n",
    "# 각 문서에 대한 토픽 내림차순\n",
    "df_topic_sort=df_topic_story.sort_values(by=['Dominant_Topic'])"
   ]
  },
  {
   "cell_type": "code",
   "execution_count": 60,
   "id": "furnished-browser",
   "metadata": {},
   "outputs": [],
   "source": [
    "# Group top 5 sentences under each topic\n",
    "sent_topics_sorteddf_mallet = pd.DataFrame()\n",
    "\n",
    "sent_topics_outdf_grpd = df_topic_sents_keywords.groupby('Dominant_Topic')\n",
    "\n",
    "for i, grp in sent_topics_outdf_grpd:\n",
    "    sent_topics_sorteddf_mallet = pd.concat([sent_topics_sorteddf_mallet, \n",
    "                                             grp.sort_values(['Perc_Contribution'], ascending=[0]).head(1)], \n",
    "                                            axis=0)\n"
   ]
  },
  {
   "cell_type": "code",
   "execution_count": 61,
   "id": "coral-console",
   "metadata": {
    "scrolled": false
   },
   "outputs": [
    {
     "data": {
      "text/html": [
       "<div>\n",
       "<style scoped>\n",
       "    .dataframe tbody tr th:only-of-type {\n",
       "        vertical-align: middle;\n",
       "    }\n",
       "\n",
       "    .dataframe tbody tr th {\n",
       "        vertical-align: top;\n",
       "    }\n",
       "\n",
       "    .dataframe thead th {\n",
       "        text-align: right;\n",
       "    }\n",
       "</style>\n",
       "<table border=\"1\" class=\"dataframe\">\n",
       "  <thead>\n",
       "    <tr style=\"text-align: right;\">\n",
       "      <th></th>\n",
       "      <th>Perc_Contribution</th>\n",
       "      <th>Dominant_Topic</th>\n",
       "      <th>Topic_Keywords</th>\n",
       "    </tr>\n",
       "  </thead>\n",
       "  <tbody>\n",
       "    <tr>\n",
       "      <th>418</th>\n",
       "      <td>0.7919</td>\n",
       "      <td>0.0</td>\n",
       "      <td>그녀, 눈, 몸, 남자, 손, 얼굴, 여자, 소리, 입, 처음</td>\n",
       "    </tr>\n",
       "    <tr>\n",
       "      <th>97</th>\n",
       "      <td>0.8476</td>\n",
       "      <td>1.0</td>\n",
       "      <td>현재, 전쟁, 사이, 과거, 역사, 임, 인간, 시, 명, 현실</td>\n",
       "    </tr>\n",
       "    <tr>\n",
       "      <th>489</th>\n",
       "      <td>0.6528</td>\n",
       "      <td>2.0</td>\n",
       "      <td>사건, 미스터리, 남자, 반전, 진실, 살인, 스릴러, 상, 범인, 형사</td>\n",
       "    </tr>\n",
       "    <tr>\n",
       "      <th>77</th>\n",
       "      <td>0.5600</td>\n",
       "      <td>3.0</td>\n",
       "      <td>집, 서로, 시간, 순간, 감정, 쪽, 존재, 기억, 관계, 이해</td>\n",
       "    </tr>\n",
       "    <tr>\n",
       "      <th>485</th>\n",
       "      <td>0.6573</td>\n",
       "      <td>4.0</td>\n",
       "      <td>인간, 시대, 대표, 역사, 세기, 의미, 사회, 중국, 주의, 의식</td>\n",
       "    </tr>\n",
       "    <tr>\n",
       "      <th>108</th>\n",
       "      <td>0.6381</td>\n",
       "      <td>5.0</td>\n",
       "      <td>인간, 주인공, 존재, 사회, 현실, 미래, 새로운, 밤, 등장, 우주</td>\n",
       "    </tr>\n",
       "    <tr>\n",
       "      <th>111</th>\n",
       "      <td>0.8991</td>\n",
       "      <td>6.0</td>\n",
       "      <td>언어, 글, 사회, 결정, 새로운, 경험, 시대, 시선, 다양한, 판</td>\n",
       "    </tr>\n",
       "    <tr>\n",
       "      <th>293</th>\n",
       "      <td>0.5633</td>\n",
       "      <td>7.0</td>\n",
       "      <td>아이, 친구, 시간, 엄마, 청소년, 꿈, 소년, 학교, 가족, 고민</td>\n",
       "    </tr>\n",
       "    <tr>\n",
       "      <th>302</th>\n",
       "      <td>0.9384</td>\n",
       "      <td>8.0</td>\n",
       "      <td>조선, 로맨스, 판타지, 세월, 여인, 감동, 향, 웹소설, 제작, 돌</td>\n",
       "    </tr>\n",
       "    <tr>\n",
       "      <th>172</th>\n",
       "      <td>0.6314</td>\n",
       "      <td>9.0</td>\n",
       "      <td>죽음, 아버지, 살, 가족, 아들, 인생, 날, 사실, 운명, 도시</td>\n",
       "    </tr>\n",
       "  </tbody>\n",
       "</table>\n",
       "</div>"
      ],
      "text/plain": [
       "     Perc_Contribution  Dominant_Topic  \\\n",
       "418             0.7919             0.0   \n",
       "97              0.8476             1.0   \n",
       "489             0.6528             2.0   \n",
       "77              0.5600             3.0   \n",
       "485             0.6573             4.0   \n",
       "108             0.6381             5.0   \n",
       "111             0.8991             6.0   \n",
       "293             0.5633             7.0   \n",
       "302             0.9384             8.0   \n",
       "172             0.6314             9.0   \n",
       "\n",
       "                               Topic_Keywords  \n",
       "418        그녀, 눈, 몸, 남자, 손, 얼굴, 여자, 소리, 입, 처음  \n",
       "97        현재, 전쟁, 사이, 과거, 역사, 임, 인간, 시, 명, 현실  \n",
       "489  사건, 미스터리, 남자, 반전, 진실, 살인, 스릴러, 상, 범인, 형사  \n",
       "77       집, 서로, 시간, 순간, 감정, 쪽, 존재, 기억, 관계, 이해  \n",
       "485    인간, 시대, 대표, 역사, 세기, 의미, 사회, 중국, 주의, 의식  \n",
       "108   인간, 주인공, 존재, 사회, 현실, 미래, 새로운, 밤, 등장, 우주  \n",
       "111    언어, 글, 사회, 결정, 새로운, 경험, 시대, 시선, 다양한, 판  \n",
       "293    아이, 친구, 시간, 엄마, 청소년, 꿈, 소년, 학교, 가족, 고민  \n",
       "302   조선, 로맨스, 판타지, 세월, 여인, 감동, 향, 웹소설, 제작, 돌  \n",
       "172     죽음, 아버지, 살, 가족, 아들, 인생, 날, 사실, 운명, 도시  "
      ]
     },
     "execution_count": 61,
     "metadata": {},
     "output_type": "execute_result"
    }
   ],
   "source": [
    "sent_topics_sorteddf_mallet[['Perc_Contribution', 'Dominant_Topic', 'Topic_Keywords']]"
   ]
  },
  {
   "cell_type": "code",
   "execution_count": 62,
   "id": "refined-synthesis",
   "metadata": {
    "scrolled": false
   },
   "outputs": [
    {
     "data": {
      "text/plain": [
       "Dominant_Topic\n",
       "0.0     48\n",
       "1.0     29\n",
       "2.0     98\n",
       "3.0    101\n",
       "4.0     86\n",
       "5.0     71\n",
       "6.0     14\n",
       "7.0     91\n",
       "8.0     43\n",
       "9.0     64\n",
       "dtype: int64"
      ]
     },
     "execution_count": 62,
     "metadata": {},
     "output_type": "execute_result"
    }
   ],
   "source": [
    "df_topic_story.value_counts('Dominant_Topic').sort_index()"
   ]
  },
  {
   "cell_type": "markdown",
   "id": "elementary-scanning",
   "metadata": {},
   "source": [
    "6. 책소개 (story) + 책내용 일부 (piece) "
   ]
  },
  {
   "cell_type": "code",
   "execution_count": 63,
   "id": "supreme-panel",
   "metadata": {},
   "outputs": [],
   "source": [
    "stories = df['piece']\n",
    "# df['story'] + df['review'] + df['piece']"
   ]
  },
  {
   "cell_type": "code",
   "execution_count": 64,
   "id": "female-hindu",
   "metadata": {},
   "outputs": [
    {
     "name": "stderr",
     "output_type": "stream",
     "text": [
      "100%|██████████| 8/8 [05:37<00:00, 42.22s/it]\n"
     ]
    }
   ],
   "source": [
    "limit=20; start=4; step=2;\n",
    "\n",
    "model_list, coherence_values = compute_coherence_values(stories, limit=limit, start=start, step=step)"
   ]
  },
  {
   "cell_type": "code",
   "execution_count": 65,
   "id": "annoying-reservoir",
   "metadata": {
    "scrolled": true
   },
   "outputs": [
    {
     "name": "stdout",
     "output_type": "stream",
     "text": [
      "{4: 0.3385571328156868, 6: 0.31194339096639573, 8: 0.3295811114329128, 10: 0.32734448925532644, 12: 0.3235091357706808, 14: 0.3246693577455429, 16: 0.31413986996719123, 18: 0.32799673719900535}\n"
     ]
    }
   ],
   "source": [
    "x = range(start, limit, step)\n",
    "\n",
    "find_model = {}\n",
    "for m,c in zip(x, coherence_values):\n",
    "    find_model[m] = c\n",
    "print(find_model)"
   ]
  },
  {
   "cell_type": "code",
   "execution_count": 66,
   "id": "becoming-talent",
   "metadata": {},
   "outputs": [
    {
     "data": {
      "image/png": "[encoded data removed]",
      "text/plain": [
       "<Figure size 432x288 with 1 Axes>"
      ]
     },
     "metadata": {
      "needs_background": "light"
     },
     "output_type": "display_data"
    }
   ],
   "source": [
    "x = find_model.keys()\n",
    "y = find_model.values()\n",
    "\n",
    "plt.plot(x, y)\n",
    "plt.show()"
   ]
  },
  {
   "cell_type": "code",
   "execution_count": 67,
   "id": "expressed-partition",
   "metadata": {},
   "outputs": [
    {
     "name": "stdout",
     "output_type": "stream",
     "text": [
      "<class 'pandas.core.frame.DataFrame'>\n"
     ]
    }
   ],
   "source": [
    "max_model = max(find_model,key=find_model.get)\n",
    "texts, corpus, ldamallet, coherence_ldamallet = lda_coh(stories, num_topics=max_model)\n",
    "data_words = lda_coh(stories, num_topics=max_model, data_word='stop')\n",
    "df_topic_sents_keywords = format_topics_sentences(texts, corpus, data_words, ldamallet, Data=df)"
   ]
  },
  {
   "cell_type": "code",
   "execution_count": 68,
   "id": "comfortable-lemon",
   "metadata": {},
   "outputs": [
    {
     "data": {
      "text/plain": [
       "0.3385571328156868"
      ]
     },
     "execution_count": 68,
     "metadata": {},
     "output_type": "execute_result"
    }
   ],
   "source": [
    "max(find_model.values())"
   ]
  },
  {
   "cell_type": "code",
   "execution_count": 69,
   "id": "hollywood-throw",
   "metadata": {},
   "outputs": [],
   "source": [
    "# Format\n",
    "df_topic_story = df_topic_sents_keywords\n",
    "\n",
    "# 각 문서에 대한 토픽 내림차순\n",
    "df_topic_sort=df_topic_story.sort_values(by=['Dominant_Topic'])"
   ]
  },
  {
   "cell_type": "code",
   "execution_count": 70,
   "id": "sound-marsh",
   "metadata": {},
   "outputs": [],
   "source": [
    "# Group top 5 sentences under each topic\n",
    "sent_topics_sorteddf_mallet = pd.DataFrame()\n",
    "\n",
    "sent_topics_outdf_grpd = df_topic_sents_keywords.groupby('Dominant_Topic')\n",
    "\n",
    "for i, grp in sent_topics_outdf_grpd:\n",
    "    sent_topics_sorteddf_mallet = pd.concat([sent_topics_sorteddf_mallet, \n",
    "                                             grp.sort_values(['Perc_Contribution'], ascending=[0]).head(1)], \n",
    "                                            axis=0)\n"
   ]
  },
  {
   "cell_type": "code",
   "execution_count": 71,
   "id": "immune-knitting",
   "metadata": {
    "scrolled": false
   },
   "outputs": [
    {
     "data": {
      "text/html": [
       "<div>\n",
       "<style scoped>\n",
       "    .dataframe tbody tr th:only-of-type {\n",
       "        vertical-align: middle;\n",
       "    }\n",
       "\n",
       "    .dataframe tbody tr th {\n",
       "        vertical-align: top;\n",
       "    }\n",
       "\n",
       "    .dataframe thead th {\n",
       "        text-align: right;\n",
       "    }\n",
       "</style>\n",
       "<table border=\"1\" class=\"dataframe\">\n",
       "  <thead>\n",
       "    <tr style=\"text-align: right;\">\n",
       "      <th></th>\n",
       "      <th>Perc_Contribution</th>\n",
       "      <th>Dominant_Topic</th>\n",
       "      <th>Topic_Keywords</th>\n",
       "    </tr>\n",
       "  </thead>\n",
       "  <tbody>\n",
       "    <tr>\n",
       "      <th>327</th>\n",
       "      <td>0.7879</td>\n",
       "      <td>0.0</td>\n",
       "      <td>그녀, 눈, 얼굴, 손, 소리, 몸, 머리, 목소리, 입, 고개</td>\n",
       "    </tr>\n",
       "    <tr>\n",
       "      <th>341</th>\n",
       "      <td>0.5739</td>\n",
       "      <td>1.0</td>\n",
       "      <td>당신, 인간, 사실, 여자, 존재, 삶, 세계, 죽음, 남자, 순간</td>\n",
       "    </tr>\n",
       "    <tr>\n",
       "      <th>143</th>\n",
       "      <td>0.5373</td>\n",
       "      <td>2.0</td>\n",
       "      <td>마음, 엄마, 사랑, 세상, 살, 나를, 날, 집, 아이, 건</td>\n",
       "    </tr>\n",
       "    <tr>\n",
       "      <th>4</th>\n",
       "      <td>0.8376</td>\n",
       "      <td>3.0</td>\n",
       "      <td>시간, 요, 여기, 몇, 시작, 꿈, 줄, 끝, 돈, 정말</td>\n",
       "    </tr>\n",
       "  </tbody>\n",
       "</table>\n",
       "</div>"
      ],
      "text/plain": [
       "     Perc_Contribution  Dominant_Topic                         Topic_Keywords\n",
       "327             0.7879             0.0    그녀, 눈, 얼굴, 손, 소리, 몸, 머리, 목소리, 입, 고개\n",
       "341             0.5739             1.0  당신, 인간, 사실, 여자, 존재, 삶, 세계, 죽음, 남자, 순간\n",
       "143             0.5373             2.0     마음, 엄마, 사랑, 세상, 살, 나를, 날, 집, 아이, 건\n",
       "4               0.8376             3.0       시간, 요, 여기, 몇, 시작, 꿈, 줄, 끝, 돈, 정말"
      ]
     },
     "execution_count": 71,
     "metadata": {},
     "output_type": "execute_result"
    }
   ],
   "source": [
    "sent_topics_sorteddf_mallet[['Perc_Contribution', 'Dominant_Topic', 'Topic_Keywords']]"
   ]
  },
  {
   "cell_type": "code",
   "execution_count": 72,
   "id": "composed-column",
   "metadata": {
    "scrolled": false
   },
   "outputs": [
    {
     "data": {
      "text/plain": [
       "Dominant_Topic\n",
       "0.0    171\n",
       "1.0    192\n",
       "2.0    200\n",
       "3.0     82\n",
       "dtype: int64"
      ]
     },
     "execution_count": 72,
     "metadata": {},
     "output_type": "execute_result"
    }
   ],
   "source": [
    "df_topic_story.value_counts('Dominant_Topic').sort_index()"
   ]
  },
  {
   "cell_type": "markdown",
   "id": "dramatic-frequency",
   "metadata": {},
   "source": [
    "7. 책소개 (story) + 책리뷰 (review) +  책내용 일부 (piece) "
   ]
  },
  {
   "cell_type": "code",
   "execution_count": 73,
   "id": "optical-logic",
   "metadata": {},
   "outputs": [],
   "source": [
    "stories = df['piece'] + df['story'] + df['review'] \n",
    "# df['story'] + df['review'] + df['piece']"
   ]
  },
  {
   "cell_type": "code",
   "execution_count": 74,
   "id": "normal-glass",
   "metadata": {},
   "outputs": [
    {
     "name": "stderr",
     "output_type": "stream",
     "text": [
      "100%|██████████| 8/8 [09:31<00:00, 71.50s/it]\n"
     ]
    }
   ],
   "source": [
    "limit=20; start=4; step=2;\n",
    "\n",
    "model_list, coherence_values = compute_coherence_values(stories, limit=limit, start=start, step=step)"
   ]
  },
  {
   "cell_type": "code",
   "execution_count": 75,
   "id": "signed-chart",
   "metadata": {
    "scrolled": true
   },
   "outputs": [
    {
     "name": "stdout",
     "output_type": "stream",
     "text": [
      "{4: 0.34514383396608905, 6: 0.4005510082519343, 8: 0.3739084626497442, 10: 0.40895756440663134, 12: 0.4016815265768625, 14: 0.4050147646714552, 16: 0.39889784599060224, 18: 0.3997322369164255}\n"
     ]
    }
   ],
   "source": [
    "x = range(start, limit, step)\n",
    "\n",
    "find_model = {}\n",
    "for m,c in zip(x, coherence_values):\n",
    "    find_model[m] = c\n",
    "print(find_model)"
   ]
  },
  {
   "cell_type": "code",
   "execution_count": 76,
   "id": "front-smile",
   "metadata": {},
   "outputs": [
    {
     "data": {
      "image/png": "[encoded data removed]",
      "text/plain": [
       "<Figure size 432x288 with 1 Axes>"
      ]
     },
     "metadata": {
      "needs_background": "light"
     },
     "output_type": "display_data"
    }
   ],
   "source": [
    "x = find_model.keys()\n",
    "y = find_model.values()\n",
    "\n",
    "plt.plot(x, y)\n",
    "plt.show()"
   ]
  },
  {
   "cell_type": "code",
   "execution_count": 77,
   "id": "saving-zambia",
   "metadata": {},
   "outputs": [
    {
     "name": "stdout",
     "output_type": "stream",
     "text": [
      "<class 'pandas.core.frame.DataFrame'>\n"
     ]
    }
   ],
   "source": [
    "max_model = max(find_model,key=find_model.get)\n",
    "texts, corpus, ldamallet, coherence_ldamallet = lda_coh(stories, num_topics=max_model)\n",
    "data_words = lda_coh(stories, num_topics=max_model, data_word='stop')\n",
    "df_topic_sents_keywords = format_topics_sentences(texts, corpus, data_words, ldamallet, Data=df)"
   ]
  },
  {
   "cell_type": "code",
   "execution_count": 78,
   "id": "norman-basis",
   "metadata": {},
   "outputs": [
    {
     "data": {
      "text/plain": [
       "0.40895756440663134"
      ]
     },
     "execution_count": 78,
     "metadata": {},
     "output_type": "execute_result"
    }
   ],
   "source": [
    "max(find_model.values())"
   ]
  },
  {
   "cell_type": "code",
   "execution_count": 79,
   "id": "featured-unknown",
   "metadata": {},
   "outputs": [],
   "source": [
    "# Format\n",
    "df_topic_story = df_topic_sents_keywords\n",
    "\n",
    "# 각 문서에 대한 토픽 내림차순\n",
    "df_topic_sort=df_topic_story.sort_values(by=['Dominant_Topic'])"
   ]
  },
  {
   "cell_type": "code",
   "execution_count": 80,
   "id": "comparative-brazilian",
   "metadata": {},
   "outputs": [],
   "source": [
    "# Group top 5 sentences under each topic\n",
    "sent_topics_sorteddf_mallet = pd.DataFrame()\n",
    "\n",
    "sent_topics_outdf_grpd = df_topic_sents_keywords.groupby('Dominant_Topic')\n",
    "\n",
    "for i, grp in sent_topics_outdf_grpd:\n",
    "    sent_topics_sorteddf_mallet = pd.concat([sent_topics_sorteddf_mallet, \n",
    "                                             grp.sort_values(['Perc_Contribution'], ascending=[0]).head(1)], \n",
    "                                            axis=0)\n"
   ]
  },
  {
   "cell_type": "code",
   "execution_count": 81,
   "id": "literary-emerald",
   "metadata": {
    "scrolled": false
   },
   "outputs": [
    {
     "data": {
      "text/html": [
       "<div>\n",
       "<style scoped>\n",
       "    .dataframe tbody tr th:only-of-type {\n",
       "        vertical-align: middle;\n",
       "    }\n",
       "\n",
       "    .dataframe tbody tr th {\n",
       "        vertical-align: top;\n",
       "    }\n",
       "\n",
       "    .dataframe thead th {\n",
       "        text-align: right;\n",
       "    }\n",
       "</style>\n",
       "<table border=\"1\" class=\"dataframe\">\n",
       "  <thead>\n",
       "    <tr style=\"text-align: right;\">\n",
       "      <th></th>\n",
       "      <th>Perc_Contribution</th>\n",
       "      <th>Dominant_Topic</th>\n",
       "      <th>Topic_Keywords</th>\n",
       "    </tr>\n",
       "  </thead>\n",
       "  <tbody>\n",
       "    <tr>\n",
       "      <th>620</th>\n",
       "      <td>0.8107</td>\n",
       "      <td>0.0</td>\n",
       "      <td>꿈, 현실, 우주, 미래, 인류, 지구, 시, 과학, 현재, 과거</td>\n",
       "    </tr>\n",
       "    <tr>\n",
       "      <th>404</th>\n",
       "      <td>0.5612</td>\n",
       "      <td>1.0</td>\n",
       "      <td>사건, 미스터리, 남자, 살인, 진실, 스릴러, 반전, 경찰, 범인, 형사</td>\n",
       "    </tr>\n",
       "    <tr>\n",
       "      <th>111</th>\n",
       "      <td>0.8367</td>\n",
       "      <td>2.0</td>\n",
       "      <td>사회, 언어, 의미, 글, 결정, 시절, 경험, 함, 큰, 어머니</td>\n",
       "    </tr>\n",
       "    <tr>\n",
       "      <th>74</th>\n",
       "      <td>0.5301</td>\n",
       "      <td>3.0</td>\n",
       "      <td>여자, 남자, 그녀, 여성, 서로, 당신, 결혼, 자리, 관계, 이유</td>\n",
       "    </tr>\n",
       "    <tr>\n",
       "      <th>565</th>\n",
       "      <td>0.5743</td>\n",
       "      <td>4.0</td>\n",
       "      <td>아이, 엄마, 친구, 청소년, 아빠, 학교, 할머니, 가족, 꿈, 어른</td>\n",
       "    </tr>\n",
       "    <tr>\n",
       "      <th>418</th>\n",
       "      <td>0.7132</td>\n",
       "      <td>5.0</td>\n",
       "      <td>그녀, 몸, 마을, 소리, 나무, 얼굴, 땅, 눈물, 새, 머리</td>\n",
       "    </tr>\n",
       "    <tr>\n",
       "      <th>1</th>\n",
       "      <td>0.6654</td>\n",
       "      <td>6.0</td>\n",
       "      <td>아버지, 인생, 사회, 죽음, 전쟁, 길, 자기, 선, 아들, 운명</td>\n",
       "    </tr>\n",
       "    <tr>\n",
       "      <th>301</th>\n",
       "      <td>0.9390</td>\n",
       "      <td>7.0</td>\n",
       "      <td>역사, 대표, 시대, 여인, 중국, 조선, 소개, 감동, 현대, 진</td>\n",
       "    </tr>\n",
       "    <tr>\n",
       "      <th>3</th>\n",
       "      <td>0.6912</td>\n",
       "      <td>8.0</td>\n",
       "      <td>기억, 죽음, 감정, 면, 누군가, 밤, 서로, 타인, 끝, 고통</td>\n",
       "    </tr>\n",
       "    <tr>\n",
       "      <th>326</th>\n",
       "      <td>0.9330</td>\n",
       "      <td>9.0</td>\n",
       "      <td>얼굴, 그녀, 고개, 몸, 입, 이상, 피, 로맨스, 목소리, 줄</td>\n",
       "    </tr>\n",
       "  </tbody>\n",
       "</table>\n",
       "</div>"
      ],
      "text/plain": [
       "     Perc_Contribution  Dominant_Topic  \\\n",
       "620             0.8107             0.0   \n",
       "404             0.5612             1.0   \n",
       "111             0.8367             2.0   \n",
       "74              0.5301             3.0   \n",
       "565             0.5743             4.0   \n",
       "418             0.7132             5.0   \n",
       "1               0.6654             6.0   \n",
       "301             0.9390             7.0   \n",
       "3               0.6912             8.0   \n",
       "326             0.9330             9.0   \n",
       "\n",
       "                                Topic_Keywords  \n",
       "620       꿈, 현실, 우주, 미래, 인류, 지구, 시, 과학, 현재, 과거  \n",
       "404  사건, 미스터리, 남자, 살인, 진실, 스릴러, 반전, 경찰, 범인, 형사  \n",
       "111       사회, 언어, 의미, 글, 결정, 시절, 경험, 함, 큰, 어머니  \n",
       "74      여자, 남자, 그녀, 여성, 서로, 당신, 결혼, 자리, 관계, 이유  \n",
       "565    아이, 엄마, 친구, 청소년, 아빠, 학교, 할머니, 가족, 꿈, 어른  \n",
       "418        그녀, 몸, 마을, 소리, 나무, 얼굴, 땅, 눈물, 새, 머리  \n",
       "1        아버지, 인생, 사회, 죽음, 전쟁, 길, 자기, 선, 아들, 운명  \n",
       "301      역사, 대표, 시대, 여인, 중국, 조선, 소개, 감동, 현대, 진  \n",
       "3         기억, 죽음, 감정, 면, 누군가, 밤, 서로, 타인, 끝, 고통  \n",
       "326       얼굴, 그녀, 고개, 몸, 입, 이상, 피, 로맨스, 목소리, 줄  "
      ]
     },
     "execution_count": 81,
     "metadata": {},
     "output_type": "execute_result"
    }
   ],
   "source": [
    "sent_topics_sorteddf_mallet[['Perc_Contribution', 'Dominant_Topic', 'Topic_Keywords']]"
   ]
  },
  {
   "cell_type": "code",
   "execution_count": 82,
   "id": "multiple-poultry",
   "metadata": {
    "scrolled": false
   },
   "outputs": [
    {
     "data": {
      "text/plain": [
       "Dominant_Topic\n",
       "0.0    48\n",
       "1.0    83\n",
       "2.0    36\n",
       "3.0    64\n",
       "4.0    92\n",
       "5.0    51\n",
       "6.0    87\n",
       "7.0    44\n",
       "8.0    84\n",
       "9.0    56\n",
       "dtype: int64"
      ]
     },
     "execution_count": 82,
     "metadata": {},
     "output_type": "execute_result"
    }
   ],
   "source": [
    "df_topic_story.value_counts('Dominant_Topic').sort_index()"
   ]
  },
  {
   "cell_type": "markdown",
   "id": "chronic-clerk",
   "metadata": {},
   "source": [
    "---"
   ]
  },
  {
   "cell_type": "markdown",
   "id": "instructional-watershed",
   "metadata": {},
   "source": [
    "## 선택된 모델(책소개, 서평 / 10개 분류)로 토픽분류 시각화"
   ]
  },
  {
   "cell_type": "code",
   "execution_count": 13,
   "id": "supported-wallace",
   "metadata": {},
   "outputs": [],
   "source": [
    "stories = df['story'] + df['review']\n",
    "# df['story'] + df['review'] + df['piece']"
   ]
  },
  {
   "cell_type": "code",
   "execution_count": 15,
   "id": "advisory-theory",
   "metadata": {},
   "outputs": [
    {
     "name": "stdout",
     "output_type": "stream",
     "text": [
      "<class 'pandas.core.frame.DataFrame'>\n"
     ]
    }
   ],
   "source": [
    "texts, corpus, ldamallet, coherence_ldamallet, id2word = lda_coh_id2(stories, num_topics=10)\n",
    "data_words = lda_coh(stories, num_topics=10, data_word='stop')\n",
    "df_topic_sents_keywords = format_topics_sentences(texts, corpus, data_words, ldamallet, Data=df)"
   ]
  },
  {
   "cell_type": "code",
   "execution_count": 22,
   "id": "trying-element",
   "metadata": {},
   "outputs": [
    {
     "name": "stderr",
     "output_type": "stream",
     "text": [
      "/home/ubuntu/anaconda3/envs/python3/lib/python3.6/site-packages/pyLDAvis/_prepare.py:236: RuntimeWarning: divide by zero encountered in log\n",
      "  log_1 = np.log(pd.eval(\"(topic_given_term.T / topic_proportion)\"))\n",
      "/home/ubuntu/anaconda3/envs/python3/lib/python3.6/site-packages/pyLDAvis/_prepare.py:259: RuntimeWarning: divide by zero encountered in log\n",
      "  log_lift = np.log(pd.eval(\"topic_term_dists / term_proportion\")).astype(\"float64\")\n",
      "/home/ubuntu/anaconda3/envs/python3/lib/python3.6/site-packages/pyLDAvis/_prepare.py:260: RuntimeWarning: divide by zero encountered in log\n",
      "  log_ttd = np.log(topic_term_dists).astype(\"float64\")\n"
     ]
    },
    {
     "data": {
      "text/html": [
       "\n",
       "<link rel=\"stylesheet\" type=\"text/css\" href=\"https://cdn.jsdelivr.net/gh/bmabey/pyLDAvis@3.2.2/pyLDAvis/js/ldavis.v1.0.0.css\">\n",
       "\n",
       "\n",
       "<div id=\"ldavis_el35121399060353729447213437376\"></div>\n",
       "<script type=\"text/javascript\">\n",
       "\n",
       "var ldavis_el35121399060353729447213437376_data = {\"mdsDat\": {\"x\": [0.16980802258114508, 0.007422903896428223, -0.3416164445297006, -0.08895374706055273, 0.11751398206274954, 0.14450458212969186, 0.0672146509582905, -0.03921210224787858, -0.11831284570835025, 0.08163099791817738], \"y\": [0.15290940514094792, -0.30169927468536323, 0.036030941440467736, -0.04916894613328048, 0.16386337372171322, -0.12291196198713437, -0.024972222550528174, -0.09256316113478393, 0.19358791437453104, 0.044923931813431205], \"topics\": [1, 2, 3, 4, 5, 6, 7, 8, 9, 10], \"cluster\": [1, 1, 1, 1, 1, 1, 1, 1, 1, 1], \"Freq\": [10.632040476804903, 10.554198619403337, 10.509105142503994, 10.46624099898489, 10.032400309770344, 9.964736971643086, 9.7991297565111, 9.504956580758027, 9.317610424986002, 9.219580718634319]}, \"tinfo\": {\"Term\": [\"\\uc0ac\\uac74\", \"\\uc544\\uc774\", \"\\uc5ec\\uc131\", \"\\uadf8\\ub140\", \"\\uc9d1\", \"\\uce5c\\uad6c\", \"\\uccad\\uc18c\\ub144\", \"\\uc5c4\\ub9c8\", \"\\uc8fd\\uc74c\", \"\\uc0ac\\ud68c\", \"\\ud604\\uc2e4\", \"\\ubbf8\\uc2a4\\ud130\\ub9ac\", \"\\ub0a8\\uc790\", \"\\uc5ed\\uc0ac\", \"\\uc544\\ubc84\\uc9c0\", \"\\uc5ec\\uc790\", \"\\uac00\\uc871\", \"\\ubab8\", \"\\uafc8\", \"\\ub208\", \"\\uc778\\uc0dd\", \"\\uc874\\uc7ac\", \"\\uc870\\uc120\", \"\\uc655\", \"\\uc544\\ub4e4\", \"\\uc2dc\\ub300\", \"\\uc804\\uc7c1\", \"\\ucabd\", \"\\ud559\\uad50\", \"\\uc5ec\\uc778\", \"\\uc11c\\ube44\\uc2a4\", \"\\ud68c\\uc6d0\", \"\\uc790\\ub9e4\", \"\\ubcc0\\ubaa8\", \"\\uad6c\\ub3c4\", \"\\uace0\\uc591\\uc774\", \"\\uc9c0\\uad6c\\uc778\", \"\\uc6d0\\uc81c\", \"\\uc77c\\ub828\", \"\\ub358\", \"\\ubb38\\ud638\", \"\\uac00\\uce58\\uad00\", \"\\uac70\\ubd80\", \"\\uacaa\\ub294\\ub2e4\", \"\\uacbd\\uba78\", \"\\uacbd\\uc81c\", \"\\ub300\\ud559\\uc0dd\", \"\\ubb3b\\uac8c\", \"\\ubcf4\\uc5ec\\uc8fc\\uba70\", \"\\uc0dd\\uc0dd\\ud558\\uace0\", \"\\uc218\\ub2e8\", \"\\uc2e0\\uc74c\", \"\\uc695\\uad6c\", \"\\uc695\\ub9dd\", \"\\uc774\\ubbfc\", \"\\uc774\\ubbfc\\uc790\", \"\\uc784\\uc2e0\", \"\\uc9c4\\ubd80\\ud55c\", \"\\ucc45\\uc784\\uc838\\uc57c\", \"\\ud0c8\\uace0\", \"\\uc5ec\\uc131\", \"\\ub300\\ud55c\\ubbfc\\uad6d\", \"\\uc815\\uce58\", \"\\uc0d8\", \"\\uc5f4\\uc815\", \"\\ub178\\ub3d9\", \"\\ud30c\\ub9ac\", \"\\uae30\\uc220\", \"\\ud589\\uc131\", \"\\uc218\\uc815\", \"\\ubcf8\\uc9c8\", \"\\ubaa8\\uc21c\", \"\\uc2dc\\uc7a5\", \"\\uacc4\\uae09\", \"\\ucde8\\uc7ac\", \"\\uc815\\ubcf4\", \"\\uc778\\uacf5\", \"\\ubb38\\uba85\", \"\\ub9de\\uc11c\", \"\\uc2e4\\ud5d8\", \"\\uae30\\ubc18\", \"\\uc5b5\\uc555\", \"\\uad00\\uc810\", \"\\ub0a8\\uc131\", \"\\uc9c0\\uad6c\", \"\\ud1b5\\ucc30\", \"\\uc9c0\\uc801\", \"\\uacfc\\ud559\", \"\\uc778\\ub958\", \"\\uacb0\\ud63c\", \"\\uc0ac\\ud68c\", \"\\uc911\\uad6d\", \"\\uc6b0\\uc8fc\", \"\\ubbf8\\ub798\", \"\\uc0ac\\uc2e4\", \"\\uc8fc\\uc758\", \"\\uc0c1\\ud669\", \"\\ubc30\\uacbd\", \"\\ud604\\uc2e4\", \"\\uc9c8\\ubb38\", \"\\ubc29\\uc2dd\", \"\\uc120\", \"\\ub3c8\", \"\\uac08\\ub4f1\", \"\\uc77c\\uc0c1\", \"\\uc790\\uae30\", \"\\uc874\\uc7ac\", \"\\uc5ed\\uc2dc\", \"\\uc774\\uc720\", \"\\ud798\", \"\\uc11c\\ub85c\", \"\\ub538\", \"\\ubcf8\\ub2a5\", \"\\uc870\\uac01\", \"\\ub9c8\\ub825\", \"\\ud53c\\ubd80\", \"\\uc544\\uae30\", \"\\ud558\\ub2c8\", \"\\uace0\\uc9d1\", \"\\ucc45\\uc18d\", \"\\ub1cc\\ub9ac\", \"\\ub2e4\\ud589\", \"\\uc12c\", \"\\uac11\\uc791\\uc2a4\\ub7ec\\uc6b4\", \"\\uc800\\uc8fc\", \"\\ub180\\ub77c\", \"\\uc2e0\\uacbd\", \"\\ud074\\ub7fd\", \"\\uce7c\", \"\\ud559\\uc0b4\", \"\\ub9d0\\uc500\", \"\\uac19\\uc9c0\", \"\\ud68c\\ud55c\", \"\\ubab9\\uc2dc\", \"\\uc11c\\ub828\", \"\\uac80\", \"\\uce68\", \"\\ub098\\uac00\", \"\\ub369\", \"\\ub5a0\\ub098\\ub294\", \"\\ub9c8\\uce68\", \"\\ub9e4\\uc7a5\", \"\\ubab8\", \"\\ubb34\\uc2a8\", \"\\uacf5\\uc8fc\", \"\\uc18c\\ubb38\", \"\\ud770\", \"\\uace0\\uac1c\", \"\\uadc0\", \"\\ud6c4\\ud68c\", \"\\ubaa8\\uc591\", \"\\uc8fd\\uc9c0\", \"\\ucc9c\\uad6d\", \"\\uc8fd\\uace0\", \"\\ub3c4\\ubb34\\uc9c0\", \"\\ub5a8\\uc5b4\\uc9c4\", \"\\ubfd0\\uc774\\uc5c8\\ub2e4\", \"\\ub208\\uce58\", \"\\ub85d\", \"\\ub370\\ub9ac\", \"\\uac00\\uae30\", \"\\uc5b4\\uae68\", \"\\uac15\\uc8fc\\ub8e1\", \"\\uc545\\ubabd\", \"\\uc5bc\\uad74\", \"\\uc5ec\\uc790\", \"\\ucc3d\", \"\\uc11c\", \"\\uc785\", \"\\uc950\", \"\\uc18c\\ub9ac\", \"\\uac19\\uc558\\ub2e4\", \"\\uadf8\\ub140\", \"\\uc8fd\", \"\\ub208\", \"\\ub0a8\\uc790\", \"\\uba38\\ub9ac\", \"\\uc880\", \"\\ubb38\", \"\\uc6d4\", \"\\ub2f9\\uc2e0\", \"\\ud14c\", \"\\uae30\\uc5b5\", \"\\uc190\", \"\\uc228\", \"\\uc804\\ud558\", \"\\uba87\", \"\\ud574\\ub3c4\", \"\\uc801\", \"\\uc120\\ud0dd\", \"\\ub2ec\", \"\\ucc98\\uc74c\", \"\\uc5b4\\ub9b0\", \"\\uc21c\\uac04\", \"\\uc8fd\\uc74c\", \"\\uc810\\uc810\", \"\\ub204\\uad6c\", \"\\uc0ac\\uc2e4\", \"\\uae30\\uad6c\", \"\\ub098\\uc62c\", \"\\uad6d\\ub9bd\", \"\\uae30\\ubc1c\\ud55c\", \"\\uae40\\ud638\\uc5f0\", \"\\ub3cc\\ud30c\", \"\\ub9dd\\uc6d0\\ub3d9\", \"\\ubcc0\\uc2e0\", \"\\ube0c\\ub77c\\ub354\\uc2a4\", \"\\uc2dc\\uc98c\", \"\\uc5bb\\uc73c\\uba70\", \"\\uc5ec\\ub7ec\\ubd84\", \"\\uc77d\\uc5c8\\ub2e4\", \"\\uc885\\ud569\", \"\\ud765\\ubbf8\\ub85c\\uc6b4\", \"\\ud765\\ubbf8\\uc9c4\\uc9c4\", \"\\uad81\\uae08\\uc99d\", \"\\ub118\\uccd0\\ub098\\ub294\", \"\\ub179\\uc5ec\", \"\\ub9d0\\ub9ac\", \"\\ub9de\\uc544\", \"\\ubcf4\\ub0b4\", \"\\uc124\\uc815\", \"\\uc720\", \"\\uc8fc\\uc785\", \"\\uce68\\uccb4\", \"\\uad50\\ubcf4\", \"\\ub2ec\\ub7ec\", \"\\ub3cc\\ud48d\", \"\\ube60\\uc838\\ub4dc\\ub294\", \"\\uc218\\ud559\", \"\\uc545\\ub9c8\", \"\\uc2e0\\uc758\", \"\\uc678\\ubaa8\", \"\\uc601\\uc6c5\", \"\\ub85c\\ubd07\", \"\\ub85c\\ub9f9\", \"\\uae30\\uc6a4\", \"\\uc5f0\\ub300\\uae30\", \"\\ubb88\\uc18c\", \"\\uc870\\uc9c1\", \"\\uc774\\ub098\", \"\\uc11c\\ud3c9\", \"\\uc124\\uacc4\", \"\\uc131\\ud615\", \"\\uc77d\\ub2e4\", \"\\ubc30\\uc6b0\", \"\\uc22b\\uc790\", \"\\ub808\", \"\\uc544\\ub974\", \"\\uac1c\\uc815\", \"\\uacc4\\uc57d\", \"\\ubca0\", \"\\ud0dc\\uc591\", \"\\uae30\\ubb18\\ud55c\", \"\\uc7ac\\ubbf8\", \"\\ud310\\ud0c0\\uc9c0\", \"\\uc18c\\uc7ac\", \"\\ub3cc\", \"\\ub9cc\\ud07c\", \"\\ud654\\uc81c\", \"\\ub9e4\\ub825\", \"\\uc138\\uc6d4\", \"\\uc774\\uc0c1\", \"\\ud2b9\\uc720\", \"\\ucd94\\ucc9c\", \"\\uce90\\ub9ad\\ud130\", \"\\ube44\\ubc00\", \"\\uc120\\uc0ac\", \"\\ubcf4\\uba74\", \"\\uc778\\uc0dd\", \"\\ud0c4\\uc0dd\", \"\\uc601\\ud654\", \"\\uc815\\uccb4\", \"\\ub4f1\\uc7a5\", \"\\ub3c5\\ud2b9\\ud55c\", \"\\uc7a5\\ub974\", \"\\uc644\\uc131\", \"\\uc0c1\\uc0c1\\ub825\", \"\\ud070\", \"\\ucc98\\uc74c\", \"\\uc190\", \"\\uc544\\uc774\", \"\\ub300\\ud45c\", \"\\uc2a4\\ub9b4\\ub7ec\", \"\\ucd94\\ub9ac\", \"\\ucd08\\uc0c1\", \"\\ub450\\ub1cc\", \"\\uc62e\\uae34\\uc774\\uc758\", \"\\ud0ac\\ub7ec\", \"\\ub9e8\\ubd80\\ucee4\\uc0c1\", \"\\ub274\\uc695\\ud0c0\\uc784\\uc2a4\", \"\\uc57c\\ucfe0\\uc790\", \"\\uc608\\uce21\", \"\\uac1c\\uad6d\", \"\\ub4dc\\ub9bc\", \"\\ubc00\\ub9ac\", \"\\uc54c\\ucf54\\uc62c\", \"\\uc810\\uc6d0\", \"\\ud310\\uad8c\", \"\\ud558\\ub824\\ub358\", \"\\uc218\\uc0c1\\ud588\\ub2e4\", \"\\ubd84\\uc11d\", \"\\uc138\\uc6e0\\ub2e4\", \"\\uc2e0\\ub4dc\\ub86c\", \"\\ud3bc\\uccd0\\uc9c0\\uace0\", \"\\uac10\\uc2dc\", \"\\uad50\\ubb18\\ud55c\", \"\\ub0b4\\ub824\\ub193\\uc744\", \"\\ub7f0\\ub358\", \"\\ub808\\uc624\", \"\\ub9dd\\uc0c1\", \"\\ubc94\\uc778\", \"\\ubcf5\\uc120\", \"\\ubbf8\\uc2a4\\ud130\\ub9ac\", \"\\uc0b4\\uc778\", \"\\uc0b4\\ud574\", \"\\ubc18\\uc804\", \"\\uc218\\uc0ac\", \"\\ubcf5\\uc218\", \"\\uac00\\uc2dc\\ub178\", \"\\uac8c\\uc774\\uace0\", \"\\ud0d0\\uc815\", \"\\ucd94\\ub9ac\\uc18c\\uc124\", \"\\ubc94\\uc8c4\", \"\\ub3c5\\uc77c\", \"\\uce74\", \"\\uc568\\ub9ac\\uc2a4\", \"\\ub3d9\\uc2dd\", \"\\uacbd\\ucc30\", \"\\uac00\\uac00\", \"\\ud615\\uc0ac\", \"\\ud0c0\\uc784\\uc2a4\", \"\\uc545\\uc758\", \"\\uc2e4\\uc885\", \"\\uc6a9\\uc758\\uc790\", \"\\uc218\\uc218\\uaed8\\ub07c\", \"\\uc11c\\uc2a4\\ud39c\\uc2a4\", \"\\uc989\\uc2dc\", \"\\uc0ac\\uac74\", \"\\ucd94\\uc801\", \"\\ucf54\", \"\\ud751\\uc778\", \"\\ucda9\\uaca9\", \"\\uc2ec\\ub9ac\", \"\\uc0c1\", \"\\uc9c4\\uc2e4\", \"\\uacb0\\ub9d0\", \"\\uc2a4\", \"\\ubc1c\\uacac\", \"\\ub0a8\\uc790\", \"\\uc0ac\\uc2e4\", \"\\ub9ac\", \"\\ub9c8\\uc9c0\\ub9c9\", \"\\ubc9a\\uaf43\", \"\\uc218\\ucd9c\", \"\\uc57c\\uac04\", \"\\uc77c\\uae30\", \"\\uace0\\ub9d9\\ub2e4\\uace0\", \"\\uace0\\uc591\", \"\\uace4\", \"\\ub04c\\uc5b4\\uc548\\uace0\", \"\\ub290\\ub07c\\uc9c0\", \"\\ub300\\uae4c\\uc9c0\", \"\\ub3d9\\uc694\", \"\\ubc1c\\uc9dd\", \"\\ubc84\\ud2f8\", \"\\ubd88\\ub2a5\", \"\\uc131\\uc7a5\\ud55c\\ub2e4\\ub294\", \"\\uc544\\ubaac\\ub4dc\", \"\\uc54c\\ub9ac\\ub294\", \"\\uc5b4\\ub35c\\ud2b8\", \"\\uc654\\uc73c\\uba70\", \"\\uc77d\\uc5c8\\ub2e4\\ub294\", \"\\uc788\\uc744\\uc9c0\\ub3c4\", \"\\uc790\\ub77c\\ub294\", \"\\ucc3d\\ube44\", \"\\ud130\\ub110\", \"\\ud2b9\\ubcc4\\ud558\\uace0\", \"\\ud3c9\\ubc94\\ud558\\uac8c\", \"\\ud3ed\\uc8fd\", \"\\ud558\\uae30\\uac00\", \"\\ud558\\uae30\\ubcf4\\ub2e4\", \"\\ud560\\uc9c0\\ub77c\\ub3c4\", \"\\ud658\\uc0c1\", \"\\uc7ac\\ub09c\", \"\\ud540\", \"\\ud5c8\\uad6c\", \"\\uc6b0\\ud654\", \"\\ucc9c\", \"\\uc6d4\\uac04\", \"\\ub3c4\\uc11c\\uad00\", \"\\uc2a4\\ub178\\ubcfc\", \"\\ud638\\ub791\\uc774\", \"\\ub2f9\\ub300\", \"\\ub3c5\\ucc3d\", \"\\uc544\\uc774\\ub7ec\\ub2c8\", \"\\ucd08\\uc5fd\", \"\\uc704\\uc800\\ub4dc\", \"\\uc720\\ub9ac\", \"\\uc775\\uc219\\ud55c\", \"\\uc77c\\uc885\", \"\\ucd5c\\uc9c4\\uc601\", \"\\ucd9c\\uc0dd\", \"\\ucca8\\uc608\\ud55c\", \"\\ube75\", \"\\uc2dc\\ub97c\", \"\\uc124\\uc120\", \"\\uc815\\uc9c0\", \"\\ubca0\\uc774\\ucee4\\ub9ac\", \"\\uc601\\ud63c\", \"\\uc720\\ub839\", \"\\ubc18\", \"\\ub2e8\\ud589\\ubcf8\", \"\\ubd80\\ud130\", \"\\ucd5c\", \"\\uc2dc\", \"\\uc11c\\ub3c4\", \"\\ud604\\uc2e4\", \"\\uc5ec\\ud589\", \"\\uc11c\\uc0ac\", \"\\uc5ec\\uc12f\", \"\\uc608\\uc220\", \"\\ubc24\", \"\\uc0b4\\uc544\\uac00\\ub294\", \"\\uc18c\\ub144\", \"\\uc784\", \"\\uc0ac\\uc774\", \"\\uac10\\uc815\", \"\\ub3d9\\uc2dc\", \"\\uc2dc\\ub300\", \"\\uc874\\uc7ac\", \"\\ub2f9\\uc2e0\", \"\\uc758\\ubbf8\", \"\\ud604\\uc7ac\", \"\\uc9c8\\ubb38\", \"\\ub545\", \"\\uc9d1\", \"\\uc790\\uae30\", \"\\uc190\", \"\\uac15\\uc778\\ud55c\", \"\\uadfc\\uac70\", \"\\ub098\\uac00\\uba70\", \"\\ubd80\\uc0b0\", \"\\uc544\\uc6b0\\ub974\\ub294\", \"\\uc778\\uc9c0\\ub3c4\", \"\\uac77\", \"\\uae30\\ub984\", \"\\ub10c\\uc9c0\\uc2dc\", \"\\ub2e4\\uac00\\uc628\", \"\\ubd88\\uc465\", \"\\ube44\\ucd98\\ub2e4\", \"\\uc62c\\ub77c\\uac04\\ub2e4\", \"\\ucf54\\ub85c\\ub098\", \"\\ud55c\\ubc24\\uc911\", \"\\uacbd\\ud5a5\", \"\\ub098\\uc058\\uac8c\", \"\\ub098\\ud0c0\\ub09c\\ub2e4\", \"\\ub0a8\\ub294\\ub2e4\", \"\\ub0b4\\uc57c\", \"\\ub2e4\\uac00\\uc624\\ub294\", \"\\ub4dc\\ub7ec\\ub09c\", \"\\ubaa9\\ub9d0\", \"\\ubab0\\uace0\", \"\\uc54a\\uae30\", \"\\uc560\\ub3c4\", \"\\uc6b8\\uc5b4\", \"\\uc815\\uc774\", \"\\uc81c\\uc8fc\", \"\\ud0c4\\ud0c4\\ud558\\uace0\", \"\\uc758\\uc9c0\", \"\\uac15\", \"\\uc544\\ud649\", \"\\uc0c1\\uc2e4\", \"\\uadf8\\ub9bc\\uc790\", \"\\uadf8\\ub9bc\", \"\\ub0bc\", \"\\uc544\\ub4e4\", \"\\ubcf4\\uc774\\uc9c0\", \"\\ud53c\\ud574\", \"\\uc624\\uae30\", \"\\uc804\\ubd80\", \"\\ub9b0\", \"\\uc880\\ube44\", \"\\uc815\\uc6d0\", \"\\ub839\", \"\\ubcf8\\ub2e4\", \"\\uae68\\ub2eb\\ub294\\ub2e4\", \"\\ub5a0\", \"\\uad50\\ud1b5\\uc0ac\\uace0\", \"\\ubc84\\ub9b4\", \"\\ub5a0\\ub09c\\ub2e4\", \"\\uac78\\uc5b4\", \"\\uc800\\ub141\", \"\\uc8fd\\uc5b4\", \"\\uc560\\uac00\", \"\\uc8fc\\ud0dd\", \"\\ub9c8\\uc744\", \"\\ub3c4\\uc2dc\", \"\\uc0ac\\uace0\", \"\\uc544\\ubc84\\uc9c0\", \"\\ub450\\ub824\\uc6c0\", \"\\uc8fd\\uc74c\", \"\\uc808\\ub9dd\", \"\\ubb38\\ud559\\ub3d9\\ub124\", \"\\ub0a8\\ud3b8\", \"\\uc77c\\uacf1\", \"\\ucabd\", \"\\ube44\\uadf9\", \"\\uc544\\ub0b4\", \"\\ud560\\uba38\\ub2c8\", \"\\uc18c\\ub140\", \"\\uc9d1\\uc548\", \"\\ub098\\ubb34\", \"\\uba85\", \"\\uace0\\ud1b5\", \"\\uc874\\uc7ac\", \"\\uac00\\uc871\", \"\\ub0b4\\uba74\", \"\\ud53c\", \"\\uc6c0\", \"\\uc2dc\\uc120\", \"\\ud3ed\\ub825\", \"\\ud798\", \"\\ubcfc\", \"\\ud5a5\", \"\\ubc84\\ub9b0\", \"\\uc6b4\\uba85\", \"\\ubc24\", \"\\uadf8\\ub140\", \"\\uc21c\\uac04\", \"\\uc791\\uc740\", \"\\uae38\", \"\\ub05d\", \"\\uac74\\ub128\", \"\\uace8\\ubaa9\", \"\\uae40\\ubc25\", \"\\ub099\", \"\\ub2e4\\uc815\\ud55c\", \"\\ub2e8\\uc808\", \"\\ub2f4\", \"\\ub418\\uc5c8\\uc744\\uae4c\", \"\\ub429\\ub2c8\\ub2e4\", \"\\ubb34\\uac8c\", \"\\ubd09\\ucc29\", \"\\uc18c\\ud1b5\", \"\\uc2dc\\uac04\\ub300\", \"\\uc5ec\\uc0ac\", \"\\uc758\\uc790\", \"\\uc788\\uc9c0\", \"\\uc81c\\uc774\", \"\\uc9c0\\uc810\", \"\\uce58\\ub9e4\", \"\\ub5bc\\uc9c0\", \"\\uc5b4\\ub835\\ub2e4\\ub294\", \"\\ud55c\\ub2e4\\ub294\", \"\\ud758\\ub7ec\\uac08\", \"\\ubcf4\\ub0b4\\ub294\", \"\\uc5f0\\ub9d0\", \"\\uc608\\uc2a4\", \"\\uc9c0\\ub3c4\", \"\\uc9e7\\uac8c\", \"\\uc21c\\ud0c4\", \"\\uc870\\uc6a9\\ud788\", \"\\ub9db\", \"\\uc2e4\\ud328\", \"\\uc788\\uc2b5\\ub2c8\\ub2e4\", \"\\uacf5\\uc720\", \"\\uc9d0\\uc791\", \"\\uc815\\uc138\\ub791\", \"\\uae40\\uc560\\ub780\", \"\\uc77d\\uc73c\\uba70\", \"\\ud754\\ud788\", \"\\uc2e0\\uc778\", \"\\ub2e8\\ub2e8\\ud55c\", \"\\ubb38\\ub4dd\", \"\\ub098\\ub0a0\", \"\\uc774\\uc5c8\\uace0\", \"\\uc9d1\\uc740\", \"\\ucd5c\\uc740\\uc601\", \"\\ud68c\\uc0c1\", \"\\ub3c4\\ub2ec\", \"\\uacb9\", \"\\ub4e4\\ub824\\uc900\\ub2e4\", \"\\ubb34\\ucc99\", \"\\ud45c\", \"\\uc4f0\\ub294\", \"\\ud3ec\\ucc29\", \"\\uadf8\\uac8c\", \"\\uc5f0\\uc560\", \"\\uac00\\ub2a5\\ud55c\", \"\\uc9d1\", \"\\uc80a\\uc740\", \"\\uc544\\ub2d0\\uae4c\", \"\\ub2e4\\ub9cc\", \"\\ud654\", \"\\uacf5\\uac04\", \"\\ub178\\ub798\", \"\\ub298\", \"\\ubc29\\uc2dd\", \"\\uc778\\ud130\\ubdf0\", \"\\uc5b4\\uba38\\ub2c8\", \"\\ubaa8\\ub978\\ub2e4\", \"\\ub0af\\uc120\", \"\\uc11c\\ub85c\", \"\\uae30\\uc5b5\", \"\\uc774\\ud574\", \"\\ubaa9\\uc18c\\ub9ac\", \"\\ud3b8\\uc758\", \"\\uc544\\uc8fc\", \"\\uae30\\ub3c4\", \"\\uacfc\\uac70\", \"\\uc21c\\uac04\", \"\\uae00\", \"\\uc5ec\\ub7ec\", \"\\uacc4\\uc18d\", \"\\uc0ac\\uc2e4\", \"\\uc0ac\\uc774\", \"\\ud0c0\\uc778\", \"\\uc874\\uc7ac\", \"\\uc774\\uc720\", \"\\ub204\\uad70\\uac00\", \"\\ubc1c\\uacac\", \"\\uc791\\uc740\", \"\\uad00\\uacc4\", \"\\ub204\\uad6c\", \"\\ub4f1\\uc7a5\", \"\\uac74\", \"\\ud5a5\", \"\\uac15\\uc5f0\", \"\\uace0\\uad6d\", \"\\uad11\\ud65c\\ud55c\", \"\\uad75\\uc740\", \"\\uad82\\uc740\\uc77c\", \"\\uae30\\ud615\", \"\\ub098\\ub77d\", \"\\ub300\\uc5d0\", \"\\ub300\\uc6b0\", \"\\ub3c4\\ubc15\", \"\\ub4e4\\uc5b4\\uc904\", \"\\ub9c9\\ub0b4\\ub538\", \"\\ubaa8\\uc790\", \"\\ubc1c\\ubc84\\ub465\", \"\\uc0b4\\uc544\\ub0a8\\uc744\", \"\\uc0c1\\uc2b9\", \"\\uc0dd\\uc120\", \"\\uc218\\uc758\", \"\\uc219\\uba85\", \"\\uc548\\uaca8\\uc904\", \"\\uc548\\ud0c0\\uae5d\\uac8c\\ub3c4\", \"\\uc624\\uc0ac\\uce74\", \"\\uc720\\ubc30\", \"\\uc774\\uc5c8\\uae30\", \"\\uc77c\\uc81c\\uac15\\uc810\\uae30\", \"\\uc78a\\uc5b4\\ubc84\\ub9b0\", \"\\uc804\\ud574\\uc9c4\\ub2e4\", \"\\uc870\\uc120\\uc778\", \"\\uc9c4\\uc758\", \"\\ucc98\\uc808\\ud55c\", \"\\uc5ec\\uc778\", \"\\uc870\\uc120\", \"\\uc655\", \"\\uc0ac\\ub0b4\", \"\\ub2ec\\ube5b\", \"\\uc138\\uc790\", \"\\ud63c\", \"\\uc885\\uc774\", \"\\ubc31\\uc131\", \"\\uad81\", \"\\uc5ed\\uc0ac\\uc18c\\uc124\", \"\\uccad\", \"\\uc544\\ube44\", \"\\ubd84\\ub7c9\", \"\\uad6c\\ub974\", \"\\uc77c\\ub7ec\\uc2a4\\ud2b8\", \"\\ub204\\uc801\", \"\\uac00\\ubb38\", \"\\ud488\\uc740\", \"\\uc138\\ub825\", \"\\ud654\\uc0b4\", \"\\uc655\\uc790\", \"\\uacbd\\ubbfc\", \"\\ubc97\", \"\\ud655\\uc815\", \"\\uad70\\uc8fc\", \"\\uadf8\\ub300\", \"\\uad6c\\ub984\", \"\\uad81\\uad90\", \"\\ucd0c\", \"\\ud669\\uc81c\", \"\\ud558\\ub9ac\", \"\\uaf43\", \"\\ucc9c\\ud558\", \"\\uc2e0\\ubd84\", \"\\uad8c\\ub825\", \"\\uc6f9\\uc18c\\uc124\", \"\\uc5ed\\uc0ac\", \"\\uc7a0\", \"\\ub85c\\ub9e8\\uc2a4\", \"\\uc778\\uc5f0\", \"\\uadf8\\ub9b0\", \"\\ubd04\", \"\\ubaa9\\uc228\", \"\\uac00\\uc2b4\", \"\\uc6d0\\uc791\", \"\\uc6b4\\uba85\", \"\\ud5a5\", \"\\uac10\\ub3d9\", \"\\uc81c\\uc791\", \"\\ub098\\ub77c\", \"\\uc544\\ub294\", \"\\uacfc\\uac70\", \"\\uadf8\\ub140\", \"\\uc9c4\", \"\\uc2dc\\ub300\", \"\\uc0ac\\uc774\", \"\\ub2ec\\ub9ac\", \"\\uac04\\ub2e4\", \"\\uadfc\\ud604\\ub300\\uc0ac\", \"\\uc870\\uc9c0\", \"\\ud55c\\uad6d\\uc778\", \"\\uac15\\uc810\", \"\\uac10\\uba85\", \"\\ub2e8\\uc7a5\", \"\\uc138\\uacc4\\ubb38\\ud559\", \"\\uc5d0\\ub514\", \"\\uc77d\\uae30\", \"\\ubc18\\uc601\", \"\\ud558\\uc600\\uc73c\\uba70\", \"\\ud68d\", \"\\ud2b9\\uc218\\ud55c\", \"\\uc54c\\ubca0\\ub974\", \"\\uc7a5\\uc2dd\", \"\\uce74\\ubb88\", \"\\uace0\\uc720\", \"\\uaf2c\\ubc15\", \"\\uc5f0\\uad6c\\uc6d0\", \"\\ub098\\uac00\\ub358\", \"\\ub2e4\\ub904\", \"\\ub9cc\\uc5f0\\ud55c\", \"\\ubc14\\ub00c\\uc5c8\\ub2e4\", \"\\uc601\\uc801\", \"\\uc6d0\\uace0\\uc9c0\", \"\\uc815\\uc2dd\", \"\\ud3c9\\ud654\\ub86d\\uac8c\", \"\\ub4b7\\ubc1b\\uce68\", \"\\uc120\\ubcf4\\uc77c\", \"\\uc704\\ub300\\ud55c\", \"\\uace0\\uc804\", \"\\uc601\\uc5b4\", \"\\ud574\\uc11d\", \"\\ud574\\ubc29\", \"\\uc5f0\\uc791\", \"\\ucd08\\ud310\", \"\\ud601\\uba85\", \"\\ubbfc\\uc871\", \"\\uc2e4\\uc874\", \"\\ubd81\\ud55c\", \"\\ub7ec\\uc2dc\\uc544\", \"\\uc65c\\uace1\", \"\\uc5f4\\ub9b0\", \"\\ub9de\\ucdb0\", \"\\uaddc\\uc815\", \"\\uc790\\uc804\", \"\\ubc14\\uc774\", \"\\uc6d0\\uace0\", \"\\uc804\\ubb38\\uac00\", \"\\uc2f1\\uc544\", \"\\uc0c8\\ub85c\\uc774\", \"\\ubb38\\ud559\\uc0ac\", \"\\ub9ce\\ub358\", \"\\uc804\\uc7c1\", \"\\ud3c9\\uac00\", \"\\uc804\\ud1b5\", \"\\uc8fc\\uae30\", \"\\ud310\", \"\\ud55c\\uad6d\\uc5b4\", \"\\uc591\\uadc0\\uc790\", \"\\uacb0\\uc815\", \"\\uad50\\uc218\", \"\\uc5b8\\uc5b4\", \"\\ucca0\\ud559\", \"\\uc9c1\\uc811\", \"\\uc0ac\\uc9c4\", \"\\ub300\\ud45c\", \"\\uc2dc\\ub300\", \"\\ud750\\ub984\", \"\\uc138\\uae30\", \"\\uc18c\\uac1c\", \"\\ud45c\\ud604\", \"\\uace0\\uc2a4\", \"\\ub2f9\\uc2dc\", \"\\ucd9c\\ud310\", \"\\uc0c8\\ub86d\\uac8c\", \"\\uae4a\\uc774\", \"\\uc758\\uc2dd\", \"\\ub290\\ub08c\", \"\\ud2b9\\uc9d5\", \"\\uc5ed\\uc0ac\", \"\\uae00\", \"\\uc0ac\\ud68c\", \"\\uc2dc\\uae30\", \"\\uc5ec\", \"\\uc758\\ubbf8\", \"\\uc2dc\\uc808\", \"\\ud604\\ub300\", \"\\uacbd\\ud5d8\", \"\\uc81c\\ubaa9\", \"\\ub3d9\\uc2dc\", \"\\ub2e4\\uc591\\ud55c\", \"\\ub9c8\\uc9c0\\ub9c9\", \"\\ub2e4\\ub2c8\\ub294\", \"\\uc544\\ub974\\ubc14\\uc774\\ud2b8\", \"\\uac00\\ub09c\\ud55c\", \"\\uace0\\uc0dd\", \"\\ubbfc\\uac10\\ud55c\", \"\\ubc1b\\uc544\\ub4e4\\uc774\\uba70\", \"\\uc0ac\\ub2e4\\ub9ac\", \"\\uc18c\\uc911\\ud55c\", \"\\uc544\\ud508\", \"\\uc788\\uae30\\ub97c\", \"\\uc788\\ub294\\uc9c0\\ub97c\", \"\\uc7ac\\uc77c\", \"\\ud559\\uad50\", \"\\ud798\\ub4e4\", \"\\uacbd\\ucf8c\\ud55c\", \"\\uace8\\ubaa9\\uae38\", \"\\uad6c\\ub9e4\", \"\\ub098\\ub204\\ub294\", \"\\ub098\\ub204\\uba74\\uc11c\", \"\\ub300\\uad6c\", \"\\ub9c8\\uc74c\\uba39\\uc740\", \"\\ub9e4\\uc0ac\", \"\\ubd88\\ub7c9\", \"\\ubd88\\ud3b8\\ud55c\", \"\\uc0ac\\uc11c\", \"\\uc18c\\uc911\\ud568\\uc744\", \"\\uc190\\uae38\", \"\\uc54c\\ub824\\uc8fc\\ub294\", \"\\uc54c\\ubc14\", \"\\uc5f0\\ub839\", \"\\uccad\\uc18c\\ub144\", \"\\uc5b4\\ub978\", \"\\uc544\\ube60\", \"\\uc131\\uc7a5\", \"\\ud559\\uc0dd\", \"\\uc774\\uc758\", \"\\uce74\\ud398\", \"\\uc0c1\\uc810\", \"\\uce58\\uc720\", \"\\uc720\\uc9c4\", \"\\ubc31\\ud654\\uc810\", \"\\uc9c1\\uc5c5\", \"\\uc2ed\", \"\\ud30c\\ub294\", \"\\uc2ed\\ub300\", \"\\ud559\\ub144\", \"\\ub098\\uba74\", \"\\uc911\\ud559\\uc0dd\", \"\\uc6b8\", \"\\uc0ac\\ucd98\\uae30\", \"\\uc678\\ub85c\\uc6c0\", \"\\ud3b8\\uc758\\uc810\", \"\\ud559\\uc6d0\", \"\\ucc3e\\uc544\\uac00\\ub294\", \"\\ubcf4\\ub77c\", \"\\uc190\\ub2d8\", \"\\uc5c4\\ub9c8\", \"\\uc544\\ud514\", \"\\uce5c\\uad6c\", \"\\uc0c1\\ucc98\", \"\\uc544\\uc774\", \"\\uace0\\ubbfc\", \"\\uace0\\ub4f1\\ud559\\uad50\", \"\\uafc8\", \"\\ubd80\\ubaa8\", \"\\uc131\\uc801\", \"\\uc704\\ub85c\", \"\\uc6b4\\uc601\", \"\\ub3d9\\uc0dd\", \"\\uac00\\uc871\", \"\\uacf5\\uac10\", \"\\uc778\\uc0dd\", \"\\uc18c\\ub144\", \"\\uc900\", \"\\ub0a8\", \"\\uad00\\uacc4\", \"\\uc2dc\\uc808\", \"\\uac00\\uc2b4\", \"\\uac10\\ub3d9\", \"\\ud604\\uc2e4\", \"\\uc790\\uae30\", \"\\uae38\", \"\\ud070\", \"\\ud798\", \"\\ub530\\ub73b\\ud55c\", \"\\uc9d1\"], \"Freq\": [1050.0, 857.0, 589.0, 1050.0, 810.0, 530.0, 427.0, 468.0, 602.0, 764.0, 704.0, 404.0, 756.0, 597.0, 471.0, 475.0, 534.0, 341.0, 453.0, 547.0, 523.0, 739.0, 307.0, 303.0, 297.0, 715.0, 296.0, 432.0, 244.0, 247.0, 19.165295728964495, 19.165295728964495, 76.66118291585798, 19.165295728964495, 38.33059145792899, 82.71338156710992, 19.165295728964495, 19.165295728964495, 19.165295728964495, 51.44368853564154, 19.165295728964495, 22.19139505459047, 101.87867729607443, 10.086997752086576, 10.086997752086576, 57.49588718689349, 37.321891682720334, 6.052198651251946, 23.200094829799127, 11.095697527295235, 23.200094829799127, 12.104397302503893, 17.14789617854718, 213.84435234423543, 34.29579235709436, 31.26969303146839, 74.64378336544067, 8.069598201669262, 7.0608984264606045, 12.104397302503893, 581.0110705201869, 95.82647864482249, 91.79167954398785, 90.7829797687792, 89.77427999357054, 87.75688044315322, 85.73948089273591, 78.6785824662753, 78.6785824662753, 75.65248314064932, 67.58288493898007, 65.56548538856275, 59.51328673731081, 59.51328673731081, 57.49588718689349, 56.487187411684836, 56.487187411684836, 49.426288985224225, 48.41758921001557, 47.408889434806916, 47.408889434806916, 47.408889434806916, 45.3914898843896, 78.6785824662753, 158.36586470775924, 86.74818066794457, 57.49588718689349, 141.21796852921207, 156.34846515734193, 201.73995504173155, 433.7409033397228, 141.21796852921207, 140.20926875400343, 224.94004987153068, 184.59205886318438, 95.82647864482249, 132.13967055233417, 112.97437482336967, 163.40936358380253, 114.99177437378698, 108.93957572253504, 113.98307459857833, 101.87867729607443, 97.8438781952398, 106.92217617211772, 106.92217617211772, 118.01787369941296, 97.8438781952398, 100.86997752086577, 100.86997752086577, 100.86997752086577, 91.79167954398785, 26.729389730679483, 58.067294932165765, 17.512358789065868, 24.885983542356758, 49.771967084713516, 24.885983542356758, 17.512358789065868, 26.729389730679483, 17.512358789065868, 24.885983542356758, 86.64009085116797, 26.729389730679483, 35.024717578131735, 17.512358789065868, 43.320045425583984, 53.458779461358965, 53.458779461358965, 17.512358789065868, 17.512358789065868, 17.512358789065868, 17.512358789065868, 17.512358789065868, 35.024717578131735, 49.771967084713516, 24.885983542356758, 16.590655694904505, 7.373624753290891, 29.494499013163566, 9.217030941613615, 12.90384331825906, 341.9518479338651, 117.97799605265426, 97.70052798110432, 78.34476300371573, 74.65795062707026, 64.5192165912953, 62.67581040297258, 48.85026399055216, 47.9285608963908, 47.00685780222943, 47.00685780222943, 46.08515470806807, 38.71152995477718, 38.71152995477718, 37.78982686061582, 36.86812376645446, 36.86812376645446, 35.9464206722931, 34.10301448397037, 34.10301448397037, 34.10301448397037, 68.20602896794074, 209.22660237462904, 392.64551811274, 61.754107308811214, 74.65795062707026, 150.23760434830191, 58.067294932165765, 128.11673008842925, 47.00685780222943, 666.3913370786644, 70.04943515626347, 379.7416747944809, 482.9724213405534, 122.58651152346107, 93.09201251029751, 113.36948058184747, 71.8928413445862, 228.58236735201763, 72.81454443874755, 216.60022712791994, 199.08786833885407, 96.77882488694294, 88.4834970394907, 106.91755892271793, 91.24860632197479, 127.19502699426789, 139.17716721836555, 107.83926201687929, 131.80354246507468, 105.0741527343952, 137.33376103004287, 134.56865174755876, 94.93541869862023, 113.36948058184747, 95.8571217927816, 19.37446428253164, 47.79034523024471, 10.33304761735021, 50.37360713458227, 29.70751189988185, 56.83176189542615, 52.95686903891982, 38.74892856506328, 27.124249995544297, 34.87403570855696, 15.499571426025314, 33.58240475638818, 27.124249995544297, 30.99914285205063, 73.62296427362024, 98.16395236482698, 28.415880947713074, 9.041416665181432, 46.498714278075944, 33.58240475638818, 63.28991665627003, 23.249357139037972, 116.24678569518986, 94.28905950832066, 10.33304761735021, 6.458154760843881, 16.79120237819409, 54.24849999108859, 24.540988091206746, 11.624678569518986, 195.03627377748518, 151.12082140374682, 127.87146426470882, 94.28905950832066, 91.7057976039831, 89.12253569964555, 73.62296427362024, 72.33133332145145, 72.33133332145145, 71.03970236928268, 71.03970236928268, 71.03970236928268, 67.16480951277636, 61.99828570410126, 60.706654751932476, 59.4150237997637, 58.12339284759493, 58.12339284759493, 55.540130943257374, 55.540130943257374, 54.24849999108859, 52.95686903891982, 105.91373807783964, 87.83090474747678, 81.3727499866329, 271.242499955443, 240.24335710339236, 191.16138092097884, 138.20451188205905, 235.07683329471726, 118.8300475995274, 235.07683329471726, 185.99485711230378, 259.617821385924, 149.82919045157803, 105.91373807783964, 171.78691663844722, 195.03627377748518, 135.6212499777215, 149.82919045157803, 249.28477376857379, 142.07940473856536, 174.37017854278477, 147.24592854724048, 182.11996425579744, 133.03798807338393, 142.07940473856536, 123.99657140820251, 129.1630952168776, 140.7877737863966, 130.45472616904638, 129.1630952168776, 136.91288092989026, 122.70494045603373, 223.2891462388276, 161.55021179491214, 25.724556018298113, 25.724556018298113, 25.724556018298113, 51.449112036596226, 25.724556018298113, 40.130307388545056, 9.26084016658732, 91.57941942514128, 83.34756149928589, 8.231857925855397, 12.347786888783094, 13.376769129515019, 6.173893444391547, 28.81150274049389, 10.289822407319246, 19.550662573906568, 39.101325147813135, 9.26084016658732, 6.173893444391547, 7.202875685123472, 29.84048498122581, 11.31880464805117, 13.376769129515019, 23.666591536834265, 34.98539618488544, 11.31880464805117, 170.8110519614995, 18.52168033317464, 404.3900206076463, 225.34711072029148, 126.56481561002671, 221.23118175736377, 121.4199044063671, 121.4199044063671, 117.30397544343941, 114.21702872124364, 112.15906423977978, 111.13008199904786, 111.13008199904786, 97.75331286953283, 94.66636614733706, 86.43450822148166, 86.43450822148166, 175.9559631651591, 83.34756149928589, 166.69512299857178, 72.02875685123472, 67.91282788830702, 65.85486340684318, 59.68096996245162, 58.651987721719706, 56.59402324025585, 55.56504099952393, 953.8665371584941, 73.05773909196664, 132.73870905441825, 70.99977461050278, 154.34733610978867, 140.97056698027367, 143.02853146173751, 233.57896864614688, 111.13008199904786, 107.01415303612015, 135.82565577661404, 153.31835386905678, 130.6807445729544, 102.89822407319245, 96.72433062880091, 15.882398189072909, 25.147130466032106, 22.50006410118662, 92.64732276959197, 6.617665912113712, 14.558865006650166, 62.20605957386889, 6.617665912113712, 29.11773001330033, 7.941199094536454, 14.558865006650166, 25.147130466032106, 7.941199094536454, 30.441263195723078, 6.617665912113712, 58.23546002660066, 37.05892910783678, 91.32378958716923, 9.264732276959196, 7.941199094536454, 15.882398189072909, 14.558865006650166, 62.20605957386889, 14.558865006650166, 6.617665912113712, 7.941199094536454, 14.558865006650166, 7.941199094536454, 9.264732276959196, 7.941199094536454, 174.706380079802, 158.8239818907291, 138.97098415438796, 132.35331824227424, 128.38271869500602, 100.58852186412842, 96.6179223168602, 93.97085595201472, 90.00025640474648, 87.353190039901, 86.02965685747826, 76.76492458051905, 72.79432503325084, 71.47079185082809, 71.47079185082809, 68.8237254859826, 67.50019230355987, 66.17665912113712, 66.17665912113712, 66.17665912113712, 63.529592756291635, 60.882526391446156, 60.882526391446156, 59.558993209023406, 58.23546002660066, 74.11785821567356, 227.64770737671168, 79.41199094536455, 124.41211914773778, 72.79432503325084, 127.05918551258327, 83.38259049263277, 189.26524508645218, 93.97085595201472, 395.7364215444, 207.79470964037054, 174.706380079802, 115.14738687077859, 120.44151960046956, 187.94171190402943, 140.2945173368107, 144.26511688407894, 121.76505278289231, 177.3534464446475, 136.32391778954246, 131.0297850598515, 164.11811462042007, 157.50044870830635, 135.00038460711974, 132.35331824227424, 123.08858596531506, 113.82385368835584, 100.58852186412842, 113.82385368835584, 107.20618777624213, 107.20618777624213, 29.910852910385128, 15.835157423145068, 12.316233551335053, 25.51219807062261, 20.233812262907584, 32.55004581424264, 7.917578711572534, 6.158116775667526, 7.03784774362003, 6.158116775667526, 15.835157423145068, 5.278385807715022, 7.917578711572534, 33.42977678219514, 7.917578711572534, 7.917578711572534, 4.398654839762519, 34.309507750147645, 19.35408129495508, 5.278385807715022, 9.67704064747754, 15.835157423145068, 8.797309679525037, 26.39192903857511, 31.670314846290136, 26.39192903857511, 8.797309679525037, 14.07569548724006, 23.7527361347176, 8.797309679525037, 133.71910712878056, 91.49202066706039, 83.57444195548786, 79.17578711572534, 79.17578711572534, 76.53659421186782, 73.89740130801032, 292.95041232818375, 72.13793937210531, 62.46089872462777, 58.06224388486525, 55.423050981007734, 53.663589045102725, 51.02439614124522, 48.38520323738771, 44.86627936557769, 44.86627936557769, 44.86627936557769, 43.10681742967268, 39.58789355786267, 37.82843162195766, 36.94870065400516, 35.18923871810015, 34.309507750147645, 33.42977678219514, 33.42977678219514, 32.55004581424264, 238.40709231512852, 199.69892972521833, 189.1421581097883, 393.23974267476916, 80.05551808367784, 447.7830626878244, 107.32717809020545, 49.26493420534021, 147.79480261602063, 98.52986841068042, 284.1531026486587, 138.99749293649558, 149.55426455192563, 142.51641680830562, 232.248975539461, 63.34062969258027, 77.41632517982032, 140.7569548724006, 154.83265035964064, 306.1463768474713, 235.767899411271, 112.60556389792048, 133.71910712878056, 106.44744712225295, 141.6366858403531, 112.60556389792048, 149.55426455192563, 105.56771615430044, 149.55426455192563, 102.04879228249044, 124.04206648130302, 124.92179744925554, 155.71238132759316, 123.16233551335051, 110.84610196201547, 113.48529486587299, 113.48529486587299, 8.479851274588455, 14.647015837925515, 5.396268992919927, 4.625373422502794, 27.752240535016764, 18.501493690011177, 35.46119623918809, 9.250746845005589, 21.585075971679707, 45.48283865461081, 4.625373422502794, 66.29701905587339, 5.396268992919927, 16.95970254917691, 16.18880697875978, 71.6932880487933, 3.854477852085662, 55.50448107003353, 20.043284830845444, 5.396268992919927, 5.396268992919927, 8.479851274588455, 4.625373422502794, 52.420898788365, 3.854477852085662, 3.854477852085662, 47.795525365862204, 8.479851274588455, 3.854477852085662, 27.752240535016764, 77.86045261213036, 55.50448107003353, 53.19179435878213, 47.795525365862204, 47.02462979544507, 44.71194308419368, 43.170151943359414, 40.08656966169089, 37.773882950439486, 36.23209180960522, 34.69030066877096, 33.91940509835382, 33.148509527936696, 33.148509527936696, 32.37761395751956, 31.606718387102426, 30.064927246268162, 29.29403167585103, 28.523136105433895, 28.523136105433895, 28.523136105433895, 79.40224375296464, 99.44552858381007, 59.358958922119186, 49.337316506696475, 84.79851274588455, 59.358958922119186, 567.3791398270095, 189.64031032261457, 74.00597476004471, 43.941047513776546, 130.28135140049537, 145.69926280883803, 67.06791462629052, 102.5291108654786, 148.01194952008942, 74.77687033046183, 128.73956025966112, 81.71493046421602, 91.73657287963874, 188.86941475219743, 198.89105716762015, 147.24105394967228, 113.32164885131846, 122.57239569632405, 88.65299059797022, 110.23806656964993, 151.09553180175794, 168.82612992135196, 133.3649336821639, 118.71791784423837, 105.61269314714714, 168.82612992135196, 166.5134432101006, 102.5291108654786, 157.262696365095, 113.32164885131846, 102.5291108654786, 110.23806656964993, 100.98731972464434, 104.07090200631286, 109.4671709992328, 106.38358871756427, 100.98731972464434, 100.98731972464434, 11.192742972052903, 15.390021586572743, 25.183671687119034, 18.188207329585968, 11.192742972052903, 11.192742972052903, 15.390021586572743, 16.789114458079354, 11.192742972052903, 16.789114458079354, 9.79365010054629, 18.188207329585968, 29.380950301638872, 15.390021586572743, 13.99092871506613, 16.789114458079354, 9.79365010054629, 34.977321787665325, 20.986393072599196, 15.390021586572743, 11.192742972052903, 9.79365010054629, 13.99092871506613, 6.995464357533065, 29.380950301638872, 9.79365010054629, 22.385485944105806, 16.789114458079354, 34.977321787665325, 23.78457881561242, 247.63943825667047, 306.4013388599482, 302.2040602454284, 123.12017269258195, 121.72107982107534, 114.72561546354227, 95.13831526244968, 88.14285090491661, 82.54647941889017, 78.34920080437033, 68.55555070382403, 67.15645783231741, 67.15645783231741, 62.95917921779758, 55.96371486026452, 53.16552911725129, 51.76643624574468, 51.76643624574468, 50.36734337423807, 50.36734337423807, 48.96825050273146, 48.96825050273146, 47.56915763122484, 47.56915763122484, 46.17006475971822, 46.17006475971822, 44.77097188821161, 43.371879016705, 41.97278614519839, 40.573693273691774, 74.15192218985048, 72.75282931834387, 187.47844478188614, 53.16552911725129, 68.55555070382403, 123.12017269258195, 125.91835843559517, 349.77321787665323, 82.54647941889017, 181.88207329585967, 78.34920080437033, 130.115637050115, 107.7301511060092, 111.92742972052903, 125.91835843559517, 76.95010793286372, 151.1020301227142, 173.48751606682, 132.91382279312822, 127.31745130710178, 92.34012951943645, 88.14285090491661, 117.52380120655549, 138.5101942791547, 88.14285090491661, 118.9228940780621, 113.32652259203566, 86.74375803341, 83.94557229039678, 9.731733520254986, 23.356160448611966, 56.44405441747891, 21.409813744560967, 6.81221346417849, 11.678080224305983, 82.71973492216738, 54.49770771342792, 45.739147545198435, 46.71232089722393, 6.81221346417849, 14.597600280382478, 7.785386816203989, 13.62442692835698, 19.463467040509972, 29.195200560764956, 49.631840953300426, 6.81221346417849, 23.356160448611966, 14.597600280382478, 12.65125357633148, 6.81221346417849, 10.704906872280484, 5.839040112152992, 23.356160448611966, 21.409813744560967, 4.865866760127493, 5.839040112152992, 13.62442692835698, 50.60501430532592, 97.31733520254986, 85.63925497824387, 80.77338821811638, 58.39040112152991, 51.57818765735143, 50.60501430532592, 49.631840953300426, 49.631840953300426, 48.65866760127493, 46.71232089722393, 42.819627489121935, 42.819627489121935, 42.819627489121935, 41.84645413709644, 41.84645413709644, 40.87328078507094, 40.87328078507094, 92.45146844242235, 39.90010743304544, 39.90010743304544, 38.926934081019944, 38.926934081019944, 38.926934081019944, 279.3007520313181, 138.1906159876208, 55.47088106545341, 51.57818765735143, 166.41264319636025, 63.25626788165741, 44.76597419317294, 167.38581654838575, 113.86128218698335, 170.30533660446224, 74.9343481059634, 124.56618905926382, 103.15637531470286, 222.85669761383917, 301.6837391279046, 66.1757879377339, 129.4320558193913, 137.2174426355953, 130.4052291714168, 66.1757879377339, 129.4320558193913, 90.50512173837137, 112.88810883495782, 116.78080224305982, 117.75397559508532, 88.55877503432038, 77.85386816203989, 198.5273638132017, 142.0833093957228, 212.15179074155867, 95.37098849849886, 97.31733520254986, 159.60042973218177, 132.3515758754678, 106.07589537077934, 118.72714894711082, 95.37098849849886, 102.18320196267736, 97.31733520254986, 97.31733520254986, 36.98967892210455, 36.98967892210455, 18.88834668362786, 20.46237557393018, 6.2961155612092865, 4.722086670906965, 10.23118778696509, 75.55338673451143, 78.70144451511608, 18.88834668362786, 10.23118778696509, 4.722086670906965, 244.761492442011, 7.870144451511608, 4.722086670906965, 4.722086670906965, 4.722086670906965, 28.33252002544179, 7.083130006360448, 7.870144451511608, 6.2961155612092865, 11.018202232116252, 11.805216677267412, 16.527303348174378, 18.88834668362786, 14.166260012720896, 22.036404464232504, 5.509101116058126, 9.44417334181393, 10.23118778696509, 427.3488437170803, 165.27303348174377, 144.02364346266245, 133.00544123054618, 90.50666119238349, 70.83130006360447, 67.68324228299983, 66.89622783784867, 62.96115561209287, 59.026083386337056, 57.45205449603474, 55.87802560573241, 51.942953379976615, 50.36892448967429, 50.36892448967429, 48.007881154220804, 44.859823373616166, 40.92475114786036, 40.92475114786036, 40.92475114786036, 40.1377367027092, 39.35072225755804, 39.35072225755804, 38.563707812406875, 38.563707812406875, 69.25727117330216, 429.70988705253376, 71.61831450875563, 470.63463820039414, 240.03940577110407, 720.1182173133121, 209.34584241020877, 56.66504005088358, 343.1382980859061, 103.88590675995323, 67.68324228299983, 135.36648456599966, 69.25727117330216, 80.2754734054184, 266.7978969062435, 129.07036900479036, 226.66016020353433, 170.7821345978019, 94.4417334181393, 100.73784897934858, 134.5794701208485, 129.85738344994152, 110.96903676631366, 117.26515232752296, 145.59767235296474, 114.90410899206948, 105.45993565025555, 96.01576230844161, 93.65471897298814, 83.42353118602304, 91.29367563753465], \"Total\": [1050.0, 857.0, 589.0, 1050.0, 810.0, 530.0, 427.0, 468.0, 602.0, 764.0, 704.0, 404.0, 756.0, 597.0, 471.0, 475.0, 534.0, 341.0, 453.0, 547.0, 523.0, 739.0, 307.0, 303.0, 297.0, 715.0, 296.0, 432.0, 244.0, 247.0, 19.165295728964495, 19.165295728964495, 76.66118291585798, 19.165295728964495, 38.33059145792899, 82.71338156710992, 19.165295728964495, 19.165295728964495, 19.165295728964495, 51.44368853564154, 19.165295728964495, 22.19139505459047, 101.87867729607443, 10.086997752086576, 10.086997752086576, 57.49588718689349, 37.321891682720334, 6.052198651251946, 23.200094829799127, 11.095697527295235, 23.200094829799127, 12.104397302503893, 17.14789617854718, 213.84435234423543, 34.29579235709436, 31.26969303146839, 74.64378336544067, 8.069598201669262, 7.0608984264606045, 12.104397302503893, 589.537479387733, 95.82647864482249, 91.79167954398785, 90.7829797687792, 89.77427999357054, 87.75688044315322, 85.73948089273591, 78.6785824662753, 78.6785824662753, 75.65248314064932, 67.58288493898007, 65.56548538856275, 59.51328673731081, 59.51328673731081, 57.49588718689349, 56.487187411684836, 56.487187411684836, 49.426288985224225, 48.41758921001557, 47.408889434806916, 47.408889434806916, 47.408889434806916, 45.3914898843896, 81.76552918847108, 174.24826289683216, 92.02656647565959, 59.55385166835734, 174.80037328560024, 202.22832432766768, 281.3786250543477, 764.5630159212343, 188.7871261604369, 188.93376768132615, 365.82060877832674, 579.9560551502723, 171.73400010281136, 361.24393429946775, 258.74744889740515, 704.7434574811673, 283.8671180254862, 256.9515252426245, 313.0333320411795, 222.28937708775146, 194.05171760343762, 313.8479905394897, 394.13256456891463, 739.7144100654367, 227.51016517702905, 302.91583900807996, 390.79128194300347, 497.4037752110672, 267.123600357302, 26.729389730679483, 58.067294932165765, 17.512358789065868, 24.885983542356758, 49.771967084713516, 24.885983542356758, 17.512358789065868, 26.729389730679483, 17.512358789065868, 24.885983542356758, 86.64009085116797, 26.729389730679483, 35.024717578131735, 17.512358789065868, 43.320045425583984, 53.458779461358965, 53.458779461358965, 17.512358789065868, 17.512358789065868, 17.512358789065868, 17.512358789065868, 17.512358789065868, 35.024717578131735, 49.771967084713516, 24.885983542356758, 16.590655694904505, 7.373624753290891, 29.494499013163566, 9.217030941613615, 12.90384331825906, 341.9518479338651, 117.97799605265426, 97.70052798110432, 78.34476300371573, 74.65795062707026, 64.5192165912953, 62.67581040297258, 48.85026399055216, 47.9285608963908, 47.00685780222943, 47.00685780222943, 46.08515470806807, 38.71152995477718, 38.71152995477718, 37.78982686061582, 36.86812376645446, 36.86812376645446, 35.9464206722931, 34.10301448397037, 34.10301448397037, 34.10301448397037, 69.52956215036347, 230.21299544722822, 475.4875565004377, 64.67362736488771, 79.52381738719775, 171.77301739677523, 60.87170892773424, 147.38911934885755, 48.330390984652176, 1050.1353676290896, 76.54310591220664, 547.0909981222305, 756.5737220905726, 148.4191305668366, 110.82261062989156, 145.7954511635691, 81.68649144513249, 441.41139306699836, 89.77424698792446, 553.0027580207427, 520.1307295007502, 152.7401596142766, 130.80734105885767, 184.8490635460486, 139.78788389524553, 278.6780603113308, 344.6442346903005, 228.65583688621547, 411.54050055288013, 237.40177749286158, 516.1992536091876, 602.1728099414703, 203.91417924618455, 488.1063474337395, 579.9560551502723, 19.37446428253164, 47.79034523024471, 10.33304761735021, 50.37360713458227, 29.70751189988185, 56.83176189542615, 52.95686903891982, 38.74892856506328, 27.124249995544297, 34.87403570855696, 15.499571426025314, 33.58240475638818, 27.124249995544297, 30.99914285205063, 73.62296427362024, 98.16395236482698, 28.415880947713074, 9.041416665181432, 46.498714278075944, 33.58240475638818, 63.28991665627003, 23.249357139037972, 116.24678569518986, 94.28905950832066, 10.33304761735021, 6.458154760843881, 16.79120237819409, 54.24849999108859, 24.540988091206746, 11.624678569518986, 195.03627377748518, 151.12082140374682, 127.87146426470882, 94.28905950832066, 91.7057976039831, 89.12253569964555, 73.62296427362024, 72.33133332145145, 72.33133332145145, 71.03970236928268, 71.03970236928268, 71.03970236928268, 67.16480951277636, 61.99828570410126, 60.706654751932476, 59.4150237997637, 58.12339284759493, 58.12339284759493, 55.540130943257374, 55.540130943257374, 54.24849999108859, 52.95686903891982, 107.31283094934625, 89.15443792989952, 83.1322119225379, 312.01293483384495, 277.30228621122916, 218.3962748516126, 153.8734644828022, 281.3891304029857, 130.1488522475786, 310.1925368681477, 241.95857197256828, 390.7400592445323, 197.73485913689703, 127.3235518224006, 261.30837158212466, 316.7691627900608, 187.2767177549614, 224.33766074519383, 523.8734948684989, 216.65025366576833, 308.5699321653834, 247.0411482506333, 411.08994308995875, 224.36177766055317, 266.2039592188941, 206.69128239573786, 259.89427816729227, 449.2768084352771, 411.54050055288013, 520.1307295007502, 857.0310982432025, 398.7352415843443, 223.2891462388276, 161.55021179491214, 25.724556018298113, 25.724556018298113, 25.724556018298113, 51.449112036596226, 25.724556018298113, 40.130307388545056, 9.26084016658732, 91.57941942514128, 83.34756149928589, 8.231857925855397, 12.347786888783094, 13.376769129515019, 6.173893444391547, 28.81150274049389, 10.289822407319246, 19.550662573906568, 39.101325147813135, 9.26084016658732, 6.173893444391547, 7.202875685123472, 29.84048498122581, 11.31880464805117, 13.376769129515019, 23.666591536834265, 34.98539618488544, 11.31880464805117, 170.8110519614995, 18.52168033317464, 404.3900206076463, 225.34711072029148, 126.56481561002671, 222.52281270953256, 121.4199044063671, 121.4199044063671, 117.30397544343941, 114.21702872124364, 112.15906423977978, 111.13008199904786, 111.13008199904786, 97.75331286953283, 94.66636614733706, 86.43450822148166, 86.43450822148166, 177.27949634758184, 83.34756149928589, 168.0942158700784, 72.02875685123472, 67.91282788830702, 65.85486340684318, 59.68096996245162, 58.651987721719706, 56.59402324025585, 55.56504099952393, 1050.5264060834254, 73.82863466238378, 145.6425523726773, 73.20303876087802, 184.6931966348206, 175.29797071319817, 188.02865966411076, 398.41875207382407, 135.70927617349594, 141.86150894089212, 377.84055365310724, 756.5737220905726, 579.9560551502723, 220.3701916886269, 448.9248431695787, 15.882398189072909, 25.147130466032106, 22.50006410118662, 92.64732276959197, 6.617665912113712, 14.558865006650166, 62.20605957386889, 6.617665912113712, 29.11773001330033, 7.941199094536454, 14.558865006650166, 25.147130466032106, 7.941199094536454, 30.441263195723078, 6.617665912113712, 58.23546002660066, 37.05892910783678, 91.32378958716923, 9.264732276959196, 7.941199094536454, 15.882398189072909, 14.558865006650166, 62.20605957386889, 14.558865006650166, 6.617665912113712, 7.941199094536454, 14.558865006650166, 7.941199094536454, 9.264732276959196, 7.941199094536454, 174.706380079802, 158.8239818907291, 138.97098415438796, 132.35331824227424, 128.38271869500602, 100.58852186412842, 96.6179223168602, 93.97085595201472, 90.00025640474648, 87.353190039901, 86.02965685747826, 76.76492458051905, 72.79432503325084, 71.47079185082809, 71.47079185082809, 68.8237254859826, 67.50019230355987, 66.17665912113712, 66.17665912113712, 66.17665912113712, 63.529592756291635, 60.882526391446156, 60.882526391446156, 59.558993209023406, 58.23546002660066, 74.8887537860907, 247.23500757780425, 80.95378208619881, 138.01358328419158, 74.74067173730184, 142.62995914499123, 87.99110596343958, 233.6416341903702, 104.10958998778969, 704.7434574811673, 312.65570578848804, 275.87544139433993, 149.7149113990208, 164.11548497607305, 371.481087106996, 299.9291614578962, 338.92691858947285, 232.87628464867137, 574.7239524301526, 382.245785392901, 348.84640058541055, 715.8118859126536, 739.7144100654367, 441.41139306699836, 478.5119670003594, 390.4965351982794, 283.8671180254862, 170.26733541697428, 810.4504298818944, 394.13256456891463, 520.1307295007502, 29.910852910385128, 15.835157423145068, 12.316233551335053, 25.51219807062261, 20.233812262907584, 32.55004581424264, 7.917578711572534, 6.158116775667526, 7.03784774362003, 6.158116775667526, 15.835157423145068, 5.278385807715022, 7.917578711572534, 33.42977678219514, 7.917578711572534, 7.917578711572534, 4.398654839762519, 34.309507750147645, 19.35408129495508, 5.278385807715022, 9.67704064747754, 15.835157423145068, 8.797309679525037, 26.39192903857511, 31.670314846290136, 26.39192903857511, 8.797309679525037, 14.07569548724006, 23.7527361347176, 8.797309679525037, 133.71910712878056, 91.49202066706039, 83.57444195548786, 79.17578711572534, 79.17578711572534, 76.53659421186782, 73.89740130801032, 297.0663412911114, 72.13793937210531, 62.46089872462777, 58.06224388486525, 55.423050981007734, 53.663589045102725, 51.02439614124522, 48.38520323738771, 44.86627936557769, 44.86627936557769, 44.86627936557769, 43.10681742967268, 39.58789355786267, 37.82843162195766, 36.94870065400516, 35.18923871810015, 34.309507750147645, 33.42977678219514, 33.42977678219514, 32.55004581424264, 258.7360306445426, 219.05469470260692, 211.64222221097492, 471.640455503353, 87.25839376880131, 602.1728099414703, 124.41087471518622, 51.577620916591606, 181.54839190494147, 118.38286614702156, 432.1683013292263, 189.6025072418215, 212.30189877104976, 205.47757242039847, 404.4680582824192, 71.12601650878426, 93.72804986055442, 220.6742208026446, 253.96868315014694, 739.7144100654367, 534.680516934356, 168.33539486496326, 225.29979114379285, 163.01153405440078, 333.1053327710077, 198.36532725617965, 390.79128194300347, 192.482950512301, 542.3515307680879, 181.71139670383528, 355.9212084828029, 371.481087106996, 1050.1353676290896, 516.1992536091876, 264.9124709916608, 321.10137374167437, 406.8696280472187, 8.479851274588455, 14.647015837925515, 5.396268992919927, 4.625373422502794, 27.752240535016764, 18.501493690011177, 35.46119623918809, 9.250746845005589, 21.585075971679707, 45.48283865461081, 4.625373422502794, 66.29701905587339, 5.396268992919927, 16.95970254917691, 16.18880697875978, 71.6932880487933, 3.854477852085662, 55.50448107003353, 20.043284830845444, 5.396268992919927, 5.396268992919927, 8.479851274588455, 4.625373422502794, 52.420898788365, 3.854477852085662, 3.854477852085662, 47.795525365862204, 8.479851274588455, 3.854477852085662, 27.752240535016764, 77.86045261213036, 55.50448107003353, 53.19179435878213, 47.795525365862204, 47.02462979544507, 44.71194308419368, 43.170151943359414, 40.08656966169089, 37.773882950439486, 36.23209180960522, 34.69030066877096, 33.91940509835382, 33.148509527936696, 33.148509527936696, 32.37761395751956, 31.606718387102426, 30.064927246268162, 29.29403167585103, 28.523136105433895, 28.523136105433895, 28.523136105433895, 80.97627264326695, 102.34309065653513, 60.36765869732784, 50.25901960085783, 90.8507113971365, 62.77639400074423, 810.4504298818944, 240.61551658109437, 83.04739142522614, 46.70615679626063, 183.24270417425447, 219.8171210245116, 81.62677963294068, 145.18956603361502, 256.9515252426245, 99.47244410802801, 219.2446819980325, 115.9060283644483, 146.28243773780477, 497.4037752110672, 553.0027580207427, 335.0934737278256, 213.55014939806634, 247.3731743564898, 144.51063671035814, 217.4646282581029, 396.8216932943131, 516.1992536091876, 323.54879577960867, 261.3348063561483, 211.60834537371449, 579.9560551502723, 574.7239524301526, 203.7884267401786, 739.7144100654367, 302.91583900807996, 258.19880241169807, 377.84055365310724, 264.9124709916608, 351.724519139466, 488.1063474337395, 411.08994308995875, 308.36390346011643, 542.3515307680879, 11.192742972052903, 15.390021586572743, 25.183671687119034, 18.188207329585968, 11.192742972052903, 11.192742972052903, 15.390021586572743, 16.789114458079354, 11.192742972052903, 16.789114458079354, 9.79365010054629, 18.188207329585968, 29.380950301638872, 15.390021586572743, 13.99092871506613, 16.789114458079354, 9.79365010054629, 34.977321787665325, 20.986393072599196, 15.390021586572743, 11.192742972052903, 9.79365010054629, 13.99092871506613, 6.995464357533065, 29.380950301638872, 9.79365010054629, 22.385485944105806, 16.789114458079354, 34.977321787665325, 23.78457881561242, 247.63943825667047, 307.41003863515687, 303.21276002063706, 123.12017269258195, 121.72107982107534, 114.72561546354227, 95.13831526244968, 88.14285090491661, 82.54647941889017, 78.34920080437033, 68.55555070382403, 67.15645783231741, 67.15645783231741, 62.95917921779758, 55.96371486026452, 53.16552911725129, 51.76643624574468, 51.76643624574468, 50.36734337423807, 50.36734337423807, 48.96825050273146, 48.96825050273146, 47.56915763122484, 47.56915763122484, 46.17006475971822, 46.17006475971822, 44.77097188821161, 43.371879016705, 41.97278614519839, 40.573693273691774, 74.92281776026762, 74.59623550666659, 203.36084297095906, 54.13870246927679, 73.70046190748364, 149.34636684800705, 162.0840250963209, 597.2713094394965, 96.71273943161107, 281.3376566128554, 96.8506944943815, 209.75975543977685, 162.4336609449451, 182.89856797095388, 236.88739520190882, 102.00495728668473, 355.9212084828029, 542.3515307680879, 332.84335605945284, 302.6788939615017, 163.7734070007687, 151.24431134576656, 396.8216932943131, 1050.1353676290896, 162.33111166083933, 715.8118859126536, 574.7239524301526, 172.45768981395236, 227.58130959186164, 9.731733520254986, 23.356160448611966, 56.44405441747891, 21.409813744560967, 6.81221346417849, 11.678080224305983, 82.71973492216738, 54.49770771342792, 45.739147545198435, 46.71232089722393, 6.81221346417849, 14.597600280382478, 7.785386816203989, 13.62442692835698, 19.463467040509972, 29.195200560764956, 49.631840953300426, 6.81221346417849, 23.356160448611966, 14.597600280382478, 12.65125357633148, 6.81221346417849, 10.704906872280484, 5.839040112152992, 23.356160448611966, 21.409813744560967, 4.865866760127493, 5.839040112152992, 13.62442692835698, 50.60501430532592, 97.31733520254986, 85.63925497824387, 80.77338821811638, 58.39040112152991, 51.57818765735143, 50.60501430532592, 49.631840953300426, 49.631840953300426, 48.65866760127493, 46.71232089722393, 42.819627489121935, 42.819627489121935, 42.819627489121935, 41.84645413709644, 41.84645413709644, 40.87328078507094, 40.87328078507094, 93.23848288757351, 39.90010743304544, 39.90010743304544, 38.926934081019944, 38.926934081019944, 38.926934081019944, 296.0156404224157, 153.59809991808643, 57.012672206287675, 52.90172083977417, 194.06910202012395, 68.40117908531703, 45.64570516112544, 232.46768453415552, 145.0253003506319, 250.47847592784402, 88.04744518367595, 171.59081885470889, 137.8466759834738, 398.7352415843443, 715.8118859126536, 77.67120847290673, 212.14543738650121, 238.97056490766357, 221.8018778589035, 77.98100461500131, 226.65026206675648, 128.85568179837693, 188.61485047282872, 199.8787937734056, 213.3236560256422, 130.75665002843047, 104.32453181049473, 597.2713094394965, 323.54879577960867, 764.5630159212343, 156.8197803024093, 166.2591453315888, 478.5119670003594, 341.26704850580325, 201.73374716387036, 292.9161227073501, 161.6468372635791, 348.84640058541055, 303.74884737470006, 448.9248431695787, 36.98967892210455, 36.98967892210455, 18.88834668362786, 20.46237557393018, 6.2961155612092865, 4.722086670906965, 10.23118778696509, 75.55338673451143, 78.70144451511608, 18.88834668362786, 10.23118778696509, 4.722086670906965, 244.761492442011, 7.870144451511608, 4.722086670906965, 4.722086670906965, 4.722086670906965, 28.33252002544179, 7.083130006360448, 7.870144451511608, 6.2961155612092865, 11.018202232116252, 11.805216677267412, 16.527303348174378, 18.88834668362786, 14.166260012720896, 22.036404464232504, 5.509101116058126, 9.44417334181393, 10.23118778696509, 427.3488437170803, 165.27303348174377, 144.02364346266245, 133.00544123054618, 90.50666119238349, 70.83130006360447, 67.68324228299983, 66.89622783784867, 62.96115561209287, 59.026083386337056, 57.45205449603474, 55.87802560573241, 51.942953379976615, 50.36892448967429, 50.36892448967429, 48.007881154220804, 44.859823373616166, 40.92475114786036, 40.92475114786036, 40.92475114786036, 40.1377367027092, 39.35072225755804, 39.35072225755804, 38.563707812406875, 38.563707812406875, 70.0281667437193, 468.6368211335537, 73.46172069707835, 530.3156081628457, 262.42489171520987, 857.0310982432025, 234.52951409732782, 58.61138675493458, 453.36687342550306, 125.50567019306399, 75.7528404846691, 192.6849762434564, 78.51811133988947, 96.99036179651597, 534.680516934356, 211.1294263150004, 523.8734948684989, 338.92691858947285, 131.42232079510825, 167.59740254373887, 351.724519139466, 341.26704850580325, 236.88739520190882, 332.84335605945284, 704.7434574811673, 394.13256456891463, 321.10137374167437, 449.2768084352771, 390.79128194300347, 172.94007800263256, 810.4504298818944], \"Category\": [\"Default\", \"Default\", \"Default\", \"Default\", \"Default\", \"Default\", \"Default\", \"Default\", \"Default\", \"Default\", \"Default\", \"Default\", \"Default\", \"Default\", \"Default\", \"Default\", \"Default\", \"Default\", \"Default\", \"Default\", \"Default\", \"Default\", \"Default\", \"Default\", \"Default\", \"Default\", \"Default\", \"Default\", \"Default\", \"Default\", \"Topic1\", \"Topic1\", \"Topic1\", \"Topic1\", \"Topic1\", \"Topic1\", \"Topic1\", \"Topic1\", \"Topic1\", \"Topic1\", \"Topic1\", \"Topic1\", \"Topic1\", \"Topic1\", \"Topic1\", \"Topic1\", \"Topic1\", \"Topic1\", \"Topic1\", \"Topic1\", \"Topic1\", \"Topic1\", \"Topic1\", \"Topic1\", \"Topic1\", \"Topic1\", \"Topic1\", \"Topic1\", \"Topic1\", \"Topic1\", \"Topic1\", \"Topic1\", \"Topic1\", \"Topic1\", \"Topic1\", \"Topic1\", \"Topic1\", \"Topic1\", \"Topic1\", \"Topic1\", \"Topic1\", \"Topic1\", \"Topic1\", \"Topic1\", \"Topic1\", \"Topic1\", \"Topic1\", \"Topic1\", \"Topic1\", \"Topic1\", \"Topic1\", \"Topic1\", \"Topic1\", \"Topic1\", \"Topic1\", \"Topic1\", \"Topic1\", \"Topic1\", \"Topic1\", \"Topic1\", \"Topic1\", \"Topic1\", \"Topic1\", \"Topic1\", \"Topic1\", \"Topic1\", \"Topic1\", \"Topic1\", \"Topic1\", \"Topic1\", \"Topic1\", \"Topic1\", \"Topic1\", \"Topic1\", \"Topic1\", \"Topic1\", \"Topic1\", \"Topic1\", \"Topic1\", \"Topic1\", \"Topic1\", \"Topic1\", \"Topic2\", \"Topic2\", \"Topic2\", \"Topic2\", \"Topic2\", \"Topic2\", \"Topic2\", \"Topic2\", \"Topic2\", \"Topic2\", \"Topic2\", \"Topic2\", \"Topic2\", \"Topic2\", \"Topic2\", \"Topic2\", \"Topic2\", \"Topic2\", \"Topic2\", \"Topic2\", \"Topic2\", \"Topic2\", \"Topic2\", \"Topic2\", \"Topic2\", \"Topic2\", \"Topic2\", \"Topic2\", \"Topic2\", \"Topic2\", \"Topic2\", \"Topic2\", \"Topic2\", \"Topic2\", \"Topic2\", \"Topic2\", \"Topic2\", \"Topic2\", \"Topic2\", \"Topic2\", \"Topic2\", \"Topic2\", \"Topic2\", \"Topic2\", \"Topic2\", \"Topic2\", \"Topic2\", \"Topic2\", \"Topic2\", \"Topic2\", \"Topic2\", \"Topic2\", \"Topic2\", \"Topic2\", \"Topic2\", \"Topic2\", \"Topic2\", \"Topic2\", \"Topic2\", \"Topic2\", \"Topic2\", \"Topic2\", \"Topic2\", \"Topic2\", \"Topic2\", \"Topic2\", \"Topic2\", \"Topic2\", \"Topic2\", \"Topic2\", \"Topic2\", \"Topic2\", \"Topic2\", \"Topic2\", \"Topic2\", \"Topic2\", \"Topic2\", \"Topic2\", \"Topic2\", \"Topic2\", \"Topic2\", \"Topic2\", \"Topic2\", \"Topic2\", \"Topic2\", \"Topic2\", \"Topic3\", \"Topic3\", \"Topic3\", \"Topic3\", \"Topic3\", \"Topic3\", \"Topic3\", \"Topic3\", \"Topic3\", \"Topic3\", \"Topic3\", \"Topic3\", \"Topic3\", \"Topic3\", \"Topic3\", \"Topic3\", \"Topic3\", \"Topic3\", \"Topic3\", \"Topic3\", \"Topic3\", \"Topic3\", \"Topic3\", \"Topic3\", \"Topic3\", \"Topic3\", \"Topic3\", \"Topic3\", \"Topic3\", \"Topic3\", \"Topic3\", \"Topic3\", \"Topic3\", \"Topic3\", \"Topic3\", \"Topic3\", \"Topic3\", \"Topic3\", \"Topic3\", \"Topic3\", \"Topic3\", \"Topic3\", \"Topic3\", \"Topic3\", \"Topic3\", \"Topic3\", \"Topic3\", \"Topic3\", \"Topic3\", \"Topic3\", \"Topic3\", \"Topic3\", \"Topic3\", \"Topic3\", \"Topic3\", \"Topic3\", \"Topic3\", \"Topic3\", \"Topic3\", \"Topic3\", \"Topic3\", \"Topic3\", \"Topic3\", \"Topic3\", \"Topic3\", \"Topic3\", \"Topic3\", \"Topic3\", \"Topic3\", \"Topic3\", \"Topic3\", \"Topic3\", \"Topic3\", \"Topic3\", \"Topic3\", \"Topic3\", \"Topic3\", \"Topic3\", \"Topic3\", \"Topic3\", \"Topic3\", \"Topic3\", \"Topic3\", \"Topic3\", \"Topic4\", \"Topic4\", \"Topic4\", \"Topic4\", \"Topic4\", \"Topic4\", \"Topic4\", \"Topic4\", \"Topic4\", \"Topic4\", \"Topic4\", \"Topic4\", \"Topic4\", \"Topic4\", \"Topic4\", \"Topic4\", \"Topic4\", \"Topic4\", \"Topic4\", \"Topic4\", \"Topic4\", \"Topic4\", \"Topic4\", \"Topic4\", \"Topic4\", \"Topic4\", \"Topic4\", \"Topic4\", \"Topic4\", \"Topic4\", \"Topic4\", \"Topic4\", \"Topic4\", \"Topic4\", \"Topic4\", \"Topic4\", \"Topic4\", \"Topic4\", \"Topic4\", \"Topic4\", \"Topic4\", \"Topic4\", \"Topic4\", \"Topic4\", \"Topic4\", \"Topic4\", \"Topic4\", \"Topic4\", \"Topic4\", \"Topic4\", \"Topic4\", \"Topic4\", \"Topic4\", \"Topic4\", \"Topic4\", \"Topic4\", \"Topic4\", \"Topic4\", \"Topic4\", \"Topic4\", \"Topic4\", \"Topic4\", \"Topic4\", \"Topic4\", \"Topic4\", \"Topic4\", \"Topic4\", \"Topic4\", \"Topic4\", \"Topic4\", \"Topic5\", \"Topic5\", \"Topic5\", \"Topic5\", \"Topic5\", \"Topic5\", \"Topic5\", \"Topic5\", \"Topic5\", \"Topic5\", \"Topic5\", \"Topic5\", \"Topic5\", \"Topic5\", \"Topic5\", \"Topic5\", \"Topic5\", \"Topic5\", \"Topic5\", \"Topic5\", \"Topic5\", \"Topic5\", \"Topic5\", \"Topic5\", \"Topic5\", \"Topic5\", \"Topic5\", \"Topic5\", \"Topic5\", \"Topic5\", \"Topic5\", \"Topic5\", \"Topic5\", \"Topic5\", \"Topic5\", \"Topic5\", \"Topic5\", \"Topic5\", \"Topic5\", \"Topic5\", \"Topic5\", \"Topic5\", \"Topic5\", \"Topic5\", \"Topic5\", \"Topic5\", \"Topic5\", \"Topic5\", \"Topic5\", \"Topic5\", \"Topic5\", \"Topic5\", \"Topic5\", \"Topic5\", \"Topic5\", \"Topic5\", \"Topic5\", \"Topic5\", \"Topic5\", \"Topic5\", \"Topic5\", \"Topic5\", \"Topic5\", \"Topic5\", \"Topic5\", \"Topic5\", \"Topic5\", \"Topic5\", \"Topic5\", \"Topic5\", \"Topic5\", \"Topic5\", \"Topic5\", \"Topic5\", \"Topic5\", \"Topic5\", \"Topic5\", \"Topic5\", \"Topic5\", \"Topic5\", \"Topic5\", \"Topic5\", \"Topic5\", \"Topic5\", \"Topic5\", \"Topic5\", \"Topic6\", \"Topic6\", \"Topic6\", \"Topic6\", \"Topic6\", \"Topic6\", \"Topic6\", \"Topic6\", \"Topic6\", \"Topic6\", \"Topic6\", \"Topic6\", \"Topic6\", \"Topic6\", \"Topic6\", \"Topic6\", \"Topic6\", \"Topic6\", \"Topic6\", \"Topic6\", \"Topic6\", \"Topic6\", \"Topic6\", \"Topic6\", \"Topic6\", \"Topic6\", \"Topic6\", \"Topic6\", \"Topic6\", \"Topic6\", \"Topic6\", \"Topic6\", \"Topic6\", \"Topic6\", \"Topic6\", \"Topic6\", \"Topic6\", \"Topic6\", \"Topic6\", \"Topic6\", \"Topic6\", \"Topic6\", \"Topic6\", \"Topic6\", \"Topic6\", \"Topic6\", \"Topic6\", \"Topic6\", \"Topic6\", \"Topic6\", \"Topic6\", \"Topic6\", \"Topic6\", \"Topic6\", \"Topic6\", \"Topic6\", \"Topic6\", \"Topic6\", \"Topic6\", \"Topic6\", \"Topic6\", \"Topic6\", \"Topic6\", \"Topic6\", \"Topic6\", \"Topic6\", \"Topic6\", \"Topic6\", \"Topic6\", \"Topic6\", \"Topic6\", \"Topic6\", \"Topic6\", \"Topic6\", \"Topic6\", \"Topic6\", \"Topic6\", \"Topic6\", \"Topic6\", \"Topic6\", \"Topic6\", \"Topic6\", \"Topic6\", \"Topic6\", \"Topic6\", \"Topic6\", \"Topic6\", \"Topic6\", \"Topic6\", \"Topic6\", \"Topic6\", \"Topic6\", \"Topic6\", \"Topic6\", \"Topic7\", \"Topic7\", \"Topic7\", \"Topic7\", \"Topic7\", \"Topic7\", \"Topic7\", \"Topic7\", \"Topic7\", \"Topic7\", \"Topic7\", \"Topic7\", \"Topic7\", \"Topic7\", \"Topic7\", \"Topic7\", \"Topic7\", \"Topic7\", \"Topic7\", \"Topic7\", \"Topic7\", \"Topic7\", \"Topic7\", \"Topic7\", \"Topic7\", \"Topic7\", \"Topic7\", \"Topic7\", \"Topic7\", \"Topic7\", \"Topic7\", \"Topic7\", \"Topic7\", \"Topic7\", \"Topic7\", \"Topic7\", \"Topic7\", \"Topic7\", \"Topic7\", \"Topic7\", \"Topic7\", \"Topic7\", \"Topic7\", \"Topic7\", \"Topic7\", \"Topic7\", \"Topic7\", \"Topic7\", \"Topic7\", \"Topic7\", \"Topic7\", \"Topic7\", \"Topic7\", \"Topic7\", \"Topic7\", \"Topic7\", \"Topic7\", \"Topic7\", \"Topic7\", \"Topic7\", \"Topic7\", \"Topic7\", \"Topic7\", \"Topic7\", \"Topic7\", \"Topic7\", \"Topic7\", \"Topic7\", \"Topic7\", \"Topic7\", \"Topic7\", \"Topic7\", \"Topic7\", \"Topic7\", \"Topic7\", \"Topic7\", \"Topic7\", \"Topic7\", \"Topic7\", \"Topic7\", \"Topic7\", \"Topic7\", \"Topic7\", \"Topic7\", \"Topic7\", \"Topic7\", \"Topic7\", \"Topic7\", \"Topic7\", \"Topic7\", \"Topic7\", \"Topic7\", \"Topic7\", \"Topic7\", \"Topic7\", \"Topic8\", \"Topic8\", \"Topic8\", \"Topic8\", \"Topic8\", \"Topic8\", \"Topic8\", \"Topic8\", \"Topic8\", \"Topic8\", \"Topic8\", \"Topic8\", \"Topic8\", \"Topic8\", \"Topic8\", \"Topic8\", \"Topic8\", \"Topic8\", \"Topic8\", \"Topic8\", \"Topic8\", \"Topic8\", \"Topic8\", \"Topic8\", \"Topic8\", \"Topic8\", \"Topic8\", \"Topic8\", \"Topic8\", \"Topic8\", \"Topic8\", \"Topic8\", \"Topic8\", \"Topic8\", \"Topic8\", \"Topic8\", \"Topic8\", \"Topic8\", \"Topic8\", \"Topic8\", \"Topic8\", \"Topic8\", \"Topic8\", \"Topic8\", \"Topic8\", \"Topic8\", \"Topic8\", \"Topic8\", \"Topic8\", \"Topic8\", \"Topic8\", \"Topic8\", \"Topic8\", \"Topic8\", \"Topic8\", \"Topic8\", \"Topic8\", \"Topic8\", \"Topic8\", \"Topic8\", \"Topic8\", \"Topic8\", \"Topic8\", \"Topic8\", \"Topic8\", \"Topic8\", \"Topic8\", \"Topic8\", \"Topic8\", \"Topic8\", \"Topic8\", \"Topic8\", \"Topic8\", \"Topic8\", \"Topic8\", \"Topic8\", \"Topic8\", \"Topic8\", \"Topic8\", \"Topic8\", \"Topic8\", \"Topic8\", \"Topic8\", \"Topic8\", \"Topic8\", \"Topic8\", \"Topic8\", \"Topic8\", \"Topic8\", \"Topic9\", \"Topic9\", \"Topic9\", \"Topic9\", \"Topic9\", \"Topic9\", \"Topic9\", \"Topic9\", \"Topic9\", \"Topic9\", \"Topic9\", \"Topic9\", \"Topic9\", \"Topic9\", \"Topic9\", \"Topic9\", \"Topic9\", \"Topic9\", \"Topic9\", \"Topic9\", \"Topic9\", \"Topic9\", \"Topic9\", \"Topic9\", \"Topic9\", \"Topic9\", \"Topic9\", \"Topic9\", \"Topic9\", \"Topic9\", \"Topic9\", \"Topic9\", \"Topic9\", \"Topic9\", \"Topic9\", \"Topic9\", \"Topic9\", \"Topic9\", \"Topic9\", \"Topic9\", \"Topic9\", \"Topic9\", \"Topic9\", \"Topic9\", \"Topic9\", \"Topic9\", \"Topic9\", \"Topic9\", \"Topic9\", \"Topic9\", \"Topic9\", \"Topic9\", \"Topic9\", \"Topic9\", \"Topic9\", \"Topic9\", \"Topic9\", \"Topic9\", \"Topic9\", \"Topic9\", \"Topic9\", \"Topic9\", \"Topic9\", \"Topic9\", \"Topic9\", \"Topic9\", \"Topic9\", \"Topic9\", \"Topic9\", \"Topic9\", \"Topic9\", \"Topic9\", \"Topic9\", \"Topic9\", \"Topic9\", \"Topic9\", \"Topic9\", \"Topic9\", \"Topic9\", \"Topic9\", \"Topic9\", \"Topic9\", \"Topic9\", \"Topic9\", \"Topic9\", \"Topic9\", \"Topic9\", \"Topic9\", \"Topic9\", \"Topic9\", \"Topic9\", \"Topic9\", \"Topic9\", \"Topic10\", \"Topic10\", \"Topic10\", \"Topic10\", \"Topic10\", \"Topic10\", \"Topic10\", \"Topic10\", \"Topic10\", \"Topic10\", \"Topic10\", \"Topic10\", \"Topic10\", \"Topic10\", \"Topic10\", \"Topic10\", \"Topic10\", \"Topic10\", \"Topic10\", \"Topic10\", \"Topic10\", \"Topic10\", \"Topic10\", \"Topic10\", \"Topic10\", \"Topic10\", \"Topic10\", \"Topic10\", \"Topic10\", \"Topic10\", \"Topic10\", \"Topic10\", \"Topic10\", \"Topic10\", \"Topic10\", \"Topic10\", \"Topic10\", \"Topic10\", \"Topic10\", \"Topic10\", \"Topic10\", \"Topic10\", \"Topic10\", \"Topic10\", \"Topic10\", \"Topic10\", \"Topic10\", \"Topic10\", \"Topic10\", \"Topic10\", \"Topic10\", \"Topic10\", \"Topic10\", \"Topic10\", \"Topic10\", \"Topic10\", \"Topic10\", \"Topic10\", \"Topic10\", \"Topic10\", \"Topic10\", \"Topic10\", \"Topic10\", \"Topic10\", \"Topic10\", \"Topic10\", \"Topic10\", \"Topic10\", \"Topic10\", \"Topic10\", \"Topic10\", \"Topic10\", \"Topic10\", \"Topic10\", \"Topic10\", \"Topic10\", \"Topic10\", \"Topic10\", \"Topic10\", \"Topic10\", \"Topic10\", \"Topic10\", \"Topic10\", \"Topic10\", \"Topic10\", \"Topic10\"], \"logprob\": [30.0, 29.0, 28.0, 27.0, 26.0, 25.0, 24.0, 23.0, 22.0, 21.0, 20.0, 19.0, 18.0, 17.0, 16.0, 15.0, 14.0, 13.0, 12.0, 11.0, 10.0, 9.0, 8.0, 7.0, 6.0, 5.0, 4.0, 3.0, 2.0, 1.0, -7.4327, -7.4327, -6.0464, -7.4327, -6.7395, -5.9704, -7.4327, -7.4327, -7.4327, -6.4453, -7.4327, -7.2861, -5.762, -8.0745, -8.0745, -6.3341, -6.7662, -8.5854, -7.2416, -7.9792, -7.2416, -7.8922, -7.5439, -5.0205, -6.8507, -6.9431, -6.073, -8.2977, -8.4312, -7.8922, -4.021, -5.8232, -5.8663, -5.8773, -5.8885, -5.9112, -5.9345, -6.0204, -6.0204, -6.0596, -6.1724, -6.2027, -6.2996, -6.2996, -6.3341, -6.3518, -6.3518, -6.4853, -6.5059, -6.527, -6.527, -6.527, -6.5704, -6.0204, -5.3209, -5.9228, -6.3341, -5.4355, -5.3337, -5.0788, -4.3133, -5.4355, -5.4426, -4.9699, -5.1676, -5.8232, -5.5019, -5.6586, -5.2895, -5.6409, -5.695, -5.6497, -5.762, -5.8024, -5.7137, -5.7137, -5.6149, -5.8024, -5.7719, -5.7719, -5.7719, -5.8663, -7.0927, -6.3168, -7.5155, -7.1641, -6.471, -7.1641, -7.5155, -7.0927, -7.5155, -7.1641, -5.9167, -7.0927, -6.8224, -7.5155, -6.6098, -6.3995, -6.3995, -7.5155, -7.5155, -7.5155, -7.5155, -7.5155, -6.8224, -6.471, -7.1641, -7.5696, -8.3805, -6.9942, -8.1574, -7.8209, -4.5438, -5.6079, -5.7965, -6.0173, -6.0655, -6.2115, -6.2404, -6.4897, -6.5087, -6.5281, -6.5281, -6.5479, -6.7223, -6.7223, -6.7464, -6.7711, -6.7711, -6.7964, -6.849, -6.849, -6.849, -6.1559, -5.035, -4.4055, -6.2553, -6.0655, -5.3662, -6.3168, -5.5255, -6.5281, -3.8765, -6.1292, -4.4389, -4.1985, -5.5696, -5.8448, -5.6478, -6.1032, -4.9465, -6.0905, -5.0004, -5.0847, -5.806, -5.8956, -5.7064, -5.8648, -5.5327, -5.4427, -5.6978, -5.4971, -5.7238, -5.456, -5.4763, -5.8252, -5.6478, -5.8156, -7.4102, -6.5073, -8.0388, -6.4547, -6.9827, -6.334, -6.4047, -6.717, -7.0737, -6.8224, -7.6333, -6.8601, -7.0737, -6.9402, -6.0752, -5.7875, -7.0272, -8.1723, -6.5347, -6.8601, -6.2264, -7.2279, -5.6184, -5.8278, -8.0388, -8.5088, -7.5533, -6.3806, -7.1738, -7.921, -5.101, -5.3561, -5.5231, -5.8278, -5.8556, -5.8841, -6.0752, -6.0929, -6.0929, -6.1109, -6.1109, -6.1109, -6.167, -6.247, -6.2681, -6.2896, -6.3116, -6.3116, -6.357, -6.357, -6.3806, -6.4047, -5.7115, -5.8987, -5.9751, -4.7711, -4.8925, -5.121, -5.4454, -4.9142, -5.5964, -4.9142, -5.1484, -4.8149, -5.3646, -5.7115, -5.2279, -5.101, -5.4643, -5.3646, -4.8555, -5.4178, -5.213, -5.382, -5.1695, -5.4835, -5.4178, -5.5539, -5.5131, -5.4269, -5.5031, -5.5131, -5.4548, -5.5644, -4.9616, -5.2852, -7.1226, -7.1226, -7.1226, -6.4295, -7.1226, -6.6779, -8.1443, -5.8528, -5.947, -8.262, -7.8566, -7.7765, -8.5497, -7.0093, -8.0389, -7.397, -6.7039, -8.1443, -8.5497, -8.3956, -6.9742, -7.9436, -7.7765, -7.206, -6.8151, -7.9436, -5.2295, -7.4511, -4.3677, -4.9524, -5.5293, -4.9708, -5.5708, -5.5708, -5.6053, -5.632, -5.6501, -5.6594, -5.6594, -5.7876, -5.8197, -5.9107, -5.9107, -5.1998, -5.947, -5.2539, -6.093, -6.1518, -6.1826, -6.281, -6.2984, -6.3342, -6.3525, -3.5095, -6.0788, -5.4817, -6.1074, -5.3308, -5.4215, -5.407, -4.9165, -5.6594, -5.6971, -5.4587, -5.3375, -5.4973, -5.7363, -5.7982, -7.5625, -7.103, -7.2142, -5.7989, -8.438, -7.6495, -6.1973, -8.438, -6.9564, -8.2557, -7.6495, -7.103, -8.2557, -6.9119, -8.438, -6.2632, -6.7152, -5.8133, -8.1015, -8.2557, -7.5625, -7.6495, -6.1973, -7.6495, -8.438, -8.2557, -7.6495, -8.2557, -8.1015, -8.2557, -5.1646, -5.2599, -5.3935, -5.4422, -5.4727, -5.7167, -5.757, -5.7847, -5.8279, -5.8578, -5.873, -5.987, -6.0401, -6.0584, -6.0584, -6.0962, -6.1156, -6.1354, -6.1354, -6.1354, -6.1762, -6.2188, -6.2188, -6.2408, -6.2632, -6.0221, -4.8999, -5.9531, -5.5041, -6.0401, -5.4831, -5.9043, -5.0846, -5.7847, -4.347, -4.9912, -5.1646, -5.5815, -5.5366, -5.0916, -5.384, -5.3561, -5.5256, -5.1496, -5.4127, -5.4523, -5.2271, -5.2683, -5.4224, -5.4422, -5.5148, -5.5931, -5.7167, -5.5931, -5.653, -5.653, -6.9227, -7.5587, -7.81, -7.0818, -7.3136, -6.8382, -8.2519, -8.5032, -8.3696, -8.5032, -7.5587, -8.6573, -8.2519, -6.8115, -8.2519, -8.2519, -8.8397, -6.7855, -7.358, -8.6573, -8.0512, -7.5587, -8.1465, -7.0479, -6.8656, -7.0479, -8.1465, -7.6765, -7.1533, -8.1465, -5.4252, -5.8047, -5.8952, -5.9493, -5.9493, -5.9832, -6.0183, -4.6409, -6.0424, -6.1864, -6.2594, -6.306, -6.3382, -6.3886, -6.4418, -6.5173, -6.5173, -6.5173, -6.5573, -6.6424, -6.6879, -6.7114, -6.7602, -6.7855, -6.8115, -6.8115, -6.8382, -4.847, -5.0241, -5.0785, -4.3465, -5.9382, -4.2166, -5.6451, -6.4237, -5.3251, -5.7306, -4.6714, -5.3865, -5.3133, -5.3615, -4.8731, -6.1724, -5.9718, -5.3739, -5.2786, -4.5969, -4.8581, -5.5971, -5.4252, -5.6533, -5.3677, -5.5971, -5.3133, -5.6616, -5.3133, -5.6955, -5.5003, -5.4933, -5.2729, -5.5074, -5.6128, -5.5893, -5.5893, -8.1665, -7.62, -8.6185, -8.7726, -6.9809, -7.3863, -6.7358, -8.0795, -7.2322, -6.4869, -8.7726, -6.11, -8.6185, -7.4734, -7.5199, -6.0318, -8.955, -6.2877, -7.3063, -8.6185, -8.6185, -8.1665, -8.7726, -6.3449, -8.955, -8.955, -6.4373, -8.1665, -8.955, -6.9809, -5.9493, -6.2877, -6.3303, -6.4373, -6.4535, -6.504, -6.539, -6.6132, -6.6726, -6.7142, -6.7577, -6.7802, -6.8032, -6.8032, -6.8267, -6.8508, -6.9008, -6.9268, -6.9535, -6.9535, -6.9535, -5.9297, -5.7046, -6.2206, -6.4055, -5.8639, -6.2206, -3.9632, -5.0591, -6.0, -6.5213, -5.4345, -5.3226, -6.0985, -5.674, -5.3069, -5.9897, -5.4464, -5.901, -5.7853, -5.0631, -5.0114, -5.3121, -5.574, -5.4955, -5.8195, -5.6016, -5.2863, -5.1753, -5.4111, -5.5274, -5.6444, -5.1753, -5.1891, -5.674, -5.2463, -5.574, -5.674, -5.6016, -5.6892, -5.6591, -5.6086, -5.6371, -5.6892, -5.6892, -7.8584, -7.54, -7.0475, -7.3729, -7.8584, -7.8584, -7.54, -7.453, -7.8584, -7.453, -7.992, -7.3729, -6.8934, -7.54, -7.6353, -7.453, -7.992, -6.719, -7.2298, -7.54, -7.8584, -7.992, -7.6353, -8.3285, -6.8934, -7.992, -7.1653, -7.453, -6.719, -7.1047, -4.7617, -4.5488, -4.5626, -5.4606, -5.472, -5.5312, -5.7184, -5.7948, -5.8604, -5.9125, -6.0461, -6.0667, -6.0667, -6.1312, -6.249, -6.3003, -6.327, -6.327, -6.3544, -6.3544, -6.3825, -6.3825, -6.4115, -6.4115, -6.4414, -6.4414, -6.4722, -6.5039, -6.5367, -6.5706, -5.9676, -5.9866, -5.04, -6.3003, -6.0461, -5.4606, -5.4381, -4.4164, -5.8604, -5.0704, -5.9125, -5.4053, -5.5941, -5.5559, -5.4381, -5.9306, -5.2558, -5.1176, -5.384, -5.427, -5.7482, -5.7948, -5.5071, -5.3428, -5.7948, -5.4952, -5.5434, -5.8108, -5.8435, -7.9784, -7.1029, -6.2206, -7.19, -8.3351, -7.7961, -5.8383, -6.2556, -6.4309, -6.4098, -8.3351, -7.5729, -8.2016, -7.6419, -7.2853, -6.8798, -6.3492, -8.3351, -7.1029, -7.5729, -7.716, -8.3351, -7.8831, -8.4892, -7.1029, -7.19, -8.6716, -8.4892, -7.6419, -6.3298, -5.6758, -5.8037, -5.8622, -6.1867, -6.3107, -6.3298, -6.3492, -6.3492, -6.369, -6.4098, -6.4968, -6.4968, -6.4968, -6.5198, -6.5198, -6.5433, -6.5433, -5.7271, -6.5674, -6.5674, -6.5921, -6.5921, -6.5921, -4.6215, -5.3252, -6.2379, -6.3107, -5.1393, -6.1066, -6.4524, -5.1335, -5.5188, -5.1162, -5.9372, -5.429, -5.6176, -4.8473, -4.5444, -6.0615, -5.3906, -5.3322, -5.3832, -6.0615, -5.3906, -5.7484, -5.5274, -5.4935, -5.4852, -5.7701, -5.899, -4.9629, -5.2974, -4.8965, -5.696, -5.6758, -5.1811, -5.3683, -5.5897, -5.477, -5.696, -5.627, -5.6758, -5.6758, -6.6326, -6.6326, -7.3047, -7.2246, -8.4033, -8.691, -7.9178, -5.9184, -5.8776, -7.3047, -7.9178, -8.691, -4.7429, -8.1802, -8.691, -8.691, -8.691, -6.8992, -8.2855, -8.1802, -8.4033, -7.8437, -7.7747, -7.4382, -7.3047, -7.5924, -7.1505, -8.5368, -7.9978, -7.9178, -4.1856, -5.1356, -5.2733, -5.3528, -5.7378, -5.9829, -6.0284, -6.0401, -6.1007, -6.1652, -6.1923, -6.2201, -6.2931, -6.3239, -6.3239, -6.3719, -6.4397, -6.5315, -6.5315, -6.5315, -6.5509, -6.5707, -6.5707, -6.5909, -6.5909, -6.0054, -4.1801, -5.9719, -4.0891, -4.7624, -3.6638, -4.8992, -6.2061, -4.4051, -5.5999, -6.0284, -5.3352, -6.0054, -5.8578, -4.6567, -5.3829, -4.8198, -5.1028, -5.6952, -5.6307, -5.3411, -5.3768, -5.534, -5.4788, -5.2624, -5.4991, -5.5849, -5.6787, -5.7036, -5.8193, -5.7291], \"loglift\": [30.0, 29.0, 28.0, 27.0, 26.0, 25.0, 24.0, 23.0, 22.0, 21.0, 20.0, 19.0, 18.0, 17.0, 16.0, 15.0, 14.0, 13.0, 12.0, 11.0, 10.0, 9.0, 8.0, 7.0, 6.0, 5.0, 4.0, 3.0, 2.0, 1.0, 2.2413, 2.2413, 2.2413, 2.2413, 2.2413, 2.2413, 2.2413, 2.2413, 2.2413, 2.2413, 2.2413, 2.2413, 2.2413, 2.2413, 2.2413, 2.2413, 2.2413, 2.2413, 2.2413, 2.2413, 2.2413, 2.2413, 2.2413, 2.2413, 2.2413, 2.2413, 2.2413, 2.2413, 2.2413, 2.2413, 2.2267, 2.2413, 2.2413, 2.2413, 2.2413, 2.2413, 2.2413, 2.2413, 2.2413, 2.2413, 2.2413, 2.2413, 2.2413, 2.2413, 2.2413, 2.2413, 2.2413, 2.2413, 2.2413, 2.2413, 2.2413, 2.2413, 2.2413, 2.2028, 2.1457, 2.1822, 2.2061, 2.028, 1.984, 1.9086, 1.6744, 1.951, 1.943, 1.755, 1.0965, 1.6579, 1.2356, 1.4126, 0.7797, 1.3377, 1.3832, 1.231, 1.4611, 1.5565, 1.1645, 0.9367, 0.4059, 1.3975, 1.1417, 0.887, 0.6457, 1.1731, 2.2486, 2.2486, 2.2486, 2.2486, 2.2486, 2.2486, 2.2486, 2.2486, 2.2486, 2.2486, 2.2486, 2.2486, 2.2486, 2.2486, 2.2486, 2.2486, 2.2486, 2.2486, 2.2486, 2.2486, 2.2486, 2.2486, 2.2486, 2.2486, 2.2486, 2.2486, 2.2486, 2.2486, 2.2486, 2.2486, 2.2486, 2.2486, 2.2486, 2.2486, 2.2486, 2.2486, 2.2486, 2.2486, 2.2486, 2.2486, 2.2486, 2.2486, 2.2486, 2.2486, 2.2486, 2.2486, 2.2486, 2.2486, 2.2486, 2.2486, 2.2486, 2.2294, 2.1531, 2.0572, 2.2025, 2.1855, 2.1147, 2.2015, 2.1085, 2.2209, 1.7938, 2.16, 1.8835, 1.7998, 2.0574, 2.0743, 1.9971, 2.1209, 1.5906, 2.0393, 1.3113, 1.2883, 1.7923, 1.8577, 1.7012, 1.8221, 1.4643, 1.3419, 1.4971, 1.1101, 1.4336, 0.9246, 0.7502, 1.4841, 0.7888, 0.4486, 2.2529, 2.2529, 2.2529, 2.2529, 2.2529, 2.2529, 2.2529, 2.2529, 2.2529, 2.2529, 2.2529, 2.2529, 2.2529, 2.2529, 2.2529, 2.2529, 2.2529, 2.2529, 2.2529, 2.2529, 2.2529, 2.2529, 2.2529, 2.2529, 2.2529, 2.2529, 2.2529, 2.2529, 2.2529, 2.2529, 2.2529, 2.2529, 2.2529, 2.2529, 2.2529, 2.2529, 2.2529, 2.2529, 2.2529, 2.2529, 2.2529, 2.2529, 2.2529, 2.2529, 2.2529, 2.2529, 2.2529, 2.2529, 2.2529, 2.2529, 2.2529, 2.2529, 2.2398, 2.238, 2.2315, 2.1129, 2.1095, 2.1197, 2.1455, 2.0731, 2.1619, 1.9756, 1.9899, 1.8441, 1.9755, 2.0688, 1.8335, 1.7679, 1.9302, 1.8493, 1.5103, 1.831, 1.6822, 1.7355, 1.4388, 1.7303, 1.6251, 1.742, 1.5537, 1.0925, 1.104, 0.8599, 0.4188, 1.0744, 2.257, 2.257, 2.257, 2.257, 2.257, 2.257, 2.257, 2.257, 2.257, 2.257, 2.257, 2.257, 2.257, 2.257, 2.257, 2.257, 2.257, 2.257, 2.257, 2.257, 2.257, 2.257, 2.257, 2.257, 2.257, 2.257, 2.257, 2.257, 2.257, 2.257, 2.257, 2.257, 2.257, 2.2512, 2.257, 2.257, 2.257, 2.257, 2.257, 2.257, 2.257, 2.257, 2.257, 2.257, 2.257, 2.2495, 2.257, 2.2487, 2.257, 2.257, 2.257, 2.257, 2.257, 2.257, 2.257, 2.1605, 2.2465, 2.1642, 2.2265, 2.0775, 2.0391, 1.9835, 1.723, 2.0572, 1.9751, 1.2339, 0.6607, 0.7668, 1.4954, 0.722, 2.2994, 2.2994, 2.2994, 2.2994, 2.2994, 2.2994, 2.2994, 2.2994, 2.2994, 2.2994, 2.2994, 2.2994, 2.2994, 2.2994, 2.2994, 2.2994, 2.2994, 2.2994, 2.2994, 2.2994, 2.2994, 2.2994, 2.2994, 2.2994, 2.2994, 2.2994, 2.2994, 2.2994, 2.2994, 2.2994, 2.2994, 2.2994, 2.2994, 2.2994, 2.2994, 2.2994, 2.2994, 2.2994, 2.2994, 2.2994, 2.2994, 2.2994, 2.2994, 2.2994, 2.2994, 2.2994, 2.2994, 2.2994, 2.2994, 2.2994, 2.2994, 2.2994, 2.2994, 2.2994, 2.2994, 2.289, 2.2168, 2.2801, 2.1956, 2.273, 2.1837, 2.2456, 2.0887, 2.1969, 1.7223, 1.8908, 1.8425, 2.0368, 1.9899, 1.618, 1.5395, 1.4452, 1.6509, 1.1236, 1.2683, 1.3201, 0.8265, 0.7525, 1.1147, 1.0141, 1.1448, 1.3855, 1.773, 0.3364, 0.9974, 0.72, 2.3061, 2.3061, 2.3061, 2.3061, 2.3061, 2.3061, 2.3061, 2.3061, 2.3061, 2.3061, 2.3061, 2.3061, 2.3061, 2.3061, 2.3061, 2.3061, 2.3061, 2.3061, 2.3061, 2.3061, 2.3061, 2.3061, 2.3061, 2.3061, 2.3061, 2.3061, 2.3061, 2.3061, 2.3061, 2.3061, 2.3061, 2.3061, 2.3061, 2.3061, 2.3061, 2.3061, 2.3061, 2.2922, 2.3061, 2.3061, 2.3061, 2.3061, 2.3061, 2.3061, 2.3061, 2.3061, 2.3061, 2.3061, 2.3061, 2.3061, 2.3061, 2.3061, 2.3061, 2.3061, 2.3061, 2.3061, 2.3061, 2.2243, 2.2136, 2.1937, 2.1243, 2.22, 2.0099, 2.1584, 2.2602, 2.1004, 2.1226, 1.8868, 1.9956, 1.9558, 1.9402, 1.7514, 2.1902, 2.1149, 1.8565, 1.8113, 1.4239, 1.4873, 1.9041, 1.7844, 1.8799, 1.4509, 1.7399, 1.3456, 1.7055, 1.0179, 1.7291, 1.252, 1.2163, 0.3975, 0.8731, 1.4349, 1.266, 1.0293, 2.3229, 2.3229, 2.3229, 2.3229, 2.3229, 2.3229, 2.3229, 2.3229, 2.3229, 2.3229, 2.3229, 2.3229, 2.3229, 2.3229, 2.3229, 2.3229, 2.3229, 2.3229, 2.3229, 2.3229, 2.3229, 2.3229, 2.3229, 2.3229, 2.3229, 2.3229, 2.3229, 2.3229, 2.3229, 2.3229, 2.3229, 2.3229, 2.3229, 2.3229, 2.3229, 2.3229, 2.3229, 2.3229, 2.3229, 2.3229, 2.3229, 2.3229, 2.3229, 2.3229, 2.3229, 2.3229, 2.3229, 2.3229, 2.3229, 2.3229, 2.3229, 2.3032, 2.2942, 2.306, 2.3044, 2.2539, 2.2669, 1.9663, 2.0848, 2.2076, 2.2618, 1.9818, 1.9116, 2.1264, 1.975, 1.7713, 2.0375, 1.7905, 1.9733, 1.8563, 1.3545, 1.3003, 1.5005, 1.6892, 1.6207, 1.8343, 1.6435, 1.3573, 1.2053, 1.4366, 1.5338, 1.6279, 1.0888, 1.0841, 1.6359, 0.7745, 1.3397, 1.3993, 1.091, 1.3585, 1.1051, 0.828, 0.9711, 1.2066, 0.642, 2.3534, 2.3534, 2.3534, 2.3534, 2.3534, 2.3534, 2.3534, 2.3534, 2.3534, 2.3534, 2.3534, 2.3534, 2.3534, 2.3534, 2.3534, 2.3534, 2.3534, 2.3534, 2.3534, 2.3534, 2.3534, 2.3534, 2.3534, 2.3534, 2.3534, 2.3534, 2.3534, 2.3534, 2.3534, 2.3534, 2.3534, 2.3501, 2.35, 2.3534, 2.3534, 2.3534, 2.3534, 2.3534, 2.3534, 2.3534, 2.3534, 2.3534, 2.3534, 2.3534, 2.3534, 2.3534, 2.3534, 2.3534, 2.3534, 2.3534, 2.3534, 2.3534, 2.3534, 2.3534, 2.3534, 2.3534, 2.3534, 2.3534, 2.3534, 2.3534, 2.343, 2.3283, 2.272, 2.3352, 2.281, 2.1602, 2.1009, 1.8183, 2.195, 1.9172, 2.1414, 1.8758, 1.9427, 1.8623, 1.7214, 2.0715, 1.4966, 1.2135, 1.4354, 1.4874, 1.7804, 1.8134, 1.1365, 0.3276, 1.7427, 0.5584, 0.7297, 1.6662, 1.356, 2.3733, 2.3733, 2.3733, 2.3733, 2.3733, 2.3733, 2.3733, 2.3733, 2.3733, 2.3733, 2.3733, 2.3733, 2.3733, 2.3733, 2.3733, 2.3733, 2.3733, 2.3733, 2.3733, 2.3733, 2.3733, 2.3733, 2.3733, 2.3733, 2.3733, 2.3733, 2.3733, 2.3733, 2.3733, 2.3733, 2.3733, 2.3733, 2.3733, 2.3733, 2.3733, 2.3733, 2.3733, 2.3733, 2.3733, 2.3733, 2.3733, 2.3733, 2.3733, 2.3733, 2.3733, 2.3733, 2.3733, 2.3648, 2.3733, 2.3733, 2.3733, 2.3733, 2.3733, 2.3151, 2.2676, 2.3458, 2.3479, 2.2195, 2.2951, 2.3538, 2.0448, 2.1313, 1.9875, 2.212, 2.053, 2.0834, 1.7915, 1.5092, 2.2131, 1.8791, 1.8185, 1.8421, 2.2091, 1.813, 2.02, 1.86, 1.8359, 1.7791, 1.9836, 2.0806, 1.2718, 1.5503, 1.0913, 1.8759, 1.8377, 1.2753, 1.4261, 1.7305, 1.4702, 1.8456, 1.1454, 1.235, 0.8444, 2.3838, 2.3838, 2.3838, 2.3838, 2.3838, 2.3838, 2.3838, 2.3838, 2.3838, 2.3838, 2.3838, 2.3838, 2.3838, 2.3838, 2.3838, 2.3838, 2.3838, 2.3838, 2.3838, 2.3838, 2.3838, 2.3838, 2.3838, 2.3838, 2.3838, 2.3838, 2.3838, 2.3838, 2.3838, 2.3838, 2.3838, 2.3838, 2.3838, 2.3838, 2.3838, 2.3838, 2.3838, 2.3838, 2.3838, 2.3838, 2.3838, 2.3838, 2.3838, 2.3838, 2.3838, 2.3838, 2.3838, 2.3838, 2.3838, 2.3838, 2.3838, 2.3838, 2.3838, 2.3838, 2.3838, 2.3728, 2.2971, 2.3584, 2.2645, 2.2947, 2.2098, 2.2702, 2.3501, 2.1053, 2.1948, 2.2712, 2.0308, 2.2583, 2.1947, 1.6887, 1.8917, 1.546, 1.6984, 2.0534, 1.8748, 1.4231, 1.4176, 1.6255, 1.3406, 0.8069, 1.1513, 1.2704, 0.8407, 0.9553, 1.6548, 0.2003]}, \"token.table\": {\"Topic\": [4, 2, 10, 2, 7, 10, 8, 8, 10, 4, 6, 9, 10, 1, 4, 6, 7, 8, 10, 1, 3, 7, 8, 10, 3, 8, 10, 9, 4, 1, 5, 7, 8, 10, 2, 6, 8, 6, 9, 2, 2, 5, 2, 4, 3, 1, 2, 3, 7, 10, 7, 6, 6, 2, 4, 1, 4, 5, 8, 3, 7, 9, 1, 5, 8, 7, 1, 8, 1, 4, 5, 10, 6, 1, 5, 7, 9, 10, 1, 1, 4, 6, 7, 10, 3, 2, 8, 9, 10, 5, 8, 10, 10, 9, 10, 5, 1, 9, 9, 2, 1, 3, 5, 6, 8, 5, 7, 10, 5, 7, 5, 10, 7, 2, 4, 5, 7, 8, 1, 3, 1, 5, 7, 8, 10, 1, 8, 4, 3, 4, 5, 9, 6, 1, 8, 8, 10, 3, 8, 8, 8, 8, 3, 8, 1, 8, 2, 9, 2, 7, 2, 4, 6, 8, 8, 4, 5, 7, 8, 9, 6, 6, 6, 9, 5, 7, 8, 9, 3, 1, 2, 7, 8, 9, 10, 6, 3, 6, 1, 3, 1, 2, 5, 6, 7, 8, 3, 8, 1, 2, 6, 10, 7, 7, 3, 7, 8, 9, 10, 6, 9, 5, 8, 5, 8, 10, 5, 2, 4, 5, 6, 7, 8, 2, 9, 6, 7, 10, 10, 1, 3, 8, 8, 10, 2, 6, 8, 6, 3, 6, 7, 6, 10, 6, 1, 4, 2, 4, 5, 8, 9, 1, 4, 6, 2, 7, 8, 4, 4, 5, 6, 6, 6, 6, 3, 1, 5, 7, 3, 2, 2, 2, 3, 4, 7, 8, 10, 2, 5, 7, 10, 8, 2, 4, 6, 8, 2, 4, 5, 2, 7, 9, 2, 7, 9, 6, 6, 10, 9, 2, 7, 3, 5, 7, 9, 10, 7, 2, 7, 9, 7, 5, 9, 1, 2, 5, 8, 3, 1, 3, 4, 7, 8, 10, 8, 7, 5, 4, 7, 8, 9, 2, 3, 4, 5, 10, 5, 8, 8, 3, 4, 8, 9, 1, 1, 1, 2, 2, 7, 2, 8, 5, 2, 6, 4, 5, 3, 5, 1, 4, 5, 10, 2, 3, 3, 3, 6, 10, 1, 4, 5, 6, 9, 4, 5, 7, 7, 4, 4, 6, 9, 6, 4, 7, 8, 2, 3, 4, 5, 7, 5, 8, 9, 10, 1, 2, 4, 9, 10, 1, 2, 5, 10, 6, 2, 6, 2, 7, 9, 4, 3, 4, 6, 3, 8, 3, 3, 2, 2, 4, 8, 6, 2, 2, 6, 9, 10, 2, 4, 5, 6, 8, 9, 2, 8, 9, 2, 3, 10, 9, 3, 2, 7, 4, 3, 1, 3, 9, 3, 4, 10, 2, 4, 2, 3, 4, 5, 6, 8, 1, 2, 7, 8, 7, 8, 10, 1, 2, 8, 6, 6, 7, 9, 10, 2, 8, 6, 2, 2, 7, 2, 7, 2, 7, 10, 7, 1, 6, 7, 9, 1, 1, 3, 1, 5, 6, 9, 10, 4, 10, 9, 4, 9, 9, 3, 5, 10, 9, 3, 4, 10, 2, 4, 5, 6, 7, 8, 5, 5, 6, 7, 8, 1, 7, 1, 4, 8, 9, 3, 8, 10, 6, 8, 10, 6, 5, 4, 4, 8, 5, 3, 8, 5, 7, 1, 3, 3, 7, 10, 3, 7, 10, 1, 6, 4, 4, 2, 6, 1, 2, 3, 6, 10, 5, 7, 8, 10, 7, 1, 5, 10, 6, 5, 9, 9, 8, 4, 5, 10, 6, 10, 3, 6, 9, 3, 4, 10, 6, 3, 5, 2, 3, 4, 5, 6, 8, 5, 6, 8, 10, 10, 1, 2, 4, 7, 4, 5, 7, 8, 9, 10, 7, 9, 10, 1, 4, 5, 9, 1, 5, 6, 8, 10, 8, 4, 4, 4, 5, 1, 2, 3, 4, 5, 8, 6, 10, 8, 10, 1, 2, 4, 6, 8, 10, 9, 8, 9, 10, 1, 1, 8, 2, 9, 2, 5, 2, 1, 6, 7, 8, 10, 1, 5, 6, 4, 3, 1, 4, 6, 9, 10, 9, 1, 3, 4, 10, 1, 2, 3, 5, 7, 10, 3, 5, 3, 2, 10, 5, 1, 10, 3, 9, 1, 9, 8, 3, 8, 4, 8, 1, 3, 8, 9, 10, 4, 6, 10, 5, 6, 7, 10, 2, 7, 2, 1, 3, 10, 10, 7, 2, 3, 5, 8, 9, 10, 7, 10, 1, 4, 4, 4, 8, 1, 5, 3, 8, 1, 2, 3, 5, 6, 7, 7, 2, 5, 6, 3, 4, 6, 9, 5, 4, 5, 6, 7, 7, 7, 9, 10, 1, 5, 8, 9, 10, 5, 5, 6, 7, 9, 1, 4, 6, 9, 10, 3, 2, 4, 4, 8, 1, 3, 7, 9, 4, 7, 1, 1, 4, 8, 10, 10, 9, 5, 7, 10, 2, 1, 4, 6, 5, 8, 10, 3, 7, 4, 6, 3, 10, 5, 6, 8, 9, 10, 8, 10, 6, 3, 10, 5, 6, 7, 8, 10, 2, 10, 6, 3, 2, 5, 4, 8, 8, 6, 10, 5, 10, 9, 4, 6, 6, 4, 5, 4, 6, 9, 2, 5, 7, 10, 2, 5, 6, 10, 7, 9, 1, 7, 9, 3, 2, 8, 9, 10, 9, 4, 9, 1, 3, 7, 9, 3, 7, 4, 5, 10, 1, 4, 5, 8, 1, 2, 8, 3, 5, 6, 5, 8, 9, 8, 1, 4, 7, 10, 9, 3, 10, 7, 1, 7, 9, 9, 1, 9, 3, 9, 5, 8, 3, 4, 7, 5, 8, 9, 7, 4, 6, 8, 6, 4, 3, 6, 5, 1, 8, 8, 9, 10, 3, 1, 1, 4, 1, 5, 7, 5, 1, 4, 6, 8, 4, 10, 10, 6, 1, 5, 6, 9, 9, 10, 9, 4, 8, 9, 1, 2, 8, 5, 3, 8, 9, 6, 7, 10, 5, 3, 5, 7, 5, 8, 10, 5, 6, 7, 8, 9, 10, 1, 5, 9, 7, 6, 3, 1, 1, 2, 3, 4, 9, 7, 8, 1, 3, 7, 8, 10, 10, 1, 5, 7, 9, 10, 5, 1, 1, 5, 6, 2, 3, 10, 7, 8, 6, 4, 7, 5, 6, 5, 8, 1, 1, 4, 5, 7, 10, 8, 5, 9, 3, 3, 5, 7, 1, 5, 7, 8, 1, 2, 5, 10, 10, 10, 7, 5, 7, 8, 1, 5, 6, 10, 5, 1, 9, 6, 7, 8, 10, 8, 10, 1, 3, 4, 5, 9, 5, 3, 5, 8, 9, 10, 6, 2, 2, 4, 5, 7, 9, 6, 6, 9, 7, 9, 2, 8, 10, 8, 1, 5, 6, 2, 5, 7, 8, 9, 4, 2, 5, 6, 8, 1, 7, 9, 6, 6, 5, 1, 3, 6, 8, 1, 7, 8, 9, 10, 7, 3, 4, 8, 9, 6, 2, 1, 8, 8, 7, 9, 3, 1, 5, 6, 7, 10, 2, 7, 6, 8, 3, 5, 9, 1, 9, 3, 6, 2, 6, 7, 2, 6, 2, 3, 5, 6, 2, 9, 10, 1, 8, 10, 1, 2, 10, 4, 1, 5, 1, 7, 1, 4, 7, 10, 7, 9, 6, 8, 9, 10, 1, 2, 4, 5, 7, 8, 1, 2, 5, 6, 7, 7, 5, 7, 9, 10, 6, 9, 7, 7, 6, 7, 8, 2, 9, 5, 10, 2, 1, 1, 2, 3, 6, 7, 9, 8, 5, 2, 8, 9, 1, 9, 5, 8, 10, 4, 5, 9, 8, 2, 5, 7, 5, 4, 4, 4, 7, 3, 9, 5, 3, 5, 9, 2, 4, 5, 1, 7, 10, 4, 10, 2, 3, 4, 9, 10, 2, 3, 4, 2, 4, 6, 2, 3, 4, 9, 10, 2, 4, 5, 6, 7, 10, 4, 3, 4, 5, 8, 10, 6, 1, 4, 3, 5, 5, 2, 7, 1, 6, 5, 9, 3, 4, 7, 9, 10, 5, 9, 10, 1, 4, 8, 9, 4, 3, 5, 5, 7, 9, 10, 4, 1, 3, 6, 9, 5, 9, 1, 7, 1, 4, 6, 5, 7, 10, 5, 9, 10, 8, 3, 4, 6, 7, 2, 6, 5, 5, 5, 2, 4, 2, 8, 9, 10, 10, 2, 10, 10, 4, 9, 9, 7, 6, 6, 10, 5, 2, 6, 7, 9, 9, 1, 4, 6, 7, 8, 9, 10, 5, 9, 1, 3, 5, 9, 1, 5, 10, 1, 4, 5, 7, 8, 9, 4, 8, 5, 8, 2, 3, 4, 7, 9, 8, 3, 4, 8, 5, 7, 8, 7, 1, 2, 9, 2, 1, 2, 9, 4, 5, 6, 7, 7, 3, 3, 2, 1, 6, 9, 10, 10], \"Freq\": [0.9958299739904344, 0.9969793144233983, 1.0059112276072804, 0.03185910933298095, 0.939843725322938, 0.03185910933298095, 1.0045118762502125, 0.531898288182894, 0.4685770633992162, 0.9974086518185739, 0.44138507487261647, 0.05984882371154122, 0.49936362284317204, 0.9913752581070437, 0.13621505235027687, 0.24167186707307187, 0.0043940339467831244, 0.3690988515297825, 0.2504599349666381, 0.5050200081210924, 0.005153265388990739, 0.010306530777981477, 0.3040426579504536, 0.17521102322568513, 0.24936655182978762, 0.39958736618508134, 0.35151670559138737, 1.0275661555247748, 1.005345590692462, 0.12818977179731128, 0.35579201968233337, 0.24068283684393138, 0.1124930650466201, 0.15958318529869364, 1.0101240721186355, 0.9946222559795586, 0.9827796481582609, 1.002980426197874, 0.9808586030009215, 0.9969793144233983, 0.9724729935440692, 0.020690914756256795, 1.0278455470680854, 0.9958299739904344, 0.995419228344942, 1.001190854721965, 0.2756483461463052, 0.2594337375494637, 0.3275350936561979, 0.13620271221346844, 0.9434127723411349, 1.0104099108363769, 0.9946222559795586, 1.0045815532044045, 0.9980998567054891, 0.9913752581070437, 0.8179249284189929, 0.08105562353701731, 0.10316170268347657, 0.26670373615258597, 0.012905019491254159, 0.7183794183464816, 0.7178939052708219, 0.26654476680847344, 0.014215720896451919, 1.0167184945162906, 0.9913752581070437, 1.0090571788576796, 0.9913752581070436, 0.9927826038885331, 0.005640810249366666, 1.058853923797137, 1.0104099108363769, 0.2389762617127647, 0.02389762617127647, 0.1945949559661084, 0.4062596449117, 0.13997181043176218, 1.0081782285834342, 0.21738273090676516, 0.06615996158031984, 0.18902846165805667, 0.5009254233938502, 0.023628557707257084, 1.0008144545148332, 1.00745178621356, 0.9746575023057132, 0.03412306227051721, 0.9725072747097404, 1.0577747642392192, 0.1065963919134937, 0.8911458363968072, 0.977403621966588, 0.8463599606833417, 0.15388362921515306, 1.0303000950382006, 1.003465200279081, 1.0074177995340932, 0.9967391708590317, 1.0278455470680854, 0.066937386882262, 0.003937493346015412, 0.22443712072287847, 0.6103114686323888, 0.09449984030436988, 0.9966874678241885, 1.0240993910282055, 1.058853923797137, 0.33664347733745603, 0.6641884823144403, 0.38838735760906123, 0.6109996235557182, 1.0042781124921758, 1.0030652036901335, 0.19908185801074035, 0.1234811524370415, 0.3805235513876177, 0.2973627752565489, 0.8066344330376515, 0.19450759378212873, 0.20186252631380255, 0.04549014677494142, 0.2956859540371192, 0.07676462268271364, 0.38382311341356823, 0.9913752581070436, 0.9927067153113746, 0.9718340710027131, 1.0124349416499836, 0.20686045764061942, 0.006895348588020647, 0.7860697390343537, 1.0104099108363769, 0.9913752581070439, 1.0006483690338657, 0.9914258034206502, 1.058853923797137, 0.9677686942242489, 0.9963165579125071, 0.9896522331104166, 0.9955430202122643, 1.0006483690338657, 0.9853644886646901, 0.9827796481582609, 0.17409194846005693, 0.8235888330995002, 1.0051724835298188, 1.0036692681869894, 0.019896926122747762, 0.9749493800146403, 0.6342039517282813, 0.085703236720038, 0.1485522769813992, 0.1323638878231698, 1.0051155492527668, 0.14302076171428965, 0.03337151106666759, 0.009534717447619311, 0.6197566340952552, 0.19546170767619586, 1.0060546957034615, 0.9977797869509222, 1.0104099108363769, 1.0275661555247748, 0.12362895650289099, 0.41106628037211257, 0.024725791300578198, 0.438882795585263, 0.9806722768139058, 0.13335502068676972, 0.05977983685958643, 0.5058293888118852, 0.10116587776237704, 0.004598448989198956, 0.19313485754635615, 0.9743238425922206, 0.9743515555134671, 0.024058063099097953, 0.9913752581070436, 0.9925832761274349, 1.0040851973135443, 0.3924031062280172, 0.059674205094583266, 0.05786589584929286, 0.35985353981279, 0.13200657490619935, 0.995419228344942, 0.9827796481582609, 0.2615996282456826, 0.05605706319550341, 0.3519137856162159, 0.32699953530710324, 0.9265661156921858, 0.9960585743690997, 1.0098455939731295, 0.12007276783553046, 0.12007276783553046, 0.585354743198211, 0.1751061197601486, 1.0029804261978743, 1.0275661555247748, 0.07867788000015755, 0.9195477225018414, 0.11910883473243716, 0.12352027305586076, 0.7565616724671471, 1.0577747642392192, 0.19908096947113402, 0.15484075403310424, 0.08356485138294514, 0.27773024136096475, 0.12043169758130329, 0.16221412327277585, 1.0246731842684926, 1.027566155524775, 0.9743238425922206, 0.9955198731390461, 0.9882636622106612, 0.9882636622106612, 0.15875593282295192, 0.27476988373203215, 0.5617517622965991, 0.9746575023057132, 1.0031247699130772, 0.010669164689628856, 0.8215256811014219, 0.16003747034443283, 0.9093689197527393, 1.0043869691408425, 0.9909789510126005, 1.0809938016408835, 0.39976753209235816, 0.6026346379302713, 0.98170508382398, 0.9661773217158972, 0.0366902780398442, 0.6384044091108124, 0.20222748363137535, 0.03304370647571493, 0.09648762290908759, 0.029078461698629137, 0.055081732727415116, 0.13219615854579628, 0.8152096443657437, 0.28027971528262335, 0.6289203367317402, 0.09570526863309091, 0.9718340710027131, 0.0772267769973656, 0.24950189491456579, 0.6712789077463317, 0.9472592914091035, 1.0013883937753378, 0.9946222559795586, 0.995419228344942, 1.00277037601632, 0.18376322167127018, 0.8208090567983402, 0.9892746652070101, 1.0278455470680854, 1.0278455470680854, 0.23150692588635055, 0.2335556597437519, 0.12087529758667862, 0.22331199045674524, 0.0635107495794413, 0.1270214991588826, 0.2052681867807097, 0.1278084936559136, 0.3989174195927, 0.2711089259367864, 1.0045118762502125, 0.6945828048793827, 0.08956462483970988, 0.18461279813899384, 0.031073441270919756, 1.0035769716512, 0.996752893336116, 0.9959567585369273, 0.09942132960100618, 0.22178604295609072, 0.6806537180376577, 0.13775094551470385, 0.7094173694007249, 0.15152604006617423, 1.0333737724462948, 0.9743238425922206, 1.0002790258849552, 1.027566155524775, 0.06423136061240185, 0.9420599556485605, 0.3522647112073034, 0.13168774250740314, 0.17119406525962408, 0.31934277558045265, 0.02633754850148063, 1.0089275481981579, 1.0045815532044045, 1.0089275481981579, 1.0275661555247748, 1.0269441115588394, 0.9767105152142606, 0.026759192197650973, 0.18805555364588314, 0.47232557659896235, 0.06997415949614257, 0.2711498680475524, 0.995419228344942, 0.005798523690528394, 0.01739557107158518, 0.11017195012003948, 0.2609335660737777, 0.5044715610759702, 0.11017195012003948, 1.0022914698040362, 0.9869943406286327, 0.9996552716986028, 0.10589001654421716, 0.07059334436281145, 0.2514887892925158, 0.5691588389251673, 0.5187904154645185, 0.077025651204339, 0.09968025449973283, 0.3058371444878166, 1.0164997668452516, 1.007404537370685, 1.0125608496176022, 0.9827796481582609, 0.30847536704121964, 0.08777754346701372, 0.04514273664017849, 0.5592683483755446, 0.9913752581070437, 1.0018107871397495, 0.9913752581070437, 0.9493295677781622, 1.0014905330406985, 0.9899627446605985, 1.00745178621356, 1.0125608496176022, 1.0003101392201872, 0.08673632868628899, 0.913013986171463, 1.0025235679817461, 1.0030622764337427, 0.5927925932251329, 0.40559493220666987, 0.45886133352982605, 0.17544698046728643, 0.25642250991372634, 0.10796737259525319, 0.10398154128640064, 0.8968407935952055, 1.002960283105131, 1.0187038886571043, 0.17527514780969364, 0.8248242249867936, 0.0028665911367348703, 0.1261300100163343, 0.375523438912268, 0.20066137957144092, 0.29239229594695676, 0.9949729774551587, 1.0303000950382006, 0.9728944214767952, 1.0192227272614045, 1.0107074338428217, 0.0802215087587689, 0.9168172429573589, 1.0275661555247748, 1.0104099108363769, 0.971834071002713, 1.0167184945162906, 1.021069764320271, 0.007297673052885924, 0.44272549854174603, 0.1848743840064434, 0.10703253810899355, 0.25785111453530263, 0.13877639166807051, 0.1965998881964332, 0.18503518889076068, 0.4799350211854105, 0.34440985325497886, 0.2919996581944386, 0.22087153632656253, 0.011230756084401486, 0.13102548765135066, 0.03523870262787849, 0.21730533287191736, 0.5931848275692879, 0.15857416182545322, 0.9975220293206069, 0.9832341951988108, 1.0013883937753378, 1.00745178621356, 0.9265661156921858, 1.0042123792628483, 1.0140877262637007, 1.0082799418894501, 1.0004174260322045, 1.0029804261978743, 0.3518903270607405, 0.6469094901520684, 1.0051211701416762, 0.998625087373428, 1.0035769716512, 0.1951262086333212, 0.4673953369588857, 0.33579859160152953, 1.0062688866116378, 1.0278455470680854, 0.07343391622986838, 0.9198564243530881, 0.003864942959466757, 0.9529685314174233, 0.08910177418025012, 0.21607180238710652, 0.1559281048154377, 0.23834724593216905, 0.0846466854712376, 0.21607180238710652, 0.976453269714681, 0.9896522331104166, 1.0275661555247748, 0.13149050905772802, 0.8351424223936779, 0.03198417787890681, 1.0018770016366556, 1.0124349416499836, 1.0278455470680854, 1.0017922755800663, 0.9718340710027131, 1.0008144545148332, 0.9913752581070437, 0.9954192283449419, 1.0036692681869894, 0.7575939846028291, 0.24178531423494545, 0.9983479852944435, 1.00745178621356, 1.0107074338428217, 0.8287341364300085, 0.17517957355431074, 0.00906313384828334, 0.1495417084966751, 0.6389509363039755, 0.20392051158637514, 0.23803204168810385, 0.5788506468324344, 0.11901602084405193, 0.05950801042202596, 0.7074696731231604, 0.08627678940526347, 0.2070642945726323, 1.0066271851548445, 1.0014905330406985, 0.9870341055095954, 1.0230400347218316, 0.29032993034544513, 0.5291497117586339, 0.17326141004486242, 0.004682740812023308, 0.3881933072941036, 0.6123612734780226, 0.9851496630654676, 1.0001408153411828, 1.0278455470680854, 0.989384157434029, 1.0001865089091353, 1.0167184945162906, 0.7750584747203421, 0.20576773665141826, 0.01371784911009455, 1.0023760706124558, 0.9913752581070437, 0.9500244317053711, 0.03877650741654576, 1.0018770016366556, 0.9913752581070439, 0.9913752581070437, 0.9994411242170428, 0.6150555616628515, 0.09840888986605623, 0.06560592657737083, 0.016401481644342707, 0.20775210082834095, 0.999035533549863, 0.9529685314174233, 1.0074177995340932, 0.9718340710027131, 1.027566155524775, 1.003100294678947, 0.02173699087156175, 0.8984622893578857, 0.07970229986239309, 1.0061585272846754, 0.004493921265076484, 0.9931565995819029, 1.058853923797137, 0.08204518996248582, 0.35994018822251844, 0.1323309515523965, 0.1323309515523965, 0.2911280934152723, 0.9746575023057132, 0.9941492145105445, 0.5060822920060295, 0.33649088564230684, 0.09690937506498437, 0.059222395873046, 0.4242045261147121, 0.5759841272016274, 0.43671928160654117, 0.21642725460147172, 0.2434806614266557, 0.10434885489713816, 0.9978770536001146, 1.005494123847589, 0.9921316217496462, 0.5613296790968265, 0.1320775715521945, 0.3081810002884538, 1.004535434610584, 1.007404537370685, 1.001106181575084, 0.9988294618638995, 1.0090571788576796, 1.007404537370685, 0.9877663189226092, 0.009318550178515182, 0.988132346431758, 0.013353139816645376, 0.9913752581070439, 1.006479441993219, 0.9892746652070101, 0.9919707826822225, 1.011313543545021, 0.6686349474347614, 0.05349079579478091, 0.276369111606368, 0.9913752581070437, 0.9980878387530064, 1.0258248527250862, 0.9965417168756635, 1.0101240721186355, 1.0029804261978743, 1.0061719037504324, 0.06234318399661645, 0.2961301239839282, 0.5506981253034453, 0.09351477599492468, 0.2585670959804039, 0.07387631313725825, 0.6648868182353243, 0.006156359428104854, 1.0809938016408835, 0.05577437249832599, 0.11951651249641283, 0.8286478199751289, 1.0191203411022078, 0.890416016111296, 0.11217839573055698, 1.0061585272846754, 1.0006483690338657, 0.997408651818574, 0.9855044387321918, 1.0164997668452516, 1.0104099108363769, 1.0286009545457901, 0.995419228344942, 0.7331126682977751, 0.2689837847711261, 0.615590224384425, 0.20835361440703618, 0.17678488495142464, 0.9472592914091035, 1.0322866071725323, 1.0019295127110617, 1.0055616327685064, 0.002855711177394013, 0.9081161544112962, 0.011422844709576052, 0.05045089746729423, 0.02760520804814213, 0.10867396760308308, 0.8930165163905524, 0.999023939863356, 0.977403621966588, 1.0059112276072804, 0.31898968612727857, 0.16552978307145266, 0.22587918314958644, 0.2914013889487031, 0.03827924677051581, 0.30797393992642264, 0.2905742823034609, 0.19661613113946755, 0.07829845930332778, 0.08873825387710482, 0.25390528825081055, 0.7472069911380996, 1.0018387125157528, 0.5676445119138629, 0.01961904995093996, 0.13471747632978773, 0.27728257263995143, 0.12669658333751052, 0.466776885980302, 0.15670366886481565, 0.06668241228290028, 0.18337663377797578, 1.0006483690338657, 0.9984596619890888, 1.0034384310353217, 0.7605223600245371, 0.23932521818953964, 0.12312698927292968, 0.10004067878425538, 0.4963556755064978, 0.019238592073895264, 0.2616448522049756, 1.0125608496176022, 0.9977797869509222, 1.0015512408622331, 0.08383351082364152, 0.914547390803362, 0.36540405932622044, 0.14117884110331244, 0.10242386511416786, 0.26851661935335897, 0.05813246398371689, 0.06643710169567645, 1.0018770016366556, 0.25978866392102457, 0.5991044698586893, 0.1431488556299523, 1.0023905387526775, 0.9913752581070437, 1.021069764320271, 0.9431136791991322, 0.06287424527994215, 0.09605263070551745, 0.902894728631864, 0.9992942818717496, 0.20305434947119547, 0.16887688470871703, 0.3799729905946133, 0.08242800325068331, 0.16686644560504182, 0.9913752581070439, 0.6343442501279145, 0.36610725293096785, 1.007173491766448, 0.9975461925080722, 0.3641784702499455, 0.23959109884864835, 0.1788946871403241, 0.13097646737059443, 0.08625279558551341, 1.0275661555247748, 0.010679384089894514, 0.7261981181128269, 0.12815260907873416, 0.13883199316862868, 0.24953268136714996, 0.4033144501166726, 0.040621599292326734, 0.13056942629676452, 0.011606171226379067, 0.1653879399759017, 1.0000276506983907, 1.007404537370685, 0.9978770536001146, 1.0041540716924027, 0.999959090165817, 1.0577747642392192, 0.10560660100420981, 0.8976561085357834, 1.0048321761307097, 1.0033881283359567, 0.39124103267318855, 0.608073412227004, 0.9927067153113746, 0.7687266397864486, 0.2314445797206512, 0.9718340710027132, 1.002391658875388, 0.06695385268969122, 0.20923078965528505, 0.05858462110347981, 0.5732923636554811, 0.08787693165521972, 0.21262494834623166, 0.5735928839107645, 0.21262494834623166, 0.42487035435040443, 0.0354058628625337, 0.0354058628625337, 0.5045335457911052, 0.8684494524798323, 0.1289104656024751, 0.9955994122581062, 0.12362848230055623, 0.8745570414594903, 1.0059112276072804, 0.9882636622106612, 0.9955198731390461, 0.3825961219230616, 0.24801457149786404, 0.20571751279280195, 0.12881376969268907, 0.034606684395050796, 0.9983479852944435, 0.014279968282757998, 0.9853178115103018, 0.9913752581070437, 0.9965417168756635, 1.0229832326344348, 1.0059335120905275, 1.0006483690338657, 1.0045935948818043, 0.9941492145105445, 0.9998140152250521, 1.0006483690338657, 0.046493674355775616, 0.2654013911142191, 0.06780327510217277, 0.05424262008173822, 0.23828008107335003, 0.32739295692191994, 1.037754049575248, 0.6350654617944594, 0.21605319834244494, 0.1505825321780677, 0.9978770536001146, 0.7542567451794308, 0.014098256919241695, 0.23262123916748798, 0.9999971510664889, 0.998705059141037, 0.8089311678328854, 0.017120236356251546, 0.17548242265157832, 0.9265661156921858, 0.22318613080892244, 0.6057909264813609, 0.1721721580525973, 0.10337911601684384, 0.2291104733346269, 0.16624479467573536, 0.42189855455522757, 0.07962985963459593, 1.0019295127110617, 0.12608624320305548, 0.4262915841627114, 0.2881971273212697, 0.16211088411821417, 1.0081782285834342, 0.03223282191516051, 0.19925744456644678, 0.38679386298192614, 0.3809333499064424, 1.0036119791955174, 0.992612070868352, 0.9718340710027131, 0.0678421799618639, 0.9362220834737217, 0.9913752581070437, 1.0010051948339709, 0.9935943027848121, 1.0070148324142794, 1.0022038857215478, 1.0089275481981579, 0.9913752581070436, 0.0912731615483291, 0.8043447361446502, 0.10268230674187023, 1.001098255226384, 0.992675553559816, 1.002503566365634, 0.009771055315849453, 0.9673344762690959, 0.019542110631698906, 1.0045815532044045, 0.0047102734633495584, 0.29203695472767266, 0.7065410195024339, 0.2975318516087751, 0.5818400653682714, 0.11901274064351004, 0.10837185666576153, 0.8910574881407058, 0.013465005771489215, 0.9863116727615849, 1.0082799418894501, 1.0002790258849552, 0.9959567585369273, 0.8332618532067508, 0.059367256717020415, 0.10601295842325073, 0.0021202591684650147, 0.9976702488879317, 0.999835836241231, 0.988444477992108, 0.15985417598128168, 0.8401095380038162, 1.0028254258371818, 0.2767962339005659, 0.6158716204287592, 0.10379858771271222, 1.003793519759686, 0.02722506335302247, 0.9801022807088089, 1.0050919639372382, 0.9992004979682845, 0.9780012687688775, 0.014382371599542317, 1.0012835883058255, 0.9746575023057132, 0.9827796481582609, 1.0104099108363769, 1.0891068930484837, 0.9984098540013041, 0.9529685314174234, 1.0275661555247748, 0.9718340710027131, 0.9871438931526446, 0.9851496630654676, 0.9949729774551587, 1.0222193099790775, 0.9718340710027132, 0.02190786617207655, 0.9858539777434447, 0.9969793144233983, 0.9964544880514384, 0.9265661156921858, 0.9983479852944436, 0.44228817959527383, 0.012636805131293538, 0.24431156587167507, 0.3032833231510449, 0.5883837127741947, 0.4150613787786955, 0.9913752581070436, 0.31938872074200025, 0.6787010315767505, 0.967768694224249, 0.907854917547038, 0.09121987209802773, 0.08322009334577157, 0.9175548753508148, 0.990867364256033, 0.4150147642247634, 0.5834265526058269, 0.12244828940386245, 0.2334170516761128, 0.4553545762206135, 0.19132545219353508, 1.0124349416499836, 1.0023760706124558, 0.020038084195931477, 0.76812656084404, 0.2070602033579586, 0.9855183433009218, 0.011873714979529179, 0.001696244997075597, 1.001455994836153, 0.11146453629633779, 0.8265200521596368, 0.060990029294222564, 0.16951553743866285, 0.6652685242875825, 0.16631713107189564, 0.08203976857013873, 0.5859983469295623, 0.33318191725423685, 1.0064830534014102, 0.43074998395673764, 0.15823468798410772, 0.1670255039832248, 0.24614284797527866, 0.9847508990445759, 0.995419228344942, 0.977403621966588, 1.037754049575248, 0.06604241076079359, 0.9356008191112425, 1.0081781148544962, 1.0042123792628483, 1.002514305950943, 1.0042123792628483, 1.0032081111958413, 1.0275661555247748, 0.9221994985004256, 0.08089469285091452, 0.5638916234610366, 0.19120463094368484, 0.24629749070711945, 0.7311924284140232, 0.15233175591958817, 0.10967886426210349, 1.037754049575248, 1.0045925228342654, 0.9989279800314181, 1.021069764320271, 1.0104099108363769, 1.0107074338428217, 0.599928543491184, 0.4015650734658731, 0.9714258038931607, 0.003298014239017971, 0.9960003001834272, 1.0006483690338654, 1.0042123792628483, 0.9965683988678938, 0.9969343261049798, 0.9913752581070436, 1.0007278548816385, 1.005345590692462, 0.7410004136271577, 0.1693715231147789, 0.0899786216547263, 0.9970189235833584, 0.21634001617445175, 0.011238442398672818, 0.3483917143588574, 0.4242512005498989, 0.11462323591866301, 0.878778142043083, 1.0018387125157528, 1.0230400347218316, 0.13495977525527783, 0.09815256382202024, 0.6502607353208841, 0.11042163429977278, 0.9867170416203912, 0.010725185235004252, 0.9847508990445759, 0.12744478646722557, 0.75486527369049, 0.11764134135436206, 0.9913752581070439, 0.881418686569018, 0.12241926202347471, 1.0039545218317443, 0.22210702121079764, 0.7773745742377918, 1.0078052679185292, 0.20759272871103465, 0.0934167279199656, 0.700625459399742, 0.9934128076849811, 0.9969343261049798, 0.9758654625411022, 0.024705454747876006, 1.0025612463256337, 1.0006483690338657, 0.9995581040644974, 0.27585516999181103, 0.10867021848162252, 0.08777209954284895, 0.05015548545305655, 0.334369903020377, 0.1421072087836602, 0.3750170116641154, 0.07500340233282307, 0.5531500922045702, 0.988337190071665, 1.0021006188064725, 0.9994411242170428, 0.9913752581070436, 0.9913752581070437, 0.07421813892353246, 0.6654040041420152, 0.06398115424442453, 0.19962120124260455, 0.9955198731390461, 1.0006483690338657, 0.3334259454069219, 0.02640997587381559, 0.37304090921764527, 0.06602493968453899, 0.2013760660378439, 1.0023817145279563, 0.06565332280350275, 0.059684838912275225, 0.4386835660052229, 0.21188117813857704, 0.22381814592103208, 1.007404537370685, 0.9913752581070436, 0.7714052940835103, 0.2225207579087049, 0.004944905731304554, 0.09162517376842821, 0.4753055889237213, 0.43331071761319173, 0.19617825250703005, 0.8053633523972813, 1.0138234578324459, 0.25132588451179266, 0.753977653535378, 0.16894336698320586, 0.836269666566869, 1.0038066640229326, 0.9968865330600541, 0.9913752581070439, 0.3409293773589951, 0.12107772280039078, 0.09558767589504535, 0.25490046905345426, 0.18480284006375436, 0.9870341055095954, 0.9973304919969782, 1.0057030458327585, 0.9930148340735773, 0.995419228344942, 1.007404537370685, 0.9978404322838924, 0.17605914686355728, 0.5238833150574143, 0.021470627666287472, 0.2748240341284796, 1.0047722210544363, 0.8732454158007706, 0.017464908316015413, 0.11061108600143095, 1.0059112276072804, 0.977403621966588, 0.9963942867298579, 1.007404537370685, 1.0042781124921758, 1.021069764320271, 0.27148226160158073, 0.27148226160158073, 0.16491913087946494, 0.29178000078674565, 1.0303000950382006, 1.004419669397926, 1.003100294678947, 0.41900632153891376, 0.38125800428315576, 0.08304629796266759, 0.11701978349284979, 0.8582116532713063, 0.14475859211805167, 0.07513036266885274, 0.5334255749488545, 0.18031287040524657, 0.2103650154727877, 0.9761878477485362, 1.0011082590121183, 0.868553735262016, 0.012819981332280678, 0.04807492999605254, 0.06730490199447356, 1.058853923797137, 0.9909789510126005, 0.9992942818717496, 0.4557229939741916, 0.11841621103266395, 0.1363580611891282, 0.2870696025034278, 1.002503566365634, 0.9923668767142988, 0.05742939790526244, 0.9425177656216601, 0.035079920351100975, 0.9646978096552769, 0.6727451172668037, 0.007644830878031861, 0.3134380659993063, 0.9827796481582609, 0.10449247326458315, 0.032151530235256354, 0.8600534337931074, 0.004156007950812978, 0.09558818286869848, 0.7896415106544658, 0.01662403180325191, 0.09558818286869848, 0.9718340710027131, 0.4658822665063766, 0.11279254873312276, 0.21087302589235996, 0.21087302589235996, 0.9913752581070436, 1.006442504975995, 0.9808586030009215, 0.9920388215484428, 0.9946222559795586, 0.9959567585369273, 0.12953307668216751, 0.595042571008707, 0.00809581729263547, 0.2671619706569705, 1.0022694917126156, 0.15465814502287692, 0.19796242562928246, 0.5877009510869322, 0.05567693220823569, 1.037754049575248, 0.22135669627668808, 0.12884942022075874, 0.4195865735393938, 0.22796435885211158, 1.0104099108363769, 0.9988410871860937, 0.00325298420454912, 0.9954131665920307, 1.0125608496176022, 1.0089275481981579, 0.9847508990445759, 0.9994411242170428, 0.15952102378208566, 0.2135959470980469, 0.4136731633671035, 0.2122440740151479, 0.0013518730828990311, 0.8391789317307026, 0.16242172872207147, 0.9995218730040883, 0.998379325113154, 1.0000276506983907, 0.018902976767594105, 0.9829547919148934, 0.5590040407987238, 0.442544865632323, 0.9677686942242489, 1.0138234578324459, 0.9145173711697635, 0.03919360162156129, 0.05225813549541506, 0.9981522312638964, 0.9871438931526446, 0.2241881363144272, 0.0016606528615883496, 0.031552404370178644, 0.7439724819915806, 0.9998541106010896, 0.2815351287068216, 0.7152514080659792, 0.7468729614548717, 0.2542546251761265, 1.0018387125157528, 0.03285598573180133, 0.9528235862222386, 0.016427992865900666, 1.007827925484295, 0.906752224517427, 0.09182301007771412, 0.9913752581070439, 1.0042781124921758, 0.9571169353985836, 0.03358305036486258, 1.0089275481981579, 1.0021828687206706, 0.27390742881060737, 0.7284772042835302, 0.024640994317572693, 0.5421018749865992, 0.42505715197812893, 0.012320497158786347, 0.9913752581070437, 0.0025099220224822833, 0.5873217532608543, 0.2635418123606398, 0.14808539932645473, 1.0006483690338657, 0.4051191303871801, 0.05284162570267567, 0.4015963553403351, 0.00704555009369009, 0.13738822682695676, 0.9994762362712432, 0.14066252024397474, 0.6996109559502954, 0.04688750674799158, 0.11228323984387457, 0.8857518400769615, 0.11247642413675701, 0.988337190071665, 0.9434127723411349, 0.6571513901563282, 0.1666017608847029, 0.1758574142671864, 0.9586596967910407, 0.04638675952214713, 0.9966874678241885, 1.011313543545021, 1.0101240721186355, 0.9913752581070436, 0.026728839531521578, 0.3207460743782589, 0.3158862853725277, 0.02186905052579038, 0.15308335368053266, 0.16037303718912946, 1.0090571788576796, 1.00409070665565, 0.9998541106010896, 0.9789669419963843, 0.018471074377290272, 0.14764766851418204, 0.851813472197204, 1.007404537370685, 0.9976702488879317, 0.9991837026770775, 1.0107074338428217, 0.9934128076849811, 1.0078052679185292, 1.010506973654889, 0.05682392493256656, 0.9432771538806048, 1.012442975195364, 0.9973304919969782, 1.0027842006524812, 0.9988294618638995, 0.9887762429012388, 0.013544880039742998, 0.8325246859894065, 0.16493413590356168, 0.9973304919969782, 0.007760620145293399, 0.2871429453758558, 0.7062164332216994, 0.09745892284050935, 0.8338152287465799, 0.06497261522700623, 0.9913752581070436, 0.9978404322838924, 1.0006169579882944, 0.11314017365594038, 0.888150363199132, 1.0045815532044045, 0.9290579464552791, 1.0035243124484539, 0.9933139503406158, 1.0046800021144928, 0.9914180707831053, 0.6582261370296106, 0.3444206530968893, 0.08925962768583569, 0.913194652478165, 0.9871438931526446, 0.11128996436325739, 0.31383769950438584, 0.16693494654488608, 0.195870337279333, 0.21367673157745418, 0.9914180707831053, 0.9912707524227674, 0.26498070014960984, 0.17174675009696935, 0.505426150285367, 0.05888460003324663, 0.9996007587456478, 0.6554342660455265, 0.11077762243022983, 0.004615734267926243, 0.17539790218119722, 0.055388811215114915, 1.0230400347218316, 0.9913752581070437, 0.9985817977275584, 0.987051256710213, 0.011216491553525148, 1.0303000950382006, 0.8131507915607383, 0.18936388296619933, 0.9453791805109986, 0.05433213681097693, 1.0577747642392192, 1.0275661555247748, 0.7585915839763543, 0.005057277226509028, 0.2174629207398882, 0.015171831679527084, 0.005057277226509028, 0.2492223022599223, 0.747666906779767, 0.992675553559816, 1.0030384964377148, 0.08244486027631995, 0.056680841439969966, 0.8553654253668195, 1.0065424306813813, 0.8654815049638107, 0.13342839868192083, 0.3153130900426337, 0.49722448814415315, 0.18999634912825364, 0.9910872726741203, 0.971834071002713, 0.052083977629061716, 0.039062983221796285, 0.0065104972036327145, 0.8984486141013146, 1.007404537370685, 1.0275661555247748, 0.01656516123995819, 0.9773445131575331, 0.4285023051948309, 0.005041203590527422, 0.5696560057295987, 1.0303000950382006, 0.9755944231716712, 0.02469859299168788, 0.31559696732833625, 0.5861086536097674, 0.09467909019850088, 0.9927067153113746, 0.27518889247629086, 0.12871738519052314, 0.5947630901906932, 0.004438530523811143, 1.0045815532044045, 0.9926210039554548, 1.00020879067518, 1.007404537370685, 0.9714258038931607, 1.0045815532044045, 0.9718340710027131, 0.026811004421547012, 0.9786016613864659, 1.0275661555247748, 1.0009744488628884, 0.9998358362412312, 1.0278455470680854, 1.005450856336064, 0.9910872726741203, 0.07309815513214302, 0.921036754665002, 0.9921328398170242, 0.9434127723411349, 1.0104099108363769, 0.6959396994793573, 0.30660280466573087, 1.007404537370685, 0.6509863191590605, 0.12876652466882516, 0.21461087444804192, 0.9933139503406158, 1.0028055252711658, 1.0040851973135443, 0.1124731775230923, 0.2765733873518663, 0.18622608081692332, 0.31898130674581915, 0.03872027422926128, 0.06637761296444791, 0.9973304919969782, 1.0074177995340932, 0.054527317093181184, 0.2924647007725173, 0.12392572066632088, 0.5254450556252005, 0.23128983784053903, 0.5619065999070765, 0.20716758481422515, 0.14084632011414155, 0.17157642632086334, 0.31498358861889836, 0.17157642632086334, 0.051216843677869654, 0.148528846665822, 0.9934904609036392, 0.005949044676069696, 0.9959567585369273, 0.9985461665779122, 0.0054572431928806885, 0.0054572431928806885, 0.11460210705049446, 0.7094416150744896, 0.16371729578642066, 1.0006483690338654, 0.9143376829296164, 0.08451860934643513, 0.9963165579125071, 1.0016806479538063, 0.013347068755472126, 0.9876830879049373, 0.9978404322838925, 0.9913752581070439, 1.0278455470680854, 1.027566155524775, 1.0030652036901335, 0.06437391793310517, 0.0772487015197262, 0.8497357167169881, 0.9699050913982633, 0.013660635090116384, 0.013660635090116384, 1.0059860684658017, 1.0809938016408835, 1.0051211701416762, 0.9983298108839622, 1.0045815532044047, 0.2584499825529136, 0.3838366077518519, 0.12026880376224694, 0.24053760752449388, 1.0164997668452516], \"Term\": [\"\\uac00\\uac00\", \"\\uac00\\uae30\", \"\\uac00\\ub09c\\ud55c\", \"\\uac00\\ub2a5\\ud55c\", \"\\uac00\\ub2a5\\ud55c\", \"\\uac00\\ub2a5\\ud55c\", \"\\uac00\\ubb38\", \"\\uac00\\uc2b4\", \"\\uac00\\uc2b4\", \"\\uac00\\uc2dc\\ub178\", \"\\uac00\\uc871\", \"\\uac00\\uc871\", \"\\uac00\\uc871\", \"\\uac00\\uce58\\uad00\", \"\\uac04\\ub2e4\", \"\\uac04\\ub2e4\", \"\\uac04\\ub2e4\", \"\\uac04\\ub2e4\", \"\\uac04\\ub2e4\", \"\\uac08\\ub4f1\", \"\\uac08\\ub4f1\", \"\\uac08\\ub4f1\", \"\\uac08\\ub4f1\", \"\\uac08\\ub4f1\", \"\\uac10\\ub3d9\", \"\\uac10\\ub3d9\", \"\\uac10\\ub3d9\", \"\\uac10\\uba85\", \"\\uac10\\uc2dc\", \"\\uac10\\uc815\", \"\\uac10\\uc815\", \"\\uac10\\uc815\", \"\\uac10\\uc815\", \"\\uac10\\uc815\", \"\\uac11\\uc791\\uc2a4\\ub7ec\\uc6b4\", \"\\uac15\", \"\\uac15\\uc5f0\", \"\\uac15\\uc778\\ud55c\", \"\\uac15\\uc810\", \"\\uac15\\uc8fc\\ub8e1\", \"\\uac19\\uc558\\ub2e4\", \"\\uac19\\uc558\\ub2e4\", \"\\uac19\\uc9c0\", \"\\uac1c\\uad6d\", \"\\uac1c\\uc815\", \"\\uac70\\ubd80\", \"\\uac74\", \"\\uac74\", \"\\uac74\", \"\\uac74\", \"\\uac74\\ub128\", \"\\uac77\", \"\\uac78\\uc5b4\", \"\\uac80\", \"\\uac8c\\uc774\\uace0\", \"\\uacaa\\ub294\\ub2e4\", \"\\uacb0\\ub9d0\", \"\\uacb0\\ub9d0\", \"\\uacb0\\ub9d0\", \"\\uacb0\\uc815\", \"\\uacb0\\uc815\", \"\\uacb0\\uc815\", \"\\uacb0\\ud63c\", \"\\uacb0\\ud63c\", \"\\uacb0\\ud63c\", \"\\uacb9\", \"\\uacbd\\uba78\", \"\\uacbd\\ubbfc\", \"\\uacbd\\uc81c\", \"\\uacbd\\ucc30\", \"\\uacbd\\ucc30\", \"\\uacbd\\ucf8c\\ud55c\", \"\\uacbd\\ud5a5\", \"\\uacbd\\ud5d8\", \"\\uacbd\\ud5d8\", \"\\uacbd\\ud5d8\", \"\\uacbd\\ud5d8\", \"\\uacbd\\ud5d8\", \"\\uacc4\\uae09\", \"\\uacc4\\uc18d\", \"\\uacc4\\uc18d\", \"\\uacc4\\uc18d\", \"\\uacc4\\uc18d\", \"\\uacc4\\uc18d\", \"\\uacc4\\uc57d\", \"\\uace0\\uac1c\", \"\\uace0\\uad6d\", \"\\uace0\\ub4f1\\ud559\\uad50\", \"\\uace0\\ub4f1\\ud559\\uad50\", \"\\uace0\\ub9d9\\ub2e4\\uace0\", \"\\uace0\\ubbfc\", \"\\uace0\\ubbfc\", \"\\uace0\\uc0dd\", \"\\uace0\\uc2a4\", \"\\uace0\\uc2a4\", \"\\uace0\\uc591\", \"\\uace0\\uc591\\uc774\", \"\\uace0\\uc720\", \"\\uace0\\uc804\", \"\\uace0\\uc9d1\", \"\\uace0\\ud1b5\", \"\\uace0\\ud1b5\", \"\\uace0\\ud1b5\", \"\\uace0\\ud1b5\", \"\\uace0\\ud1b5\", \"\\uace4\", \"\\uace8\\ubaa9\", \"\\uace8\\ubaa9\\uae38\", \"\\uacf5\\uac04\", \"\\uacf5\\uac04\", \"\\uacf5\\uac10\", \"\\uacf5\\uac10\", \"\\uacf5\\uc720\", \"\\uacf5\\uc8fc\", \"\\uacfc\\uac70\", \"\\uacfc\\uac70\", \"\\uacfc\\uac70\", \"\\uacfc\\uac70\", \"\\uacfc\\ud559\", \"\\uacfc\\ud559\", \"\\uad00\\uacc4\", \"\\uad00\\uacc4\", \"\\uad00\\uacc4\", \"\\uad00\\uacc4\", \"\\uad00\\uacc4\", \"\\uad00\\uc810\", \"\\uad11\\ud65c\\ud55c\", \"\\uad50\\ubb18\\ud55c\", \"\\uad50\\ubcf4\", \"\\uad50\\uc218\", \"\\uad50\\uc218\", \"\\uad50\\uc218\", \"\\uad50\\ud1b5\\uc0ac\\uace0\", \"\\uad6c\\ub3c4\", \"\\uad6c\\ub974\", \"\\uad6c\\ub984\", \"\\uad6c\\ub9e4\", \"\\uad6d\\ub9bd\", \"\\uad70\\uc8fc\", \"\\uad75\\uc740\", \"\\uad81\", \"\\uad81\\uad90\", \"\\uad81\\uae08\\uc99d\", \"\\uad82\\uc740\\uc77c\", \"\\uad8c\\ub825\", \"\\uad8c\\ub825\", \"\\uadc0\", \"\\uaddc\\uc815\", \"\\uadf8\\uac8c\", \"\\uadf8\\uac8c\", \"\\uadf8\\ub140\", \"\\uadf8\\ub140\", \"\\uadf8\\ub140\", \"\\uadf8\\ub140\", \"\\uadf8\\ub300\", \"\\uadf8\\ub9b0\", \"\\uadf8\\ub9b0\", \"\\uadf8\\ub9b0\", \"\\uadf8\\ub9b0\", \"\\uadf8\\ub9b0\", \"\\uadf8\\ub9bc\", \"\\uadf8\\ub9bc\\uc790\", \"\\uadfc\\uac70\", \"\\uadfc\\ud604\\ub300\\uc0ac\", \"\\uae00\", \"\\uae00\", \"\\uae00\", \"\\uae00\", \"\\uae30\\uad6c\", \"\\uae30\\ub3c4\", \"\\uae30\\ub3c4\", \"\\uae30\\ub3c4\", \"\\uae30\\ub3c4\", \"\\uae30\\ub3c4\", \"\\uae30\\ub3c4\", \"\\uae30\\ub984\", \"\\uae30\\ubb18\\ud55c\", \"\\uae30\\ubb18\\ud55c\", \"\\uae30\\ubc18\", \"\\uae30\\ubc1c\\ud55c\", \"\\uae30\\uc220\", \"\\uae30\\uc5b5\", \"\\uae30\\uc5b5\", \"\\uae30\\uc5b5\", \"\\uae30\\uc5b5\", \"\\uae30\\uc5b5\", \"\\uae30\\uc6a4\", \"\\uae30\\ud615\", \"\\uae38\", \"\\uae38\", \"\\uae38\", \"\\uae38\", \"\\uae40\\ubc25\", \"\\uae40\\uc560\\ub780\", \"\\uae40\\ud638\\uc5f0\", \"\\uae4a\\uc774\", \"\\uae4a\\uc774\", \"\\uae4a\\uc774\", \"\\uae4a\\uc774\", \"\\uae68\\ub2eb\\ub294\\ub2e4\", \"\\uaf2c\\ubc15\", \"\\uaf43\", \"\\uaf43\", \"\\uafc8\", \"\\uafc8\", \"\\uafc8\", \"\\ub04c\\uc5b4\\uc548\\uace0\", \"\\ub05d\", \"\\ub05d\", \"\\ub05d\", \"\\ub05d\", \"\\ub05d\", \"\\ub05d\", \"\\ub098\\uac00\", \"\\ub098\\uac00\\ub358\", \"\\ub098\\uac00\\uba70\", \"\\ub098\\ub0a0\", \"\\ub098\\ub204\\ub294\", \"\\ub098\\ub204\\uba74\\uc11c\", \"\\ub098\\ub77c\", \"\\ub098\\ub77c\", \"\\ub098\\ub77c\", \"\\ub098\\ub77d\", \"\\ub098\\uba74\", \"\\ub098\\ubb34\", \"\\ub098\\ubb34\", \"\\ub098\\ubb34\", \"\\ub098\\uc058\\uac8c\", \"\\ub098\\uc62c\", \"\\ub098\\ud0c0\\ub09c\\ub2e4\", \"\\ub099\", \"\\ub0a8\", \"\\ub0a8\", \"\\ub0a8\\ub294\\ub2e4\", \"\\ub0a8\\uc131\", \"\\ub0a8\\uc131\", \"\\ub0a8\\uc790\", \"\\ub0a8\\uc790\", \"\\ub0a8\\uc790\", \"\\ub0a8\\uc790\", \"\\ub0a8\\uc790\", \"\\ub0a8\\ud3b8\", \"\\ub0a8\\ud3b8\", \"\\ub0a8\\ud3b8\", \"\\ub0af\\uc120\", \"\\ub0af\\uc120\", \"\\ub0af\\uc120\", \"\\ub0b4\\ub824\\ub193\\uc744\", \"\\ub0b4\\uba74\", \"\\ub0b4\\uba74\", \"\\ub0b4\\uba74\", \"\\ub0b4\\uc57c\", \"\\ub0bc\", \"\\ub10c\\uc9c0\\uc2dc\", \"\\ub118\\uccd0\\ub098\\ub294\", \"\\ub178\\ub3d9\", \"\\ub178\\ub798\", \"\\ub178\\ub798\", \"\\ub179\\uc5ec\", \"\\ub180\\ub77c\", \"\\ub1cc\\ub9ac\", \"\\ub204\\uad6c\", \"\\ub204\\uad6c\", \"\\ub204\\uad6c\", \"\\ub204\\uad6c\", \"\\ub204\\uad6c\", \"\\ub204\\uad6c\", \"\\ub204\\uad70\\uac00\", \"\\ub204\\uad70\\uac00\", \"\\ub204\\uad70\\uac00\", \"\\ub204\\uad70\\uac00\", \"\\ub204\\uc801\", \"\\ub208\", \"\\ub208\", \"\\ub208\", \"\\ub208\", \"\\ub208\\uce58\", \"\\ub274\\uc695\\ud0c0\\uc784\\uc2a4\", \"\\ub290\\ub07c\\uc9c0\", \"\\ub290\\ub08c\", \"\\ub290\\ub08c\", \"\\ub290\\ub08c\", \"\\ub298\", \"\\ub298\", \"\\ub298\", \"\\ub2e4\\uac00\\uc624\\ub294\", \"\\ub2e4\\uac00\\uc628\", \"\\ub2e4\\ub2c8\\ub294\", \"\\ub2e4\\ub904\", \"\\ub2e4\\ub9cc\", \"\\ub2e4\\ub9cc\", \"\\ub2e4\\uc591\\ud55c\", \"\\ub2e4\\uc591\\ud55c\", \"\\ub2e4\\uc591\\ud55c\", \"\\ub2e4\\uc591\\ud55c\", \"\\ub2e4\\uc591\\ud55c\", \"\\ub2e4\\uc815\\ud55c\", \"\\ub2e4\\ud589\", \"\\ub2e8\\ub2e8\\ud55c\", \"\\ub2e8\\uc7a5\", \"\\ub2e8\\uc808\", \"\\ub2e8\\ud589\\ubcf8\", \"\\ub2e8\\ud589\\ubcf8\", \"\\ub2ec\", \"\\ub2ec\", \"\\ub2ec\", \"\\ub2ec\", \"\\ub2ec\\ub7ec\", \"\\ub2ec\\ub9ac\", \"\\ub2ec\\ub9ac\", \"\\ub2ec\\ub9ac\", \"\\ub2ec\\ub9ac\", \"\\ub2ec\\ub9ac\", \"\\ub2ec\\ub9ac\", \"\\ub2ec\\ube5b\", \"\\ub2f4\", \"\\ub2f9\\ub300\", \"\\ub2f9\\uc2dc\", \"\\ub2f9\\uc2dc\", \"\\ub2f9\\uc2dc\", \"\\ub2f9\\uc2dc\", \"\\ub2f9\\uc2e0\", \"\\ub2f9\\uc2e0\", \"\\ub2f9\\uc2e0\", \"\\ub2f9\\uc2e0\", \"\\ub300\\uad6c\", \"\\ub300\\uae4c\\uc9c0\", \"\\ub300\\uc5d0\", \"\\ub300\\uc6b0\", \"\\ub300\\ud45c\", \"\\ub300\\ud45c\", \"\\ub300\\ud45c\", \"\\ub300\\ud45c\", \"\\ub300\\ud559\\uc0dd\", \"\\ub300\\ud55c\\ubbfc\\uad6d\", \"\\ub358\", \"\\ub369\", \"\\ub370\\ub9ac\", \"\\ub3c4\\ub2ec\", \"\\ub3c4\\ubb34\\uc9c0\", \"\\ub3c4\\ubc15\", \"\\ub3c4\\uc11c\\uad00\", \"\\ub3c4\\uc2dc\", \"\\ub3c4\\uc2dc\", \"\\ub3c5\\uc77c\", \"\\ub3c5\\ucc3d\", \"\\ub3c5\\ud2b9\\ud55c\", \"\\ub3c5\\ud2b9\\ud55c\", \"\\ub3c8\", \"\\ub3c8\", \"\\ub3c8\", \"\\ub3c8\", \"\\ub3cc\", \"\\ub3cc\", \"\\ub3cc\\ud30c\", \"\\ub3cc\\ud48d\", \"\\ub3d9\\uc0dd\", \"\\ub3d9\\uc0dd\", \"\\ub3d9\\uc2dc\", \"\\ub3d9\\uc2dc\", \"\\ub3d9\\uc2dc\", \"\\ub3d9\\uc2dc\", \"\\ub3d9\\uc2dc\", \"\\ub3d9\\uc2dd\", \"\\ub3d9\\uc694\", \"\\ub418\\uc5c8\\uc744\\uae4c\", \"\\ub429\\ub2c8\\ub2e4\", \"\\ub450\\ub1cc\", \"\\ub450\\ub824\\uc6c0\", \"\\ub450\\ub824\\uc6c0\", \"\\ub4b7\\ubc1b\\uce68\", \"\\ub4dc\\ub7ec\\ub09c\", \"\\ub4dc\\ub9bc\", \"\\ub4e4\\ub824\\uc900\\ub2e4\", \"\\ub4e4\\uc5b4\\uc904\", \"\\ub4f1\\uc7a5\", \"\\ub4f1\\uc7a5\", \"\\ub4f1\\uc7a5\", \"\\ub4f1\\uc7a5\", \"\\ub4f1\\uc7a5\", \"\\ub530\\ub73b\\ud55c\", \"\\ub530\\ub73b\\ud55c\", \"\\ub530\\ub73b\\ud55c\", \"\\ub530\\ub73b\\ud55c\", \"\\ub538\", \"\\ub538\", \"\\ub538\", \"\\ub538\", \"\\ub538\", \"\\ub545\", \"\\ub545\", \"\\ub545\", \"\\ub545\", \"\\ub5a0\", \"\\ub5a0\\ub098\\ub294\", \"\\ub5a0\\ub09c\\ub2e4\", \"\\ub5a8\\uc5b4\\uc9c4\", \"\\ub5bc\\uc9c0\", \"\\ub7ec\\uc2dc\\uc544\", \"\\ub7f0\\ub358\", \"\\ub808\", \"\\ub808\\uc624\", \"\\ub839\", \"\\ub85c\\ub9e8\\uc2a4\", \"\\ub85c\\ub9e8\\uc2a4\", \"\\ub85c\\ub9f9\", \"\\ub85c\\ubd07\", \"\\ub85d\", \"\\ub9ac\", \"\\ub9ac\", \"\\ub9ac\", \"\\ub9b0\", \"\\ub9c8\\ub825\", \"\\ub9c8\\uc744\", \"\\ub9c8\\uc744\", \"\\ub9c8\\uc744\", \"\\ub9c8\\uc74c\\uba39\\uc740\", \"\\ub9c8\\uc9c0\\ub9c9\", \"\\ub9c8\\uc9c0\\ub9c9\", \"\\ub9c8\\uc9c0\\ub9c9\", \"\\ub9c8\\uc9c0\\ub9c9\", \"\\ub9c8\\uc9c0\\ub9c9\", \"\\ub9c8\\uc9c0\\ub9c9\", \"\\ub9c8\\uce68\", \"\\ub9c9\\ub0b4\\ub538\", \"\\ub9cc\\uc5f0\\ud55c\", \"\\ub9cc\\ud07c\", \"\\ub9cc\\ud07c\", \"\\ub9cc\\ud07c\", \"\\ub9ce\\ub358\", \"\\ub9d0\\ub9ac\", \"\\ub9d0\\uc500\", \"\\ub9db\", \"\\ub9dd\\uc0c1\", \"\\ub9dd\\uc6d0\\ub3d9\", \"\\ub9de\\uc11c\", \"\\ub9de\\uc544\", \"\\ub9de\\ucdb0\", \"\\ub9e4\\ub825\", \"\\ub9e4\\ub825\", \"\\ub9e4\\uc0ac\", \"\\ub9e4\\uc7a5\", \"\\ub9e8\\ubd80\\ucee4\\uc0c1\", \"\\uba38\\ub9ac\", \"\\uba38\\ub9ac\", \"\\uba85\", \"\\uba85\", \"\\uba85\", \"\\uba85\", \"\\uba87\", \"\\uba87\", \"\\uba87\", \"\\uba87\", \"\\ubaa8\\ub978\\ub2e4\", \"\\ubaa8\\ub978\\ub2e4\", \"\\ubaa8\\ub978\\ub2e4\", \"\\ubaa8\\uc21c\", \"\\ubaa8\\uc591\", \"\\ubaa8\\uc790\", \"\\ubaa9\\ub9d0\", \"\\ubaa9\\uc18c\\ub9ac\", \"\\ubaa9\\uc18c\\ub9ac\", \"\\ubaa9\\uc18c\\ub9ac\", \"\\ubaa9\\uc18c\\ub9ac\", \"\\ubaa9\\uc228\", \"\\ubaa9\\uc228\", \"\\ubab0\\uace0\", \"\\ubab8\", \"\\ubab9\\uc2dc\", \"\\ubb34\\uac8c\", \"\\ubb34\\uc2a8\", \"\\ubb34\\ucc99\", \"\\ubb38\", \"\\ubb38\", \"\\ubb38\", \"\\ubb38\\ub4dd\", \"\\ubb38\\uba85\", \"\\ubb38\\ud559\\ub3d9\\ub124\", \"\\ubb38\\ud559\\ub3d9\\ub124\", \"\\ubb38\\ud559\\uc0ac\", \"\\ubb38\\ud638\", \"\\ubb3b\\uac8c\", \"\\ubb88\\uc18c\", \"\\ubbf8\\ub798\", \"\\ubbf8\\ub798\", \"\\ubbf8\\ub798\", \"\\ubbf8\\ub798\", \"\\ubbf8\\ub798\", \"\\ubbf8\\uc2a4\\ud130\\ub9ac\", \"\\ubbfc\\uac10\\ud55c\", \"\\ubbfc\\uc871\", \"\\ubc00\\ub9ac\", \"\\ubc14\\ub00c\\uc5c8\\ub2e4\", \"\\ubc14\\uc774\", \"\\ubc18\", \"\\ubc18\", \"\\ubc18\", \"\\ubc18\\uc601\", \"\\ubc18\\uc804\", \"\\ubc18\\uc804\", \"\\ubc1b\\uc544\\ub4e4\\uc774\\uba70\", \"\\ubc1c\\uacac\", \"\\ubc1c\\uacac\", \"\\ubc1c\\uacac\", \"\\ubc1c\\uacac\", \"\\ubc1c\\uacac\", \"\\ubc1c\\ubc84\\ub465\", \"\\ubc1c\\uc9dd\", \"\\ubc24\", \"\\ubc24\", \"\\ubc24\", \"\\ubc24\", \"\\ubc29\\uc2dd\", \"\\ubc29\\uc2dd\", \"\\ubc30\\uacbd\", \"\\ubc30\\uacbd\", \"\\ubc30\\uacbd\", \"\\ubc30\\uacbd\", \"\\ubc30\\uc6b0\", \"\\ubc31\\uc131\", \"\\ubc31\\ud654\\uc810\", \"\\ubc84\\ub9b0\", \"\\ubc84\\ub9b0\", \"\\ubc84\\ub9b0\", \"\\ubc84\\ub9b4\", \"\\ubc84\\ud2f8\", \"\\ubc94\\uc778\", \"\\ubc94\\uc8c4\", \"\\ubc97\", \"\\ubc9a\\uaf43\", \"\\ubca0\", \"\\ubca0\", \"\\ubca0\\uc774\\ucee4\\ub9ac\", \"\\ubca0\\uc774\\ucee4\\ub9ac\", \"\\ubcc0\\ubaa8\", \"\\ubcc0\\uc2e0\", \"\\ubcf4\\ub0b4\", \"\\ubcf4\\ub0b4\\ub294\", \"\\ubcf4\\ub77c\", \"\\ubcf4\\uba74\", \"\\ubcf4\\uba74\", \"\\ubcf4\\uba74\", \"\\ubcf4\\uc5ec\\uc8fc\\uba70\", \"\\ubcf4\\uc774\\uc9c0\", \"\\ubcf5\\uc120\", \"\\ubcf5\\uc218\", \"\\ubcf8\\ub2a5\", \"\\ubcf8\\ub2e4\", \"\\ubcf8\\uc9c8\", \"\\ubcfc\", \"\\ubcfc\", \"\\ubcfc\", \"\\ubcfc\", \"\\ubd04\", \"\\ubd04\", \"\\ubd04\", \"\\ubd04\", \"\\ubd09\\ucc29\", \"\\ubd80\\ubaa8\", \"\\ubd80\\ubaa8\", \"\\ubd80\\ubaa8\", \"\\ubd80\\uc0b0\", \"\\ubd80\\ud130\", \"\\ubd80\\ud130\", \"\\ubd81\\ud55c\", \"\\ubd84\\ub7c9\", \"\\ubd84\\uc11d\", \"\\ubd88\\ub2a5\", \"\\ubd88\\ub7c9\", \"\\ubd88\\uc465\", \"\\ubd88\\ud3b8\\ud55c\", \"\\ube0c\\ub77c\\ub354\\uc2a4\", \"\\ube44\\uadf9\", \"\\ube44\\uadf9\", \"\\ube44\\ubc00\", \"\\ube44\\ubc00\", \"\\ube44\\ubc00\", \"\\ube44\\ucd98\\ub2e4\", \"\\ube60\\uc838\\ub4dc\\ub294\", \"\\ube75\", \"\\ubfd0\\uc774\\uc5c8\\ub2e4\", \"\\uc0ac\\uac74\", \"\\uc0ac\\uac74\", \"\\uc0ac\\uac74\", \"\\uc0ac\\uac74\", \"\\uc0ac\\uac74\", \"\\uc0ac\\uace0\", \"\\uc0ac\\uace0\", \"\\uc0ac\\ub0b4\", \"\\uc0ac\\ub2e4\\ub9ac\", \"\\uc0ac\\uc11c\", \"\\uc0ac\\uc2e4\", \"\\uc0ac\\uc2e4\", \"\\uc0ac\\uc2e4\", \"\\uc0ac\\uc2e4\", \"\\uc0ac\\uc774\", \"\\uc0ac\\uc774\", \"\\uc0ac\\uc774\", \"\\uc0ac\\uc774\", \"\\uc0ac\\uc774\", \"\\uc0ac\\uc774\", \"\\uc0ac\\uc9c4\", \"\\uc0ac\\uc9c4\", \"\\uc0ac\\ucd98\\uae30\", \"\\uc0ac\\ud68c\", \"\\uc0ac\\ud68c\", \"\\uc0ac\\ud68c\", \"\\uc0ac\\ud68c\", \"\\uc0b4\\uc544\\uac00\\ub294\", \"\\uc0b4\\uc544\\uac00\\ub294\", \"\\uc0b4\\uc544\\uac00\\ub294\", \"\\uc0b4\\uc544\\uac00\\ub294\", \"\\uc0b4\\uc544\\uac00\\ub294\", \"\\uc0b4\\uc544\\ub0a8\\uc744\", \"\\uc0b4\\uc778\", \"\\uc0b4\\ud574\", \"\\uc0c1\", \"\\uc0c1\", \"\\uc0c1\\uc0c1\\ub825\", \"\\uc0c1\\uc0c1\\ub825\", \"\\uc0c1\\uc0c1\\ub825\", \"\\uc0c1\\uc0c1\\ub825\", \"\\uc0c1\\uc0c1\\ub825\", \"\\uc0c1\\uc2b9\", \"\\uc0c1\\uc2e4\", \"\\uc0c1\\uc810\", \"\\uc0c1\\ucc98\", \"\\uc0c1\\ucc98\", \"\\uc0c1\\ud669\", \"\\uc0c1\\ud669\", \"\\uc0c1\\ud669\", \"\\uc0c1\\ud669\", \"\\uc0c1\\ud669\", \"\\uc0c1\\ud669\", \"\\uc0c8\\ub85c\\uc774\", \"\\uc0c8\\ub86d\\uac8c\", \"\\uc0c8\\ub86d\\uac8c\", \"\\uc0c8\\ub86d\\uac8c\", \"\\uc0d8\", \"\\uc0dd\\uc0dd\\ud558\\uace0\", \"\\uc0dd\\uc120\", \"\\uc11c\", \"\\uc11c\", \"\\uc11c\\ub3c4\", \"\\uc11c\\ub3c4\", \"\\uc11c\\ub828\", \"\\uc11c\\ub85c\", \"\\uc11c\\ub85c\", \"\\uc11c\\ub85c\", \"\\uc11c\\ub85c\", \"\\uc11c\\ub85c\", \"\\uc11c\\ube44\\uc2a4\", \"\\uc11c\\uc0ac\", \"\\uc11c\\uc0ac\", \"\\uc11c\\uc2a4\\ud39c\\uc2a4\", \"\\uc11c\\ud3c9\", \"\\uc120\", \"\\uc120\", \"\\uc120\", \"\\uc120\", \"\\uc120\", \"\\uc120\\ubcf4\\uc77c\", \"\\uc120\\uc0ac\", \"\\uc120\\uc0ac\", \"\\uc120\\uc0ac\", \"\\uc120\\uc0ac\", \"\\uc120\\ud0dd\", \"\\uc120\\ud0dd\", \"\\uc120\\ud0dd\", \"\\uc120\\ud0dd\", \"\\uc120\\ud0dd\", \"\\uc120\\ud0dd\", \"\\uc124\\uacc4\", \"\\uc124\\uc120\", \"\\uc124\\uc815\", \"\\uc12c\", \"\\uc131\\uc7a5\", \"\\uc131\\uc7a5\\ud55c\\ub2e4\\ub294\", \"\\uc131\\uc801\", \"\\uc131\\uc801\", \"\\uc131\\ud615\", \"\\uc138\\uacc4\\ubb38\\ud559\", \"\\uc138\\uae30\", \"\\uc138\\uae30\", \"\\uc138\\ub825\", \"\\uc138\\uc6d4\", \"\\uc138\\uc6d4\", \"\\uc138\\uc6e0\\ub2e4\", \"\\uc138\\uc790\", \"\\uc18c\\uac1c\", \"\\uc18c\\uac1c\", \"\\uc18c\\uac1c\", \"\\uc18c\\uac1c\", \"\\uc18c\\uac1c\", \"\\uc18c\\ub140\", \"\\uc18c\\ub140\", \"\\uc18c\\ub140\", \"\\uc18c\\ub144\", \"\\uc18c\\ub144\", \"\\uc18c\\ub144\", \"\\uc18c\\ub144\", \"\\uc18c\\ub9ac\", \"\\uc18c\\ub9ac\", \"\\uc18c\\ubb38\", \"\\uc18c\\uc7ac\", \"\\uc18c\\uc7ac\", \"\\uc18c\\uc911\\ud55c\", \"\\uc18c\\uc911\\ud568\\uc744\", \"\\uc18c\\ud1b5\", \"\\uc190\", \"\\uc190\", \"\\uc190\", \"\\uc190\", \"\\uc190\", \"\\uc190\\uae38\", \"\\uc190\\ub2d8\", \"\\uc190\\ub2d8\", \"\\uc218\\ub2e8\", \"\\uc218\\uc0ac\", \"\\uc218\\uc0c1\\ud588\\ub2e4\", \"\\uc218\\uc218\\uaed8\\ub07c\", \"\\uc218\\uc758\", \"\\uc218\\uc815\", \"\\uc218\\ucd9c\", \"\\uc218\\ud559\", \"\\uc219\\uba85\", \"\\uc21c\\uac04\", \"\\uc21c\\uac04\", \"\\uc21c\\uac04\", \"\\uc21c\\uac04\", \"\\uc21c\\uac04\", \"\\uc21c\\uac04\", \"\\uc21c\\ud0c4\", \"\\uc228\", \"\\uc228\", \"\\uc228\", \"\\uc22b\\uc790\", \"\\uc2a4\", \"\\uc2a4\", \"\\uc2a4\", \"\\uc2a4\\ub178\\ubcfc\", \"\\uc2a4\\ub9b4\\ub7ec\", \"\\uc2dc\", \"\\uc2dc\", \"\\uc2dc\", \"\\uc2dc\\uac04\\ub300\", \"\\uc2dc\\uae30\", \"\\uc2dc\\uae30\", \"\\uc2dc\\uae30\", \"\\uc2dc\\ub300\", \"\\uc2dc\\ub300\", \"\\uc2dc\\ub300\", \"\\uc2dc\\ub300\", \"\\uc2dc\\ub300\", \"\\uc2dc\\ub97c\", \"\\uc2dc\\uc120\", \"\\uc2dc\\uc120\", \"\\uc2dc\\uc120\", \"\\uc2dc\\uc120\", \"\\uc2dc\\uc7a5\", \"\\uc2dc\\uc808\", \"\\uc2dc\\uc808\", \"\\uc2dc\\uc808\", \"\\uc2dc\\uc808\", \"\\uc2dc\\uc98c\", \"\\uc2e0\\uacbd\", \"\\uc2e0\\ub4dc\\ub86c\", \"\\uc2e0\\ubd84\", \"\\uc2e0\\ubd84\", \"\\uc2e0\\uc74c\", \"\\uc2e0\\uc758\", \"\\uc2e0\\uc778\", \"\\uc2e4\\uc874\", \"\\uc2e4\\uc885\", \"\\uc2e4\\ud328\", \"\\uc2e4\\ud5d8\", \"\\uc2ec\\ub9ac\", \"\\uc2ec\\ub9ac\", \"\\uc2ec\\ub9ac\", \"\\uc2ed\", \"\\uc2ed\\ub300\", \"\\uc2f1\\uc544\", \"\\uc4f0\\ub294\", \"\\uc4f0\\ub294\", \"\\uc4f0\\ub294\", \"\\uc544\\uae30\", \"\\uc544\\ub0b4\", \"\\uc544\\ub0b4\", \"\\uc544\\ub0b4\", \"\\uc544\\ub294\", \"\\uc544\\ub294\", \"\\uc544\\ub294\", \"\\uc544\\ub2d0\\uae4c\", \"\\uc544\\ub2d0\\uae4c\", \"\\uc544\\ub4e4\", \"\\uc544\\ub4e4\", \"\\uc544\\ub974\", \"\\uc544\\ub974\\ubc14\\uc774\\ud2b8\", \"\\uc544\\ubaac\\ub4dc\", \"\\uc544\\ubc84\\uc9c0\", \"\\uc544\\ubc84\\uc9c0\", \"\\uc544\\ubc84\\uc9c0\", \"\\uc544\\ubc84\\uc9c0\", \"\\uc544\\ube44\", \"\\uc544\\ube60\", \"\\uc544\\uc6b0\\ub974\\ub294\", \"\\uc544\\uc774\", \"\\uc544\\uc774\", \"\\uc544\\uc774\\ub7ec\\ub2c8\", \"\\uc544\\uc8fc\", \"\\uc544\\uc8fc\", \"\\uc544\\uc8fc\", \"\\uc544\\ud508\", \"\\uc544\\ud514\", \"\\uc544\\ud514\", \"\\uc544\\ud649\", \"\\uc545\\ub9c8\", \"\\uc545\\ubabd\", \"\\uc545\\ubabd\", \"\\uc545\\uc758\", \"\\uc548\\uaca8\\uc904\", \"\\uc548\\ud0c0\\uae5d\\uac8c\\ub3c4\", \"\\uc54a\\uae30\", \"\\uc54c\\ub824\\uc8fc\\ub294\", \"\\uc54c\\ub9ac\\ub294\", \"\\uc54c\\ubc14\", \"\\uc54c\\ubca0\\ub974\", \"\\uc54c\\ucf54\\uc62c\", \"\\uc560\\uac00\", \"\\uc560\\ub3c4\", \"\\uc568\\ub9ac\\uc2a4\", \"\\uc57c\\uac04\", \"\\uc57c\\ucfe0\\uc790\", \"\\uc591\\uadc0\\uc790\", \"\\uc591\\uadc0\\uc790\", \"\\uc5b4\\uae68\", \"\\uc5b4\\ub35c\\ud2b8\", \"\\uc5b4\\ub835\\ub2e4\\ub294\", \"\\uc5b4\\ub978\", \"\\uc5b4\\ub9b0\", \"\\uc5b4\\ub9b0\", \"\\uc5b4\\ub9b0\", \"\\uc5b4\\ub9b0\", \"\\uc5b4\\uba38\\ub2c8\", \"\\uc5b4\\uba38\\ub2c8\", \"\\uc5b5\\uc555\", \"\\uc5b8\\uc5b4\", \"\\uc5b8\\uc5b4\", \"\\uc5bb\\uc73c\\uba70\", \"\\uc5bc\\uad74\", \"\\uc5bc\\uad74\", \"\\uc5c4\\ub9c8\", \"\\uc5c4\\ub9c8\", \"\\uc5d0\\ub514\", \"\\uc5ec\", \"\\uc5ec\", \"\\uc5ec\\ub7ec\", \"\\uc5ec\\ub7ec\", \"\\uc5ec\\ub7ec\", \"\\uc5ec\\ub7ec\", \"\\uc5ec\\ub7ec\\ubd84\", \"\\uc5ec\\uc0ac\", \"\\uc5ec\\uc12f\", \"\\uc5ec\\uc12f\", \"\\uc5ec\\uc12f\", \"\\uc5ec\\uc131\", \"\\uc5ec\\uc131\", \"\\uc5ec\\uc131\", \"\\uc5ec\\uc778\", \"\\uc5ec\\uc790\", \"\\uc5ec\\uc790\", \"\\uc5ec\\uc790\", \"\\uc5ec\\ud589\", \"\\uc5ec\\ud589\", \"\\uc5ec\\ud589\", \"\\uc5ed\\uc0ac\", \"\\uc5ed\\uc0ac\", \"\\uc5ed\\uc0ac\", \"\\uc5ed\\uc0ac\\uc18c\\uc124\", \"\\uc5ed\\uc2dc\", \"\\uc5ed\\uc2dc\", \"\\uc5ed\\uc2dc\", \"\\uc5ed\\uc2dc\", \"\\uc5f0\\uad6c\\uc6d0\", \"\\uc5f0\\ub300\\uae30\", \"\\uc5f0\\ub839\", \"\\uc5f0\\ub9d0\", \"\\uc5f0\\uc560\", \"\\uc5f0\\uc560\", \"\\uc5f0\\uc791\", \"\\uc5f4\\ub9b0\", \"\\uc5f4\\uc815\", \"\\uc601\\uc5b4\", \"\\uc601\\uc6c5\", \"\\uc601\\uc801\", \"\\uc601\\ud63c\", \"\\uc601\\ud63c\", \"\\uc601\\ud654\", \"\\uc601\\ud654\", \"\\uc601\\ud654\", \"\\uc608\\uc220\", \"\\uc608\\uc220\", \"\\uc608\\uc220\", \"\\uc608\\uc2a4\", \"\\uc608\\uce21\", \"\\uc624\\uae30\", \"\\uc624\\uc0ac\\uce74\", \"\\uc62c\\ub77c\\uac04\\ub2e4\", \"\\uc62e\\uae34\\uc774\\uc758\", \"\\uc644\\uc131\", \"\\uc644\\uc131\", \"\\uc654\\uc73c\\uba70\", \"\\uc655\", \"\\uc655\", \"\\uc655\\uc790\", \"\\uc65c\\uace1\", \"\\uc678\\ub85c\\uc6c0\", \"\\uc678\\ubaa8\", \"\\uc695\\uad6c\", \"\\uc695\\ub9dd\", \"\\uc6a9\\uc758\\uc790\", \"\\uc6b0\\uc8fc\", \"\\uc6b0\\uc8fc\", \"\\uc6b0\\uc8fc\", \"\\uc6b0\\ud654\", \"\\uc6b4\\uba85\", \"\\uc6b4\\uba85\", \"\\uc6b4\\uba85\", \"\\uc6b4\\uba85\", \"\\uc6b4\\uc601\", \"\\uc6b4\\uc601\", \"\\uc6b8\", \"\\uc6b8\\uc5b4\", \"\\uc6c0\", \"\\uc6c0\", \"\\uc6c0\", \"\\uc6c0\", \"\\uc6d0\\uace0\", \"\\uc6d0\\uace0\", \"\\uc6d0\\uace0\\uc9c0\", \"\\uc6d0\\uc791\", \"\\uc6d0\\uc791\", \"\\uc6d0\\uc791\", \"\\uc6d0\\uc81c\", \"\\uc6d4\", \"\\uc6d4\", \"\\uc6d4\\uac04\", \"\\uc6f9\\uc18c\\uc124\", \"\\uc6f9\\uc18c\\uc124\", \"\\uc704\\ub300\\ud55c\", \"\\uc704\\ub85c\", \"\\uc704\\ub85c\", \"\\uc704\\ub85c\", \"\\uc704\\uc800\\ub4dc\", \"\\uc720\", \"\\uc720\\ub839\", \"\\uc720\\ub839\", \"\\uc720\\ub9ac\", \"\\uc720\\ubc30\", \"\\uc720\\uc9c4\", \"\\uc758\\ubbf8\", \"\\uc758\\ubbf8\", \"\\uc758\\ubbf8\", \"\\uc758\\ubbf8\", \"\\uc758\\ubbf8\", \"\\uc758\\ubbf8\", \"\\uc758\\uc2dd\", \"\\uc758\\uc2dd\", \"\\uc758\\uc2dd\", \"\\uc758\\uc790\", \"\\uc758\\uc9c0\", \"\\uc774\\ub098\", \"\\uc774\\ubbfc\", \"\\uc774\\ubbfc\\uc790\", \"\\uc774\\uc0c1\", \"\\uc774\\uc0c1\", \"\\uc774\\uc0c1\", \"\\uc774\\uc0c1\", \"\\uc774\\uc5c8\\uace0\", \"\\uc774\\uc5c8\\uae30\", \"\\uc774\\uc720\", \"\\uc774\\uc720\", \"\\uc774\\uc720\", \"\\uc774\\uc720\", \"\\uc774\\uc720\", \"\\uc774\\uc758\", \"\\uc774\\ud574\", \"\\uc774\\ud574\", \"\\uc774\\ud574\", \"\\uc774\\ud574\", \"\\uc774\\ud574\", \"\\uc775\\uc219\\ud55c\", \"\\uc778\\uacf5\", \"\\uc778\\ub958\", \"\\uc778\\ub958\", \"\\uc778\\ub958\", \"\\uc778\\uc0dd\", \"\\uc778\\uc0dd\", \"\\uc778\\uc0dd\", \"\\uc778\\uc5f0\", \"\\uc778\\uc5f0\", \"\\uc778\\uc9c0\\ub3c4\", \"\\uc778\\ud130\\ubdf0\", \"\\uc778\\ud130\\ubdf0\", \"\\uc77c\\uacf1\", \"\\uc77c\\uacf1\", \"\\uc77c\\uae30\", \"\\uc77c\\ub7ec\\uc2a4\\ud2b8\", \"\\uc77c\\ub828\", \"\\uc77c\\uc0c1\", \"\\uc77c\\uc0c1\", \"\\uc77c\\uc0c1\", \"\\uc77c\\uc0c1\", \"\\uc77c\\uc0c1\", \"\\uc77c\\uc81c\\uac15\\uc810\\uae30\", \"\\uc77c\\uc885\", \"\\uc77d\\uae30\", \"\\uc77d\\ub2e4\", \"\\uc77d\\uc5c8\\ub2e4\", \"\\uc77d\\uc5c8\\ub2e4\\ub294\", \"\\uc77d\\uc73c\\uba70\", \"\\uc784\", \"\\uc784\", \"\\uc784\", \"\\uc784\", \"\\uc784\\uc2e0\", \"\\uc785\", \"\\uc785\", \"\\uc785\", \"\\uc788\\uae30\\ub97c\", \"\\uc788\\ub294\\uc9c0\\ub97c\", \"\\uc788\\uc2b5\\ub2c8\\ub2e4\", \"\\uc788\\uc744\\uc9c0\\ub3c4\", \"\\uc788\\uc9c0\", \"\\uc78a\\uc5b4\\ubc84\\ub9b0\", \"\\uc790\\uae30\", \"\\uc790\\uae30\", \"\\uc790\\uae30\", \"\\uc790\\uae30\", \"\\uc790\\ub77c\\ub294\", \"\\uc790\\ub9e4\", \"\\uc790\\uc804\", \"\\uc791\\uc740\", \"\\uc791\\uc740\", \"\\uc791\\uc740\", \"\\uc791\\uc740\", \"\\uc7a0\", \"\\uc7a0\", \"\\uc7a5\\ub974\", \"\\uc7a5\\ub974\", \"\\uc7a5\\ub974\", \"\\uc7a5\\ub974\", \"\\uc7a5\\uc2dd\", \"\\uc7ac\\ub09c\", \"\\uc7ac\\ubbf8\", \"\\uc7ac\\ubbf8\", \"\\uc7ac\\ubbf8\", \"\\uc7ac\\ubbf8\", \"\\uc7ac\\uc77c\", \"\\uc800\\ub141\", \"\\uc800\\uc8fc\", \"\\uc801\", \"\\uc801\", \"\\uc801\", \"\\uc801\", \"\\uc804\\ubb38\\uac00\", \"\\uc804\\ubd80\", \"\\uc804\\uc7c1\", \"\\uc804\\uc7c1\", \"\\uc804\\ud1b5\", \"\\uc804\\ud1b5\", \"\\uc804\\ud558\", \"\\uc804\\ud558\", \"\\uc804\\ud558\", \"\\uc804\\ud574\\uc9c4\\ub2e4\", \"\\uc808\\ub9dd\", \"\\uc808\\ub9dd\", \"\\uc808\\ub9dd\", \"\\uc80a\\uc740\", \"\\uc80a\\uc740\", \"\\uc80a\\uc740\", \"\\uc80a\\uc740\", \"\\uc80a\\uc740\", \"\\uc810\\uc6d0\", \"\\uc810\\uc810\", \"\\uc810\\uc810\", \"\\uc810\\uc810\", \"\\uc810\\uc810\", \"\\uc815\\ubcf4\", \"\\uc815\\uc138\\ub791\", \"\\uc815\\uc2dd\", \"\\uc815\\uc6d0\", \"\\uc815\\uc774\", \"\\uc815\\uc9c0\", \"\\uc815\\uccb4\", \"\\uc815\\uccb4\", \"\\uc815\\uccb4\", \"\\uc815\\uccb4\", \"\\uc815\\uce58\", \"\\uc81c\\ubaa9\", \"\\uc81c\\ubaa9\", \"\\uc81c\\ubaa9\", \"\\uc81c\\ubaa9\", \"\\uc81c\\uc774\", \"\\uc81c\\uc791\", \"\\uc81c\\uc791\", \"\\uc81c\\uc791\", \"\\uc81c\\uc791\", \"\\uc81c\\uc8fc\", \"\\uc870\\uac01\", \"\\uc870\\uc120\", \"\\uc870\\uc120\", \"\\uc870\\uc120\\uc778\", \"\\uc870\\uc6a9\\ud788\", \"\\uc870\\uc9c0\", \"\\uc870\\uc9c1\", \"\\uc874\\uc7ac\", \"\\uc874\\uc7ac\", \"\\uc874\\uc7ac\", \"\\uc874\\uc7ac\", \"\\uc874\\uc7ac\", \"\\uc880\", \"\\uc880\", \"\\uc880\\ube44\", \"\\uc885\\uc774\", \"\\uc885\\ud569\", \"\\uc8fc\\uae30\", \"\\uc8fc\\uae30\", \"\\uc8fc\\uc758\", \"\\uc8fc\\uc758\", \"\\uc8fc\\uc785\", \"\\uc8fc\\ud0dd\", \"\\uc8fd\", \"\\uc8fd\", \"\\uc8fd\", \"\\uc8fd\\uace0\", \"\\uc8fd\\uc5b4\", \"\\uc8fd\\uc74c\", \"\\uc8fd\\uc74c\", \"\\uc8fd\\uc74c\", \"\\uc8fd\\uc74c\", \"\\uc8fd\\uc9c0\", \"\\uc900\", \"\\uc900\", \"\\uc911\\uad6d\", \"\\uc911\\uad6d\", \"\\uc911\\ud559\\uc0dd\", \"\\uc950\", \"\\uc950\", \"\\uc950\", \"\\uc989\\uc2dc\", \"\\uc9c0\\uad6c\", \"\\uc9c0\\uad6c\", \"\\uc9c0\\uad6c\\uc778\", \"\\uc9c0\\ub3c4\", \"\\uc9c0\\uc801\", \"\\uc9c0\\uc801\", \"\\uc9c0\\uc810\", \"\\uc9c1\\uc5c5\", \"\\uc9c1\\uc811\", \"\\uc9c1\\uc811\", \"\\uc9c4\", \"\\uc9c4\", \"\\uc9c4\", \"\\uc9c4\", \"\\uc9c4\\ubd80\\ud55c\", \"\\uc9c4\\uc2e4\", \"\\uc9c4\\uc2e4\", \"\\uc9c4\\uc2e4\", \"\\uc9c4\\uc2e4\", \"\\uc9c4\\uc758\", \"\\uc9c8\\ubb38\", \"\\uc9c8\\ubb38\", \"\\uc9c8\\ubb38\", \"\\uc9c8\\ubb38\", \"\\uc9c8\\ubb38\", \"\\uc9d0\\uc791\", \"\\uc9d1\", \"\\uc9d1\", \"\\uc9d1\", \"\\uc9d1\", \"\\uc9d1\\uc548\", \"\\uc9d1\\uc548\", \"\\uc9d1\\uc740\", \"\\uc9e7\\uac8c\", \"\\ucabd\", \"\\ucabd\", \"\\ucabd\", \"\\ucc3d\", \"\\ucc3d\", \"\\ucc3d\\ube44\", \"\\ucc3e\\uc544\\uac00\\ub294\", \"\\ucc45\\uc18d\", \"\\ucc45\\uc784\\uc838\\uc57c\", \"\\ucc98\\uc74c\", \"\\ucc98\\uc74c\", \"\\ucc98\\uc74c\", \"\\ucc98\\uc74c\", \"\\ucc98\\uc74c\", \"\\ucc98\\uc74c\", \"\\ucc98\\uc808\\ud55c\", \"\\ucc9c\", \"\\ucc9c\\uad6d\", \"\\ucc9c\\ud558\", \"\\ucc9c\\ud558\", \"\\ucca0\\ud559\", \"\\ucca0\\ud559\", \"\\ucca8\\uc608\\ud55c\", \"\\uccad\", \"\\uccad\\uc18c\\ub144\", \"\\ucd08\\uc0c1\", \"\\ucd08\\uc5fd\", \"\\ucd08\\ud310\", \"\\ucd0c\", \"\\ucd5c\", \"\\ucd5c\", \"\\ucd5c\\uc740\\uc601\", \"\\ucd5c\\uc9c4\\uc601\", \"\\ucd94\\ub9ac\", \"\\ucd94\\ub9ac\\uc18c\\uc124\", \"\\ucd94\\uc801\", \"\\ucd94\\uc801\", \"\\ucd94\\ucc9c\", \"\\ucd94\\ucc9c\", \"\\ucd9c\\uc0dd\", \"\\ucd9c\\ud310\", \"\\ucd9c\\ud310\", \"\\ucd9c\\ud310\", \"\\ucda9\\uaca9\", \"\\ucda9\\uaca9\", \"\\ucda9\\uaca9\", \"\\ucde8\\uc7ac\", \"\\uce58\\ub9e4\", \"\\uce58\\uc720\", \"\\uce5c\\uad6c\", \"\\uce5c\\uad6c\", \"\\uce68\", \"\\uce68\\uccb4\", \"\\uce74\", \"\\uce74\\ubb88\", \"\\uce74\\ud398\", \"\\uce7c\", \"\\uce90\\ub9ad\\ud130\", \"\\uce90\\ub9ad\\ud130\", \"\\ucf54\", \"\\ucf54\", \"\\ucf54\\ub85c\\ub098\", \"\\ud070\", \"\\ud070\", \"\\ud070\", \"\\ud070\", \"\\ud070\", \"\\ud074\\ub7fd\", \"\\ud0ac\\ub7ec\", \"\\ud0c0\\uc778\", \"\\ud0c0\\uc778\", \"\\ud0c0\\uc778\", \"\\ud0c0\\uc778\", \"\\ud0c0\\uc784\\uc2a4\", \"\\ud0c4\\uc0dd\", \"\\ud0c4\\uc0dd\", \"\\ud0c4\\uc0dd\", \"\\ud0c4\\uc0dd\", \"\\ud0c4\\uc0dd\", \"\\ud0c4\\ud0c4\\ud558\\uace0\", \"\\ud0c8\\uace0\", \"\\ud0d0\\uc815\", \"\\ud0dc\\uc591\", \"\\ud0dc\\uc591\", \"\\ud130\\ub110\", \"\\ud14c\", \"\\ud14c\", \"\\ud1b5\\ucc30\", \"\\ud1b5\\ucc30\", \"\\ud2b9\\ubcc4\\ud558\\uace0\", \"\\ud2b9\\uc218\\ud55c\", \"\\ud2b9\\uc720\", \"\\ud2b9\\uc720\", \"\\ud2b9\\uc720\", \"\\ud2b9\\uc720\", \"\\ud2b9\\uc720\", \"\\ud2b9\\uc9d5\", \"\\ud2b9\\uc9d5\", \"\\ud30c\\ub294\", \"\\ud30c\\ub9ac\", \"\\ud310\", \"\\ud310\", \"\\ud310\", \"\\ud310\\uad8c\", \"\\ud310\\ud0c0\\uc9c0\", \"\\ud310\\ud0c0\\uc9c0\", \"\\ud3b8\\uc758\", \"\\ud3b8\\uc758\", \"\\ud3b8\\uc758\", \"\\ud3b8\\uc758\\uc810\", \"\\ud3bc\\uccd0\\uc9c0\\uace0\", \"\\ud3c9\\uac00\", \"\\ud3c9\\uac00\", \"\\ud3c9\\uac00\", \"\\ud3c9\\uac00\", \"\\ud3c9\\ubc94\\ud558\\uac8c\", \"\\ud3c9\\ud654\\ub86d\\uac8c\", \"\\ud3ec\\ucc29\", \"\\ud3ec\\ucc29\", \"\\ud3ed\\ub825\", \"\\ud3ed\\ub825\", \"\\ud3ed\\ub825\", \"\\ud3ed\\uc8fd\", \"\\ud45c\", \"\\ud45c\", \"\\ud45c\\ud604\", \"\\ud45c\\ud604\", \"\\ud45c\\ud604\", \"\\ud488\\uc740\", \"\\ud53c\", \"\\ud53c\", \"\\ud53c\", \"\\ud53c\", \"\\ud53c\\ubd80\", \"\\ud53c\\ud574\", \"\\ud540\", \"\\ud558\\uae30\\uac00\", \"\\ud558\\uae30\\ubcf4\\ub2e4\", \"\\ud558\\ub2c8\", \"\\ud558\\ub824\\ub358\", \"\\ud558\\ub9ac\", \"\\ud558\\ub9ac\", \"\\ud558\\uc600\\uc73c\\uba70\", \"\\ud559\\uad50\", \"\\ud559\\ub144\", \"\\ud559\\uc0b4\", \"\\ud559\\uc0dd\", \"\\ud559\\uc6d0\", \"\\ud55c\\uad6d\\uc5b4\", \"\\ud55c\\uad6d\\uc5b4\", \"\\ud55c\\uad6d\\uc778\", \"\\ud55c\\ub2e4\\ub294\", \"\\ud55c\\ubc24\\uc911\", \"\\ud560\\uba38\\ub2c8\", \"\\ud560\\uba38\\ub2c8\", \"\\ud560\\uc9c0\\ub77c\\ub3c4\", \"\\ud574\\ub3c4\", \"\\ud574\\ub3c4\", \"\\ud574\\ub3c4\", \"\\ud574\\ubc29\", \"\\ud574\\uc11d\", \"\\ud589\\uc131\", \"\\ud5a5\", \"\\ud5a5\", \"\\ud5a5\", \"\\ud5a5\", \"\\ud5a5\", \"\\ud5a5\", \"\\ud5c8\\uad6c\", \"\\ud601\\uba85\", \"\\ud604\\ub300\", \"\\ud604\\ub300\", \"\\ud604\\ub300\", \"\\ud604\\ub300\", \"\\ud604\\uc2e4\", \"\\ud604\\uc2e4\", \"\\ud604\\uc2e4\", \"\\ud604\\uc7ac\", \"\\ud604\\uc7ac\", \"\\ud604\\uc7ac\", \"\\ud604\\uc7ac\", \"\\ud604\\uc7ac\", \"\\ud604\\uc7ac\", \"\\ud615\\uc0ac\", \"\\ud615\\uc0ac\", \"\\ud638\\ub791\\uc774\", \"\\ud63c\", \"\\ud654\", \"\\ud654\", \"\\ud654\", \"\\ud654\", \"\\ud654\", \"\\ud654\\uc0b4\", \"\\ud654\\uc81c\", \"\\ud654\\uc81c\", \"\\ud655\\uc815\", \"\\ud658\\uc0c1\", \"\\ud669\\uc81c\", \"\\ud669\\uc81c\", \"\\ud68c\\uc0c1\", \"\\ud68c\\uc6d0\", \"\\ud68c\\ud55c\", \"\\ud68d\", \"\\ud6c4\\ud68c\", \"\\ud750\\ub984\", \"\\ud750\\ub984\", \"\\ud750\\ub984\", \"\\ud751\\uc778\", \"\\ud751\\uc778\", \"\\ud751\\uc778\", \"\\ud754\\ud788\", \"\\ud758\\ub7ec\\uac08\", \"\\ud765\\ubbf8\\ub85c\\uc6b4\", \"\\ud765\\ubbf8\\uc9c4\\uc9c4\", \"\\ud770\", \"\\ud798\", \"\\ud798\", \"\\ud798\", \"\\ud798\", \"\\ud798\\ub4e4\"]}, \"R\": 30, \"lambda.step\": 0.01, \"plot.opts\": {\"xlab\": \"PC1\", \"ylab\": \"PC2\"}, \"topic.order\": [9, 4, 7, 6, 1, 2, 3, 5, 8, 10]};\n",
       "\n",
       "function LDAvis_load_lib(url, callback){\n",
       "  var s = document.createElement('script');\n",
       "  s.src = url;\n",
       "  s.async = true;\n",
       "  s.onreadystatechange = s.onload = callback;\n",
       "  s.onerror = function(){console.warn(\"failed to load library \" + url);};\n",
       "  document.getElementsByTagName(\"head\")[0].appendChild(s);\n",
       "}\n",
       "\n",
       "if(typeof(LDAvis) !== \"undefined\"){\n",
       "   // already loaded: just create the visualization\n",
       "   !function(LDAvis){\n",
       "       new LDAvis(\"#\" + \"ldavis_el35121399060353729447213437376\", ldavis_el35121399060353729447213437376_data);\n",
       "   }(LDAvis);\n",
       "}else if(typeof define === \"function\" && define.amd){\n",
       "   // require.js is available: use it to load d3/LDAvis\n",
       "   require.config({paths: {d3: \"https://d3js.org/d3.v5\"}});\n",
       "   require([\"d3\"], function(d3){\n",
       "      window.d3 = d3;\n",
       "      LDAvis_load_lib(\"https://cdn.jsdelivr.net/gh/bmabey/pyLDAvis@3.2.2/pyLDAvis/js/ldavis.v3.0.0.js\", function(){\n",
       "        new LDAvis(\"#\" + \"ldavis_el35121399060353729447213437376\", ldavis_el35121399060353729447213437376_data);\n",
       "      });\n",
       "    });\n",
       "}else{\n",
       "    // require.js not available: dynamically load d3 & LDAvis\n",
       "    LDAvis_load_lib(\"https://d3js.org/d3.v5.js\", function(){\n",
       "         LDAvis_load_lib(\"https://cdn.jsdelivr.net/gh/bmabey/pyLDAvis@3.2.2/pyLDAvis/js/ldavis.v3.0.0.js\", function(){\n",
       "                 new LDAvis(\"#\" + \"ldavis_el35121399060353729447213437376\", ldavis_el35121399060353729447213437376_data);\n",
       "            })\n",
       "         });\n",
       "}\n",
       "</script>"
      ],
      "text/plain": [
       "PreparedData(topic_coordinates=              x         y  topics  cluster       Freq\n",
       "topic                                                \n",
       "8      0.169808  0.152909       1        1  10.632040\n",
       "3      0.007423 -0.301699       2        1  10.554199\n",
       "6     -0.341616  0.036031       3        1  10.509105\n",
       "5     -0.088954 -0.049169       4        1  10.466241\n",
       "0      0.117514  0.163863       5        1  10.032400\n",
       "1      0.144505 -0.122912       6        1   9.964737\n",
       "2      0.067215 -0.024972       7        1   9.799130\n",
       "4     -0.039212 -0.092563       8        1   9.504957\n",
       "7     -0.118313  0.193588       9        1   9.317610\n",
       "9      0.081631  0.044924      10        1   9.219581, topic_info=     Term         Freq        Total Category  logprob  loglift\n",
       "176    사건  1050.000000  1050.000000  Default  30.0000  30.0000\n",
       "228    아이   857.000000   857.000000  Default  29.0000  29.0000\n",
       "241    여성   589.000000   589.000000  Default  28.0000  28.0000\n",
       "55     그녀  1050.000000  1050.000000  Default  27.0000  27.0000\n",
       "697     집   810.000000   810.000000  Default  26.0000  26.0000\n",
       "...   ...          ...          ...      ...      ...      ...\n",
       "67      길   105.459936   321.101374  Topic10  -5.5849   1.2704\n",
       "716     큰    96.015762   449.276808  Topic10  -5.6787   0.8407\n",
       "370     힘    93.654719   390.791282  Topic10  -5.7036   0.9553\n",
       "1128  따뜻한    83.423531   172.940078  Topic10  -5.8193   1.6548\n",
       "697     집    91.293676   810.450430  Topic10  -5.7291   0.2003\n",
       "\n",
       "[895 rows x 6 columns], token_table=      Topic      Freq Term\n",
       "term                      \n",
       "7071      4  0.995830   가가\n",
       "1870      2  0.996979   가기\n",
       "0        10  1.005911  가난한\n",
       "1090      2  0.031859  가능한\n",
       "1090      7  0.939844  가능한\n",
       "...     ...       ...  ...\n",
       "370       1  0.258450    힘\n",
       "370       6  0.383837    힘\n",
       "370       9  0.120269    힘\n",
       "370      10  0.240538    힘\n",
       "373      10  1.016500   힘들\n",
       "\n",
       "[1405 rows x 3 columns], R=30, lambda_step=0.01, plot_opts={'xlab': 'PC1', 'ylab': 'PC2'}, topic_order=[9, 4, 7, 6, 1, 2, 3, 5, 8, 10])"
      ]
     },
     "execution_count": 22,
     "metadata": {},
     "output_type": "execute_result"
    }
   ],
   "source": [
    "from gensim.models import LdaModel\n",
    "\n",
    "def mallet_to_lda(optimal_model):\n",
    "   model_gensim = LdaModel(\n",
    "       id2word=optimal_model.id2word, num_topics=optimal_model.num_topics,\n",
    "       alpha=optimal_model.alpha, eta=0, iterations=1000,\n",
    "       gamma_threshold=0.001,\n",
    "       dtype=np.float32\n",
    "   )\n",
    "   model_gensim.sync_state()\n",
    "   model_gensim.state.sstats = optimal_model.wordtopics\n",
    "\n",
    "   return model_gensim\n",
    "\n",
    "optimal_model = ldamallet\n",
    "model = mallet_to_lda(optimal_model)\n",
    "\n",
    "import pyLDAvis\n",
    "import pyLDAvis.gensim as gensimvis\n",
    "\n",
    "pyLDAvis.enable_notebook()\n",
    "vis = gensimvis.prepare(model, corpus, id2word)\n",
    "\n",
    "pyLDAvis.save_html(vis, './소설줄거리_LDA.html')\n",
    "vis"
   ]
  },
  {
   "cell_type": "code",
   "execution_count": 23,
   "id": "based-letters",
   "metadata": {},
   "outputs": [],
   "source": [
    "# Format\n",
    "df_topic_story = df_topic_sents_keywords\n",
    "\n",
    "# 각 문서에 대한 토픽 내림차순\n",
    "df_topic_sort=df_topic_story.sort_values(by=['Dominant_Topic'])"
   ]
  },
  {
   "cell_type": "code",
   "execution_count": 24,
   "id": "early-leader",
   "metadata": {},
   "outputs": [],
   "source": [
    "# Group top 5 sentences under each topic\n",
    "sent_topics_sorteddf_mallet = pd.DataFrame()\n",
    "\n",
    "sent_topics_outdf_grpd = df_topic_sents_keywords.groupby('Dominant_Topic')\n",
    "\n",
    "for i, grp in sent_topics_outdf_grpd:\n",
    "    sent_topics_sorteddf_mallet = pd.concat([sent_topics_sorteddf_mallet, \n",
    "                                             grp.sort_values(['Perc_Contribution'], ascending=[0]).head(1)], \n",
    "                                            axis=0)\n"
   ]
  },
  {
   "cell_type": "code",
   "execution_count": 25,
   "id": "indonesian-transsexual",
   "metadata": {
    "scrolled": false
   },
   "outputs": [
    {
     "data": {
      "text/html": [
       "<div>\n",
       "<style scoped>\n",
       "    .dataframe tbody tr th:only-of-type {\n",
       "        vertical-align: middle;\n",
       "    }\n",
       "\n",
       "    .dataframe tbody tr th {\n",
       "        vertical-align: top;\n",
       "    }\n",
       "\n",
       "    .dataframe thead th {\n",
       "        text-align: right;\n",
       "    }\n",
       "</style>\n",
       "<table border=\"1\" class=\"dataframe\">\n",
       "  <thead>\n",
       "    <tr style=\"text-align: right;\">\n",
       "      <th></th>\n",
       "      <th>Perc_Contribution</th>\n",
       "      <th>Dominant_Topic</th>\n",
       "      <th>Topic_Keywords</th>\n",
       "    </tr>\n",
       "  </thead>\n",
       "  <tbody>\n",
       "    <tr>\n",
       "      <th>620</th>\n",
       "      <td>0.8156</td>\n",
       "      <td>0.0</td>\n",
       "      <td>현실, 영혼, 여행, 시, 밤, 사이, 서사, 환상, 시대, 재난</td>\n",
       "    </tr>\n",
       "    <tr>\n",
       "      <th>172</th>\n",
       "      <td>0.7727</td>\n",
       "      <td>1.0</td>\n",
       "      <td>죽음, 아버지, 존재, 아들, 쪽, 마을, 가족, 소녀, 도시, 사고</td>\n",
       "    </tr>\n",
       "    <tr>\n",
       "      <th>58</th>\n",
       "      <td>0.5469</td>\n",
       "      <td>2.0</td>\n",
       "      <td>집, 기억, 젊은, 서로, 사실, 순간, 사이, 존재, 과거, 방식</td>\n",
       "    </tr>\n",
       "    <tr>\n",
       "      <th>418</th>\n",
       "      <td>0.6937</td>\n",
       "      <td>3.0</td>\n",
       "      <td>그녀, 남자, 여자, 눈, 몸, 당신, 기억, 얼굴, 손, 입</td>\n",
       "    </tr>\n",
       "    <tr>\n",
       "      <th>302</th>\n",
       "      <td>0.9503</td>\n",
       "      <td>4.0</td>\n",
       "      <td>역사, 조선, 왕, 여인, 꽃, 로맨스, 향, 운명, 그녀, 감동</td>\n",
       "    </tr>\n",
       "    <tr>\n",
       "      <th>489</th>\n",
       "      <td>0.7275</td>\n",
       "      <td>5.0</td>\n",
       "      <td>사건, 미스터리, 진실, 살인, 스릴러, 반전, 경찰, 범인, 형사, 추리</td>\n",
       "    </tr>\n",
       "    <tr>\n",
       "      <th>304</th>\n",
       "      <td>0.7123</td>\n",
       "      <td>6.0</td>\n",
       "      <td>재미, 이상, 인생, 판타지, 매력, 만큼, 비밀, 수학, 소재, 세월</td>\n",
       "    </tr>\n",
       "    <tr>\n",
       "      <th>111</th>\n",
       "      <td>0.8956</td>\n",
       "      <td>7.0</td>\n",
       "      <td>시대, 전쟁, 대표, 사회, 역사, 언어, 결정, 판, 의미, 글</td>\n",
       "    </tr>\n",
       "    <tr>\n",
       "      <th>233</th>\n",
       "      <td>0.7339</td>\n",
       "      <td>8.0</td>\n",
       "      <td>여성, 사회, 미래, 욕망, 결혼, 사실, 현실, 지구, 인류, 중국</td>\n",
       "    </tr>\n",
       "    <tr>\n",
       "      <th>477</th>\n",
       "      <td>0.6067</td>\n",
       "      <td>9.0</td>\n",
       "      <td>아이, 친구, 엄마, 청소년, 꿈, 가족, 학교, 상처, 인생, 고민</td>\n",
       "    </tr>\n",
       "  </tbody>\n",
       "</table>\n",
       "</div>"
      ],
      "text/plain": [
       "     Perc_Contribution  Dominant_Topic  \\\n",
       "620             0.8156             0.0   \n",
       "172             0.7727             1.0   \n",
       "58              0.5469             2.0   \n",
       "418             0.6937             3.0   \n",
       "302             0.9503             4.0   \n",
       "489             0.7275             5.0   \n",
       "304             0.7123             6.0   \n",
       "111             0.8956             7.0   \n",
       "233             0.7339             8.0   \n",
       "477             0.6067             9.0   \n",
       "\n",
       "                                Topic_Keywords  \n",
       "620       현실, 영혼, 여행, 시, 밤, 사이, 서사, 환상, 시대, 재난  \n",
       "172     죽음, 아버지, 존재, 아들, 쪽, 마을, 가족, 소녀, 도시, 사고  \n",
       "58       집, 기억, 젊은, 서로, 사실, 순간, 사이, 존재, 과거, 방식  \n",
       "418         그녀, 남자, 여자, 눈, 몸, 당신, 기억, 얼굴, 손, 입  \n",
       "302       역사, 조선, 왕, 여인, 꽃, 로맨스, 향, 운명, 그녀, 감동  \n",
       "489  사건, 미스터리, 진실, 살인, 스릴러, 반전, 경찰, 범인, 형사, 추리  \n",
       "304    재미, 이상, 인생, 판타지, 매력, 만큼, 비밀, 수학, 소재, 세월  \n",
       "111       시대, 전쟁, 대표, 사회, 역사, 언어, 결정, 판, 의미, 글  \n",
       "233     여성, 사회, 미래, 욕망, 결혼, 사실, 현실, 지구, 인류, 중국  \n",
       "477     아이, 친구, 엄마, 청소년, 꿈, 가족, 학교, 상처, 인생, 고민  "
      ]
     },
     "execution_count": 25,
     "metadata": {},
     "output_type": "execute_result"
    }
   ],
   "source": [
    "sent_topics_sorteddf_mallet[['Perc_Contribution', 'Dominant_Topic', 'Topic_Keywords']]"
   ]
  },
  {
   "cell_type": "code",
   "execution_count": 26,
   "id": "tired-strengthening",
   "metadata": {
    "scrolled": true
   },
   "outputs": [
    {
     "data": {
      "text/plain": [
       "Dominant_Topic\n",
       "0.0    30\n",
       "1.0    54\n",
       "2.0    81\n",
       "3.0    51\n",
       "4.0    51\n",
       "5.0    95\n",
       "6.0    58\n",
       "7.0    65\n",
       "8.0    61\n",
       "9.0    99\n",
       "dtype: int64"
      ]
     },
     "execution_count": 26,
     "metadata": {},
     "output_type": "execute_result"
    }
   ],
   "source": [
    "df_topic_story.value_counts('Dominant_Topic').sort_index()"
   ]
  },
  {
   "cell_type": "code",
   "execution_count": 27,
   "id": "precise-printer",
   "metadata": {},
   "outputs": [],
   "source": [
    "df_topic_story.to_csv('소설_책내용_서평기반_LDA_완료.csv')"
   ]
  },
  {
   "cell_type": "code",
   "execution_count": 28,
   "id": "introductory-member",
   "metadata": {},
   "outputs": [
    {
     "data": {
      "text/html": [
       "<div>\n",
       "<style scoped>\n",
       "    .dataframe tbody tr th:only-of-type {\n",
       "        vertical-align: middle;\n",
       "    }\n",
       "\n",
       "    .dataframe tbody tr th {\n",
       "        vertical-align: top;\n",
       "    }\n",
       "\n",
       "    .dataframe thead th {\n",
       "        text-align: right;\n",
       "    }\n",
       "</style>\n",
       "<table border=\"1\" class=\"dataframe\">\n",
       "  <thead>\n",
       "    <tr style=\"text-align: right;\">\n",
       "      <th></th>\n",
       "      <th>title</th>\n",
       "      <th>story</th>\n",
       "      <th>Dominant_Topic</th>\n",
       "      <th>Perc_Contribution</th>\n",
       "      <th>Topic_Keywords</th>\n",
       "    </tr>\n",
       "  </thead>\n",
       "  <tbody>\n",
       "    <tr>\n",
       "      <th>0</th>\n",
       "      <td>파친코 1</td>\n",
       "      <td>자이니치 분노 슬픔 탄생 대작 세인 이민 진의 파친코 국 면서 끝내 이방인 일 자이...</td>\n",
       "      <td>4.0</td>\n",
       "      <td>0.3460</td>\n",
       "      <td>역사, 조선, 왕, 여인, 꽃, 로맨스, 향, 운명, 그녀, 감동</td>\n",
       "    </tr>\n",
       "    <tr>\n",
       "      <th>1</th>\n",
       "      <td>파친코 2</td>\n",
       "      <td>자이니치 분노 슬픔 탄생 대작 세인 이민 진의 파친코 국 면서 끝내 이방인 일 자이...</td>\n",
       "      <td>4.0</td>\n",
       "      <td>0.3489</td>\n",
       "      <td>역사, 조선, 왕, 여인, 꽃, 로맨스, 향, 운명, 그녀, 감동</td>\n",
       "    </tr>\n",
       "    <tr>\n",
       "      <th>2</th>\n",
       "      <td>불편한 편의점(40만부 기념 벚꽃 에디션)</td>\n",
       "      <td>인터넷 한정 특별판 매장 구매 드림 구매 시 표지 에디 션 제공 됩니다 원 플러스 ...</td>\n",
       "      <td>9.0</td>\n",
       "      <td>0.2821</td>\n",
       "      <td>아이, 친구, 엄마, 청소년, 꿈, 가족, 학교, 상처, 인생, 고민</td>\n",
       "    </tr>\n",
       "    <tr>\n",
       "      <th>3</th>\n",
       "      <td>아몬드</td>\n",
       "      <td>괴물 괴물 만났다 영화 강렬한 사건 매혹 문체 시선 사로잡는 어덜트 아몬드 타인 감...</td>\n",
       "      <td>0.0</td>\n",
       "      <td>0.3956</td>\n",
       "      <td>현실, 영혼, 여행, 시, 밤, 사이, 서사, 환상, 시대, 재난</td>\n",
       "    </tr>\n",
       "    <tr>\n",
       "      <th>4</th>\n",
       "      <td>달러구트 꿈 백화점(100만부 기념 합본호: Gift Edition)</td>\n",
       "      <td>책장 덮은 오늘 밤 당신 꿈 이어집니다 달러 구트 꿈 백화점 돌파 특별 합본 판타지...</td>\n",
       "      <td>9.0</td>\n",
       "      <td>0.2747</td>\n",
       "      <td>아이, 친구, 엄마, 청소년, 꿈, 가족, 학교, 상처, 인생, 고민</td>\n",
       "    </tr>\n",
       "    <tr>\n",
       "      <th>...</th>\n",
       "      <td>...</td>\n",
       "      <td>...</td>\n",
       "      <td>...</td>\n",
       "      <td>...</td>\n",
       "      <td>...</td>\n",
       "    </tr>\n",
       "    <tr>\n",
       "      <th>640</th>\n",
       "      <td>후원에 핀 제비꽃 4</td>\n",
       "      <td>잔혹 매혹 공존 운명 로맨스 판타지 후원 핀 제비꽃 성녀 자신 세상 버린 기사 살 ...</td>\n",
       "      <td>4.0</td>\n",
       "      <td>0.3029</td>\n",
       "      <td>역사, 조선, 왕, 여인, 꽃, 로맨스, 향, 운명, 그녀, 감동</td>\n",
       "    </tr>\n",
       "    <tr>\n",
       "      <th>641</th>\n",
       "      <td>사기꾼의 심장은 천천히 뛴다</td>\n",
       "      <td>출장 신기한 사실 비밀 평범한 직장인 일상 인간관계 세계관 인생 송두리째 바뀐다 상...</td>\n",
       "      <td>6.0</td>\n",
       "      <td>0.2889</td>\n",
       "      <td>재미, 이상, 인생, 판타지, 매력, 만큼, 비밀, 수학, 소재, 세월</td>\n",
       "    </tr>\n",
       "    <tr>\n",
       "      <th>642</th>\n",
       "      <td>머드(MUD)</td>\n",
       "      <td>사랑 죽 바닥 가라앉았던 마음 순식간 목 끝 튀어 오르고 눈 멀 정도 눈부신 빛 켜...</td>\n",
       "      <td>8.0</td>\n",
       "      <td>0.2320</td>\n",
       "      <td>여성, 사회, 미래, 욕망, 결혼, 사실, 현실, 지구, 인류, 중국</td>\n",
       "    </tr>\n",
       "    <tr>\n",
       "      <th>643</th>\n",
       "      <td>복자는 울지 않았다</td>\n",
       "      <td>정낙추 집 복자 울 개발 이윤 논리 훼손 시대 자화상 민중 입담 밀도 표 제작 주인...</td>\n",
       "      <td>9.0</td>\n",
       "      <td>0.1699</td>\n",
       "      <td>아이, 친구, 엄마, 청소년, 꿈, 가족, 학교, 상처, 인생, 고민</td>\n",
       "    </tr>\n",
       "    <tr>\n",
       "      <th>644</th>\n",
       "      <td>학마을 사람들</td>\n",
       "      <td>대표 중요 엄선 선집 사피 스 학 마을 사람 부조리 만연한 전후 현실 배경 평화 온...</td>\n",
       "      <td>7.0</td>\n",
       "      <td>0.4486</td>\n",
       "      <td>시대, 전쟁, 대표, 사회, 역사, 언어, 결정, 판, 의미, 글</td>\n",
       "    </tr>\n",
       "  </tbody>\n",
       "</table>\n",
       "<p>645 rows × 5 columns</p>\n",
       "</div>"
      ],
      "text/plain": [
       "                                      title  \\\n",
       "0                                     파친코 1   \n",
       "1                                     파친코 2   \n",
       "2                   불편한 편의점(40만부 기념 벚꽃 에디션)   \n",
       "3                                       아몬드   \n",
       "4    달러구트 꿈 백화점(100만부 기념 합본호: Gift Edition)   \n",
       "..                                      ...   \n",
       "640                             후원에 핀 제비꽃 4   \n",
       "641                         사기꾼의 심장은 천천히 뛴다   \n",
       "642                                 머드(MUD)   \n",
       "643                              복자는 울지 않았다   \n",
       "644                                 학마을 사람들   \n",
       "\n",
       "                                                 story  Dominant_Topic  \\\n",
       "0    자이니치 분노 슬픔 탄생 대작 세인 이민 진의 파친코 국 면서 끝내 이방인 일 자이...             4.0   \n",
       "1    자이니치 분노 슬픔 탄생 대작 세인 이민 진의 파친코 국 면서 끝내 이방인 일 자이...             4.0   \n",
       "2    인터넷 한정 특별판 매장 구매 드림 구매 시 표지 에디 션 제공 됩니다 원 플러스 ...             9.0   \n",
       "3    괴물 괴물 만났다 영화 강렬한 사건 매혹 문체 시선 사로잡는 어덜트 아몬드 타인 감...             0.0   \n",
       "4    책장 덮은 오늘 밤 당신 꿈 이어집니다 달러 구트 꿈 백화점 돌파 특별 합본 판타지...             9.0   \n",
       "..                                                 ...             ...   \n",
       "640  잔혹 매혹 공존 운명 로맨스 판타지 후원 핀 제비꽃 성녀 자신 세상 버린 기사 살 ...             4.0   \n",
       "641  출장 신기한 사실 비밀 평범한 직장인 일상 인간관계 세계관 인생 송두리째 바뀐다 상...             6.0   \n",
       "642  사랑 죽 바닥 가라앉았던 마음 순식간 목 끝 튀어 오르고 눈 멀 정도 눈부신 빛 켜...             8.0   \n",
       "643  정낙추 집 복자 울 개발 이윤 논리 훼손 시대 자화상 민중 입담 밀도 표 제작 주인...             9.0   \n",
       "644  대표 중요 엄선 선집 사피 스 학 마을 사람 부조리 만연한 전후 현실 배경 평화 온...             7.0   \n",
       "\n",
       "     Perc_Contribution                           Topic_Keywords  \n",
       "0               0.3460     역사, 조선, 왕, 여인, 꽃, 로맨스, 향, 운명, 그녀, 감동  \n",
       "1               0.3489     역사, 조선, 왕, 여인, 꽃, 로맨스, 향, 운명, 그녀, 감동  \n",
       "2               0.2821   아이, 친구, 엄마, 청소년, 꿈, 가족, 학교, 상처, 인생, 고민  \n",
       "3               0.3956     현실, 영혼, 여행, 시, 밤, 사이, 서사, 환상, 시대, 재난  \n",
       "4               0.2747   아이, 친구, 엄마, 청소년, 꿈, 가족, 학교, 상처, 인생, 고민  \n",
       "..                 ...                                      ...  \n",
       "640             0.3029     역사, 조선, 왕, 여인, 꽃, 로맨스, 향, 운명, 그녀, 감동  \n",
       "641             0.2889  재미, 이상, 인생, 판타지, 매력, 만큼, 비밀, 수학, 소재, 세월  \n",
       "642             0.2320   여성, 사회, 미래, 욕망, 결혼, 사실, 현실, 지구, 인류, 중국  \n",
       "643             0.1699   아이, 친구, 엄마, 청소년, 꿈, 가족, 학교, 상처, 인생, 고민  \n",
       "644             0.4486     시대, 전쟁, 대표, 사회, 역사, 언어, 결정, 판, 의미, 글  \n",
       "\n",
       "[645 rows x 5 columns]"
      ]
     },
     "execution_count": 28,
     "metadata": {},
     "output_type": "execute_result"
    }
   ],
   "source": [
    "df_topic_story"
   ]
  },
  {
   "cell_type": "code",
   "execution_count": null,
   "id": "massive-minnesota",
   "metadata": {},
   "outputs": [],
   "source": []
  }
 ],
 "metadata": {
  "kernelspec": {
   "display_name": "Environment (conda_python3)",
   "language": "python",
   "name": "conda_python3"
  },
  "language_info": {
   "codemirror_mode": {
    "name": "ipython",
    "version": 3
   },
   "file_extension": ".py",
   "mimetype": "text/x-python",
   "name": "python",
   "nbconvert_exporter": "python",
   "pygments_lexer": "ipython3",
   "version": "3.6.13"
  }
 },
 "nbformat": 4,
 "nbformat_minor": 5
}
