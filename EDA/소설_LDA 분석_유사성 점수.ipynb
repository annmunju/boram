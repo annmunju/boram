{
 "cells": [
  {
   "cell_type": "code",
   "execution_count": 94,
   "id": "76ec90f2",
   "metadata": {},
   "outputs": [],
   "source": [
    "import pandas as pd\n",
    "import numpy as np\n",
    "import matplotlib.pyplot as plt"
   ]
  },
  {
   "cell_type": "code",
   "execution_count": 2,
   "id": "a7dc8dcf",
   "metadata": {},
   "outputs": [],
   "source": [
    "df = pd.read_csv('novel_story_sep.csv', lineterminator='\\n')"
   ]
  },
  {
   "cell_type": "code",
   "execution_count": 3,
   "id": "a3d12b5b",
   "metadata": {},
   "outputs": [
    {
     "data": {
      "text/plain": [
       "Index(['itemId', 'title', 'story', 'review', 'piece'], dtype='object')"
      ]
     },
     "execution_count": 3,
     "metadata": {},
     "output_type": "execute_result"
    }
   ],
   "source": [
    "df.columns"
   ]
  },
  {
   "cell_type": "code",
   "execution_count": 4,
   "id": "b5523aa9",
   "metadata": {},
   "outputs": [
    {
     "data": {
      "text/plain": [
       "'3.8.1'"
      ]
     },
     "execution_count": 4,
     "metadata": {},
     "output_type": "execute_result"
    }
   ],
   "source": [
    "import gensim\n",
    "gensim.__version__"
   ]
  },
  {
   "cell_type": "code",
   "execution_count": 5,
   "id": "672d103f",
   "metadata": {},
   "outputs": [],
   "source": [
    "import gensim\n",
    "from gensim import corpora, models\n",
    "from gensim.models import CoherenceModel\n",
    "from gensim.test.utils import common_corpus\n",
    "from gensim.models.wrappers import LdaMallet\n",
    "import pyLDAvis\n",
    "import pyLDAvis.gensim"
   ]
  },
  {
   "cell_type": "code",
   "execution_count": 6,
   "id": "threaded-straight",
   "metadata": {},
   "outputs": [],
   "source": [
    "# vis = pyLDAvis.gensim.prepare(lda_model, corpus, dictionary)\n",
    "# pyLDAvis.display(vis)\n",
    "# pyLDAvis.enable_notebook()"
   ]
  },
  {
   "cell_type": "code",
   "execution_count": 7,
   "id": "c10086c1",
   "metadata": {},
   "outputs": [],
   "source": [
    "df.drop_duplicates('story', inplace=True)"
   ]
  },
  {
   "cell_type": "code",
   "execution_count": 8,
   "id": "533fd6b4",
   "metadata": {},
   "outputs": [],
   "source": [
    "df.dropna(inplace=True)\n",
    "df.reset_index(drop=True, inplace=True)"
   ]
  },
  {
   "cell_type": "markdown",
   "id": "heavy-explosion",
   "metadata": {},
   "source": [
    "## LDA 함수 만들어놓기"
   ]
  },
  {
   "cell_type": "code",
   "execution_count": 9,
   "id": "minus-norfolk",
   "metadata": {},
   "outputs": [],
   "source": [
    "def lda_coh(stories, no_below=5, num_topics=4, data_word=None, data_words=None):\n",
    "    \n",
    "    # 이야기 전체 형태소 분리\n",
    "    if data_word == None:\n",
    "        data_words = []\n",
    "        for story in stories:\n",
    "            data = list(str(story).split())\n",
    "            data_words.append(data)\n",
    "        \n",
    "    \n",
    "    if data_word == 'stop':\n",
    "        data_words = []\n",
    "        for story in stories:\n",
    "            data = list(str(story).split())\n",
    "            data_words.append(data)\n",
    "            \n",
    "        return data_words\n",
    "    \n",
    "    # id2word, corpus 추출\n",
    "    id2word = corpora.Dictionary(data_words)\n",
    "    id2word.filter_extremes(no_below = no_below) # no_below 회 이하로 등장한 단어는 삭제\n",
    "    texts = data_words\n",
    "    corpus = [id2word.doc2bow(text) for text in texts]\n",
    "    \n",
    "    mallet_path = '../mallet-2.0.8/bin/mallet' \n",
    "    ldamallet = gensim.models.wrappers.LdaMallet(mallet_path, corpus=corpus, num_topics=num_topics, random_seed=12, id2word=id2word)\n",
    "\n",
    "    coherence_model_ldamallet = CoherenceModel(model=ldamallet, texts=texts, dictionary=id2word, coherence='c_v')\n",
    "    coherence_ldamallet = coherence_model_ldamallet.get_coherence()\n",
    "    \n",
    "    return texts, corpus, ldamallet, coherence_ldamallet"
   ]
  },
  {
   "cell_type": "code",
   "execution_count": 97,
   "id": "adolescent-species",
   "metadata": {},
   "outputs": [],
   "source": [
    "def lda_coh_id2(stories, no_below=5, num_topics=4, data_word=None, data_words=None):\n",
    "    \n",
    "    # 이야기 전체 형태소 분리\n",
    "    if data_word == None:\n",
    "        data_words = []\n",
    "        for story in stories:\n",
    "            data = list(str(story).split())\n",
    "            data_words.append(data)\n",
    "        \n",
    "    \n",
    "    if data_word == 'stop':\n",
    "        data_words = []\n",
    "        for story in stories:\n",
    "            data = list(str(story).split())\n",
    "            data_words.append(data)\n",
    "            \n",
    "        return data_words\n",
    "    \n",
    "    # id2word, corpus 추출\n",
    "    id2word = corpora.Dictionary(data_words)\n",
    "    id2word.filter_extremes(no_below = no_below) # no_below 회 이하로 등장한 단어는 삭제\n",
    "    texts = data_words\n",
    "    corpus = [id2word.doc2bow(text) for text in texts]\n",
    "    \n",
    "    mallet_path = '../mallet-2.0.8/bin/mallet' \n",
    "    ldamallet = gensim.models.wrappers.LdaMallet(mallet_path, corpus=corpus, num_topics=num_topics, random_seed=12, id2word=id2word)\n",
    "\n",
    "    coherence_model_ldamallet = CoherenceModel(model=ldamallet, texts=texts, dictionary=id2word, coherence='c_v')\n",
    "    coherence_ldamallet = coherence_model_ldamallet.get_coherence()\n",
    "    \n",
    "    return texts, corpus, ldamallet, coherence_ldamallet, id2word"
   ]
  },
  {
   "cell_type": "code",
   "execution_count": 10,
   "id": "selected-tattoo",
   "metadata": {},
   "outputs": [],
   "source": [
    "def format_topics_sentences(texts, corpus, data_words, ldamallet, Data=df):\n",
    "    # Init output\n",
    "\n",
    "    sent_topics_df = pd.DataFrame()\n",
    "\n",
    "    # Get main topic in each document\n",
    "    #ldamallet[corpus]: lda_model에 corpus를 넣어 각 토픽 당 확률을 알 수 있음\n",
    "    for i, row in enumerate(ldamallet[corpus]):\n",
    "        row = sorted(row, key=lambda x: (x[1]), reverse=True)\n",
    "        # Get the Dominant topic, Perc Contribution and Keywords for each document\n",
    "        for j, (topic_num, prop_topic) in enumerate(row):\n",
    "            if j == 0:  # => dominant topic\n",
    "                wp = ldamallet.show_topic(topic_num, topn=10)\n",
    "                topic_keywords = \", \".join([word for word, prop in wp])\n",
    "                sent_topics_df = sent_topics_df.append(pd.Series([int(topic_num), round(prop_topic,4), topic_keywords]), ignore_index=True)\n",
    "            else:\n",
    "                break\n",
    "    sent_topics_df.columns = ['Dominant_Topic', 'Perc_Contribution', 'Topic_Keywords']\n",
    "    print(type(sent_topics_df))\n",
    "\n",
    "    # Add original text to the end of the output\n",
    "    contents = pd.Series(data_words)\n",
    "    # sent_topics_df = pd.concat([sent_topics_df, contents], axis=1)\n",
    "    sent_topics_df = pd.concat([Data['title'], Data['story'], sent_topics_df], axis=1)\n",
    "\n",
    "    return sent_topics_df"
   ]
  },
  {
   "cell_type": "code",
   "execution_count": 11,
   "id": "advance-customs",
   "metadata": {},
   "outputs": [],
   "source": [
    "def compute_coherence_values(stories, limit=10, start=4, step=2):\n",
    "\n",
    "    from tqdm import tqdm\n",
    "    coherence_values = []\n",
    "    model_list = []\n",
    "    for num_topics in tqdm(range(start, limit, step)):\n",
    "        data_words = lda_coh(stories, data_word='stop')\n",
    "        texts, corpus, ldamallet, coherence_ldamallet = lda_coh(stories, no_below=5, num_topics=num_topics, data_words=data_words)\n",
    "        model_list.append(ldamallet)\n",
    "        coherence_values.append(coherence_ldamallet)\n",
    "        \n",
    "    return model_list, coherence_values"
   ]
  },
  {
   "cell_type": "markdown",
   "id": "outer-result",
   "metadata": {},
   "source": [
    "### 스토리 나눠서 분석해보기"
   ]
  },
  {
   "cell_type": "markdown",
   "id": "specified-delay",
   "metadata": {},
   "source": [
    "1. 책소개 (story) "
   ]
  },
  {
   "cell_type": "code",
   "execution_count": 12,
   "id": "c0b27dc5",
   "metadata": {},
   "outputs": [],
   "source": [
    "stories = df['story']\n",
    "# df['story'] + df['review'] + df['piece']"
   ]
  },
  {
   "cell_type": "code",
   "execution_count": 13,
   "id": "center-asthma",
   "metadata": {},
   "outputs": [
    {
     "name": "stderr",
     "output_type": "stream",
     "text": [
      "100%|██████████| 8/8 [04:32<00:00, 34.06s/it]\n"
     ]
    }
   ],
   "source": [
    "limit=20; start=4; step=2;\n",
    "\n",
    "model_list, coherence_values = compute_coherence_values(stories, limit=limit, start=start, step=step)"
   ]
  },
  {
   "cell_type": "code",
   "execution_count": 14,
   "id": "hungry-motel",
   "metadata": {
    "scrolled": true
   },
   "outputs": [
    {
     "name": "stdout",
     "output_type": "stream",
     "text": [
      "{4: 0.2901921210423205, 6: 0.3002358121415844, 8: 0.2954453584367909, 10: 0.3060864642646407, 12: 0.32318150117756983, 14: 0.3107827359802199, 16: 0.29876801427084987, 18: 0.30196198534756163}\n"
     ]
    }
   ],
   "source": [
    "x = range(start, limit, step)\n",
    "\n",
    "find_model = {}\n",
    "for m,c in zip(x, coherence_values):\n",
    "    find_model[m] = c\n",
    "print(find_model)"
   ]
  },
  {
   "cell_type": "code",
   "execution_count": 15,
   "id": "cognitive-scoop",
   "metadata": {},
   "outputs": [
    {
     "data": {
      "image/png": "[encoded data removed]",
      "text/plain": [
       "<Figure size 432x288 with 1 Axes>"
      ]
     },
     "metadata": {
      "needs_background": "light"
     },
     "output_type": "display_data"
    }
   ],
   "source": [
    "x = find_model.keys()\n",
    "y = find_model.values()\n",
    "\n",
    "plt.plot(x, y)\n",
    "plt.show()"
   ]
  },
  {
   "cell_type": "code",
   "execution_count": 16,
   "id": "bored-filter",
   "metadata": {},
   "outputs": [
    {
     "name": "stdout",
     "output_type": "stream",
     "text": [
      "<class 'pandas.core.frame.DataFrame'>\n"
     ]
    }
   ],
   "source": [
    "max_model = max(find_model,key=find_model.get)\n",
    "texts, corpus, ldamallet, coherence_ldamallet = lda_coh(stories, num_topics=max_model)\n",
    "data_words = lda_coh(stories, num_topics=max_model, data_word='stop')\n",
    "df_topic_sents_keywords = format_topics_sentences(texts, corpus, data_words, ldamallet, Data=df)"
   ]
  },
  {
   "cell_type": "code",
   "execution_count": 17,
   "id": "excessive-trout",
   "metadata": {},
   "outputs": [
    {
     "data": {
      "text/plain": [
       "0.32318150117756983"
      ]
     },
     "execution_count": 17,
     "metadata": {},
     "output_type": "execute_result"
    }
   ],
   "source": [
    "max(find_model.values())"
   ]
  },
  {
   "cell_type": "code",
   "execution_count": 18,
   "id": "1f072319",
   "metadata": {},
   "outputs": [],
   "source": [
    "# Format\n",
    "df_topic_story = df_topic_sents_keywords\n",
    "\n",
    "# 각 문서에 대한 토픽 내림차순\n",
    "df_topic_sort=df_topic_story.sort_values(by=['Dominant_Topic'])"
   ]
  },
  {
   "cell_type": "code",
   "execution_count": 19,
   "id": "88001b06",
   "metadata": {},
   "outputs": [],
   "source": [
    "# Group top 5 sentences under each topic\n",
    "sent_topics_sorteddf_mallet = pd.DataFrame()\n",
    "\n",
    "sent_topics_outdf_grpd = df_topic_sents_keywords.groupby('Dominant_Topic')\n",
    "\n",
    "for i, grp in sent_topics_outdf_grpd:\n",
    "    sent_topics_sorteddf_mallet = pd.concat([sent_topics_sorteddf_mallet, \n",
    "                                             grp.sort_values(['Perc_Contribution'], ascending=[0]).head(1)], \n",
    "                                            axis=0)\n"
   ]
  },
  {
   "cell_type": "code",
   "execution_count": 20,
   "id": "6de7a57f",
   "metadata": {
    "scrolled": false
   },
   "outputs": [
    {
     "data": {
      "text/html": [
       "<div>\n",
       "<style scoped>\n",
       "    .dataframe tbody tr th:only-of-type {\n",
       "        vertical-align: middle;\n",
       "    }\n",
       "\n",
       "    .dataframe tbody tr th {\n",
       "        vertical-align: top;\n",
       "    }\n",
       "\n",
       "    .dataframe thead th {\n",
       "        text-align: right;\n",
       "    }\n",
       "</style>\n",
       "<table border=\"1\" class=\"dataframe\">\n",
       "  <thead>\n",
       "    <tr style=\"text-align: right;\">\n",
       "      <th></th>\n",
       "      <th>Perc_Contribution</th>\n",
       "      <th>Dominant_Topic</th>\n",
       "      <th>Topic_Keywords</th>\n",
       "    </tr>\n",
       "  </thead>\n",
       "  <tbody>\n",
       "    <tr>\n",
       "      <th>565</th>\n",
       "      <td>0.5473</td>\n",
       "      <td>0.0</td>\n",
       "      <td>시간, 친구, 아이, 청소년, 엄마, 꿈, 생각, 소년, 날, 감정</td>\n",
       "    </tr>\n",
       "    <tr>\n",
       "      <th>172</th>\n",
       "      <td>0.4796</td>\n",
       "      <td>1.0</td>\n",
       "      <td>사람, 삶, 마음, 말, 사랑, 세상, 소녀, 자신, 스스로, 자리</td>\n",
       "    </tr>\n",
       "    <tr>\n",
       "      <th>274</th>\n",
       "      <td>0.6295</td>\n",
       "      <td>2.0</td>\n",
       "      <td>세계, 젊은, 새로운, 동시, 판타지, 이상, 여름, 주목, 영화, 판매</td>\n",
       "    </tr>\n",
       "    <tr>\n",
       "      <th>250</th>\n",
       "      <td>0.5240</td>\n",
       "      <td>3.0</td>\n",
       "      <td>사랑, 인간, 대표, 운명, 화, 세기, 과정, 묘사, 화제, 지닌</td>\n",
       "    </tr>\n",
       "    <tr>\n",
       "      <th>171</th>\n",
       "      <td>0.3576</td>\n",
       "      <td>4.0</td>\n",
       "      <td>그녀, 남자, 자신, 일, 여자, 서로, 시작, 결혼, 날, 몸</td>\n",
       "    </tr>\n",
       "    <tr>\n",
       "      <th>0</th>\n",
       "      <td>0.5606</td>\n",
       "      <td>5.0</td>\n",
       "      <td>여성, 가족, 아버지, 삶, 향, 살, 아들, 딸, 발견, 시대</td>\n",
       "    </tr>\n",
       "    <tr>\n",
       "      <th>48</th>\n",
       "      <td>0.4033</td>\n",
       "      <td>6.0</td>\n",
       "      <td>집, 세계, 삶, 편의, 사회, 의미, 현실, 시대, 발표, 다양한</td>\n",
       "    </tr>\n",
       "    <tr>\n",
       "      <th>444</th>\n",
       "      <td>0.6387</td>\n",
       "      <td>7.0</td>\n",
       "      <td>자신, 존재, 새로운, 주인공, 누구, 대상, 모습, 서사, 목소리, 손</td>\n",
       "    </tr>\n",
       "    <tr>\n",
       "      <th>236</th>\n",
       "      <td>0.6251</td>\n",
       "      <td>8.0</td>\n",
       "      <td>그린, 역사, 조선, 달, 배경, 로맨스, 왕, 여인, 전개, 차</td>\n",
       "    </tr>\n",
       "    <tr>\n",
       "      <th>639</th>\n",
       "      <td>0.4070</td>\n",
       "      <td>9.0</td>\n",
       "      <td>사건, 미스터리, 스릴러, 살인, 심리, 경찰, 매력, 서점, 반전, 충격</td>\n",
       "    </tr>\n",
       "    <tr>\n",
       "      <th>111</th>\n",
       "      <td>0.5541</td>\n",
       "      <td>10.0</td>\n",
       "      <td>죽음, 전쟁, 처음, 아름다운, 마지막, 도시, 상황, 모습, 소재, 사고</td>\n",
       "    </tr>\n",
       "    <tr>\n",
       "      <th>326</th>\n",
       "      <td>0.6530</td>\n",
       "      <td>11.0</td>\n",
       "      <td>시작, 기억, 사이, 일상, 눈, 밤, 과거, 큰, 현재, 순간</td>\n",
       "    </tr>\n",
       "  </tbody>\n",
       "</table>\n",
       "</div>"
      ],
      "text/plain": [
       "     Perc_Contribution  Dominant_Topic  \\\n",
       "565             0.5473             0.0   \n",
       "172             0.4796             1.0   \n",
       "274             0.6295             2.0   \n",
       "250             0.5240             3.0   \n",
       "171             0.3576             4.0   \n",
       "0               0.5606             5.0   \n",
       "48              0.4033             6.0   \n",
       "444             0.6387             7.0   \n",
       "236             0.6251             8.0   \n",
       "639             0.4070             9.0   \n",
       "111             0.5541            10.0   \n",
       "326             0.6530            11.0   \n",
       "\n",
       "                                Topic_Keywords  \n",
       "565      시간, 친구, 아이, 청소년, 엄마, 꿈, 생각, 소년, 날, 감정  \n",
       "172      사람, 삶, 마음, 말, 사랑, 세상, 소녀, 자신, 스스로, 자리  \n",
       "274   세계, 젊은, 새로운, 동시, 판타지, 이상, 여름, 주목, 영화, 판매  \n",
       "250      사랑, 인간, 대표, 운명, 화, 세기, 과정, 묘사, 화제, 지닌  \n",
       "171        그녀, 남자, 자신, 일, 여자, 서로, 시작, 결혼, 날, 몸  \n",
       "0          여성, 가족, 아버지, 삶, 향, 살, 아들, 딸, 발견, 시대  \n",
       "48       집, 세계, 삶, 편의, 사회, 의미, 현실, 시대, 발표, 다양한  \n",
       "444   자신, 존재, 새로운, 주인공, 누구, 대상, 모습, 서사, 목소리, 손  \n",
       "236       그린, 역사, 조선, 달, 배경, 로맨스, 왕, 여인, 전개, 차  \n",
       "639  사건, 미스터리, 스릴러, 살인, 심리, 경찰, 매력, 서점, 반전, 충격  \n",
       "111  죽음, 전쟁, 처음, 아름다운, 마지막, 도시, 상황, 모습, 소재, 사고  \n",
       "326        시작, 기억, 사이, 일상, 눈, 밤, 과거, 큰, 현재, 순간  "
      ]
     },
     "execution_count": 20,
     "metadata": {},
     "output_type": "execute_result"
    }
   ],
   "source": [
    "sent_topics_sorteddf_mallet[['Perc_Contribution', 'Dominant_Topic', 'Topic_Keywords']]"
   ]
  },
  {
   "cell_type": "code",
   "execution_count": 21,
   "id": "5134cea8",
   "metadata": {
    "scrolled": false
   },
   "outputs": [
    {
     "data": {
      "text/plain": [
       "Dominant_Topic\n",
       "0.0     55\n",
       "1.0     47\n",
       "2.0     54\n",
       "3.0     63\n",
       "4.0     60\n",
       "5.0     57\n",
       "6.0     74\n",
       "7.0     43\n",
       "8.0     40\n",
       "9.0     77\n",
       "10.0    39\n",
       "11.0    36\n",
       "dtype: int64"
      ]
     },
     "execution_count": 21,
     "metadata": {},
     "output_type": "execute_result"
    }
   ],
   "source": [
    "df_topic_story.value_counts('Dominant_Topic').sort_index()"
   ]
  },
  {
   "cell_type": "markdown",
   "id": "intimate-yemen",
   "metadata": {},
   "source": [
    "2. 서평 (review) "
   ]
  },
  {
   "cell_type": "code",
   "execution_count": 22,
   "id": "divided-dryer",
   "metadata": {},
   "outputs": [],
   "source": [
    "stories = df['review']\n",
    "# df['story'] + df['review'] + df['piece']"
   ]
  },
  {
   "cell_type": "code",
   "execution_count": 23,
   "id": "brilliant-endorsement",
   "metadata": {},
   "outputs": [
    {
     "name": "stderr",
     "output_type": "stream",
     "text": [
      "100%|██████████| 8/8 [05:32<00:00, 41.55s/it]\n"
     ]
    }
   ],
   "source": [
    "limit=20; start=4; step=2;\n",
    "\n",
    "model_list, coherence_values = compute_coherence_values(stories, limit=limit, start=start, step=step)"
   ]
  },
  {
   "cell_type": "code",
   "execution_count": 24,
   "id": "happy-ceramic",
   "metadata": {
    "scrolled": true
   },
   "outputs": [
    {
     "name": "stdout",
     "output_type": "stream",
     "text": [
      "{4: 0.3220955066837471, 6: 0.3653328674529936, 8: 0.39012893644947433, 10: 0.4090067934353466, 12: 0.389039125408187, 14: 0.39991153690384246, 16: 0.4057744946471859, 18: 0.4029007521406507}\n"
     ]
    }
   ],
   "source": [
    "x = range(start, limit, step)\n",
    "\n",
    "find_model = {}\n",
    "for m,c in zip(x, coherence_values):\n",
    "    find_model[m] = c\n",
    "print(find_model)"
   ]
  },
  {
   "cell_type": "code",
   "execution_count": 25,
   "id": "reserved-ticket",
   "metadata": {},
   "outputs": [
    {
     "data": {
      "image/png": "[encoded data removed]",
      "text/plain": [
       "<Figure size 432x288 with 1 Axes>"
      ]
     },
     "metadata": {
      "needs_background": "light"
     },
     "output_type": "display_data"
    }
   ],
   "source": [
    "x = find_model.keys()\n",
    "y = find_model.values()\n",
    "\n",
    "plt.plot(x, y)\n",
    "plt.show()"
   ]
  },
  {
   "cell_type": "code",
   "execution_count": 26,
   "id": "sublime-jackson",
   "metadata": {},
   "outputs": [
    {
     "name": "stdout",
     "output_type": "stream",
     "text": [
      "<class 'pandas.core.frame.DataFrame'>\n"
     ]
    }
   ],
   "source": [
    "max_model = max(find_model,key=find_model.get)\n",
    "texts, corpus, ldamallet, coherence_ldamallet = lda_coh(stories, num_topics=max_model)\n",
    "data_words = lda_coh(stories, num_topics=max_model, data_word='stop')\n",
    "df_topic_sents_keywords = format_topics_sentences(texts, corpus, data_words, ldamallet, Data=df)"
   ]
  },
  {
   "cell_type": "code",
   "execution_count": 27,
   "id": "missing-permission",
   "metadata": {},
   "outputs": [
    {
     "data": {
      "text/plain": [
       "0.4090067934353466"
      ]
     },
     "execution_count": 27,
     "metadata": {},
     "output_type": "execute_result"
    }
   ],
   "source": [
    "max(find_model.values())"
   ]
  },
  {
   "cell_type": "code",
   "execution_count": 28,
   "id": "consistent-undergraduate",
   "metadata": {},
   "outputs": [],
   "source": [
    "# Format\n",
    "df_topic_story = df_topic_sents_keywords\n",
    "\n",
    "# 각 문서에 대한 토픽 내림차순\n",
    "df_topic_sort=df_topic_story.sort_values(by=['Dominant_Topic'])"
   ]
  },
  {
   "cell_type": "code",
   "execution_count": 29,
   "id": "driven-draft",
   "metadata": {},
   "outputs": [],
   "source": [
    "# Group top 5 sentences under each topic\n",
    "sent_topics_sorteddf_mallet = pd.DataFrame()\n",
    "\n",
    "sent_topics_outdf_grpd = df_topic_sents_keywords.groupby('Dominant_Topic')\n",
    "\n",
    "for i, grp in sent_topics_outdf_grpd:\n",
    "    sent_topics_sorteddf_mallet = pd.concat([sent_topics_sorteddf_mallet, \n",
    "                                             grp.sort_values(['Perc_Contribution'], ascending=[0]).head(1)], \n",
    "                                            axis=0)\n"
   ]
  },
  {
   "cell_type": "code",
   "execution_count": 30,
   "id": "worth-concentration",
   "metadata": {
    "scrolled": false
   },
   "outputs": [
    {
     "data": {
      "text/html": [
       "<div>\n",
       "<style scoped>\n",
       "    .dataframe tbody tr th:only-of-type {\n",
       "        vertical-align: middle;\n",
       "    }\n",
       "\n",
       "    .dataframe tbody tr th {\n",
       "        vertical-align: top;\n",
       "    }\n",
       "\n",
       "    .dataframe thead th {\n",
       "        text-align: right;\n",
       "    }\n",
       "</style>\n",
       "<table border=\"1\" class=\"dataframe\">\n",
       "  <thead>\n",
       "    <tr style=\"text-align: right;\">\n",
       "      <th></th>\n",
       "      <th>Perc_Contribution</th>\n",
       "      <th>Dominant_Topic</th>\n",
       "      <th>Topic_Keywords</th>\n",
       "    </tr>\n",
       "  </thead>\n",
       "  <tbody>\n",
       "    <tr>\n",
       "      <th>418</th>\n",
       "      <td>0.7919</td>\n",
       "      <td>0.0</td>\n",
       "      <td>그녀, 눈, 몸, 남자, 손, 얼굴, 여자, 소리, 입, 처음</td>\n",
       "    </tr>\n",
       "    <tr>\n",
       "      <th>97</th>\n",
       "      <td>0.8476</td>\n",
       "      <td>1.0</td>\n",
       "      <td>현재, 전쟁, 사이, 과거, 역사, 임, 인간, 시, 명, 현실</td>\n",
       "    </tr>\n",
       "    <tr>\n",
       "      <th>489</th>\n",
       "      <td>0.6528</td>\n",
       "      <td>2.0</td>\n",
       "      <td>사건, 미스터리, 남자, 반전, 진실, 살인, 스릴러, 상, 범인, 형사</td>\n",
       "    </tr>\n",
       "    <tr>\n",
       "      <th>77</th>\n",
       "      <td>0.5600</td>\n",
       "      <td>3.0</td>\n",
       "      <td>집, 서로, 시간, 순간, 감정, 쪽, 존재, 기억, 관계, 이해</td>\n",
       "    </tr>\n",
       "    <tr>\n",
       "      <th>485</th>\n",
       "      <td>0.6573</td>\n",
       "      <td>4.0</td>\n",
       "      <td>인간, 시대, 대표, 역사, 세기, 의미, 사회, 중국, 주의, 의식</td>\n",
       "    </tr>\n",
       "    <tr>\n",
       "      <th>108</th>\n",
       "      <td>0.6381</td>\n",
       "      <td>5.0</td>\n",
       "      <td>인간, 주인공, 존재, 사회, 현실, 미래, 새로운, 밤, 등장, 우주</td>\n",
       "    </tr>\n",
       "    <tr>\n",
       "      <th>111</th>\n",
       "      <td>0.8991</td>\n",
       "      <td>6.0</td>\n",
       "      <td>언어, 글, 사회, 결정, 새로운, 경험, 시대, 시선, 다양한, 판</td>\n",
       "    </tr>\n",
       "    <tr>\n",
       "      <th>293</th>\n",
       "      <td>0.5633</td>\n",
       "      <td>7.0</td>\n",
       "      <td>아이, 친구, 시간, 엄마, 청소년, 꿈, 소년, 학교, 가족, 고민</td>\n",
       "    </tr>\n",
       "    <tr>\n",
       "      <th>302</th>\n",
       "      <td>0.9384</td>\n",
       "      <td>8.0</td>\n",
       "      <td>조선, 로맨스, 판타지, 세월, 여인, 감동, 향, 웹소설, 제작, 돌</td>\n",
       "    </tr>\n",
       "    <tr>\n",
       "      <th>172</th>\n",
       "      <td>0.6314</td>\n",
       "      <td>9.0</td>\n",
       "      <td>죽음, 아버지, 살, 가족, 아들, 인생, 날, 사실, 운명, 도시</td>\n",
       "    </tr>\n",
       "  </tbody>\n",
       "</table>\n",
       "</div>"
      ],
      "text/plain": [
       "     Perc_Contribution  Dominant_Topic  \\\n",
       "418             0.7919             0.0   \n",
       "97              0.8476             1.0   \n",
       "489             0.6528             2.0   \n",
       "77              0.5600             3.0   \n",
       "485             0.6573             4.0   \n",
       "108             0.6381             5.0   \n",
       "111             0.8991             6.0   \n",
       "293             0.5633             7.0   \n",
       "302             0.9384             8.0   \n",
       "172             0.6314             9.0   \n",
       "\n",
       "                               Topic_Keywords  \n",
       "418        그녀, 눈, 몸, 남자, 손, 얼굴, 여자, 소리, 입, 처음  \n",
       "97        현재, 전쟁, 사이, 과거, 역사, 임, 인간, 시, 명, 현실  \n",
       "489  사건, 미스터리, 남자, 반전, 진실, 살인, 스릴러, 상, 범인, 형사  \n",
       "77       집, 서로, 시간, 순간, 감정, 쪽, 존재, 기억, 관계, 이해  \n",
       "485    인간, 시대, 대표, 역사, 세기, 의미, 사회, 중국, 주의, 의식  \n",
       "108   인간, 주인공, 존재, 사회, 현실, 미래, 새로운, 밤, 등장, 우주  \n",
       "111    언어, 글, 사회, 결정, 새로운, 경험, 시대, 시선, 다양한, 판  \n",
       "293    아이, 친구, 시간, 엄마, 청소년, 꿈, 소년, 학교, 가족, 고민  \n",
       "302   조선, 로맨스, 판타지, 세월, 여인, 감동, 향, 웹소설, 제작, 돌  \n",
       "172     죽음, 아버지, 살, 가족, 아들, 인생, 날, 사실, 운명, 도시  "
      ]
     },
     "execution_count": 30,
     "metadata": {},
     "output_type": "execute_result"
    }
   ],
   "source": [
    "sent_topics_sorteddf_mallet[['Perc_Contribution', 'Dominant_Topic', 'Topic_Keywords']]"
   ]
  },
  {
   "cell_type": "code",
   "execution_count": 31,
   "id": "spare-violin",
   "metadata": {
    "scrolled": false
   },
   "outputs": [
    {
     "data": {
      "text/plain": [
       "Dominant_Topic\n",
       "0.0     48\n",
       "1.0     29\n",
       "2.0     98\n",
       "3.0    101\n",
       "4.0     86\n",
       "5.0     71\n",
       "6.0     14\n",
       "7.0     91\n",
       "8.0     43\n",
       "9.0     64\n",
       "dtype: int64"
      ]
     },
     "execution_count": 31,
     "metadata": {},
     "output_type": "execute_result"
    }
   ],
   "source": [
    "df_topic_story.value_counts('Dominant_Topic').sort_index()"
   ]
  },
  {
   "cell_type": "markdown",
   "id": "labeled-wichita",
   "metadata": {},
   "source": [
    "3. 책내용 일부 (piece) "
   ]
  },
  {
   "cell_type": "code",
   "execution_count": 32,
   "id": "insured-spokesman",
   "metadata": {},
   "outputs": [],
   "source": [
    "stories = df['piece']\n",
    "# df['story'] + df['review'] + df['piece']"
   ]
  },
  {
   "cell_type": "code",
   "execution_count": 33,
   "id": "cooked-windsor",
   "metadata": {},
   "outputs": [
    {
     "name": "stderr",
     "output_type": "stream",
     "text": [
      "100%|██████████| 8/8 [05:06<00:00, 38.27s/it]\n"
     ]
    }
   ],
   "source": [
    "limit=20; start=4; step=2;\n",
    "\n",
    "model_list, coherence_values = compute_coherence_values(stories, limit=limit, start=start, step=step)"
   ]
  },
  {
   "cell_type": "code",
   "execution_count": 34,
   "id": "substantial-thousand",
   "metadata": {
    "scrolled": true
   },
   "outputs": [
    {
     "name": "stdout",
     "output_type": "stream",
     "text": [
      "{4: 0.3385571328156868, 6: 0.31194339096639573, 8: 0.3295811114329128, 10: 0.32734448925532644, 12: 0.3235091357706808, 14: 0.3246693577455429, 16: 0.31413986996719123, 18: 0.32799673719900535}\n"
     ]
    }
   ],
   "source": [
    "x = range(start, limit, step)\n",
    "\n",
    "find_model = {}\n",
    "for m,c in zip(x, coherence_values):\n",
    "    find_model[m] = c\n",
    "print(find_model)"
   ]
  },
  {
   "cell_type": "code",
   "execution_count": 35,
   "id": "creative-shoot",
   "metadata": {},
   "outputs": [
    {
     "data": {
      "image/png": "[encoded data removed]",
      "text/plain": [
       "<Figure size 432x288 with 1 Axes>"
      ]
     },
     "metadata": {
      "needs_background": "light"
     },
     "output_type": "display_data"
    }
   ],
   "source": [
    "x = find_model.keys()\n",
    "y = find_model.values()\n",
    "\n",
    "plt.plot(x, y)\n",
    "plt.show()"
   ]
  },
  {
   "cell_type": "code",
   "execution_count": 36,
   "id": "stuffed-poetry",
   "metadata": {},
   "outputs": [
    {
     "name": "stdout",
     "output_type": "stream",
     "text": [
      "<class 'pandas.core.frame.DataFrame'>\n"
     ]
    }
   ],
   "source": [
    "max_model = max(find_model,key=find_model.get)\n",
    "texts, corpus, ldamallet, coherence_ldamallet = lda_coh(stories, num_topics=max_model)\n",
    "data_words = lda_coh(stories, num_topics=max_model, data_word='stop')\n",
    "df_topic_sents_keywords = format_topics_sentences(texts, corpus, data_words, ldamallet, Data=df)"
   ]
  },
  {
   "cell_type": "code",
   "execution_count": 37,
   "id": "engaged-integral",
   "metadata": {},
   "outputs": [
    {
     "data": {
      "text/plain": [
       "0.3385571328156868"
      ]
     },
     "execution_count": 37,
     "metadata": {},
     "output_type": "execute_result"
    }
   ],
   "source": [
    "max(find_model.values())"
   ]
  },
  {
   "cell_type": "code",
   "execution_count": 38,
   "id": "worth-champion",
   "metadata": {},
   "outputs": [],
   "source": [
    "# Format\n",
    "df_topic_story = df_topic_sents_keywords\n",
    "\n",
    "# 각 문서에 대한 토픽 내림차순\n",
    "df_topic_sort=df_topic_story.sort_values(by=['Dominant_Topic'])"
   ]
  },
  {
   "cell_type": "code",
   "execution_count": 39,
   "id": "outstanding-deployment",
   "metadata": {},
   "outputs": [],
   "source": [
    "# Group top 5 sentences under each topic\n",
    "sent_topics_sorteddf_mallet = pd.DataFrame()\n",
    "\n",
    "sent_topics_outdf_grpd = df_topic_sents_keywords.groupby('Dominant_Topic')\n",
    "\n",
    "for i, grp in sent_topics_outdf_grpd:\n",
    "    sent_topics_sorteddf_mallet = pd.concat([sent_topics_sorteddf_mallet, \n",
    "                                             grp.sort_values(['Perc_Contribution'], ascending=[0]).head(1)], \n",
    "                                            axis=0)\n"
   ]
  },
  {
   "cell_type": "code",
   "execution_count": 40,
   "id": "artistic-disclaimer",
   "metadata": {
    "scrolled": false
   },
   "outputs": [
    {
     "data": {
      "text/html": [
       "<div>\n",
       "<style scoped>\n",
       "    .dataframe tbody tr th:only-of-type {\n",
       "        vertical-align: middle;\n",
       "    }\n",
       "\n",
       "    .dataframe tbody tr th {\n",
       "        vertical-align: top;\n",
       "    }\n",
       "\n",
       "    .dataframe thead th {\n",
       "        text-align: right;\n",
       "    }\n",
       "</style>\n",
       "<table border=\"1\" class=\"dataframe\">\n",
       "  <thead>\n",
       "    <tr style=\"text-align: right;\">\n",
       "      <th></th>\n",
       "      <th>Perc_Contribution</th>\n",
       "      <th>Dominant_Topic</th>\n",
       "      <th>Topic_Keywords</th>\n",
       "    </tr>\n",
       "  </thead>\n",
       "  <tbody>\n",
       "    <tr>\n",
       "      <th>327</th>\n",
       "      <td>0.7879</td>\n",
       "      <td>0.0</td>\n",
       "      <td>그녀, 눈, 얼굴, 손, 소리, 몸, 머리, 목소리, 입, 고개</td>\n",
       "    </tr>\n",
       "    <tr>\n",
       "      <th>341</th>\n",
       "      <td>0.5739</td>\n",
       "      <td>1.0</td>\n",
       "      <td>당신, 인간, 사실, 여자, 존재, 삶, 세계, 죽음, 남자, 순간</td>\n",
       "    </tr>\n",
       "    <tr>\n",
       "      <th>143</th>\n",
       "      <td>0.5373</td>\n",
       "      <td>2.0</td>\n",
       "      <td>마음, 엄마, 사랑, 세상, 살, 나를, 날, 집, 아이, 건</td>\n",
       "    </tr>\n",
       "    <tr>\n",
       "      <th>4</th>\n",
       "      <td>0.8376</td>\n",
       "      <td>3.0</td>\n",
       "      <td>시간, 요, 여기, 몇, 시작, 꿈, 줄, 끝, 돈, 정말</td>\n",
       "    </tr>\n",
       "  </tbody>\n",
       "</table>\n",
       "</div>"
      ],
      "text/plain": [
       "     Perc_Contribution  Dominant_Topic                         Topic_Keywords\n",
       "327             0.7879             0.0    그녀, 눈, 얼굴, 손, 소리, 몸, 머리, 목소리, 입, 고개\n",
       "341             0.5739             1.0  당신, 인간, 사실, 여자, 존재, 삶, 세계, 죽음, 남자, 순간\n",
       "143             0.5373             2.0     마음, 엄마, 사랑, 세상, 살, 나를, 날, 집, 아이, 건\n",
       "4               0.8376             3.0       시간, 요, 여기, 몇, 시작, 꿈, 줄, 끝, 돈, 정말"
      ]
     },
     "execution_count": 40,
     "metadata": {},
     "output_type": "execute_result"
    }
   ],
   "source": [
    "sent_topics_sorteddf_mallet[['Perc_Contribution', 'Dominant_Topic', 'Topic_Keywords']]"
   ]
  },
  {
   "cell_type": "code",
   "execution_count": 41,
   "id": "crude-client",
   "metadata": {
    "scrolled": true
   },
   "outputs": [
    {
     "data": {
      "text/plain": [
       "Dominant_Topic\n",
       "0.0    171\n",
       "1.0    192\n",
       "2.0    200\n",
       "3.0     82\n",
       "dtype: int64"
      ]
     },
     "execution_count": 41,
     "metadata": {},
     "output_type": "execute_result"
    }
   ],
   "source": [
    "df_topic_story.value_counts('Dominant_Topic').sort_index()"
   ]
  },
  {
   "cell_type": "markdown",
   "id": "conceptual-admission",
   "metadata": {},
   "source": [
    "4. 책소개 (story) + 서평 (review)"
   ]
  },
  {
   "cell_type": "code",
   "execution_count": 42,
   "id": "sharing-circumstances",
   "metadata": {},
   "outputs": [],
   "source": [
    "stories = df['story'] + df['review']\n",
    "# df['story'] + df['review'] + df['piece']"
   ]
  },
  {
   "cell_type": "code",
   "execution_count": 43,
   "id": "talented-astrology",
   "metadata": {},
   "outputs": [
    {
     "name": "stderr",
     "output_type": "stream",
     "text": [
      "100%|██████████| 8/8 [06:00<00:00, 45.01s/it]\n"
     ]
    }
   ],
   "source": [
    "limit=20; start=4; step=2;\n",
    "\n",
    "model_list, coherence_values = compute_coherence_values(stories, limit=limit, start=start, step=step)"
   ]
  },
  {
   "cell_type": "code",
   "execution_count": 44,
   "id": "frequent-crawford",
   "metadata": {
    "scrolled": true
   },
   "outputs": [
    {
     "name": "stdout",
     "output_type": "stream",
     "text": [
      "{4: 0.3373586186626695, 6: 0.39059541839388295, 8: 0.38586105913263724, 10: 0.4201821884276328, 12: 0.3973658003938066, 14: 0.4156957421963203, 16: 0.400227514787666, 18: 0.3863908878994455}\n"
     ]
    }
   ],
   "source": [
    "x = range(start, limit, step)\n",
    "\n",
    "find_model = {}\n",
    "for m,c in zip(x, coherence_values):\n",
    "    find_model[m] = c\n",
    "print(find_model)"
   ]
  },
  {
   "cell_type": "code",
   "execution_count": 45,
   "id": "incoming-treat",
   "metadata": {},
   "outputs": [
    {
     "data": {
      "image/png": "[encoded data removed]",
      "text/plain": [
       "<Figure size 432x288 with 1 Axes>"
      ]
     },
     "metadata": {
      "needs_background": "light"
     },
     "output_type": "display_data"
    }
   ],
   "source": [
    "x = find_model.keys()\n",
    "y = find_model.values()\n",
    "\n",
    "plt.plot(x, y)\n",
    "plt.show()"
   ]
  },
  {
   "cell_type": "code",
   "execution_count": 46,
   "id": "improving-longer",
   "metadata": {},
   "outputs": [
    {
     "name": "stdout",
     "output_type": "stream",
     "text": [
      "<class 'pandas.core.frame.DataFrame'>\n"
     ]
    }
   ],
   "source": [
    "max_model = max(find_model,key=find_model.get)\n",
    "texts, corpus, ldamallet, coherence_ldamallet = lda_coh(stories, num_topics=max_model)\n",
    "data_words = lda_coh(stories, num_topics=max_model, data_word='stop')\n",
    "df_topic_sents_keywords = format_topics_sentences(texts, corpus, data_words, ldamallet, Data=df)"
   ]
  },
  {
   "cell_type": "code",
   "execution_count": 47,
   "id": "regulated-lodging",
   "metadata": {},
   "outputs": [
    {
     "data": {
      "text/plain": [
       "0.4201821884276328"
      ]
     },
     "execution_count": 47,
     "metadata": {},
     "output_type": "execute_result"
    }
   ],
   "source": [
    "max(find_model.values())"
   ]
  },
  {
   "cell_type": "code",
   "execution_count": 48,
   "id": "painted-thermal",
   "metadata": {},
   "outputs": [],
   "source": [
    "# Format\n",
    "df_topic_story = df_topic_sents_keywords\n",
    "\n",
    "# 각 문서에 대한 토픽 내림차순\n",
    "df_topic_sort=df_topic_story.sort_values(by=['Dominant_Topic'])"
   ]
  },
  {
   "cell_type": "code",
   "execution_count": 49,
   "id": "collaborative-drama",
   "metadata": {},
   "outputs": [],
   "source": [
    "# Group top 5 sentences under each topic\n",
    "sent_topics_sorteddf_mallet = pd.DataFrame()\n",
    "\n",
    "sent_topics_outdf_grpd = df_topic_sents_keywords.groupby('Dominant_Topic')\n",
    "\n",
    "for i, grp in sent_topics_outdf_grpd:\n",
    "    sent_topics_sorteddf_mallet = pd.concat([sent_topics_sorteddf_mallet, \n",
    "                                             grp.sort_values(['Perc_Contribution'], ascending=[0]).head(1)], \n",
    "                                            axis=0)\n"
   ]
  },
  {
   "cell_type": "code",
   "execution_count": 50,
   "id": "peripheral-migration",
   "metadata": {
    "scrolled": false
   },
   "outputs": [
    {
     "data": {
      "text/html": [
       "<div>\n",
       "<style scoped>\n",
       "    .dataframe tbody tr th:only-of-type {\n",
       "        vertical-align: middle;\n",
       "    }\n",
       "\n",
       "    .dataframe tbody tr th {\n",
       "        vertical-align: top;\n",
       "    }\n",
       "\n",
       "    .dataframe thead th {\n",
       "        text-align: right;\n",
       "    }\n",
       "</style>\n",
       "<table border=\"1\" class=\"dataframe\">\n",
       "  <thead>\n",
       "    <tr style=\"text-align: right;\">\n",
       "      <th></th>\n",
       "      <th>Perc_Contribution</th>\n",
       "      <th>Dominant_Topic</th>\n",
       "      <th>Topic_Keywords</th>\n",
       "    </tr>\n",
       "  </thead>\n",
       "  <tbody>\n",
       "    <tr>\n",
       "      <th>620</th>\n",
       "      <td>0.8156</td>\n",
       "      <td>0.0</td>\n",
       "      <td>현실, 영혼, 여행, 시, 밤, 사이, 서사, 환상, 시대, 재난</td>\n",
       "    </tr>\n",
       "    <tr>\n",
       "      <th>172</th>\n",
       "      <td>0.7727</td>\n",
       "      <td>1.0</td>\n",
       "      <td>죽음, 아버지, 존재, 아들, 쪽, 마을, 가족, 소녀, 도시, 사고</td>\n",
       "    </tr>\n",
       "    <tr>\n",
       "      <th>58</th>\n",
       "      <td>0.5469</td>\n",
       "      <td>2.0</td>\n",
       "      <td>집, 기억, 젊은, 서로, 사실, 순간, 사이, 존재, 과거, 방식</td>\n",
       "    </tr>\n",
       "    <tr>\n",
       "      <th>418</th>\n",
       "      <td>0.6937</td>\n",
       "      <td>3.0</td>\n",
       "      <td>그녀, 남자, 여자, 눈, 몸, 당신, 기억, 얼굴, 손, 입</td>\n",
       "    </tr>\n",
       "    <tr>\n",
       "      <th>302</th>\n",
       "      <td>0.9503</td>\n",
       "      <td>4.0</td>\n",
       "      <td>역사, 조선, 왕, 여인, 꽃, 로맨스, 향, 운명, 그녀, 감동</td>\n",
       "    </tr>\n",
       "    <tr>\n",
       "      <th>489</th>\n",
       "      <td>0.7275</td>\n",
       "      <td>5.0</td>\n",
       "      <td>사건, 미스터리, 진실, 살인, 스릴러, 반전, 경찰, 범인, 형사, 추리</td>\n",
       "    </tr>\n",
       "    <tr>\n",
       "      <th>304</th>\n",
       "      <td>0.7123</td>\n",
       "      <td>6.0</td>\n",
       "      <td>재미, 이상, 인생, 판타지, 매력, 만큼, 비밀, 수학, 소재, 세월</td>\n",
       "    </tr>\n",
       "    <tr>\n",
       "      <th>111</th>\n",
       "      <td>0.8956</td>\n",
       "      <td>7.0</td>\n",
       "      <td>시대, 전쟁, 대표, 사회, 역사, 언어, 결정, 판, 의미, 글</td>\n",
       "    </tr>\n",
       "    <tr>\n",
       "      <th>233</th>\n",
       "      <td>0.7339</td>\n",
       "      <td>8.0</td>\n",
       "      <td>여성, 사회, 미래, 욕망, 결혼, 사실, 현실, 지구, 인류, 중국</td>\n",
       "    </tr>\n",
       "    <tr>\n",
       "      <th>477</th>\n",
       "      <td>0.6067</td>\n",
       "      <td>9.0</td>\n",
       "      <td>아이, 친구, 엄마, 청소년, 꿈, 가족, 학교, 상처, 인생, 고민</td>\n",
       "    </tr>\n",
       "  </tbody>\n",
       "</table>\n",
       "</div>"
      ],
      "text/plain": [
       "     Perc_Contribution  Dominant_Topic  \\\n",
       "620             0.8156             0.0   \n",
       "172             0.7727             1.0   \n",
       "58              0.5469             2.0   \n",
       "418             0.6937             3.0   \n",
       "302             0.9503             4.0   \n",
       "489             0.7275             5.0   \n",
       "304             0.7123             6.0   \n",
       "111             0.8956             7.0   \n",
       "233             0.7339             8.0   \n",
       "477             0.6067             9.0   \n",
       "\n",
       "                                Topic_Keywords  \n",
       "620       현실, 영혼, 여행, 시, 밤, 사이, 서사, 환상, 시대, 재난  \n",
       "172     죽음, 아버지, 존재, 아들, 쪽, 마을, 가족, 소녀, 도시, 사고  \n",
       "58       집, 기억, 젊은, 서로, 사실, 순간, 사이, 존재, 과거, 방식  \n",
       "418         그녀, 남자, 여자, 눈, 몸, 당신, 기억, 얼굴, 손, 입  \n",
       "302       역사, 조선, 왕, 여인, 꽃, 로맨스, 향, 운명, 그녀, 감동  \n",
       "489  사건, 미스터리, 진실, 살인, 스릴러, 반전, 경찰, 범인, 형사, 추리  \n",
       "304    재미, 이상, 인생, 판타지, 매력, 만큼, 비밀, 수학, 소재, 세월  \n",
       "111       시대, 전쟁, 대표, 사회, 역사, 언어, 결정, 판, 의미, 글  \n",
       "233     여성, 사회, 미래, 욕망, 결혼, 사실, 현실, 지구, 인류, 중국  \n",
       "477     아이, 친구, 엄마, 청소년, 꿈, 가족, 학교, 상처, 인생, 고민  "
      ]
     },
     "execution_count": 50,
     "metadata": {},
     "output_type": "execute_result"
    }
   ],
   "source": [
    "sent_topics_sorteddf_mallet[['Perc_Contribution', 'Dominant_Topic', 'Topic_Keywords']]"
   ]
  },
  {
   "cell_type": "code",
   "execution_count": 51,
   "id": "stretch-excerpt",
   "metadata": {
    "scrolled": true
   },
   "outputs": [
    {
     "data": {
      "text/plain": [
       "Dominant_Topic\n",
       "0.0    30\n",
       "1.0    54\n",
       "2.0    81\n",
       "3.0    51\n",
       "4.0    51\n",
       "5.0    95\n",
       "6.0    58\n",
       "7.0    65\n",
       "8.0    61\n",
       "9.0    99\n",
       "dtype: int64"
      ]
     },
     "execution_count": 51,
     "metadata": {},
     "output_type": "execute_result"
    }
   ],
   "source": [
    "df_topic_story.value_counts('Dominant_Topic').sort_index()"
   ]
  },
  {
   "cell_type": "markdown",
   "id": "exclusive-holmes",
   "metadata": {},
   "source": [
    "5. 서평 (review) + 책내용 일부 (piece)"
   ]
  },
  {
   "cell_type": "code",
   "execution_count": 52,
   "id": "qualified-template",
   "metadata": {},
   "outputs": [],
   "source": [
    "stories = df['review']\n",
    "# df['story'] + df['review'] + df['piece']"
   ]
  },
  {
   "cell_type": "code",
   "execution_count": 53,
   "id": "brown-assembly",
   "metadata": {},
   "outputs": [
    {
     "name": "stderr",
     "output_type": "stream",
     "text": [
      "100%|██████████| 8/8 [05:36<00:00, 42.10s/it]\n"
     ]
    }
   ],
   "source": [
    "limit=20; start=4; step=2;\n",
    "\n",
    "model_list, coherence_values = compute_coherence_values(stories, limit=limit, start=start, step=step)"
   ]
  },
  {
   "cell_type": "code",
   "execution_count": 54,
   "id": "constitutional-possession",
   "metadata": {
    "scrolled": true
   },
   "outputs": [
    {
     "name": "stdout",
     "output_type": "stream",
     "text": [
      "{4: 0.3220955066837471, 6: 0.3653328674529936, 8: 0.39012893644947433, 10: 0.4090067934353466, 12: 0.389039125408187, 14: 0.39991153690384246, 16: 0.4057744946471859, 18: 0.4029007521406507}\n"
     ]
    }
   ],
   "source": [
    "x = range(start, limit, step)\n",
    "\n",
    "find_model = {}\n",
    "for m,c in zip(x, coherence_values):\n",
    "    find_model[m] = c\n",
    "print(find_model)"
   ]
  },
  {
   "cell_type": "code",
   "execution_count": 55,
   "id": "considered-atmosphere",
   "metadata": {},
   "outputs": [
    {
     "data": {
      "image/png": "[encoded data removed]",
      "text/plain": [
       "<Figure size 432x288 with 1 Axes>"
      ]
     },
     "metadata": {
      "needs_background": "light"
     },
     "output_type": "display_data"
    }
   ],
   "source": [
    "x = find_model.keys()\n",
    "y = find_model.values()\n",
    "\n",
    "plt.plot(x, y)\n",
    "plt.show()"
   ]
  },
  {
   "cell_type": "code",
   "execution_count": 56,
   "id": "painful-today",
   "metadata": {},
   "outputs": [
    {
     "data": {
      "text/plain": [
       "0.4090067934353466"
      ]
     },
     "execution_count": 56,
     "metadata": {},
     "output_type": "execute_result"
    }
   ],
   "source": [
    "max(find_model.values())"
   ]
  },
  {
   "cell_type": "code",
   "execution_count": 57,
   "id": "noted-profile",
   "metadata": {},
   "outputs": [
    {
     "name": "stdout",
     "output_type": "stream",
     "text": [
      "<class 'pandas.core.frame.DataFrame'>\n"
     ]
    }
   ],
   "source": [
    "max_model = max(find_model,key=find_model.get)\n",
    "texts, corpus, ldamallet, coherence_ldamallet = lda_coh(stories, num_topics=max_model)\n",
    "data_words = lda_coh(stories, num_topics=max_model, data_word='stop')\n",
    "df_topic_sents_keywords = format_topics_sentences(texts, corpus, data_words, ldamallet, Data=df)"
   ]
  },
  {
   "cell_type": "code",
   "execution_count": 58,
   "id": "passive-texture",
   "metadata": {},
   "outputs": [],
   "source": [
    "# Format\n",
    "df_topic_story = df_topic_sents_keywords\n",
    "\n",
    "# 각 문서에 대한 토픽 내림차순\n",
    "df_topic_sort=df_topic_story.sort_values(by=['Dominant_Topic'])"
   ]
  },
  {
   "cell_type": "code",
   "execution_count": 59,
   "id": "furnished-browser",
   "metadata": {},
   "outputs": [],
   "source": [
    "# Group top 5 sentences under each topic\n",
    "sent_topics_sorteddf_mallet = pd.DataFrame()\n",
    "\n",
    "sent_topics_outdf_grpd = df_topic_sents_keywords.groupby('Dominant_Topic')\n",
    "\n",
    "for i, grp in sent_topics_outdf_grpd:\n",
    "    sent_topics_sorteddf_mallet = pd.concat([sent_topics_sorteddf_mallet, \n",
    "                                             grp.sort_values(['Perc_Contribution'], ascending=[0]).head(1)], \n",
    "                                            axis=0)\n"
   ]
  },
  {
   "cell_type": "code",
   "execution_count": 60,
   "id": "coral-console",
   "metadata": {
    "scrolled": false
   },
   "outputs": [
    {
     "data": {
      "text/html": [
       "<div>\n",
       "<style scoped>\n",
       "    .dataframe tbody tr th:only-of-type {\n",
       "        vertical-align: middle;\n",
       "    }\n",
       "\n",
       "    .dataframe tbody tr th {\n",
       "        vertical-align: top;\n",
       "    }\n",
       "\n",
       "    .dataframe thead th {\n",
       "        text-align: right;\n",
       "    }\n",
       "</style>\n",
       "<table border=\"1\" class=\"dataframe\">\n",
       "  <thead>\n",
       "    <tr style=\"text-align: right;\">\n",
       "      <th></th>\n",
       "      <th>Perc_Contribution</th>\n",
       "      <th>Dominant_Topic</th>\n",
       "      <th>Topic_Keywords</th>\n",
       "    </tr>\n",
       "  </thead>\n",
       "  <tbody>\n",
       "    <tr>\n",
       "      <th>418</th>\n",
       "      <td>0.7919</td>\n",
       "      <td>0.0</td>\n",
       "      <td>그녀, 눈, 몸, 남자, 손, 얼굴, 여자, 소리, 입, 처음</td>\n",
       "    </tr>\n",
       "    <tr>\n",
       "      <th>97</th>\n",
       "      <td>0.8476</td>\n",
       "      <td>1.0</td>\n",
       "      <td>현재, 전쟁, 사이, 과거, 역사, 임, 인간, 시, 명, 현실</td>\n",
       "    </tr>\n",
       "    <tr>\n",
       "      <th>489</th>\n",
       "      <td>0.6528</td>\n",
       "      <td>2.0</td>\n",
       "      <td>사건, 미스터리, 남자, 반전, 진실, 살인, 스릴러, 상, 범인, 형사</td>\n",
       "    </tr>\n",
       "    <tr>\n",
       "      <th>77</th>\n",
       "      <td>0.5600</td>\n",
       "      <td>3.0</td>\n",
       "      <td>집, 서로, 시간, 순간, 감정, 쪽, 존재, 기억, 관계, 이해</td>\n",
       "    </tr>\n",
       "    <tr>\n",
       "      <th>485</th>\n",
       "      <td>0.6573</td>\n",
       "      <td>4.0</td>\n",
       "      <td>인간, 시대, 대표, 역사, 세기, 의미, 사회, 중국, 주의, 의식</td>\n",
       "    </tr>\n",
       "    <tr>\n",
       "      <th>108</th>\n",
       "      <td>0.6381</td>\n",
       "      <td>5.0</td>\n",
       "      <td>인간, 주인공, 존재, 사회, 현실, 미래, 새로운, 밤, 등장, 우주</td>\n",
       "    </tr>\n",
       "    <tr>\n",
       "      <th>111</th>\n",
       "      <td>0.8991</td>\n",
       "      <td>6.0</td>\n",
       "      <td>언어, 글, 사회, 결정, 새로운, 경험, 시대, 시선, 다양한, 판</td>\n",
       "    </tr>\n",
       "    <tr>\n",
       "      <th>293</th>\n",
       "      <td>0.5633</td>\n",
       "      <td>7.0</td>\n",
       "      <td>아이, 친구, 시간, 엄마, 청소년, 꿈, 소년, 학교, 가족, 고민</td>\n",
       "    </tr>\n",
       "    <tr>\n",
       "      <th>302</th>\n",
       "      <td>0.9384</td>\n",
       "      <td>8.0</td>\n",
       "      <td>조선, 로맨스, 판타지, 세월, 여인, 감동, 향, 웹소설, 제작, 돌</td>\n",
       "    </tr>\n",
       "    <tr>\n",
       "      <th>172</th>\n",
       "      <td>0.6314</td>\n",
       "      <td>9.0</td>\n",
       "      <td>죽음, 아버지, 살, 가족, 아들, 인생, 날, 사실, 운명, 도시</td>\n",
       "    </tr>\n",
       "  </tbody>\n",
       "</table>\n",
       "</div>"
      ],
      "text/plain": [
       "     Perc_Contribution  Dominant_Topic  \\\n",
       "418             0.7919             0.0   \n",
       "97              0.8476             1.0   \n",
       "489             0.6528             2.0   \n",
       "77              0.5600             3.0   \n",
       "485             0.6573             4.0   \n",
       "108             0.6381             5.0   \n",
       "111             0.8991             6.0   \n",
       "293             0.5633             7.0   \n",
       "302             0.9384             8.0   \n",
       "172             0.6314             9.0   \n",
       "\n",
       "                               Topic_Keywords  \n",
       "418        그녀, 눈, 몸, 남자, 손, 얼굴, 여자, 소리, 입, 처음  \n",
       "97        현재, 전쟁, 사이, 과거, 역사, 임, 인간, 시, 명, 현실  \n",
       "489  사건, 미스터리, 남자, 반전, 진실, 살인, 스릴러, 상, 범인, 형사  \n",
       "77       집, 서로, 시간, 순간, 감정, 쪽, 존재, 기억, 관계, 이해  \n",
       "485    인간, 시대, 대표, 역사, 세기, 의미, 사회, 중국, 주의, 의식  \n",
       "108   인간, 주인공, 존재, 사회, 현실, 미래, 새로운, 밤, 등장, 우주  \n",
       "111    언어, 글, 사회, 결정, 새로운, 경험, 시대, 시선, 다양한, 판  \n",
       "293    아이, 친구, 시간, 엄마, 청소년, 꿈, 소년, 학교, 가족, 고민  \n",
       "302   조선, 로맨스, 판타지, 세월, 여인, 감동, 향, 웹소설, 제작, 돌  \n",
       "172     죽음, 아버지, 살, 가족, 아들, 인생, 날, 사실, 운명, 도시  "
      ]
     },
     "execution_count": 60,
     "metadata": {},
     "output_type": "execute_result"
    }
   ],
   "source": [
    "sent_topics_sorteddf_mallet[['Perc_Contribution', 'Dominant_Topic', 'Topic_Keywords']]"
   ]
  },
  {
   "cell_type": "code",
   "execution_count": 61,
   "id": "refined-synthesis",
   "metadata": {
    "scrolled": false
   },
   "outputs": [
    {
     "data": {
      "text/plain": [
       "Dominant_Topic\n",
       "0.0     48\n",
       "1.0     29\n",
       "2.0     98\n",
       "3.0    101\n",
       "4.0     86\n",
       "5.0     71\n",
       "6.0     14\n",
       "7.0     91\n",
       "8.0     43\n",
       "9.0     64\n",
       "dtype: int64"
      ]
     },
     "execution_count": 61,
     "metadata": {},
     "output_type": "execute_result"
    }
   ],
   "source": [
    "df_topic_story.value_counts('Dominant_Topic').sort_index()"
   ]
  },
  {
   "cell_type": "markdown",
   "id": "elementary-scanning",
   "metadata": {},
   "source": [
    "6. 책소개 (story) + 책내용 일부 (piece) "
   ]
  },
  {
   "cell_type": "code",
   "execution_count": 62,
   "id": "supreme-panel",
   "metadata": {},
   "outputs": [],
   "source": [
    "stories = df['piece']\n",
    "# df['story'] + df['review'] + df['piece']"
   ]
  },
  {
   "cell_type": "code",
   "execution_count": 63,
   "id": "female-hindu",
   "metadata": {},
   "outputs": [
    {
     "name": "stderr",
     "output_type": "stream",
     "text": [
      "100%|██████████| 8/8 [05:01<00:00, 37.70s/it]\n"
     ]
    }
   ],
   "source": [
    "limit=20; start=4; step=2;\n",
    "\n",
    "model_list, coherence_values = compute_coherence_values(stories, limit=limit, start=start, step=step)"
   ]
  },
  {
   "cell_type": "code",
   "execution_count": 64,
   "id": "annoying-reservoir",
   "metadata": {
    "scrolled": true
   },
   "outputs": [
    {
     "name": "stdout",
     "output_type": "stream",
     "text": [
      "{4: 0.3385571328156868, 6: 0.31194339096639573, 8: 0.3295811114329128, 10: 0.32734448925532644, 12: 0.3235091357706808, 14: 0.3246693577455429, 16: 0.31413986996719123, 18: 0.32799673719900535}\n"
     ]
    }
   ],
   "source": [
    "x = range(start, limit, step)\n",
    "\n",
    "find_model = {}\n",
    "for m,c in zip(x, coherence_values):\n",
    "    find_model[m] = c\n",
    "print(find_model)"
   ]
  },
  {
   "cell_type": "code",
   "execution_count": 65,
   "id": "becoming-talent",
   "metadata": {},
   "outputs": [
    {
     "data": {
      "image/png": "[encoded data removed]",
      "text/plain": [
       "<Figure size 432x288 with 1 Axes>"
      ]
     },
     "metadata": {
      "needs_background": "light"
     },
     "output_type": "display_data"
    }
   ],
   "source": [
    "x = find_model.keys()\n",
    "y = find_model.values()\n",
    "\n",
    "plt.plot(x, y)\n",
    "plt.show()"
   ]
  },
  {
   "cell_type": "code",
   "execution_count": 66,
   "id": "expressed-partition",
   "metadata": {},
   "outputs": [
    {
     "name": "stdout",
     "output_type": "stream",
     "text": [
      "<class 'pandas.core.frame.DataFrame'>\n"
     ]
    }
   ],
   "source": [
    "max_model = max(find_model,key=find_model.get)\n",
    "texts, corpus, ldamallet, coherence_ldamallet = lda_coh(stories, num_topics=max_model)\n",
    "data_words = lda_coh(stories, num_topics=max_model, data_word='stop')\n",
    "df_topic_sents_keywords = format_topics_sentences(texts, corpus, data_words, ldamallet, Data=df)"
   ]
  },
  {
   "cell_type": "code",
   "execution_count": 67,
   "id": "comfortable-lemon",
   "metadata": {},
   "outputs": [
    {
     "data": {
      "text/plain": [
       "0.3385571328156868"
      ]
     },
     "execution_count": 67,
     "metadata": {},
     "output_type": "execute_result"
    }
   ],
   "source": [
    "max(find_model.values())"
   ]
  },
  {
   "cell_type": "code",
   "execution_count": 68,
   "id": "hollywood-throw",
   "metadata": {},
   "outputs": [],
   "source": [
    "# Format\n",
    "df_topic_story = df_topic_sents_keywords\n",
    "\n",
    "# 각 문서에 대한 토픽 내림차순\n",
    "df_topic_sort=df_topic_story.sort_values(by=['Dominant_Topic'])"
   ]
  },
  {
   "cell_type": "code",
   "execution_count": 69,
   "id": "sound-marsh",
   "metadata": {},
   "outputs": [],
   "source": [
    "# Group top 5 sentences under each topic\n",
    "sent_topics_sorteddf_mallet = pd.DataFrame()\n",
    "\n",
    "sent_topics_outdf_grpd = df_topic_sents_keywords.groupby('Dominant_Topic')\n",
    "\n",
    "for i, grp in sent_topics_outdf_grpd:\n",
    "    sent_topics_sorteddf_mallet = pd.concat([sent_topics_sorteddf_mallet, \n",
    "                                             grp.sort_values(['Perc_Contribution'], ascending=[0]).head(1)], \n",
    "                                            axis=0)\n"
   ]
  },
  {
   "cell_type": "code",
   "execution_count": 70,
   "id": "immune-knitting",
   "metadata": {
    "scrolled": false
   },
   "outputs": [
    {
     "data": {
      "text/html": [
       "<div>\n",
       "<style scoped>\n",
       "    .dataframe tbody tr th:only-of-type {\n",
       "        vertical-align: middle;\n",
       "    }\n",
       "\n",
       "    .dataframe tbody tr th {\n",
       "        vertical-align: top;\n",
       "    }\n",
       "\n",
       "    .dataframe thead th {\n",
       "        text-align: right;\n",
       "    }\n",
       "</style>\n",
       "<table border=\"1\" class=\"dataframe\">\n",
       "  <thead>\n",
       "    <tr style=\"text-align: right;\">\n",
       "      <th></th>\n",
       "      <th>Perc_Contribution</th>\n",
       "      <th>Dominant_Topic</th>\n",
       "      <th>Topic_Keywords</th>\n",
       "    </tr>\n",
       "  </thead>\n",
       "  <tbody>\n",
       "    <tr>\n",
       "      <th>327</th>\n",
       "      <td>0.7879</td>\n",
       "      <td>0.0</td>\n",
       "      <td>그녀, 눈, 얼굴, 손, 소리, 몸, 머리, 목소리, 입, 고개</td>\n",
       "    </tr>\n",
       "    <tr>\n",
       "      <th>341</th>\n",
       "      <td>0.5739</td>\n",
       "      <td>1.0</td>\n",
       "      <td>당신, 인간, 사실, 여자, 존재, 삶, 세계, 죽음, 남자, 순간</td>\n",
       "    </tr>\n",
       "    <tr>\n",
       "      <th>143</th>\n",
       "      <td>0.5373</td>\n",
       "      <td>2.0</td>\n",
       "      <td>마음, 엄마, 사랑, 세상, 살, 나를, 날, 집, 아이, 건</td>\n",
       "    </tr>\n",
       "    <tr>\n",
       "      <th>4</th>\n",
       "      <td>0.8376</td>\n",
       "      <td>3.0</td>\n",
       "      <td>시간, 요, 여기, 몇, 시작, 꿈, 줄, 끝, 돈, 정말</td>\n",
       "    </tr>\n",
       "  </tbody>\n",
       "</table>\n",
       "</div>"
      ],
      "text/plain": [
       "     Perc_Contribution  Dominant_Topic                         Topic_Keywords\n",
       "327             0.7879             0.0    그녀, 눈, 얼굴, 손, 소리, 몸, 머리, 목소리, 입, 고개\n",
       "341             0.5739             1.0  당신, 인간, 사실, 여자, 존재, 삶, 세계, 죽음, 남자, 순간\n",
       "143             0.5373             2.0     마음, 엄마, 사랑, 세상, 살, 나를, 날, 집, 아이, 건\n",
       "4               0.8376             3.0       시간, 요, 여기, 몇, 시작, 꿈, 줄, 끝, 돈, 정말"
      ]
     },
     "execution_count": 70,
     "metadata": {},
     "output_type": "execute_result"
    }
   ],
   "source": [
    "sent_topics_sorteddf_mallet[['Perc_Contribution', 'Dominant_Topic', 'Topic_Keywords']]"
   ]
  },
  {
   "cell_type": "code",
   "execution_count": 71,
   "id": "composed-column",
   "metadata": {
    "scrolled": false
   },
   "outputs": [
    {
     "data": {
      "text/plain": [
       "Dominant_Topic\n",
       "0.0    171\n",
       "1.0    192\n",
       "2.0    200\n",
       "3.0     82\n",
       "dtype: int64"
      ]
     },
     "execution_count": 71,
     "metadata": {},
     "output_type": "execute_result"
    }
   ],
   "source": [
    "df_topic_story.value_counts('Dominant_Topic').sort_index()"
   ]
  },
  {
   "cell_type": "markdown",
   "id": "dramatic-frequency",
   "metadata": {},
   "source": [
    "7. 책소개 (story) + 책리뷰 (review) +  책내용 일부 (piece) "
   ]
  },
  {
   "cell_type": "code",
   "execution_count": 72,
   "id": "optical-logic",
   "metadata": {},
   "outputs": [],
   "source": [
    "stories = df['piece'] + df['story'] + df['review'] \n",
    "# df['story'] + df['review'] + df['piece']"
   ]
  },
  {
   "cell_type": "code",
   "execution_count": 73,
   "id": "normal-glass",
   "metadata": {},
   "outputs": [
    {
     "name": "stderr",
     "output_type": "stream",
     "text": [
      "100%|██████████| 8/8 [06:24<00:00, 48.09s/it]\n"
     ]
    }
   ],
   "source": [
    "limit=20; start=4; step=2;\n",
    "\n",
    "model_list, coherence_values = compute_coherence_values(stories, limit=limit, start=start, step=step)"
   ]
  },
  {
   "cell_type": "code",
   "execution_count": 74,
   "id": "signed-chart",
   "metadata": {
    "scrolled": true
   },
   "outputs": [
    {
     "name": "stdout",
     "output_type": "stream",
     "text": [
      "{4: 0.34514383396608905, 6: 0.4005510082519343, 8: 0.3739084626497442, 10: 0.40895756440663134, 12: 0.4016815265768625, 14: 0.4050147646714552, 16: 0.39889784599060224, 18: 0.3997322369164255}\n"
     ]
    }
   ],
   "source": [
    "x = range(start, limit, step)\n",
    "\n",
    "find_model = {}\n",
    "for m,c in zip(x, coherence_values):\n",
    "    find_model[m] = c\n",
    "print(find_model)"
   ]
  },
  {
   "cell_type": "code",
   "execution_count": 75,
   "id": "front-smile",
   "metadata": {},
   "outputs": [
    {
     "data": {
      "image/png": "[encoded data removed]",
      "text/plain": [
       "<Figure size 432x288 with 1 Axes>"
      ]
     },
     "metadata": {
      "needs_background": "light"
     },
     "output_type": "display_data"
    }
   ],
   "source": [
    "x = find_model.keys()\n",
    "y = find_model.values()\n",
    "\n",
    "plt.plot(x, y)\n",
    "plt.show()"
   ]
  },
  {
   "cell_type": "code",
   "execution_count": 85,
   "id": "saving-zambia",
   "metadata": {},
   "outputs": [
    {
     "name": "stdout",
     "output_type": "stream",
     "text": [
      "<class 'pandas.core.frame.DataFrame'>\n"
     ]
    }
   ],
   "source": [
    "max_model = max(find_model,key=find_model.get)\n",
    "texts, corpus, ldamallet, coherence_ldamallet = lda_coh(stories, num_topics=max_model)\n",
    "data_words = lda_coh(stories, num_topics=max_model, data_word='stop')\n",
    "df_topic_sents_keywords = format_topics_sentences(texts, corpus, data_words, ldamallet, Data=df)"
   ]
  },
  {
   "cell_type": "code",
   "execution_count": 86,
   "id": "norman-basis",
   "metadata": {},
   "outputs": [
    {
     "data": {
      "text/plain": [
       "0.40895756440663134"
      ]
     },
     "execution_count": 86,
     "metadata": {},
     "output_type": "execute_result"
    }
   ],
   "source": [
    "max(find_model.values())"
   ]
  },
  {
   "cell_type": "code",
   "execution_count": 87,
   "id": "featured-unknown",
   "metadata": {},
   "outputs": [],
   "source": [
    "# Format\n",
    "df_topic_story = df_topic_sents_keywords\n",
    "\n",
    "# 각 문서에 대한 토픽 내림차순\n",
    "df_topic_sort=df_topic_story.sort_values(by=['Dominant_Topic'])"
   ]
  },
  {
   "cell_type": "code",
   "execution_count": 88,
   "id": "comparative-brazilian",
   "metadata": {},
   "outputs": [],
   "source": [
    "# Group top 5 sentences under each topic\n",
    "sent_topics_sorteddf_mallet = pd.DataFrame()\n",
    "\n",
    "sent_topics_outdf_grpd = df_topic_sents_keywords.groupby('Dominant_Topic')\n",
    "\n",
    "for i, grp in sent_topics_outdf_grpd:\n",
    "    sent_topics_sorteddf_mallet = pd.concat([sent_topics_sorteddf_mallet, \n",
    "                                             grp.sort_values(['Perc_Contribution'], ascending=[0]).head(1)], \n",
    "                                            axis=0)\n"
   ]
  },
  {
   "cell_type": "code",
   "execution_count": 89,
   "id": "literary-emerald",
   "metadata": {
    "scrolled": false
   },
   "outputs": [
    {
     "data": {
      "text/html": [
       "<div>\n",
       "<style scoped>\n",
       "    .dataframe tbody tr th:only-of-type {\n",
       "        vertical-align: middle;\n",
       "    }\n",
       "\n",
       "    .dataframe tbody tr th {\n",
       "        vertical-align: top;\n",
       "    }\n",
       "\n",
       "    .dataframe thead th {\n",
       "        text-align: right;\n",
       "    }\n",
       "</style>\n",
       "<table border=\"1\" class=\"dataframe\">\n",
       "  <thead>\n",
       "    <tr style=\"text-align: right;\">\n",
       "      <th></th>\n",
       "      <th>Perc_Contribution</th>\n",
       "      <th>Dominant_Topic</th>\n",
       "      <th>Topic_Keywords</th>\n",
       "    </tr>\n",
       "  </thead>\n",
       "  <tbody>\n",
       "    <tr>\n",
       "      <th>620</th>\n",
       "      <td>0.8107</td>\n",
       "      <td>0.0</td>\n",
       "      <td>꿈, 현실, 우주, 미래, 인류, 지구, 시, 과학, 현재, 과거</td>\n",
       "    </tr>\n",
       "    <tr>\n",
       "      <th>404</th>\n",
       "      <td>0.5612</td>\n",
       "      <td>1.0</td>\n",
       "      <td>사건, 미스터리, 남자, 살인, 진실, 스릴러, 반전, 경찰, 범인, 형사</td>\n",
       "    </tr>\n",
       "    <tr>\n",
       "      <th>111</th>\n",
       "      <td>0.8367</td>\n",
       "      <td>2.0</td>\n",
       "      <td>사회, 언어, 의미, 글, 결정, 시절, 경험, 함, 큰, 어머니</td>\n",
       "    </tr>\n",
       "    <tr>\n",
       "      <th>74</th>\n",
       "      <td>0.5301</td>\n",
       "      <td>3.0</td>\n",
       "      <td>여자, 남자, 그녀, 여성, 서로, 당신, 결혼, 자리, 관계, 이유</td>\n",
       "    </tr>\n",
       "    <tr>\n",
       "      <th>565</th>\n",
       "      <td>0.5743</td>\n",
       "      <td>4.0</td>\n",
       "      <td>아이, 엄마, 친구, 청소년, 아빠, 학교, 할머니, 가족, 꿈, 어른</td>\n",
       "    </tr>\n",
       "    <tr>\n",
       "      <th>418</th>\n",
       "      <td>0.7132</td>\n",
       "      <td>5.0</td>\n",
       "      <td>그녀, 몸, 마을, 소리, 나무, 얼굴, 땅, 눈물, 새, 머리</td>\n",
       "    </tr>\n",
       "    <tr>\n",
       "      <th>1</th>\n",
       "      <td>0.6654</td>\n",
       "      <td>6.0</td>\n",
       "      <td>아버지, 인생, 사회, 죽음, 전쟁, 길, 자기, 선, 아들, 운명</td>\n",
       "    </tr>\n",
       "    <tr>\n",
       "      <th>301</th>\n",
       "      <td>0.9390</td>\n",
       "      <td>7.0</td>\n",
       "      <td>역사, 대표, 시대, 여인, 중국, 조선, 소개, 감동, 현대, 진</td>\n",
       "    </tr>\n",
       "    <tr>\n",
       "      <th>3</th>\n",
       "      <td>0.6912</td>\n",
       "      <td>8.0</td>\n",
       "      <td>기억, 죽음, 감정, 면, 누군가, 밤, 서로, 타인, 끝, 고통</td>\n",
       "    </tr>\n",
       "    <tr>\n",
       "      <th>326</th>\n",
       "      <td>0.9330</td>\n",
       "      <td>9.0</td>\n",
       "      <td>얼굴, 그녀, 고개, 몸, 입, 이상, 피, 로맨스, 목소리, 줄</td>\n",
       "    </tr>\n",
       "  </tbody>\n",
       "</table>\n",
       "</div>"
      ],
      "text/plain": [
       "     Perc_Contribution  Dominant_Topic  \\\n",
       "620             0.8107             0.0   \n",
       "404             0.5612             1.0   \n",
       "111             0.8367             2.0   \n",
       "74              0.5301             3.0   \n",
       "565             0.5743             4.0   \n",
       "418             0.7132             5.0   \n",
       "1               0.6654             6.0   \n",
       "301             0.9390             7.0   \n",
       "3               0.6912             8.0   \n",
       "326             0.9330             9.0   \n",
       "\n",
       "                                Topic_Keywords  \n",
       "620       꿈, 현실, 우주, 미래, 인류, 지구, 시, 과학, 현재, 과거  \n",
       "404  사건, 미스터리, 남자, 살인, 진실, 스릴러, 반전, 경찰, 범인, 형사  \n",
       "111       사회, 언어, 의미, 글, 결정, 시절, 경험, 함, 큰, 어머니  \n",
       "74      여자, 남자, 그녀, 여성, 서로, 당신, 결혼, 자리, 관계, 이유  \n",
       "565    아이, 엄마, 친구, 청소년, 아빠, 학교, 할머니, 가족, 꿈, 어른  \n",
       "418        그녀, 몸, 마을, 소리, 나무, 얼굴, 땅, 눈물, 새, 머리  \n",
       "1        아버지, 인생, 사회, 죽음, 전쟁, 길, 자기, 선, 아들, 운명  \n",
       "301      역사, 대표, 시대, 여인, 중국, 조선, 소개, 감동, 현대, 진  \n",
       "3         기억, 죽음, 감정, 면, 누군가, 밤, 서로, 타인, 끝, 고통  \n",
       "326       얼굴, 그녀, 고개, 몸, 입, 이상, 피, 로맨스, 목소리, 줄  "
      ]
     },
     "execution_count": 89,
     "metadata": {},
     "output_type": "execute_result"
    }
   ],
   "source": [
    "sent_topics_sorteddf_mallet[['Perc_Contribution', 'Dominant_Topic', 'Topic_Keywords']]"
   ]
  },
  {
   "cell_type": "code",
   "execution_count": 90,
   "id": "multiple-poultry",
   "metadata": {
    "scrolled": false
   },
   "outputs": [
    {
     "data": {
      "text/plain": [
       "Dominant_Topic\n",
       "0.0    48\n",
       "1.0    83\n",
       "2.0    36\n",
       "3.0    64\n",
       "4.0    92\n",
       "5.0    51\n",
       "6.0    87\n",
       "7.0    44\n",
       "8.0    84\n",
       "9.0    56\n",
       "dtype: int64"
      ]
     },
     "execution_count": 90,
     "metadata": {},
     "output_type": "execute_result"
    }
   ],
   "source": [
    "df_topic_story.value_counts('Dominant_Topic').sort_index()"
   ]
  },
  {
   "cell_type": "markdown",
   "id": "chronic-clerk",
   "metadata": {},
   "source": [
    "---"
   ]
  },
  {
   "cell_type": "markdown",
   "id": "instructional-watershed",
   "metadata": {},
   "source": [
    "## 선택된 모델(책소개, 서평 / 10개 분류)로 토픽분류 시각화"
   ]
  },
  {
   "cell_type": "code",
   "execution_count": 109,
   "id": "supported-wallace",
   "metadata": {},
   "outputs": [],
   "source": [
    "stories = df['story'] + df['review']\n",
    "# df['story'] + df['review'] + df['piece']"
   ]
  },
  {
   "cell_type": "code",
   "execution_count": 110,
   "id": "advisory-theory",
   "metadata": {},
   "outputs": [
    {
     "name": "stdout",
     "output_type": "stream",
     "text": [
      "<class 'pandas.core.frame.DataFrame'>\n"
     ]
    }
   ],
   "source": [
    "texts, corpus, ldamallet, coherence_ldamallet, id2word = lda_coh_id2(stories, num_topics=10)\n",
    "data_words = lda_coh(stories, num_topics=max_model, data_word='stop')\n",
    "df_topic_sents_keywords = format_topics_sentences(texts, corpus, data_words, ldamallet, Data=df)"
   ]
  },
  {
   "cell_type": "code",
   "execution_count": 111,
   "id": "trying-element",
   "metadata": {},
   "outputs": [
    {
     "name": "stderr",
     "output_type": "stream",
     "text": [
      "/home/ubuntu/anaconda3/envs/python3/lib/python3.6/site-packages/pyLDAvis/_prepare.py:236: RuntimeWarning: divide by zero encountered in log\n",
      "  log_1 = np.log(pd.eval(\"(topic_given_term.T / topic_proportion)\"))\n",
      "/home/ubuntu/anaconda3/envs/python3/lib/python3.6/site-packages/pyLDAvis/_prepare.py:259: RuntimeWarning: divide by zero encountered in log\n",
      "  log_lift = np.log(pd.eval(\"topic_term_dists / term_proportion\")).astype(\"float64\")\n",
      "/home/ubuntu/anaconda3/envs/python3/lib/python3.6/site-packages/pyLDAvis/_prepare.py:260: RuntimeWarning: divide by zero encountered in log\n",
      "  log_ttd = np.log(topic_term_dists).astype(\"float64\")\n"
     ]
    },
    {
     "data": {
      "text/html": [
       "\n",
       "<link rel=\"stylesheet\" type=\"text/css\" href=\"https://cdn.jsdelivr.net/gh/bmabey/pyLDAvis@3.2.2/pyLDAvis/js/ldavis.v1.0.0.css\">\n",
       "\n",
       "\n",
       "<div id=\"ldavis_el96951398480903407121338805837\"></div>\n",
       "<script type=\"text/javascript\">\n",
       "\n",
       "var ldavis_el96951398480903407121338805837_data = {\"mdsDat\": {\"x\": [-0.007422903896427334, -0.14450458212969206, -0.0672146509582904, 0.11831284570834986, -0.11751398206275002, 0.0889537470605518, -0.08163099791817785, 0.03921210224787907, -0.16980802258114447, 0.341616444529701], \"y\": [0.3016992746853625, 0.12291196198713435, 0.024972222550529388, -0.1935879143745303, -0.1638633737217144, 0.049168946133280655, -0.04492393181343319, 0.09256316113478402, -0.1529094051409472, -0.03603094144046559], \"topics\": [1, 2, 3, 4, 5, 6, 7, 8, 9, 10], \"cluster\": [1, 1, 1, 1, 1, 1, 1, 1, 1, 1], \"Freq\": [10.402765662479075, 10.337076094978128, 10.278656908006234, 10.124870551449387, 10.033303572094262, 9.996548256339565, 9.96852693432798, 9.838884478182564, 9.599444686902363, 9.419922855240445]}, \"tinfo\": {\"Term\": [\"\\uc0ac\\uac74\", \"\\uc544\\uc774\", \"\\uadf8\\ub140\", \"\\uc5ec\\uc131\", \"\\uc9d1\", \"\\uce5c\\uad6c\", \"\\uccad\\uc18c\\ub144\", \"\\uc5c4\\ub9c8\", \"\\uc8fd\\uc74c\", \"\\uc0ac\\ud68c\", \"\\ud604\\uc2e4\", \"\\ub0a8\\uc790\", \"\\uc5ed\\uc0ac\", \"\\ubbf8\\uc2a4\\ud130\\ub9ac\", \"\\uc544\\ubc84\\uc9c0\", \"\\uac00\\uc871\", \"\\uc5ec\\uc790\", \"\\uafc8\", \"\\ubab8\", \"\\ub208\", \"\\uc870\\uc120\", \"\\uc874\\uc7ac\", \"\\uc778\\uc0dd\", \"\\uc655\", \"\\uc544\\ub4e4\", \"\\uc804\\uc7c1\", \"\\uc2dc\\ub300\", \"\\ucabd\", \"\\ud559\\uad50\", \"\\uc5ec\\uc778\", \"\\ub098\\uac00\", \"\\ub369\", \"\\ub5a0\\ub098\\ub294\", \"\\ub9c8\\uce68\", \"\\ub9e4\\uc7a5\", \"\\ubaa8\\uc591\", \"\\ubbf8\\ub828\", \"\\ubcf4\\ub0b4\\uba74\\uc11c\", \"\\ubcf8\\ub2a5\", \"\\uc54a\\ub358\", \"\\uc560\\ucd08\", \"\\uc81c\\ubc95\", \"\\uc870\\uac01\", \"\\ud2b9\\ubcc4\\ud310\", \"\\ud574\\uc900\", \"\\ubab8\", \"\\uac14\\ub2e4\", \"\\ub9c8\\ub825\", \"\\uc591\\uc7a5\", \"\\uac70\\ub450\\uc9c0\", \"\\uae30\\ub2e4\\ub838\\ub2e4\", \"\\ub300\\uac10\", \"\\ub3c4\\ubb34\\uc9c0\", \"\\ubb34\\uc11c\\uc6b4\", \"\\uc70c\", \"\\uace0\\ub9c8\\uc6cc\", \"\\ub118\\uc5c8\\ub2e4\", \"\\ub4e4\\uc5b4\\uac00\\ub294\", \"\\ub9e4\\ub2c8\\uc800\", \"\\ubd80\\uc871\\ud55c\", \"\\ubb34\\uc2a8\", \"\\uacf5\\uc8fc\", \"\\uc12c\", \"\\uc18c\\ubb38\", \"\\ud770\", \"\\uace0\\uac1c\", \"\\uadc0\", \"\\ud074\\ub7fd\", \"\\uce7c\", \"\\uc544\\uae30\", \"\\uac80\", \"\\ud6c4\\ud68c\", \"\\uc8fd\\uc9c0\", \"\\ucc9c\\uad6d\", \"\\uc8fd\\uace0\", \"\\uc2e0\\uacbd\", \"\\ub5a8\\uc5b4\\uc9c4\", \"\\ubfd0\\uc774\\uc5c8\\ub2e4\", \"\\ub208\\uce58\", \"\\ub85d\", \"\\ub370\\ub9ac\", \"\\uc800\\uc8fc\", \"\\uc11c\\ub828\", \"\\uac00\\uae30\", \"\\uc5b4\\uae68\", \"\\uac15\\uc8fc\\ub8e1\", \"\\uc545\\ubabd\", \"\\uc5bc\\uad74\", \"\\uc5ec\\uc790\", \"\\uc11c\", \"\\ucc3d\", \"\\uc950\", \"\\uc785\", \"\\uc18c\\ub9ac\", \"\\uac19\\uc558\\ub2e4\", \"\\uba38\\ub9ac\", \"\\uc8fd\", \"\\uadf8\\ub140\", \"\\ub208\", \"\\ub0a8\\uc790\", \"\\uc880\", \"\\ubb38\", \"\\uc6d4\", \"\\ub2f9\\uc2e0\", \"\\ud14c\", \"\\uae30\\uc5b5\", \"\\uc190\", \"\\uba87\", \"\\uc228\", \"\\ud574\\ub3c4\", \"\\uc804\\ud558\", \"\\uc801\", \"\\uc120\\ud0dd\", \"\\ub2ec\", \"\\ucc98\\uc74c\", \"\\uc21c\\uac04\", \"\\uc5b4\\ub9b0\", \"\\uc8fd\\uc74c\", \"\\uc810\\uc810\", \"\\ub204\\uad6c\", \"\\uc0ac\\uc2e4\", \"\\ub098\\uac00\\uba70\", \"\\ubd80\\uc0b0\", \"\\uc544\\uc6b0\\ub974\\ub294\", \"\\uc778\\uc9c0\\ub3c4\", \"\\ud544\\uc0ac\", \"\\uae30\\ub984\", \"\\ub2e4\\uac00\\uc628\", \"\\uba39\", \"\\ube44\\ucd98\\ub2e4\", \"\\ucf54\\ub85c\\ub098\", \"\\ub0b4\\uc57c\", \"\\uc81c\\uc8fc\", \"\\uadf8\\ub7ec\\uace0\", \"\\uadf8\\ub9bc\", \"\\uaf49\", \"\\uc8fc\\ud0dd\", \"\\uac15\", \"\\ub358\\uc838\", \"\\ubb34\\ub2ac\", \"\\ubcc0\\uc8fc\", \"\\uc774\\uc1a1\", \"\\uc9c0\\ub0b4\\uac8c\", \"\\uc9c4\\ub2e8\", \"\\ucc28\\uace0\", \"\\ucca0\\uc800\\ud558\\uac8c\", \"\\uac00\\ubcf8\", \"\\ub2e4\\ub4ec\\uc740\", \"\\ub2ec\\uc774\", \"\\ub5a0\\ub09c\\ub2e4\", \"\\ub839\", \"\\uc758\\uc9c0\", \"\\uc544\\ud649\", \"\\uc544\\ub4e4\", \"\\uc0c1\\uc2e4\", \"\\uadf8\\ub9bc\\uc790\", \"\\ub0bc\", \"\\ubcf4\\uc774\\uc9c0\", \"\\ud53c\\ud574\", \"\\uc624\\uae30\", \"\\uc804\\ubd80\", \"\\ub9b0\", \"\\uc880\\ube44\", \"\\uc815\\uc6d0\", \"\\ubcf8\\ub2e4\", \"\\uae68\\ub2eb\\ub294\\ub2e4\", \"\\ub5a0\", \"\\uad50\\ud1b5\\uc0ac\\uace0\", \"\\ubc84\\ub9b4\", \"\\uac78\\uc5b4\", \"\\ub098\\ud0c0\\ub09c\\ub2e4\", \"\\uc800\\ub141\", \"\\uc8fd\\uc5b4\", \"\\uc560\\uac00\", \"\\ub9c8\\uc744\", \"\\ub3c4\\uc2dc\", \"\\uc0ac\\uace0\", \"\\uc544\\ubc84\\uc9c0\", \"\\ub450\\ub824\\uc6c0\", \"\\uc8fd\\uc74c\", \"\\uc808\\ub9dd\", \"\\ub0a8\\ud3b8\", \"\\ubb38\\ud559\\ub3d9\\ub124\", \"\\uc77c\\uacf1\", \"\\ucabd\", \"\\uc544\\ub0b4\", \"\\ube44\\uadf9\", \"\\ud560\\uba38\\ub2c8\", \"\\uc18c\\ub140\", \"\\ub098\\ubb34\", \"\\uace0\\ud1b5\", \"\\uba85\", \"\\uc874\\uc7ac\", \"\\ud53c\", \"\\ub0b4\\uba74\", \"\\uac00\\uc871\", \"\\uc6c0\", \"\\ud3ed\\ub825\", \"\\uc2dc\\uc120\", \"\\ud798\", \"\\ubcfc\", \"\\ud5a5\", \"\\uc6b4\\uba85\", \"\\ubc24\", \"\\uadf8\\ub140\", \"\\uc21c\\uac04\", \"\\uae38\", \"\\uc791\\uc740\", \"\\ub05d\", \"\\uac74\\ub128\", \"\\uace8\\ubaa9\", \"\\uae40\\ubc25\", \"\\ub099\", \"\\ub2e4\\uc815\\ud55c\", \"\\ub2e8\\uc808\", \"\\ub2f4\", \"\\ub418\\uc5c8\\uc744\\uae4c\", \"\\ub429\\ub2c8\\ub2e4\", \"\\ubb34\\uac8c\", \"\\ubd09\\ucc29\", \"\\uc18c\\ud1b5\", \"\\uc2dc\\uac04\\ub300\", \"\\uc5ec\\uc0ac\", \"\\uc758\\uc790\", \"\\uc788\\uc9c0\", \"\\uc81c\\uc774\", \"\\uc9c0\\uc810\", \"\\uce58\\ub9e4\", \"\\ub5bc\\uc9c0\", \"\\uc5b4\\ub835\\ub2e4\\ub294\", \"\\ud55c\\ub2e4\\ub294\", \"\\ud758\\ub7ec\\uac08\", \"\\ubcf4\\ub0b4\\ub294\", \"\\uc5f0\\ub9d0\", \"\\uc608\\uc2a4\", \"\\uc9c0\\ub3c4\", \"\\uc9e7\\uac8c\", \"\\uc21c\\ud0c4\", \"\\uc870\\uc6a9\\ud788\", \"\\ub9db\", \"\\uc2e4\\ud328\", \"\\uc788\\uc2b5\\ub2c8\\ub2e4\", \"\\uacf5\\uc720\", \"\\uc9d0\\uc791\", \"\\uc815\\uc138\\ub791\", \"\\uae40\\uc560\\ub780\", \"\\uc77d\\uc73c\\uba70\", \"\\ud754\\ud788\", \"\\uc2e0\\uc778\", \"\\ub2e8\\ub2e8\\ud55c\", \"\\ubb38\\ub4dd\", \"\\ub098\\ub0a0\", \"\\uc774\\uc5c8\\uace0\", \"\\uc9d1\\uc740\", \"\\ucd5c\\uc740\\uc601\", \"\\ud68c\\uc0c1\", \"\\ub3c4\\ub2ec\", \"\\uacb9\", \"\\ub4e4\\ub824\\uc900\\ub2e4\", \"\\ubb34\\ucc99\", \"\\ud45c\", \"\\ud3ec\\ucc29\", \"\\uc4f0\\ub294\", \"\\uadf8\\uac8c\", \"\\uc5f0\\uc560\", \"\\uac00\\ub2a5\\ud55c\", \"\\uc544\\ub2d0\\uae4c\", \"\\uc9d1\", \"\\uc80a\\uc740\", \"\\ub2e4\\ub9cc\", \"\\ud654\", \"\\uacf5\\uac04\", \"\\ub178\\ub798\", \"\\ub298\", \"\\ubc29\\uc2dd\", \"\\uc778\\ud130\\ubdf0\", \"\\uc5b4\\uba38\\ub2c8\", \"\\ubaa8\\ub978\\ub2e4\", \"\\ub0af\\uc120\", \"\\uc11c\\ub85c\", \"\\uae30\\uc5b5\", \"\\uc774\\ud574\", \"\\ud3b8\\uc758\", \"\\ubaa9\\uc18c\\ub9ac\", \"\\uae30\\ub3c4\", \"\\uacfc\\uac70\", \"\\uc21c\\uac04\", \"\\uc5ec\\ub7ec\", \"\\uae00\", \"\\uacc4\\uc18d\", \"\\uc0ac\\uc2e4\", \"\\uc0ac\\uc774\", \"\\ud0c0\\uc778\", \"\\uc544\\uc8fc\", \"\\uc874\\uc7ac\", \"\\uc774\\uc720\", \"\\ub204\\uad70\\uac00\", \"\\ubc1c\\uacac\", \"\\uc791\\uc740\", \"\\ub4f1\\uc7a5\", \"\\ub204\\uad6c\", \"\\uad00\\uacc4\", \"\\uac74\", \"\\ud5a5\", \"\\uadfc\\ud604\\ub300\\uc0ac\", \"\\uc870\\uc9c0\", \"\\ud55c\\uad6d\\uc778\", \"\\uac15\\uc810\", \"\\uac10\\uba85\", \"\\ub2e8\\uc7a5\", \"\\uc138\\uacc4\\ubb38\\ud559\", \"\\uc5d0\\ub514\", \"\\uc77d\\uae30\", \"\\ubc18\\uc601\", \"\\ud558\\uc600\\uc73c\\uba70\", \"\\ud68d\", \"\\ud2b9\\uc218\\ud55c\", \"\\uc54c\\ubca0\\ub974\", \"\\uc7a5\\uc2dd\", \"\\uce74\\ubb88\", \"\\uace0\\uc720\", \"\\uaf2c\\ubc15\", \"\\uc5f0\\uad6c\\uc6d0\", \"\\ub098\\uac00\\ub358\", \"\\ub2e4\\ub904\", \"\\ub9cc\\uc5f0\\ud55c\", \"\\ubc14\\ub00c\\uc5c8\\ub2e4\", \"\\uc601\\uc801\", \"\\uc6d0\\uace0\\uc9c0\", \"\\uc815\\uc2dd\", \"\\ud3c9\\ud654\\ub86d\\uac8c\", \"\\ub4b7\\ubc1b\\uce68\", \"\\uc120\\ubcf4\\uc77c\", \"\\uc704\\ub300\\ud55c\", \"\\uace0\\uc804\", \"\\uc601\\uc5b4\", \"\\ud574\\uc11d\", \"\\ud574\\ubc29\", \"\\uc5f0\\uc791\", \"\\ucd08\\ud310\", \"\\ud601\\uba85\", \"\\ubbfc\\uc871\", \"\\uc2e4\\uc874\", \"\\ubd81\\ud55c\", \"\\ub7ec\\uc2dc\\uc544\", \"\\uc65c\\uace1\", \"\\uc5f4\\ub9b0\", \"\\ub9de\\ucdb0\", \"\\uaddc\\uc815\", \"\\uc790\\uc804\", \"\\ubc14\\uc774\", \"\\uc6d0\\uace0\", \"\\uc804\\ubb38\\uac00\", \"\\uc2f1\\uc544\", \"\\uc0c8\\ub85c\\uc774\", \"\\ubb38\\ud559\\uc0ac\", \"\\ub9ce\\ub358\", \"\\uc804\\uc7c1\", \"\\ud3c9\\uac00\", \"\\uc804\\ud1b5\", \"\\uc8fc\\uae30\", \"\\ud310\", \"\\ud55c\\uad6d\\uc5b4\", \"\\uacb0\\uc815\", \"\\uad50\\uc218\", \"\\ucca0\\ud559\", \"\\uc5b8\\uc5b4\", \"\\uc9c1\\uc811\", \"\\ub300\\ud45c\", \"\\uc0ac\\uc9c4\", \"\\ud750\\ub984\", \"\\uc138\\uae30\", \"\\uc2dc\\ub300\", \"\\uc18c\\uac1c\", \"\\ud45c\\ud604\", \"\\ucd9c\\ud310\", \"\\ub2f9\\uc2dc\", \"\\uace0\\uc2a4\", \"\\uc758\\uc2dd\", \"\\uc0c8\\ub86d\\uac8c\", \"\\uae4a\\uc774\", \"\\ud2b9\\uc9d5\", \"\\ub290\\ub08c\", \"\\uc5ed\\uc0ac\", \"\\uc720\\uc9c0\", \"\\uae00\", \"\\uc0ac\\ud68c\", \"\\ud604\\ub300\", \"\\uc5ec\", \"\\uc758\\ubbf8\", \"\\uc2dc\\uc808\", \"\\uacbd\\ud5d8\", \"\\uc2dc\\uae30\", \"\\uc81c\\ubaa9\", \"\\ub3d9\\uc2dc\", \"\\ub2e4\\uc591\\ud55c\", \"\\ub9c8\\uc9c0\\ub9c9\", \"\\ub3c4\\uc11c\\uad00\", \"\\ubc9a\\uaf43\", \"\\uc218\\ucd9c\", \"\\uc544\\uc774\\ub7ec\\ub2c8\", \"\\uc57c\\uac04\", \"\\uc77c\\uae30\", \"\\ud798\\ub4e4\\uac8c\", \"\\uaca8\\uc6b4\", \"\\uace0\\ub9d9\\ub2e4\\uace0\", \"\\uace0\\uc591\", \"\\uace4\", \"\\uae40\\uc9c0\\uc740\", \"\\ub04c\\uc5b4\\uc548\\uace0\", \"\\ub290\\ub07c\\uc9c0\", \"\\ub300\\uae4c\\uc9c0\", \"\\ub3d9\\uc694\", \"\\ubb34\\uac10\\uac01\", \"\\ubc1b\\uae30\\ub3c4\", \"\\ubc1c\\uc9dd\", \"\\ubc84\\ud2f8\", \"\\ubd88\\ub2a5\", \"\\uc131\\uc7a5\\ud55c\\ub2e4\\ub294\", \"\\uc544\\ubaac\\ub4dc\", \"\\uc54c\\ub9ac\\ub294\", \"\\uc5b4\\ub35c\\ud2b8\", \"\\uc654\\uc73c\\uba70\", \"\\uc77c\\uc5b4\\ub0a0\", \"\\uc77d\\uc5c8\\ub2e4\\ub294\", \"\\uc788\\uc744\\uc9c0\\ub3c4\", \"\\uc790\\ub77c\\ub294\", \"\\ud658\\uc0c1\", \"\\uc7ac\\ub09c\", \"\\ud540\", \"\\ud5c8\\uad6c\", \"\\uc6b0\\ud654\", \"\\ucc9c\", \"\\uc6d4\\uac04\", \"\\uc2a4\\ub178\\ubcfc\", \"\\ud638\\ub791\\uc774\", \"\\ub2f9\\ub300\", \"\\ub3c5\\ucc3d\", \"\\ucd08\\uc5fd\", \"\\uc704\\uc800\\ub4dc\", \"\\uc720\\ub9ac\", \"\\uc775\\uc219\\ud55c\", \"\\uc77c\\uc885\", \"\\ucd5c\\uc9c4\\uc601\", \"\\ucd9c\\uc0dd\", \"\\ucca8\\uc608\\ud55c\", \"\\ucc3d\\ube44\", \"\\ube75\", \"\\uc2dc\\ub97c\", \"\\uc124\\uc120\", \"\\uc815\\uc9c0\", \"\\ubca0\\uc774\\ucee4\\ub9ac\", \"\\uc601\\ud63c\", \"\\uc720\\ub839\", \"\\ubc18\", \"\\ub2e8\\ud589\\ubcf8\", \"\\ubd80\\ud130\", \"\\ucd5c\", \"\\uc2dc\", \"\\uc11c\\ub3c4\", \"\\ud604\\uc2e4\", \"\\uc5ec\\ud589\", \"\\uc11c\\uc0ac\", \"\\uc5ec\\uc12f\", \"\\uc608\\uc220\", \"\\ubc24\", \"\\uc0b4\\uc544\\uac00\\ub294\", \"\\uc784\", \"\\uc18c\\ub144\", \"\\uc0ac\\uc774\", \"\\uac10\\uc815\", \"\\ub3d9\\uc2dc\", \"\\uc2dc\\ub300\", \"\\uc874\\uc7ac\", \"\\ub2f9\\uc2e0\", \"\\uc758\\ubbf8\", \"\\ud604\\uc7ac\", \"\\uc9c8\\ubb38\", \"\\ub545\", \"\\uc9d1\", \"\\uc790\\uae30\", \"\\uc190\", \"\\uc57c\\ucfe0\\uc790\", \"\\ubc00\\ub9ac\", \"\\uc2a4\\ub9b4\\ub7ec\", \"\\uc810\\uc6d0\", \"\\ud558\\ub824\\ub358\", \"\\uc138\\uc6e0\\ub2e4\", \"\\uc2e0\\ub4dc\\ub86c\", \"\\ubc94\\uc778\", \"\\ubcf5\\uc120\", \"\\uc5b4\\uc6b8\\ub824\", \"\\uc758\\uc544\", \"\\uc9c0\\ud0a4\\uace0\\uc790\", \"\\ud37c\\uc990\", \"\\uc5ec\\ud0c0\", \"\\uac80\\uc0ac\", \"\\uae08\\uace0\", \"\\ub098\\uc124\", \"\\ud574\\uc11c\\ub77c\\uba74\", \"\\ubc18\\uc9c0\", \"\\ucd08\\uc0c1\", \"\\ub4dc\\ub7ec\\ub098\\uc9c0\", \"\\ud30c\\uace0\\ub4e0\", \"\\uac00\\ucc28\", \"\\uae30\\ub2e4\\ub9b0\", \"\\uc815\\uad50\\ud558\\uac8c\", \"\\ud0c0\\uaca9\", \"\\ud3ec\\uc2a4\\ud2b8\", \"\\uac00\\uc058\", \"\\ubcc0\\ud638\", \"\\uc794\\ud639\\ud55c\", \"\\ubbf8\\uc2a4\\ud130\\ub9ac\", \"\\uc0b4\\uc778\", \"\\ucd94\\ub9ac\", \"\\ubc18\\uc804\", \"\\uc0b4\\ud574\", \"\\uc218\\uc0ac\", \"\\ubcf5\\uc218\", \"\\uac00\\uc2dc\\ub178\", \"\\uac8c\\uc774\\uace0\", \"\\ud0d0\\uc815\", \"\\ucd94\\ub9ac\\uc18c\\uc124\", \"\\ubc94\\uc8c4\", \"\\ub3c5\\uc77c\", \"\\uce74\", \"\\uc608\\uce21\", \"\\uc568\\ub9ac\\uc2a4\", \"\\ub3d9\\uc2dd\", \"\\uac1c\\uad6d\", \"\\uac00\\uac00\", \"\\uacbd\\ucc30\", \"\\ud0c0\\uc784\\uc2a4\", \"\\ud615\\uc0ac\", \"\\uc545\\uc758\", \"\\uc2e4\\uc885\", \"\\uc6a9\\uc758\\uc790\", \"\\uc218\\uc218\\uaed8\\ub07c\", \"\\uc11c\\uc2a4\\ud39c\\uc2a4\", \"\\uc989\\uc2dc\", \"\\uc0ac\\uac74\", \"\\ucd94\\uc801\", \"\\ucf54\", \"\\ud751\\uc778\", \"\\ucda9\\uaca9\", \"\\uc2ec\\ub9ac\", \"\\uc0c1\", \"\\uc9c4\\uc2e4\", \"\\uacb0\\ub9d0\", \"\\uc2a4\", \"\\ubc1c\\uacac\", \"\\ub0a8\\uc790\", \"\\uc0ac\\uc2e4\", \"\\ub9ac\", \"\\ub9c8\\uc9c0\\ub9c9\", \"\\uac00\\ub09c\\ud55c\", \"\\uace0\\uc0dd\", \"\\ubbfc\\uac10\\ud55c\", \"\\ubc1b\\uc544\\ub4e4\\uc774\\uba70\", \"\\uc0ac\\ub2e4\\ub9ac\", \"\\uc18c\\uc911\\ud55c\", \"\\uc544\\ud508\", \"\\uc788\\uae30\\ub97c\", \"\\uc788\\ub294\\uc9c0\\ub97c\", \"\\uc7ac\\uc77c\", \"\\ud559\\uad50\", \"\\ud798\\ub4e4\", \"\\uacbd\\ucf8c\\ud55c\", \"\\uace8\\ubaa9\\uae38\", \"\\uad6c\\ub9e4\", \"\\ub098\\ub204\\ub294\", \"\\ub098\\ub204\\uba74\\uc11c\", \"\\ub300\\uad6c\", \"\\ub9c8\\uc74c\\uba39\\uc740\", \"\\ub9e4\\uc0ac\", \"\\ubd88\\ub7c9\", \"\\ubd88\\ud3b8\\ud55c\", \"\\uc0ac\\uc11c\", \"\\uc18c\\uc911\\ud568\\uc744\", \"\\uc190\\uae38\", \"\\uc54c\\ub824\\uc8fc\\ub294\", \"\\uc54c\\ubc14\", \"\\uc5f0\\ub839\", \"\\uc785\\uac00\", \"\\uce5c\\uc808\", \"\\uccad\\uc18c\\ub144\", \"\\uc5b4\\ub978\", \"\\uc544\\ube60\", \"\\uc131\\uc7a5\", \"\\ud559\\uc0dd\", \"\\uc774\\uc758\", \"\\uce74\\ud398\", \"\\uc0c1\\uc810\", \"\\uce58\\uc720\", \"\\uc720\\uc9c4\", \"\\ubc31\\ud654\\uc810\", \"\\uc9c1\\uc5c5\", \"\\uc2ed\", \"\\ud30c\\ub294\", \"\\uc2ed\\ub300\", \"\\ud559\\ub144\", \"\\ub098\\uba74\", \"\\uc911\\ud559\\uc0dd\", \"\\uc6b8\", \"\\uc0ac\\ucd98\\uae30\", \"\\uc678\\ub85c\\uc6c0\", \"\\ud3b8\\uc758\\uc810\", \"\\ud559\\uc6d0\", \"\\ucc3e\\uc544\\uac00\\ub294\", \"\\ubcf4\\ub77c\", \"\\ub2e4\\ub2c8\\ub294\", \"\\uc544\\ub974\\ubc14\\uc774\\ud2b8\", \"\\uc190\\ub2d8\", \"\\uc5c4\\ub9c8\", \"\\uc544\\ud514\", \"\\uce5c\\uad6c\", \"\\uc0c1\\ucc98\", \"\\uc544\\uc774\", \"\\uace0\\ubbfc\", \"\\uace0\\ub4f1\\ud559\\uad50\", \"\\uafc8\", \"\\ubd80\\ubaa8\", \"\\uc131\\uc801\", \"\\uc6b4\\uc601\", \"\\uc704\\ub85c\", \"\\ub3d9\\uc0dd\", \"\\uac00\\uc871\", \"\\uc778\\uc0dd\", \"\\uacf5\\uac10\", \"\\uc18c\\ub144\", \"\\uc900\", \"\\ub0a8\", \"\\uad00\\uacc4\", \"\\uac00\\uc2b4\", \"\\uc2dc\\uc808\", \"\\uac10\\ub3d9\", \"\\ud604\\uc2e4\", \"\\uc790\\uae30\", \"\\uae38\", \"\\ud070\", \"\\ud798\", \"\\ub530\\ub73b\\ud55c\", \"\\uc9d1\", \"\\uad11\\ud65c\\ud55c\", \"\\ub300\\uc5d0\", \"\\ub3c4\\ubc15\", \"\\ub4e4\\uc5b4\\uc904\", \"\\uc0c1\\uc2b9\", \"\\uc0dd\\uc120\", \"\\uc219\\uba85\", \"\\uc624\\uc0ac\\uce74\", \"\\uc78a\\uc5b4\\ubc84\\ub9b0\", \"\\uc870\\uc120\\uc778\", \"\\ucc98\\uc808\\ud55c\", \"\\ud63c\", \"\\ub04c\\ub9ac\\ub294\", \"\\uc591\\ucabd\", \"\\ubd04\\uc774\\uba74\", \"\\uc2a4\\uce94\\ub4e4\", \"\\ud558\\uc600\\uc73c\\ub098\", \"\\uae30\\uc05c\", \"\\uc775\\uc5b4\", \"\\ud1b5\\uc9f8\", \"\\uce68\\uc6b8\\ud55c\", \"\\ubc1b\", \"\\uc6b0\\uc560\", \"\\uce58\\ub9c8\", \"\\uace0\\uc544\", \"\\uba85\\ubd84\", \"\\ubb34\\ub974\", \"\\uad81\", \"\\ub9cc\\ub098\\uc11c\", \"\\ud0c0\\ub798\", \"\\uc5ec\\uc778\", \"\\uc870\\uc120\", \"\\uc655\", \"\\uc0ac\\ub0b4\", \"\\ub2ec\\ube5b\", \"\\uc138\\uc790\", \"\\uc885\\uc774\", \"\\ubc31\\uc131\", \"\\uc5ed\\uc0ac\\uc18c\\uc124\", \"\\uccad\", \"\\uc544\\ube44\", \"\\ubd84\\ub7c9\", \"\\uad6c\\ub974\", \"\\uc77c\\ub7ec\\uc2a4\\ud2b8\", \"\\ub204\\uc801\", \"\\uac00\\ubb38\", \"\\ud488\\uc740\", \"\\uc138\\ub825\", \"\\ud654\\uc0b4\", \"\\uc655\\uc790\", \"\\uacbd\\ubbfc\", \"\\ubc97\", \"\\ud655\\uc815\", \"\\uad70\\uc8fc\", \"\\uadf8\\ub300\", \"\\uad6c\\ub984\", \"\\uad81\\uad90\", \"\\ucd0c\", \"\\ud669\\uc81c\", \"\\ud558\\ub9ac\", \"\\uaf43\", \"\\ucc9c\\ud558\", \"\\uc2e0\\ubd84\", \"\\uad8c\\ub825\", \"\\uc6f9\\uc18c\\uc124\", \"\\uc5ed\\uc0ac\", \"\\ub85c\\ub9e8\\uc2a4\", \"\\uc7a0\", \"\\uc778\\uc5f0\", \"\\uadf8\\ub9b0\", \"\\ubd04\", \"\\ubaa9\\uc228\", \"\\uc6d0\\uc791\", \"\\uac00\\uc2b4\", \"\\uc6b4\\uba85\", \"\\ud5a5\", \"\\uc81c\\uc791\", \"\\uac10\\ub3d9\", \"\\ub098\\ub77c\", \"\\uc544\\ub294\", \"\\uacfc\\uac70\", \"\\uadf8\\ub140\", \"\\uc9c4\", \"\\uc2dc\\ub300\", \"\\uc0ac\\uc774\", \"\\ub2ec\\ub9ac\", \"\\uac04\\ub2e4\", \"\\uac70\\ubd80\", \"\\uacaa\\ub294\\ub2e4\", \"\\uacbd\\uba78\", \"\\uacbd\\uc81c\", \"\\ub300\\ud559\\uc0dd\", \"\\ubb3b\\uac8c\", \"\\ubcf4\\uc5ec\\uc8fc\\uba70\", \"\\uc218\\ub2e8\", \"\\uc2e0\\uc74c\", \"\\uc774\\ubbfc\\uc790\", \"\\uc784\\uc2e0\", \"\\uc9c4\\ubd80\\ud55c\", \"\\ucc45\\uc784\\uc838\\uc57c\", \"\\ud0c8\\uace0\", \"\\ud0dc\\uc5b4\\ub0ac\\uc9c0\\ub9cc\", \"\\ud480\\uc5b4\\ub098\", \"\\ud48d\\ubd80\\ud558\\uac8c\", \"\\ud48d\\uc694\", \"\\ud568\\ucd95\", \"\\ud589\\uac04\", \"\\ud6c8\", \"\\uac01\\uc624\", \"\\uacf5\\ubb34\\uc6d0\", \"\\ucde8\\uc7ac\", \"\\ud478\\ub294\", \"\\ud68c\\ubcf5\\ud560\", \"\\uadfc\\ubcf8\", \"\\uc2dc\\uc7a5\", \"\\uc2e4\\ud5d8\", \"\\uae30\\uc5c5\", \"\\uc695\\ub9dd\", \"\\uc5ec\\uc131\", \"\\ub300\\ud55c\\ubbfc\\uad6d\", \"\\uc815\\uce58\", \"\\uc0d8\", \"\\uc5f4\\uc815\", \"\\ub178\\ub3d9\", \"\\ud30c\\ub9ac\", \"\\uace0\\uc591\\uc774\", \"\\uae30\\uc220\", \"\\ud589\\uc131\", \"\\uc790\\ub9e4\", \"\\uc218\\uc815\", \"\\ubcf8\\uc9c8\", \"\\ubaa8\\uc21c\", \"\\uacc4\\uae09\", \"\\uc815\\ubcf4\", \"\\uc778\\uacf5\", \"\\ub358\", \"\\ubb38\\uba85\", \"\\ub9de\\uc11c\", \"\\uae30\\ubc18\", \"\\uc5b5\\uc555\", \"\\uad00\\uc810\", \"\\ub0a8\\uc131\", \"\\uc9c0\\uad6c\", \"\\ud1b5\\ucc30\", \"\\uacfc\\ud559\", \"\\uc9c0\\uc801\", \"\\uc778\\ub958\", \"\\uacb0\\ud63c\", \"\\uc0ac\\ud68c\", \"\\uc911\\uad6d\", \"\\uc6b0\\uc8fc\", \"\\ubbf8\\ub798\", \"\\uc0ac\\uc2e4\", \"\\uc0c1\\ud669\", \"\\ubc30\\uacbd\", \"\\ud604\\uc2e4\", \"\\uc9c8\\ubb38\", \"\\ubc29\\uc2dd\", \"\\uc120\", \"\\ub3c8\", \"\\uc8fc\\uc758\", \"\\uac08\\ub4f1\", \"\\uc77c\\uc0c1\", \"\\uc874\\uc7ac\", \"\\uc790\\uae30\", \"\\uc5ed\\uc2dc\", \"\\uc774\\uc720\", \"\\ud798\", \"\\uc11c\\ub85c\", \"\\ub538\", \"\\uae30\\uad6c\", \"\\ub098\\uc62c\", \"\\uad6d\\ub9bd\", \"\\uae30\\ubc1c\\ud55c\", \"\\uae40\\ud638\\uc5f0\", \"\\ub3cc\\ud30c\", \"\\ub9dd\\uc6d0\\ub3d9\", \"\\ubcc0\\uc2e0\", \"\\ube0c\\ub77c\\ub354\\uc2a4\", \"\\uc2dc\\uc98c\", \"\\uc5bb\\uc73c\\uba70\", \"\\uc5ec\\ub7ec\\ubd84\", \"\\uc77d\\uc5c8\\ub2e4\", \"\\uc885\\ud569\", \"\\ud765\\ubbf8\\ub85c\\uc6b4\", \"\\ud765\\ubbf8\\uc9c4\\uc9c4\", \"\\uad81\\uae08\\uc99d\", \"\\ub118\\uccd0\\ub098\\ub294\", \"\\ub179\\uc5ec\", \"\\ub9d0\\ub9ac\", \"\\ub9de\\uc544\", \"\\ubcf4\\ub0b4\", \"\\uc124\\uc815\", \"\\uc720\", \"\\uc8fc\\uc785\", \"\\uce68\\uccb4\", \"\\uad50\\ubcf4\", \"\\ub2ec\\ub7ec\", \"\\ub3cc\\ud48d\", \"\\ube60\\uc838\\ub4dc\\ub294\", \"\\uc218\\ud559\", \"\\uc545\\ub9c8\", \"\\uc2e0\\uc758\", \"\\uc678\\ubaa8\", \"\\uc601\\uc6c5\", \"\\ub85c\\ubd07\", \"\\ub85c\\ub9f9\", \"\\uae30\\uc6a4\", \"\\uc5f0\\ub300\\uae30\", \"\\ubb88\\uc18c\", \"\\uc870\\uc9c1\", \"\\uc774\\ub098\", \"\\uc11c\\ud3c9\", \"\\uc124\\uacc4\", \"\\uc131\\ud615\", \"\\uc77d\\ub2e4\", \"\\ubc30\\uc6b0\", \"\\uc22b\\uc790\", \"\\ub808\", \"\\uc544\\ub974\", \"\\uac1c\\uc815\", \"\\uacc4\\uc57d\", \"\\ubca0\", \"\\ud0dc\\uc591\", \"\\uae30\\ubb18\\ud55c\", \"\\uc7ac\\ubbf8\", \"\\ud310\\ud0c0\\uc9c0\", \"\\uc18c\\uc7ac\", \"\\ud654\\uc81c\", \"\\ub3cc\", \"\\ub9cc\\ud07c\", \"\\ub9e4\\ub825\", \"\\uc138\\uc6d4\", \"\\uc774\\uc0c1\", \"\\ud2b9\\uc720\", \"\\uce90\\ub9ad\\ud130\", \"\\ube44\\ubc00\", \"\\ucd94\\ucc9c\", \"\\uc120\\uc0ac\", \"\\ubcf4\\uba74\", \"\\uc778\\uc0dd\", \"\\ud0c4\\uc0dd\", \"\\uc601\\ud654\", \"\\uc815\\uccb4\", \"\\ub4f1\\uc7a5\", \"\\ub3c5\\ud2b9\\ud55c\", \"\\uc7a5\\ub974\", \"\\uc644\\uc131\", \"\\uc0c1\\uc0c1\\ub825\", \"\\ud070\", \"\\ucc98\\uc74c\", \"\\uc190\", \"\\uc544\\uc774\", \"\\ub300\\ud45c\"], \"Freq\": [1010.0, 901.0, 1047.0, 532.0, 848.0, 565.0, 462.0, 506.0, 616.0, 740.0, 700.0, 747.0, 626.0, 386.0, 491.0, 567.0, 465.0, 483.0, 337.0, 543.0, 318.0, 747.0, 515.0, 313.0, 307.0, 320.0, 743.0, 448.0, 264.0, 256.0, 16.352610919904524, 7.267827075513122, 29.071308302052486, 9.084783844391403, 12.718697382147964, 47.24087599083529, 22.711959610978504, 5.450870306634841, 26.34587314873507, 16.352610919904524, 16.352610919904524, 10.901740613269682, 57.23413821966583, 13.627175766587104, 25.437394764295927, 337.04548062692106, 28.162829917613347, 17.261089304343667, 6.359348691073982, 4.542391922195701, 7.267827075513122, 21.803481226539365, 38.15609214644389, 32.70522183980905, 13.627175766587104, 6.359348691073982, 4.542391922195701, 15.444132535465384, 9.084783844391403, 16.352610919904524, 116.28523320820995, 96.29870875054887, 85.39696813727919, 77.22066267732693, 73.58674913957036, 63.59348691073981, 61.776530141861535, 52.69174629747014, 52.69174629747014, 49.05783275971358, 49.05783275971358, 48.149354375274434, 46.33239760639616, 46.33239760639616, 45.42391922195701, 42.698484068639594, 38.15609214644389, 37.24761376200475, 36.33913537756561, 36.33913537756561, 35.43065699312647, 34.522178608687334, 34.522178608687334, 33.613700224248184, 33.613700224248184, 33.613700224248184, 67.22740044849637, 206.22459326768484, 387.0117917710737, 73.58674913957036, 60.8680517574224, 57.23413821966583, 148.08197666357987, 126.27849543704049, 46.33239760639616, 120.82762513040565, 69.04435721737467, 656.8298719494984, 374.2930943889258, 476.04267344610946, 91.75631682835316, 111.74284128601425, 70.86131398625294, 225.30263934090678, 71.76979237069207, 213.49242034319795, 196.2313310388543, 105.38349259494028, 95.39023036610972, 89.9393600594749, 87.21392490615746, 125.37001705260137, 137.18023605031016, 106.2919709793794, 129.91240897479705, 135.36327928143191, 103.56653582606198, 132.63784412811447, 93.57327359723145, 111.74284128601425, 94.48175198167058, 12.776437947483128, 26.465478605500767, 20.98986234229371, 33.76630028977684, 23.727670473897238, 6.388218973741564, 6.388218973741564, 23.727670473897238, 5.475616263207055, 34.67890300031135, 5.475616263207055, 24.64027318443175, 6.388218973741564, 79.39643581650229, 23.727670473897238, 33.76630028977684, 94.91068189558895, 20.98986234229371, 23.727670473897238, 12.776437947483128, 6.388218973741564, 11.863835236948619, 10.95123252641411, 11.863835236948619, 11.863835236948619, 6.388218973741564, 6.388218973741564, 17.339451500155675, 38.32931384244939, 46.54273823725997, 138.7156120012454, 86.69725750077838, 303.8967026079916, 82.13424394810583, 82.13424394810583, 76.65862768489878, 74.83342226382975, 64.79479244795016, 60.23177889527761, 57.49397076367408, 55.668765342605056, 52.930957211001534, 50.19314907939801, 46.54273823725997, 46.54273823725997, 44.71753281619095, 41.06712197405292, 39.241916552983895, 36.50410842138037, 35.59150571084586, 35.59150571084586, 34.67890300031135, 34.67890300031135, 247.31533455485203, 207.1608152913336, 196.2095827649195, 407.9334116089256, 83.04684665864033, 464.51477966206517, 111.33753068521011, 153.31725536979755, 51.10575178993251, 102.21150357986502, 294.7706755026465, 155.14246079086658, 144.19122826445243, 147.8416391065905, 240.92711558111043, 80.3090385270368, 160.6180770540736, 146.0164336855215, 317.58574326600916, 138.7156120012454, 116.81314694841718, 244.57752642324846, 110.42492797467561, 116.81314694841718, 146.92903639605598, 155.14246079086658, 109.51232526414111, 155.14246079086658, 128.6769821853658, 129.58958489590032, 161.53067976460812, 127.76437947483127, 117.72574965895168, 114.98794152734816, 117.72574965895168, 8.894818637577208, 15.36377764672427, 5.660339133003678, 4.851719256860295, 29.11031554116177, 19.40687702744118, 37.196514302595595, 9.70343851372059, 22.64135653201471, 47.70857269245957, 4.851719256860295, 69.5413093483309, 5.660339133003678, 17.789637275154416, 16.981017399011034, 75.20164848133457, 4.043099380716913, 58.22063108232354, 21.024116779727947, 5.660339133003678, 5.660339133003678, 8.894818637577208, 4.851719256860295, 54.986151577750014, 4.043099380716913, 4.043099380716913, 50.134432320889715, 8.894818637577208, 4.043099380716913, 29.11031554116177, 81.67060749048163, 58.22063108232354, 55.79477145389339, 50.134432320889715, 49.32581244474633, 46.89995281631619, 45.28271306402942, 42.048233559455895, 39.62237393102574, 38.00513417873898, 36.38789442645221, 35.57927455030883, 34.77065467416545, 34.77065467416545, 33.96203479802207, 33.15341492187868, 31.536175169591917, 30.72755529344854, 29.918935417305153, 29.918935417305153, 29.918935417305153, 83.28784724276841, 62.263730463040446, 104.31196402249634, 51.751672073176486, 88.94818637577207, 62.263730463040446, 77.62750810976472, 595.1442288415295, 198.92048953127212, 46.091332940172805, 136.65675906823165, 152.82915659109932, 70.34992922447428, 107.54644352706987, 155.25501621952944, 78.4361279859081, 135.0395193159449, 85.71370687119854, 96.22576526106252, 198.11186965512874, 208.62392804499268, 154.44639634338606, 128.57056030679783, 118.86712179307723, 115.6326422885037, 158.48949572410297, 177.08775287540075, 124.52746092608089, 139.89123857280518, 110.78092303164341, 177.08775287540075, 174.66189324697064, 107.54644352706987, 92.99128575648899, 164.95845473325002, 118.86712179307723, 107.54644352706987, 115.6326422885037, 105.92920377478312, 111.58954290778678, 114.82402241236032, 109.16368327935665, 105.92920377478312, 105.92920377478312, 10.574872500728896, 25.37969400174935, 61.334260504227586, 23.264719501603572, 7.402410750510227, 12.689847000874675, 89.88641625619562, 59.219286004081816, 49.70190075342581, 50.7593880034987, 7.402410750510227, 15.862308751093344, 8.459898000583117, 14.804821501020454, 21.14974500145779, 31.72461750218669, 53.931849753717366, 7.402410750510227, 25.37969400174935, 15.862308751093344, 13.747334250947564, 7.402410750510227, 11.632359750801786, 6.344923500437337, 25.37969400174935, 23.264719501603572, 5.287436250364448, 6.344923500437337, 14.804821501020454, 54.989337003790254, 105.74872500728895, 93.05887800641429, 87.77144175604984, 63.44923500437338, 56.04682425386315, 54.989337003790254, 53.931849753717366, 53.931849753717366, 52.87436250364448, 50.7593880034987, 46.529439003207145, 46.529439003207145, 46.529439003207145, 45.47195175313425, 45.47195175313425, 44.41446450306136, 44.41446450306136, 100.4612887569245, 43.35697725298847, 43.35697725298847, 42.29949000291558, 42.29949000291558, 42.29949000291558, 303.4988407709193, 150.16318951035032, 60.276773254154705, 56.04682425386315, 180.83031976246411, 68.73667125473783, 181.887807012537, 123.7260082585281, 81.4265182556125, 185.06026876275567, 135.35836800932987, 242.16458026669173, 112.0936485077263, 71.9091330049565, 140.6458042596943, 327.8210475225958, 149.1057022602774, 141.70329150976718, 98.34631425677873, 140.6458042596943, 71.9091330049565, 127.95595725881964, 122.66852100845517, 126.89847000874676, 84.59898000583117, 96.23133975663296, 215.72739901486946, 92.0013907563414, 154.39313851064188, 230.53222051588992, 115.26611025794496, 105.74872500728895, 173.4279090119539, 143.818266009913, 129.01344450889252, 103.63375050714318, 103.63375050714318, 111.0361612576534, 105.74872500728895, 105.74872500728895, 93.97931668898775, 15.88382817278666, 25.149394606912214, 72.8008791252722, 22.50208991144777, 92.65566434125552, 11.912871129589995, 10.589218781857774, 6.618261738661109, 14.560175825054438, 62.21166034341442, 10.589218781857774, 6.618261738661109, 29.120351650108876, 7.94191408639333, 14.560175825054438, 11.912871129589995, 21.178437563715548, 25.149394606912214, 7.94191408639333, 30.4440039978411, 6.618261738661109, 58.24070330021775, 37.062265736502205, 91.33201199352331, 9.265566434125551, 23.82574225917999, 7.94191408639333, 15.88382817278666, 14.560175825054438, 174.72210990065327, 158.83828172786662, 138.9834965118833, 132.36523477322217, 128.39427773002552, 100.59757842764886, 96.62662138445219, 90.00835964579107, 87.36105495032663, 86.03740260259441, 76.77183616846885, 71.47722677753997, 71.47722677753997, 68.82992208207553, 67.50626973434332, 66.18261738661108, 66.18261738661108, 66.18261738661108, 63.53531269114664, 62.21166034341442, 60.8880079956822, 60.8880079956822, 59.56435564794998, 58.24070330021775, 74.12453147300441, 227.66820380994213, 79.41914086393331, 124.42332068682884, 72.8008791252722, 127.07062538229329, 83.39009790712997, 189.28228572570774, 93.97931668898775, 395.77205197193433, 207.8134185939588, 174.72210990065327, 115.1577542527033, 120.45236364363218, 187.9586333779755, 140.30714885961552, 121.7760159913644, 144.27810590281217, 177.36941459611774, 136.33619181641885, 131.04158242548996, 164.1328911187955, 157.5146293801344, 135.01253946868664, 132.36523477322217, 123.09966833909664, 113.83410190497106, 100.59757842764886, 113.83410190497106, 107.21584016630996, 107.21584016630996, 8.845242121125867, 11.793656161501156, 213.26861558714592, 5.896828080750578, 9.828046801250965, 8.845242121125867, 5.896828080750578, 163.145576900766, 17.690484242251735, 5.896828080750578, 9.828046801250965, 4.914023400625482, 17.690484242251735, 5.896828080750578, 17.690484242251735, 9.828046801250965, 5.896828080750578, 9.828046801250965, 9.828046801250965, 24.57011700312741, 9.828046801250965, 9.828046801250965, 11.793656161501156, 4.914023400625482, 17.690484242251735, 8.845242121125867, 19.65609360250193, 8.845242121125867, 8.845242121125867, 35.38096848450347, 386.24223928916285, 215.23422494739614, 154.30033477964014, 211.30300622689575, 120.88497565538685, 115.97095225476139, 115.97095225476139, 112.039733534261, 109.0913194938857, 107.12571013363552, 106.14290545351042, 106.14290545351042, 93.36644461188416, 90.41803057150888, 87.46961653113358, 82.5555931305081, 82.5555931305081, 79.6071790901328, 79.6071790901328, 168.05960030139147, 68.79632760875676, 159.2143581802656, 64.86510888825636, 62.899499528006174, 57.002671447255594, 56.0198667671305, 54.0542574068803, 53.07145272675521, 911.0599384759644, 69.77913228888185, 126.78180373613743, 67.81352292863166, 147.42070201876444, 134.6442411771382, 136.6098505373884, 223.0966623883969, 106.14290545351042, 102.21168673301003, 129.73021777651272, 146.43789733863937, 124.81619437588725, 98.28046801250964, 92.38363993175906, 20.42272839078905, 22.124622423354804, 6.8075761302630164, 5.1056820976972626, 11.062311211677402, 81.6909135631562, 85.09470162828771, 20.42272839078905, 11.062311211677402, 5.1056820976972626, 264.64452206397476, 8.509470162828771, 5.1056820976972626, 5.1056820976972626, 5.1056820976972626, 30.634092586183574, 7.658523146545893, 8.509470162828771, 6.8075761302630164, 11.913258227960279, 12.764205244243156, 17.86988734194042, 20.42272839078905, 15.317046293091787, 23.826516455920558, 5.9566291139801395, 10.211364195394525, 11.062311211677402, 4.254735081414386, 6.8075761302630164, 462.0642298416022, 178.69887341940418, 155.7233039797665, 143.81004575180623, 97.85890687253087, 76.58523146545893, 73.18144340032742, 72.33049638404455, 68.07576130263017, 63.82102622121577, 62.11913218865002, 60.41723815608427, 56.16250307466988, 54.46060904210413, 54.46060904210413, 51.9077679932555, 48.50397992812399, 44.24924484670961, 44.24924484670961, 44.24924484670961, 43.39829783042673, 42.547350814143854, 42.547350814143854, 41.696403797860974, 41.696403797860974, 39.99450976529522, 39.99450976529522, 74.88333743289319, 464.6170708904508, 77.4361784817418, 508.8663157371604, 259.5388399662775, 778.6165198988324, 226.3519063312453, 61.26818517236715, 371.0128990993344, 112.32500614933976, 73.18144340032742, 74.88333743289319, 146.36288680065485, 86.79659566085346, 288.47103851989533, 245.0727406894686, 139.55531067039183, 184.65550253338432, 102.11364195394525, 108.92121808420826, 145.51193978437198, 119.98352929588565, 140.4062576866747, 126.79110542614866, 157.42519801233226, 124.23826437730004, 114.02690018190552, 103.815535986511, 101.26269493766237, 90.20038372598496, 98.70985388881374, 26.0684238446925, 17.378949229794998, 17.378949229794998, 10.137720384047084, 17.378949229794998, 10.137720384047084, 21.72368653724375, 10.137720384047084, 10.137720384047084, 17.378949229794998, 24.620178075542913, 98.48071230217165, 8.689474614897499, 8.689474614897499, 10.137720384047084, 8.689474614897499, 10.137720384047084, 24.620178075542913, 10.137720384047084, 21.72368653724375, 13.03421192234625, 8.689474614897499, 13.03421192234625, 17.378949229794998, 24.620178075542913, 8.689474614897499, 10.137720384047084, 81.10176307237667, 13.03421192234625, 17.378949229794998, 256.3395011394762, 317.16582344375877, 312.82108613631004, 127.44562768516333, 125.99738191601375, 118.75615307026584, 91.23948345642374, 85.44650037982542, 70.96404268832958, 69.51579691917999, 69.51579691917999, 65.17105961173125, 57.92983076598333, 55.033339227684166, 53.58509345853459, 53.58509345853459, 52.136847689385, 52.136847689385, 50.68860192023542, 50.68860192023542, 49.24035615108583, 49.24035615108583, 47.79211038193625, 47.79211038193625, 46.34386461278667, 44.89561884363708, 43.4473730744875, 41.999127305337915, 76.7570257649279, 75.30877999577832, 194.06493306604415, 55.033339227684166, 70.96404268832958, 127.44562768516333, 130.3421192234625, 362.06144228739583, 188.27194998944583, 85.44650037982542, 81.10176307237667, 134.68685653091126, 111.51492422451791, 115.85966153196667, 79.65351730322709, 130.3421192234625, 156.41054306815502, 179.58247537454832, 131.79036499261207, 137.58334806921042, 95.5842207638725, 91.23948345642374, 121.65264460856501, 143.37633114580873, 91.23948345642374, 123.10089037771459, 117.30790730111626, 89.79123768727416, 86.894746148975, 91.98410510400147, 9.107337139010047, 9.107337139010047, 51.911821692357265, 33.697147414337174, 5.464402283406028, 20.946875419723106, 20.946875419723106, 10.928804566812056, 28.232745130931146, 67.39429482867435, 7.285869711208037, 6.375135997307034, 10.928804566812056, 9.107337139010047, 5.464402283406028, 6.375135997307034, 18.214674278020095, 8.196603425109043, 6.375135997307034, 6.375135997307034, 8.196603425109043, 22.76834284752512, 51.911821692357265, 7.285869711208037, 6.375135997307034, 27.32201141703014, 53.73328912015928, 42.80448455334722, 24.589810275327128, 193.075547347013, 524.5826192069787, 86.51970282059546, 82.87676796499143, 81.96603425109042, 81.05530053718942, 79.2338331093874, 77.4123656815854, 74.68016453988238, 71.03722968427837, 71.03722968427837, 69.21576225647635, 68.30502854257536, 61.01915883136732, 59.1976914035653, 53.73328912015928, 51.00108797845627, 51.00108797845627, 46.44741940895124, 44.62595198114923, 43.715218267248225, 42.80448455334722, 42.80448455334722, 40.98301712554521, 71.03722968427837, 142.98519308245773, 78.32309939548641, 127.50271994614066, 51.911821692357265, 141.16372565465574, 182.14674278020095, 391.61549697743203, 127.50271994614066, 126.59198623223966, 203.09361819992404, 166.66426964388387, 119.30611652103161, 102.00217595691254, 147.53886165196275, 103.82364338471453, 98.35924110130851, 102.91290967081353, 91.98410510400147, 86.51970282059546, 88.34117024839746, 96.5377736735065, 106.55584452641756, 96.5377736735065, 88.34117024839746, 91.07337139010048, 91.07337139010048, 91.07337139010048, 82.87676796499143, 17.366460479181637, 42.83726918198137, 9.26211225556354, 45.15279724587226, 26.628572734745177, 50.94161740559947, 47.46832530976314, 34.73292095836327, 24.313044670854293, 31.25962886252695, 13.89316838334531, 30.101864830581505, 24.313044670854293, 27.78633676669062, 65.99254982089022, 87.99006642785363, 25.470808702799737, 8.104348223618096, 41.679505150035936, 30.101864830581505, 56.73043756532669, 20.839752575017968, 104.19876287508983, 84.5167743320173, 9.26211225556354, 5.788820159727213, 15.050932415290752, 48.626089341708585, 21.99751660696341, 10.419876287508984, 174.82236882376182, 135.45839173761678, 114.6186391625988, 84.5167743320173, 82.20124626812641, 79.88571820423553, 65.99254982089022, 64.83478578894477, 64.83478578894477, 63.67702175699934, 63.67702175699934, 63.67702175699934, 60.20372966116301, 55.57267353338124, 54.4149095014358, 53.257145469490354, 52.09938143754491, 52.09938143754491, 49.783853373654026, 49.783853373654026, 48.626089341708585, 47.46832530976314, 94.93665061952628, 78.7279541722901, 72.93913401256287, 243.13044670854293, 215.3441099418523, 171.34907672792548, 106.51429093898071, 123.88075141816235, 210.71305381407055, 210.71305381407055, 166.71802060014375, 232.71057042103396, 134.30062770567133, 153.98261624874385, 174.82236882376182, 94.93665061952628, 121.56522335427147, 134.30062770567133, 223.44845816547038, 127.35404351399868, 156.29814431263472, 131.98509964178044, 163.2447285043074, 119.24969529038057, 127.35404351399868, 111.14534706676248, 115.77640319454424, 126.19627948205323, 116.93416722648969, 115.77640319454424, 122.7229873862169, 109.98758303481704], \"Total\": [1010.0, 901.0, 1047.0, 532.0, 848.0, 565.0, 462.0, 506.0, 616.0, 740.0, 700.0, 747.0, 626.0, 386.0, 491.0, 567.0, 465.0, 483.0, 337.0, 543.0, 318.0, 747.0, 515.0, 313.0, 307.0, 320.0, 743.0, 448.0, 264.0, 256.0, 16.352610919904524, 7.267827075513122, 29.071308302052486, 9.084783844391403, 12.718697382147964, 47.24087599083529, 22.711959610978504, 5.450870306634841, 26.34587314873507, 16.352610919904524, 16.352610919904524, 10.901740613269682, 57.23413821966583, 13.627175766587104, 25.437394764295927, 337.04548062692106, 28.162829917613347, 17.261089304343667, 6.359348691073982, 4.542391922195701, 7.267827075513122, 21.803481226539365, 38.15609214644389, 32.70522183980905, 13.627175766587104, 6.359348691073982, 4.542391922195701, 15.444132535465384, 9.084783844391403, 16.352610919904524, 116.28523320820995, 96.29870875054887, 85.39696813727919, 77.22066267732693, 73.58674913957036, 63.59348691073981, 61.776530141861535, 52.69174629747014, 52.69174629747014, 49.05783275971358, 49.05783275971358, 48.149354375274434, 46.33239760639616, 46.33239760639616, 45.42391922195701, 42.698484068639594, 38.15609214644389, 37.24761376200475, 36.33913537756561, 36.33913537756561, 35.43065699312647, 34.522178608687334, 34.522178608687334, 33.613700224248184, 33.613700224248184, 33.613700224248184, 68.55105279622859, 227.94827980492857, 465.6938397599682, 78.87418538993481, 64.04051350764107, 59.90655266375072, 171.15200974983335, 146.49399234062506, 47.65604995412838, 143.9829057693145, 75.8252647296951, 1047.2408900307987, 543.795979976194, 747.2609521391158, 110.35457397965097, 145.8318575044548, 80.99903437030002, 432.6776448855541, 89.55942964584649, 563.3701346565168, 507.7741418202005, 180.49171856793924, 152.2092095333125, 140.6401921502915, 132.91141552201665, 279.3021520197507, 337.643470459275, 225.06016269249093, 404.2066370082568, 521.1293489301918, 243.8817978985458, 616.8415206903762, 205.68851516850725, 483.5561864843421, 563.0499688768425, 12.776437947483128, 26.465478605500767, 20.98986234229371, 33.76630028977684, 23.727670473897238, 6.388218973741564, 6.388218973741564, 23.727670473897238, 5.475616263207055, 34.67890300031135, 5.475616263207055, 24.64027318443175, 6.388218973741564, 79.39643581650229, 23.727670473897238, 33.76630028977684, 94.91068189558895, 20.98986234229371, 23.727670473897238, 12.776437947483128, 6.388218973741564, 11.863835236948619, 10.95123252641411, 11.863835236948619, 11.863835236948619, 6.388218973741564, 6.388218973741564, 17.339451500155675, 38.32931384244939, 46.54273823725997, 138.7156120012454, 86.69725750077838, 307.827921328492, 82.13424394810583, 82.13424394810583, 76.65862768489878, 74.83342226382975, 64.79479244795016, 60.23177889527761, 57.49397076367408, 55.668765342605056, 52.930957211001534, 50.19314907939801, 46.54273823725997, 46.54273823725997, 44.71753281619095, 41.06712197405292, 39.241916552983895, 36.50410842138037, 35.59150571084586, 35.59150571084586, 34.67890300031135, 34.67890300031135, 267.4508678781469, 226.23886136455553, 218.71167267636727, 491.6811237619175, 89.92647941951601, 616.8415206903762, 127.14802600911983, 185.02910015168482, 53.53161141836266, 122.06628879584835, 448.98621539420196, 215.0214753122734, 199.18056526824267, 215.91740040922065, 416.23593348645215, 97.14822037212136, 258.7955432503646, 227.41721635186389, 747.465618922094, 222.61543645427273, 171.94648291747455, 567.9456441955492, 166.43715560466927, 194.29758359622667, 347.71657491927544, 398.23791512212813, 191.8359430419556, 561.0478983181947, 358.2345062304976, 378.72528475900816, 1047.2408900307987, 521.1293489301918, 325.51311578342336, 277.2760112435568, 411.85711724147154, 8.894818637577208, 15.36377764672427, 5.660339133003678, 4.851719256860295, 29.11031554116177, 19.40687702744118, 37.196514302595595, 9.70343851372059, 22.64135653201471, 47.70857269245957, 4.851719256860295, 69.5413093483309, 5.660339133003678, 17.789637275154416, 16.981017399011034, 75.20164848133457, 4.043099380716913, 58.22063108232354, 21.024116779727947, 5.660339133003678, 5.660339133003678, 8.894818637577208, 4.851719256860295, 54.986151577750014, 4.043099380716913, 4.043099380716913, 50.134432320889715, 8.894818637577208, 4.043099380716913, 29.11031554116177, 81.67060749048163, 58.22063108232354, 55.79477145389339, 50.134432320889715, 49.32581244474633, 46.89995281631619, 45.28271306402942, 42.048233559455895, 39.62237393102574, 38.00513417873898, 36.38789442645221, 35.57927455030883, 34.77065467416545, 34.77065467416545, 33.96203479802207, 33.15341492187868, 31.536175169591917, 30.72755529344854, 29.918935417305153, 29.918935417305153, 29.918935417305153, 84.98974127533417, 63.17446417694145, 107.33751040279432, 52.66015045761563, 94.4125886591781, 65.78258126448449, 85.73185633338281, 848.930187388157, 252.05548913635715, 48.816768093490225, 191.16119983937776, 226.95368806410374, 84.91010504952872, 151.85517473640743, 253.61425732083796, 102.02344030891041, 233.3858335727236, 122.23078476001481, 150.68127186788053, 508.1436652715821, 563.3701346565168, 352.37385906738575, 257.4254368264976, 224.69737676008003, 224.0922287932395, 404.7932375683926, 521.1293489301918, 262.0176990260662, 342.6834221303112, 213.5193461751257, 563.0499688768425, 593.9340829885715, 211.0845034497145, 150.90171390172182, 747.465618922094, 303.53638541300893, 268.15530458258246, 378.5682688502386, 277.2760112435568, 393.96778036983204, 483.5561864843421, 361.8274808234277, 307.2417240030768, 561.0478983181947, 10.574872500728896, 25.37969400174935, 61.334260504227586, 23.264719501603572, 7.402410750510227, 12.689847000874675, 89.88641625619562, 59.219286004081816, 49.70190075342581, 50.7593880034987, 7.402410750510227, 15.862308751093344, 8.459898000583117, 14.804821501020454, 21.14974500145779, 31.72461750218669, 53.931849753717366, 7.402410750510227, 25.37969400174935, 15.862308751093344, 13.747334250947564, 7.402410750510227, 11.632359750801786, 6.344923500437337, 25.37969400174935, 23.264719501603572, 5.287436250364448, 6.344923500437337, 14.804821501020454, 54.989337003790254, 105.74872500728895, 93.05887800641429, 87.77144175604984, 63.44923500437338, 56.04682425386315, 54.989337003790254, 53.931849753717366, 53.931849753717366, 52.87436250364448, 50.7593880034987, 46.529439003207145, 46.529439003207145, 46.529439003207145, 45.47195175313425, 45.47195175313425, 44.41446450306136, 44.41446450306136, 101.31223577320738, 43.35697725298847, 43.35697725298847, 42.29949000291558, 42.29949000291558, 42.29949000291558, 320.838292271075, 164.1504820918201, 61.89401300644147, 57.37047660159537, 208.1411607976623, 73.65069465536331, 240.69496005049177, 153.5509963298881, 93.26605653632556, 269.1567358816675, 184.6841804540762, 404.39471742470664, 148.48154293417852, 82.8221502655355, 215.32596879957669, 743.6575223225292, 246.28826605969923, 234.83243537921265, 136.56634402522639, 239.60940583671547, 84.67333824919966, 215.78774882978564, 202.2893214823084, 214.878479977464, 111.0720269604756, 139.67759243222946, 626.7639781683574, 129.83546056323553, 342.6834221303112, 740.1346708183116, 203.6907211872586, 171.59663857567043, 502.76336538675133, 365.305783889121, 302.5594481880429, 168.9538434872132, 172.98827628942684, 358.2572954851843, 304.23971195516276, 457.79067635198766, 93.97931668898775, 15.88382817278666, 25.149394606912214, 72.8008791252722, 22.50208991144777, 92.65566434125552, 11.912871129589995, 10.589218781857774, 6.618261738661109, 14.560175825054438, 62.21166034341442, 10.589218781857774, 6.618261738661109, 29.120351650108876, 7.94191408639333, 14.560175825054438, 11.912871129589995, 21.178437563715548, 25.149394606912214, 7.94191408639333, 30.4440039978411, 6.618261738661109, 58.24070330021775, 37.062265736502205, 91.33201199352331, 9.265566434125551, 23.82574225917999, 7.94191408639333, 15.88382817278666, 14.560175825054438, 174.72210990065327, 158.83828172786662, 138.9834965118833, 132.36523477322217, 128.39427773002552, 100.59757842764886, 96.62662138445219, 90.00835964579107, 87.36105495032663, 86.03740260259441, 76.77183616846885, 71.47722677753997, 71.47722677753997, 68.82992208207553, 67.50626973434332, 66.18261738661108, 66.18261738661108, 66.18261738661108, 63.53531269114664, 62.21166034341442, 60.8880079956822, 60.8880079956822, 59.56435564794998, 58.24070330021775, 74.93315134914779, 247.9436445780363, 81.03638061622007, 138.65210697868002, 74.91585362541798, 143.99042138345953, 87.93248982932568, 235.78955000344504, 103.9725789178183, 700.7361116362293, 309.125303825258, 279.67142161212183, 152.14404894439366, 166.61304523970958, 378.72528475900816, 303.1247055540782, 231.39574277519012, 353.83934452583037, 593.9340829885715, 388.4573951723321, 358.2572954851843, 743.6575223225292, 747.465618922094, 432.6776448855541, 502.76336538675133, 391.14693180872496, 274.44959866895, 171.33331464223832, 848.930187388157, 395.5244787966702, 507.7741418202005, 8.845242121125867, 11.793656161501156, 213.26861558714592, 5.896828080750578, 9.828046801250965, 8.845242121125867, 5.896828080750578, 163.145576900766, 17.690484242251735, 5.896828080750578, 9.828046801250965, 4.914023400625482, 17.690484242251735, 5.896828080750578, 17.690484242251735, 9.828046801250965, 5.896828080750578, 9.828046801250965, 9.828046801250965, 24.57011700312741, 9.828046801250965, 9.828046801250965, 11.793656161501156, 4.914023400625482, 17.690484242251735, 8.845242121125867, 19.65609360250193, 8.845242121125867, 8.845242121125867, 35.38096848450347, 386.24223928916285, 215.23422494739614, 154.30033477964014, 212.4607702588412, 120.88497565538685, 115.97095225476139, 115.97095225476139, 112.039733534261, 109.0913194938857, 107.12571013363552, 106.14290545351042, 106.14290545351042, 93.36644461188416, 90.41803057150888, 87.46961653113358, 82.5555931305081, 82.5555931305081, 79.6071790901328, 79.6071790901328, 169.3832526491237, 68.79632760875676, 160.6626039494152, 64.86510888825636, 62.899499528006174, 57.002671447255594, 56.0198667671305, 54.0542574068803, 53.07145272675521, 1010.457661453657, 70.58775216502524, 139.5005011182854, 70.04977798689839, 177.50314083713724, 168.04317559849886, 181.61403036028395, 390.83740670672205, 131.214581926864, 139.9914586565573, 378.5682688502386, 747.2609521391158, 563.0499688768425, 217.73597784607713, 457.79067635198766, 20.42272839078905, 22.124622423354804, 6.8075761302630164, 5.1056820976972626, 11.062311211677402, 81.6909135631562, 85.09470162828771, 20.42272839078905, 11.062311211677402, 5.1056820976972626, 264.64452206397476, 8.509470162828771, 5.1056820976972626, 5.1056820976972626, 5.1056820976972626, 30.634092586183574, 7.658523146545893, 8.509470162828771, 6.8075761302630164, 11.913258227960279, 12.764205244243156, 17.86988734194042, 20.42272839078905, 15.317046293091787, 23.826516455920558, 5.9566291139801395, 10.211364195394525, 11.062311211677402, 4.254735081414386, 6.8075761302630164, 462.0642298416022, 178.69887341940418, 155.7233039797665, 143.81004575180623, 97.85890687253087, 76.58523146545893, 73.18144340032742, 72.33049638404455, 68.07576130263017, 63.82102622121577, 62.11913218865002, 60.41723815608427, 56.16250307466988, 54.46060904210413, 54.46060904210413, 51.9077679932555, 48.50397992812399, 44.24924484670961, 44.24924484670961, 44.24924484670961, 43.39829783042673, 42.547350814143854, 42.547350814143854, 41.696403797860974, 41.696403797860974, 39.99450976529522, 39.99450976529522, 75.69195730903657, 506.9165608933664, 79.25313525062009, 565.868987184416, 282.71077227267085, 901.3395072850493, 252.42033017593778, 63.383159672512924, 483.21247612233884, 133.26031797170123, 80.46731311153546, 83.72857955401905, 206.02826592600556, 104.13604716100913, 567.9456441955492, 515.7620748457742, 221.62175622978958, 353.83934452583037, 142.29815745671505, 178.27902408483095, 361.8274808234277, 250.32564851934814, 365.305783889121, 338.47135153986744, 700.7361116362293, 395.5244787966702, 325.51311578342336, 445.9882423839699, 398.23791512212813, 183.6811036971603, 848.930187388157, 26.0684238446925, 17.378949229794998, 17.378949229794998, 10.137720384047084, 17.378949229794998, 10.137720384047084, 21.72368653724375, 10.137720384047084, 10.137720384047084, 17.378949229794998, 24.620178075542913, 98.48071230217165, 8.689474614897499, 8.689474614897499, 10.137720384047084, 8.689474614897499, 10.137720384047084, 24.620178075542913, 10.137720384047084, 21.72368653724375, 13.03421192234625, 8.689474614897499, 13.03421192234625, 17.378949229794998, 24.620178075542913, 8.689474614897499, 10.137720384047084, 81.10176307237667, 13.03421192234625, 17.378949229794998, 256.3395011394762, 318.07655715765975, 313.731819850211, 127.44562768516333, 125.99738191601375, 118.75615307026584, 91.23948345642374, 85.44650037982542, 70.96404268832958, 69.51579691917999, 69.51579691917999, 65.17105961173125, 57.92983076598333, 55.033339227684166, 53.58509345853459, 53.58509345853459, 52.136847689385, 52.136847689385, 50.68860192023542, 50.68860192023542, 49.24035615108583, 49.24035615108583, 47.79211038193625, 47.79211038193625, 46.34386461278667, 44.89561884363708, 43.4473730744875, 41.999127305337915, 77.56564564107128, 77.12573676465661, 209.9487612388308, 56.090826477757055, 75.87806608895507, 151.12470424658946, 162.7595121179349, 626.7639781683574, 277.4197804492449, 100.76354667291722, 100.50864009981785, 216.64677812469168, 166.85204451038263, 185.81249713378048, 105.11982514572802, 250.32564851934814, 358.2345062304976, 561.0478983181947, 304.4222672537039, 338.47135153986744, 159.7850384433891, 155.81544465382547, 404.7932375683926, 1047.2408900307987, 171.6733830863027, 743.6575223225292, 593.9340829885715, 178.03066491442303, 235.88800667066087, 91.98410510400147, 9.107337139010047, 9.107337139010047, 51.911821692357265, 33.697147414337174, 5.464402283406028, 20.946875419723106, 20.946875419723106, 10.928804566812056, 28.232745130931146, 67.39429482867435, 7.285869711208037, 6.375135997307034, 10.928804566812056, 9.107337139010047, 5.464402283406028, 6.375135997307034, 18.214674278020095, 8.196603425109043, 6.375135997307034, 6.375135997307034, 8.196603425109043, 22.76834284752512, 51.911821692357265, 7.285869711208037, 6.375135997307034, 27.32201141703014, 53.73328912015928, 42.80448455334722, 24.589810275327128, 193.075547347013, 532.7859043155867, 86.51970282059546, 82.87676796499143, 81.96603425109042, 81.05530053718942, 79.2338331093874, 77.4123656815854, 74.68016453988238, 71.03722968427837, 71.03722968427837, 69.21576225647635, 68.30502854257536, 61.01915883136732, 59.1976914035653, 53.73328912015928, 51.00108797845627, 51.00108797845627, 46.44741940895124, 44.62595198114923, 43.715218267248225, 42.80448455334722, 42.80448455334722, 40.98301712554521, 73.98564372465366, 158.86902125524438, 83.79871565869347, 157.60458477672216, 53.877431052607456, 187.0805081880858, 261.93966390838636, 740.1346708183116, 176.7430760972265, 176.1492798529674, 351.5083418367193, 563.0499688768425, 352.2917913342138, 249.8543312974399, 700.7361116362293, 274.44959866895, 253.61425732083796, 306.4108878508333, 212.62709140600987, 169.00370832628084, 189.34183791321928, 310.41209715982086, 747.465618922094, 395.5244787966702, 222.77894613988587, 303.53638541300893, 398.23791512212813, 508.1436652715821, 257.582374892397, 17.366460479181637, 42.83726918198137, 9.26211225556354, 45.15279724587226, 26.628572734745177, 50.94161740559947, 47.46832530976314, 34.73292095836327, 24.313044670854293, 31.25962886252695, 13.89316838334531, 30.101864830581505, 24.313044670854293, 27.78633676669062, 65.99254982089022, 87.99006642785363, 25.470808702799737, 8.104348223618096, 41.679505150035936, 30.101864830581505, 56.73043756532669, 20.839752575017968, 104.19876287508983, 84.5167743320173, 9.26211225556354, 5.788820159727213, 15.050932415290752, 48.626089341708585, 21.99751660696341, 10.419876287508984, 174.82236882376182, 135.45839173761678, 114.6186391625988, 84.5167743320173, 82.20124626812641, 79.88571820423553, 65.99254982089022, 64.83478578894477, 64.83478578894477, 63.67702175699934, 63.67702175699934, 63.67702175699934, 60.20372966116301, 55.57267353338124, 54.4149095014358, 53.257145469490354, 52.09938143754491, 52.09938143754491, 49.783853373654026, 49.783853373654026, 48.626089341708585, 47.46832530976314, 96.38489638867586, 80.05160652002232, 74.76433943363189, 286.2968267139886, 252.40637567835452, 195.9388870032526, 117.32514242035677, 139.32488395362773, 257.2635533870307, 282.4577954632026, 224.64785136612707, 369.0596926674808, 184.5895542163274, 239.48662341962722, 298.13910650785226, 118.20137012112986, 174.07244996228565, 214.46336001031273, 515.7620748457742, 203.14904451589, 291.5627589418167, 231.021335057712, 393.96778036983204, 210.58170728390388, 247.3539363626516, 196.93000185700635, 242.77756993864114, 445.9882423839699, 404.2066370082568, 507.7741418202005, 901.3395072850493, 404.39471742470664], \"Category\": [\"Default\", \"Default\", \"Default\", \"Default\", \"Default\", \"Default\", \"Default\", \"Default\", \"Default\", \"Default\", \"Default\", \"Default\", \"Default\", \"Default\", \"Default\", \"Default\", \"Default\", \"Default\", \"Default\", \"Default\", \"Default\", \"Default\", \"Default\", \"Default\", \"Default\", \"Default\", \"Default\", \"Default\", \"Default\", \"Default\", \"Topic1\", \"Topic1\", \"Topic1\", \"Topic1\", \"Topic1\", \"Topic1\", \"Topic1\", \"Topic1\", \"Topic1\", \"Topic1\", \"Topic1\", \"Topic1\", \"Topic1\", \"Topic1\", \"Topic1\", \"Topic1\", \"Topic1\", \"Topic1\", \"Topic1\", \"Topic1\", \"Topic1\", \"Topic1\", \"Topic1\", \"Topic1\", \"Topic1\", \"Topic1\", \"Topic1\", \"Topic1\", \"Topic1\", \"Topic1\", \"Topic1\", \"Topic1\", \"Topic1\", \"Topic1\", \"Topic1\", \"Topic1\", \"Topic1\", \"Topic1\", \"Topic1\", \"Topic1\", \"Topic1\", \"Topic1\", \"Topic1\", \"Topic1\", \"Topic1\", \"Topic1\", \"Topic1\", \"Topic1\", \"Topic1\", \"Topic1\", \"Topic1\", \"Topic1\", \"Topic1\", \"Topic1\", \"Topic1\", \"Topic1\", \"Topic1\", \"Topic1\", \"Topic1\", \"Topic1\", \"Topic1\", \"Topic1\", \"Topic1\", \"Topic1\", \"Topic1\", \"Topic1\", \"Topic1\", \"Topic1\", \"Topic1\", \"Topic1\", \"Topic1\", \"Topic1\", \"Topic1\", \"Topic1\", \"Topic1\", \"Topic1\", \"Topic1\", \"Topic1\", \"Topic1\", \"Topic1\", \"Topic1\", \"Topic1\", \"Topic1\", \"Topic1\", \"Topic1\", \"Topic1\", \"Topic1\", \"Topic1\", \"Topic1\", \"Topic1\", \"Topic1\", \"Topic2\", \"Topic2\", \"Topic2\", \"Topic2\", \"Topic2\", \"Topic2\", \"Topic2\", \"Topic2\", \"Topic2\", \"Topic2\", \"Topic2\", \"Topic2\", \"Topic2\", \"Topic2\", \"Topic2\", \"Topic2\", \"Topic2\", \"Topic2\", \"Topic2\", \"Topic2\", \"Topic2\", \"Topic2\", \"Topic2\", \"Topic2\", \"Topic2\", \"Topic2\", \"Topic2\", \"Topic2\", \"Topic2\", \"Topic2\", \"Topic2\", \"Topic2\", \"Topic2\", \"Topic2\", \"Topic2\", \"Topic2\", \"Topic2\", \"Topic2\", \"Topic2\", \"Topic2\", \"Topic2\", \"Topic2\", \"Topic2\", \"Topic2\", \"Topic2\", \"Topic2\", \"Topic2\", \"Topic2\", \"Topic2\", \"Topic2\", \"Topic2\", \"Topic2\", \"Topic2\", \"Topic2\", \"Topic2\", \"Topic2\", \"Topic2\", \"Topic2\", \"Topic2\", \"Topic2\", \"Topic2\", \"Topic2\", \"Topic2\", \"Topic2\", \"Topic2\", \"Topic2\", \"Topic2\", \"Topic2\", \"Topic2\", \"Topic2\", \"Topic2\", \"Topic2\", \"Topic2\", \"Topic2\", \"Topic2\", \"Topic2\", \"Topic2\", \"Topic2\", \"Topic2\", \"Topic2\", \"Topic2\", \"Topic2\", \"Topic2\", \"Topic2\", \"Topic2\", \"Topic2\", \"Topic2\", \"Topic2\", \"Topic3\", \"Topic3\", \"Topic3\", \"Topic3\", \"Topic3\", \"Topic3\", \"Topic3\", \"Topic3\", \"Topic3\", \"Topic3\", \"Topic3\", \"Topic3\", \"Topic3\", \"Topic3\", \"Topic3\", \"Topic3\", \"Topic3\", \"Topic3\", \"Topic3\", \"Topic3\", \"Topic3\", \"Topic3\", \"Topic3\", \"Topic3\", \"Topic3\", \"Topic3\", \"Topic3\", \"Topic3\", \"Topic3\", \"Topic3\", \"Topic3\", \"Topic3\", \"Topic3\", \"Topic3\", \"Topic3\", \"Topic3\", \"Topic3\", \"Topic3\", \"Topic3\", \"Topic3\", \"Topic3\", \"Topic3\", \"Topic3\", \"Topic3\", \"Topic3\", \"Topic3\", \"Topic3\", \"Topic3\", \"Topic3\", \"Topic3\", \"Topic3\", \"Topic3\", \"Topic3\", \"Topic3\", \"Topic3\", \"Topic3\", \"Topic3\", \"Topic3\", \"Topic3\", \"Topic3\", \"Topic3\", \"Topic3\", \"Topic3\", \"Topic3\", \"Topic3\", \"Topic3\", \"Topic3\", \"Topic3\", \"Topic3\", \"Topic3\", \"Topic3\", \"Topic3\", \"Topic3\", \"Topic3\", \"Topic3\", \"Topic3\", \"Topic3\", \"Topic3\", \"Topic3\", \"Topic3\", \"Topic3\", \"Topic3\", \"Topic3\", \"Topic3\", \"Topic3\", \"Topic3\", \"Topic3\", \"Topic3\", \"Topic3\", \"Topic3\", \"Topic3\", \"Topic3\", \"Topic3\", \"Topic3\", \"Topic3\", \"Topic4\", \"Topic4\", \"Topic4\", \"Topic4\", \"Topic4\", \"Topic4\", \"Topic4\", \"Topic4\", \"Topic4\", \"Topic4\", \"Topic4\", \"Topic4\", \"Topic4\", \"Topic4\", \"Topic4\", \"Topic4\", \"Topic4\", \"Topic4\", \"Topic4\", \"Topic4\", \"Topic4\", \"Topic4\", \"Topic4\", \"Topic4\", \"Topic4\", \"Topic4\", \"Topic4\", \"Topic4\", \"Topic4\", \"Topic4\", \"Topic4\", \"Topic4\", \"Topic4\", \"Topic4\", \"Topic4\", \"Topic4\", \"Topic4\", \"Topic4\", \"Topic4\", \"Topic4\", \"Topic4\", \"Topic4\", \"Topic4\", \"Topic4\", \"Topic4\", \"Topic4\", \"Topic4\", \"Topic4\", \"Topic4\", \"Topic4\", \"Topic4\", \"Topic4\", \"Topic4\", \"Topic4\", \"Topic4\", \"Topic4\", \"Topic4\", \"Topic4\", \"Topic4\", \"Topic4\", \"Topic4\", \"Topic4\", \"Topic4\", \"Topic4\", \"Topic4\", \"Topic4\", \"Topic4\", \"Topic4\", \"Topic4\", \"Topic4\", \"Topic4\", \"Topic4\", \"Topic4\", \"Topic4\", \"Topic4\", \"Topic4\", \"Topic4\", \"Topic4\", \"Topic4\", \"Topic4\", \"Topic4\", \"Topic4\", \"Topic4\", \"Topic4\", \"Topic4\", \"Topic4\", \"Topic4\", \"Topic4\", \"Topic4\", \"Topic4\", \"Topic4\", \"Topic4\", \"Topic4\", \"Topic5\", \"Topic5\", \"Topic5\", \"Topic5\", \"Topic5\", \"Topic5\", \"Topic5\", \"Topic5\", \"Topic5\", \"Topic5\", \"Topic5\", \"Topic5\", \"Topic5\", \"Topic5\", \"Topic5\", \"Topic5\", \"Topic5\", \"Topic5\", \"Topic5\", \"Topic5\", \"Topic5\", \"Topic5\", \"Topic5\", \"Topic5\", \"Topic5\", \"Topic5\", \"Topic5\", \"Topic5\", \"Topic5\", \"Topic5\", \"Topic5\", \"Topic5\", \"Topic5\", \"Topic5\", \"Topic5\", \"Topic5\", \"Topic5\", \"Topic5\", \"Topic5\", \"Topic5\", \"Topic5\", \"Topic5\", \"Topic5\", \"Topic5\", \"Topic5\", \"Topic5\", \"Topic5\", \"Topic5\", \"Topic5\", \"Topic5\", \"Topic5\", \"Topic5\", \"Topic5\", \"Topic5\", \"Topic5\", \"Topic5\", \"Topic5\", \"Topic5\", \"Topic5\", \"Topic5\", \"Topic5\", \"Topic5\", \"Topic5\", \"Topic5\", \"Topic5\", \"Topic5\", \"Topic5\", \"Topic5\", \"Topic5\", \"Topic5\", \"Topic5\", \"Topic5\", \"Topic5\", \"Topic5\", \"Topic5\", \"Topic5\", \"Topic5\", \"Topic5\", \"Topic5\", \"Topic5\", \"Topic5\", \"Topic5\", \"Topic5\", \"Topic5\", \"Topic5\", \"Topic6\", \"Topic6\", \"Topic6\", \"Topic6\", \"Topic6\", \"Topic6\", \"Topic6\", \"Topic6\", \"Topic6\", \"Topic6\", \"Topic6\", \"Topic6\", \"Topic6\", \"Topic6\", \"Topic6\", \"Topic6\", \"Topic6\", \"Topic6\", \"Topic6\", \"Topic6\", \"Topic6\", \"Topic6\", \"Topic6\", \"Topic6\", \"Topic6\", \"Topic6\", \"Topic6\", \"Topic6\", \"Topic6\", \"Topic6\", \"Topic6\", \"Topic6\", \"Topic6\", \"Topic6\", \"Topic6\", \"Topic6\", \"Topic6\", \"Topic6\", \"Topic6\", \"Topic6\", \"Topic6\", \"Topic6\", \"Topic6\", \"Topic6\", \"Topic6\", \"Topic6\", \"Topic6\", \"Topic6\", \"Topic6\", \"Topic6\", \"Topic6\", \"Topic6\", \"Topic6\", \"Topic6\", \"Topic6\", \"Topic6\", \"Topic6\", \"Topic6\", \"Topic6\", \"Topic6\", \"Topic6\", \"Topic6\", \"Topic6\", \"Topic6\", \"Topic6\", \"Topic6\", \"Topic6\", \"Topic6\", \"Topic6\", \"Topic6\", \"Topic6\", \"Topic6\", \"Topic6\", \"Topic7\", \"Topic7\", \"Topic7\", \"Topic7\", \"Topic7\", \"Topic7\", \"Topic7\", \"Topic7\", \"Topic7\", \"Topic7\", \"Topic7\", \"Topic7\", \"Topic7\", \"Topic7\", \"Topic7\", \"Topic7\", \"Topic7\", \"Topic7\", \"Topic7\", \"Topic7\", \"Topic7\", \"Topic7\", \"Topic7\", \"Topic7\", \"Topic7\", \"Topic7\", \"Topic7\", \"Topic7\", \"Topic7\", \"Topic7\", \"Topic7\", \"Topic7\", \"Topic7\", \"Topic7\", \"Topic7\", \"Topic7\", \"Topic7\", \"Topic7\", \"Topic7\", \"Topic7\", \"Topic7\", \"Topic7\", \"Topic7\", \"Topic7\", \"Topic7\", \"Topic7\", \"Topic7\", \"Topic7\", \"Topic7\", \"Topic7\", \"Topic7\", \"Topic7\", \"Topic7\", \"Topic7\", \"Topic7\", \"Topic7\", \"Topic7\", \"Topic7\", \"Topic7\", \"Topic7\", \"Topic7\", \"Topic7\", \"Topic7\", \"Topic7\", \"Topic7\", \"Topic7\", \"Topic7\", \"Topic7\", \"Topic7\", \"Topic7\", \"Topic7\", \"Topic7\", \"Topic7\", \"Topic7\", \"Topic7\", \"Topic7\", \"Topic7\", \"Topic7\", \"Topic7\", \"Topic7\", \"Topic7\", \"Topic7\", \"Topic7\", \"Topic7\", \"Topic7\", \"Topic7\", \"Topic7\", \"Topic7\", \"Topic8\", \"Topic8\", \"Topic8\", \"Topic8\", \"Topic8\", \"Topic8\", \"Topic8\", \"Topic8\", \"Topic8\", \"Topic8\", \"Topic8\", \"Topic8\", \"Topic8\", \"Topic8\", \"Topic8\", \"Topic8\", \"Topic8\", \"Topic8\", \"Topic8\", \"Topic8\", \"Topic8\", \"Topic8\", \"Topic8\", \"Topic8\", \"Topic8\", \"Topic8\", \"Topic8\", \"Topic8\", \"Topic8\", \"Topic8\", \"Topic8\", \"Topic8\", \"Topic8\", \"Topic8\", \"Topic8\", \"Topic8\", \"Topic8\", \"Topic8\", \"Topic8\", \"Topic8\", \"Topic8\", \"Topic8\", \"Topic8\", \"Topic8\", \"Topic8\", \"Topic8\", \"Topic8\", \"Topic8\", \"Topic8\", \"Topic8\", \"Topic8\", \"Topic8\", \"Topic8\", \"Topic8\", \"Topic8\", \"Topic8\", \"Topic8\", \"Topic8\", \"Topic8\", \"Topic8\", \"Topic8\", \"Topic8\", \"Topic8\", \"Topic8\", \"Topic8\", \"Topic8\", \"Topic8\", \"Topic8\", \"Topic8\", \"Topic8\", \"Topic8\", \"Topic8\", \"Topic8\", \"Topic8\", \"Topic8\", \"Topic8\", \"Topic8\", \"Topic8\", \"Topic8\", \"Topic8\", \"Topic8\", \"Topic8\", \"Topic8\", \"Topic8\", \"Topic8\", \"Topic8\", \"Topic8\", \"Topic9\", \"Topic9\", \"Topic9\", \"Topic9\", \"Topic9\", \"Topic9\", \"Topic9\", \"Topic9\", \"Topic9\", \"Topic9\", \"Topic9\", \"Topic9\", \"Topic9\", \"Topic9\", \"Topic9\", \"Topic9\", \"Topic9\", \"Topic9\", \"Topic9\", \"Topic9\", \"Topic9\", \"Topic9\", \"Topic9\", \"Topic9\", \"Topic9\", \"Topic9\", \"Topic9\", \"Topic9\", \"Topic9\", \"Topic9\", \"Topic9\", \"Topic9\", \"Topic9\", \"Topic9\", \"Topic9\", \"Topic9\", \"Topic9\", \"Topic9\", \"Topic9\", \"Topic9\", \"Topic9\", \"Topic9\", \"Topic9\", \"Topic9\", \"Topic9\", \"Topic9\", \"Topic9\", \"Topic9\", \"Topic9\", \"Topic9\", \"Topic9\", \"Topic9\", \"Topic9\", \"Topic9\", \"Topic9\", \"Topic9\", \"Topic9\", \"Topic9\", \"Topic9\", \"Topic9\", \"Topic9\", \"Topic9\", \"Topic9\", \"Topic9\", \"Topic9\", \"Topic9\", \"Topic9\", \"Topic9\", \"Topic9\", \"Topic9\", \"Topic9\", \"Topic9\", \"Topic9\", \"Topic9\", \"Topic9\", \"Topic9\", \"Topic9\", \"Topic9\", \"Topic9\", \"Topic9\", \"Topic9\", \"Topic9\", \"Topic9\", \"Topic10\", \"Topic10\", \"Topic10\", \"Topic10\", \"Topic10\", \"Topic10\", \"Topic10\", \"Topic10\", \"Topic10\", \"Topic10\", \"Topic10\", \"Topic10\", \"Topic10\", \"Topic10\", \"Topic10\", \"Topic10\", \"Topic10\", \"Topic10\", \"Topic10\", \"Topic10\", \"Topic10\", \"Topic10\", \"Topic10\", \"Topic10\", \"Topic10\", \"Topic10\", \"Topic10\", \"Topic10\", \"Topic10\", \"Topic10\", \"Topic10\", \"Topic10\", \"Topic10\", \"Topic10\", \"Topic10\", \"Topic10\", \"Topic10\", \"Topic10\", \"Topic10\", \"Topic10\", \"Topic10\", \"Topic10\", \"Topic10\", \"Topic10\", \"Topic10\", \"Topic10\", \"Topic10\", \"Topic10\", \"Topic10\", \"Topic10\", \"Topic10\", \"Topic10\", \"Topic10\", \"Topic10\", \"Topic10\", \"Topic10\", \"Topic10\", \"Topic10\", \"Topic10\", \"Topic10\", \"Topic10\", \"Topic10\", \"Topic10\", \"Topic10\", \"Topic10\", \"Topic10\", \"Topic10\", \"Topic10\", \"Topic10\", \"Topic10\", \"Topic10\", \"Topic10\", \"Topic10\", \"Topic10\", \"Topic10\", \"Topic10\", \"Topic10\", \"Topic10\", \"Topic10\", \"Topic10\", \"Topic10\", \"Topic10\", \"Topic10\", \"Topic10\"], \"logprob\": [30.0, 29.0, 28.0, 27.0, 26.0, 25.0, 24.0, 23.0, 22.0, 21.0, 20.0, 19.0, 18.0, 17.0, 16.0, 15.0, 14.0, 13.0, 12.0, 11.0, 10.0, 9.0, 8.0, 7.0, 6.0, 5.0, 4.0, 3.0, 2.0, 1.0, -7.5696, -8.3805, -6.9942, -8.1574, -7.8209, -6.5087, -7.2411, -8.6682, -7.0927, -7.5696, -7.5696, -7.975, -6.3168, -7.7519, -7.1278, -4.5438, -7.026, -7.5155, -8.514, -8.8505, -8.3805, -7.2819, -6.7223, -6.8764, -7.7519, -8.514, -8.8505, -7.6267, -8.1574, -7.5696, -5.6079, -5.7965, -5.9167, -6.0173, -6.0655, -6.2115, -6.2404, -6.3995, -6.3995, -6.471, -6.471, -6.4897, -6.5281, -6.5281, -6.5479, -6.6098, -6.7223, -6.7464, -6.7711, -6.7711, -6.7964, -6.8224, -6.8224, -6.849, -6.849, -6.849, -6.1559, -5.035, -4.4055, -6.0655, -6.2553, -6.3168, -5.3662, -5.5255, -6.5281, -5.5696, -6.1292, -3.8765, -4.4389, -4.1985, -5.8448, -5.6478, -6.1032, -4.9465, -6.0905, -5.0004, -5.0847, -5.7064, -5.806, -5.8648, -5.8956, -5.5327, -5.4427, -5.6978, -5.4971, -5.456, -5.7238, -5.4763, -5.8252, -5.6478, -5.8156, -7.81, -7.0818, -7.3136, -6.8382, -7.191, -8.5032, -8.5032, -7.191, -8.6573, -6.8115, -8.6573, -7.1533, -8.5032, -5.9832, -7.191, -6.8382, -5.8047, -7.3136, -7.191, -7.81, -8.5032, -7.8841, -7.9642, -7.8841, -7.8841, -8.5032, -8.5032, -7.5047, -6.7114, -6.5173, -5.4252, -5.8952, -4.6409, -5.9493, -5.9493, -6.0183, -6.0424, -6.1864, -6.2594, -6.306, -6.3382, -6.3886, -6.4418, -6.5173, -6.5173, -6.5573, -6.6424, -6.6879, -6.7602, -6.7855, -6.7855, -6.8115, -6.8115, -4.847, -5.0241, -5.0785, -4.3465, -5.9382, -4.2166, -5.6451, -5.3251, -6.4237, -5.7306, -4.6714, -5.3133, -5.3865, -5.3615, -4.8731, -5.9718, -5.2786, -5.3739, -4.5969, -5.4252, -5.5971, -4.8581, -5.6533, -5.5971, -5.3677, -5.3133, -5.6616, -5.3133, -5.5003, -5.4933, -5.2729, -5.5074, -5.5893, -5.6128, -5.5893, -8.1665, -7.62, -8.6185, -8.7726, -6.9809, -7.3863, -6.7358, -8.0795, -7.2322, -6.4869, -8.7726, -6.11, -8.6185, -7.4734, -7.5199, -6.0318, -8.955, -6.2877, -7.3063, -8.6185, -8.6185, -8.1665, -8.7726, -6.3449, -8.955, -8.955, -6.4373, -8.1665, -8.955, -6.9809, -5.9493, -6.2877, -6.3303, -6.4373, -6.4535, -6.504, -6.539, -6.6132, -6.6726, -6.7142, -6.7577, -6.7802, -6.8032, -6.8032, -6.8267, -6.8508, -6.9008, -6.9268, -6.9535, -6.9535, -6.9535, -5.9297, -6.2206, -5.7046, -6.4055, -5.8639, -6.2206, -6.0, -3.9632, -5.0591, -6.5213, -5.4345, -5.3226, -6.0985, -5.674, -5.3069, -5.9897, -5.4464, -5.901, -5.7853, -5.0631, -5.0114, -5.3121, -5.4955, -5.574, -5.6016, -5.2863, -5.1753, -5.5274, -5.4111, -5.6444, -5.1753, -5.1891, -5.674, -5.8195, -5.2463, -5.574, -5.674, -5.6016, -5.6892, -5.6371, -5.6086, -5.6591, -5.6892, -5.6892, -7.9784, -7.1029, -6.2206, -7.19, -8.3351, -7.7961, -5.8383, -6.2556, -6.4309, -6.4098, -8.3351, -7.5729, -8.2016, -7.6419, -7.2853, -6.8798, -6.3492, -8.3351, -7.1029, -7.5729, -7.716, -8.3351, -7.8831, -8.4892, -7.1029, -7.19, -8.6716, -8.4892, -7.6419, -6.3298, -5.6758, -5.8037, -5.8622, -6.1867, -6.3107, -6.3298, -6.3492, -6.3492, -6.369, -6.4098, -6.4968, -6.4968, -6.4968, -6.5198, -6.5198, -6.5433, -6.5433, -5.7271, -6.5674, -6.5674, -6.5921, -6.5921, -6.5921, -4.6215, -5.3252, -6.2379, -6.3107, -5.1393, -6.1066, -5.1335, -5.5188, -5.9372, -5.1162, -5.429, -4.8473, -5.6176, -6.0615, -5.3906, -4.5444, -5.3322, -5.3832, -5.7484, -5.3906, -6.0615, -5.4852, -5.5274, -5.4935, -5.899, -5.7701, -4.9629, -5.8151, -5.2974, -4.8965, -5.5897, -5.6758, -5.1811, -5.3683, -5.477, -5.696, -5.696, -5.627, -5.6758, -5.6758, -5.7847, -7.5625, -7.103, -6.0401, -7.2142, -5.7989, -7.8502, -7.968, -8.438, -7.6495, -6.1973, -7.968, -8.438, -6.9564, -8.2557, -7.6495, -7.8502, -7.2748, -7.103, -8.2557, -6.9119, -8.438, -6.2632, -6.7152, -5.8133, -8.1015, -7.157, -8.2557, -7.5625, -7.6495, -5.1646, -5.2599, -5.3935, -5.4422, -5.4727, -5.7167, -5.757, -5.8279, -5.8578, -5.873, -5.987, -6.0584, -6.0584, -6.0962, -6.1156, -6.1354, -6.1354, -6.1354, -6.1762, -6.1973, -6.2188, -6.2188, -6.2408, -6.2632, -6.0221, -4.8999, -5.9531, -5.5041, -6.0401, -5.4831, -5.9043, -5.0846, -5.7847, -4.347, -4.9912, -5.1646, -5.5815, -5.5366, -5.0916, -5.384, -5.5256, -5.3561, -5.1496, -5.4127, -5.4523, -5.2271, -5.2683, -5.4224, -5.4422, -5.5148, -5.5931, -5.7167, -5.5931, -5.653, -5.653, -8.1443, -7.8566, -4.9616, -8.5497, -8.0389, -8.1443, -8.5497, -5.2295, -7.4511, -8.5497, -8.0389, -8.732, -7.4511, -8.5497, -7.4511, -8.0389, -8.5497, -8.0389, -8.0389, -7.1226, -8.0389, -8.0389, -7.8566, -8.732, -7.4511, -8.1443, -7.3458, -8.1443, -8.1443, -6.758, -4.3677, -4.9524, -5.2852, -4.9708, -5.5293, -5.5708, -5.5708, -5.6053, -5.632, -5.6501, -5.6594, -5.6594, -5.7876, -5.8197, -5.8528, -5.9107, -5.9107, -5.947, -5.947, -5.1998, -6.093, -5.2539, -6.1518, -6.1826, -6.281, -6.2984, -6.3342, -6.3525, -3.5095, -6.0788, -5.4817, -6.1074, -5.3308, -5.4215, -5.407, -4.9165, -5.6594, -5.6971, -5.4587, -5.3375, -5.4973, -5.7363, -5.7982, -7.3047, -7.2246, -8.4033, -8.691, -7.9178, -5.9184, -5.8776, -7.3047, -7.9178, -8.691, -4.7429, -8.1802, -8.691, -8.691, -8.691, -6.8992, -8.2855, -8.1802, -8.4033, -7.8437, -7.7747, -7.4382, -7.3047, -7.5924, -7.1505, -8.5368, -7.9978, -7.9178, -8.8733, -8.4033, -4.1856, -5.1356, -5.2733, -5.3528, -5.7378, -5.9829, -6.0284, -6.0401, -6.1007, -6.1652, -6.1923, -6.2201, -6.2931, -6.3239, -6.3239, -6.3719, -6.4397, -6.5315, -6.5315, -6.5315, -6.5509, -6.5707, -6.5707, -6.5909, -6.5909, -6.6326, -6.6326, -6.0054, -4.1801, -5.9719, -4.0891, -4.7624, -3.6638, -4.8992, -6.2061, -4.4051, -5.5999, -6.0284, -6.0054, -5.3352, -5.8578, -4.6567, -4.8198, -5.3829, -5.1028, -5.6952, -5.6307, -5.3411, -5.534, -5.3768, -5.4788, -5.2624, -5.4991, -5.5849, -5.6787, -5.7036, -5.8193, -5.7291, -7.0475, -7.453, -7.453, -7.992, -7.453, -7.992, -7.2298, -7.992, -7.992, -7.453, -7.1047, -5.7184, -8.1461, -8.1461, -7.992, -8.1461, -7.992, -7.1047, -7.992, -7.2298, -7.7407, -8.1461, -7.7407, -7.453, -7.1047, -8.1461, -7.992, -5.9125, -7.7407, -7.453, -4.7617, -4.5488, -4.5626, -5.4606, -5.472, -5.5312, -5.7948, -5.8604, -6.0461, -6.0667, -6.0667, -6.1312, -6.249, -6.3003, -6.327, -6.327, -6.3544, -6.3544, -6.3825, -6.3825, -6.4115, -6.4115, -6.4414, -6.4414, -6.4722, -6.5039, -6.5367, -6.5706, -5.9676, -5.9866, -5.04, -6.3003, -6.0461, -5.4606, -5.4381, -4.4164, -5.0704, -5.8604, -5.9125, -5.4053, -5.5941, -5.5559, -5.9306, -5.4381, -5.2558, -5.1176, -5.427, -5.384, -5.7482, -5.7948, -5.5071, -5.3428, -5.7948, -5.4952, -5.5434, -5.8108, -5.8435, -5.762, -8.0745, -8.0745, -6.3341, -6.7662, -8.5854, -7.2416, -7.2416, -7.8922, -6.9431, -6.073, -8.2977, -8.4312, -7.8922, -8.0745, -8.5854, -8.4312, -7.3814, -8.1799, -8.4312, -8.4312, -8.1799, -7.1582, -6.3341, -8.2977, -8.4312, -6.9759, -6.2996, -6.527, -7.0813, -5.0205, -4.021, -5.8232, -5.8663, -5.8773, -5.8885, -5.9112, -5.9345, -5.9704, -6.0204, -6.0204, -6.0464, -6.0596, -6.1724, -6.2027, -6.2996, -6.3518, -6.3518, -6.4453, -6.4853, -6.5059, -6.527, -6.527, -6.5704, -6.0204, -5.3209, -5.9228, -5.4355, -6.3341, -5.3337, -5.0788, -4.3133, -5.4355, -5.4426, -4.9699, -5.1676, -5.5019, -5.6586, -5.2895, -5.6409, -5.695, -5.6497, -5.762, -5.8232, -5.8024, -5.7137, -5.6149, -5.7137, -5.8024, -5.7719, -5.7719, -5.7719, -5.8663, -7.4102, -6.5073, -8.0388, -6.4547, -6.9827, -6.334, -6.4047, -6.717, -7.0737, -6.8224, -7.6333, -6.8601, -7.0737, -6.9402, -6.0752, -5.7875, -7.0272, -8.1723, -6.5347, -6.8601, -6.2264, -7.2279, -5.6184, -5.8278, -8.0388, -8.5088, -7.5533, -6.3806, -7.1738, -7.921, -5.101, -5.3561, -5.5231, -5.8278, -5.8556, -5.8841, -6.0752, -6.0929, -6.0929, -6.1109, -6.1109, -6.1109, -6.167, -6.247, -6.2681, -6.2896, -6.3116, -6.3116, -6.357, -6.357, -6.3806, -6.4047, -5.7115, -5.8987, -5.9751, -4.7711, -4.8925, -5.121, -5.5964, -5.4454, -4.9142, -4.9142, -5.1484, -4.8149, -5.3646, -5.2279, -5.101, -5.7115, -5.4643, -5.3646, -4.8555, -5.4178, -5.213, -5.382, -5.1695, -5.4835, -5.4178, -5.5539, -5.5131, -5.4269, -5.5031, -5.5131, -5.4548, -5.5644], \"loglift\": [30.0, 29.0, 28.0, 27.0, 26.0, 25.0, 24.0, 23.0, 22.0, 21.0, 20.0, 19.0, 18.0, 17.0, 16.0, 15.0, 14.0, 13.0, 12.0, 11.0, 10.0, 9.0, 8.0, 7.0, 6.0, 5.0, 4.0, 3.0, 2.0, 1.0, 2.2631, 2.2631, 2.2631, 2.2631, 2.2631, 2.2631, 2.2631, 2.2631, 2.2631, 2.2631, 2.2631, 2.2631, 2.2631, 2.2631, 2.2631, 2.2631, 2.2631, 2.2631, 2.2631, 2.2631, 2.2631, 2.2631, 2.2631, 2.2631, 2.2631, 2.2631, 2.2631, 2.2631, 2.2631, 2.2631, 2.2631, 2.2631, 2.2631, 2.2631, 2.2631, 2.2631, 2.2631, 2.2631, 2.2631, 2.2631, 2.2631, 2.2631, 2.2631, 2.2631, 2.2631, 2.2631, 2.2631, 2.2631, 2.2631, 2.2631, 2.2631, 2.2631, 2.2631, 2.2631, 2.2631, 2.2631, 2.2436, 2.1629, 2.078, 2.1937, 2.2123, 2.2175, 2.1183, 2.1146, 2.2349, 2.0878, 2.1694, 1.7966, 1.8896, 1.8122, 2.0785, 1.9968, 2.1294, 1.6106, 2.0417, 1.2928, 1.3124, 1.725, 1.7958, 1.816, 1.8418, 1.4621, 1.3624, 1.5129, 1.128, 0.9151, 1.4066, 0.7261, 1.4755, 0.7981, 0.4781, 2.2694, 2.2694, 2.2694, 2.2694, 2.2694, 2.2694, 2.2694, 2.2694, 2.2694, 2.2694, 2.2694, 2.2694, 2.2694, 2.2694, 2.2694, 2.2694, 2.2694, 2.2694, 2.2694, 2.2694, 2.2694, 2.2694, 2.2694, 2.2694, 2.2694, 2.2694, 2.2694, 2.2694, 2.2694, 2.2694, 2.2694, 2.2694, 2.2566, 2.2694, 2.2694, 2.2694, 2.2694, 2.2694, 2.2694, 2.2694, 2.2694, 2.2694, 2.2694, 2.2694, 2.2694, 2.2694, 2.2694, 2.2694, 2.2694, 2.2694, 2.2694, 2.2694, 2.2694, 2.1912, 2.1813, 2.1609, 2.0827, 2.1898, 1.9858, 2.1366, 2.0814, 2.2231, 2.0919, 1.8486, 1.943, 1.9464, 1.8907, 1.7227, 2.0791, 1.7924, 1.8264, 1.4135, 1.7964, 1.8828, 1.4269, 1.8592, 1.7606, 1.408, 1.3267, 1.7088, 0.984, 1.2456, 1.197, 0.4002, 0.8636, 1.2524, 1.3892, 1.0171, 2.2751, 2.2751, 2.2751, 2.2751, 2.2751, 2.2751, 2.2751, 2.2751, 2.2751, 2.2751, 2.2751, 2.2751, 2.2751, 2.2751, 2.2751, 2.2751, 2.2751, 2.2751, 2.2751, 2.2751, 2.2751, 2.2751, 2.2751, 2.2751, 2.2751, 2.2751, 2.2751, 2.2751, 2.2751, 2.2751, 2.2751, 2.2751, 2.2751, 2.2751, 2.2751, 2.2751, 2.2751, 2.2751, 2.2751, 2.2751, 2.2751, 2.2751, 2.2751, 2.2751, 2.2751, 2.2751, 2.2751, 2.2751, 2.2751, 2.2751, 2.2751, 2.2549, 2.2606, 2.2465, 2.2577, 2.2155, 2.2201, 2.1758, 1.9199, 2.0384, 2.2177, 1.9395, 1.8797, 2.087, 1.9301, 1.7844, 2.0122, 1.728, 1.9202, 1.8266, 1.3332, 1.2817, 1.4503, 1.5808, 1.6384, 1.6135, 1.3374, 1.1957, 1.5312, 1.3792, 1.6189, 1.1184, 1.0512, 1.6008, 1.791, 0.7641, 1.3376, 1.3615, 1.0891, 1.3129, 1.0137, 0.8373, 1.0768, 1.2102, 0.6081, 2.2902, 2.2902, 2.2902, 2.2902, 2.2902, 2.2902, 2.2902, 2.2902, 2.2902, 2.2902, 2.2902, 2.2902, 2.2902, 2.2902, 2.2902, 2.2902, 2.2902, 2.2902, 2.2902, 2.2902, 2.2902, 2.2902, 2.2902, 2.2902, 2.2902, 2.2902, 2.2902, 2.2902, 2.2902, 2.2902, 2.2902, 2.2902, 2.2902, 2.2902, 2.2902, 2.2902, 2.2902, 2.2902, 2.2902, 2.2902, 2.2902, 2.2902, 2.2902, 2.2902, 2.2902, 2.2902, 2.2902, 2.2817, 2.2902, 2.2902, 2.2902, 2.2902, 2.2902, 2.2346, 2.2011, 2.2637, 2.2668, 2.1495, 2.2211, 2.01, 2.0742, 2.1544, 1.9156, 1.9795, 1.7774, 2.009, 2.1489, 1.8643, 1.4711, 1.7883, 1.785, 1.9619, 1.7574, 2.1268, 1.7676, 1.79, 1.7635, 2.0179, 1.9176, 1.2236, 1.9457, 1.4929, 1.1237, 1.7208, 1.8061, 1.2258, 1.358, 1.4378, 1.8014, 1.7778, 1.1188, 1.2334, 0.8248, 2.2993, 2.2993, 2.2993, 2.2993, 2.2993, 2.2993, 2.2993, 2.2993, 2.2993, 2.2993, 2.2993, 2.2993, 2.2993, 2.2993, 2.2993, 2.2993, 2.2993, 2.2993, 2.2993, 2.2993, 2.2993, 2.2993, 2.2993, 2.2993, 2.2993, 2.2993, 2.2993, 2.2993, 2.2993, 2.2993, 2.2993, 2.2993, 2.2993, 2.2993, 2.2993, 2.2993, 2.2993, 2.2993, 2.2993, 2.2993, 2.2993, 2.2993, 2.2993, 2.2993, 2.2993, 2.2993, 2.2993, 2.2993, 2.2993, 2.2993, 2.2993, 2.2993, 2.2993, 2.2993, 2.2884, 2.2139, 2.2791, 2.191, 2.2706, 2.1743, 2.2462, 2.0796, 2.1982, 1.728, 1.9022, 1.8288, 2.0207, 1.9748, 1.5987, 1.5289, 1.6573, 1.4022, 1.0907, 1.2522, 1.2935, 0.7884, 0.7421, 1.1346, 0.9647, 1.1432, 1.4192, 1.7668, 0.29, 0.9939, 0.7441, 2.3029, 2.3029, 2.3029, 2.3029, 2.3029, 2.3029, 2.3029, 2.3029, 2.3029, 2.3029, 2.3029, 2.3029, 2.3029, 2.3029, 2.3029, 2.3029, 2.3029, 2.3029, 2.3029, 2.3029, 2.3029, 2.3029, 2.3029, 2.3029, 2.3029, 2.3029, 2.3029, 2.3029, 2.3029, 2.3029, 2.3029, 2.3029, 2.3029, 2.2975, 2.3029, 2.3029, 2.3029, 2.3029, 2.3029, 2.3029, 2.3029, 2.3029, 2.3029, 2.3029, 2.3029, 2.3029, 2.3029, 2.3029, 2.3029, 2.2951, 2.3029, 2.2939, 2.3029, 2.3029, 2.3029, 2.3029, 2.3029, 2.3029, 2.1994, 2.2914, 2.2073, 2.2705, 2.1172, 2.0813, 2.0182, 1.7422, 2.0909, 1.9884, 1.232, 0.6731, 0.7964, 1.5075, 0.7025, 2.3057, 2.3057, 2.3057, 2.3057, 2.3057, 2.3057, 2.3057, 2.3057, 2.3057, 2.3057, 2.3057, 2.3057, 2.3057, 2.3057, 2.3057, 2.3057, 2.3057, 2.3057, 2.3057, 2.3057, 2.3057, 2.3057, 2.3057, 2.3057, 2.3057, 2.3057, 2.3057, 2.3057, 2.3057, 2.3057, 2.3057, 2.3057, 2.3057, 2.3057, 2.3057, 2.3057, 2.3057, 2.3057, 2.3057, 2.3057, 2.3057, 2.3057, 2.3057, 2.3057, 2.3057, 2.3057, 2.3057, 2.3057, 2.3057, 2.3057, 2.3057, 2.3057, 2.3057, 2.3057, 2.3057, 2.3057, 2.3057, 2.295, 2.2186, 2.2825, 2.1996, 2.2202, 2.1594, 2.1967, 2.2718, 2.0415, 2.1348, 2.2108, 2.1941, 1.9638, 2.1236, 1.6283, 1.5616, 1.8432, 1.6554, 1.9739, 1.813, 1.3948, 1.5703, 1.3495, 1.3238, 0.8126, 1.1477, 1.2568, 0.8481, 0.9364, 1.5946, 0.1539, 2.3188, 2.3188, 2.3188, 2.3188, 2.3188, 2.3188, 2.3188, 2.3188, 2.3188, 2.3188, 2.3188, 2.3188, 2.3188, 2.3188, 2.3188, 2.3188, 2.3188, 2.3188, 2.3188, 2.3188, 2.3188, 2.3188, 2.3188, 2.3188, 2.3188, 2.3188, 2.3188, 2.3188, 2.3188, 2.3188, 2.3188, 2.316, 2.3159, 2.3188, 2.3188, 2.3188, 2.3188, 2.3188, 2.3188, 2.3188, 2.3188, 2.3188, 2.3188, 2.3188, 2.3188, 2.3188, 2.3188, 2.3188, 2.3188, 2.3188, 2.3188, 2.3188, 2.3188, 2.3188, 2.3188, 2.3188, 2.3188, 2.3188, 2.3083, 2.295, 2.2402, 2.2998, 2.2519, 2.1484, 2.0967, 1.7701, 1.9312, 2.1539, 2.1043, 1.8435, 1.9159, 1.8465, 2.0414, 1.6662, 1.4901, 1.1797, 1.4816, 1.4186, 1.805, 1.7836, 1.1166, 0.3304, 1.6867, 0.5203, 0.6969, 1.6344, 1.3202, 2.3435, 2.3435, 2.3435, 2.3435, 2.3435, 2.3435, 2.3435, 2.3435, 2.3435, 2.3435, 2.3435, 2.3435, 2.3435, 2.3435, 2.3435, 2.3435, 2.3435, 2.3435, 2.3435, 2.3435, 2.3435, 2.3435, 2.3435, 2.3435, 2.3435, 2.3435, 2.3435, 2.3435, 2.3435, 2.3435, 2.3435, 2.3279, 2.3435, 2.3435, 2.3435, 2.3435, 2.3435, 2.3435, 2.3435, 2.3435, 2.3435, 2.3435, 2.3435, 2.3435, 2.3435, 2.3435, 2.3435, 2.3435, 2.3435, 2.3435, 2.3435, 2.3435, 2.3435, 2.3435, 2.3028, 2.2381, 2.2759, 2.1315, 2.3063, 2.0618, 1.9802, 1.7069, 2.0169, 2.0131, 1.7949, 1.1261, 1.2607, 1.4476, 0.7854, 1.3714, 1.3963, 1.2524, 1.5055, 1.6739, 1.5811, 1.1755, 0.3954, 0.9332, 1.4185, 1.1396, 0.8681, 0.6244, 1.2095, 2.3623, 2.3623, 2.3623, 2.3623, 2.3623, 2.3623, 2.3623, 2.3623, 2.3623, 2.3623, 2.3623, 2.3623, 2.3623, 2.3623, 2.3623, 2.3623, 2.3623, 2.3623, 2.3623, 2.3623, 2.3623, 2.3623, 2.3623, 2.3623, 2.3623, 2.3623, 2.3623, 2.3623, 2.3623, 2.3623, 2.3623, 2.3623, 2.3623, 2.3623, 2.3623, 2.3623, 2.3623, 2.3623, 2.3623, 2.3623, 2.3623, 2.3623, 2.3623, 2.3623, 2.3623, 2.3623, 2.3623, 2.3623, 2.3623, 2.3623, 2.3623, 2.3623, 2.3472, 2.3457, 2.3376, 2.1989, 2.2035, 2.2282, 2.2657, 2.2449, 2.1627, 2.0693, 2.0641, 1.9012, 2.0443, 1.9207, 1.8286, 2.1432, 2.0033, 1.8943, 1.5259, 1.8954, 1.7389, 1.8025, 1.4813, 1.7937, 1.6985, 1.7903, 1.6219, 1.0999, 1.122, 0.884, 0.3684, 1.0603]}, \"token.table\": {\"Topic\": [6, 1, 7, 1, 3, 7, 8, 2, 6, 7, 8, 6, 2, 4, 7, 6, 9, 2, 3, 6, 7, 8, 3, 7, 8, 9, 10, 7, 8, 10, 4, 3, 5, 7, 8, 9, 1, 2, 4, 1, 1, 5, 6, 10, 1, 9, 1, 3, 7, 10, 3, 2, 1, 6, 6, 5, 9, 5, 6, 8, 3, 4, 10, 5, 8, 9, 3, 9, 8, 9, 5, 6, 7, 3, 4, 5, 7, 9, 9, 2, 3, 6, 7, 9, 10, 1, 4, 7, 1, 5, 7, 8, 7, 4, 7, 8, 5, 9, 4, 4, 2, 5, 8, 9, 10, 5, 3, 7, 3, 5, 5, 7, 9, 3, 1, 3, 5, 6, 8, 9, 10, 3, 5, 7, 8, 9, 9, 8, 10, 4, 5, 6, 2, 8, 8, 7, 10, 8, 8, 8, 10, 8, 9, 1, 4, 1, 3, 1, 2, 6, 8, 8, 2, 3, 4, 5, 6, 8, 2, 2, 9, 4, 3, 4, 5, 8, 6, 10, 1, 6, 1, 3, 4, 7, 8, 9, 2, 2, 10, 9, 10, 8, 9, 1, 2, 3, 5, 8, 9, 10, 1, 2, 7, 9, 3, 3, 5, 10, 3, 4, 7, 8, 2, 4, 5, 8, 2, 5, 7, 8, 8, 5, 1, 2, 3, 5, 6, 8, 1, 4, 2, 3, 7, 7, 8, 9, 10, 7, 1, 2, 8, 6, 10, 2, 3, 2, 7, 6, 9, 1, 4, 5, 6, 8, 2, 6, 9, 1, 3, 8, 2, 5, 6, 2, 2, 1, 10, 9, 3, 5, 10, 1, 3, 6, 7, 8, 10, 1, 3, 5, 7, 8, 1, 2, 6, 8, 1, 5, 1, 3, 4, 1, 3, 4, 2, 7, 2, 4, 1, 3, 3, 4, 5, 7, 10, 3, 3, 4, 3, 4, 5, 1, 5, 8, 9, 10, 3, 6, 7, 8, 9, 10, 8, 2, 3, 5, 3, 4, 6, 8, 1, 5, 6, 10, 1, 7, 5, 8, 4, 6, 8, 10, 9, 9, 9, 2, 1, 1, 3, 1, 8, 5, 1, 2, 6, 5, 5, 10, 5, 6, 7, 9, 1, 10, 10, 10, 2, 7, 2, 4, 5, 6, 9, 6, 5, 3, 3, 2, 6, 4, 6, 3, 1, 8, 1, 3, 5, 6, 10, 4, 5, 7, 8, 1, 4, 6, 7, 9, 1, 5, 7, 9, 2, 1, 2, 1, 3, 4, 10, 2, 8, 10, 10, 10, 1, 1, 6, 8, 2, 1, 1, 2, 4, 7, 1, 2, 4, 5, 6, 8, 1, 8, 4, 1, 7, 10, 4, 10, 3, 10, 9, 10, 4, 1, 6, 10, 7, 1, 1, 10, 2, 2, 5, 6, 8, 8, 1, 3, 8, 9, 3, 7, 8, 9, 1, 2, 3, 4, 7, 1, 8, 1, 5, 3, 2, 8, 1, 1, 3, 1, 3, 7, 3, 9, 2, 3, 4, 9, 10, 2, 4, 5, 7, 9, 1, 6, 7, 4, 6, 4, 4, 5, 7, 10, 4, 6, 10, 6, 8, 5, 7, 1, 2, 3, 5, 6, 5, 2, 3, 5, 8, 3, 9, 4, 6, 8, 9, 10, 8, 7, 2, 5, 6, 6, 8, 5, 8, 10, 3, 5, 10, 2, 6, 10, 3, 1, 7, 3, 7, 10, 9, 2, 6, 6, 1, 2, 9, 1, 2, 7, 10, 3, 5, 7, 8, 8, 3, 5, 7, 9, 2, 1, 4, 5, 4, 8, 5, 7, 7, 10, 2, 4, 6, 7, 10, 2, 10, 5, 1, 2, 5, 6, 8, 10, 2, 5, 8, 7, 7, 1, 3, 6, 9, 3, 4, 5, 6, 7, 8, 3, 4, 7, 4, 5, 6, 9, 2, 5, 7, 8, 9, 6, 6, 5, 6, 1, 5, 6, 9, 10, 8, 2, 7, 7, 8, 1, 2, 6, 7, 8, 9, 4, 4, 7, 8, 9, 8, 1, 4, 1, 5, 1, 2, 3, 7, 8, 9, 2, 5, 6, 10, 2, 4, 6, 7, 9, 4, 6, 7, 9, 10, 1, 3, 5, 7, 9, 10, 10, 5, 10, 1, 7, 5, 7, 9, 10, 4, 4, 9, 8, 8, 10, 6, 8, 4, 7, 8, 9, 10, 2, 6, 7, 2, 3, 5, 7, 1, 3, 1, 9, 10, 7, 7, 3, 1, 4, 5, 8, 10, 7, 3, 7, 9, 6, 6, 9, 5, 10, 8, 1, 2, 3, 5, 9, 10, 3, 1, 2, 5, 10, 2, 4, 6, 5, 6, 8, 2, 3, 5, 3, 3, 4, 7, 4, 5, 7, 8, 9, 5, 2, 3, 4, 5, 9, 2, 4, 6, 7, 10, 1, 6, 6, 8, 9, 10, 3, 4, 6, 3, 9, 6, 8, 9, 7, 7, 4, 3, 5, 7, 1, 2, 6, 9, 5, 7, 8, 3, 10, 2, 6, 10, 7, 5, 2, 4, 7, 8, 8, 7, 2, 7, 10, 5, 2, 3, 8, 7, 1, 7, 2, 10, 1, 5, 6, 1, 7, 5, 7, 4, 2, 1, 6, 5, 6, 1, 8, 1, 5, 3, 7, 1, 2, 5, 7, 3, 4, 6, 9, 3, 4, 10, 1, 8, 4, 7, 4, 4, 6, 3, 4, 9, 10, 10, 3, 5, 6, 7, 5, 6, 9, 8, 1, 8, 9, 6, 2, 5, 10, 4, 5, 8, 8, 3, 6, 7, 9, 4, 10, 7, 3, 3, 9, 4, 4, 9, 4, 10, 4, 5, 8, 3, 6, 10, 4, 5, 8, 3, 6, 2, 8, 2, 10, 5, 8, 9, 8, 4, 7, 10, 9, 6, 8, 3, 5, 9, 5, 2, 6, 8, 9, 6, 7, 7, 2, 4, 5, 9, 4, 7, 4, 4, 6, 8, 1, 8, 5, 8, 10, 4, 2, 3, 7, 5, 1, 10, 3, 5, 5, 3, 4, 9, 7, 2, 3, 4, 5, 7, 8, 4, 5, 9, 6, 3, 2, 10, 9, 1, 4, 6, 10, 2, 3, 3, 7, 8, 9, 10, 7, 3, 4, 5, 7, 9, 5, 8, 9, 2, 5, 9, 1, 7, 10, 3, 8, 2, 3, 6, 2, 5, 5, 8, 3, 5, 6, 7, 9, 5, 5, 4, 10, 10, 5, 3, 3, 5, 8, 9, 9, 1, 5, 7, 7, 7, 7, 3, 5, 3, 8, 2, 5, 7, 9, 5, 9, 4, 2, 3, 7, 8, 6, 7, 8, 5, 6, 9, 10, 4, 5, 4, 5, 8, 10, 7, 2, 1, 1, 3, 5, 6, 4, 2, 2, 4, 3, 4, 1, 7, 8, 2, 5, 9, 1, 3, 4, 5, 8, 6, 1, 2, 5, 8, 6, 9, 3, 4, 2, 5, 2, 8, 9, 10, 9, 3, 4, 7, 8, 1, 3, 4, 6, 8, 10, 2, 1, 8, 9, 8, 3, 4, 10, 2, 3, 5, 7, 9, 1, 3, 2, 8, 10, 4, 5, 4, 9, 10, 2, 1, 2, 3, 1, 2, 1, 2, 5, 10, 1, 4, 7, 8, 9, 7, 1, 7, 9, 6, 5, 9, 2, 3, 6, 9, 3, 6, 7, 3, 4, 2, 4, 7, 8, 2, 9, 1, 3, 5, 6, 1, 2, 3, 5, 9, 3, 3, 4, 5, 7, 3, 3, 2, 3, 8, 2, 1, 4, 5, 7, 9, 1, 2, 3, 4, 9, 10, 8, 5, 1, 4, 8, 2, 4, 9, 5, 8, 7, 6, 5, 4, 8, 1, 5, 3, 5, 6, 6, 3, 6, 4, 10, 5, 4, 5, 10, 1, 5, 6, 9, 8, 3, 7, 6, 7, 7, 8, 10, 6, 4, 7, 1, 6, 10, 1, 6, 2, 1, 4, 6, 7, 10, 1, 6, 8, 2, 3, 5, 7, 6, 5, 6, 7, 8, 10, 9, 6, 5, 10, 9, 1, 3, 8, 2, 9, 1, 4, 3, 4, 6, 7, 10, 4, 5, 6, 7, 9, 4, 6, 8, 5, 10, 6, 3, 4, 5, 7, 2, 4, 9, 10, 4, 6, 3, 9, 2, 6, 9, 3, 7, 4, 5, 7, 9, 9, 8, 9, 9, 2, 3, 6, 10, 2, 5, 2, 6, 1, 8, 8, 4, 7, 7, 7, 7, 4, 6, 4, 3, 2, 7, 9, 1, 2, 3, 4, 6, 4, 1, 9, 9, 2, 3, 4, 6, 7, 8, 5, 4, 4, 5, 9, 10, 5, 7, 9, 3, 4, 5, 6, 8, 9, 6, 8, 5, 8, 1, 3, 4, 6, 10, 8, 6, 10, 8, 5, 3, 8, 9, 3, 4, 1, 9, 1, 4, 9, 2, 5, 6, 3, 3, 10, 10, 1, 2, 4, 7, 9, 7, 5], \"Freq\": [1.0049344910139628, 1.011492331197538, 0.9793010814862667, 0.030403185183002, 0.942498740673062, 0.030403185183002, 1.0077429470527373, 0.9392289188367967, 1.0174961721516373, 0.47937556822398475, 0.5193235322426502, 0.9996453621138892, 0.4313793098052956, 0.0616256156864708, 0.5070907805058168, 1.0174961721516376, 0.9760140371673005, 0.2416400935533002, 0.004239299886900004, 0.12293969672010012, 0.26283659298780027, 0.36881909016030034, 0.01056290581121673, 0.1954137575075095, 0.32216862724211026, 0.46476785569353607, 0.005281452905608365, 0.3752163940085815, 0.4077154517573563, 0.21863002485539396, 0.9456378787839502, 0.24713134874781142, 0.3501027440593995, 0.16990280226412036, 0.1158428197255366, 0.1158428197255366, 0.9942182686154166, 1.0009410753629324, 0.9886214187286751, 1.011492331197538, 0.9652499534534982, 0.020983694640293437, 1.0049344910139628, 1.0076895070805272, 1.100741654538497, 1.0001728004635209, 0.27340036667402245, 0.3450052246124569, 0.14971924841672657, 0.23434317143487637, 1.01182501484386, 1.013584541578043, 0.9988211309701176, 1.0174961721516373, 0.9991629077885448, 1.0387924007053293, 0.9882142126318918, 0.08383214608061737, 0.8078370440495856, 0.10669545864805847, 0.012463908672498481, 0.7561437927982412, 0.232659628553305, 0.2863254800014988, 0.015270692266746603, 0.6948164981369704, 1.002709474169591, 0.9882142126318918, 0.9951187162345387, 1.001698617092756, 0.005903771384479748, 0.9918335925925976, 0.9793010814862667, 0.19830813534109026, 0.4263624909833441, 0.0231359491231272, 0.14542596591679954, 0.20822354210814478, 1.0049636060663307, 0.19670348730626108, 0.5198592164522614, 0.06556782910208703, 0.023417081822173936, 0.19670348730626108, 0.9901339407550825, 1.0063923698637687, 0.03155412274070222, 0.9624007435914177, 0.9434928467472832, 1.0576795352636081, 0.8953320037355045, 0.1030027968899253, 0.9943672519706708, 0.8503266965582351, 0.15353120910079246, 1.0154272614638151, 1.0302073395424753, 1.0042827364145241, 1.0012636363594767, 1.0023761515109872, 0.6221127225681975, 0.22025108811420654, 0.0966013544360555, 0.057960812661633304, 0.0038640541774422202, 0.9965977383942811, 0.9763223827440752, 0.9793010814862667, 0.674146348116558, 0.32605771085376006, 0.36999977527015854, 0.6317069333880755, 1.010174528468156, 0.9973185630181415, 0.9968981022235445, 0.3903227261134885, 0.1210494530351958, 0.1877501720545894, 0.3013884340876304, 0.812159114414959, 0.19034979244100603, 0.30124853908814114, 0.044219969040461084, 0.40350721749420737, 0.07738494582080689, 0.17687987616184433, 1.000414388096483, 0.9973752212600138, 0.9966159960137082, 0.8075493026017173, 0.006512494375820301, 0.18886233689878873, 0.9983655544672615, 1.0012112798033215, 1.0023249742191205, 0.9793010814862667, 0.9717005961133655, 1.004349873156937, 0.9987452421683379, 0.9897031041733982, 0.9815157536498641, 0.8403655817435031, 0.15880924379404782, 1.0036173909027473, 0.9896210359366922, 0.01898969128097851, 0.9874639466108825, 0.6273628219202537, 0.15469220266526804, 0.08212055203217933, 0.13654929000699587, 0.992580148080879, 0.9392289188367967, 0.009231616631053216, 0.20309556588317076, 0.03231065820868626, 0.13385844115027165, 0.6231341225960921, 0.99500688144971, 0.9983655544672615, 0.9882142126318919, 1.0402016666623453, 0.4085403347780349, 0.4493943682558384, 0.1167258099365814, 0.026263307235730816, 1.0174961721516373, 0.9788983783067978, 0.963148947721185, 1.0174961721516373, 0.05801182874571949, 0.51764401034642, 0.004462448365055345, 0.20081017642749052, 0.10263631239627294, 0.11602365749143898, 0.9392289188367967, 0.026750721201454535, 0.9764013238530905, 1.0045676393184715, 0.9966159960137082, 1.0154272614638151, 0.9994759130607452, 0.37808180962568194, 0.0585760550124296, 0.3709816817453875, 0.0585760550124296, 0.13312739775552182, 1.016681288715938, 1.0025482340852185, 0.05529731100597527, 0.3625045943725046, 0.3502163030378434, 0.23347753535856228, 1.0600071584078532, 0.9937567110073624, 1.0387924007053293, 1.0139484481182945, 0.11634482895924221, 0.5910317311129504, 0.17684414001804816, 0.11634482895924221, 1.0098245565271442, 0.9456378787839502, 0.07620907075416809, 0.9240349828942881, 1.011477297208858, 0.1117520814721853, 0.7677781893737174, 0.1200300134330879, 1.0357358066930913, 1.0576795352636081, 0.1942421209953161, 0.28650712846809123, 0.12625737864695546, 0.08255290142300933, 0.14568159074648707, 0.16510580284601867, 0.9784370262564418, 1.0086804040362136, 1.0174979954065297, 1.0065959449997055, 1.0119444508691424, 1.0445878202520178, 0.600807190305319, 0.15020179757632976, 0.25659473752623, 1.0102263787963595, 0.010293549343153692, 0.8234839474522955, 0.16469678949045907, 1.0174961721516376, 1.0037988140029963, 1.011477297208858, 1.0305625151187463, 0.3870337542748022, 0.6114011480572962, 0.04054840708239095, 0.9596456342832526, 0.6369930057731482, 0.03211729440873016, 0.03345551500909392, 0.19538020765310846, 0.10036654502728175, 0.826896957692451, 0.12430477141781943, 0.04864099751132065, 0.265460992624701, 0.6371063822992824, 0.09291134741864536, 0.6804442755374879, 0.2442620476288418, 0.07560491950416531, 0.9131392266468856, 1.004453149311574, 1.100741654538497, 0.987124415099292, 0.9970488224510786, 0.8244012883880953, 0.17665741894030615, 1.007689507080527, 0.2316173448514584, 0.23782138087426533, 0.1158086724257292, 0.1385568045093546, 0.06617638424327384, 0.21093722477543533, 0.19391747659418693, 0.40275168215715745, 0.12306301399246478, 0.2834178504068886, 1.0077429470527373, 0.6877579345407681, 0.1930871206598413, 0.08642947305726228, 0.031261724297307635, 0.9906674890846473, 0.9958670948910596, 0.09307147820655273, 0.22193967880024115, 0.6872970698330049, 0.1317044350626596, 0.7112039493383618, 0.15804532207519154, 0.9392289188367967, 1.0001372747093789, 0.9392289188367967, 1.0183792540750234, 0.06145429362006564, 0.9422991688410064, 0.17749162215864256, 0.3484094805336317, 0.13147527567306858, 0.02958193702644043, 0.3155406616153646, 0.9962104312814547, 0.9893400145139963, 1.0244410353492794, 0.979034389362809, 0.026696618982679866, 0.9744265928678152, 0.4709851745056819, 0.0710921018121784, 0.2843684072487136, 0.17328699816718485, 1.0076895070805272, 0.26399946336543917, 0.10110617745910437, 0.11234019717678263, 0.5055308872955219, 0.005617009858839132, 0.011234019717678264, 1.000020778876088, 0.9804231696629718, 0.9947168624189637, 0.9995652750842889, 0.07094880078115481, 0.588457700596637, 0.095989553998033, 0.24623407329930203, 0.5200176220324807, 0.31201057321948844, 0.09706995611272974, 0.0693356829376641, 1.0090131833269556, 1.057645168005168, 1.007313843108198, 0.9781949285434751, 0.5984252255843511, 0.08160343985241152, 0.046983798702903604, 0.27201146617470506, 1.0089874843688986, 1.005551304081574, 0.990367184772702, 1.0004829787609357, 0.963148947721185, 0.9878450745858307, 1.0088664621688777, 0.9959091160110212, 0.9781949285434751, 1.0002200836496897, 0.08398203511722897, 0.9149621720666525, 0.9960752001063397, 1.0029719730948008, 0.4321363007913827, 0.5651013164195005, 0.2680749645921597, 0.17401357350719138, 0.12227980841045881, 0.43268239899085426, 0.1076620311773777, 0.8900061243996558, 1.0011460687228613, 1.0001128942453352, 0.16324798629734413, 0.835445576933467, 0.20376416871326186, 0.309833188043453, 0.365658987690922, 0.11723417925968492, 0.00279128998237345, 1.0053831224831655, 1.0302073395424753, 1.0305625151187463, 1.0158401934741927, 0.922976197175436, 0.077841366026844, 0.9456378787839502, 1.0174961721516373, 1.002709474169591, 0.9712426363574974, 0.9864150539934201, 0.007614835906590609, 0.2842872071793827, 0.11168425996332894, 0.18529434039370482, 0.4137394175914231, 0.1905476355243672, 0.13066123578813751, 0.4899796342055157, 0.1905476355243672, 0.2989334966422533, 0.011646759609438442, 0.21740617937618423, 0.14752562171955358, 0.32222701586113023, 0.21011675443956548, 0.5894942277332255, 0.1692607188540944, 0.02918288256105076, 1.0063166987537107, 0.997547124425513, 0.9914083032166187, 0.9959091160110212, 1.0600071584078532, 1.0101131887010377, 1.0043417014091633, 1.0098245565271442, 0.6776733789333936, 0.32081346130357463, 1.0001128942453352, 1.00143056604276, 0.9906674890846473, 0.19748688492077202, 0.4500863888892013, 0.35363930555580103, 1.0059500988634544, 0.9848741119554972, 0.07104108560476453, 0.9235341128619389, 0.0037390045055139226, 1.02826613556058, 0.08519177435150196, 0.2424688962311979, 0.23154687387844125, 0.15290831293859328, 0.2009652112907226, 0.08519177435150196, 0.9906674890846473, 0.9973752212600138, 0.9456378787839502, 0.13993431842963439, 0.03887064400823177, 0.8201705885736904, 0.9929197727231477, 0.9966159960137082, 1.0040331830463824, 0.9901339407550825, 1.0065144758287787, 1.0047516367974934, 0.9896210359366922, 0.9906674890846473, 0.254905338625642, 0.7470142562501454, 1.0072811123858743, 1.0221172506428902, 0.8403775389410665, 0.1597411850879713, 1.011477297208858, 0.641991852429089, 0.14510774746684887, 0.008794408937384781, 0.20227140555984996, 1.0357358066930913, 0.5817441422414998, 0.12742966925289995, 0.06648504482759998, 0.22161681609199993, 0.7035870723472035, 0.21271237070961965, 0.08181245027293063, 0.996660487953532, 0.9949011108328724, 0.28927796548957296, 0.5296011983578335, 0.1780172095320449, 0.004450430238301122, 0.37672385377610906, 0.6242852434004093, 0.9998650608611145, 1.0073138431081983, 1.0061084893362675, 1.011477297208858, 0.9864150539934201, 1.0090131833269556, 0.997547124425513, 1.002709474169591, 0.7680077722151943, 0.21943079206148408, 0.020571636755764133, 1.01182501484386, 1.0083818496243795, 0.952708103655287, 0.03736110210412891, 0.9929197727231477, 0.9150131598443443, 1.005072131737461, 0.07112206745754233, 0.017069296189810162, 0.10241577713886096, 0.23328038126073886, 0.5775111877552438, 1.0126823221754173, 0.9993728306629315, 1.02826613556058, 1.0012636363594767, 1.0174961721516376, 1.0316049586734002, 0.9906682539641384, 0.89432467130894, 0.08654754883634903, 0.014424591472724839, 1.004740246207947, 0.9931245177306778, 0.004706751268865772, 1.0174961721516373, 1.0357358066930913, 0.9915745643096325, 0.9793010814862667, 0.08188747592118868, 0.1373596370290907, 0.3064176518341254, 0.13207657406643336, 0.34339909257272677, 0.9940597135936166, 0.34325672256797446, 0.10033658044294638, 0.49640202955984003, 0.060730035531257026, 0.6111643786804748, 0.3864136071657196, 0.1200699617421737, 0.2121235990778402, 0.26015158377470965, 0.40823786992339056, 0.9980924641559507, 0.9947745036035338, 0.9980821981175103, 0.9938352513273081, 1.007313843108198, 0.9991076871127523, 0.9986536504451254, 0.9951187162345387, 1.007313843108198, 0.01037506951262842, 0.9856316036996999, 0.013345228139952944, 0.9875468823565179, 1.0076895070805272, 1.0174979954065297, 1.0174961721516373, 1.007689507080527, 1.0002518529093714, 0.9172847121154142, 1.0072811123858745, 0.0606164148476219, 0.312407676522359, 0.624815353044718, 1.002536157742499, 1.002225980466094, 1.0174961721516373, 1.0002504743185587, 0.9868718282069283, 1.0098245565271442, 0.9996860194120298, 0.06255344962844389, 0.573406621594069, 0.10425574938073981, 0.26585216092088654, 0.07192000574648806, 0.2517200201127082, 0.005993333812207339, 0.6712533869672219, 0.9864150539934201, 1.0305625151187463, 0.1125616404666343, 0.8404602488175361, 0.04502465618665372, 0.9824118576338907, 0.9784370262564418, 0.11806340891751028, 0.882003113677871, 1.004740246207947, 0.9973752212600137, 0.9854157160841068, 1.0184731247457175, 1.0072811123858743, 0.9871244150992919, 0.7229621012776558, 0.27613135812688244, 0.21131075603575922, 0.20124833908167544, 0.5869743223215533, 0.9131392266468856, 0.9597042924576448, 1.0018393113521753, 0.9933522248274242, 0.05443078131633572, 0.011875806832655067, 0.9015716687123971, 0.029689517081637667, 0.0019793011387758443, 0.8961570162285107, 0.10516128251661096, 0.9965033897728983, 0.9943672519706708, 0.9793010814862667, 0.16694788241887085, 0.3143593105121292, 0.22200516279105167, 0.29659889748884505, 0.2946454918354422, 0.08250073771392381, 0.2980128688849901, 0.035357459020253064, 0.09260286886256755, 0.19699155739855279, 0.24245437708011094, 0.7543025064714562, 0.9943672519706708, 0.31210536285862756, 0.13916386309280795, 0.020266582003806984, 0.5296333430328225, 0.15835066928068875, 0.4618561187353422, 0.19793833660086096, 0.06597944553362031, 0.11546402968383555, 0.9989117671808311, 1.0009515189459197, 0.2477782135594342, 0.7543470057253885, 0.10297491653087401, 0.2800917729639773, 0.020594983306174805, 0.11945090317581386, 0.47780361270325544, 0.9781949285434751, 0.9983655544672615, 0.9954307463578053, 0.9196678213210545, 0.08135523034763174, 0.14192780311638248, 0.28385560623276496, 0.09934946218146774, 0.07380245762051889, 0.06244823337120829, 0.3377881714169903, 0.9929197727231477, 0.6080400047748304, 0.14335902551601692, 0.25211414832127116, 1.000414388096483, 0.9864150539934201, 0.9382030335294366, 0.06339209686009706, 0.09617920517201146, 0.9040845286169078, 1.013840997601247, 0.17317937035182282, 0.3896535832916013, 0.17514731774218442, 0.08265379039518816, 0.17908321252290768, 0.37544057735589875, 0.6257342955931646, 0.9989962417488804, 0.9966159960137082, 0.1892883128494948, 0.14359803043754776, 0.2349785952614418, 0.0946441564247474, 0.3361499348878959, 1.0131834415542325, 0.1321288923375477, 0.16085256458484068, 0.011489468898917192, 0.7008576028339487, 0.4057534410887543, 0.011846815798211804, 0.1332766777298828, 0.18066394092273003, 0.22805120411557722, 0.038502151344188364, 1.0076895070805272, 1.007313843108198, 0.9980924641559507, 0.9953514961252367, 1.0013208691173188, 1.0576795352636081, 0.9072006654281467, 0.08699184463009625, 0.9923750768817349, 1.0012636363594767, 0.6548211569002224, 0.3483091260107566, 0.9973752212600138, 0.25818185950718325, 0.7433856989258552, 1.0174961721516373, 1.0020533414347792, 0.6049821308331557, 0.09338650341719852, 0.05684395860177301, 0.060904241359042516, 0.18271272407712755, 0.5789985453234402, 0.19940613801595658, 0.22343097392149353, 0.03673983744634423, 0.03391369610431775, 0.406964353251813, 0.5228361482748987, 0.8601035304371198, 0.13652436991065395, 0.9971424399936972, 0.12759080334872475, 0.8727210949052772, 1.0037836085234233, 0.9793010814862667, 1.0065959449997055, 0.3859983875850896, 0.03741821104141175, 0.210723609549003, 0.13785656699467486, 0.22844802530546118, 1.0072811123858743, 0.013211443270216687, 0.9908582452662515, 1.002536157742499, 1.0002504743185587, 0.9996453621138892, 0.9955343179106465, 0.9940597135936166, 1.0010160666362853, 1.0127194554332446, 0.2590527673736603, 0.24562040165798898, 0.3396469616676879, 0.05372946286268509, 0.042216006534966856, 0.059486191026544205, 0.9893400145139963, 0.62414094581582, 0.15767771262715455, 0.2168068548623375, 0.9980924641559507, 0.014286585904548815, 0.2571585462818787, 0.7286158811319896, 0.999907123673579, 0.9987404823423907, 1.0357358066930913, 0.0169642802233668, 0.1823660124011931, 0.8015622405540813, 1.0600071584078532, 0.21307594581430497, 0.6155527323524366, 0.17164451190596788, 0.44106324504809385, 0.22053162252404693, 0.08337171095421286, 0.16539871689303517, 0.08875053101577497, 1.0018393113521753, 0.4227581041660926, 0.2875905470517637, 0.16680251729002293, 0.12078802976174075, 1.0049636060663307, 0.19162028932245612, 0.39419030946333833, 0.030111759750671676, 0.38324057864491223, 0.9916944355395664, 1.00706151372671, 1.0174961721516376, 0.0658951955119453, 0.9357117762696231, 1.0065144758287787, 1.0033272148420835, 0.9998649082854218, 1.0023761515109872, 1.001597794461768, 0.9962104312814547, 1.0045676393184715, 0.803364965695197, 0.1130661803571018, 0.089262773966133, 0.9971065556951081, 0.9915423450048451, 0.9917665557978015, 0.9689063926462428, 0.009316407621598488, 0.018632815243196977, 0.9988211309701176, 0.7208582295089138, 0.2743911970388768, 0.004650698254896218, 0.2888032062545296, 0.12835698055756872, 0.5840242615369376, 0.9098134968253087, 0.09331420480259577, 0.9875647364541468, 0.012994272848080878, 1.0043417014091633, 1.0001372747093789, 0.9958670948910596, 0.829806108638741, 0.10982727908453926, 0.0020338385015655418, 0.05898131654540072, 1.0069653676182833, 1.001776844012181, 1.0004829787609357, 0.8642692278589322, 0.1364635622935156, 1.0027351438213425, 0.27832685868202567, 0.6162951870816283, 0.10602927949791455, 0.998887103115992, 0.02523559470140144, 0.9715703960039554, 1.00349195012563, 0.9966159960137081, 0.9773737567409917, 0.014587668011059578, 1.0020795634826734, 0.9784370262564418, 1.0072811123858743, 0.9983199695090179, 0.9793010814862667, 1.0131834415542325, 1.0092591452412947, 0.9784370262564418, 1.0053831224831655, 1.0221272819774363, 1.0174961721516373, 0.9434928467472832, 1.0357358066930913, 1.011492331197538, 0.9963647795961524, 1.0600071584078532, 1.0016851062059529, 0.42643608869598265, 0.24602082040152845, 0.012301041020076424, 0.31572671951529485, 0.5784412786902666, 0.4199055208270083, 1.0174961721516376, 1.0045676393184715, 0.31208581767364685, 0.6873318603526746, 1.0076895070805272, 0.9037137730378519, 0.09651312139239196, 0.08285387229405394, 0.917310728969883, 0.9962970508616619, 0.6177277182108453, 0.384622918885998, 0.4770670090785152, 0.20609294792191857, 0.11067954610621553, 0.20609294792191857, 0.9966159960137082, 1.01182501484386, 0.7558626235984475, 0.01971815539822037, 0.2234724278464975, 0.0018769265325902223, 0.013138485728131555, 0.9853864296098667, 0.9986755800882537, 0.8310180787434739, 0.06442000610414526, 0.10307200976663243, 1.0174961721516376, 0.17468644375526454, 0.6728663018721301, 0.15204190474995247, 0.3446273358453594, 0.07817934933528986, 0.577569886926019, 1.0005066976218975, 0.17955018054032568, 0.15261765345927683, 0.2693252708104885, 0.3950103971887165, 0.9850394570666148, 1.0025482340852185, 0.9943672519706708, 0.9893400145139963, 0.9426709008189881, 0.05295903937185326, 0.9991645511679473, 1.0101131887010377, 0.9993177431109018, 0.9993673037148564, 0.9975517856813267, 0.9456378787839502, 0.9195638000240843, 0.08066349123018283, 0.27095367147271704, 0.19206842534774882, 0.5350477563258716, 0.12003861985251871, 0.7202317191151123, 0.15605020580827433, 0.9893400145139963, 0.9946310896313758, 0.9961518836147844, 0.9864150539934201, 0.4367033930281777, 0.5636520537921828, 0.9713383487114768, 0.9976673712900387, 0.0031874356910224877, 1.0061433550732886, 1.0101131887010377, 0.9908222706802229, 1.005717511959039, 0.9996087161318402, 0.9999531347007471, 0.9973752212600138, 0.10218605500416852, 0.18166409778518847, 0.7209793880849668, 0.9969291643132682, 0.36009931415428187, 0.011165870206334323, 0.43546893804703857, 0.19261126105926707, 0.10749017895608133, 0.8957514913006778, 0.9943672519706708, 0.6609101170971587, 0.12016547583584705, 0.09613238066867763, 0.12016547583584705, 0.9870476081867853, 0.009870476081867852, 0.9850394570666148, 0.123668394443941, 0.123668394443941, 0.7610362735011754, 0.8765536595833002, 0.12345826191314087, 1.0038641381660467, 0.7987244389489354, 0.19660909266435334, 1.000193910252255, 0.19900182053041707, 0.09222035585555913, 0.7086406292058754, 0.9933233730650288, 1.027358877569264, 1.005717511959039, 0.024680273042694163, 0.9748707851864195, 1.002470988093255, 0.08472261701295787, 0.7085891604720114, 0.20795551448635116, 1.0028043074419373, 0.10740639377823488, 0.08751632085633954, 0.34409826154878953, 0.2625489625690186, 0.14718653962202558, 0.04972518230473837, 0.5931754730940123, 0.07414693413675154, 0.33366120361538193, 1.0174961721516373, 1.0011178718296392, 1.002050151346714, 1.005072131737461, 0.9917561990570957, 0.07586848565775978, 0.23031504574677075, 0.0650301305637941, 0.631334184223501, 0.9392289188367967, 1.0065959449997055, 0.39204525624854436, 0.21743686481011704, 0.06588995903336879, 0.29979931360182804, 0.02306148566167908, 1.0054157769925671, 0.43703582441553934, 0.21851791220776967, 0.056757899274745366, 0.22986949206271873, 0.056757899274745366, 1.007313843108198, 0.9864150539934201, 0.9999786675441762, 0.005345292300545958, 0.24053815352456812, 0.75368621437698, 0.09112728967916878, 0.4750252334339649, 0.4323699063500987, 0.18903847451453512, 0.8059008650356497, 1.0069210931673767, 0.7645301880021754, 0.23524005784682323, 0.8356115435817949, 0.16384540070231274, 1.003716293668526, 0.9993941994407021, 0.27060801034681065, 0.09664571798100381, 0.11597486157720457, 0.202956007760108, 0.3124878214719123, 1.0073138431081983, 0.9972407046771162, 1.005997743387181, 0.9951716250049927, 0.9871244150992919, 1.007313843108198, 0.9988528992689385, 0.025929604097467047, 0.5272352833151632, 0.28954724575504864, 0.15989922526771344, 0.9941494331281795, 0.8647283792713051, 0.01752827795820213, 0.1168551863880142, 0.940129038226816, 0.9793010814862667, 0.9943672519706708, 1.0036782755939093, 1.007313843108198, 0.9973185630181415, 0.9864150539934201, 0.1719236195111888, 0.27052687187790003, 0.31350777675569724, 0.2452439866556664, 1.0302073395424753, 0.996882758356733, 0.9906682539641384, 0.4147491861421254, 0.3822905541831765, 0.11901498384947946, 0.08294983722842508, 0.9892323895918697, 0.1488633587768664, 0.8435590330689097, 0.2263962353843322, 0.1859683362085586, 0.0727702185163925, 0.5134343195323248, 0.9929197727231477, 1.0010181315887718, 0.0803362030378949, 0.013971513571807809, 0.055886054287231236, 0.8487694494873244, 0.9793010814862667, 1.011477297208858, 1.013840997601247, 0.44754399168095454, 0.30074956240960143, 0.13605337347101018, 0.11099090993687673, 0.9917665557978015, 0.9914083032166187, 0.0529861940096501, 0.9444009873484693, 0.03231330306199171, 0.9693990918597514, 0.654571314723441, 0.33104756146932646, 0.007523808215211965, 0.8729982169918895, 0.03145939520691494, 0.0943781856207448, 0.0039673803709905295, 0.7895086938271153, 0.09918450927476323, 0.09124974853278217, 0.015869521483962118, 1.0174961721516376, 0.45700169464003326, 0.21877740700852655, 0.1118195635821358, 0.21877740700852655, 1.0174961721516373, 0.9999786675441762, 1.0021332043568498, 0.9886214187286751, 0.9961518836147841, 0.9958670948910596, 0.0086572090820113, 0.2943451087883842, 0.12552953168916386, 0.5713757994127459, 1.0014869309944692, 0.15607994124888716, 0.6011968107364543, 0.05202664708296239, 0.19076437263752874, 1.0090131833269556, 0.9893400145139963, 0.24636831161071207, 0.12154170039461797, 0.43360822843485325, 0.19709464928856965, 1.0145991407187618, 0.9959091160110212, 0.9966154149577073, 0.0031438972080684775, 0.9781949285434751, 0.9962104312814547, 0.9850394570666148, 1.005072131737461, 0.4254376280993121, 0.22074593910813367, 0.21138095987324315, 0.0013378541764129312, 0.14315039687618364, 0.8336763641257363, 0.17217229259118466, 1.0013043933576193, 0.9973752212600139, 1.0076895070805272, 0.9761118142505154, 0.017430568111616345, 0.485196454042829, 0.5147816036795869, 0.9717005961133655, 1.0069210931673767, 0.9099869317433169, 0.03956464920623117, 0.052752865608308226, 0.9906674890846474, 1.0092591452412947, 0.21561453880592352, 0.7538403048477778, 0.03080207697227479, 0.0016211619459091994, 0.9928258060543306, 0.2810999152407676, 0.7168047838639574, 0.27723858315697225, 0.7242150743692336, 0.9943672519706708, 0.9514818908030829, 0.01669266475093128, 0.03338532950186256, 0.9986536504451254, 0.10071189382034308, 0.9001125510193163, 1.011477297208858, 0.9973185630181415, 0.03712129477827447, 0.9651536642351363, 0.9962104312814547, 1.0174961721516373, 0.9930940544649466, 0.2653177975478219, 0.7309776054888971, 0.023300059264220022, 0.43687611120412545, 0.011650029632110011, 0.5300763482610055, 1.0044531493115743, 0.9607638178365615, 0.002558608727926556, 0.15863374113144646, 0.26865391643228836, 0.5705697463276219, 0.05465484399594071, 0.007287312532792095, 0.1457462506558419, 0.4153768143691494, 0.37894025170518897, 0.9933946867046275, 0.7008821324054856, 0.04829607971197464, 0.13428666066256364, 0.11661736320696316, 1.0011178718296392, 1.01182501484386, 0.6570357616458118, 0.169270230118921, 0.1737247098588926, 1.011477297208858, 0.9525220311158454, 0.04684534579258256, 0.9965977383942811, 1.0072811123858745, 0.941156392982754, 0.32161767793373586, 0.02226583924156633, 0.16328282110481973, 0.17812671393253063, 0.02473982137951814, 0.28945591014036226, 1.0154272614638151, 1.0040003107295528, 0.9928258060543306, 0.01782822723064265, 0.9805524976853457, 1.011477297208858, 0.8684831653459247, 0.1286641726438407, 1.007313843108198, 1.0069653676182833, 0.9998609936942658, 1.0174961721516373, 0.9933233730650288, 1.000193910252255, 1.000020778876088, 0.056861803978311656, 0.9439059460399735, 0.9953725755781062, 0.9972407046771162, 0.9980535701360009, 0.9986536504451254, 0.014166763628655103, 0.9916734540058572, 0.19458319287187759, 0.8037131879490597, 0.9972407046771162, 0.7175999379605384, 0.2709305888218359, 0.007322448346536106, 0.1014066563279315, 0.06760443755195433, 0.8281543600114406, 1.001698617092756, 0.9781949285434751, 0.9988528992689385, 0.998887103115992, 0.10073002990252895, 0.8995014950945129, 1.02826613556058, 0.9973752212600138, 1.0364806358542564, 0.9953766901483408, 1.0086804040362136, 0.9975206364906625, 1.0058501325955231, 0.35910147619940863, 0.643042178310569, 0.09318962939765375, 0.9103909948847714, 1.0092591452412947, 0.10986836724232261, 0.21301009975552343, 0.16143923349892303, 0.23319000394288883, 0.2825186586231153, 1.0058501325955231, 1.0174961721516373, 0.9781949285434751, 0.17528525019750826, 0.511643433008943, 0.2558217165044715, 0.06158670952885425, 1.002960512549471, 0.004922494232660698, 0.11321736735119606, 0.06399242502458907, 0.19197727507376722, 0.6251567675479086, 1.0065144758287787, 0.9988265176167448, 0.012491941679519978, 0.9868633926820782, 0.9882142126318918, 0.8039354458231429, 0.20098386145578573, 1.0127194554332446, 0.059666785590899316, 0.9308018552180293, 1.027358877569264, 0.9456378787839502, 0.24378410897110037, 0.016252273931406692, 0.005417424643802231, 0.005417424643802231, 0.7259349022694989, 0.7652691890663597, 0.23408234018500415, 1.0174961721516373, 0.9915423450048451, 0.9946731290543225, 0.8696021455167788, 0.07687090789098597, 0.05765318091823948, 0.1465890071142644, 0.8518009872855904, 1.0174961721516373, 0.5011159797970735, 0.19811561991977325, 0.30300035987730023, 1.0106387160938273, 0.006091971142921375, 0.9137956714382063, 0.04264379800044963, 0.03655182685752825, 0.9456378787839502, 1.0174961721516373, 0.9814091944863678, 0.015829180556231736, 0.6021690946148863, 0.005146744398417832, 0.39629931867817303, 0.9765884535536098, 0.02353225189285807, 0.6046864853685788, 0.29808488715352477, 0.0979421772075867, 0.9607638178365615, 0.9150131598443443, 0.9973752212600138, 0.941156392982754, 0.9882142126318918, 0.6243951552234425, 0.004492051476427643, 0.125777441339974, 0.251554882679948, 1.0031670377247475, 1.0001187442288537, 1.011477297208858, 1.0174961721516373, 0.025931680965367628, 0.972438036201286, 0.9864150539934201, 0.9456378787839502, 1.0013432280148966, 1.001776844012181, 1.0014418015894344, 1.0106387160938273, 0.9368547075200648, 0.06788802228406267, 0.9945501828589822, 1.01182501484386, 0.6854473040130198, 0.3149352477897659, 0.9760140371673005, 0.6399308663047318, 0.13509651621988783, 0.2275309746861269, 0.9929197727231477, 1.0174961721516373, 1.0026040160600918, 0.9828050486950866, 0.941156392982754, 0.9994759130607452, 0.27626874722217165, 0.18893217551967867, 0.0409947173297416, 0.1033779828315223, 0.06951278155912706, 0.32082822258058646, 0.9972407046771162, 1.0012636363594767, 0.5645814366491309, 0.12273509492372409, 0.049094037969489634, 0.2601984012382951, 0.5651200122615831, 0.2240501058713852, 0.21120646922907652, 0.17896088223499285, 0.16106479401149354, 0.31445983592720167, 0.16362137804342203, 0.051131680638569384, 0.12782920159642344, 0.9896515809619352, 0.0062242237796348125, 0.9958670948910595, 0.9951187162345387, 0.005231187086292851, 0.7166726308221206, 0.1726291738476641, 0.10462374172585702, 0.005231187086292851, 1.0061433550732886, 0.09375654504290991, 0.9119954835992146, 1.004349873156937, 1.001590468999629, 0.0128923055011676, 0.9927075235899052, 0.941156392982754, 1.0147077071938424, 1.0086804040362136, 0.9968981022235445, 0.941156392982754, 0.07244438813485816, 0.869332657618298, 0.06037032344571514, 0.014275562731790996, 0.014275562731790996, 0.9707382657617878, 1.0095306270550983, 1.0305625151187463, 1.0001128942453352, 1.0001128942453352, 1.005615832541343, 0.38921457278236793, 0.12806414975419847, 0.2536172377485107, 0.22850662014964826, 1.057645168005168, 1.0073138431081983], \"Term\": [\"\\uac00\\uac00\", \"\\uac00\\uae30\", \"\\uac00\\ub09c\\ud55c\", \"\\uac00\\ub2a5\\ud55c\", \"\\uac00\\ub2a5\\ud55c\", \"\\uac00\\ub2a5\\ud55c\", \"\\uac00\\ubb38\", \"\\uac00\\ubcf8\", \"\\uac00\\uc058\", \"\\uac00\\uc2b4\", \"\\uac00\\uc2b4\", \"\\uac00\\uc2dc\\ub178\", \"\\uac00\\uc871\", \"\\uac00\\uc871\", \"\\uac00\\uc871\", \"\\uac00\\ucc28\", \"\\uac01\\uc624\", \"\\uac04\\ub2e4\", \"\\uac04\\ub2e4\", \"\\uac04\\ub2e4\", \"\\uac04\\ub2e4\", \"\\uac04\\ub2e4\", \"\\uac08\\ub4f1\", \"\\uac08\\ub4f1\", \"\\uac08\\ub4f1\", \"\\uac08\\ub4f1\", \"\\uac08\\ub4f1\", \"\\uac10\\ub3d9\", \"\\uac10\\ub3d9\", \"\\uac10\\ub3d9\", \"\\uac10\\uba85\", \"\\uac10\\uc815\", \"\\uac10\\uc815\", \"\\uac10\\uc815\", \"\\uac10\\uc815\", \"\\uac10\\uc815\", \"\\uac14\\ub2e4\", \"\\uac15\", \"\\uac15\\uc810\", \"\\uac15\\uc8fc\\ub8e1\", \"\\uac19\\uc558\\ub2e4\", \"\\uac19\\uc558\\ub2e4\", \"\\uac1c\\uad6d\", \"\\uac1c\\uc815\", \"\\uac70\\ub450\\uc9c0\", \"\\uac70\\ubd80\", \"\\uac74\", \"\\uac74\", \"\\uac74\", \"\\uac74\", \"\\uac74\\ub128\", \"\\uac78\\uc5b4\", \"\\uac80\", \"\\uac80\\uc0ac\", \"\\uac8c\\uc774\\uace0\", \"\\uaca8\\uc6b4\", \"\\uacaa\\ub294\\ub2e4\", \"\\uacb0\\ub9d0\", \"\\uacb0\\ub9d0\", \"\\uacb0\\ub9d0\", \"\\uacb0\\uc815\", \"\\uacb0\\uc815\", \"\\uacb0\\uc815\", \"\\uacb0\\ud63c\", \"\\uacb0\\ud63c\", \"\\uacb0\\ud63c\", \"\\uacb9\", \"\\uacbd\\uba78\", \"\\uacbd\\ubbfc\", \"\\uacbd\\uc81c\", \"\\uacbd\\ucc30\", \"\\uacbd\\ucc30\", \"\\uacbd\\ucf8c\\ud55c\", \"\\uacbd\\ud5d8\", \"\\uacbd\\ud5d8\", \"\\uacbd\\ud5d8\", \"\\uacbd\\ud5d8\", \"\\uacbd\\ud5d8\", \"\\uacc4\\uae09\", \"\\uacc4\\uc18d\", \"\\uacc4\\uc18d\", \"\\uacc4\\uc18d\", \"\\uacc4\\uc18d\", \"\\uacc4\\uc18d\", \"\\uacc4\\uc57d\", \"\\uace0\\uac1c\", \"\\uace0\\ub4f1\\ud559\\uad50\", \"\\uace0\\ub4f1\\ud559\\uad50\", \"\\uace0\\ub9c8\\uc6cc\", \"\\uace0\\ub9d9\\ub2e4\\uace0\", \"\\uace0\\ubbfc\", \"\\uace0\\ubbfc\", \"\\uace0\\uc0dd\", \"\\uace0\\uc2a4\", \"\\uace0\\uc2a4\", \"\\uace0\\uc544\", \"\\uace0\\uc591\", \"\\uace0\\uc591\\uc774\", \"\\uace0\\uc720\", \"\\uace0\\uc804\", \"\\uace0\\ud1b5\", \"\\uace0\\ud1b5\", \"\\uace0\\ud1b5\", \"\\uace0\\ud1b5\", \"\\uace0\\ud1b5\", \"\\uace4\", \"\\uace8\\ubaa9\", \"\\uace8\\ubaa9\\uae38\", \"\\uacf5\\uac04\", \"\\uacf5\\uac04\", \"\\uacf5\\uac10\", \"\\uacf5\\uac10\", \"\\uacf5\\ubb34\\uc6d0\", \"\\uacf5\\uc720\", \"\\uacf5\\uc8fc\", \"\\uacfc\\uac70\", \"\\uacfc\\uac70\", \"\\uacfc\\uac70\", \"\\uacfc\\uac70\", \"\\uacfc\\ud559\", \"\\uacfc\\ud559\", \"\\uad00\\uacc4\", \"\\uad00\\uacc4\", \"\\uad00\\uacc4\", \"\\uad00\\uacc4\", \"\\uad00\\uacc4\", \"\\uad00\\uc810\", \"\\uad11\\ud65c\\ud55c\", \"\\uad50\\ubcf4\", \"\\uad50\\uc218\", \"\\uad50\\uc218\", \"\\uad50\\uc218\", \"\\uad50\\ud1b5\\uc0ac\\uace0\", \"\\uad6c\\ub974\", \"\\uad6c\\ub984\", \"\\uad6c\\ub9e4\", \"\\uad6d\\ub9bd\", \"\\uad70\\uc8fc\", \"\\uad81\", \"\\uad81\\uad90\", \"\\uad81\\uae08\\uc99d\", \"\\uad8c\\ub825\", \"\\uad8c\\ub825\", \"\\uadc0\", \"\\uaddc\\uc815\", \"\\uadf8\\uac8c\", \"\\uadf8\\uac8c\", \"\\uadf8\\ub140\", \"\\uadf8\\ub140\", \"\\uadf8\\ub140\", \"\\uadf8\\ub140\", \"\\uadf8\\ub300\", \"\\uadf8\\ub7ec\\uace0\", \"\\uadf8\\ub9b0\", \"\\uadf8\\ub9b0\", \"\\uadf8\\ub9b0\", \"\\uadf8\\ub9b0\", \"\\uadf8\\ub9b0\", \"\\uadf8\\ub9bc\", \"\\uadf8\\ub9bc\\uc790\", \"\\uadfc\\ubcf8\", \"\\uadfc\\ud604\\ub300\\uc0ac\", \"\\uae00\", \"\\uae00\", \"\\uae00\", \"\\uae00\", \"\\uae08\\uace0\", \"\\uae30\\uad6c\", \"\\uae30\\ub2e4\\ub838\\ub2e4\", \"\\uae30\\ub2e4\\ub9b0\", \"\\uae30\\ub3c4\", \"\\uae30\\ub3c4\", \"\\uae30\\ub3c4\", \"\\uae30\\ub3c4\", \"\\uae30\\ub3c4\", \"\\uae30\\ub3c4\", \"\\uae30\\ub984\", \"\\uae30\\ubb18\\ud55c\", \"\\uae30\\ubb18\\ud55c\", \"\\uae30\\ubc18\", \"\\uae30\\ubc1c\\ud55c\", \"\\uae30\\uc05c\", \"\\uae30\\uc220\", \"\\uae30\\uc5b5\", \"\\uae30\\uc5b5\", \"\\uae30\\uc5b5\", \"\\uae30\\uc5b5\", \"\\uae30\\uc5b5\", \"\\uae30\\uc5c5\", \"\\uae30\\uc6a4\", \"\\uae38\", \"\\uae38\", \"\\uae38\", \"\\uae38\", \"\\uae40\\ubc25\", \"\\uae40\\uc560\\ub780\", \"\\uae40\\uc9c0\\uc740\", \"\\uae40\\ud638\\uc5f0\", \"\\uae4a\\uc774\", \"\\uae4a\\uc774\", \"\\uae4a\\uc774\", \"\\uae4a\\uc774\", \"\\uae68\\ub2eb\\ub294\\ub2e4\", \"\\uaf2c\\ubc15\", \"\\uaf43\", \"\\uaf43\", \"\\uaf49\", \"\\uafc8\", \"\\uafc8\", \"\\uafc8\", \"\\ub04c\\ub9ac\\ub294\", \"\\ub04c\\uc5b4\\uc548\\uace0\", \"\\ub05d\", \"\\ub05d\", \"\\ub05d\", \"\\ub05d\", \"\\ub05d\", \"\\ub05d\", \"\\ub098\\uac00\", \"\\ub098\\uac00\\ub358\", \"\\ub098\\uac00\\uba70\", \"\\ub098\\ub0a0\", \"\\ub098\\ub204\\ub294\", \"\\ub098\\ub204\\uba74\\uc11c\", \"\\ub098\\ub77c\", \"\\ub098\\ub77c\", \"\\ub098\\ub77c\", \"\\ub098\\uba74\", \"\\ub098\\ubb34\", \"\\ub098\\ubb34\", \"\\ub098\\ubb34\", \"\\ub098\\uc124\", \"\\ub098\\uc62c\", \"\\ub098\\ud0c0\\ub09c\\ub2e4\", \"\\ub099\", \"\\ub0a8\", \"\\ub0a8\", \"\\ub0a8\\uc131\", \"\\ub0a8\\uc131\", \"\\ub0a8\\uc790\", \"\\ub0a8\\uc790\", \"\\ub0a8\\uc790\", \"\\ub0a8\\uc790\", \"\\ub0a8\\uc790\", \"\\ub0a8\\ud3b8\", \"\\ub0a8\\ud3b8\", \"\\ub0a8\\ud3b8\", \"\\ub0af\\uc120\", \"\\ub0af\\uc120\", \"\\ub0af\\uc120\", \"\\ub0b4\\uba74\", \"\\ub0b4\\uba74\", \"\\ub0b4\\uba74\", \"\\ub0b4\\uc57c\", \"\\ub0bc\", \"\\ub118\\uc5c8\\ub2e4\", \"\\ub118\\uccd0\\ub098\\ub294\", \"\\ub178\\ub3d9\", \"\\ub178\\ub798\", \"\\ub178\\ub798\", \"\\ub179\\uc5ec\", \"\\ub204\\uad6c\", \"\\ub204\\uad6c\", \"\\ub204\\uad6c\", \"\\ub204\\uad6c\", \"\\ub204\\uad6c\", \"\\ub204\\uad6c\", \"\\ub204\\uad70\\uac00\", \"\\ub204\\uad70\\uac00\", \"\\ub204\\uad70\\uac00\", \"\\ub204\\uad70\\uac00\", \"\\ub204\\uc801\", \"\\ub208\", \"\\ub208\", \"\\ub208\", \"\\ub208\", \"\\ub208\\uce58\", \"\\ub290\\ub07c\\uc9c0\", \"\\ub290\\ub08c\", \"\\ub290\\ub08c\", \"\\ub290\\ub08c\", \"\\ub298\", \"\\ub298\", \"\\ub298\", \"\\ub2e4\\uac00\\uc628\", \"\\ub2e4\\ub2c8\\ub294\", \"\\ub2e4\\ub4ec\\uc740\", \"\\ub2e4\\ub904\", \"\\ub2e4\\ub9cc\", \"\\ub2e4\\ub9cc\", \"\\ub2e4\\uc591\\ud55c\", \"\\ub2e4\\uc591\\ud55c\", \"\\ub2e4\\uc591\\ud55c\", \"\\ub2e4\\uc591\\ud55c\", \"\\ub2e4\\uc591\\ud55c\", \"\\ub2e4\\uc815\\ud55c\", \"\\ub2e8\\ub2e8\\ud55c\", \"\\ub2e8\\uc7a5\", \"\\ub2e8\\uc808\", \"\\ub2e8\\ud589\\ubcf8\", \"\\ub2e8\\ud589\\ubcf8\", \"\\ub2ec\", \"\\ub2ec\", \"\\ub2ec\", \"\\ub2ec\", \"\\ub2ec\\ub7ec\", \"\\ub2ec\\ub9ac\", \"\\ub2ec\\ub9ac\", \"\\ub2ec\\ub9ac\", \"\\ub2ec\\ub9ac\", \"\\ub2ec\\ub9ac\", \"\\ub2ec\\ub9ac\", \"\\ub2ec\\ube5b\", \"\\ub2ec\\uc774\", \"\\ub2f4\", \"\\ub2f9\\ub300\", \"\\ub2f9\\uc2dc\", \"\\ub2f9\\uc2dc\", \"\\ub2f9\\uc2dc\", \"\\ub2f9\\uc2dc\", \"\\ub2f9\\uc2e0\", \"\\ub2f9\\uc2e0\", \"\\ub2f9\\uc2e0\", \"\\ub2f9\\uc2e0\", \"\\ub300\\uac10\", \"\\ub300\\uad6c\", \"\\ub300\\uae4c\\uc9c0\", \"\\ub300\\uc5d0\", \"\\ub300\\ud45c\", \"\\ub300\\ud45c\", \"\\ub300\\ud45c\", \"\\ub300\\ud45c\", \"\\ub300\\ud559\\uc0dd\", \"\\ub300\\ud55c\\ubbfc\\uad6d\", \"\\ub358\", \"\\ub358\\uc838\", \"\\ub369\", \"\\ub370\\ub9ac\", \"\\ub3c4\\ub2ec\", \"\\ub3c4\\ubb34\\uc9c0\", \"\\ub3c4\\ubc15\", \"\\ub3c4\\uc11c\\uad00\", \"\\ub3c4\\uc2dc\", \"\\ub3c4\\uc2dc\", \"\\ub3c5\\uc77c\", \"\\ub3c5\\ucc3d\", \"\\ub3c5\\ud2b9\\ud55c\", \"\\ub3c5\\ud2b9\\ud55c\", \"\\ub3c8\", \"\\ub3c8\", \"\\ub3c8\", \"\\ub3c8\", \"\\ub3cc\", \"\\ub3cc\", \"\\ub3cc\\ud30c\", \"\\ub3cc\\ud48d\", \"\\ub3d9\\uc0dd\", \"\\ub3d9\\uc0dd\", \"\\ub3d9\\uc2dc\", \"\\ub3d9\\uc2dc\", \"\\ub3d9\\uc2dc\", \"\\ub3d9\\uc2dc\", \"\\ub3d9\\uc2dc\", \"\\ub3d9\\uc2dd\", \"\\ub3d9\\uc694\", \"\\ub418\\uc5c8\\uc744\\uae4c\", \"\\ub429\\ub2c8\\ub2e4\", \"\\ub450\\ub824\\uc6c0\", \"\\ub450\\ub824\\uc6c0\", \"\\ub4b7\\ubc1b\\uce68\", \"\\ub4dc\\ub7ec\\ub098\\uc9c0\", \"\\ub4e4\\ub824\\uc900\\ub2e4\", \"\\ub4e4\\uc5b4\\uac00\\ub294\", \"\\ub4e4\\uc5b4\\uc904\", \"\\ub4f1\\uc7a5\", \"\\ub4f1\\uc7a5\", \"\\ub4f1\\uc7a5\", \"\\ub4f1\\uc7a5\", \"\\ub4f1\\uc7a5\", \"\\ub530\\ub73b\\ud55c\", \"\\ub530\\ub73b\\ud55c\", \"\\ub530\\ub73b\\ud55c\", \"\\ub530\\ub73b\\ud55c\", \"\\ub538\", \"\\ub538\", \"\\ub538\", \"\\ub538\", \"\\ub538\", \"\\ub545\", \"\\ub545\", \"\\ub545\", \"\\ub545\", \"\\ub5a0\", \"\\ub5a0\\ub098\\ub294\", \"\\ub5a0\\ub09c\\ub2e4\", \"\\ub5a8\\uc5b4\\uc9c4\", \"\\ub5bc\\uc9c0\", \"\\ub7ec\\uc2dc\\uc544\", \"\\ub808\", \"\\ub839\", \"\\ub85c\\ub9e8\\uc2a4\", \"\\ub85c\\ub9e8\\uc2a4\", \"\\ub85c\\ub9f9\", \"\\ub85c\\ubd07\", \"\\ub85d\", \"\\ub9ac\", \"\\ub9ac\", \"\\ub9ac\", \"\\ub9b0\", \"\\ub9c8\\ub825\", \"\\ub9c8\\uc744\", \"\\ub9c8\\uc744\", \"\\ub9c8\\uc744\", \"\\ub9c8\\uc74c\\uba39\\uc740\", \"\\ub9c8\\uc9c0\\ub9c9\", \"\\ub9c8\\uc9c0\\ub9c9\", \"\\ub9c8\\uc9c0\\ub9c9\", \"\\ub9c8\\uc9c0\\ub9c9\", \"\\ub9c8\\uc9c0\\ub9c9\", \"\\ub9c8\\uc9c0\\ub9c9\", \"\\ub9c8\\uce68\", \"\\ub9cc\\ub098\\uc11c\", \"\\ub9cc\\uc5f0\\ud55c\", \"\\ub9cc\\ud07c\", \"\\ub9cc\\ud07c\", \"\\ub9cc\\ud07c\", \"\\ub9ce\\ub358\", \"\\ub9d0\\ub9ac\", \"\\ub9db\", \"\\ub9dd\\uc6d0\\ub3d9\", \"\\ub9de\\uc11c\", \"\\ub9de\\uc544\", \"\\ub9de\\ucdb0\", \"\\ub9e4\\ub2c8\\uc800\", \"\\ub9e4\\ub825\", \"\\ub9e4\\ub825\", \"\\ub9e4\\uc0ac\", \"\\ub9e4\\uc7a5\", \"\\uba38\\ub9ac\", \"\\uba38\\ub9ac\", \"\\uba39\", \"\\uba85\", \"\\uba85\", \"\\uba85\", \"\\uba85\", \"\\uba85\\ubd84\", \"\\uba87\", \"\\uba87\", \"\\uba87\", \"\\uba87\", \"\\ubaa8\\ub978\\ub2e4\", \"\\ubaa8\\ub978\\ub2e4\", \"\\ubaa8\\ub978\\ub2e4\", \"\\ubaa8\\uc21c\", \"\\ubaa8\\uc591\", \"\\ubaa9\\uc18c\\ub9ac\", \"\\ubaa9\\uc18c\\ub9ac\", \"\\ubaa9\\uc18c\\ub9ac\", \"\\ubaa9\\uc18c\\ub9ac\", \"\\ubaa9\\uc228\", \"\\ubaa9\\uc228\", \"\\ubab8\", \"\\ubb34\\uac10\\uac01\", \"\\ubb34\\uac8c\", \"\\ubb34\\ub2ac\", \"\\ubb34\\ub974\", \"\\ubb34\\uc11c\\uc6b4\", \"\\ubb34\\uc2a8\", \"\\ubb34\\ucc99\", \"\\ubb38\", \"\\ubb38\", \"\\ubb38\", \"\\ubb38\\ub4dd\", \"\\ubb38\\uba85\", \"\\ubb38\\ud559\\ub3d9\\ub124\", \"\\ubb38\\ud559\\ub3d9\\ub124\", \"\\ubb38\\ud559\\uc0ac\", \"\\ubb3b\\uac8c\", \"\\ubb88\\uc18c\", \"\\ubbf8\\ub798\", \"\\ubbf8\\ub798\", \"\\ubbf8\\ub798\", \"\\ubbf8\\ub798\", \"\\ubbf8\\ub798\", \"\\ubbf8\\ub828\", \"\\ubbf8\\uc2a4\\ud130\\ub9ac\", \"\\ubbfc\\uac10\\ud55c\", \"\\ubbfc\\uc871\", \"\\ubc00\\ub9ac\", \"\\ubc14\\ub00c\\uc5c8\\ub2e4\", \"\\ubc14\\uc774\", \"\\ubc18\", \"\\ubc18\", \"\\ubc18\", \"\\ubc18\\uc601\", \"\\ubc18\\uc804\", \"\\ubc18\\uc804\", \"\\ubc18\\uc9c0\", \"\\ubc1b\", \"\\ubc1b\\uae30\\ub3c4\", \"\\ubc1b\\uc544\\ub4e4\\uc774\\uba70\", \"\\ubc1c\\uacac\", \"\\ubc1c\\uacac\", \"\\ubc1c\\uacac\", \"\\ubc1c\\uacac\", \"\\ubc1c\\uacac\", \"\\ubc1c\\uc9dd\", \"\\ubc24\", \"\\ubc24\", \"\\ubc24\", \"\\ubc24\", \"\\ubc29\\uc2dd\", \"\\ubc29\\uc2dd\", \"\\ubc30\\uacbd\", \"\\ubc30\\uacbd\", \"\\ubc30\\uacbd\", \"\\ubc30\\uacbd\", \"\\ubc30\\uc6b0\", \"\\ubc31\\uc131\", \"\\ubc31\\ud654\\uc810\", \"\\ubc84\\ub9b4\", \"\\ubc84\\ud2f8\", \"\\ubc94\\uc778\", \"\\ubc94\\uc8c4\", \"\\ubc97\", \"\\ubc9a\\uaf43\", \"\\ubca0\", \"\\ubca0\", \"\\ubca0\\uc774\\ucee4\\ub9ac\", \"\\ubca0\\uc774\\ucee4\\ub9ac\", \"\\ubcc0\\uc2e0\", \"\\ubcc0\\uc8fc\", \"\\ubcc0\\ud638\", \"\\ubcf4\\ub0b4\", \"\\ubcf4\\ub0b4\\ub294\", \"\\ubcf4\\ub0b4\\uba74\\uc11c\", \"\\ubcf4\\ub77c\", \"\\ubcf4\\uba74\", \"\\ubcf4\\uba74\", \"\\ubcf4\\uba74\", \"\\ubcf4\\uc5ec\\uc8fc\\uba70\", \"\\ubcf4\\uc774\\uc9c0\", \"\\ubcf5\\uc120\", \"\\ubcf5\\uc218\", \"\\ubcf8\\ub2a5\", \"\\ubcf8\\ub2e4\", \"\\ubcf8\\uc9c8\", \"\\ubcfc\", \"\\ubcfc\", \"\\ubcfc\", \"\\ubcfc\", \"\\ubd04\", \"\\ubd04\", \"\\ubd04\", \"\\ubd04\", \"\\ubd04\\uc774\\uba74\", \"\\ubd09\\ucc29\", \"\\ubd80\\ubaa8\", \"\\ubd80\\ubaa8\", \"\\ubd80\\ubaa8\", \"\\ubd80\\uc0b0\", \"\\ubd80\\uc871\\ud55c\", \"\\ubd80\\ud130\", \"\\ubd80\\ud130\", \"\\ubd81\\ud55c\", \"\\ubd84\\ub7c9\", \"\\ubd88\\ub2a5\", \"\\ubd88\\ub7c9\", \"\\ubd88\\ud3b8\\ud55c\", \"\\ube0c\\ub77c\\ub354\\uc2a4\", \"\\ube44\\uadf9\", \"\\ube44\\uadf9\", \"\\ube44\\ubc00\", \"\\ube44\\ubc00\", \"\\ube44\\ubc00\", \"\\ube44\\ucd98\\ub2e4\", \"\\ube60\\uc838\\ub4dc\\ub294\", \"\\ube75\", \"\\ubfd0\\uc774\\uc5c8\\ub2e4\", \"\\uc0ac\\uac74\", \"\\uc0ac\\uac74\", \"\\uc0ac\\uac74\", \"\\uc0ac\\uac74\", \"\\uc0ac\\uac74\", \"\\uc0ac\\uace0\", \"\\uc0ac\\uace0\", \"\\uc0ac\\ub0b4\", \"\\uc0ac\\ub2e4\\ub9ac\", \"\\uc0ac\\uc11c\", \"\\uc0ac\\uc2e4\", \"\\uc0ac\\uc2e4\", \"\\uc0ac\\uc2e4\", \"\\uc0ac\\uc2e4\", \"\\uc0ac\\uc774\", \"\\uc0ac\\uc774\", \"\\uc0ac\\uc774\", \"\\uc0ac\\uc774\", \"\\uc0ac\\uc774\", \"\\uc0ac\\uc774\", \"\\uc0ac\\uc9c4\", \"\\uc0ac\\uc9c4\", \"\\uc0ac\\ucd98\\uae30\", \"\\uc0ac\\ud68c\", \"\\uc0ac\\ud68c\", \"\\uc0ac\\ud68c\", \"\\uc0ac\\ud68c\", \"\\uc0b4\\uc544\\uac00\\ub294\", \"\\uc0b4\\uc544\\uac00\\ub294\", \"\\uc0b4\\uc544\\uac00\\ub294\", \"\\uc0b4\\uc544\\uac00\\ub294\", \"\\uc0b4\\uc544\\uac00\\ub294\", \"\\uc0b4\\uc778\", \"\\uc0b4\\ud574\", \"\\uc0c1\", \"\\uc0c1\", \"\\uc0c1\\uc0c1\\ub825\", \"\\uc0c1\\uc0c1\\ub825\", \"\\uc0c1\\uc0c1\\ub825\", \"\\uc0c1\\uc0c1\\ub825\", \"\\uc0c1\\uc0c1\\ub825\", \"\\uc0c1\\uc2b9\", \"\\uc0c1\\uc2e4\", \"\\uc0c1\\uc810\", \"\\uc0c1\\ucc98\", \"\\uc0c1\\ucc98\", \"\\uc0c1\\ud669\", \"\\uc0c1\\ud669\", \"\\uc0c1\\ud669\", \"\\uc0c1\\ud669\", \"\\uc0c1\\ud669\", \"\\uc0c1\\ud669\", \"\\uc0c8\\ub85c\\uc774\", \"\\uc0c8\\ub86d\\uac8c\", \"\\uc0c8\\ub86d\\uac8c\", \"\\uc0c8\\ub86d\\uac8c\", \"\\uc0d8\", \"\\uc0dd\\uc120\", \"\\uc11c\", \"\\uc11c\", \"\\uc11c\\ub3c4\", \"\\uc11c\\ub3c4\", \"\\uc11c\\ub828\", \"\\uc11c\\ub85c\", \"\\uc11c\\ub85c\", \"\\uc11c\\ub85c\", \"\\uc11c\\ub85c\", \"\\uc11c\\ub85c\", \"\\uc11c\\uc0ac\", \"\\uc11c\\uc0ac\", \"\\uc11c\\uc2a4\\ud39c\\uc2a4\", \"\\uc11c\\ud3c9\", \"\\uc120\", \"\\uc120\", \"\\uc120\", \"\\uc120\", \"\\uc120\", \"\\uc120\\ubcf4\\uc77c\", \"\\uc120\\uc0ac\", \"\\uc120\\uc0ac\", \"\\uc120\\uc0ac\", \"\\uc120\\uc0ac\", \"\\uc120\\ud0dd\", \"\\uc120\\ud0dd\", \"\\uc120\\ud0dd\", \"\\uc120\\ud0dd\", \"\\uc120\\ud0dd\", \"\\uc120\\ud0dd\", \"\\uc124\\uacc4\", \"\\uc124\\uc120\", \"\\uc124\\uc815\", \"\\uc12c\", \"\\uc131\\uc7a5\", \"\\uc131\\uc7a5\\ud55c\\ub2e4\\ub294\", \"\\uc131\\uc801\", \"\\uc131\\uc801\", \"\\uc131\\ud615\", \"\\uc138\\uacc4\\ubb38\\ud559\", \"\\uc138\\uae30\", \"\\uc138\\uae30\", \"\\uc138\\ub825\", \"\\uc138\\uc6d4\", \"\\uc138\\uc6d4\", \"\\uc138\\uc6e0\\ub2e4\", \"\\uc138\\uc790\", \"\\uc18c\\uac1c\", \"\\uc18c\\uac1c\", \"\\uc18c\\uac1c\", \"\\uc18c\\uac1c\", \"\\uc18c\\uac1c\", \"\\uc18c\\ub140\", \"\\uc18c\\ub140\", \"\\uc18c\\ub140\", \"\\uc18c\\ub144\", \"\\uc18c\\ub144\", \"\\uc18c\\ub144\", \"\\uc18c\\ub144\", \"\\uc18c\\ub9ac\", \"\\uc18c\\ub9ac\", \"\\uc18c\\ubb38\", \"\\uc18c\\uc7ac\", \"\\uc18c\\uc7ac\", \"\\uc18c\\uc911\\ud55c\", \"\\uc18c\\uc911\\ud568\\uc744\", \"\\uc18c\\ud1b5\", \"\\uc190\", \"\\uc190\", \"\\uc190\", \"\\uc190\", \"\\uc190\", \"\\uc190\\uae38\", \"\\uc190\\ub2d8\", \"\\uc190\\ub2d8\", \"\\uc218\\ub2e8\", \"\\uc218\\uc0ac\", \"\\uc218\\uc218\\uaed8\\ub07c\", \"\\uc218\\uc815\", \"\\uc218\\ucd9c\", \"\\uc218\\ud559\", \"\\uc219\\uba85\", \"\\uc21c\\uac04\", \"\\uc21c\\uac04\", \"\\uc21c\\uac04\", \"\\uc21c\\uac04\", \"\\uc21c\\uac04\", \"\\uc21c\\uac04\", \"\\uc21c\\ud0c4\", \"\\uc228\", \"\\uc228\", \"\\uc228\", \"\\uc22b\\uc790\", \"\\uc2a4\", \"\\uc2a4\", \"\\uc2a4\", \"\\uc2a4\\ub178\\ubcfc\", \"\\uc2a4\\ub9b4\\ub7ec\", \"\\uc2a4\\uce94\\ub4e4\", \"\\uc2dc\", \"\\uc2dc\", \"\\uc2dc\", \"\\uc2dc\\uac04\\ub300\", \"\\uc2dc\\uae30\", \"\\uc2dc\\uae30\", \"\\uc2dc\\uae30\", \"\\uc2dc\\ub300\", \"\\uc2dc\\ub300\", \"\\uc2dc\\ub300\", \"\\uc2dc\\ub300\", \"\\uc2dc\\ub300\", \"\\uc2dc\\ub97c\", \"\\uc2dc\\uc120\", \"\\uc2dc\\uc120\", \"\\uc2dc\\uc120\", \"\\uc2dc\\uc120\", \"\\uc2dc\\uc7a5\", \"\\uc2dc\\uc808\", \"\\uc2dc\\uc808\", \"\\uc2dc\\uc808\", \"\\uc2dc\\uc808\", \"\\uc2dc\\uc98c\", \"\\uc2e0\\uacbd\", \"\\uc2e0\\ub4dc\\ub86c\", \"\\uc2e0\\ubd84\", \"\\uc2e0\\ubd84\", \"\\uc2e0\\uc74c\", \"\\uc2e0\\uc758\", \"\\uc2e0\\uc778\", \"\\uc2e4\\uc874\", \"\\uc2e4\\uc885\", \"\\uc2e4\\ud328\", \"\\uc2e4\\ud5d8\", \"\\uc2ec\\ub9ac\", \"\\uc2ec\\ub9ac\", \"\\uc2ec\\ub9ac\", \"\\uc2ed\", \"\\uc2ed\\ub300\", \"\\uc2f1\\uc544\", \"\\uc4f0\\ub294\", \"\\uc4f0\\ub294\", \"\\uc4f0\\ub294\", \"\\uc544\\uae30\", \"\\uc544\\ub0b4\", \"\\uc544\\ub0b4\", \"\\uc544\\ub0b4\", \"\\uc544\\ub294\", \"\\uc544\\ub294\", \"\\uc544\\ub294\", \"\\uc544\\ub2d0\\uae4c\", \"\\uc544\\ub2d0\\uae4c\", \"\\uc544\\ub4e4\", \"\\uc544\\ub4e4\", \"\\uc544\\ub974\", \"\\uc544\\ub974\\ubc14\\uc774\\ud2b8\", \"\\uc544\\ubaac\\ub4dc\", \"\\uc544\\ubc84\\uc9c0\", \"\\uc544\\ubc84\\uc9c0\", \"\\uc544\\ubc84\\uc9c0\", \"\\uc544\\ubc84\\uc9c0\", \"\\uc544\\ube44\", \"\\uc544\\ube60\", \"\\uc544\\uc6b0\\ub974\\ub294\", \"\\uc544\\uc774\", \"\\uc544\\uc774\", \"\\uc544\\uc774\\ub7ec\\ub2c8\", \"\\uc544\\uc8fc\", \"\\uc544\\uc8fc\", \"\\uc544\\uc8fc\", \"\\uc544\\ud508\", \"\\uc544\\ud514\", \"\\uc544\\ud514\", \"\\uc544\\ud649\", \"\\uc545\\ub9c8\", \"\\uc545\\ubabd\", \"\\uc545\\ubabd\", \"\\uc545\\uc758\", \"\\uc54a\\ub358\", \"\\uc54c\\ub824\\uc8fc\\ub294\", \"\\uc54c\\ub9ac\\ub294\", \"\\uc54c\\ubc14\", \"\\uc54c\\ubca0\\ub974\", \"\\uc560\\uac00\", \"\\uc560\\ucd08\", \"\\uc568\\ub9ac\\uc2a4\", \"\\uc57c\\uac04\", \"\\uc57c\\ucfe0\\uc790\", \"\\uc591\\uc7a5\", \"\\uc591\\ucabd\", \"\\uc5b4\\uae68\", \"\\uc5b4\\ub35c\\ud2b8\", \"\\uc5b4\\ub835\\ub2e4\\ub294\", \"\\uc5b4\\ub978\", \"\\uc5b4\\ub9b0\", \"\\uc5b4\\ub9b0\", \"\\uc5b4\\ub9b0\", \"\\uc5b4\\ub9b0\", \"\\uc5b4\\uba38\\ub2c8\", \"\\uc5b4\\uba38\\ub2c8\", \"\\uc5b4\\uc6b8\\ub824\", \"\\uc5b5\\uc555\", \"\\uc5b8\\uc5b4\", \"\\uc5b8\\uc5b4\", \"\\uc5bb\\uc73c\\uba70\", \"\\uc5bc\\uad74\", \"\\uc5bc\\uad74\", \"\\uc5c4\\ub9c8\", \"\\uc5c4\\ub9c8\", \"\\uc5d0\\ub514\", \"\\uc5ec\", \"\\uc5ec\", \"\\uc5ec\\ub7ec\", \"\\uc5ec\\ub7ec\", \"\\uc5ec\\ub7ec\", \"\\uc5ec\\ub7ec\", \"\\uc5ec\\ub7ec\\ubd84\", \"\\uc5ec\\uc0ac\", \"\\uc5ec\\uc12f\", \"\\uc5ec\\uc12f\", \"\\uc5ec\\uc12f\", \"\\uc5ec\\uc131\", \"\\uc5ec\\uc131\", \"\\uc5ec\\uc131\", \"\\uc5ec\\uc778\", \"\\uc5ec\\uc790\", \"\\uc5ec\\uc790\", \"\\uc5ec\\uc790\", \"\\uc5ec\\ud0c0\", \"\\uc5ec\\ud589\", \"\\uc5ec\\ud589\", \"\\uc5ec\\ud589\", \"\\uc5ed\\uc0ac\", \"\\uc5ed\\uc0ac\", \"\\uc5ed\\uc0ac\", \"\\uc5ed\\uc0ac\\uc18c\\uc124\", \"\\uc5ed\\uc2dc\", \"\\uc5ed\\uc2dc\", \"\\uc5ed\\uc2dc\", \"\\uc5ed\\uc2dc\", \"\\uc5f0\\uad6c\\uc6d0\", \"\\uc5f0\\ub300\\uae30\", \"\\uc5f0\\ub839\", \"\\uc5f0\\ub9d0\", \"\\uc5f0\\uc560\", \"\\uc5f0\\uc560\", \"\\uc5f0\\uc791\", \"\\uc5f4\\ub9b0\", \"\\uc5f4\\uc815\", \"\\uc601\\uc5b4\", \"\\uc601\\uc6c5\", \"\\uc601\\uc801\", \"\\uc601\\ud63c\", \"\\uc601\\ud63c\", \"\\uc601\\ud654\", \"\\uc601\\ud654\", \"\\uc601\\ud654\", \"\\uc608\\uc220\", \"\\uc608\\uc220\", \"\\uc608\\uc220\", \"\\uc608\\uc2a4\", \"\\uc608\\uce21\", \"\\uc624\\uae30\", \"\\uc624\\uc0ac\\uce74\", \"\\uc644\\uc131\", \"\\uc644\\uc131\", \"\\uc654\\uc73c\\uba70\", \"\\uc655\", \"\\uc655\", \"\\uc655\\uc790\", \"\\uc65c\\uace1\", \"\\uc678\\ub85c\\uc6c0\", \"\\uc678\\ubaa8\", \"\\uc695\\ub9dd\", \"\\uc6a9\\uc758\\uc790\", \"\\uc6b0\\uc560\", \"\\uc6b0\\uc8fc\", \"\\uc6b0\\uc8fc\", \"\\uc6b0\\uc8fc\", \"\\uc6b0\\ud654\", \"\\uc6b4\\uba85\", \"\\uc6b4\\uba85\", \"\\uc6b4\\uba85\", \"\\uc6b4\\uba85\", \"\\uc6b4\\uc601\", \"\\uc6b4\\uc601\", \"\\uc6b8\", \"\\uc6c0\", \"\\uc6c0\", \"\\uc6c0\", \"\\uc6c0\", \"\\uc6d0\\uace0\", \"\\uc6d0\\uace0\", \"\\uc6d0\\uace0\\uc9c0\", \"\\uc6d0\\uc791\", \"\\uc6d0\\uc791\", \"\\uc6d0\\uc791\", \"\\uc6d4\", \"\\uc6d4\", \"\\uc6d4\\uac04\", \"\\uc6f9\\uc18c\\uc124\", \"\\uc6f9\\uc18c\\uc124\", \"\\uc704\\ub300\\ud55c\", \"\\uc704\\ub85c\", \"\\uc704\\ub85c\", \"\\uc704\\ub85c\", \"\\uc704\\uc800\\ub4dc\", \"\\uc70c\", \"\\uc720\", \"\\uc720\\ub839\", \"\\uc720\\ub839\", \"\\uc720\\ub9ac\", \"\\uc720\\uc9c0\", \"\\uc720\\uc9c0\", \"\\uc720\\uc9c0\", \"\\uc720\\uc9c4\", \"\\uc758\\ubbf8\", \"\\uc758\\ubbf8\", \"\\uc758\\ubbf8\", \"\\uc758\\ubbf8\", \"\\uc758\\ubbf8\", \"\\uc758\\ubbf8\", \"\\uc758\\uc2dd\", \"\\uc758\\uc2dd\", \"\\uc758\\uc2dd\", \"\\uc758\\uc544\", \"\\uc758\\uc790\", \"\\uc758\\uc9c0\", \"\\uc774\\ub098\", \"\\uc774\\ubbfc\\uc790\", \"\\uc774\\uc0c1\", \"\\uc774\\uc0c1\", \"\\uc774\\uc0c1\", \"\\uc774\\uc0c1\", \"\\uc774\\uc1a1\", \"\\uc774\\uc5c8\\uace0\", \"\\uc774\\uc720\", \"\\uc774\\uc720\", \"\\uc774\\uc720\", \"\\uc774\\uc720\", \"\\uc774\\uc720\", \"\\uc774\\uc758\", \"\\uc774\\ud574\", \"\\uc774\\ud574\", \"\\uc774\\ud574\", \"\\uc774\\ud574\", \"\\uc774\\ud574\", \"\\uc775\\uc219\\ud55c\", \"\\uc775\\uc5b4\", \"\\uc778\\uacf5\", \"\\uc778\\ub958\", \"\\uc778\\ub958\", \"\\uc778\\ub958\", \"\\uc778\\uc0dd\", \"\\uc778\\uc0dd\", \"\\uc778\\uc0dd\", \"\\uc778\\uc5f0\", \"\\uc778\\uc5f0\", \"\\uc778\\uc9c0\\ub3c4\", \"\\uc778\\ud130\\ubdf0\", \"\\uc778\\ud130\\ubdf0\", \"\\uc77c\\uacf1\", \"\\uc77c\\uacf1\", \"\\uc77c\\uae30\", \"\\uc77c\\ub7ec\\uc2a4\\ud2b8\", \"\\uc77c\\uc0c1\", \"\\uc77c\\uc0c1\", \"\\uc77c\\uc0c1\", \"\\uc77c\\uc0c1\", \"\\uc77c\\uc0c1\", \"\\uc77c\\uc5b4\\ub0a0\", \"\\uc77c\\uc885\", \"\\uc77d\\uae30\", \"\\uc77d\\ub2e4\", \"\\uc77d\\uc5c8\\ub2e4\", \"\\uc77d\\uc5c8\\ub2e4\\ub294\", \"\\uc77d\\uc73c\\uba70\", \"\\uc784\", \"\\uc784\", \"\\uc784\", \"\\uc784\", \"\\uc784\\uc2e0\", \"\\uc785\", \"\\uc785\", \"\\uc785\", \"\\uc785\\uac00\", \"\\uc788\\uae30\\ub97c\", \"\\uc788\\ub294\\uc9c0\\ub97c\", \"\\uc788\\uc2b5\\ub2c8\\ub2e4\", \"\\uc788\\uc744\\uc9c0\\ub3c4\", \"\\uc788\\uc9c0\", \"\\uc78a\\uc5b4\\ubc84\\ub9b0\", \"\\uc790\\uae30\", \"\\uc790\\uae30\", \"\\uc790\\uae30\", \"\\uc790\\uae30\", \"\\uc790\\ub77c\\ub294\", \"\\uc790\\ub9e4\", \"\\uc790\\uc804\", \"\\uc791\\uc740\", \"\\uc791\\uc740\", \"\\uc791\\uc740\", \"\\uc791\\uc740\", \"\\uc794\\ud639\\ud55c\", \"\\uc7a0\", \"\\uc7a0\", \"\\uc7a5\\ub974\", \"\\uc7a5\\ub974\", \"\\uc7a5\\ub974\", \"\\uc7a5\\ub974\", \"\\uc7a5\\uc2dd\", \"\\uc7ac\\ub09c\", \"\\uc7ac\\ubbf8\", \"\\uc7ac\\ubbf8\", \"\\uc7ac\\ubbf8\", \"\\uc7ac\\ubbf8\", \"\\uc7ac\\uc77c\", \"\\uc800\\ub141\", \"\\uc800\\uc8fc\", \"\\uc801\", \"\\uc801\", \"\\uc801\", \"\\uc801\", \"\\uc804\\ubb38\\uac00\", \"\\uc804\\ubd80\", \"\\uc804\\uc7c1\", \"\\uc804\\uc7c1\", \"\\uc804\\ud1b5\", \"\\uc804\\ud1b5\", \"\\uc804\\ud558\", \"\\uc804\\ud558\", \"\\uc804\\ud558\", \"\\uc808\\ub9dd\", \"\\uc808\\ub9dd\", \"\\uc808\\ub9dd\", \"\\uc80a\\uc740\", \"\\uc80a\\uc740\", \"\\uc80a\\uc740\", \"\\uc80a\\uc740\", \"\\uc80a\\uc740\", \"\\uc810\\uc6d0\", \"\\uc810\\uc810\", \"\\uc810\\uc810\", \"\\uc810\\uc810\", \"\\uc810\\uc810\", \"\\uc815\\uad50\\ud558\\uac8c\", \"\\uc815\\ubcf4\", \"\\uc815\\uc138\\ub791\", \"\\uc815\\uc2dd\", \"\\uc815\\uc6d0\", \"\\uc815\\uc9c0\", \"\\uc815\\uccb4\", \"\\uc815\\uccb4\", \"\\uc815\\uccb4\", \"\\uc815\\uccb4\", \"\\uc815\\uce58\", \"\\uc81c\\ubaa9\", \"\\uc81c\\ubaa9\", \"\\uc81c\\ubaa9\", \"\\uc81c\\ubaa9\", \"\\uc81c\\ubc95\", \"\\uc81c\\uc774\", \"\\uc81c\\uc791\", \"\\uc81c\\uc791\", \"\\uc81c\\uc791\", \"\\uc81c\\uc791\", \"\\uc81c\\uc8fc\", \"\\uc870\\uac01\", \"\\uc870\\uc120\", \"\\uc870\\uc120\", \"\\uc870\\uc120\\uc778\", \"\\uc870\\uc6a9\\ud788\", \"\\uc870\\uc9c0\", \"\\uc870\\uc9c1\", \"\\uc874\\uc7ac\", \"\\uc874\\uc7ac\", \"\\uc874\\uc7ac\", \"\\uc874\\uc7ac\", \"\\uc874\\uc7ac\", \"\\uc880\", \"\\uc880\", \"\\uc880\\ube44\", \"\\uc885\\uc774\", \"\\uc885\\ud569\", \"\\uc8fc\\uae30\", \"\\uc8fc\\uae30\", \"\\uc8fc\\uc758\", \"\\uc8fc\\uc758\", \"\\uc8fc\\uc785\", \"\\uc8fc\\ud0dd\", \"\\uc8fd\", \"\\uc8fd\", \"\\uc8fd\", \"\\uc8fd\\uace0\", \"\\uc8fd\\uc5b4\", \"\\uc8fd\\uc74c\", \"\\uc8fd\\uc74c\", \"\\uc8fd\\uc74c\", \"\\uc8fd\\uc74c\", \"\\uc8fd\\uc9c0\", \"\\uc900\", \"\\uc900\", \"\\uc911\\uad6d\", \"\\uc911\\uad6d\", \"\\uc911\\ud559\\uc0dd\", \"\\uc950\", \"\\uc950\", \"\\uc950\", \"\\uc989\\uc2dc\", \"\\uc9c0\\uad6c\", \"\\uc9c0\\uad6c\", \"\\uc9c0\\ub0b4\\uac8c\", \"\\uc9c0\\ub3c4\", \"\\uc9c0\\uc801\", \"\\uc9c0\\uc801\", \"\\uc9c0\\uc810\", \"\\uc9c0\\ud0a4\\uace0\\uc790\", \"\\uc9c1\\uc5c5\", \"\\uc9c1\\uc811\", \"\\uc9c1\\uc811\", \"\\uc9c4\", \"\\uc9c4\", \"\\uc9c4\", \"\\uc9c4\", \"\\uc9c4\\ub2e8\", \"\\uc9c4\\ubd80\\ud55c\", \"\\uc9c4\\uc2e4\", \"\\uc9c4\\uc2e4\", \"\\uc9c4\\uc2e4\", \"\\uc9c4\\uc2e4\", \"\\uc9c8\\ubb38\", \"\\uc9c8\\ubb38\", \"\\uc9c8\\ubb38\", \"\\uc9c8\\ubb38\", \"\\uc9c8\\ubb38\", \"\\uc9d0\\uc791\", \"\\uc9d1\", \"\\uc9d1\", \"\\uc9d1\", \"\\uc9d1\", \"\\uc9d1\\uc740\", \"\\uc9e7\\uac8c\", \"\\ucabd\", \"\\ucabd\", \"\\ucabd\", \"\\ucc28\\uace0\", \"\\ucc3d\", \"\\ucc3d\", \"\\ucc3d\\ube44\", \"\\ucc3e\\uc544\\uac00\\ub294\", \"\\ucc45\\uc784\\uc838\\uc57c\", \"\\ucc98\\uc74c\", \"\\ucc98\\uc74c\", \"\\ucc98\\uc74c\", \"\\ucc98\\uc74c\", \"\\ucc98\\uc74c\", \"\\ucc98\\uc74c\", \"\\ucc98\\uc808\\ud55c\", \"\\ucc9c\", \"\\ucc9c\\uad6d\", \"\\ucc9c\\ud558\", \"\\ucc9c\\ud558\", \"\\ucca0\\uc800\\ud558\\uac8c\", \"\\ucca0\\ud559\", \"\\ucca0\\ud559\", \"\\ucca8\\uc608\\ud55c\", \"\\uccad\", \"\\uccad\\uc18c\\ub144\", \"\\ucd08\\uc0c1\", \"\\ucd08\\uc5fd\", \"\\ucd08\\ud310\", \"\\ucd0c\", \"\\ucd5c\", \"\\ucd5c\", \"\\ucd5c\\uc740\\uc601\", \"\\ucd5c\\uc9c4\\uc601\", \"\\ucd94\\ub9ac\", \"\\ucd94\\ub9ac\\uc18c\\uc124\", \"\\ucd94\\uc801\", \"\\ucd94\\uc801\", \"\\ucd94\\ucc9c\", \"\\ucd94\\ucc9c\", \"\\ucd9c\\uc0dd\", \"\\ucd9c\\ud310\", \"\\ucd9c\\ud310\", \"\\ucd9c\\ud310\", \"\\ucda9\\uaca9\", \"\\ucda9\\uaca9\", \"\\ucda9\\uaca9\", \"\\ucde8\\uc7ac\", \"\\uce58\\ub9c8\", \"\\uce58\\ub9e4\", \"\\uce58\\uc720\", \"\\uce5c\\uad6c\", \"\\uce5c\\uad6c\", \"\\uce5c\\uc808\", \"\\uce68\\uc6b8\\ud55c\", \"\\uce68\\uccb4\", \"\\uce74\", \"\\uce74\\ubb88\", \"\\uce74\\ud398\", \"\\uce7c\", \"\\uce90\\ub9ad\\ud130\", \"\\uce90\\ub9ad\\ud130\", \"\\ucf54\", \"\\ucf54\", \"\\ucf54\\ub85c\\ub098\", \"\\ud070\", \"\\ud070\", \"\\ud070\", \"\\ud070\", \"\\ud070\", \"\\ud074\\ub7fd\", \"\\ud0c0\\uaca9\", \"\\ud0c0\\ub798\", \"\\ud0c0\\uc778\", \"\\ud0c0\\uc778\", \"\\ud0c0\\uc778\", \"\\ud0c0\\uc778\", \"\\ud0c0\\uc784\\uc2a4\", \"\\ud0c4\\uc0dd\", \"\\ud0c4\\uc0dd\", \"\\ud0c4\\uc0dd\", \"\\ud0c4\\uc0dd\", \"\\ud0c4\\uc0dd\", \"\\ud0c8\\uace0\", \"\\ud0d0\\uc815\", \"\\ud0dc\\uc591\", \"\\ud0dc\\uc591\", \"\\ud0dc\\uc5b4\\ub0ac\\uc9c0\\ub9cc\", \"\\ud14c\", \"\\ud14c\", \"\\ud1b5\\uc9f8\", \"\\ud1b5\\ucc30\", \"\\ud1b5\\ucc30\", \"\\ud2b9\\ubcc4\\ud310\", \"\\ud2b9\\uc218\\ud55c\", \"\\ud2b9\\uc720\", \"\\ud2b9\\uc720\", \"\\ud2b9\\uc720\", \"\\ud2b9\\uc720\", \"\\ud2b9\\uc720\", \"\\ud2b9\\uc9d5\", \"\\ud2b9\\uc9d5\", \"\\ud30c\\uace0\\ub4e0\", \"\\ud30c\\ub294\", \"\\ud30c\\ub9ac\", \"\\ud310\", \"\\ud310\", \"\\ud310\", \"\\ud310\\ud0c0\\uc9c0\", \"\\ud310\\ud0c0\\uc9c0\", \"\\ud37c\\uc990\", \"\\ud3b8\\uc758\", \"\\ud3b8\\uc758\", \"\\ud3b8\\uc758\", \"\\ud3b8\\uc758\\uc810\", \"\\ud3c9\\uac00\", \"\\ud3c9\\uac00\", \"\\ud3c9\\uac00\", \"\\ud3c9\\uac00\", \"\\ud3c9\\ud654\\ub86d\\uac8c\", \"\\ud3ec\\uc2a4\\ud2b8\", \"\\ud3ec\\ucc29\", \"\\ud3ec\\ucc29\", \"\\ud3ed\\ub825\", \"\\ud3ed\\ub825\", \"\\ud3ed\\ub825\", \"\\ud45c\", \"\\ud45c\", \"\\ud45c\\ud604\", \"\\ud45c\\ud604\", \"\\ud45c\\ud604\", \"\\ud478\\ub294\", \"\\ud480\\uc5b4\\ub098\", \"\\ud488\\uc740\", \"\\ud48d\\ubd80\\ud558\\uac8c\", \"\\ud48d\\uc694\", \"\\ud53c\", \"\\ud53c\", \"\\ud53c\", \"\\ud53c\", \"\\ud53c\\ud574\", \"\\ud540\", \"\\ud544\\uc0ac\", \"\\ud558\\ub824\\ub358\", \"\\ud558\\ub9ac\", \"\\ud558\\ub9ac\", \"\\ud558\\uc600\\uc73c\\ub098\", \"\\ud558\\uc600\\uc73c\\uba70\", \"\\ud559\\uad50\", \"\\ud559\\ub144\", \"\\ud559\\uc0dd\", \"\\ud559\\uc6d0\", \"\\ud55c\\uad6d\\uc5b4\", \"\\ud55c\\uad6d\\uc5b4\", \"\\ud55c\\uad6d\\uc778\", \"\\ud55c\\ub2e4\\ub294\", \"\\ud560\\uba38\\ub2c8\", \"\\ud560\\uba38\\ub2c8\", \"\\ud568\\ucd95\", \"\\ud574\\ub3c4\", \"\\ud574\\ub3c4\", \"\\ud574\\ub3c4\", \"\\ud574\\ubc29\", \"\\ud574\\uc11c\\ub77c\\uba74\", \"\\ud574\\uc11d\", \"\\ud574\\uc900\", \"\\ud589\\uac04\", \"\\ud589\\uc131\", \"\\ud5a5\", \"\\ud5a5\", \"\\ud5a5\", \"\\ud5a5\", \"\\ud5a5\", \"\\ud5a5\", \"\\ud5c8\\uad6c\", \"\\ud601\\uba85\", \"\\ud604\\ub300\", \"\\ud604\\ub300\", \"\\ud604\\ub300\", \"\\ud604\\ub300\", \"\\ud604\\uc2e4\", \"\\ud604\\uc2e4\", \"\\ud604\\uc2e4\", \"\\ud604\\uc7ac\", \"\\ud604\\uc7ac\", \"\\ud604\\uc7ac\", \"\\ud604\\uc7ac\", \"\\ud604\\uc7ac\", \"\\ud604\\uc7ac\", \"\\ud615\\uc0ac\", \"\\ud615\\uc0ac\", \"\\ud638\\ub791\\uc774\", \"\\ud63c\", \"\\ud654\", \"\\ud654\", \"\\ud654\", \"\\ud654\", \"\\ud654\", \"\\ud654\\uc0b4\", \"\\ud654\\uc81c\", \"\\ud654\\uc81c\", \"\\ud655\\uc815\", \"\\ud658\\uc0c1\", \"\\ud669\\uc81c\", \"\\ud669\\uc81c\", \"\\ud68c\\ubcf5\\ud560\", \"\\ud68c\\uc0c1\", \"\\ud68d\", \"\\ud6c4\\ud68c\", \"\\ud6c8\", \"\\ud750\\ub984\", \"\\ud750\\ub984\", \"\\ud750\\ub984\", \"\\ud751\\uc778\", \"\\ud751\\uc778\", \"\\ud751\\uc778\", \"\\ud754\\ud788\", \"\\ud758\\ub7ec\\uac08\", \"\\ud765\\ubbf8\\ub85c\\uc6b4\", \"\\ud765\\ubbf8\\uc9c4\\uc9c4\", \"\\ud770\", \"\\ud798\", \"\\ud798\", \"\\ud798\", \"\\ud798\", \"\\ud798\\ub4e4\", \"\\ud798\\ub4e4\\uac8c\"]}, \"R\": 30, \"lambda.step\": 0.01, \"plot.opts\": {\"xlab\": \"PC1\", \"ylab\": \"PC2\"}, \"topic.order\": [4, 2, 3, 8, 1, 6, 10, 5, 9, 7]};\n",
       "\n",
       "function LDAvis_load_lib(url, callback){\n",
       "  var s = document.createElement('script');\n",
       "  s.src = url;\n",
       "  s.async = true;\n",
       "  s.onreadystatechange = s.onload = callback;\n",
       "  s.onerror = function(){console.warn(\"failed to load library \" + url);};\n",
       "  document.getElementsByTagName(\"head\")[0].appendChild(s);\n",
       "}\n",
       "\n",
       "if(typeof(LDAvis) !== \"undefined\"){\n",
       "   // already loaded: just create the visualization\n",
       "   !function(LDAvis){\n",
       "       new LDAvis(\"#\" + \"ldavis_el96951398480903407121338805837\", ldavis_el96951398480903407121338805837_data);\n",
       "   }(LDAvis);\n",
       "}else if(typeof define === \"function\" && define.amd){\n",
       "   // require.js is available: use it to load d3/LDAvis\n",
       "   require.config({paths: {d3: \"https://d3js.org/d3.v5\"}});\n",
       "   require([\"d3\"], function(d3){\n",
       "      window.d3 = d3;\n",
       "      LDAvis_load_lib(\"https://cdn.jsdelivr.net/gh/bmabey/pyLDAvis@3.2.2/pyLDAvis/js/ldavis.v3.0.0.js\", function(){\n",
       "        new LDAvis(\"#\" + \"ldavis_el96951398480903407121338805837\", ldavis_el96951398480903407121338805837_data);\n",
       "      });\n",
       "    });\n",
       "}else{\n",
       "    // require.js not available: dynamically load d3 & LDAvis\n",
       "    LDAvis_load_lib(\"https://d3js.org/d3.v5.js\", function(){\n",
       "         LDAvis_load_lib(\"https://cdn.jsdelivr.net/gh/bmabey/pyLDAvis@3.2.2/pyLDAvis/js/ldavis.v3.0.0.js\", function(){\n",
       "                 new LDAvis(\"#\" + \"ldavis_el96951398480903407121338805837\", ldavis_el96951398480903407121338805837_data);\n",
       "            })\n",
       "         });\n",
       "}\n",
       "</script>"
      ],
      "text/plain": [
       "PreparedData(topic_coordinates=              x         y  topics  cluster       Freq\n",
       "topic                                                \n",
       "3     -0.007423  0.301699       1        1  10.402766\n",
       "1     -0.144505  0.122912       2        1  10.337076\n",
       "2     -0.067215  0.024972       3        1  10.278657\n",
       "7      0.118313 -0.193588       4        1  10.124871\n",
       "0     -0.117514 -0.163863       5        1  10.033304\n",
       "5      0.088954  0.049169       6        1   9.996548\n",
       "9     -0.081631 -0.044924       7        1   9.968527\n",
       "4      0.039212  0.092563       8        1   9.838884\n",
       "8     -0.169808 -0.152909       9        1   9.599445\n",
       "6      0.341616 -0.036031      10        1   9.419923, topic_info=    Term         Freq        Total Category  logprob  loglift\n",
       "176   사건  1010.000000  1010.000000  Default  30.0000  30.0000\n",
       "228   아이   901.000000   901.000000  Default  29.0000  29.0000\n",
       "55    그녀  1047.000000  1047.000000  Default  28.0000  28.0000\n",
       "241   여성   532.000000   532.000000  Default  27.0000  27.0000\n",
       "697    집   848.000000   848.000000  Default  26.0000  26.0000\n",
       "..   ...          ...          ...      ...      ...      ...\n",
       "716    큰   126.196279   445.988242  Topic10  -5.4269   1.0999\n",
       "315   처음   116.934167   404.206637  Topic10  -5.5031   1.1220\n",
       "571    손   115.776403   507.774142  Topic10  -5.5131   0.8840\n",
       "228   아이   122.722987   901.339507  Topic10  -5.4548   0.3684\n",
       "100   대표   109.987583   404.394717  Topic10  -5.5644   1.0603\n",
       "\n",
       "[897 rows x 6 columns], token_table=      Topic      Freq Term\n",
       "term                      \n",
       "7071      6  1.004934   가가\n",
       "1870      1  1.011492   가기\n",
       "0         7  0.979301  가난한\n",
       "1090      1  0.030403  가능한\n",
       "1090      3  0.942499  가능한\n",
       "...     ...       ...  ...\n",
       "370       4  0.128064    힘\n",
       "370       7  0.253617    힘\n",
       "370       9  0.228507    힘\n",
       "373       7  1.057645   힘들\n",
       "760       5  1.007314  힘들게\n",
       "\n",
       "[1405 rows x 3 columns], R=30, lambda_step=0.01, plot_opts={'xlab': 'PC1', 'ylab': 'PC2'}, topic_order=[4, 2, 3, 8, 1, 6, 10, 5, 9, 7])"
      ]
     },
     "execution_count": 111,
     "metadata": {},
     "output_type": "execute_result"
    }
   ],
   "source": [
    "from gensim.models import LdaModel\n",
    "\n",
    "def mallet_to_lda(optimal_model):\n",
    "   model_gensim = LdaModel(\n",
    "       id2word=optimal_model.id2word, num_topics=optimal_model.num_topics,\n",
    "       alpha=optimal_model.alpha, eta=0, iterations=1000,\n",
    "       gamma_threshold=0.001,\n",
    "       dtype=np.float32\n",
    "   )\n",
    "   model_gensim.sync_state()\n",
    "   model_gensim.state.sstats = optimal_model.wordtopics\n",
    "\n",
    "   return model_gensim\n",
    "\n",
    "optimal_model = ldamallet\n",
    "model = mallet_to_lda(optimal_model)\n",
    "\n",
    "import pyLDAvis\n",
    "import pyLDAvis.gensim as gensimvis\n",
    "\n",
    "pyLDAvis.enable_notebook()\n",
    "vis = gensimvis.prepare(model, corpus, id2word)\n",
    "vis"
   ]
  },
  {
   "cell_type": "code",
   "execution_count": 101,
   "id": "based-letters",
   "metadata": {},
   "outputs": [],
   "source": [
    "# Format\n",
    "df_topic_story = df_topic_sents_keywords\n",
    "\n",
    "# 각 문서에 대한 토픽 내림차순\n",
    "df_topic_sort=df_topic_story.sort_values(by=['Dominant_Topic'])"
   ]
  },
  {
   "cell_type": "code",
   "execution_count": 102,
   "id": "early-leader",
   "metadata": {},
   "outputs": [],
   "source": [
    "# Group top 5 sentences under each topic\n",
    "sent_topics_sorteddf_mallet = pd.DataFrame()\n",
    "\n",
    "sent_topics_outdf_grpd = df_topic_sents_keywords.groupby('Dominant_Topic')\n",
    "\n",
    "for i, grp in sent_topics_outdf_grpd:\n",
    "    sent_topics_sorteddf_mallet = pd.concat([sent_topics_sorteddf_mallet, \n",
    "                                             grp.sort_values(['Perc_Contribution'], ascending=[0]).head(1)], \n",
    "                                            axis=0)\n"
   ]
  },
  {
   "cell_type": "code",
   "execution_count": 103,
   "id": "indonesian-transsexual",
   "metadata": {
    "scrolled": false
   },
   "outputs": [
    {
     "data": {
      "text/html": [
       "<div>\n",
       "<style scoped>\n",
       "    .dataframe tbody tr th:only-of-type {\n",
       "        vertical-align: middle;\n",
       "    }\n",
       "\n",
       "    .dataframe tbody tr th {\n",
       "        vertical-align: top;\n",
       "    }\n",
       "\n",
       "    .dataframe thead th {\n",
       "        text-align: right;\n",
       "    }\n",
       "</style>\n",
       "<table border=\"1\" class=\"dataframe\">\n",
       "  <thead>\n",
       "    <tr style=\"text-align: right;\">\n",
       "      <th></th>\n",
       "      <th>Perc_Contribution</th>\n",
       "      <th>Dominant_Topic</th>\n",
       "      <th>Topic_Keywords</th>\n",
       "    </tr>\n",
       "  </thead>\n",
       "  <tbody>\n",
       "    <tr>\n",
       "      <th>620</th>\n",
       "      <td>0.8156</td>\n",
       "      <td>0.0</td>\n",
       "      <td>현실, 영혼, 여행, 시, 밤, 사이, 서사, 환상, 시대, 재난</td>\n",
       "    </tr>\n",
       "    <tr>\n",
       "      <th>172</th>\n",
       "      <td>0.7727</td>\n",
       "      <td>1.0</td>\n",
       "      <td>죽음, 아버지, 존재, 아들, 쪽, 마을, 가족, 소녀, 도시, 사고</td>\n",
       "    </tr>\n",
       "    <tr>\n",
       "      <th>58</th>\n",
       "      <td>0.5469</td>\n",
       "      <td>2.0</td>\n",
       "      <td>집, 기억, 젊은, 서로, 사실, 순간, 사이, 존재, 과거, 방식</td>\n",
       "    </tr>\n",
       "    <tr>\n",
       "      <th>418</th>\n",
       "      <td>0.6937</td>\n",
       "      <td>3.0</td>\n",
       "      <td>그녀, 남자, 여자, 눈, 몸, 당신, 기억, 얼굴, 손, 입</td>\n",
       "    </tr>\n",
       "    <tr>\n",
       "      <th>302</th>\n",
       "      <td>0.9503</td>\n",
       "      <td>4.0</td>\n",
       "      <td>역사, 조선, 왕, 여인, 꽃, 로맨스, 향, 운명, 그녀, 감동</td>\n",
       "    </tr>\n",
       "    <tr>\n",
       "      <th>489</th>\n",
       "      <td>0.7275</td>\n",
       "      <td>5.0</td>\n",
       "      <td>사건, 미스터리, 진실, 살인, 스릴러, 반전, 경찰, 범인, 형사, 추리</td>\n",
       "    </tr>\n",
       "    <tr>\n",
       "      <th>304</th>\n",
       "      <td>0.7123</td>\n",
       "      <td>6.0</td>\n",
       "      <td>재미, 이상, 인생, 판타지, 매력, 만큼, 비밀, 수학, 소재, 세월</td>\n",
       "    </tr>\n",
       "    <tr>\n",
       "      <th>111</th>\n",
       "      <td>0.8956</td>\n",
       "      <td>7.0</td>\n",
       "      <td>시대, 전쟁, 대표, 사회, 역사, 언어, 결정, 판, 의미, 글</td>\n",
       "    </tr>\n",
       "    <tr>\n",
       "      <th>233</th>\n",
       "      <td>0.7339</td>\n",
       "      <td>8.0</td>\n",
       "      <td>여성, 사회, 미래, 욕망, 결혼, 사실, 현실, 지구, 인류, 중국</td>\n",
       "    </tr>\n",
       "    <tr>\n",
       "      <th>477</th>\n",
       "      <td>0.6067</td>\n",
       "      <td>9.0</td>\n",
       "      <td>아이, 친구, 엄마, 청소년, 꿈, 가족, 학교, 상처, 인생, 고민</td>\n",
       "    </tr>\n",
       "  </tbody>\n",
       "</table>\n",
       "</div>"
      ],
      "text/plain": [
       "     Perc_Contribution  Dominant_Topic  \\\n",
       "620             0.8156             0.0   \n",
       "172             0.7727             1.0   \n",
       "58              0.5469             2.0   \n",
       "418             0.6937             3.0   \n",
       "302             0.9503             4.0   \n",
       "489             0.7275             5.0   \n",
       "304             0.7123             6.0   \n",
       "111             0.8956             7.0   \n",
       "233             0.7339             8.0   \n",
       "477             0.6067             9.0   \n",
       "\n",
       "                                Topic_Keywords  \n",
       "620       현실, 영혼, 여행, 시, 밤, 사이, 서사, 환상, 시대, 재난  \n",
       "172     죽음, 아버지, 존재, 아들, 쪽, 마을, 가족, 소녀, 도시, 사고  \n",
       "58       집, 기억, 젊은, 서로, 사실, 순간, 사이, 존재, 과거, 방식  \n",
       "418         그녀, 남자, 여자, 눈, 몸, 당신, 기억, 얼굴, 손, 입  \n",
       "302       역사, 조선, 왕, 여인, 꽃, 로맨스, 향, 운명, 그녀, 감동  \n",
       "489  사건, 미스터리, 진실, 살인, 스릴러, 반전, 경찰, 범인, 형사, 추리  \n",
       "304    재미, 이상, 인생, 판타지, 매력, 만큼, 비밀, 수학, 소재, 세월  \n",
       "111       시대, 전쟁, 대표, 사회, 역사, 언어, 결정, 판, 의미, 글  \n",
       "233     여성, 사회, 미래, 욕망, 결혼, 사실, 현실, 지구, 인류, 중국  \n",
       "477     아이, 친구, 엄마, 청소년, 꿈, 가족, 학교, 상처, 인생, 고민  "
      ]
     },
     "execution_count": 103,
     "metadata": {},
     "output_type": "execute_result"
    }
   ],
   "source": [
    "sent_topics_sorteddf_mallet[['Perc_Contribution', 'Dominant_Topic', 'Topic_Keywords']]"
   ]
  },
  {
   "cell_type": "code",
   "execution_count": 104,
   "id": "tired-strengthening",
   "metadata": {
    "scrolled": true
   },
   "outputs": [
    {
     "data": {
      "text/plain": [
       "Dominant_Topic\n",
       "0.0    30\n",
       "1.0    54\n",
       "2.0    81\n",
       "3.0    51\n",
       "4.0    51\n",
       "5.0    95\n",
       "6.0    58\n",
       "7.0    65\n",
       "8.0    61\n",
       "9.0    99\n",
       "dtype: int64"
      ]
     },
     "execution_count": 104,
     "metadata": {},
     "output_type": "execute_result"
    }
   ],
   "source": [
    "df_topic_story.value_counts('Dominant_Topic').sort_index()"
   ]
  },
  {
   "cell_type": "code",
   "execution_count": 107,
   "id": "precise-printer",
   "metadata": {},
   "outputs": [],
   "source": [
    "df_topic_story.to_csv('소설_책내용_서평기반_LDA_완료.csv')"
   ]
  },
  {
   "cell_type": "code",
   "execution_count": 108,
   "id": "introductory-member",
   "metadata": {},
   "outputs": [
    {
     "data": {
      "text/html": [
       "<div>\n",
       "<style scoped>\n",
       "    .dataframe tbody tr th:only-of-type {\n",
       "        vertical-align: middle;\n",
       "    }\n",
       "\n",
       "    .dataframe tbody tr th {\n",
       "        vertical-align: top;\n",
       "    }\n",
       "\n",
       "    .dataframe thead th {\n",
       "        text-align: right;\n",
       "    }\n",
       "</style>\n",
       "<table border=\"1\" class=\"dataframe\">\n",
       "  <thead>\n",
       "    <tr style=\"text-align: right;\">\n",
       "      <th></th>\n",
       "      <th>title</th>\n",
       "      <th>story</th>\n",
       "      <th>Dominant_Topic</th>\n",
       "      <th>Perc_Contribution</th>\n",
       "      <th>Topic_Keywords</th>\n",
       "    </tr>\n",
       "  </thead>\n",
       "  <tbody>\n",
       "    <tr>\n",
       "      <th>0</th>\n",
       "      <td>파친코 1</td>\n",
       "      <td>자이니치 분노 슬픔 탄생 대작 세인 이민 진의 파친코 국 면서 끝내 이방인 일 자이...</td>\n",
       "      <td>4.0</td>\n",
       "      <td>0.3460</td>\n",
       "      <td>역사, 조선, 왕, 여인, 꽃, 로맨스, 향, 운명, 그녀, 감동</td>\n",
       "    </tr>\n",
       "    <tr>\n",
       "      <th>1</th>\n",
       "      <td>파친코 2</td>\n",
       "      <td>자이니치 분노 슬픔 탄생 대작 세인 이민 진의 파친코 국 면서 끝내 이방인 일 자이...</td>\n",
       "      <td>4.0</td>\n",
       "      <td>0.3489</td>\n",
       "      <td>역사, 조선, 왕, 여인, 꽃, 로맨스, 향, 운명, 그녀, 감동</td>\n",
       "    </tr>\n",
       "    <tr>\n",
       "      <th>2</th>\n",
       "      <td>불편한 편의점(40만부 기념 벚꽃 에디션)</td>\n",
       "      <td>인터넷 한정 특별판 매장 구매 드림 구매 시 표지 에디 션 제공 됩니다 원 플러스 ...</td>\n",
       "      <td>9.0</td>\n",
       "      <td>0.2821</td>\n",
       "      <td>아이, 친구, 엄마, 청소년, 꿈, 가족, 학교, 상처, 인생, 고민</td>\n",
       "    </tr>\n",
       "    <tr>\n",
       "      <th>3</th>\n",
       "      <td>아몬드</td>\n",
       "      <td>괴물 괴물 만났다 영화 강렬한 사건 매혹 문체 시선 사로잡는 어덜트 아몬드 타인 감...</td>\n",
       "      <td>0.0</td>\n",
       "      <td>0.3956</td>\n",
       "      <td>현실, 영혼, 여행, 시, 밤, 사이, 서사, 환상, 시대, 재난</td>\n",
       "    </tr>\n",
       "    <tr>\n",
       "      <th>4</th>\n",
       "      <td>달러구트 꿈 백화점(100만부 기념 합본호: Gift Edition)</td>\n",
       "      <td>책장 덮은 오늘 밤 당신 꿈 이어집니다 달러 구트 꿈 백화점 돌파 특별 합본 판타지...</td>\n",
       "      <td>9.0</td>\n",
       "      <td>0.2747</td>\n",
       "      <td>아이, 친구, 엄마, 청소년, 꿈, 가족, 학교, 상처, 인생, 고민</td>\n",
       "    </tr>\n",
       "    <tr>\n",
       "      <th>...</th>\n",
       "      <td>...</td>\n",
       "      <td>...</td>\n",
       "      <td>...</td>\n",
       "      <td>...</td>\n",
       "      <td>...</td>\n",
       "    </tr>\n",
       "    <tr>\n",
       "      <th>640</th>\n",
       "      <td>후원에 핀 제비꽃 4</td>\n",
       "      <td>잔혹 매혹 공존 운명 로맨스 판타지 후원 핀 제비꽃 성녀 자신 세상 버린 기사 살 ...</td>\n",
       "      <td>4.0</td>\n",
       "      <td>0.3029</td>\n",
       "      <td>역사, 조선, 왕, 여인, 꽃, 로맨스, 향, 운명, 그녀, 감동</td>\n",
       "    </tr>\n",
       "    <tr>\n",
       "      <th>641</th>\n",
       "      <td>사기꾼의 심장은 천천히 뛴다</td>\n",
       "      <td>출장 신기한 사실 비밀 평범한 직장인 일상 인간관계 세계관 인생 송두리째 바뀐다 상...</td>\n",
       "      <td>6.0</td>\n",
       "      <td>0.2889</td>\n",
       "      <td>재미, 이상, 인생, 판타지, 매력, 만큼, 비밀, 수학, 소재, 세월</td>\n",
       "    </tr>\n",
       "    <tr>\n",
       "      <th>642</th>\n",
       "      <td>머드(MUD)</td>\n",
       "      <td>사랑 죽 바닥 가라앉았던 마음 순식간 목 끝 튀어 오르고 눈 멀 정도 눈부신 빛 켜...</td>\n",
       "      <td>8.0</td>\n",
       "      <td>0.2320</td>\n",
       "      <td>여성, 사회, 미래, 욕망, 결혼, 사실, 현실, 지구, 인류, 중국</td>\n",
       "    </tr>\n",
       "    <tr>\n",
       "      <th>643</th>\n",
       "      <td>복자는 울지 않았다</td>\n",
       "      <td>정낙추 집 복자 울 개발 이윤 논리 훼손 시대 자화상 민중 입담 밀도 표 제작 주인...</td>\n",
       "      <td>9.0</td>\n",
       "      <td>0.1699</td>\n",
       "      <td>아이, 친구, 엄마, 청소년, 꿈, 가족, 학교, 상처, 인생, 고민</td>\n",
       "    </tr>\n",
       "    <tr>\n",
       "      <th>644</th>\n",
       "      <td>학마을 사람들</td>\n",
       "      <td>대표 중요 엄선 선집 사피 스 학 마을 사람 부조리 만연한 전후 현실 배경 평화 온...</td>\n",
       "      <td>7.0</td>\n",
       "      <td>0.4486</td>\n",
       "      <td>시대, 전쟁, 대표, 사회, 역사, 언어, 결정, 판, 의미, 글</td>\n",
       "    </tr>\n",
       "  </tbody>\n",
       "</table>\n",
       "<p>645 rows × 5 columns</p>\n",
       "</div>"
      ],
      "text/plain": [
       "                                      title  \\\n",
       "0                                     파친코 1   \n",
       "1                                     파친코 2   \n",
       "2                   불편한 편의점(40만부 기념 벚꽃 에디션)   \n",
       "3                                       아몬드   \n",
       "4    달러구트 꿈 백화점(100만부 기념 합본호: Gift Edition)   \n",
       "..                                      ...   \n",
       "640                             후원에 핀 제비꽃 4   \n",
       "641                         사기꾼의 심장은 천천히 뛴다   \n",
       "642                                 머드(MUD)   \n",
       "643                              복자는 울지 않았다   \n",
       "644                                 학마을 사람들   \n",
       "\n",
       "                                                 story  Dominant_Topic  \\\n",
       "0    자이니치 분노 슬픔 탄생 대작 세인 이민 진의 파친코 국 면서 끝내 이방인 일 자이...             4.0   \n",
       "1    자이니치 분노 슬픔 탄생 대작 세인 이민 진의 파친코 국 면서 끝내 이방인 일 자이...             4.0   \n",
       "2    인터넷 한정 특별판 매장 구매 드림 구매 시 표지 에디 션 제공 됩니다 원 플러스 ...             9.0   \n",
       "3    괴물 괴물 만났다 영화 강렬한 사건 매혹 문체 시선 사로잡는 어덜트 아몬드 타인 감...             0.0   \n",
       "4    책장 덮은 오늘 밤 당신 꿈 이어집니다 달러 구트 꿈 백화점 돌파 특별 합본 판타지...             9.0   \n",
       "..                                                 ...             ...   \n",
       "640  잔혹 매혹 공존 운명 로맨스 판타지 후원 핀 제비꽃 성녀 자신 세상 버린 기사 살 ...             4.0   \n",
       "641  출장 신기한 사실 비밀 평범한 직장인 일상 인간관계 세계관 인생 송두리째 바뀐다 상...             6.0   \n",
       "642  사랑 죽 바닥 가라앉았던 마음 순식간 목 끝 튀어 오르고 눈 멀 정도 눈부신 빛 켜...             8.0   \n",
       "643  정낙추 집 복자 울 개발 이윤 논리 훼손 시대 자화상 민중 입담 밀도 표 제작 주인...             9.0   \n",
       "644  대표 중요 엄선 선집 사피 스 학 마을 사람 부조리 만연한 전후 현실 배경 평화 온...             7.0   \n",
       "\n",
       "     Perc_Contribution                           Topic_Keywords  \n",
       "0               0.3460     역사, 조선, 왕, 여인, 꽃, 로맨스, 향, 운명, 그녀, 감동  \n",
       "1               0.3489     역사, 조선, 왕, 여인, 꽃, 로맨스, 향, 운명, 그녀, 감동  \n",
       "2               0.2821   아이, 친구, 엄마, 청소년, 꿈, 가족, 학교, 상처, 인생, 고민  \n",
       "3               0.3956     현실, 영혼, 여행, 시, 밤, 사이, 서사, 환상, 시대, 재난  \n",
       "4               0.2747   아이, 친구, 엄마, 청소년, 꿈, 가족, 학교, 상처, 인생, 고민  \n",
       "..                 ...                                      ...  \n",
       "640             0.3029     역사, 조선, 왕, 여인, 꽃, 로맨스, 향, 운명, 그녀, 감동  \n",
       "641             0.2889  재미, 이상, 인생, 판타지, 매력, 만큼, 비밀, 수학, 소재, 세월  \n",
       "642             0.2320   여성, 사회, 미래, 욕망, 결혼, 사실, 현실, 지구, 인류, 중국  \n",
       "643             0.1699   아이, 친구, 엄마, 청소년, 꿈, 가족, 학교, 상처, 인생, 고민  \n",
       "644             0.4486     시대, 전쟁, 대표, 사회, 역사, 언어, 결정, 판, 의미, 글  \n",
       "\n",
       "[645 rows x 5 columns]"
      ]
     },
     "execution_count": 108,
     "metadata": {},
     "output_type": "execute_result"
    }
   ],
   "source": [
    "df_topic_story"
   ]
  }
 ],
 "metadata": {
  "kernelspec": {
   "display_name": "Environment (conda_python3)",
   "language": "python",
   "name": "conda_python3"
  },
  "language_info": {
   "codemirror_mode": {
    "name": "ipython",
    "version": 3
   },
   "file_extension": ".py",
   "mimetype": "text/x-python",
   "name": "python",
   "nbconvert_exporter": "python",
   "pygments_lexer": "ipython3",
   "version": "3.6.13"
  }
 },
 "nbformat": 4,
 "nbformat_minor": 5
}
