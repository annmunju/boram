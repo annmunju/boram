{
 "cells": [
  {
   "cell_type": "code",
   "execution_count": 22,
   "id": "5ff71a3b",
   "metadata": {},
   "outputs": [],
   "source": [
    "%config Completer.use_jedi = False"
   ]
  },
  {
   "cell_type": "code",
   "execution_count": 23,
   "id": "097e43de",
   "metadata": {},
   "outputs": [],
   "source": [
    "import pandas as pd\n",
    "import tqdm\n",
    "import re\n",
    "\n",
    "from konlpy.corpus import kolaw\n",
    "from konlpy.tag import Okt, Hannanum, Kkma, Komoran, Twitter, Mecab\n",
    "# import MeCab\n",
    "from konlpy.utils import concordance, pprint"
   ]
  },
  {
   "cell_type": "code",
   "execution_count": 24,
   "id": "995e3235",
   "metadata": {},
   "outputs": [],
   "source": [
    "import matplotlib.pyplot as plt\n",
    "import seaborn as sns\n",
    "\n",
    "# 한글깨짐 설정\n",
    "import matplotlib.font_manager as fm\n",
    "\n",
    "# print(fm.findSystemFonts(fontpaths=None, fontext='ttf'))\n",
    "# font_location = '/usr/share/fonts/truetype/NanumGothic.ttf'  #font 경로 설정\n",
    "# font_name = fm.FontProperties(fname=font_location).get_name()\n",
    "# plt.rc('font', family=font_name)\n",
    "# plt.rc('font', size=12)        # 기본 폰트 크기"
   ]
  },
  {
   "cell_type": "code",
   "execution_count": 25,
   "id": "e188b3df",
   "metadata": {},
   "outputs": [],
   "source": [
    "import warnings\n",
    "warnings.filterwarnings('ignore')"
   ]
  },
  {
   "cell_type": "code",
   "execution_count": 26,
   "id": "93b71ba2",
   "metadata": {},
   "outputs": [],
   "source": [
    "# df = pd.read_csv('novel_story_sep.csv', lineterminator='\\n')\n",
    "df = pd.read_csv('../Data/novel.csv', sep='\\t')"
   ]
  },
  {
   "cell_type": "code",
   "execution_count": 27,
   "id": "119fd14c",
   "metadata": {
    "scrolled": true
   },
   "outputs": [
    {
     "data": {
      "text/html": [
       "<div>\n",
       "<style scoped>\n",
       "    .dataframe tbody tr th:only-of-type {\n",
       "        vertical-align: middle;\n",
       "    }\n",
       "\n",
       "    .dataframe tbody tr th {\n",
       "        vertical-align: top;\n",
       "    }\n",
       "\n",
       "    .dataframe thead th {\n",
       "        text-align: right;\n",
       "    }\n",
       "</style>\n",
       "<table border=\"1\" class=\"dataframe\">\n",
       "  <thead>\n",
       "    <tr style=\"text-align: right;\">\n",
       "      <th></th>\n",
       "      <th>id</th>\n",
       "      <th>itemId</th>\n",
       "      <th>title</th>\n",
       "      <th>pubDate</th>\n",
       "      <th>coverSmallUrl</th>\n",
       "      <th>coverLargeUrl</th>\n",
       "      <th>publisher</th>\n",
       "      <th>priceStandard</th>\n",
       "      <th>customerReviewRank</th>\n",
       "      <th>author</th>\n",
       "      <th>isbn</th>\n",
       "      <th>link</th>\n",
       "      <th>story</th>\n",
       "      <th>review</th>\n",
       "      <th>piece</th>\n",
       "    </tr>\n",
       "  </thead>\n",
       "  <tbody>\n",
       "    <tr>\n",
       "      <th>0</th>\n",
       "      <td>1</td>\n",
       "      <td>349572433</td>\n",
       "      <td>주술회전 1: 떠나가는 여름과 돌아오는 가을</td>\n",
       "      <td>20210525</td>\n",
       "      <td>https://bimage.interpark.com/partner/goods_ima...</td>\n",
       "      <td>https://bimage.interpark.com/partner/goods_ima...</td>\n",
       "      <td>서울미디어코믹스(서울문화사)</td>\n",
       "      <td>7800</td>\n",
       "      <td>0.0</td>\n",
       "      <td>Gege Akutami(아쿠타미 제제)</td>\n",
       "      <td>9791136734518</td>\n",
       "      <td>http://book.interpark.com/blog/integration/pro...</td>\n",
       "      <td>대인기 다크 액션 판타지, 「주술회전」소설 1권 발행!!이타도리와 후시구로의 아키하...</td>\n",
       "      <td>NaN</td>\n",
       "      <td>NaN</td>\n",
       "    </tr>\n",
       "    <tr>\n",
       "      <th>1</th>\n",
       "      <td>2</td>\n",
       "      <td>348109712</td>\n",
       "      <td>흐르는 강물처럼(40주년 기념판)</td>\n",
       "      <td>20210415</td>\n",
       "      <td>https://bimage.interpark.com/partner/goods_ima...</td>\n",
       "      <td>https://bimage.interpark.com/partner/goods_ima...</td>\n",
       "      <td>연암서가</td>\n",
       "      <td>15000</td>\n",
       "      <td>0.0</td>\n",
       "      <td>노먼 매클린</td>\n",
       "      <td>9791160870763</td>\n",
       "      <td>http://book.interpark.com/blog/integration/pro...</td>\n",
       "      <td>영화 〈흐르는 강물처럼〉의 원작소설영화보다 더한 감동이 굽이쳐 흐른다! 〈흐르는 강...</td>\n",
       "      <td>NaN</td>\n",
       "      <td>나는 1981년 몬태나 주를 방문하던 중에 내 친구 토머스 맥구언과 함께 미국 서부...</td>\n",
       "    </tr>\n",
       "    <tr>\n",
       "      <th>2</th>\n",
       "      <td>3</td>\n",
       "      <td>340692027</td>\n",
       "      <td>백작가의 비밀스런 시녀님 세트</td>\n",
       "      <td>20201027</td>\n",
       "      <td>https://bimage.interpark.com/partner/goods_ima...</td>\n",
       "      <td>https://bimage.interpark.com/partner/goods_ima...</td>\n",
       "      <td>필프리미엄에디션</td>\n",
       "      <td>38000</td>\n",
       "      <td>8.0</td>\n",
       "      <td>백주아</td>\n",
       "      <td>9791165655778</td>\n",
       "      <td>http://book.interpark.com/blog/integration/pro...</td>\n",
       "      <td>백주아 장편소설 『백작가의 비밀스런 시녀님 세트』. 가난한 소작농의 딸 폴라. 우연...</td>\n",
       "      <td>〈1권〉가난한 소작농의 딸 폴라.우연한 계기로 명망 높은 벨루니타 백작가의 사용인으...</td>\n",
       "      <td>NaN</td>\n",
       "    </tr>\n",
       "    <tr>\n",
       "      <th>3</th>\n",
       "      <td>4</td>\n",
       "      <td>343464716</td>\n",
       "      <td>신세계에서 2</td>\n",
       "      <td>20201125</td>\n",
       "      <td>https://bimage.interpark.com/partner/goods_ima...</td>\n",
       "      <td>https://bimage.interpark.com/partner/goods_ima...</td>\n",
       "      <td>해냄출판사</td>\n",
       "      <td>18000</td>\n",
       "      <td>9.9</td>\n",
       "      <td>기시 유스케(貴志祐介)</td>\n",
       "      <td>9788965740322</td>\n",
       "      <td>http://book.interpark.com/blog/integration/pro...</td>\n",
       "      <td>일본 SF대상 수상작 &amp; 서점대상 제6위미래의 가상세계에 빗대어 현 인류의 모순을 ...</td>\n",
       "      <td>순백의 아이들이 평화롭게 살아가는 머나먼 미래, 그 아름다운 유토피아에 가려진 잔혹...</td>\n",
       "      <td>X. 얼굴 없는 소년. 누구보다 사랑했던 소년. 그런데 지금은 얼굴도 떠올릴 수 없...</td>\n",
       "    </tr>\n",
       "    <tr>\n",
       "      <th>4</th>\n",
       "      <td>5</td>\n",
       "      <td>340768143</td>\n",
       "      <td>추리소설가의 살인사건</td>\n",
       "      <td>20201028</td>\n",
       "      <td>https://bimage.interpark.com/partner/goods_ima...</td>\n",
       "      <td>https://bimage.interpark.com/partner/goods_ima...</td>\n",
       "      <td>소미미디어</td>\n",
       "      <td>15800</td>\n",
       "      <td>9.5</td>\n",
       "      <td>히가시노 게이고(東野圭吾)</td>\n",
       "      <td>9791166111983</td>\n",
       "      <td>http://book.interpark.com/blog/integration/pro...</td>\n",
       "      <td>추리 소설가, 편집자, 독자가 등장하는 추리소설,히가시노 게이고만이 쓸 수 있는 색...</td>\n",
       "      <td>이 작품집, 꽤나 웃기다! 한 번 읽기 시작했다면 멈출 수 없다! 올해의 페이지 터...</td>\n",
       "      <td>그것은 하마사키 회계사무소에서 온 서류였다. 소장인 하마사키 고로는 내 고등학교 동...</td>\n",
       "    </tr>\n",
       "    <tr>\n",
       "      <th>...</th>\n",
       "      <td>...</td>\n",
       "      <td>...</td>\n",
       "      <td>...</td>\n",
       "      <td>...</td>\n",
       "      <td>...</td>\n",
       "      <td>...</td>\n",
       "      <td>...</td>\n",
       "      <td>...</td>\n",
       "      <td>...</td>\n",
       "      <td>...</td>\n",
       "      <td>...</td>\n",
       "      <td>...</td>\n",
       "      <td>...</td>\n",
       "      <td>...</td>\n",
       "      <td>...</td>\n",
       "    </tr>\n",
       "    <tr>\n",
       "      <th>1113</th>\n",
       "      <td>1114</td>\n",
       "      <td>345966624</td>\n",
       "      <td>어니언 마말레이드 2</td>\n",
       "      <td>20210121</td>\n",
       "      <td>https://bimage.interpark.com/partner/goods_ima...</td>\n",
       "      <td>https://bimage.interpark.com/partner/goods_ima...</td>\n",
       "      <td>동아</td>\n",
       "      <td>12800</td>\n",
       "      <td>0.0</td>\n",
       "      <td>백서하</td>\n",
       "      <td>9791163024453</td>\n",
       "      <td>http://book.interpark.com/blog/integration/pro...</td>\n",
       "      <td>사랑에 빠진 위그의 뒤통수를 치고,이디에트 가문의 약점을 손에 쥐게 된 비비안. “...</td>\n",
       "      <td>NaN</td>\n",
       "      <td>“상속법 관련 문제에 대해 의견을 묻고 싶네.”“죄송하지만 그 부분에 대해서는 귀족...</td>\n",
       "    </tr>\n",
       "    <tr>\n",
       "      <th>1114</th>\n",
       "      <td>1115</td>\n",
       "      <td>343789806</td>\n",
       "      <td>갑의 품격 1</td>\n",
       "      <td>20201130</td>\n",
       "      <td>https://bimage.interpark.com/partner/goods_ima...</td>\n",
       "      <td>https://bimage.interpark.com/partner/goods_ima...</td>\n",
       "      <td>가연</td>\n",
       "      <td>14500</td>\n",
       "      <td>0.0</td>\n",
       "      <td>김나든</td>\n",
       "      <td>9788968970818</td>\n",
       "      <td>http://book.interpark.com/blog/integration/pro...</td>\n",
       "      <td>네이버 시리즈 다운로드 수 84만, 실시간 랭킹 1위.혜성처럼 나타난 김나든 작가의...</td>\n",
       "      <td>서울의 끝자락 판자촌 태생, 부모가 누군지도 모르는 고아. 보육원을 떠돌던 예일은 ...</td>\n",
       "      <td>생전 처음 보는 사람 앞에서 그렇게 예일은 펑펑 울었다. 산발이 된 머리도, 그에게...</td>\n",
       "    </tr>\n",
       "    <tr>\n",
       "      <th>1115</th>\n",
       "      <td>1116</td>\n",
       "      <td>342291271</td>\n",
       "      <td>진실에 갇힌 남자</td>\n",
       "      <td>20201109</td>\n",
       "      <td>https://bimage.interpark.com/partner/goods_ima...</td>\n",
       "      <td>https://bimage.interpark.com/partner/goods_ima...</td>\n",
       "      <td>북로드</td>\n",
       "      <td>14800</td>\n",
       "      <td>9.5</td>\n",
       "      <td>데이비드 발다치</td>\n",
       "      <td>9791158791490</td>\n",
       "      <td>http://book.interpark.com/blog/integration/pro...</td>\n",
       "      <td>“진실이 늘 우리를 자유롭게 하는 것은 아니에요.때론 우리를 가두는 감옥이 될 수도...</td>\n",
       "      <td>죽음을 눈앞에 두고 자신의 무죄를 주장하던 남자, 이미 죽은 것이나 다름없는 그가 ...</td>\n",
       "      <td>데커는 언젠가 땅 밑에 누워 있는 가족에게 자신도 합류하게 될 그날까지, 매년 몰리...</td>\n",
       "    </tr>\n",
       "    <tr>\n",
       "      <th>1116</th>\n",
       "      <td>1117</td>\n",
       "      <td>342332559</td>\n",
       "      <td>검사 김서진 4</td>\n",
       "      <td>20201008</td>\n",
       "      <td>https://bimage.interpark.com/partner/goods_ima...</td>\n",
       "      <td>https://bimage.interpark.com/partner/goods_ima...</td>\n",
       "      <td>로크미디어</td>\n",
       "      <td>8000</td>\n",
       "      <td>0.0</td>\n",
       "      <td>이해날</td>\n",
       "      <td>9791135485893</td>\n",
       "      <td>http://book.interpark.com/blog/integration/pro...</td>\n",
       "      <td>No방심 작가 이해날의 검사물 리턴즈!그 검사의 목숨을 건 외줄 타기가 시작된다! ...</td>\n",
       "      <td>NaN</td>\n",
       "      <td>NaN</td>\n",
       "    </tr>\n",
       "    <tr>\n",
       "      <th>1117</th>\n",
       "      <td>1118</td>\n",
       "      <td>347482628</td>\n",
       "      <td>사육장 쪽으로</td>\n",
       "      <td>20210317</td>\n",
       "      <td>https://bimage.interpark.com/partner/goods_ima...</td>\n",
       "      <td>https://bimage.interpark.com/partner/goods_ima...</td>\n",
       "      <td>문학동네</td>\n",
       "      <td>13500</td>\n",
       "      <td>0.0</td>\n",
       "      <td>편혜영</td>\n",
       "      <td>9788954677592</td>\n",
       "      <td>http://book.interpark.com/blog/integration/pro...</td>\n",
       "      <td>“현대사회를 사는 공격적이지 못한 소시민의위로받을 수 없는 불안과 분노의 피해의식을...</td>\n",
       "      <td>“언젠가는 길이 끝날 거였다. 길이 끝나는 곳까지 달려가면 어딘가에 닿을 것이다. ...</td>\n",
       "      <td>안개가 모든 것을 가려줄 것이다. 이런 안개라면 발가벗어도 누구도 알아채지 못할 것...</td>\n",
       "    </tr>\n",
       "  </tbody>\n",
       "</table>\n",
       "<p>1118 rows × 15 columns</p>\n",
       "</div>"
      ],
      "text/plain": [
       "        id     itemId                     title   pubDate  \\\n",
       "0        1  349572433  주술회전 1: 떠나가는 여름과 돌아오는 가을  20210525   \n",
       "1        2  348109712        흐르는 강물처럼(40주년 기념판)  20210415   \n",
       "2        3  340692027          백작가의 비밀스런 시녀님 세트  20201027   \n",
       "3        4  343464716                   신세계에서 2  20201125   \n",
       "4        5  340768143               추리소설가의 살인사건  20201028   \n",
       "...    ...        ...                       ...       ...   \n",
       "1113  1114  345966624               어니언 마말레이드 2  20210121   \n",
       "1114  1115  343789806                   갑의 품격 1  20201130   \n",
       "1115  1116  342291271                 진실에 갇힌 남자  20201109   \n",
       "1116  1117  342332559                  검사 김서진 4  20201008   \n",
       "1117  1118  347482628                   사육장 쪽으로  20210317   \n",
       "\n",
       "                                          coverSmallUrl  \\\n",
       "0     https://bimage.interpark.com/partner/goods_ima...   \n",
       "1     https://bimage.interpark.com/partner/goods_ima...   \n",
       "2     https://bimage.interpark.com/partner/goods_ima...   \n",
       "3     https://bimage.interpark.com/partner/goods_ima...   \n",
       "4     https://bimage.interpark.com/partner/goods_ima...   \n",
       "...                                                 ...   \n",
       "1113  https://bimage.interpark.com/partner/goods_ima...   \n",
       "1114  https://bimage.interpark.com/partner/goods_ima...   \n",
       "1115  https://bimage.interpark.com/partner/goods_ima...   \n",
       "1116  https://bimage.interpark.com/partner/goods_ima...   \n",
       "1117  https://bimage.interpark.com/partner/goods_ima...   \n",
       "\n",
       "                                          coverLargeUrl        publisher  \\\n",
       "0     https://bimage.interpark.com/partner/goods_ima...  서울미디어코믹스(서울문화사)   \n",
       "1     https://bimage.interpark.com/partner/goods_ima...             연암서가   \n",
       "2     https://bimage.interpark.com/partner/goods_ima...         필프리미엄에디션   \n",
       "3     https://bimage.interpark.com/partner/goods_ima...            해냄출판사   \n",
       "4     https://bimage.interpark.com/partner/goods_ima...            소미미디어   \n",
       "...                                                 ...              ...   \n",
       "1113  https://bimage.interpark.com/partner/goods_ima...               동아   \n",
       "1114  https://bimage.interpark.com/partner/goods_ima...               가연   \n",
       "1115  https://bimage.interpark.com/partner/goods_ima...              북로드   \n",
       "1116  https://bimage.interpark.com/partner/goods_ima...            로크미디어   \n",
       "1117  https://bimage.interpark.com/partner/goods_ima...             문학동네   \n",
       "\n",
       "      priceStandard  customerReviewRank                 author           isbn  \\\n",
       "0              7800                 0.0  Gege Akutami(아쿠타미 제제)  9791136734518   \n",
       "1             15000                 0.0                 노먼 매클린  9791160870763   \n",
       "2             38000                 8.0                    백주아  9791165655778   \n",
       "3             18000                 9.9           기시 유스케(貴志祐介)  9788965740322   \n",
       "4             15800                 9.5         히가시노 게이고(東野圭吾)  9791166111983   \n",
       "...             ...                 ...                    ...            ...   \n",
       "1113          12800                 0.0                    백서하  9791163024453   \n",
       "1114          14500                 0.0                    김나든  9788968970818   \n",
       "1115          14800                 9.5               데이비드 발다치  9791158791490   \n",
       "1116           8000                 0.0                    이해날  9791135485893   \n",
       "1117          13500                 0.0                    편혜영  9788954677592   \n",
       "\n",
       "                                                   link  \\\n",
       "0     http://book.interpark.com/blog/integration/pro...   \n",
       "1     http://book.interpark.com/blog/integration/pro...   \n",
       "2     http://book.interpark.com/blog/integration/pro...   \n",
       "3     http://book.interpark.com/blog/integration/pro...   \n",
       "4     http://book.interpark.com/blog/integration/pro...   \n",
       "...                                                 ...   \n",
       "1113  http://book.interpark.com/blog/integration/pro...   \n",
       "1114  http://book.interpark.com/blog/integration/pro...   \n",
       "1115  http://book.interpark.com/blog/integration/pro...   \n",
       "1116  http://book.interpark.com/blog/integration/pro...   \n",
       "1117  http://book.interpark.com/blog/integration/pro...   \n",
       "\n",
       "                                                  story  \\\n",
       "0     대인기 다크 액션 판타지, 「주술회전」소설 1권 발행!!이타도리와 후시구로의 아키하...   \n",
       "1     영화 〈흐르는 강물처럼〉의 원작소설영화보다 더한 감동이 굽이쳐 흐른다! 〈흐르는 강...   \n",
       "2     백주아 장편소설 『백작가의 비밀스런 시녀님 세트』. 가난한 소작농의 딸 폴라. 우연...   \n",
       "3     일본 SF대상 수상작 & 서점대상 제6위미래의 가상세계에 빗대어 현 인류의 모순을 ...   \n",
       "4     추리 소설가, 편집자, 독자가 등장하는 추리소설,히가시노 게이고만이 쓸 수 있는 색...   \n",
       "...                                                 ...   \n",
       "1113  사랑에 빠진 위그의 뒤통수를 치고,이디에트 가문의 약점을 손에 쥐게 된 비비안. “...   \n",
       "1114  네이버 시리즈 다운로드 수 84만, 실시간 랭킹 1위.혜성처럼 나타난 김나든 작가의...   \n",
       "1115  “진실이 늘 우리를 자유롭게 하는 것은 아니에요.때론 우리를 가두는 감옥이 될 수도...   \n",
       "1116  No방심 작가 이해날의 검사물 리턴즈!그 검사의 목숨을 건 외줄 타기가 시작된다! ...   \n",
       "1117  “현대사회를 사는 공격적이지 못한 소시민의위로받을 수 없는 불안과 분노의 피해의식을...   \n",
       "\n",
       "                                                 review  \\\n",
       "0                                                   NaN   \n",
       "1                                                   NaN   \n",
       "2     〈1권〉가난한 소작농의 딸 폴라.우연한 계기로 명망 높은 벨루니타 백작가의 사용인으...   \n",
       "3     순백의 아이들이 평화롭게 살아가는 머나먼 미래, 그 아름다운 유토피아에 가려진 잔혹...   \n",
       "4     이 작품집, 꽤나 웃기다! 한 번 읽기 시작했다면 멈출 수 없다! 올해의 페이지 터...   \n",
       "...                                                 ...   \n",
       "1113                                                NaN   \n",
       "1114  서울의 끝자락 판자촌 태생, 부모가 누군지도 모르는 고아. 보육원을 떠돌던 예일은 ...   \n",
       "1115  죽음을 눈앞에 두고 자신의 무죄를 주장하던 남자, 이미 죽은 것이나 다름없는 그가 ...   \n",
       "1116                                                NaN   \n",
       "1117  “언젠가는 길이 끝날 거였다. 길이 끝나는 곳까지 달려가면 어딘가에 닿을 것이다. ...   \n",
       "\n",
       "                                                  piece  \n",
       "0                                                   NaN  \n",
       "1     나는 1981년 몬태나 주를 방문하던 중에 내 친구 토머스 맥구언과 함께 미국 서부...  \n",
       "2                                                   NaN  \n",
       "3     X. 얼굴 없는 소년. 누구보다 사랑했던 소년. 그런데 지금은 얼굴도 떠올릴 수 없...  \n",
       "4     그것은 하마사키 회계사무소에서 온 서류였다. 소장인 하마사키 고로는 내 고등학교 동...  \n",
       "...                                                 ...  \n",
       "1113  “상속법 관련 문제에 대해 의견을 묻고 싶네.”“죄송하지만 그 부분에 대해서는 귀족...  \n",
       "1114  생전 처음 보는 사람 앞에서 그렇게 예일은 펑펑 울었다. 산발이 된 머리도, 그에게...  \n",
       "1115  데커는 언젠가 땅 밑에 누워 있는 가족에게 자신도 합류하게 될 그날까지, 매년 몰리...  \n",
       "1116                                                NaN  \n",
       "1117  안개가 모든 것을 가려줄 것이다. 이런 안개라면 발가벗어도 누구도 알아채지 못할 것...  \n",
       "\n",
       "[1118 rows x 15 columns]"
      ]
     },
     "execution_count": 27,
     "metadata": {},
     "output_type": "execute_result"
    }
   ],
   "source": [
    "df"
   ]
  },
  {
   "cell_type": "code",
   "execution_count": 28,
   "id": "5bfd8e08",
   "metadata": {},
   "outputs": [],
   "source": [
    "# 불용어 저장 리스트\n",
    "stopwords = set()"
   ]
  },
  {
   "cell_type": "markdown",
   "id": "67ef6729",
   "metadata": {},
   "source": [
    "---"
   ]
  },
  {
   "cell_type": "markdown",
   "id": "47f330c4",
   "metadata": {},
   "source": [
    "# 형태소 분리"
   ]
  },
  {
   "cell_type": "code",
   "execution_count": 29,
   "id": "2fc76c32",
   "metadata": {},
   "outputs": [
    {
     "data": {
      "text/plain": [
       "'추리 소설의 고전 셜록 홈스 시리즈 네 번째 이야기 대한민국 추리 소설 대표작가 백휴의 작품해설![줄거리]모리어티 교수의 부하'"
      ]
     },
     "execution_count": 29,
     "metadata": {},
     "output_type": "execute_result"
    }
   ],
   "source": [
    "text = df['story'][20][:70]\n",
    "text"
   ]
  },
  {
   "cell_type": "markdown",
   "id": "e0a79da8",
   "metadata": {},
   "source": [
    "## 1. Okt"
   ]
  },
  {
   "cell_type": "code",
   "execution_count": 30,
   "id": "f0275e96",
   "metadata": {},
   "outputs": [
    {
     "name": "stdout",
     "output_type": "stream",
     "text": [
      "['추리', '소설', '의', '고전', '셜록', '홈스', '시리즈', '네', '번째', '이야기', '대한민국', '추리', '소설', '대표', '작가', '백휴', '의', '작품', '해설', '![', '줄거리', ']', '모리', '어', '티', '교수', '의', '부하']\n"
     ]
    }
   ],
   "source": [
    "okt = Okt()\n",
    "story_okt = okt.morphs(text)\n",
    "print(story_okt)"
   ]
  },
  {
   "cell_type": "markdown",
   "id": "3f1a90c5",
   "metadata": {},
   "source": [
    "## 2. Hannanum"
   ]
  },
  {
   "cell_type": "code",
   "execution_count": 31,
   "id": "f77eba0f",
   "metadata": {},
   "outputs": [
    {
     "name": "stdout",
     "output_type": "stream",
     "text": [
      "['추', '리', '소설', '의', '고전', '셜록', '홈스', '시리즈', '네', '번', '째', '이야기', '대한민국', '추', '리', '소설', '대표작', '가', '백휴', '의', '작품해설', '!', '[줄거리]모리어티', '교수', '의', '부하']\n"
     ]
    }
   ],
   "source": [
    "hannanum = Hannanum()\n",
    "story_hannanum = hannanum.morphs(text)\n",
    "print(story_hannanum)"
   ]
  },
  {
   "cell_type": "markdown",
   "id": "a03f0e74",
   "metadata": {},
   "source": [
    "## 3. Kkma"
   ]
  },
  {
   "cell_type": "code",
   "execution_count": 32,
   "id": "b05a320e",
   "metadata": {},
   "outputs": [
    {
     "name": "stdout",
     "output_type": "stream",
     "text": [
      "['추리', '소설', '의', '고전', '셜', '록', '홈스', '시리즈', '네', '번째', '이야기', '대한민국', '추리', '소설', '대표', '작가', '백휴', '의', '작품', '해설', '!', '[', '줄', '거리', ']', '모리', '어', '티', '교수', '의', '부하']\n"
     ]
    }
   ],
   "source": [
    "kkma = Kkma()\n",
    "story_kkma = kkma.morphs(text)\n",
    "print(story_kkma)"
   ]
  },
  {
   "cell_type": "markdown",
   "id": "08ac84c6",
   "metadata": {},
   "source": [
    "## 4. Komoran"
   ]
  },
  {
   "cell_type": "code",
   "execution_count": 33,
   "id": "07c3e6df",
   "metadata": {},
   "outputs": [
    {
     "name": "stdout",
     "output_type": "stream",
     "text": [
      "['추리', '소설', '의', '고전', '셜록', '홈스', '시리즈', '네', '번', '째', '이야기', '대한민국', '추리', '소설', '대표', '작가', '백', '휴', '의', '작품', '해설', '!', '[', '줄거리', ']', '모리', '어', '티', '교수', '의', '부하']\n"
     ]
    }
   ],
   "source": [
    "komoran = Komoran()\n",
    "story_komoran = komoran.morphs(text)\n",
    "print(story_komoran)"
   ]
  },
  {
   "cell_type": "markdown",
   "id": "2de1d274",
   "metadata": {},
   "source": [
    "## 5. Twitter"
   ]
  },
  {
   "cell_type": "code",
   "execution_count": 34,
   "id": "1d829d02",
   "metadata": {
    "scrolled": false
   },
   "outputs": [
    {
     "name": "stdout",
     "output_type": "stream",
     "text": [
      "['추리', '소설', '의', '고전', '셜록', '홈스', '시리즈', '네', '번째', '이야기', '대한민국', '추리', '소설', '대표', '작가', '백휴', '의', '작품', '해설', '![', '줄거리', ']', '모리', '어', '티', '교수', '의', '부하']\n"
     ]
    }
   ],
   "source": [
    "twitter = Twitter()\n",
    "story_twitter = twitter.morphs(text)\n",
    "print(story_twitter[:50])"
   ]
  },
  {
   "cell_type": "markdown",
   "id": "6f56e6ab",
   "metadata": {},
   "source": [
    "## 6. MeCab"
   ]
  },
  {
   "cell_type": "code",
   "execution_count": 35,
   "id": "975faeed",
   "metadata": {},
   "outputs": [
    {
     "ename": "NameError",
     "evalue": "name 'MeCab' is not defined",
     "output_type": "error",
     "traceback": [
      "\u001b[0;31m---------------------------------------------------------------------------\u001b[0m",
      "\u001b[0;31mNameError\u001b[0m                                 Traceback (most recent call last)",
      "\u001b[1;32m/Users/anmunju/Documents/PJ_repositories/boram/EDA/소설_EDA.ipynb Cell 22'\u001b[0m in \u001b[0;36m<module>\u001b[0;34m\u001b[0m\n\u001b[0;32m----> <a href='vscode-notebook-cell:/Users/anmunju/Documents/PJ_repositories/boram/EDA/%EC%86%8C%EC%84%A4_EDA.ipynb#ch0000021?line=0'>1</a>\u001b[0m mecab \u001b[39m=\u001b[39m MeCab\u001b[39m.\u001b[39mTagger(\u001b[39m'\u001b[39m\u001b[39m-d /usr/local/lib/mecab/dic/mecab-ko-dic\u001b[39m\u001b[39m'\u001b[39m)\n",
      "\u001b[0;31mNameError\u001b[0m: name 'MeCab' is not defined"
     ]
    }
   ],
   "source": [
    "mecab = MeCab.Tagger('-d /usr/local/lib/mecab/dic/mecab-ko-dic')"
   ]
  },
  {
   "cell_type": "code",
   "execution_count": null,
   "id": "00dbd464",
   "metadata": {},
   "outputs": [],
   "source": [
    "mecab_text = mecab.parse(text).split()\n",
    "for idx,txt in enumerate(mecab_text):\n",
    "    if idx % 2 == 0 and idx != len(mecab_text)-1:\n",
    "        print(txt, end =', ')"
   ]
  },
  {
   "cell_type": "markdown",
   "id": "d4879886",
   "metadata": {},
   "source": [
    "---"
   ]
  },
  {
   "cell_type": "markdown",
   "id": "033fdaf1",
   "metadata": {},
   "source": [
    "# Okt로 형태소 분리"
   ]
  },
  {
   "cell_type": "code",
   "execution_count": 36,
   "id": "4604c822",
   "metadata": {},
   "outputs": [],
   "source": [
    "story = df['story']\n",
    "review = df['review']"
   ]
  },
  {
   "cell_type": "markdown",
   "id": "9c51a1c7",
   "metadata": {},
   "source": [
    "#### 소설 스토리가 중복되어 있는 경우는 제거 = 집합 자료형 이용해서 중복된 것은 생기지 않도록 만들었음"
   ]
  },
  {
   "cell_type": "code",
   "execution_count": 37,
   "id": "cb0a11ea",
   "metadata": {},
   "outputs": [
    {
     "data": {
      "text/plain": [
       "1114"
      ]
     },
     "execution_count": 37,
     "metadata": {},
     "output_type": "execute_result"
    }
   ],
   "source": [
    "all_words = set()\n",
    "for s in story:\n",
    "    okt = Okt()\n",
    "    story_sep = okt.pos(s)\n",
    "    all_words.add(tuple(story_sep))\n",
    "len(all_words)"
   ]
  },
  {
   "cell_type": "markdown",
   "id": "9dad933f",
   "metadata": {},
   "source": [
    "### 단어 분포 파악을 위한 데이터 프레임 생성"
   ]
  },
  {
   "cell_type": "code",
   "execution_count": 38,
   "id": "205ce945",
   "metadata": {},
   "outputs": [
    {
     "data": {
      "text/plain": [
       "165002"
      ]
     },
     "execution_count": 38,
     "metadata": {},
     "output_type": "execute_result"
    }
   ],
   "source": [
    "necessary_words = []\n",
    "necessary_type = ('Noun', 'Verb', 'Adjective')\n",
    "for idx, all_word in enumerate(all_words):\n",
    "    for word,typ in all_word:\n",
    "        if typ in necessary_type and word not in stopwords:\n",
    "            necessary_words.append([idx, word, typ])\n",
    "len(necessary_words)"
   ]
  },
  {
   "cell_type": "markdown",
   "id": "7c96cc1e",
   "metadata": {},
   "source": [
    "* words_df columns : 문서No. / 분리된 형태소(단어) / 형태(명사,형용사,동사)"
   ]
  },
  {
   "cell_type": "code",
   "execution_count": 39,
   "id": "8b650aaa",
   "metadata": {},
   "outputs": [],
   "source": [
    "words_df = pd.DataFrame(data = necessary_words, columns=['docNo', 'word', 'type'])"
   ]
  },
  {
   "cell_type": "code",
   "execution_count": 40,
   "id": "d5430587",
   "metadata": {},
   "outputs": [
    {
     "data": {
      "text/html": [
       "<div>\n",
       "<style scoped>\n",
       "    .dataframe tbody tr th:only-of-type {\n",
       "        vertical-align: middle;\n",
       "    }\n",
       "\n",
       "    .dataframe tbody tr th {\n",
       "        vertical-align: top;\n",
       "    }\n",
       "\n",
       "    .dataframe thead th {\n",
       "        text-align: right;\n",
       "    }\n",
       "</style>\n",
       "<table border=\"1\" class=\"dataframe\">\n",
       "  <thead>\n",
       "    <tr style=\"text-align: right;\">\n",
       "      <th></th>\n",
       "      <th>docNo</th>\n",
       "      <th>word</th>\n",
       "      <th>type</th>\n",
       "    </tr>\n",
       "  </thead>\n",
       "  <tbody>\n",
       "    <tr>\n",
       "      <th>0</th>\n",
       "      <td>0</td>\n",
       "      <td>그리움</td>\n",
       "      <td>Noun</td>\n",
       "    </tr>\n",
       "    <tr>\n",
       "      <th>1</th>\n",
       "      <td>0</td>\n",
       "      <td>삶</td>\n",
       "      <td>Noun</td>\n",
       "    </tr>\n",
       "    <tr>\n",
       "      <th>2</th>\n",
       "      <td>0</td>\n",
       "      <td>전부</td>\n",
       "      <td>Noun</td>\n",
       "    </tr>\n",
       "    <tr>\n",
       "      <th>3</th>\n",
       "      <td>0</td>\n",
       "      <td>떠</td>\n",
       "      <td>Verb</td>\n",
       "    </tr>\n",
       "    <tr>\n",
       "      <th>4</th>\n",
       "      <td>0</td>\n",
       "      <td>도</td>\n",
       "      <td>Noun</td>\n",
       "    </tr>\n",
       "    <tr>\n",
       "      <th>...</th>\n",
       "      <td>...</td>\n",
       "      <td>...</td>\n",
       "      <td>...</td>\n",
       "    </tr>\n",
       "    <tr>\n",
       "      <th>164997</th>\n",
       "      <td>1113</td>\n",
       "      <td>생존자</td>\n",
       "      <td>Noun</td>\n",
       "    </tr>\n",
       "    <tr>\n",
       "      <th>164998</th>\n",
       "      <td>1113</td>\n",
       "      <td>만나기</td>\n",
       "      <td>Verb</td>\n",
       "    </tr>\n",
       "    <tr>\n",
       "      <th>164999</th>\n",
       "      <td>1113</td>\n",
       "      <td>위해</td>\n",
       "      <td>Noun</td>\n",
       "    </tr>\n",
       "    <tr>\n",
       "      <th>165000</th>\n",
       "      <td>1113</td>\n",
       "      <td>버스</td>\n",
       "      <td>Noun</td>\n",
       "    </tr>\n",
       "    <tr>\n",
       "      <th>165001</th>\n",
       "      <td>1113</td>\n",
       "      <td>오르는데</td>\n",
       "      <td>Verb</td>\n",
       "    </tr>\n",
       "  </tbody>\n",
       "</table>\n",
       "<p>165002 rows × 3 columns</p>\n",
       "</div>"
      ],
      "text/plain": [
       "        docNo  word  type\n",
       "0           0   그리움  Noun\n",
       "1           0     삶  Noun\n",
       "2           0    전부  Noun\n",
       "3           0     떠  Verb\n",
       "4           0     도  Noun\n",
       "...       ...   ...   ...\n",
       "164997   1113   생존자  Noun\n",
       "164998   1113   만나기  Verb\n",
       "164999   1113    위해  Noun\n",
       "165000   1113    버스  Noun\n",
       "165001   1113  오르는데  Verb\n",
       "\n",
       "[165002 rows x 3 columns]"
      ]
     },
     "execution_count": 40,
     "metadata": {},
     "output_type": "execute_result"
    }
   ],
   "source": [
    "words_df"
   ]
  },
  {
   "cell_type": "markdown",
   "id": "ed2d09ee",
   "metadata": {},
   "source": [
    "---"
   ]
  },
  {
   "cell_type": "markdown",
   "id": "3dce7c04",
   "metadata": {},
   "source": [
    "## 형태소 분리한 데이터 살펴보기"
   ]
  },
  {
   "cell_type": "markdown",
   "id": "1d45ecf1",
   "metadata": {},
   "source": [
    "### 문서별 단어 개수 히스토그램"
   ]
  },
  {
   "cell_type": "code",
   "execution_count": 41,
   "id": "49c8dff2",
   "metadata": {
    "scrolled": true
   },
   "outputs": [
    {
     "data": {
      "image/png": "[encoded data removed]",
      "text/plain": [
       "<Figure size 432x288 with 1 Axes>"
      ]
     },
     "metadata": {
      "needs_background": "light"
     },
     "output_type": "display_data"
    }
   ],
   "source": [
    "sns.histplot(words_df.value_counts('docNo'))\n",
    "plt.show()                    "
   ]
  },
  {
   "cell_type": "markdown",
   "id": "c7ea5e3f",
   "metadata": {},
   "source": [
    "단어 수가 20\\~40개인 경우가 가장 많았고, 단어수 20\\~180개인 경우가 약 40%를 차지함."
   ]
  },
  {
   "cell_type": "markdown",
   "id": "32d58056",
   "metadata": {},
   "source": [
    "#### 단어 개수 분포 (상위 25개)"
   ]
  },
  {
   "cell_type": "code",
   "execution_count": 42,
   "id": "9564ec0b",
   "metadata": {
    "scrolled": false
   },
   "outputs": [
    {
     "data": {
      "image/png": "[encoded data removed]",
      "text/plain": [
       "<Figure size 720x504 with 1 Axes>"
      ]
     },
     "metadata": {
      "needs_background": "light"
     },
     "output_type": "display_data"
    }
   ],
   "source": [
    "fre_words = words_df.value_counts('word')[:25]\n",
    "plt.figure(figsize=(10,7))\n",
    "sns.barplot(y=fre_words.index,x=fre_words)\n",
    "plt.show()"
   ]
  },
  {
   "cell_type": "markdown",
   "id": "48ba02c8",
   "metadata": {},
   "source": [
    "단어 개수가 가장 많은 '소설', '그', '하는', '이', '작품' 등 Topic 분류 작업시 감성이나 장르에 따라 구분되지 않는 단어들 상당수."
   ]
  },
  {
   "cell_type": "markdown",
   "id": "d5b0d4a3",
   "metadata": {},
   "source": [
    "### 형태소 type별 단어 빈도수 시각화"
   ]
  },
  {
   "cell_type": "code",
   "execution_count": 43,
   "id": "5f4557c7",
   "metadata": {},
   "outputs": [
    {
     "data": {
      "image/png": "[encoded data removed]",
      "text/plain": [
       "<Figure size 360x360 with 1 Axes>"
      ]
     },
     "metadata": {},
     "output_type": "display_data"
    }
   ],
   "source": [
    "Noun = words_df[words_df['type'] == 'Noun']\n",
    "Verb = words_df[words_df['type'] == 'Verb']\n",
    "Adjective = words_df[words_df['type'] == 'Adjective']\n",
    "\n",
    "plt.figure(figsize=(5, 5))\n",
    "explode = [0.05, 0.05, 0.05]\n",
    "colors = ['#d395d0', '#ffc000', '#8fd9b6']\n",
    "plt.pie((len(Noun), len(Verb), len(Adjective)), labels=('명사', '동사', '형용사'), autopct='%.1f%%',  explode=explode, colors=colors, shadow=True)\n",
    "plt.show()"
   ]
  },
  {
   "cell_type": "markdown",
   "id": "a47aba53",
   "metadata": {},
   "source": [
    "명사형이 72.7%로 상당수"
   ]
  },
  {
   "cell_type": "code",
   "execution_count": 44,
   "id": "05156eb0",
   "metadata": {
    "scrolled": true
   },
   "outputs": [
    {
     "data": {
      "image/png": "[encoded data removed]",
      "text/plain": [
       "<Figure size 432x288 with 3 Axes>"
      ]
     },
     "metadata": {
      "needs_background": "light"
     },
     "output_type": "display_data"
    }
   ],
   "source": [
    "fig, axs = plt.subplots(1,3,constrained_layout=True)\n",
    "\n",
    "fig.suptitle('형태별 자주 등장하는 단어')\n",
    "                        \n",
    "Noun_fre_words = Noun.value_counts('word')[:10]\n",
    "axs[0].barh(Noun_fre_words.index[::-1],Noun_fre_words[::-1],color='plum')\n",
    "axs[0].set_title('명사')\n",
    "\n",
    "Verb_fre_words = Verb.value_counts('word')[:10]\n",
    "axs[1].barh(Verb_fre_words.index[::-1],Verb_fre_words[::-1],color='gold')\n",
    "axs[1].set_title('동사')\n",
    "\n",
    "Adjective_fre_words = Adjective.value_counts('word')[:10]\n",
    "axs[2].barh(Adjective_fre_words.index[::-1],Adjective_fre_words[::-1],color='lightseagreen')\n",
    "axs[2].set_title('형용사')\n",
    "\n",
    "plt.show()"
   ]
  },
  {
   "cell_type": "markdown",
   "id": "7bdb306f",
   "metadata": {},
   "source": [
    "### wordcloud 이용해서 단어 살펴보기"
   ]
  },
  {
   "cell_type": "code",
   "execution_count": 45,
   "id": "27cd3280",
   "metadata": {},
   "outputs": [],
   "source": [
    "from wordcloud import WordCloud\n",
    "#, STOPWORDS #stopwords = set(STOPWORDS) \n",
    "\n",
    "def show_wordcloud(data): \n",
    "    wordcloud = WordCloud(\n",
    "        font_path = r'/usr/share/fonts/truetype/NanumGothic.ttf', #글자가 깨져서 폰트 파일의 주소를 할당해 주었다. \n",
    "                          background_color='white', \n",
    "                          #stopwords=stopwords, \n",
    "                          max_words=100, \n",
    "                          max_font_size=30, \n",
    "                          scale=3, \n",
    "                          random_state=1) \n",
    "    \n",
    "    wordcloud=wordcloud.generate(str(data)) \n",
    "    \n",
    "    fig = plt.figure(1, figsize=(12, 12)) \n",
    "    plt.rcParams['font.family'] = 'NanumGothic' \n",
    "    plt.axis('off') \n",
    "    \n",
    "    plt.imshow(wordcloud) \n",
    "    plt.show() "
   ]
  },
  {
   "cell_type": "markdown",
   "id": "bf135113",
   "metadata": {},
   "source": [
    "### 명사 자세하게 살펴보기"
   ]
  },
  {
   "cell_type": "code",
   "execution_count": 46,
   "id": "7b67864f",
   "metadata": {},
   "outputs": [
    {
     "data": {
      "text/html": [
       "<div>\n",
       "<style scoped>\n",
       "    .dataframe tbody tr th:only-of-type {\n",
       "        vertical-align: middle;\n",
       "    }\n",
       "\n",
       "    .dataframe tbody tr th {\n",
       "        vertical-align: top;\n",
       "    }\n",
       "\n",
       "    .dataframe thead th {\n",
       "        text-align: right;\n",
       "    }\n",
       "</style>\n",
       "<table border=\"1\" class=\"dataframe\">\n",
       "  <thead>\n",
       "    <tr style=\"text-align: right;\">\n",
       "      <th></th>\n",
       "      <th>word</th>\n",
       "      <th>count</th>\n",
       "    </tr>\n",
       "  </thead>\n",
       "  <tbody>\n",
       "    <tr>\n",
       "      <th>0</th>\n",
       "      <td>소설</td>\n",
       "      <td>1618</td>\n",
       "    </tr>\n",
       "    <tr>\n",
       "      <th>1</th>\n",
       "      <td>그</td>\n",
       "      <td>1467</td>\n",
       "    </tr>\n",
       "    <tr>\n",
       "      <th>2</th>\n",
       "      <td>이</td>\n",
       "      <td>1242</td>\n",
       "    </tr>\n",
       "    <tr>\n",
       "      <th>3</th>\n",
       "      <td>작품</td>\n",
       "      <td>1089</td>\n",
       "    </tr>\n",
       "    <tr>\n",
       "      <th>4</th>\n",
       "      <td>작가</td>\n",
       "      <td>1067</td>\n",
       "    </tr>\n",
       "  </tbody>\n",
       "</table>\n",
       "</div>"
      ],
      "text/plain": [
       "  word  count\n",
       "0   소설   1618\n",
       "1    그   1467\n",
       "2    이   1242\n",
       "3   작품   1089\n",
       "4   작가   1067"
      ]
     },
     "execution_count": 46,
     "metadata": {},
     "output_type": "execute_result"
    }
   ],
   "source": [
    "Noun_count_df = pd.DataFrame(Noun.value_counts('word'))\n",
    "Noun_count_df.reset_index(inplace=True)\n",
    "Noun_count_df.rename({0:'count'}, axis=1, inplace=True)\n",
    "Noun_count_df.head(5)"
   ]
  },
  {
   "cell_type": "code",
   "execution_count": 47,
   "id": "07aa551f",
   "metadata": {
    "scrolled": false
   },
   "outputs": [
    {
     "ename": "OSError",
     "evalue": "cannot open resource",
     "output_type": "error",
     "traceback": [
      "\u001b[0;31m---------------------------------------------------------------------------\u001b[0m",
      "\u001b[0;31mOSError\u001b[0m                                   Traceback (most recent call last)",
      "\u001b[1;32m/Users/anmunju/Documents/PJ_repositories/boram/EDA/소설_EDA.ipynb Cell 50'\u001b[0m in \u001b[0;36m<module>\u001b[0;34m\u001b[0m\n\u001b[1;32m      <a href='vscode-notebook-cell:/Users/anmunju/Documents/PJ_repositories/boram/EDA/%EC%86%8C%EC%84%A4_EDA.ipynb#ch0000049?line=0'>1</a>\u001b[0m Noun_count \u001b[39m=\u001b[39m Noun_count_df[\u001b[39m'\u001b[39m\u001b[39mcount\u001b[39m\u001b[39m'\u001b[39m]\n\u001b[1;32m      <a href='vscode-notebook-cell:/Users/anmunju/Documents/PJ_repositories/boram/EDA/%EC%86%8C%EC%84%A4_EDA.ipynb#ch0000049?line=1'>2</a>\u001b[0m Noun_most \u001b[39m=\u001b[39m \u001b[39mlist\u001b[39m(Noun_count_df[\u001b[39m'\u001b[39m\u001b[39mword\u001b[39m\u001b[39m'\u001b[39m])\n\u001b[0;32m----> <a href='vscode-notebook-cell:/Users/anmunju/Documents/PJ_repositories/boram/EDA/%EC%86%8C%EC%84%A4_EDA.ipynb#ch0000049?line=3'>4</a>\u001b[0m show_wordcloud(Noun_most)\n",
      "\u001b[1;32m/Users/anmunju/Documents/PJ_repositories/boram/EDA/소설_EDA.ipynb Cell 47'\u001b[0m in \u001b[0;36mshow_wordcloud\u001b[0;34m(data)\u001b[0m\n\u001b[1;32m      <a href='vscode-notebook-cell:/Users/anmunju/Documents/PJ_repositories/boram/EDA/%EC%86%8C%EC%84%A4_EDA.ipynb#ch0000046?line=3'>4</a>\u001b[0m \u001b[39mdef\u001b[39;00m \u001b[39mshow_wordcloud\u001b[39m(data): \n\u001b[1;32m      <a href='vscode-notebook-cell:/Users/anmunju/Documents/PJ_repositories/boram/EDA/%EC%86%8C%EC%84%A4_EDA.ipynb#ch0000046?line=4'>5</a>\u001b[0m     wordcloud \u001b[39m=\u001b[39m WordCloud(\n\u001b[1;32m      <a href='vscode-notebook-cell:/Users/anmunju/Documents/PJ_repositories/boram/EDA/%EC%86%8C%EC%84%A4_EDA.ipynb#ch0000046?line=5'>6</a>\u001b[0m         font_path \u001b[39m=\u001b[39m \u001b[39mr\u001b[39m\u001b[39m'\u001b[39m\u001b[39m/usr/share/fonts/truetype/NanumGothic.ttf\u001b[39m\u001b[39m'\u001b[39m, \u001b[39m#글자가 깨져서 폰트 파일의 주소를 할당해 주었다. \u001b[39;00m\n\u001b[1;32m      <a href='vscode-notebook-cell:/Users/anmunju/Documents/PJ_repositories/boram/EDA/%EC%86%8C%EC%84%A4_EDA.ipynb#ch0000046?line=6'>7</a>\u001b[0m                           background_color\u001b[39m=\u001b[39m\u001b[39m'\u001b[39m\u001b[39mwhite\u001b[39m\u001b[39m'\u001b[39m, \n\u001b[0;32m   (...)\u001b[0m\n\u001b[1;32m     <a href='vscode-notebook-cell:/Users/anmunju/Documents/PJ_repositories/boram/EDA/%EC%86%8C%EC%84%A4_EDA.ipynb#ch0000046?line=10'>11</a>\u001b[0m                           scale\u001b[39m=\u001b[39m\u001b[39m3\u001b[39m, \n\u001b[1;32m     <a href='vscode-notebook-cell:/Users/anmunju/Documents/PJ_repositories/boram/EDA/%EC%86%8C%EC%84%A4_EDA.ipynb#ch0000046?line=11'>12</a>\u001b[0m                           random_state\u001b[39m=\u001b[39m\u001b[39m1\u001b[39m) \n\u001b[0;32m---> <a href='vscode-notebook-cell:/Users/anmunju/Documents/PJ_repositories/boram/EDA/%EC%86%8C%EC%84%A4_EDA.ipynb#ch0000046?line=13'>14</a>\u001b[0m     wordcloud\u001b[39m=\u001b[39mwordcloud\u001b[39m.\u001b[39;49mgenerate(\u001b[39mstr\u001b[39;49m(data)) \n\u001b[1;32m     <a href='vscode-notebook-cell:/Users/anmunju/Documents/PJ_repositories/boram/EDA/%EC%86%8C%EC%84%A4_EDA.ipynb#ch0000046?line=15'>16</a>\u001b[0m     fig \u001b[39m=\u001b[39m plt\u001b[39m.\u001b[39mfigure(\u001b[39m1\u001b[39m, figsize\u001b[39m=\u001b[39m(\u001b[39m12\u001b[39m, \u001b[39m12\u001b[39m)) \n\u001b[1;32m     <a href='vscode-notebook-cell:/Users/anmunju/Documents/PJ_repositories/boram/EDA/%EC%86%8C%EC%84%A4_EDA.ipynb#ch0000046?line=16'>17</a>\u001b[0m     plt\u001b[39m.\u001b[39mrcParams[\u001b[39m'\u001b[39m\u001b[39mfont.family\u001b[39m\u001b[39m'\u001b[39m] \u001b[39m=\u001b[39m \u001b[39m'\u001b[39m\u001b[39mNanumGothic\u001b[39m\u001b[39m'\u001b[39m \n",
      "File \u001b[0;32m/opt/homebrew/Caskroom/miniforge/base/envs/multi_crawling/lib/python3.9/site-packages/wordcloud/wordcloud.py:632\u001b[0m, in \u001b[0;36mWordCloud.generate\u001b[0;34m(self, text)\u001b[0m\n\u001b[1;32m    <a href='file:///opt/homebrew/Caskroom/miniforge/base/envs/multi_crawling/lib/python3.9/site-packages/wordcloud/wordcloud.py?line=616'>617</a>\u001b[0m \u001b[39mdef\u001b[39;00m \u001b[39mgenerate\u001b[39m(\u001b[39mself\u001b[39m, text):\n\u001b[1;32m    <a href='file:///opt/homebrew/Caskroom/miniforge/base/envs/multi_crawling/lib/python3.9/site-packages/wordcloud/wordcloud.py?line=617'>618</a>\u001b[0m     \u001b[39m\"\"\"Generate wordcloud from text.\u001b[39;00m\n\u001b[1;32m    <a href='file:///opt/homebrew/Caskroom/miniforge/base/envs/multi_crawling/lib/python3.9/site-packages/wordcloud/wordcloud.py?line=618'>619</a>\u001b[0m \n\u001b[1;32m    <a href='file:///opt/homebrew/Caskroom/miniforge/base/envs/multi_crawling/lib/python3.9/site-packages/wordcloud/wordcloud.py?line=619'>620</a>\u001b[0m \u001b[39m    The input \"text\" is expected to be a natural text. If you pass a sorted\u001b[39;00m\n\u001b[0;32m   (...)\u001b[0m\n\u001b[1;32m    <a href='file:///opt/homebrew/Caskroom/miniforge/base/envs/multi_crawling/lib/python3.9/site-packages/wordcloud/wordcloud.py?line=629'>630</a>\u001b[0m \u001b[39m    self\u001b[39;00m\n\u001b[1;32m    <a href='file:///opt/homebrew/Caskroom/miniforge/base/envs/multi_crawling/lib/python3.9/site-packages/wordcloud/wordcloud.py?line=630'>631</a>\u001b[0m \u001b[39m    \"\"\"\u001b[39;00m\n\u001b[0;32m--> <a href='file:///opt/homebrew/Caskroom/miniforge/base/envs/multi_crawling/lib/python3.9/site-packages/wordcloud/wordcloud.py?line=631'>632</a>\u001b[0m     \u001b[39mreturn\u001b[39;00m \u001b[39mself\u001b[39;49m\u001b[39m.\u001b[39;49mgenerate_from_text(text)\n",
      "File \u001b[0;32m/opt/homebrew/Caskroom/miniforge/base/envs/multi_crawling/lib/python3.9/site-packages/wordcloud/wordcloud.py:614\u001b[0m, in \u001b[0;36mWordCloud.generate_from_text\u001b[0;34m(self, text)\u001b[0m\n\u001b[1;32m    <a href='file:///opt/homebrew/Caskroom/miniforge/base/envs/multi_crawling/lib/python3.9/site-packages/wordcloud/wordcloud.py?line=596'>597</a>\u001b[0m \u001b[39m\"\"\"Generate wordcloud from text.\u001b[39;00m\n\u001b[1;32m    <a href='file:///opt/homebrew/Caskroom/miniforge/base/envs/multi_crawling/lib/python3.9/site-packages/wordcloud/wordcloud.py?line=597'>598</a>\u001b[0m \n\u001b[1;32m    <a href='file:///opt/homebrew/Caskroom/miniforge/base/envs/multi_crawling/lib/python3.9/site-packages/wordcloud/wordcloud.py?line=598'>599</a>\u001b[0m \u001b[39mThe input \"text\" is expected to be a natural text. If you pass a sorted\u001b[39;00m\n\u001b[0;32m   (...)\u001b[0m\n\u001b[1;32m    <a href='file:///opt/homebrew/Caskroom/miniforge/base/envs/multi_crawling/lib/python3.9/site-packages/wordcloud/wordcloud.py?line=610'>611</a>\u001b[0m \u001b[39mself\u001b[39;00m\n\u001b[1;32m    <a href='file:///opt/homebrew/Caskroom/miniforge/base/envs/multi_crawling/lib/python3.9/site-packages/wordcloud/wordcloud.py?line=611'>612</a>\u001b[0m \u001b[39m\"\"\"\u001b[39;00m\n\u001b[1;32m    <a href='file:///opt/homebrew/Caskroom/miniforge/base/envs/multi_crawling/lib/python3.9/site-packages/wordcloud/wordcloud.py?line=612'>613</a>\u001b[0m words \u001b[39m=\u001b[39m \u001b[39mself\u001b[39m\u001b[39m.\u001b[39mprocess_text(text)\n\u001b[0;32m--> <a href='file:///opt/homebrew/Caskroom/miniforge/base/envs/multi_crawling/lib/python3.9/site-packages/wordcloud/wordcloud.py?line=613'>614</a>\u001b[0m \u001b[39mself\u001b[39;49m\u001b[39m.\u001b[39;49mgenerate_from_frequencies(words)\n\u001b[1;32m    <a href='file:///opt/homebrew/Caskroom/miniforge/base/envs/multi_crawling/lib/python3.9/site-packages/wordcloud/wordcloud.py?line=614'>615</a>\u001b[0m \u001b[39mreturn\u001b[39;00m \u001b[39mself\u001b[39m\n",
      "File \u001b[0;32m/opt/homebrew/Caskroom/miniforge/base/envs/multi_crawling/lib/python3.9/site-packages/wordcloud/wordcloud.py:496\u001b[0m, in \u001b[0;36mWordCloud.generate_from_frequencies\u001b[0;34m(self, frequencies, max_font_size)\u001b[0m\n\u001b[1;32m    <a href='file:///opt/homebrew/Caskroom/miniforge/base/envs/multi_crawling/lib/python3.9/site-packages/wordcloud/wordcloud.py?line=492'>493</a>\u001b[0m tried_other_orientation \u001b[39m=\u001b[39m \u001b[39mFalse\u001b[39;00m\n\u001b[1;32m    <a href='file:///opt/homebrew/Caskroom/miniforge/base/envs/multi_crawling/lib/python3.9/site-packages/wordcloud/wordcloud.py?line=493'>494</a>\u001b[0m \u001b[39mwhile\u001b[39;00m \u001b[39mTrue\u001b[39;00m:\n\u001b[1;32m    <a href='file:///opt/homebrew/Caskroom/miniforge/base/envs/multi_crawling/lib/python3.9/site-packages/wordcloud/wordcloud.py?line=494'>495</a>\u001b[0m     \u001b[39m# try to find a position\u001b[39;00m\n\u001b[0;32m--> <a href='file:///opt/homebrew/Caskroom/miniforge/base/envs/multi_crawling/lib/python3.9/site-packages/wordcloud/wordcloud.py?line=495'>496</a>\u001b[0m     font \u001b[39m=\u001b[39m ImageFont\u001b[39m.\u001b[39;49mtruetype(\u001b[39mself\u001b[39;49m\u001b[39m.\u001b[39;49mfont_path, font_size)\n\u001b[1;32m    <a href='file:///opt/homebrew/Caskroom/miniforge/base/envs/multi_crawling/lib/python3.9/site-packages/wordcloud/wordcloud.py?line=496'>497</a>\u001b[0m     \u001b[39m# transpose font optionally\u001b[39;00m\n\u001b[1;32m    <a href='file:///opt/homebrew/Caskroom/miniforge/base/envs/multi_crawling/lib/python3.9/site-packages/wordcloud/wordcloud.py?line=497'>498</a>\u001b[0m     transposed_font \u001b[39m=\u001b[39m ImageFont\u001b[39m.\u001b[39mTransposedFont(\n\u001b[1;32m    <a href='file:///opt/homebrew/Caskroom/miniforge/base/envs/multi_crawling/lib/python3.9/site-packages/wordcloud/wordcloud.py?line=498'>499</a>\u001b[0m         font, orientation\u001b[39m=\u001b[39morientation)\n",
      "File \u001b[0;32m/opt/homebrew/Caskroom/miniforge/base/envs/multi_crawling/lib/python3.9/site-packages/PIL/ImageFont.py:844\u001b[0m, in \u001b[0;36mtruetype\u001b[0;34m(font, size, index, encoding, layout_engine)\u001b[0m\n\u001b[1;32m    <a href='file:///opt/homebrew/Caskroom/miniforge/base/envs/multi_crawling/lib/python3.9/site-packages/PIL/ImageFont.py?line=840'>841</a>\u001b[0m     \u001b[39mreturn\u001b[39;00m FreeTypeFont(font, size, index, encoding, layout_engine)\n\u001b[1;32m    <a href='file:///opt/homebrew/Caskroom/miniforge/base/envs/multi_crawling/lib/python3.9/site-packages/PIL/ImageFont.py?line=842'>843</a>\u001b[0m \u001b[39mtry\u001b[39;00m:\n\u001b[0;32m--> <a href='file:///opt/homebrew/Caskroom/miniforge/base/envs/multi_crawling/lib/python3.9/site-packages/PIL/ImageFont.py?line=843'>844</a>\u001b[0m     \u001b[39mreturn\u001b[39;00m freetype(font)\n\u001b[1;32m    <a href='file:///opt/homebrew/Caskroom/miniforge/base/envs/multi_crawling/lib/python3.9/site-packages/PIL/ImageFont.py?line=844'>845</a>\u001b[0m \u001b[39mexcept\u001b[39;00m \u001b[39mOSError\u001b[39;00m:\n\u001b[1;32m    <a href='file:///opt/homebrew/Caskroom/miniforge/base/envs/multi_crawling/lib/python3.9/site-packages/PIL/ImageFont.py?line=845'>846</a>\u001b[0m     \u001b[39mif\u001b[39;00m \u001b[39mnot\u001b[39;00m isPath(font):\n",
      "File \u001b[0;32m/opt/homebrew/Caskroom/miniforge/base/envs/multi_crawling/lib/python3.9/site-packages/PIL/ImageFont.py:841\u001b[0m, in \u001b[0;36mtruetype.<locals>.freetype\u001b[0;34m(font)\u001b[0m\n\u001b[1;32m    <a href='file:///opt/homebrew/Caskroom/miniforge/base/envs/multi_crawling/lib/python3.9/site-packages/PIL/ImageFont.py?line=839'>840</a>\u001b[0m \u001b[39mdef\u001b[39;00m \u001b[39mfreetype\u001b[39m(font):\n\u001b[0;32m--> <a href='file:///opt/homebrew/Caskroom/miniforge/base/envs/multi_crawling/lib/python3.9/site-packages/PIL/ImageFont.py?line=840'>841</a>\u001b[0m     \u001b[39mreturn\u001b[39;00m FreeTypeFont(font, size, index, encoding, layout_engine)\n",
      "File \u001b[0;32m/opt/homebrew/Caskroom/miniforge/base/envs/multi_crawling/lib/python3.9/site-packages/PIL/ImageFont.py:193\u001b[0m, in \u001b[0;36mFreeTypeFont.__init__\u001b[0;34m(self, font, size, index, encoding, layout_engine)\u001b[0m\n\u001b[1;32m    <a href='file:///opt/homebrew/Caskroom/miniforge/base/envs/multi_crawling/lib/python3.9/site-packages/PIL/ImageFont.py?line=190'>191</a>\u001b[0m                 load_from_bytes(f)\n\u001b[1;32m    <a href='file:///opt/homebrew/Caskroom/miniforge/base/envs/multi_crawling/lib/python3.9/site-packages/PIL/ImageFont.py?line=191'>192</a>\u001b[0m             \u001b[39mreturn\u001b[39;00m\n\u001b[0;32m--> <a href='file:///opt/homebrew/Caskroom/miniforge/base/envs/multi_crawling/lib/python3.9/site-packages/PIL/ImageFont.py?line=192'>193</a>\u001b[0m     \u001b[39mself\u001b[39m\u001b[39m.\u001b[39mfont \u001b[39m=\u001b[39m core\u001b[39m.\u001b[39;49mgetfont(\n\u001b[1;32m    <a href='file:///opt/homebrew/Caskroom/miniforge/base/envs/multi_crawling/lib/python3.9/site-packages/PIL/ImageFont.py?line=193'>194</a>\u001b[0m         font, size, index, encoding, layout_engine\u001b[39m=\u001b[39;49mlayout_engine\n\u001b[1;32m    <a href='file:///opt/homebrew/Caskroom/miniforge/base/envs/multi_crawling/lib/python3.9/site-packages/PIL/ImageFont.py?line=194'>195</a>\u001b[0m     )\n\u001b[1;32m    <a href='file:///opt/homebrew/Caskroom/miniforge/base/envs/multi_crawling/lib/python3.9/site-packages/PIL/ImageFont.py?line=195'>196</a>\u001b[0m \u001b[39melse\u001b[39;00m:\n\u001b[1;32m    <a href='file:///opt/homebrew/Caskroom/miniforge/base/envs/multi_crawling/lib/python3.9/site-packages/PIL/ImageFont.py?line=196'>197</a>\u001b[0m     load_from_bytes(font)\n",
      "\u001b[0;31mOSError\u001b[0m: cannot open resource"
     ]
    }
   ],
   "source": [
    "Noun_count = Noun_count_df['count']\n",
    "Noun_most = list(Noun_count_df['word'])\n",
    "    \n",
    "show_wordcloud(Noun_most)"
   ]
  },
  {
   "cell_type": "code",
   "execution_count": 48,
   "id": "2a6a2eed",
   "metadata": {
    "scrolled": false
   },
   "outputs": [],
   "source": [
    "# print(list(Noun_count_df.word[:100]))\n",
    "stopwords.update(('소설', '그', '이', '작품', '작가', '것', '이야기', '수', '의', '등', '우리', '독자', '간', '책', \n",
    "                  '제', '속', '통해', '권', '위해', '장편소설', '두', '전', '대한', '은', '위', '가장', '저자', '를', '온',\n",
    "                 '중', '때', '다시', '더', '하나', '이자', '세', '인물', '다른', '알', '이후', '첫', '곳', '뒤', '작', \n",
    "                 '지금', '모두',  '이번',  '내', '채', '모든', '문학상', '앞',  '시리즈',  '못', '이름', '문제', '후', '안',\n",
    "                 '무엇', '로', '동안', '또', '신작', '수상작', '대해', '년', '편', '김', '또한', '수록', '번', '번역', '문장', \n",
    "                 '소설가','가지', '선정',  '최고',  '개', '그것', '단편', '때문', '과' ,'듯', '국문학', '이제',\n",
    "                 '점', '베스트셀러', '데', '연재', '한편', '자', '네', '관', '감', '데뷔', '부', '둘', '장', '거', '로서', '바로', \n",
    "                 '게', '란', '도', '단편소설', '다섯', '더욱', '저', '전집', '개정판', '호', '로부터',))\n",
    "# print(stopwords)"
   ]
  },
  {
   "cell_type": "markdown",
   "id": "8bea71b2",
   "metadata": {},
   "source": [
    "### 형용사 자세하게 살펴보기"
   ]
  },
  {
   "cell_type": "code",
   "execution_count": 49,
   "id": "50cffe66",
   "metadata": {
    "scrolled": false
   },
   "outputs": [
    {
     "data": {
      "text/html": [
       "<div>\n",
       "<style scoped>\n",
       "    .dataframe tbody tr th:only-of-type {\n",
       "        vertical-align: middle;\n",
       "    }\n",
       "\n",
       "    .dataframe tbody tr th {\n",
       "        vertical-align: top;\n",
       "    }\n",
       "\n",
       "    .dataframe thead th {\n",
       "        text-align: right;\n",
       "    }\n",
       "</style>\n",
       "<table border=\"1\" class=\"dataframe\">\n",
       "  <thead>\n",
       "    <tr style=\"text-align: right;\">\n",
       "      <th></th>\n",
       "      <th>word</th>\n",
       "      <th>count</th>\n",
       "    </tr>\n",
       "  </thead>\n",
       "  <tbody>\n",
       "    <tr>\n",
       "      <th>0</th>\n",
       "      <td>있는</td>\n",
       "      <td>713</td>\n",
       "    </tr>\n",
       "    <tr>\n",
       "      <th>1</th>\n",
       "      <td>있다</td>\n",
       "      <td>707</td>\n",
       "    </tr>\n",
       "    <tr>\n",
       "      <th>2</th>\n",
       "      <td>없는</td>\n",
       "      <td>349</td>\n",
       "    </tr>\n",
       "    <tr>\n",
       "      <th>3</th>\n",
       "      <td>같은</td>\n",
       "      <td>255</td>\n",
       "    </tr>\n",
       "    <tr>\n",
       "      <th>4</th>\n",
       "      <td>새로운</td>\n",
       "      <td>250</td>\n",
       "    </tr>\n",
       "  </tbody>\n",
       "</table>\n",
       "</div>"
      ],
      "text/plain": [
       "  word  count\n",
       "0   있는    713\n",
       "1   있다    707\n",
       "2   없는    349\n",
       "3   같은    255\n",
       "4  새로운    250"
      ]
     },
     "execution_count": 49,
     "metadata": {},
     "output_type": "execute_result"
    }
   ],
   "source": [
    "Adjective_count_df = pd.DataFrame(Adjective.value_counts('word'))\n",
    "Adjective_count_df.reset_index(inplace=True)\n",
    "Adjective_count_df.rename({0:'count'}, axis=1, inplace=True)\n",
    "Adjective_count_df.head(5)"
   ]
  },
  {
   "cell_type": "code",
   "execution_count": 50,
   "id": "7001b354",
   "metadata": {
    "scrolled": false
   },
   "outputs": [
    {
     "ename": "OSError",
     "evalue": "cannot open resource",
     "output_type": "error",
     "traceback": [
      "\u001b[0;31m---------------------------------------------------------------------------\u001b[0m",
      "\u001b[0;31mOSError\u001b[0m                                   Traceback (most recent call last)",
      "\u001b[1;32m/Users/anmunju/Documents/PJ_repositories/boram/EDA/소설_EDA.ipynb Cell 54'\u001b[0m in \u001b[0;36m<module>\u001b[0;34m\u001b[0m\n\u001b[1;32m      <a href='vscode-notebook-cell:/Users/anmunju/Documents/PJ_repositories/boram/EDA/%EC%86%8C%EC%84%A4_EDA.ipynb#ch0000053?line=0'>1</a>\u001b[0m Adjective_count \u001b[39m=\u001b[39m Adjective_count_df[\u001b[39m'\u001b[39m\u001b[39mcount\u001b[39m\u001b[39m'\u001b[39m]\n\u001b[1;32m      <a href='vscode-notebook-cell:/Users/anmunju/Documents/PJ_repositories/boram/EDA/%EC%86%8C%EC%84%A4_EDA.ipynb#ch0000053?line=1'>2</a>\u001b[0m Adjective_most \u001b[39m=\u001b[39m \u001b[39mlist\u001b[39m(Adjective_count_df[\u001b[39m'\u001b[39m\u001b[39mword\u001b[39m\u001b[39m'\u001b[39m])\n\u001b[0;32m----> <a href='vscode-notebook-cell:/Users/anmunju/Documents/PJ_repositories/boram/EDA/%EC%86%8C%EC%84%A4_EDA.ipynb#ch0000053?line=3'>4</a>\u001b[0m show_wordcloud(Adjective_most)\n",
      "\u001b[1;32m/Users/anmunju/Documents/PJ_repositories/boram/EDA/소설_EDA.ipynb Cell 47'\u001b[0m in \u001b[0;36mshow_wordcloud\u001b[0;34m(data)\u001b[0m\n\u001b[1;32m      <a href='vscode-notebook-cell:/Users/anmunju/Documents/PJ_repositories/boram/EDA/%EC%86%8C%EC%84%A4_EDA.ipynb#ch0000046?line=3'>4</a>\u001b[0m \u001b[39mdef\u001b[39;00m \u001b[39mshow_wordcloud\u001b[39m(data): \n\u001b[1;32m      <a href='vscode-notebook-cell:/Users/anmunju/Documents/PJ_repositories/boram/EDA/%EC%86%8C%EC%84%A4_EDA.ipynb#ch0000046?line=4'>5</a>\u001b[0m     wordcloud \u001b[39m=\u001b[39m WordCloud(\n\u001b[1;32m      <a href='vscode-notebook-cell:/Users/anmunju/Documents/PJ_repositories/boram/EDA/%EC%86%8C%EC%84%A4_EDA.ipynb#ch0000046?line=5'>6</a>\u001b[0m         font_path \u001b[39m=\u001b[39m \u001b[39mr\u001b[39m\u001b[39m'\u001b[39m\u001b[39m/usr/share/fonts/truetype/NanumGothic.ttf\u001b[39m\u001b[39m'\u001b[39m, \u001b[39m#글자가 깨져서 폰트 파일의 주소를 할당해 주었다. \u001b[39;00m\n\u001b[1;32m      <a href='vscode-notebook-cell:/Users/anmunju/Documents/PJ_repositories/boram/EDA/%EC%86%8C%EC%84%A4_EDA.ipynb#ch0000046?line=6'>7</a>\u001b[0m                           background_color\u001b[39m=\u001b[39m\u001b[39m'\u001b[39m\u001b[39mwhite\u001b[39m\u001b[39m'\u001b[39m, \n\u001b[0;32m   (...)\u001b[0m\n\u001b[1;32m     <a href='vscode-notebook-cell:/Users/anmunju/Documents/PJ_repositories/boram/EDA/%EC%86%8C%EC%84%A4_EDA.ipynb#ch0000046?line=10'>11</a>\u001b[0m                           scale\u001b[39m=\u001b[39m\u001b[39m3\u001b[39m, \n\u001b[1;32m     <a href='vscode-notebook-cell:/Users/anmunju/Documents/PJ_repositories/boram/EDA/%EC%86%8C%EC%84%A4_EDA.ipynb#ch0000046?line=11'>12</a>\u001b[0m                           random_state\u001b[39m=\u001b[39m\u001b[39m1\u001b[39m) \n\u001b[0;32m---> <a href='vscode-notebook-cell:/Users/anmunju/Documents/PJ_repositories/boram/EDA/%EC%86%8C%EC%84%A4_EDA.ipynb#ch0000046?line=13'>14</a>\u001b[0m     wordcloud\u001b[39m=\u001b[39mwordcloud\u001b[39m.\u001b[39;49mgenerate(\u001b[39mstr\u001b[39;49m(data)) \n\u001b[1;32m     <a href='vscode-notebook-cell:/Users/anmunju/Documents/PJ_repositories/boram/EDA/%EC%86%8C%EC%84%A4_EDA.ipynb#ch0000046?line=15'>16</a>\u001b[0m     fig \u001b[39m=\u001b[39m plt\u001b[39m.\u001b[39mfigure(\u001b[39m1\u001b[39m, figsize\u001b[39m=\u001b[39m(\u001b[39m12\u001b[39m, \u001b[39m12\u001b[39m)) \n\u001b[1;32m     <a href='vscode-notebook-cell:/Users/anmunju/Documents/PJ_repositories/boram/EDA/%EC%86%8C%EC%84%A4_EDA.ipynb#ch0000046?line=16'>17</a>\u001b[0m     plt\u001b[39m.\u001b[39mrcParams[\u001b[39m'\u001b[39m\u001b[39mfont.family\u001b[39m\u001b[39m'\u001b[39m] \u001b[39m=\u001b[39m \u001b[39m'\u001b[39m\u001b[39mNanumGothic\u001b[39m\u001b[39m'\u001b[39m \n",
      "File \u001b[0;32m/opt/homebrew/Caskroom/miniforge/base/envs/multi_crawling/lib/python3.9/site-packages/wordcloud/wordcloud.py:632\u001b[0m, in \u001b[0;36mWordCloud.generate\u001b[0;34m(self, text)\u001b[0m\n\u001b[1;32m    <a href='file:///opt/homebrew/Caskroom/miniforge/base/envs/multi_crawling/lib/python3.9/site-packages/wordcloud/wordcloud.py?line=616'>617</a>\u001b[0m \u001b[39mdef\u001b[39;00m \u001b[39mgenerate\u001b[39m(\u001b[39mself\u001b[39m, text):\n\u001b[1;32m    <a href='file:///opt/homebrew/Caskroom/miniforge/base/envs/multi_crawling/lib/python3.9/site-packages/wordcloud/wordcloud.py?line=617'>618</a>\u001b[0m     \u001b[39m\"\"\"Generate wordcloud from text.\u001b[39;00m\n\u001b[1;32m    <a href='file:///opt/homebrew/Caskroom/miniforge/base/envs/multi_crawling/lib/python3.9/site-packages/wordcloud/wordcloud.py?line=618'>619</a>\u001b[0m \n\u001b[1;32m    <a href='file:///opt/homebrew/Caskroom/miniforge/base/envs/multi_crawling/lib/python3.9/site-packages/wordcloud/wordcloud.py?line=619'>620</a>\u001b[0m \u001b[39m    The input \"text\" is expected to be a natural text. If you pass a sorted\u001b[39;00m\n\u001b[0;32m   (...)\u001b[0m\n\u001b[1;32m    <a href='file:///opt/homebrew/Caskroom/miniforge/base/envs/multi_crawling/lib/python3.9/site-packages/wordcloud/wordcloud.py?line=629'>630</a>\u001b[0m \u001b[39m    self\u001b[39;00m\n\u001b[1;32m    <a href='file:///opt/homebrew/Caskroom/miniforge/base/envs/multi_crawling/lib/python3.9/site-packages/wordcloud/wordcloud.py?line=630'>631</a>\u001b[0m \u001b[39m    \"\"\"\u001b[39;00m\n\u001b[0;32m--> <a href='file:///opt/homebrew/Caskroom/miniforge/base/envs/multi_crawling/lib/python3.9/site-packages/wordcloud/wordcloud.py?line=631'>632</a>\u001b[0m     \u001b[39mreturn\u001b[39;00m \u001b[39mself\u001b[39;49m\u001b[39m.\u001b[39;49mgenerate_from_text(text)\n",
      "File \u001b[0;32m/opt/homebrew/Caskroom/miniforge/base/envs/multi_crawling/lib/python3.9/site-packages/wordcloud/wordcloud.py:614\u001b[0m, in \u001b[0;36mWordCloud.generate_from_text\u001b[0;34m(self, text)\u001b[0m\n\u001b[1;32m    <a href='file:///opt/homebrew/Caskroom/miniforge/base/envs/multi_crawling/lib/python3.9/site-packages/wordcloud/wordcloud.py?line=596'>597</a>\u001b[0m \u001b[39m\"\"\"Generate wordcloud from text.\u001b[39;00m\n\u001b[1;32m    <a href='file:///opt/homebrew/Caskroom/miniforge/base/envs/multi_crawling/lib/python3.9/site-packages/wordcloud/wordcloud.py?line=597'>598</a>\u001b[0m \n\u001b[1;32m    <a href='file:///opt/homebrew/Caskroom/miniforge/base/envs/multi_crawling/lib/python3.9/site-packages/wordcloud/wordcloud.py?line=598'>599</a>\u001b[0m \u001b[39mThe input \"text\" is expected to be a natural text. If you pass a sorted\u001b[39;00m\n\u001b[0;32m   (...)\u001b[0m\n\u001b[1;32m    <a href='file:///opt/homebrew/Caskroom/miniforge/base/envs/multi_crawling/lib/python3.9/site-packages/wordcloud/wordcloud.py?line=610'>611</a>\u001b[0m \u001b[39mself\u001b[39;00m\n\u001b[1;32m    <a href='file:///opt/homebrew/Caskroom/miniforge/base/envs/multi_crawling/lib/python3.9/site-packages/wordcloud/wordcloud.py?line=611'>612</a>\u001b[0m \u001b[39m\"\"\"\u001b[39;00m\n\u001b[1;32m    <a href='file:///opt/homebrew/Caskroom/miniforge/base/envs/multi_crawling/lib/python3.9/site-packages/wordcloud/wordcloud.py?line=612'>613</a>\u001b[0m words \u001b[39m=\u001b[39m \u001b[39mself\u001b[39m\u001b[39m.\u001b[39mprocess_text(text)\n\u001b[0;32m--> <a href='file:///opt/homebrew/Caskroom/miniforge/base/envs/multi_crawling/lib/python3.9/site-packages/wordcloud/wordcloud.py?line=613'>614</a>\u001b[0m \u001b[39mself\u001b[39;49m\u001b[39m.\u001b[39;49mgenerate_from_frequencies(words)\n\u001b[1;32m    <a href='file:///opt/homebrew/Caskroom/miniforge/base/envs/multi_crawling/lib/python3.9/site-packages/wordcloud/wordcloud.py?line=614'>615</a>\u001b[0m \u001b[39mreturn\u001b[39;00m \u001b[39mself\u001b[39m\n",
      "File \u001b[0;32m/opt/homebrew/Caskroom/miniforge/base/envs/multi_crawling/lib/python3.9/site-packages/wordcloud/wordcloud.py:496\u001b[0m, in \u001b[0;36mWordCloud.generate_from_frequencies\u001b[0;34m(self, frequencies, max_font_size)\u001b[0m\n\u001b[1;32m    <a href='file:///opt/homebrew/Caskroom/miniforge/base/envs/multi_crawling/lib/python3.9/site-packages/wordcloud/wordcloud.py?line=492'>493</a>\u001b[0m tried_other_orientation \u001b[39m=\u001b[39m \u001b[39mFalse\u001b[39;00m\n\u001b[1;32m    <a href='file:///opt/homebrew/Caskroom/miniforge/base/envs/multi_crawling/lib/python3.9/site-packages/wordcloud/wordcloud.py?line=493'>494</a>\u001b[0m \u001b[39mwhile\u001b[39;00m \u001b[39mTrue\u001b[39;00m:\n\u001b[1;32m    <a href='file:///opt/homebrew/Caskroom/miniforge/base/envs/multi_crawling/lib/python3.9/site-packages/wordcloud/wordcloud.py?line=494'>495</a>\u001b[0m     \u001b[39m# try to find a position\u001b[39;00m\n\u001b[0;32m--> <a href='file:///opt/homebrew/Caskroom/miniforge/base/envs/multi_crawling/lib/python3.9/site-packages/wordcloud/wordcloud.py?line=495'>496</a>\u001b[0m     font \u001b[39m=\u001b[39m ImageFont\u001b[39m.\u001b[39;49mtruetype(\u001b[39mself\u001b[39;49m\u001b[39m.\u001b[39;49mfont_path, font_size)\n\u001b[1;32m    <a href='file:///opt/homebrew/Caskroom/miniforge/base/envs/multi_crawling/lib/python3.9/site-packages/wordcloud/wordcloud.py?line=496'>497</a>\u001b[0m     \u001b[39m# transpose font optionally\u001b[39;00m\n\u001b[1;32m    <a href='file:///opt/homebrew/Caskroom/miniforge/base/envs/multi_crawling/lib/python3.9/site-packages/wordcloud/wordcloud.py?line=497'>498</a>\u001b[0m     transposed_font \u001b[39m=\u001b[39m ImageFont\u001b[39m.\u001b[39mTransposedFont(\n\u001b[1;32m    <a href='file:///opt/homebrew/Caskroom/miniforge/base/envs/multi_crawling/lib/python3.9/site-packages/wordcloud/wordcloud.py?line=498'>499</a>\u001b[0m         font, orientation\u001b[39m=\u001b[39morientation)\n",
      "File \u001b[0;32m/opt/homebrew/Caskroom/miniforge/base/envs/multi_crawling/lib/python3.9/site-packages/PIL/ImageFont.py:844\u001b[0m, in \u001b[0;36mtruetype\u001b[0;34m(font, size, index, encoding, layout_engine)\u001b[0m\n\u001b[1;32m    <a href='file:///opt/homebrew/Caskroom/miniforge/base/envs/multi_crawling/lib/python3.9/site-packages/PIL/ImageFont.py?line=840'>841</a>\u001b[0m     \u001b[39mreturn\u001b[39;00m FreeTypeFont(font, size, index, encoding, layout_engine)\n\u001b[1;32m    <a href='file:///opt/homebrew/Caskroom/miniforge/base/envs/multi_crawling/lib/python3.9/site-packages/PIL/ImageFont.py?line=842'>843</a>\u001b[0m \u001b[39mtry\u001b[39;00m:\n\u001b[0;32m--> <a href='file:///opt/homebrew/Caskroom/miniforge/base/envs/multi_crawling/lib/python3.9/site-packages/PIL/ImageFont.py?line=843'>844</a>\u001b[0m     \u001b[39mreturn\u001b[39;00m freetype(font)\n\u001b[1;32m    <a href='file:///opt/homebrew/Caskroom/miniforge/base/envs/multi_crawling/lib/python3.9/site-packages/PIL/ImageFont.py?line=844'>845</a>\u001b[0m \u001b[39mexcept\u001b[39;00m \u001b[39mOSError\u001b[39;00m:\n\u001b[1;32m    <a href='file:///opt/homebrew/Caskroom/miniforge/base/envs/multi_crawling/lib/python3.9/site-packages/PIL/ImageFont.py?line=845'>846</a>\u001b[0m     \u001b[39mif\u001b[39;00m \u001b[39mnot\u001b[39;00m isPath(font):\n",
      "File \u001b[0;32m/opt/homebrew/Caskroom/miniforge/base/envs/multi_crawling/lib/python3.9/site-packages/PIL/ImageFont.py:841\u001b[0m, in \u001b[0;36mtruetype.<locals>.freetype\u001b[0;34m(font)\u001b[0m\n\u001b[1;32m    <a href='file:///opt/homebrew/Caskroom/miniforge/base/envs/multi_crawling/lib/python3.9/site-packages/PIL/ImageFont.py?line=839'>840</a>\u001b[0m \u001b[39mdef\u001b[39;00m \u001b[39mfreetype\u001b[39m(font):\n\u001b[0;32m--> <a href='file:///opt/homebrew/Caskroom/miniforge/base/envs/multi_crawling/lib/python3.9/site-packages/PIL/ImageFont.py?line=840'>841</a>\u001b[0m     \u001b[39mreturn\u001b[39;00m FreeTypeFont(font, size, index, encoding, layout_engine)\n",
      "File \u001b[0;32m/opt/homebrew/Caskroom/miniforge/base/envs/multi_crawling/lib/python3.9/site-packages/PIL/ImageFont.py:193\u001b[0m, in \u001b[0;36mFreeTypeFont.__init__\u001b[0;34m(self, font, size, index, encoding, layout_engine)\u001b[0m\n\u001b[1;32m    <a href='file:///opt/homebrew/Caskroom/miniforge/base/envs/multi_crawling/lib/python3.9/site-packages/PIL/ImageFont.py?line=190'>191</a>\u001b[0m                 load_from_bytes(f)\n\u001b[1;32m    <a href='file:///opt/homebrew/Caskroom/miniforge/base/envs/multi_crawling/lib/python3.9/site-packages/PIL/ImageFont.py?line=191'>192</a>\u001b[0m             \u001b[39mreturn\u001b[39;00m\n\u001b[0;32m--> <a href='file:///opt/homebrew/Caskroom/miniforge/base/envs/multi_crawling/lib/python3.9/site-packages/PIL/ImageFont.py?line=192'>193</a>\u001b[0m     \u001b[39mself\u001b[39m\u001b[39m.\u001b[39mfont \u001b[39m=\u001b[39m core\u001b[39m.\u001b[39;49mgetfont(\n\u001b[1;32m    <a href='file:///opt/homebrew/Caskroom/miniforge/base/envs/multi_crawling/lib/python3.9/site-packages/PIL/ImageFont.py?line=193'>194</a>\u001b[0m         font, size, index, encoding, layout_engine\u001b[39m=\u001b[39;49mlayout_engine\n\u001b[1;32m    <a href='file:///opt/homebrew/Caskroom/miniforge/base/envs/multi_crawling/lib/python3.9/site-packages/PIL/ImageFont.py?line=194'>195</a>\u001b[0m     )\n\u001b[1;32m    <a href='file:///opt/homebrew/Caskroom/miniforge/base/envs/multi_crawling/lib/python3.9/site-packages/PIL/ImageFont.py?line=195'>196</a>\u001b[0m \u001b[39melse\u001b[39;00m:\n\u001b[1;32m    <a href='file:///opt/homebrew/Caskroom/miniforge/base/envs/multi_crawling/lib/python3.9/site-packages/PIL/ImageFont.py?line=196'>197</a>\u001b[0m     load_from_bytes(font)\n",
      "\u001b[0;31mOSError\u001b[0m: cannot open resource"
     ]
    }
   ],
   "source": [
    "Adjective_count = Adjective_count_df['count']\n",
    "Adjective_most = list(Adjective_count_df['word'])\n",
    "    \n",
    "show_wordcloud(Adjective_most)"
   ]
  },
  {
   "cell_type": "code",
   "execution_count": 51,
   "id": "d822d593",
   "metadata": {},
   "outputs": [],
   "source": [
    "# print(list(Adjective_count_df.word[:100]))\n",
    "stopwords.update(('있는', '있다', '없는', '같은', '어떤', '많은', '아니라', '없다', '있을까', '미', '어떻게', '아닌', '있던',\n",
    "                  '있을', '있게', '그러던', '있다는', '있고', '있었다', '의해', '인해', '입니다', '있도록', '있어','아니다', '없었던', \n",
    "                  '이런', '있다면', '있', '이러한', '있었던', '없고', '있다고', '그렇다면', '있으며', '있지만',\n",
    "                 '없을', '없었다',  '같다', '이래', '아닐', '그런'))"
   ]
  },
  {
   "cell_type": "markdown",
   "id": "c8a61c04",
   "metadata": {},
   "source": [
    "### 동사 자세하게 살펴보기"
   ]
  },
  {
   "cell_type": "code",
   "execution_count": 52,
   "id": "ee1537e7",
   "metadata": {},
   "outputs": [
    {
     "data": {
      "text/html": [
       "<div>\n",
       "<style scoped>\n",
       "    .dataframe tbody tr th:only-of-type {\n",
       "        vertical-align: middle;\n",
       "    }\n",
       "\n",
       "    .dataframe tbody tr th {\n",
       "        vertical-align: top;\n",
       "    }\n",
       "\n",
       "    .dataframe thead th {\n",
       "        text-align: right;\n",
       "    }\n",
       "</style>\n",
       "<table border=\"1\" class=\"dataframe\">\n",
       "  <thead>\n",
       "    <tr style=\"text-align: right;\">\n",
       "      <th></th>\n",
       "      <th>word</th>\n",
       "      <th>count</th>\n",
       "    </tr>\n",
       "  </thead>\n",
       "  <tbody>\n",
       "    <tr>\n",
       "      <th>0</th>\n",
       "      <td>하는</td>\n",
       "      <td>1299</td>\n",
       "    </tr>\n",
       "    <tr>\n",
       "      <th>1</th>\n",
       "      <td>된</td>\n",
       "      <td>817</td>\n",
       "    </tr>\n",
       "    <tr>\n",
       "      <th>2</th>\n",
       "      <td>한</td>\n",
       "      <td>693</td>\n",
       "    </tr>\n",
       "    <tr>\n",
       "      <th>3</th>\n",
       "      <td>한다</td>\n",
       "      <td>682</td>\n",
       "    </tr>\n",
       "    <tr>\n",
       "      <th>4</th>\n",
       "      <td>할</td>\n",
       "      <td>513</td>\n",
       "    </tr>\n",
       "  </tbody>\n",
       "</table>\n",
       "</div>"
      ],
      "text/plain": [
       "  word  count\n",
       "0   하는   1299\n",
       "1    된    817\n",
       "2    한    693\n",
       "3   한다    682\n",
       "4    할    513"
      ]
     },
     "execution_count": 52,
     "metadata": {},
     "output_type": "execute_result"
    }
   ],
   "source": [
    "Verb_count_df = pd.DataFrame(Verb.value_counts('word'))\n",
    "Verb_count_df.reset_index(inplace=True)\n",
    "Verb_count_df.rename({0:'count'}, axis=1, inplace=True)\n",
    "Verb_count_df.head(5)"
   ]
  },
  {
   "cell_type": "code",
   "execution_count": 53,
   "id": "cafe8c65",
   "metadata": {},
   "outputs": [
    {
     "ename": "OSError",
     "evalue": "cannot open resource",
     "output_type": "error",
     "traceback": [
      "\u001b[0;31m---------------------------------------------------------------------------\u001b[0m",
      "\u001b[0;31mOSError\u001b[0m                                   Traceback (most recent call last)",
      "\u001b[1;32m/Users/anmunju/Documents/PJ_repositories/boram/EDA/소설_EDA.ipynb Cell 58'\u001b[0m in \u001b[0;36m<module>\u001b[0;34m\u001b[0m\n\u001b[1;32m      <a href='vscode-notebook-cell:/Users/anmunju/Documents/PJ_repositories/boram/EDA/%EC%86%8C%EC%84%A4_EDA.ipynb#ch0000057?line=0'>1</a>\u001b[0m Verb_count \u001b[39m=\u001b[39m Verb_count_df[\u001b[39m'\u001b[39m\u001b[39mcount\u001b[39m\u001b[39m'\u001b[39m]\n\u001b[1;32m      <a href='vscode-notebook-cell:/Users/anmunju/Documents/PJ_repositories/boram/EDA/%EC%86%8C%EC%84%A4_EDA.ipynb#ch0000057?line=1'>2</a>\u001b[0m Verb_most \u001b[39m=\u001b[39m \u001b[39mlist\u001b[39m(Verb_count_df[\u001b[39m'\u001b[39m\u001b[39mword\u001b[39m\u001b[39m'\u001b[39m])\n\u001b[0;32m----> <a href='vscode-notebook-cell:/Users/anmunju/Documents/PJ_repositories/boram/EDA/%EC%86%8C%EC%84%A4_EDA.ipynb#ch0000057?line=3'>4</a>\u001b[0m show_wordcloud(Verb_most)\n",
      "\u001b[1;32m/Users/anmunju/Documents/PJ_repositories/boram/EDA/소설_EDA.ipynb Cell 47'\u001b[0m in \u001b[0;36mshow_wordcloud\u001b[0;34m(data)\u001b[0m\n\u001b[1;32m      <a href='vscode-notebook-cell:/Users/anmunju/Documents/PJ_repositories/boram/EDA/%EC%86%8C%EC%84%A4_EDA.ipynb#ch0000046?line=3'>4</a>\u001b[0m \u001b[39mdef\u001b[39;00m \u001b[39mshow_wordcloud\u001b[39m(data): \n\u001b[1;32m      <a href='vscode-notebook-cell:/Users/anmunju/Documents/PJ_repositories/boram/EDA/%EC%86%8C%EC%84%A4_EDA.ipynb#ch0000046?line=4'>5</a>\u001b[0m     wordcloud \u001b[39m=\u001b[39m WordCloud(\n\u001b[1;32m      <a href='vscode-notebook-cell:/Users/anmunju/Documents/PJ_repositories/boram/EDA/%EC%86%8C%EC%84%A4_EDA.ipynb#ch0000046?line=5'>6</a>\u001b[0m         font_path \u001b[39m=\u001b[39m \u001b[39mr\u001b[39m\u001b[39m'\u001b[39m\u001b[39m/usr/share/fonts/truetype/NanumGothic.ttf\u001b[39m\u001b[39m'\u001b[39m, \u001b[39m#글자가 깨져서 폰트 파일의 주소를 할당해 주었다. \u001b[39;00m\n\u001b[1;32m      <a href='vscode-notebook-cell:/Users/anmunju/Documents/PJ_repositories/boram/EDA/%EC%86%8C%EC%84%A4_EDA.ipynb#ch0000046?line=6'>7</a>\u001b[0m                           background_color\u001b[39m=\u001b[39m\u001b[39m'\u001b[39m\u001b[39mwhite\u001b[39m\u001b[39m'\u001b[39m, \n\u001b[0;32m   (...)\u001b[0m\n\u001b[1;32m     <a href='vscode-notebook-cell:/Users/anmunju/Documents/PJ_repositories/boram/EDA/%EC%86%8C%EC%84%A4_EDA.ipynb#ch0000046?line=10'>11</a>\u001b[0m                           scale\u001b[39m=\u001b[39m\u001b[39m3\u001b[39m, \n\u001b[1;32m     <a href='vscode-notebook-cell:/Users/anmunju/Documents/PJ_repositories/boram/EDA/%EC%86%8C%EC%84%A4_EDA.ipynb#ch0000046?line=11'>12</a>\u001b[0m                           random_state\u001b[39m=\u001b[39m\u001b[39m1\u001b[39m) \n\u001b[0;32m---> <a href='vscode-notebook-cell:/Users/anmunju/Documents/PJ_repositories/boram/EDA/%EC%86%8C%EC%84%A4_EDA.ipynb#ch0000046?line=13'>14</a>\u001b[0m     wordcloud\u001b[39m=\u001b[39mwordcloud\u001b[39m.\u001b[39;49mgenerate(\u001b[39mstr\u001b[39;49m(data)) \n\u001b[1;32m     <a href='vscode-notebook-cell:/Users/anmunju/Documents/PJ_repositories/boram/EDA/%EC%86%8C%EC%84%A4_EDA.ipynb#ch0000046?line=15'>16</a>\u001b[0m     fig \u001b[39m=\u001b[39m plt\u001b[39m.\u001b[39mfigure(\u001b[39m1\u001b[39m, figsize\u001b[39m=\u001b[39m(\u001b[39m12\u001b[39m, \u001b[39m12\u001b[39m)) \n\u001b[1;32m     <a href='vscode-notebook-cell:/Users/anmunju/Documents/PJ_repositories/boram/EDA/%EC%86%8C%EC%84%A4_EDA.ipynb#ch0000046?line=16'>17</a>\u001b[0m     plt\u001b[39m.\u001b[39mrcParams[\u001b[39m'\u001b[39m\u001b[39mfont.family\u001b[39m\u001b[39m'\u001b[39m] \u001b[39m=\u001b[39m \u001b[39m'\u001b[39m\u001b[39mNanumGothic\u001b[39m\u001b[39m'\u001b[39m \n",
      "File \u001b[0;32m/opt/homebrew/Caskroom/miniforge/base/envs/multi_crawling/lib/python3.9/site-packages/wordcloud/wordcloud.py:632\u001b[0m, in \u001b[0;36mWordCloud.generate\u001b[0;34m(self, text)\u001b[0m\n\u001b[1;32m    <a href='file:///opt/homebrew/Caskroom/miniforge/base/envs/multi_crawling/lib/python3.9/site-packages/wordcloud/wordcloud.py?line=616'>617</a>\u001b[0m \u001b[39mdef\u001b[39;00m \u001b[39mgenerate\u001b[39m(\u001b[39mself\u001b[39m, text):\n\u001b[1;32m    <a href='file:///opt/homebrew/Caskroom/miniforge/base/envs/multi_crawling/lib/python3.9/site-packages/wordcloud/wordcloud.py?line=617'>618</a>\u001b[0m     \u001b[39m\"\"\"Generate wordcloud from text.\u001b[39;00m\n\u001b[1;32m    <a href='file:///opt/homebrew/Caskroom/miniforge/base/envs/multi_crawling/lib/python3.9/site-packages/wordcloud/wordcloud.py?line=618'>619</a>\u001b[0m \n\u001b[1;32m    <a href='file:///opt/homebrew/Caskroom/miniforge/base/envs/multi_crawling/lib/python3.9/site-packages/wordcloud/wordcloud.py?line=619'>620</a>\u001b[0m \u001b[39m    The input \"text\" is expected to be a natural text. If you pass a sorted\u001b[39;00m\n\u001b[0;32m   (...)\u001b[0m\n\u001b[1;32m    <a href='file:///opt/homebrew/Caskroom/miniforge/base/envs/multi_crawling/lib/python3.9/site-packages/wordcloud/wordcloud.py?line=629'>630</a>\u001b[0m \u001b[39m    self\u001b[39;00m\n\u001b[1;32m    <a href='file:///opt/homebrew/Caskroom/miniforge/base/envs/multi_crawling/lib/python3.9/site-packages/wordcloud/wordcloud.py?line=630'>631</a>\u001b[0m \u001b[39m    \"\"\"\u001b[39;00m\n\u001b[0;32m--> <a href='file:///opt/homebrew/Caskroom/miniforge/base/envs/multi_crawling/lib/python3.9/site-packages/wordcloud/wordcloud.py?line=631'>632</a>\u001b[0m     \u001b[39mreturn\u001b[39;00m \u001b[39mself\u001b[39;49m\u001b[39m.\u001b[39;49mgenerate_from_text(text)\n",
      "File \u001b[0;32m/opt/homebrew/Caskroom/miniforge/base/envs/multi_crawling/lib/python3.9/site-packages/wordcloud/wordcloud.py:614\u001b[0m, in \u001b[0;36mWordCloud.generate_from_text\u001b[0;34m(self, text)\u001b[0m\n\u001b[1;32m    <a href='file:///opt/homebrew/Caskroom/miniforge/base/envs/multi_crawling/lib/python3.9/site-packages/wordcloud/wordcloud.py?line=596'>597</a>\u001b[0m \u001b[39m\"\"\"Generate wordcloud from text.\u001b[39;00m\n\u001b[1;32m    <a href='file:///opt/homebrew/Caskroom/miniforge/base/envs/multi_crawling/lib/python3.9/site-packages/wordcloud/wordcloud.py?line=597'>598</a>\u001b[0m \n\u001b[1;32m    <a href='file:///opt/homebrew/Caskroom/miniforge/base/envs/multi_crawling/lib/python3.9/site-packages/wordcloud/wordcloud.py?line=598'>599</a>\u001b[0m \u001b[39mThe input \"text\" is expected to be a natural text. If you pass a sorted\u001b[39;00m\n\u001b[0;32m   (...)\u001b[0m\n\u001b[1;32m    <a href='file:///opt/homebrew/Caskroom/miniforge/base/envs/multi_crawling/lib/python3.9/site-packages/wordcloud/wordcloud.py?line=610'>611</a>\u001b[0m \u001b[39mself\u001b[39;00m\n\u001b[1;32m    <a href='file:///opt/homebrew/Caskroom/miniforge/base/envs/multi_crawling/lib/python3.9/site-packages/wordcloud/wordcloud.py?line=611'>612</a>\u001b[0m \u001b[39m\"\"\"\u001b[39;00m\n\u001b[1;32m    <a href='file:///opt/homebrew/Caskroom/miniforge/base/envs/multi_crawling/lib/python3.9/site-packages/wordcloud/wordcloud.py?line=612'>613</a>\u001b[0m words \u001b[39m=\u001b[39m \u001b[39mself\u001b[39m\u001b[39m.\u001b[39mprocess_text(text)\n\u001b[0;32m--> <a href='file:///opt/homebrew/Caskroom/miniforge/base/envs/multi_crawling/lib/python3.9/site-packages/wordcloud/wordcloud.py?line=613'>614</a>\u001b[0m \u001b[39mself\u001b[39;49m\u001b[39m.\u001b[39;49mgenerate_from_frequencies(words)\n\u001b[1;32m    <a href='file:///opt/homebrew/Caskroom/miniforge/base/envs/multi_crawling/lib/python3.9/site-packages/wordcloud/wordcloud.py?line=614'>615</a>\u001b[0m \u001b[39mreturn\u001b[39;00m \u001b[39mself\u001b[39m\n",
      "File \u001b[0;32m/opt/homebrew/Caskroom/miniforge/base/envs/multi_crawling/lib/python3.9/site-packages/wordcloud/wordcloud.py:496\u001b[0m, in \u001b[0;36mWordCloud.generate_from_frequencies\u001b[0;34m(self, frequencies, max_font_size)\u001b[0m\n\u001b[1;32m    <a href='file:///opt/homebrew/Caskroom/miniforge/base/envs/multi_crawling/lib/python3.9/site-packages/wordcloud/wordcloud.py?line=492'>493</a>\u001b[0m tried_other_orientation \u001b[39m=\u001b[39m \u001b[39mFalse\u001b[39;00m\n\u001b[1;32m    <a href='file:///opt/homebrew/Caskroom/miniforge/base/envs/multi_crawling/lib/python3.9/site-packages/wordcloud/wordcloud.py?line=493'>494</a>\u001b[0m \u001b[39mwhile\u001b[39;00m \u001b[39mTrue\u001b[39;00m:\n\u001b[1;32m    <a href='file:///opt/homebrew/Caskroom/miniforge/base/envs/multi_crawling/lib/python3.9/site-packages/wordcloud/wordcloud.py?line=494'>495</a>\u001b[0m     \u001b[39m# try to find a position\u001b[39;00m\n\u001b[0;32m--> <a href='file:///opt/homebrew/Caskroom/miniforge/base/envs/multi_crawling/lib/python3.9/site-packages/wordcloud/wordcloud.py?line=495'>496</a>\u001b[0m     font \u001b[39m=\u001b[39m ImageFont\u001b[39m.\u001b[39;49mtruetype(\u001b[39mself\u001b[39;49m\u001b[39m.\u001b[39;49mfont_path, font_size)\n\u001b[1;32m    <a href='file:///opt/homebrew/Caskroom/miniforge/base/envs/multi_crawling/lib/python3.9/site-packages/wordcloud/wordcloud.py?line=496'>497</a>\u001b[0m     \u001b[39m# transpose font optionally\u001b[39;00m\n\u001b[1;32m    <a href='file:///opt/homebrew/Caskroom/miniforge/base/envs/multi_crawling/lib/python3.9/site-packages/wordcloud/wordcloud.py?line=497'>498</a>\u001b[0m     transposed_font \u001b[39m=\u001b[39m ImageFont\u001b[39m.\u001b[39mTransposedFont(\n\u001b[1;32m    <a href='file:///opt/homebrew/Caskroom/miniforge/base/envs/multi_crawling/lib/python3.9/site-packages/wordcloud/wordcloud.py?line=498'>499</a>\u001b[0m         font, orientation\u001b[39m=\u001b[39morientation)\n",
      "File \u001b[0;32m/opt/homebrew/Caskroom/miniforge/base/envs/multi_crawling/lib/python3.9/site-packages/PIL/ImageFont.py:844\u001b[0m, in \u001b[0;36mtruetype\u001b[0;34m(font, size, index, encoding, layout_engine)\u001b[0m\n\u001b[1;32m    <a href='file:///opt/homebrew/Caskroom/miniforge/base/envs/multi_crawling/lib/python3.9/site-packages/PIL/ImageFont.py?line=840'>841</a>\u001b[0m     \u001b[39mreturn\u001b[39;00m FreeTypeFont(font, size, index, encoding, layout_engine)\n\u001b[1;32m    <a href='file:///opt/homebrew/Caskroom/miniforge/base/envs/multi_crawling/lib/python3.9/site-packages/PIL/ImageFont.py?line=842'>843</a>\u001b[0m \u001b[39mtry\u001b[39;00m:\n\u001b[0;32m--> <a href='file:///opt/homebrew/Caskroom/miniforge/base/envs/multi_crawling/lib/python3.9/site-packages/PIL/ImageFont.py?line=843'>844</a>\u001b[0m     \u001b[39mreturn\u001b[39;00m freetype(font)\n\u001b[1;32m    <a href='file:///opt/homebrew/Caskroom/miniforge/base/envs/multi_crawling/lib/python3.9/site-packages/PIL/ImageFont.py?line=844'>845</a>\u001b[0m \u001b[39mexcept\u001b[39;00m \u001b[39mOSError\u001b[39;00m:\n\u001b[1;32m    <a href='file:///opt/homebrew/Caskroom/miniforge/base/envs/multi_crawling/lib/python3.9/site-packages/PIL/ImageFont.py?line=845'>846</a>\u001b[0m     \u001b[39mif\u001b[39;00m \u001b[39mnot\u001b[39;00m isPath(font):\n",
      "File \u001b[0;32m/opt/homebrew/Caskroom/miniforge/base/envs/multi_crawling/lib/python3.9/site-packages/PIL/ImageFont.py:841\u001b[0m, in \u001b[0;36mtruetype.<locals>.freetype\u001b[0;34m(font)\u001b[0m\n\u001b[1;32m    <a href='file:///opt/homebrew/Caskroom/miniforge/base/envs/multi_crawling/lib/python3.9/site-packages/PIL/ImageFont.py?line=839'>840</a>\u001b[0m \u001b[39mdef\u001b[39;00m \u001b[39mfreetype\u001b[39m(font):\n\u001b[0;32m--> <a href='file:///opt/homebrew/Caskroom/miniforge/base/envs/multi_crawling/lib/python3.9/site-packages/PIL/ImageFont.py?line=840'>841</a>\u001b[0m     \u001b[39mreturn\u001b[39;00m FreeTypeFont(font, size, index, encoding, layout_engine)\n",
      "File \u001b[0;32m/opt/homebrew/Caskroom/miniforge/base/envs/multi_crawling/lib/python3.9/site-packages/PIL/ImageFont.py:193\u001b[0m, in \u001b[0;36mFreeTypeFont.__init__\u001b[0;34m(self, font, size, index, encoding, layout_engine)\u001b[0m\n\u001b[1;32m    <a href='file:///opt/homebrew/Caskroom/miniforge/base/envs/multi_crawling/lib/python3.9/site-packages/PIL/ImageFont.py?line=190'>191</a>\u001b[0m                 load_from_bytes(f)\n\u001b[1;32m    <a href='file:///opt/homebrew/Caskroom/miniforge/base/envs/multi_crawling/lib/python3.9/site-packages/PIL/ImageFont.py?line=191'>192</a>\u001b[0m             \u001b[39mreturn\u001b[39;00m\n\u001b[0;32m--> <a href='file:///opt/homebrew/Caskroom/miniforge/base/envs/multi_crawling/lib/python3.9/site-packages/PIL/ImageFont.py?line=192'>193</a>\u001b[0m     \u001b[39mself\u001b[39m\u001b[39m.\u001b[39mfont \u001b[39m=\u001b[39m core\u001b[39m.\u001b[39;49mgetfont(\n\u001b[1;32m    <a href='file:///opt/homebrew/Caskroom/miniforge/base/envs/multi_crawling/lib/python3.9/site-packages/PIL/ImageFont.py?line=193'>194</a>\u001b[0m         font, size, index, encoding, layout_engine\u001b[39m=\u001b[39;49mlayout_engine\n\u001b[1;32m    <a href='file:///opt/homebrew/Caskroom/miniforge/base/envs/multi_crawling/lib/python3.9/site-packages/PIL/ImageFont.py?line=194'>195</a>\u001b[0m     )\n\u001b[1;32m    <a href='file:///opt/homebrew/Caskroom/miniforge/base/envs/multi_crawling/lib/python3.9/site-packages/PIL/ImageFont.py?line=195'>196</a>\u001b[0m \u001b[39melse\u001b[39;00m:\n\u001b[1;32m    <a href='file:///opt/homebrew/Caskroom/miniforge/base/envs/multi_crawling/lib/python3.9/site-packages/PIL/ImageFont.py?line=196'>197</a>\u001b[0m     load_from_bytes(font)\n",
      "\u001b[0;31mOSError\u001b[0m: cannot open resource"
     ]
    }
   ],
   "source": [
    "Verb_count = Verb_count_df['count']\n",
    "Verb_most = list(Verb_count_df['word'])\n",
    "    \n",
    "show_wordcloud(Verb_most)"
   ]
  },
  {
   "cell_type": "markdown",
   "id": "50ce2f4a",
   "metadata": {},
   "source": [
    "## 전처리"
   ]
  },
  {
   "cell_type": "code",
   "execution_count": 54,
   "id": "104cc6d6",
   "metadata": {},
   "outputs": [],
   "source": [
    "# print(list(Verb_count_df.word[100:200]))\n",
    "stopwords.update(('하는', '된', '한', '한다', '할', '출', '해', '된다', '는', '하며', '했다', '되는', '하게', '되었다', \n",
    "                  '되어', '가', '했던', '될', '하여', '그려', '낸', '되고', '하지', '하기', '와', '않는', '하면서', \n",
    "                  '하다', '잘', '하고', '하는데', '쓴', '않고', '하던', '되는데', '않은', '담은', \n",
    "                  '사는', '가진', '냈다', '대', '받고', '이었다', '해야', '가는', '해온', \n",
    "                  '싶은', '받는', '이를', '않는다', '만나', '담아', '되면서', '담고', '다룬', '보여준다', '따라', \n",
    "                  '보다',  '되지', '주는', '본', '찾아', '써', '넘어', \n",
    "                  '넘나', '되', '선보이는', '준다', '해서', '일까', '만들어', '이었던', '받아', '받으며', \n",
    "                  '담긴', '담겨', '갈', '하면', '나가는', '빠져', '낸다', '였다', '였던', '지', '이어', '드는' , '않았다',\n",
    "                  '발간', '문학', '현대문학',))"
   ]
  },
  {
   "cell_type": "code",
   "execution_count": 55,
   "id": "fb68a314",
   "metadata": {},
   "outputs": [
    {
     "name": "stdout",
     "output_type": "stream",
     "text": [
      "{'많은', '모든', '인물', '가진', '하나', '못', '통해', '하며', '모두', '위해', '저', '소설', '작품', '거', '점', '장', '드는', '데', '개정판', '냈다', '도', '편', '있었던', '어떤', '잘', '감', '넘어', '또', '갈', '알', '없었던', '아닐', '담긴', '담은', '후', '하면서', '낸', '다른', '써', '대', '입니다', '빠져', '로부터', '없고', '없었다', '듯', '속', '찾아', '받으며', '베스트셀러', '되지', '발간', '가', '관', '있었다', '되는', '그', '보여준다', '문학', '문제', '의', '있다', '있던', '같다', '두', '되는데', '본', '미', '해서', '사는', '네', '이어', '자', '이러한', '할', '첫', '있다는', '소설가', '개', '의해', '것', '된', '아닌', '김', '있', '전집', '있다고', '이를', '단편', '번', '따라', '일까', '번역', '장편소설', '제', '하던', '와', '은', '않는다', '담고', '이런', '이름', '어떻게', '로서', '했던', '란', '있을까', '하고', '부', '바로', '또한', '되고', '같은', '있지만', '둘', '안', '받는', '단편소설', '였던', '앞', '전', '한편', '하는데', '하면', '위', '보다', '저자', '해온', '되었다', '되어', '다룬', '를', '이래', '뒤', '있게', '된다', '낸다', '이번', '는', '그런', '독자', '하는', '하지', '동안', '가지', '받고', '않은', '문학상', '가는', '우리', '이자', '되면서', '내', '이었다', '인해', '있어', '출', '담아', '만들어', '있는', '신작', '그렇다면', '지', '작', '곳', '문장', '간', '한다', '대한', '무엇', '없을', '해', '준다', '아니라', '지금', '않고', '이후', '없다', '넘나', '이었던', '이', '하게', '될', '책', '때', '담겨', '현대문학', '이야기', '과', '대해', '선정', '한', '온', '수록', '때문', '있고', '싶은', '가장', '데뷔', '세', '해야', '않았다', '하여', '있도록', '호', '나가는', '되', '년', '받아', '최고', '만나', '아니다', '선보이는', '였다', '있다면', '채', '작가', '그려', '수', '있으며', '연재', '더욱', '그러던', '시리즈', '국문학', '하기', '있을', '게', '권', '다섯', '그것', '더', '없는', '했다', '중', '이제', '다시', '등', '주는', '않는', '수상작', '로', '하다', '쓴'}\n"
     ]
    }
   ],
   "source": [
    "print(stopwords)"
   ]
  },
  {
   "cell_type": "code",
   "execution_count": 56,
   "id": "50ce8c13",
   "metadata": {},
   "outputs": [],
   "source": [
    "story = df['story']\n",
    "review = df['review']\n",
    "review = review.fillna('')\n",
    "\n",
    "# story와 review 데이터 형태소 분리 작업\n",
    "# stopwords = set()\n",
    "\n",
    "stopwords.update(('하는', '된', '한', '한다', '할', '출', '해', '된다', '는', '하며', '했다', '되는', '하게', '되었다', \n",
    "                  '되어', '가', '했던', '될', '하여', '그려', '낸', '되고', '하지', '하기', '와', '않는', '하면서', \n",
    "                  '하다', '잘', '하고', '하는데', '쓴', '않고', '하던', '되는데', '않은', '담은', \n",
    "                  '사는', '가진', '냈다', '대', '받고', '이었다', '해야', '가는', '해온', \n",
    "                  '싶은', '받는', '이를', '않는다', '만나', '담아', '되면서', '담고', '다룬', '보여준다', '따라', \n",
    "                  '보다',  '되지', '주는', '본', '찾아', '써', '넘어', \n",
    "                  '넘나', '되', '선보이는', '준다', '해서', '일까', '만들어', '이었던', '받아', '받으며', \n",
    "                  '담긴', '담겨', '갈', '하면', '나가는', '빠져', '낸다', '였다', '였던', '지', '이어', '드는' , '않았다',\n",
    "                  '발간', '문학', '현대문학', '권', '온'))\n",
    "\n",
    "necessary_type = ('Noun', 'Verb', 'Adjective')\n",
    "\n",
    "sep_story = []\n",
    "\n",
    "for s in story:\n",
    "    okt = Okt()\n",
    "    story_sep = okt.pos(s)\n",
    "    sentence = ''\n",
    "    for word,typ in story_sep:\n",
    "        if (word not in stopwords) and (typ in necessary_type):\n",
    "            sentence += word + ' '\n",
    "    sep_story.append(sentence)\n",
    "\n",
    "sep_review = []\n",
    "\n",
    "for r in review:\n",
    "    okt = Okt()\n",
    "    review_sep = okt.pos(r)\n",
    "    sentence = ''\n",
    "    for word,typ in review_sep:\n",
    "        if (word not in stopwords) and (typ in necessary_type):\n",
    "            sentence += word + ' '\n",
    "    sep_review.append(sentence)\n",
    "\n",
    "analysis_data = [s+r for s,r in zip(sep_story, sep_review)]"
   ]
  },
  {
   "cell_type": "code",
   "execution_count": 57,
   "id": "c1429283",
   "metadata": {},
   "outputs": [],
   "source": [
    "df['analysis'] = analysis_data"
   ]
  },
  {
   "cell_type": "code",
   "execution_count": 58,
   "id": "b45fe617",
   "metadata": {},
   "outputs": [],
   "source": [
    "df.to_csv('../Data/novel_sep.csv')"
   ]
  },
  {
   "cell_type": "code",
   "execution_count": null,
   "id": "c7a074ac",
   "metadata": {},
   "outputs": [],
   "source": []
  }
 ],
 "metadata": {
  "interpreter": {
   "hash": "ecab3b44ec85b3fc152ce43053029da2d7fea401295eddadd715c90b258d02c3"
  },
  "kernelspec": {
   "display_name": "Python 3.9.0 ('multi_crawling')",
   "language": "python",
   "name": "python3"
  },
  "language_info": {
   "codemirror_mode": {
    "name": "ipython",
    "version": 3
   },
   "file_extension": ".py",
   "mimetype": "text/x-python",
   "name": "python",
   "nbconvert_exporter": "python",
   "pygments_lexer": "ipython3",
   "version": "3.9.0"
  }
 },
 "nbformat": 4,
 "nbformat_minor": 5
}
