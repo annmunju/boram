{
 "cells": [
  {
   "cell_type": "code",
   "execution_count": 86,
   "id": "76ec90f2",
   "metadata": {},
   "outputs": [],
   "source": [
    "import pandas as pd"
   ]
  },
  {
   "cell_type": "code",
   "execution_count": 47,
   "id": "a7dc8dcf",
   "metadata": {},
   "outputs": [],
   "source": [
    "df = pd.read_csv('novel_story_sep.csv', lineterminator='\\n')"
   ]
  },
  {
   "cell_type": "code",
   "execution_count": 48,
   "id": "a3d12b5b",
   "metadata": {},
   "outputs": [
    {
     "data": {
      "text/plain": [
       "Index(['itemId', 'title', 'pubDate', 'coverSmallUrl', 'coverLargeUrl',\n",
       "       'publisher', 'customerReviewRank', 'author', 'isbn', 'link', 'story',\n",
       "       'story_sep'],\n",
       "      dtype='object')"
      ]
     },
     "execution_count": 48,
     "metadata": {},
     "output_type": "execute_result"
    }
   ],
   "source": [
    "df.columns"
   ]
  },
  {
   "cell_type": "markdown",
   "id": "11ae506f",
   "metadata": {},
   "source": [
    "# LDA 모델에 들어갈 객체(dictionary, corpus) 만들고 학습시키기"
   ]
  },
  {
   "cell_type": "code",
   "execution_count": 49,
   "id": "b5523aa9",
   "metadata": {},
   "outputs": [
    {
     "data": {
      "text/plain": [
       "'3.8.3'"
      ]
     },
     "execution_count": 49,
     "metadata": {},
     "output_type": "execute_result"
    }
   ],
   "source": [
    "import gensim\n",
    "gensim.__version__"
   ]
  },
  {
   "cell_type": "code",
   "execution_count": 50,
   "id": "672d103f",
   "metadata": {},
   "outputs": [],
   "source": [
    "import gensim\n",
    "from gensim import corpora, models\n",
    "from gensim.models import CoherenceModel\n",
    "from gensim.test.utils import common_corpus\n",
    "from gensim.models.wrappers import LdaMallet"
   ]
  },
  {
   "cell_type": "code",
   "execution_count": 51,
   "id": "c0b27dc5",
   "metadata": {},
   "outputs": [],
   "source": [
    "stories = df['story_sep']"
   ]
  },
  {
   "cell_type": "code",
   "execution_count": 52,
   "id": "d7c1e1e9",
   "metadata": {},
   "outputs": [],
   "source": [
    "data_word = []\n",
    "for story in stories:\n",
    "    data = list(str(story).split())\n",
    "    data_word.append(data)"
   ]
  },
  {
   "cell_type": "code",
   "execution_count": 53,
   "id": "d3f3ec79",
   "metadata": {},
   "outputs": [],
   "source": [
    "id2word = corpora.Dictionary(data_word)"
   ]
  },
  {
   "cell_type": "code",
   "execution_count": 73,
   "id": "6175e03d",
   "metadata": {},
   "outputs": [
    {
     "name": "stdout",
     "output_type": "stream",
     "text": [
      "0.3956724529838395\n"
     ]
    }
   ],
   "source": [
    "id2word.filter_extremes(no_below = 5) # 5회 이하로 등장한 단어는 삭제\n",
    "texts = data_word\n",
    "corpus = [id2word.doc2bow(text) for text in texts]\n",
    "\n",
    "mallet_path = '../mallet-2.0.8/bin/mallet' \n",
    "ldamallet = gensim.models.wrappers.LdaMallet(mallet_path, corpus=corpus, num_topics=12, random_seed=10, id2word=id2word)\n",
    "\n",
    "coherence_model_ldamallet = CoherenceModel(model=ldamallet, texts=texts, dictionary=id2word, coherence='c_v')\n",
    "coherence_ldamallet = coherence_model_ldamallet.get_coherence()\n",
    "print(coherence_ldamallet) #응집성 지수"
   ]
  },
  {
   "cell_type": "code",
   "execution_count": 74,
   "id": "3dbcdf6a",
   "metadata": {},
   "outputs": [
    {
     "name": "stdout",
     "output_type": "stream",
     "text": [
      "(5, '0.040*\"세계\" + 0.022*\"한국\" + 0.019*\"현실\" + 0.015*\"편의\" + 0.015*\"의미\" + 0.014*\"미래\" + 0.014*\"사회\" + 0.013*\"인물\" + 0.012*\"소설가\" + 0.012*\"젊은\"')\n"
     ]
    }
   ],
   "source": [
    "# Select the model and print the topics\n",
    "# optimal_model = model_list[model_list_num]\n",
    "optimal_model = ldamallet\n",
    "model_topics = optimal_model.show_topics(formatted=False)\n",
    "print(optimal_model.print_topics()[5])"
   ]
  },
  {
   "cell_type": "code",
   "execution_count": 75,
   "id": "a011d5b4",
   "metadata": {},
   "outputs": [],
   "source": [
    "def format_topics_sentences(ldamodel=optimal_model, corpus=corpus, texts=texts, Data=df):\n",
    "    # Init output\n",
    "    sent_topics_df = pd.DataFrame()\n",
    "\n",
    "    # Get main topic in each document\n",
    "    #ldamodel[corpus]: lda_model에 corpus를 넣어 각 토픽 당 확률을 알 수 있음\n",
    "    for i, row in enumerate(ldamodel[corpus]):\n",
    "        row = sorted(row, key=lambda x: (x[1]), reverse=True)\n",
    "        # Get the Dominant topic, Perc Contribution and Keywords for each document\n",
    "        for j, (topic_num, prop_topic) in enumerate(row):\n",
    "            if j == 0:  # => dominant topic\n",
    "                wp = ldamodel.show_topic(topic_num,topn=10)\n",
    "                topic_keywords = \", \".join([word for word, prop in wp])\n",
    "                sent_topics_df = sent_topics_df.append(pd.Series([int(topic_num), round(prop_topic,4), topic_keywords]), ignore_index=True)\n",
    "            else:\n",
    "                break\n",
    "    sent_topics_df.columns = ['Dominant_Topic', 'Perc_Contribution', 'Topic_Keywords']\n",
    "    print(type(sent_topics_df))\n",
    "\n",
    "    # Add original text to the end of the output\n",
    "    contents = pd.Series(texts)\n",
    "    # sent_topics_df = pd.concat([sent_topics_df, contents], axis=1)\n",
    "    sent_topics_df = pd.concat([Data['itemId'],Data['title'],Data['story_sep'], sent_topics_df], axis=1)\n",
    "\n",
    "    return(sent_topics_df)"
   ]
  },
  {
   "cell_type": "code",
   "execution_count": 76,
   "id": "89968fdc",
   "metadata": {},
   "outputs": [
    {
     "name": "stdout",
     "output_type": "stream",
     "text": [
      "<class 'pandas.core.frame.DataFrame'>\n"
     ]
    }
   ],
   "source": [
    "df_topic_sents_keywords = format_topics_sentences(ldamodel=optimal_model, corpus=corpus, texts=texts, Data=df)"
   ]
  },
  {
   "cell_type": "code",
   "execution_count": 77,
   "id": "1f072319",
   "metadata": {},
   "outputs": [],
   "source": [
    "# Format\n",
    "df_topic_story = df_topic_sents_keywords\n",
    "\n",
    "# 각 문서에 대한 토픽 내림차순\n",
    "df_topic_sort=df_topic_story.sort_values(by=['Dominant_Topic'])"
   ]
  },
  {
   "cell_type": "code",
   "execution_count": 78,
   "id": "88001b06",
   "metadata": {},
   "outputs": [],
   "source": [
    "# Group top 5 sentences under each topic\n",
    "sent_topics_sorteddf_mallet = pd.DataFrame()\n",
    "\n",
    "sent_topics_outdf_grpd = df_topic_sents_keywords.groupby('Dominant_Topic')\n",
    "\n",
    "for i, grp in sent_topics_outdf_grpd:\n",
    "    sent_topics_sorteddf_mallet = pd.concat([sent_topics_sorteddf_mallet, \n",
    "                                             grp.sort_values(['Perc_Contribution'], ascending=[0]).head(1)], \n",
    "                                            axis=0)\n"
   ]
  },
  {
   "cell_type": "code",
   "execution_count": 79,
   "id": "6de7a57f",
   "metadata": {},
   "outputs": [
    {
     "data": {
      "text/html": [
       "<div>\n",
       "<style scoped>\n",
       "    .dataframe tbody tr th:only-of-type {\n",
       "        vertical-align: middle;\n",
       "    }\n",
       "\n",
       "    .dataframe tbody tr th {\n",
       "        vertical-align: top;\n",
       "    }\n",
       "\n",
       "    .dataframe thead th {\n",
       "        text-align: right;\n",
       "    }\n",
       "</style>\n",
       "<table border=\"1\" class=\"dataframe\">\n",
       "  <thead>\n",
       "    <tr style=\"text-align: right;\">\n",
       "      <th></th>\n",
       "      <th>itemId</th>\n",
       "      <th>title</th>\n",
       "      <th>story_sep</th>\n",
       "      <th>Dominant_Topic</th>\n",
       "      <th>Perc_Contribution</th>\n",
       "      <th>Topic_Keywords</th>\n",
       "    </tr>\n",
       "  </thead>\n",
       "  <tbody>\n",
       "    <tr>\n",
       "      <th>544</th>\n",
       "      <td>349598232</td>\n",
       "      <td>토와의 정원</td>\n",
       "      <td>있다는 굉장한 일이구 두운 심연 잠겨 올려다보는 맑고 투명한 달팽이 식당 츠바키 문...</td>\n",
       "      <td>0.0</td>\n",
       "      <td>0.4965</td>\n",
       "      <td>아이, 가족, 청소년, 엄마, 마음, 소년, 자신, 학교, 친구, 소녀</td>\n",
       "    </tr>\n",
       "    <tr>\n",
       "      <th>512</th>\n",
       "      <td>347177916</td>\n",
       "      <td>뮤직숍</td>\n",
       "      <td>그리움 잡고 있으면 사랑 이루어진다 영국 타임스 미국 워싱턴포스트 올해 흥미로운 음...</td>\n",
       "      <td>1.0</td>\n",
       "      <td>0.6747</td>\n",
       "      <td>사람, 시간, 세상, 어떤, 어머니, 모두, 가지, 하나, 마음, 하고</td>\n",
       "    </tr>\n",
       "    <tr>\n",
       "      <th>332</th>\n",
       "      <td>321327972</td>\n",
       "      <td>제왕업(상)</td>\n",
       "      <td>황제 타고난 여인 패업 둘러싼 야망 배신 운명 마주친 뜨거운 사랑 황제 타고난 여인...</td>\n",
       "      <td>2.0</td>\n",
       "      <td>0.5458</td>\n",
       "      <td>드라마, 세상, 시작, 운명, 판타지, 주인공, 영화, 여인, 게임, 로맨스</td>\n",
       "    </tr>\n",
       "    <tr>\n",
       "      <th>603</th>\n",
       "      <td>340168530</td>\n",
       "      <td>태백산맥 3: 제1부 한의 모닥불</td>\n",
       "      <td>한반도 분단 전쟁 제대로 그려 오늘 역사 이어주고 태백산맥 전남 여수 주둔 있던 국...</td>\n",
       "      <td>3.0</td>\n",
       "      <td>0.8724</td>\n",
       "      <td>여성, 전쟁, 마을, 다시, 상황, 명의, 함께, 모두, 위기, nan</td>\n",
       "    </tr>\n",
       "    <tr>\n",
       "      <th>192</th>\n",
       "      <td>354469155</td>\n",
       "      <td>전지적 독자 시점 PART 1: 7</td>\n",
       "      <td>토털 웹소설 현재 진행형 레전드 마침내 단행본 만나는 전지 시점 피아 누적 판매 네...</td>\n",
       "      <td>4.0</td>\n",
       "      <td>0.7429</td>\n",
       "      <td>시작, 세계, 하나, 시리즈, 문학상, 이번, 제작, 판매, 시점, 이미</td>\n",
       "    </tr>\n",
       "    <tr>\n",
       "      <th>467</th>\n",
       "      <td>352390319</td>\n",
       "      <td>유리알 유희</td>\n",
       "      <td>헤르 헤세 노벨문학상 유리 유희 세기 무수 전쟁 인한 정신 황폐 반발 시대 비판 보...</td>\n",
       "      <td>5.0</td>\n",
       "      <td>0.5805</td>\n",
       "      <td>세계, 한국, 현실, 편의, 의미, 미래, 사회, 인물, 소설가, 젊은</td>\n",
       "    </tr>\n",
       "    <tr>\n",
       "      <th>508</th>\n",
       "      <td>349876668</td>\n",
       "      <td>프랑켄슈타인</td>\n",
       "      <td>인공 지능 유전공학 인간 복제 최근 이슈 담아내면서도 진정한 고민 하는 독특한 고전...</td>\n",
       "      <td>6.0</td>\n",
       "      <td>0.5163</td>\n",
       "      <td>인간, 자신, 스릴러, 장르, 사고, 상상력, 새로운, 재미, 심리, 또한</td>\n",
       "    </tr>\n",
       "    <tr>\n",
       "      <th>555</th>\n",
       "      <td>235805806</td>\n",
       "      <td>개선문 2</td>\n",
       "      <td>사랑 도피 사치 아닌 평화 안전 기쁨 축제 불안 시대 리다 민음사 세계문학 전집 개...</td>\n",
       "      <td>7.0</td>\n",
       "      <td>0.7040</td>\n",
       "      <td>인간, 대표, 인류, 그려, 한국, 냈다, 고양이, 살아가는, 희망, 특히</td>\n",
       "    </tr>\n",
       "    <tr>\n",
       "      <th>668</th>\n",
       "      <td>353777168</td>\n",
       "      <td>기괴한 레스토랑 1: 정원사의 선물</td>\n",
       "      <td>달러 구트 백화점 이을 한국 판타지 돌아왔다 기괴한 요괴 레스토랑 벌어지는 시아 신...</td>\n",
       "      <td>8.0</td>\n",
       "      <td>0.4309</td>\n",
       "      <td>자신, 남자, 인생, 함께, 이름, 남편, 여자, 아들, 결혼, 생활</td>\n",
       "    </tr>\n",
       "    <tr>\n",
       "      <th>510</th>\n",
       "      <td>349967826</td>\n",
       "      <td>기억하는 소설</td>\n",
       "      <td>사람 간사한 동물 잊어버린다고 봐라 무너진다 너무나 쉽게 너무도 빨리 잊는 우리 기...</td>\n",
       "      <td>9.0</td>\n",
       "      <td>0.4210</td>\n",
       "      <td>사랑, 우리, 기억, 모습, 지금, 죽음, 존재, 시작, 다시, 아버지</td>\n",
       "    </tr>\n",
       "    <tr>\n",
       "      <th>665</th>\n",
       "      <td>350529362</td>\n",
       "      <td>고구려 4: 사유와 무</td>\n",
       "      <td>대사 고조선 고구려 몽땅 중국 역사 쓸어 담는 동북공정 허구 깨는 웅혼 고구려 역사...</td>\n",
       "      <td>10.0</td>\n",
       "      <td>0.7350</td>\n",
       "      <td>우리, 역사, 시대, 조선, 사회, 읽는, 갈등, 그린, 대해, 당시</td>\n",
       "    </tr>\n",
       "    <tr>\n",
       "      <th>377</th>\n",
       "      <td>251649038</td>\n",
       "      <td>백야행 2</td>\n",
       "      <td>상처 받은 영혼 비극 막히는 구성 사적 스케일 그려 가시노 게이고 최고봉 가시노 게...</td>\n",
       "      <td>11.0</td>\n",
       "      <td>0.4196</td>\n",
       "      <td>사건, 그녀, 미스터리, 발견, 비밀, 진실, 살인, 죽음, 일본, 소녀</td>\n",
       "    </tr>\n",
       "  </tbody>\n",
       "</table>\n",
       "</div>"
      ],
      "text/plain": [
       "        itemId                title  \\\n",
       "544  349598232               토와의 정원   \n",
       "512  347177916                  뮤직숍   \n",
       "332  321327972               제왕업(상)   \n",
       "603  340168530   태백산맥 3: 제1부 한의 모닥불   \n",
       "192  354469155  전지적 독자 시점 PART 1: 7   \n",
       "467  352390319               유리알 유희   \n",
       "508  349876668               프랑켄슈타인   \n",
       "555  235805806                개선문 2   \n",
       "668  353777168  기괴한 레스토랑 1: 정원사의 선물   \n",
       "510  349967826              기억하는 소설   \n",
       "665  350529362         고구려 4: 사유와 무   \n",
       "377  251649038                백야행 2   \n",
       "\n",
       "                                             story_sep  Dominant_Topic  \\\n",
       "544  있다는 굉장한 일이구 두운 심연 잠겨 올려다보는 맑고 투명한 달팽이 식당 츠바키 문...             0.0   \n",
       "512  그리움 잡고 있으면 사랑 이루어진다 영국 타임스 미국 워싱턴포스트 올해 흥미로운 음...             1.0   \n",
       "332  황제 타고난 여인 패업 둘러싼 야망 배신 운명 마주친 뜨거운 사랑 황제 타고난 여인...             2.0   \n",
       "603  한반도 분단 전쟁 제대로 그려 오늘 역사 이어주고 태백산맥 전남 여수 주둔 있던 국...             3.0   \n",
       "192  토털 웹소설 현재 진행형 레전드 마침내 단행본 만나는 전지 시점 피아 누적 판매 네...             4.0   \n",
       "467  헤르 헤세 노벨문학상 유리 유희 세기 무수 전쟁 인한 정신 황폐 반발 시대 비판 보...             5.0   \n",
       "508  인공 지능 유전공학 인간 복제 최근 이슈 담아내면서도 진정한 고민 하는 독특한 고전...             6.0   \n",
       "555  사랑 도피 사치 아닌 평화 안전 기쁨 축제 불안 시대 리다 민음사 세계문학 전집 개...             7.0   \n",
       "668  달러 구트 백화점 이을 한국 판타지 돌아왔다 기괴한 요괴 레스토랑 벌어지는 시아 신...             8.0   \n",
       "510  사람 간사한 동물 잊어버린다고 봐라 무너진다 너무나 쉽게 너무도 빨리 잊는 우리 기...             9.0   \n",
       "665  대사 고조선 고구려 몽땅 중국 역사 쓸어 담는 동북공정 허구 깨는 웅혼 고구려 역사...            10.0   \n",
       "377  상처 받은 영혼 비극 막히는 구성 사적 스케일 그려 가시노 게이고 최고봉 가시노 게...            11.0   \n",
       "\n",
       "     Perc_Contribution                              Topic_Keywords  \n",
       "544             0.4965     아이, 가족, 청소년, 엄마, 마음, 소년, 자신, 학교, 친구, 소녀  \n",
       "512             0.6747     사람, 시간, 세상, 어떤, 어머니, 모두, 가지, 하나, 마음, 하고  \n",
       "332             0.5458  드라마, 세상, 시작, 운명, 판타지, 주인공, 영화, 여인, 게임, 로맨스  \n",
       "603             0.8724     여성, 전쟁, 마을, 다시, 상황, 명의, 함께, 모두, 위기, nan  \n",
       "192             0.7429    시작, 세계, 하나, 시리즈, 문학상, 이번, 제작, 판매, 시점, 이미  \n",
       "467             0.5805     세계, 한국, 현실, 편의, 의미, 미래, 사회, 인물, 소설가, 젊은  \n",
       "508             0.5163   인간, 자신, 스릴러, 장르, 사고, 상상력, 새로운, 재미, 심리, 또한  \n",
       "555             0.7040   인간, 대표, 인류, 그려, 한국, 냈다, 고양이, 살아가는, 희망, 특히  \n",
       "668             0.4309      자신, 남자, 인생, 함께, 이름, 남편, 여자, 아들, 결혼, 생활  \n",
       "510             0.4210     사랑, 우리, 기억, 모습, 지금, 죽음, 존재, 시작, 다시, 아버지  \n",
       "665             0.7350      우리, 역사, 시대, 조선, 사회, 읽는, 갈등, 그린, 대해, 당시  \n",
       "377             0.4196    사건, 그녀, 미스터리, 발견, 비밀, 진실, 살인, 죽음, 일본, 소녀  "
      ]
     },
     "execution_count": 79,
     "metadata": {},
     "output_type": "execute_result"
    }
   ],
   "source": [
    "sent_topics_sorteddf_mallet"
   ]
  },
  {
   "cell_type": "code",
   "execution_count": 81,
   "id": "5134cea8",
   "metadata": {},
   "outputs": [
    {
     "data": {
      "text/plain": [
       "Dominant_Topic\n",
       "0.0     128\n",
       "1.0      82\n",
       "2.0      81\n",
       "3.0      63\n",
       "4.0      28\n",
       "5.0     119\n",
       "6.0      88\n",
       "7.0      58\n",
       "8.0      96\n",
       "9.0      82\n",
       "10.0     48\n",
       "11.0    127\n",
       "dtype: int64"
      ]
     },
     "execution_count": 81,
     "metadata": {},
     "output_type": "execute_result"
    }
   ],
   "source": [
    "df_topic_story.value_counts('Dominant_Topic').sort_index()"
   ]
  },
  {
   "cell_type": "code",
   "execution_count": 85,
   "id": "64993cf5",
   "metadata": {},
   "outputs": [
    {
     "data": {
      "text/html": [
       "<div>\n",
       "<style scoped>\n",
       "    .dataframe tbody tr th:only-of-type {\n",
       "        vertical-align: middle;\n",
       "    }\n",
       "\n",
       "    .dataframe tbody tr th {\n",
       "        vertical-align: top;\n",
       "    }\n",
       "\n",
       "    .dataframe thead th {\n",
       "        text-align: right;\n",
       "    }\n",
       "</style>\n",
       "<table border=\"1\" class=\"dataframe\">\n",
       "  <thead>\n",
       "    <tr style=\"text-align: right;\">\n",
       "      <th></th>\n",
       "      <th>itemId</th>\n",
       "      <th>title</th>\n",
       "      <th>story_sep</th>\n",
       "      <th>Dominant_Topic</th>\n",
       "      <th>Perc_Contribution</th>\n",
       "      <th>Topic_Keywords</th>\n",
       "    </tr>\n",
       "  </thead>\n",
       "  <tbody>\n",
       "    <tr>\n",
       "      <th>35</th>\n",
       "      <td>333164626</td>\n",
       "      <td>키르케</td>\n",
       "      <td>학자 김헌 기자 이다혜 강력 추천 고전 존경 끄덕임으로 읽는 새롭게 발굴 하는 고전...</td>\n",
       "      <td>5.0</td>\n",
       "      <td>0.3356</td>\n",
       "      <td>세계, 한국, 현실, 편의, 의미, 미래, 사회, 인물, 소설가, 젊은</td>\n",
       "    </tr>\n",
       "    <tr>\n",
       "      <th>57</th>\n",
       "      <td>354229384</td>\n",
       "      <td>방금 떠나온 세계</td>\n",
       "      <td>한국 눈부신 미래 초엽 사랑 끝내 이해 당신 있지 않나요 지금 초엽 먼저 소개 작가...</td>\n",
       "      <td>5.0</td>\n",
       "      <td>0.3179</td>\n",
       "      <td>세계, 한국, 현실, 편의, 의미, 미래, 사회, 인물, 소설가, 젊은</td>\n",
       "    </tr>\n",
       "    <tr>\n",
       "      <th>280</th>\n",
       "      <td>351027803</td>\n",
       "      <td>스노 크래시 2</td>\n",
       "      <td>타임 뛰어난 영문 서인 인류 미래 변화 시킨 충격 메타 버스 아바타 탄생 시키며 세...</td>\n",
       "      <td>5.0</td>\n",
       "      <td>0.4697</td>\n",
       "      <td>세계, 한국, 현실, 편의, 의미, 미래, 사회, 인물, 소설가, 젊은</td>\n",
       "    </tr>\n",
       "    <tr>\n",
       "      <th>290</th>\n",
       "      <td>351027793</td>\n",
       "      <td>스노 크래시 1</td>\n",
       "      <td>타임 뛰어난 영문 서인 인류 미래 변화 시킨 충격 메타 버스 아바타 탄생 시키며 세...</td>\n",
       "      <td>5.0</td>\n",
       "      <td>0.4722</td>\n",
       "      <td>세계, 한국, 현실, 편의, 의미, 미래, 사회, 인물, 소설가, 젊은</td>\n",
       "    </tr>\n",
       "    <tr>\n",
       "      <th>448</th>\n",
       "      <td>254600571</td>\n",
       "      <td>너무 한낮의 연애</td>\n",
       "      <td>젊은 중균 세계 젊은 대상 너무 한낮 연애 편의 성하게 담긴 집은 김금희 세계 확고...</td>\n",
       "      <td>5.0</td>\n",
       "      <td>0.3140</td>\n",
       "      <td>세계, 한국, 현실, 편의, 의미, 미래, 사회, 인물, 소설가, 젊은</td>\n",
       "    </tr>\n",
       "    <tr>\n",
       "      <th>451</th>\n",
       "      <td>252098561</td>\n",
       "      <td>제7회 젊은작가상 수상작품집(2016)</td>\n",
       "      <td>성실하고 활발하게 자신 세계 조해 가는 일곱 명의 젊은 젊은 수상 작품집 제정 젊은...</td>\n",
       "      <td>5.0</td>\n",
       "      <td>0.3479</td>\n",
       "      <td>세계, 한국, 현실, 편의, 의미, 미래, 사회, 인물, 소설가, 젊은</td>\n",
       "    </tr>\n",
       "    <tr>\n",
       "      <th>467</th>\n",
       "      <td>352390319</td>\n",
       "      <td>유리알 유희</td>\n",
       "      <td>헤르 헤세 노벨문학상 유리 유희 세기 무수 전쟁 인한 정신 황폐 반발 시대 비판 보...</td>\n",
       "      <td>5.0</td>\n",
       "      <td>0.5805</td>\n",
       "      <td>세계, 한국, 현실, 편의, 의미, 미래, 사회, 인물, 소설가, 젊은</td>\n",
       "    </tr>\n",
       "    <tr>\n",
       "      <th>471</th>\n",
       "      <td>353740895</td>\n",
       "      <td>0%를 향하여</td>\n",
       "      <td>누구 마약 예술 맞아요 청춘 시대 다시 시작 기쁜 우리 젊은 동시 대의 감각 포착 ...</td>\n",
       "      <td>5.0</td>\n",
       "      <td>0.3330</td>\n",
       "      <td>세계, 한국, 현실, 편의, 의미, 미래, 사회, 인물, 소설가, 젊은</td>\n",
       "    </tr>\n",
       "    <tr>\n",
       "      <th>550</th>\n",
       "      <td>252098561</td>\n",
       "      <td>제7회 젊은작가상 수상작품집(2016)</td>\n",
       "      <td>성실하고 활발하게 자신 세계 조해 가는 일곱 명의 젊은 젊은 수상 작품집 제정 젊은...</td>\n",
       "      <td>5.0</td>\n",
       "      <td>0.3555</td>\n",
       "      <td>세계, 한국, 현실, 편의, 의미, 미래, 사회, 인물, 소설가, 젊은</td>\n",
       "    </tr>\n",
       "    <tr>\n",
       "      <th>688</th>\n",
       "      <td>353740895</td>\n",
       "      <td>0%를 향하여</td>\n",
       "      <td>누구 마약 예술 맞아요 청춘 시대 다시 시작 기쁜 우리 젊은 동시 대의 감각 포착 ...</td>\n",
       "      <td>5.0</td>\n",
       "      <td>0.3369</td>\n",
       "      <td>세계, 한국, 현실, 편의, 의미, 미래, 사회, 인물, 소설가, 젊은</td>\n",
       "    </tr>\n",
       "    <tr>\n",
       "      <th>696</th>\n",
       "      <td>352390319</td>\n",
       "      <td>유리알 유희</td>\n",
       "      <td>헤르 헤세 노벨문학상 유리 유희 세기 무수 전쟁 인한 정신 황폐 반발 시대 비판 보...</td>\n",
       "      <td>5.0</td>\n",
       "      <td>0.5798</td>\n",
       "      <td>세계, 한국, 현실, 편의, 의미, 미래, 사회, 인물, 소설가, 젊은</td>\n",
       "    </tr>\n",
       "    <tr>\n",
       "      <th>910</th>\n",
       "      <td>305310119</td>\n",
       "      <td>회랑을 배회하는 양떼와 그 포식자들</td>\n",
       "      <td>경쾌해진 위트 유머 깊어진 슬픔 탄식 회랑 배회 하는 포식자 젊은 수상한 순의 회랑...</td>\n",
       "      <td>5.0</td>\n",
       "      <td>0.3150</td>\n",
       "      <td>세계, 한국, 현실, 편의, 의미, 미래, 사회, 인물, 소설가, 젊은</td>\n",
       "    </tr>\n",
       "  </tbody>\n",
       "</table>\n",
       "</div>"
      ],
      "text/plain": [
       "        itemId                  title  \\\n",
       "35   333164626                    키르케   \n",
       "57   354229384              방금 떠나온 세계   \n",
       "280  351027803               스노 크래시 2   \n",
       "290  351027793               스노 크래시 1   \n",
       "448  254600571              너무 한낮의 연애   \n",
       "451  252098561  제7회 젊은작가상 수상작품집(2016)   \n",
       "467  352390319                 유리알 유희   \n",
       "471  353740895                0%를 향하여   \n",
       "550  252098561  제7회 젊은작가상 수상작품집(2016)   \n",
       "688  353740895                0%를 향하여   \n",
       "696  352390319                 유리알 유희   \n",
       "910  305310119    회랑을 배회하는 양떼와 그 포식자들   \n",
       "\n",
       "                                             story_sep  Dominant_Topic  \\\n",
       "35   학자 김헌 기자 이다혜 강력 추천 고전 존경 끄덕임으로 읽는 새롭게 발굴 하는 고전...             5.0   \n",
       "57   한국 눈부신 미래 초엽 사랑 끝내 이해 당신 있지 않나요 지금 초엽 먼저 소개 작가...             5.0   \n",
       "280  타임 뛰어난 영문 서인 인류 미래 변화 시킨 충격 메타 버스 아바타 탄생 시키며 세...             5.0   \n",
       "290  타임 뛰어난 영문 서인 인류 미래 변화 시킨 충격 메타 버스 아바타 탄생 시키며 세...             5.0   \n",
       "448  젊은 중균 세계 젊은 대상 너무 한낮 연애 편의 성하게 담긴 집은 김금희 세계 확고...             5.0   \n",
       "451  성실하고 활발하게 자신 세계 조해 가는 일곱 명의 젊은 젊은 수상 작품집 제정 젊은...             5.0   \n",
       "467  헤르 헤세 노벨문학상 유리 유희 세기 무수 전쟁 인한 정신 황폐 반발 시대 비판 보...             5.0   \n",
       "471  누구 마약 예술 맞아요 청춘 시대 다시 시작 기쁜 우리 젊은 동시 대의 감각 포착 ...             5.0   \n",
       "550  성실하고 활발하게 자신 세계 조해 가는 일곱 명의 젊은 젊은 수상 작품집 제정 젊은...             5.0   \n",
       "688  누구 마약 예술 맞아요 청춘 시대 다시 시작 기쁜 우리 젊은 동시 대의 감각 포착 ...             5.0   \n",
       "696  헤르 헤세 노벨문학상 유리 유희 세기 무수 전쟁 인한 정신 황폐 반발 시대 비판 보...             5.0   \n",
       "910  경쾌해진 위트 유머 깊어진 슬픔 탄식 회랑 배회 하는 포식자 젊은 수상한 순의 회랑...             5.0   \n",
       "\n",
       "     Perc_Contribution                           Topic_Keywords  \n",
       "35              0.3356  세계, 한국, 현실, 편의, 의미, 미래, 사회, 인물, 소설가, 젊은  \n",
       "57              0.3179  세계, 한국, 현실, 편의, 의미, 미래, 사회, 인물, 소설가, 젊은  \n",
       "280             0.4697  세계, 한국, 현실, 편의, 의미, 미래, 사회, 인물, 소설가, 젊은  \n",
       "290             0.4722  세계, 한국, 현실, 편의, 의미, 미래, 사회, 인물, 소설가, 젊은  \n",
       "448             0.3140  세계, 한국, 현실, 편의, 의미, 미래, 사회, 인물, 소설가, 젊은  \n",
       "451             0.3479  세계, 한국, 현실, 편의, 의미, 미래, 사회, 인물, 소설가, 젊은  \n",
       "467             0.5805  세계, 한국, 현실, 편의, 의미, 미래, 사회, 인물, 소설가, 젊은  \n",
       "471             0.3330  세계, 한국, 현실, 편의, 의미, 미래, 사회, 인물, 소설가, 젊은  \n",
       "550             0.3555  세계, 한국, 현실, 편의, 의미, 미래, 사회, 인물, 소설가, 젊은  \n",
       "688             0.3369  세계, 한국, 현실, 편의, 의미, 미래, 사회, 인물, 소설가, 젊은  \n",
       "696             0.5798  세계, 한국, 현실, 편의, 의미, 미래, 사회, 인물, 소설가, 젊은  \n",
       "910             0.3150  세계, 한국, 현실, 편의, 의미, 미래, 사회, 인물, 소설가, 젊은  "
      ]
     },
     "execution_count": 85,
     "metadata": {},
     "output_type": "execute_result"
    }
   ],
   "source": [
    "topic_4 = df_topic_story[df_topic_story['Dominant_Topic']==5]\n",
    "topic_4[topic_4['Perc_Contribution'] > 0.3]"
   ]
  }
 ],
 "metadata": {
  "interpreter": {
   "hash": "ecab3b44ec85b3fc152ce43053029da2d7fea401295eddadd715c90b258d02c3"
  },
  "kernelspec": {
   "display_name": "Environment (conda_python3)",
   "language": "python",
   "name": "python3"
  },
  "language_info": {
   "codemirror_mode": {
    "name": "ipython",
    "version": 3
   },
   "file_extension": ".py",
   "mimetype": "text/x-python",
   "name": "python",
   "nbconvert_exporter": "python",
   "pygments_lexer": "ipython3",
   "version": "3.9.0"
  }
 },
 "nbformat": 4,
 "nbformat_minor": 5
}
