{
 "cells": [
  {
   "cell_type": "code",
   "execution_count": 1,
   "id": "broad-karaoke",
   "metadata": {},
   "outputs": [],
   "source": [
    "import warnings\n",
    "warnings.filterwarnings('ignore')"
   ]
  },
  {
   "cell_type": "code",
   "execution_count": 2,
   "id": "defensive-percentage",
   "metadata": {},
   "outputs": [],
   "source": [
    "import pandas as pd\n",
    "import numpy as np"
   ]
  },
  {
   "cell_type": "code",
   "execution_count": 9,
   "id": "smoking-better",
   "metadata": {},
   "outputs": [],
   "source": [
    "train_df = pd.read_csv('../Data/train_감정분류.csv', index_col=0)\n",
    "test_df = pd.read_csv('../Data/test_감정분류.csv', index_col=0)"
   ]
  },
  {
   "cell_type": "markdown",
   "id": "automotive-alpha",
   "metadata": {},
   "source": [
    "## EDA"
   ]
  },
  {
   "cell_type": "code",
   "execution_count": 16,
   "id": "confidential-teacher",
   "metadata": {},
   "outputs": [
    {
     "data": {
      "text/html": [
       "<div>\n",
       "<style scoped>\n",
       "    .dataframe tbody tr th:only-of-type {\n",
       "        vertical-align: middle;\n",
       "    }\n",
       "\n",
       "    .dataframe tbody tr th {\n",
       "        vertical-align: top;\n",
       "    }\n",
       "\n",
       "    .dataframe thead th {\n",
       "        text-align: right;\n",
       "    }\n",
       "</style>\n",
       "<table border=\"1\" class=\"dataframe\">\n",
       "  <thead>\n",
       "    <tr style=\"text-align: right;\">\n",
       "      <th></th>\n",
       "      <th>감정_대분류</th>\n",
       "      <th>감정_소분류</th>\n",
       "      <th>전체응답</th>\n",
       "    </tr>\n",
       "  </thead>\n",
       "  <tbody>\n",
       "    <tr>\n",
       "      <th>0</th>\n",
       "      <td>기쁨</td>\n",
       "      <td>신이 난</td>\n",
       "      <td>아내가 드디어 출산하게 되어서 정말 신이 나.</td>\n",
       "    </tr>\n",
       "    <tr>\n",
       "      <th>1</th>\n",
       "      <td>기쁨</td>\n",
       "      <td>신이 난</td>\n",
       "      <td>아내분이 출산을 하시는군요. 정말 축하드려요.</td>\n",
       "    </tr>\n",
       "    <tr>\n",
       "      <th>2</th>\n",
       "      <td>기쁨</td>\n",
       "      <td>신이 난</td>\n",
       "      <td>아 지금 정말 신이 나.</td>\n",
       "    </tr>\n",
       "    <tr>\n",
       "      <th>3</th>\n",
       "      <td>기쁨</td>\n",
       "      <td>신이 난</td>\n",
       "      <td>잘 된 일이네요.</td>\n",
       "    </tr>\n",
       "    <tr>\n",
       "      <th>4</th>\n",
       "      <td>기쁨</td>\n",
       "      <td>신이 난</td>\n",
       "      <td>아기가 점점 클게 벌써 기대가 되네. 내가 많이 놀아줘야지.</td>\n",
       "    </tr>\n",
       "    <tr>\n",
       "      <th>...</th>\n",
       "      <td>...</td>\n",
       "      <td>...</td>\n",
       "      <td>...</td>\n",
       "    </tr>\n",
       "    <tr>\n",
       "      <th>228463</th>\n",
       "      <td>불안</td>\n",
       "      <td>스트레스 받는</td>\n",
       "      <td>많이 서운하셨겠어요. 친구들에게 서운함을 느꼈을 때 해결하는 방법이 있나요?</td>\n",
       "    </tr>\n",
       "    <tr>\n",
       "      <th>228464</th>\n",
       "      <td>불안</td>\n",
       "      <td>스트레스 받는</td>\n",
       "      <td>카페에 가서 대화하거나 같이 술 마시면서 이야기했던 것 같아.</td>\n",
       "    </tr>\n",
       "    <tr>\n",
       "      <th>228465</th>\n",
       "      <td>불안</td>\n",
       "      <td>스트레스 받는</td>\n",
       "      <td>대화로 문제를 해결해오셨던 거군요? 그렇다면 이번 일에는 어떻게 하실 예정인가요?</td>\n",
       "    </tr>\n",
       "    <tr>\n",
       "      <th>228466</th>\n",
       "      <td>불안</td>\n",
       "      <td>스트레스 받는</td>\n",
       "      <td>직접 서운한 감정을 친구에게 얘기하려고 해.</td>\n",
       "    </tr>\n",
       "    <tr>\n",
       "      <th>228467</th>\n",
       "      <td>불안</td>\n",
       "      <td>스트레스 받는</td>\n",
       "      <td>이번에도 대화를 통해 불편한 마음을 풀려고 하시는군요.</td>\n",
       "    </tr>\n",
       "  </tbody>\n",
       "</table>\n",
       "<p>228468 rows × 3 columns</p>\n",
       "</div>"
      ],
      "text/plain": [
       "       감정_대분류   감정_소분류                                           전체응답\n",
       "0          기쁨     신이 난                      아내가 드디어 출산하게 되어서 정말 신이 나.\n",
       "1          기쁨     신이 난                      아내분이 출산을 하시는군요. 정말 축하드려요.\n",
       "2          기쁨     신이 난                                  아 지금 정말 신이 나.\n",
       "3          기쁨     신이 난                                      잘 된 일이네요.\n",
       "4          기쁨     신이 난             아기가 점점 클게 벌써 기대가 되네. 내가 많이 놀아줘야지. \n",
       "...       ...      ...                                            ...\n",
       "228463     불안  스트레스 받는     많이 서운하셨겠어요. 친구들에게 서운함을 느꼈을 때 해결하는 방법이 있나요?\n",
       "228464     불안  스트레스 받는             카페에 가서 대화하거나 같이 술 마시면서 이야기했던 것 같아.\n",
       "228465     불안  스트레스 받는  대화로 문제를 해결해오셨던 거군요? 그렇다면 이번 일에는 어떻게 하실 예정인가요?\n",
       "228466     불안  스트레스 받는                       직접 서운한 감정을 친구에게 얘기하려고 해.\n",
       "228467     불안  스트레스 받는                 이번에도 대화를 통해 불편한 마음을 풀려고 하시는군요.\n",
       "\n",
       "[228468 rows x 3 columns]"
      ]
     },
     "execution_count": 16,
     "metadata": {},
     "output_type": "execute_result"
    }
   ],
   "source": [
    "train_df"
   ]
  },
  {
   "cell_type": "code",
   "execution_count": 15,
   "id": "tender-islam",
   "metadata": {},
   "outputs": [
    {
     "data": {
      "text/plain": [
       "감정_소분류\n",
       "혼란스러운          7597\n",
       "고립된            7038\n",
       "걱정스러운          5865\n",
       "우울한            4751\n",
       "스트레스 받는        4663\n",
       "분노             4637\n",
       "짜증내는           4594\n",
       "두려운            4376\n",
       "실망한            4140\n",
       "충격 받은          4136\n",
       "편안한            4126\n",
       "눈물이 나는         4126\n",
       "노여워하는          4088\n",
       "한심한            4025\n",
       "슬픔             4008\n",
       "툴툴대는           4004\n",
       "후회되는           4002\n",
       "기쁨             3976\n",
       "불안             3970\n",
       "괴로워하는          3954\n",
       "만족스러운          3952\n",
       "당혹스러운          3936\n",
       "부끄러운           3927\n",
       "신이 난           3862\n",
       "감사하는           3858\n",
       "안도             3854\n",
       "구역질 나는         3850\n",
       "억울한            3832\n",
       "신뢰하는           3788\n",
       "배신당한           3773\n",
       "성가신            3746\n",
       "악의적인           3712\n",
       "죄책감의           3702\n",
       "상처             3692\n",
       "낙담한            3688\n",
       "조심스러운          3670\n",
       "비통한            3664\n",
       "환멸을 느끼는        3626\n",
       "남의 시선을 의식하는    3610\n",
       "초조한            3569\n",
       "가난한, 불우한       3558\n",
       "좌절한            3542\n",
       "회의적인           3536\n",
       "취약한            3510\n",
       "자신하는           3504\n",
       "당황             3484\n",
       "마비된            3475\n",
       "외로운            3470\n",
       "안달하는           3458\n",
       "희생된            3412\n",
       "느긋             3410\n",
       "버려진            3390\n",
       "질투하는           3338\n",
       "혐오스러운          3282\n",
       "염세적인           3244\n",
       "흥분             3242\n",
       "열등감            3208\n",
       "방어적인           3018\n",
       "dtype: int64"
      ]
     },
     "execution_count": 15,
     "metadata": {},
     "output_type": "execute_result"
    }
   ],
   "source": [
    "train_df.value_counts('감정_소분류')"
   ]
  },
  {
   "cell_type": "code",
   "execution_count": null,
   "id": "silver-badge",
   "metadata": {},
   "outputs": [],
   "source": []
  }
 ],
 "metadata": {
  "kernelspec": {
   "display_name": "Environment (conda_python3)",
   "language": "python",
   "name": "conda_python3"
  },
  "language_info": {
   "codemirror_mode": {
    "name": "ipython",
    "version": 3
   },
   "file_extension": ".py",
   "mimetype": "text/x-python",
   "name": "python",
   "nbconvert_exporter": "python",
   "pygments_lexer": "ipython3",
   "version": "3.6.13"
  }
 },
 "nbformat": 4,
 "nbformat_minor": 5
}
