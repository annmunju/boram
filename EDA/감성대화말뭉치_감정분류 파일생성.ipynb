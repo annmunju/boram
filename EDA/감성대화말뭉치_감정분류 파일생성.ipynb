{
 "cells": [
  {
   "cell_type": "code",
   "execution_count": 44,
   "id": "stable-blood",
   "metadata": {},
   "outputs": [],
   "source": [
    "import warnings\n",
    "warnings.filterwarnings('ignore')"
   ]
  },
  {
   "cell_type": "code",
   "execution_count": 109,
   "id": "nearby-cambridge",
   "metadata": {},
   "outputs": [],
   "source": [
    "import pandas as pd\n",
    "import numpy as np\n",
    "from tqdm import tqdm"
   ]
  },
  {
   "cell_type": "code",
   "execution_count": 59,
   "id": "center-tactics",
   "metadata": {},
   "outputs": [],
   "source": [
    "test_df = pd.read_excel('../Data/talking_test_data.xlsx', engine='openpyxl')\n",
    "train_df = pd.read_excel('../Data/talking_train_data.xlsx', engine='openpyxl')"
   ]
  },
  {
   "cell_type": "code",
   "execution_count": 62,
   "id": "bored-bernard",
   "metadata": {},
   "outputs": [],
   "source": [
    "train_df.dropna(subset=['번호'], inplace=True)"
   ]
  },
  {
   "cell_type": "code",
   "execution_count": 63,
   "id": "monthly-doctrine",
   "metadata": {},
   "outputs": [],
   "source": [
    "test_df.fillna(False, inplace=True)\n",
    "train_df.fillna(False, inplace=True)"
   ]
  },
  {
   "cell_type": "code",
   "execution_count": 64,
   "id": "biblical-enough",
   "metadata": {},
   "outputs": [],
   "source": [
    "cols = ('사람문장1', '시스템응답1', '사람문장2', '시스템응답2', '사람문장3', '시스템응답3', '사람문장4', '시스템응답4')\n",
    "\n",
    "all_answer = []\n",
    "for i in range(len(test_df)):\n",
    "    answer = []\n",
    "    for c in cols:\n",
    "        if test_df[c][i] :\n",
    "            answer.append(test_df[c][i])\n",
    "    all_answer.append(answer)\n",
    "    \n",
    "test_answer = test_df[['번호', '연령', '성별', '상황키워드', '신체질환', '감정_대분류', '감정_소분류']]\n",
    "test_answer['전체응답'] = all_answer"
   ]
  },
  {
   "cell_type": "code",
   "execution_count": 65,
   "id": "statistical-library",
   "metadata": {},
   "outputs": [],
   "source": [
    "all_answer = []\n",
    "for i in range(len(train_df)):\n",
    "    answer = []\n",
    "    for c in cols:\n",
    "        if train_df[c][i] :\n",
    "            answer.append(train_df[c][i])\n",
    "    all_answer.append(answer)\n",
    "    \n",
    "train_answer = train_df[['번호', '연령', '성별', '상황키워드', '신체질환', '감정_대분류', '감정_소분류']]\n",
    "train_answer['전체응답'] = all_answer"
   ]
  },
  {
   "cell_type": "code",
   "execution_count": 73,
   "id": "dental-delta",
   "metadata": {
    "scrolled": true
   },
   "outputs": [
    {
     "data": {
      "text/plain": [
       "array(['툴툴대는', '비통한', '조심스러운', '죄책감의', '노여워하는', '당황', '억울한', '염세적인',\n",
       "       '자신하는', '신뢰하는', '후회되는', '초조한', '구역질 나는', '악의적인', '기쁨', '환멸을 느끼는',\n",
       "       '눈물이 나는', '혐오스러운', '신이 난', '당혹스러운', '부끄러운', '감사하는', '괴로워하는',\n",
       "       '충격 받은', '걱정스러운', '혼란스러운', '취약한', '가난한, 불우한', '외로운', '분노', '버려진',\n",
       "       '질투하는', '느긋', '스트레스 받는', '실망한', '성가신', '좌절한', '남의 시선을 의식하는', '우울한',\n",
       "       '흥분', '안도', '회의적인', '희생된', '마비된', '고립된', '짜증내는', '배신당한', '한심한',\n",
       "       '슬픔', '상처', '두려운', '낙담한', '불안', '열등감', '만족스러운', '안달하는', '편안한',\n",
       "       '방어적인'], dtype=object)"
      ]
     },
     "execution_count": 73,
     "metadata": {},
     "output_type": "execute_result"
    }
   ],
   "source": [
    "test_answer['감정_소분류'].unique()"
   ]
  },
  {
   "cell_type": "code",
   "execution_count": 110,
   "id": "seventh-subcommittee",
   "metadata": {},
   "outputs": [
    {
     "name": "stderr",
     "output_type": "stream",
     "text": [
      "100%|██████████| 40879/40879 [01:03<00:00, 645.59it/s]\n"
     ]
    }
   ],
   "source": [
    "train = train_answer[['감정_대분류', '감정_소분류', '전체응답']]\n",
    "train_data = []\n",
    "for t in tqdm(range(len(train))):\n",
    "    for all_ans in range(len(train.loc[t].전체응답)):\n",
    "        dic = {}\n",
    "        dic['감정_대분류'] = (train.loc[t].감정_대분류)\n",
    "        dic['감정_소분류'] = (train.loc[t].감정_소분류)\n",
    "        dic['전체응답'] = (train.loc[t].전체응답[all_ans])\n",
    "        train_data.append(dic)"
   ]
  },
  {
   "cell_type": "code",
   "execution_count": 112,
   "id": "female-danish",
   "metadata": {},
   "outputs": [
    {
     "data": {
      "text/html": [
       "<div>\n",
       "<style scoped>\n",
       "    .dataframe tbody tr th:only-of-type {\n",
       "        vertical-align: middle;\n",
       "    }\n",
       "\n",
       "    .dataframe tbody tr th {\n",
       "        vertical-align: top;\n",
       "    }\n",
       "\n",
       "    .dataframe thead th {\n",
       "        text-align: right;\n",
       "    }\n",
       "</style>\n",
       "<table border=\"1\" class=\"dataframe\">\n",
       "  <thead>\n",
       "    <tr style=\"text-align: right;\">\n",
       "      <th></th>\n",
       "      <th>감정_대분류</th>\n",
       "      <th>감정_소분류</th>\n",
       "      <th>전체응답</th>\n",
       "    </tr>\n",
       "  </thead>\n",
       "  <tbody>\n",
       "    <tr>\n",
       "      <th>0</th>\n",
       "      <td>기쁨</td>\n",
       "      <td>신이 난</td>\n",
       "      <td>아내가 드디어 출산하게 되어서 정말 신이 나.</td>\n",
       "    </tr>\n",
       "    <tr>\n",
       "      <th>1</th>\n",
       "      <td>기쁨</td>\n",
       "      <td>신이 난</td>\n",
       "      <td>아내분이 출산을 하시는군요. 정말 축하드려요.</td>\n",
       "    </tr>\n",
       "    <tr>\n",
       "      <th>2</th>\n",
       "      <td>기쁨</td>\n",
       "      <td>신이 난</td>\n",
       "      <td>아 지금 정말 신이 나.</td>\n",
       "    </tr>\n",
       "    <tr>\n",
       "      <th>3</th>\n",
       "      <td>기쁨</td>\n",
       "      <td>신이 난</td>\n",
       "      <td>잘 된 일이네요.</td>\n",
       "    </tr>\n",
       "    <tr>\n",
       "      <th>4</th>\n",
       "      <td>기쁨</td>\n",
       "      <td>신이 난</td>\n",
       "      <td>아기가 점점 클게 벌써 기대가 되네. 내가 많이 놀아줘야지.</td>\n",
       "    </tr>\n",
       "    <tr>\n",
       "      <th>...</th>\n",
       "      <td>...</td>\n",
       "      <td>...</td>\n",
       "      <td>...</td>\n",
       "    </tr>\n",
       "    <tr>\n",
       "      <th>228463</th>\n",
       "      <td>불안</td>\n",
       "      <td>스트레스 받는</td>\n",
       "      <td>많이 서운하셨겠어요. 친구들에게 서운함을 느꼈을 때 해결하는 방법이 있나요?</td>\n",
       "    </tr>\n",
       "    <tr>\n",
       "      <th>228464</th>\n",
       "      <td>불안</td>\n",
       "      <td>스트레스 받는</td>\n",
       "      <td>카페에 가서 대화하거나 같이 술 마시면서 이야기했던 것 같아.</td>\n",
       "    </tr>\n",
       "    <tr>\n",
       "      <th>228465</th>\n",
       "      <td>불안</td>\n",
       "      <td>스트레스 받는</td>\n",
       "      <td>대화로 문제를 해결해오셨던 거군요? 그렇다면 이번 일에는 어떻게 하실 예정인가요?</td>\n",
       "    </tr>\n",
       "    <tr>\n",
       "      <th>228466</th>\n",
       "      <td>불안</td>\n",
       "      <td>스트레스 받는</td>\n",
       "      <td>직접 서운한 감정을 친구에게 얘기하려고 해.</td>\n",
       "    </tr>\n",
       "    <tr>\n",
       "      <th>228467</th>\n",
       "      <td>불안</td>\n",
       "      <td>스트레스 받는</td>\n",
       "      <td>이번에도 대화를 통해 불편한 마음을 풀려고 하시는군요.</td>\n",
       "    </tr>\n",
       "  </tbody>\n",
       "</table>\n",
       "<p>228468 rows × 3 columns</p>\n",
       "</div>"
      ],
      "text/plain": [
       "       감정_대분류   감정_소분류                                           전체응답\n",
       "0          기쁨     신이 난                      아내가 드디어 출산하게 되어서 정말 신이 나.\n",
       "1          기쁨     신이 난                      아내분이 출산을 하시는군요. 정말 축하드려요.\n",
       "2          기쁨     신이 난                                  아 지금 정말 신이 나.\n",
       "3          기쁨     신이 난                                      잘 된 일이네요.\n",
       "4          기쁨     신이 난             아기가 점점 클게 벌써 기대가 되네. 내가 많이 놀아줘야지. \n",
       "...       ...      ...                                            ...\n",
       "228463     불안  스트레스 받는     많이 서운하셨겠어요. 친구들에게 서운함을 느꼈을 때 해결하는 방법이 있나요?\n",
       "228464     불안  스트레스 받는             카페에 가서 대화하거나 같이 술 마시면서 이야기했던 것 같아.\n",
       "228465     불안  스트레스 받는  대화로 문제를 해결해오셨던 거군요? 그렇다면 이번 일에는 어떻게 하실 예정인가요?\n",
       "228466     불안  스트레스 받는                       직접 서운한 감정을 친구에게 얘기하려고 해.\n",
       "228467     불안  스트레스 받는                 이번에도 대화를 통해 불편한 마음을 풀려고 하시는군요.\n",
       "\n",
       "[228468 rows x 3 columns]"
      ]
     },
     "execution_count": 112,
     "metadata": {},
     "output_type": "execute_result"
    }
   ],
   "source": [
    "train_df_all = pd.DataFrame(train_data)\n",
    "train_df_all"
   ]
  },
  {
   "cell_type": "code",
   "execution_count": 113,
   "id": "armed-tuesday",
   "metadata": {},
   "outputs": [
    {
     "name": "stderr",
     "output_type": "stream",
     "text": [
      "100%|██████████| 5130/5130 [00:07<00:00, 657.17it/s]\n"
     ]
    },
    {
     "data": {
      "text/html": [
       "<div>\n",
       "<style scoped>\n",
       "    .dataframe tbody tr th:only-of-type {\n",
       "        vertical-align: middle;\n",
       "    }\n",
       "\n",
       "    .dataframe tbody tr th {\n",
       "        vertical-align: top;\n",
       "    }\n",
       "\n",
       "    .dataframe thead th {\n",
       "        text-align: right;\n",
       "    }\n",
       "</style>\n",
       "<table border=\"1\" class=\"dataframe\">\n",
       "  <thead>\n",
       "    <tr style=\"text-align: right;\">\n",
       "      <th></th>\n",
       "      <th>감정_대분류</th>\n",
       "      <th>감정_소분류</th>\n",
       "      <th>전체응답</th>\n",
       "    </tr>\n",
       "  </thead>\n",
       "  <tbody>\n",
       "    <tr>\n",
       "      <th>0</th>\n",
       "      <td>분노</td>\n",
       "      <td>툴툴대는</td>\n",
       "      <td>요즘 부모님과 많이 부딪혀.</td>\n",
       "    </tr>\n",
       "    <tr>\n",
       "      <th>1</th>\n",
       "      <td>분노</td>\n",
       "      <td>툴툴대는</td>\n",
       "      <td>어떤 일로 부딪히시나요?</td>\n",
       "    </tr>\n",
       "    <tr>\n",
       "      <th>2</th>\n",
       "      <td>분노</td>\n",
       "      <td>툴툴대는</td>\n",
       "      <td>난 하고 싶은 일이 있는데 부모님은 안정적인 일만 하라고 하셔. 내 마음대로 하지도...</td>\n",
       "    </tr>\n",
       "    <tr>\n",
       "      <th>3</th>\n",
       "      <td>분노</td>\n",
       "      <td>툴툴대는</td>\n",
       "      <td>부모님과의 충돌로 힘드시겠군요.</td>\n",
       "    </tr>\n",
       "    <tr>\n",
       "      <th>4</th>\n",
       "      <td>분노</td>\n",
       "      <td>툴툴대는</td>\n",
       "      <td>응. 그래도 난 내가 하고 싶은 일을 위해 노력할 거야.</td>\n",
       "    </tr>\n",
       "    <tr>\n",
       "      <th>...</th>\n",
       "      <td>...</td>\n",
       "      <td>...</td>\n",
       "      <td>...</td>\n",
       "    </tr>\n",
       "    <tr>\n",
       "      <th>28550</th>\n",
       "      <td>분노</td>\n",
       "      <td>짜증내는</td>\n",
       "      <td>자녀들이 찾아오지 않아서 슬퍼하시는 것 같아요.</td>\n",
       "    </tr>\n",
       "    <tr>\n",
       "      <th>28551</th>\n",
       "      <td>분노</td>\n",
       "      <td>짜증내는</td>\n",
       "      <td>응 이제 다들 독립해가지고 명절 아니면 찾아오질 않아. 안부전화라도 해주면 좋을 텐데.</td>\n",
       "    </tr>\n",
       "    <tr>\n",
       "      <th>28552</th>\n",
       "      <td>분노</td>\n",
       "      <td>짜증내는</td>\n",
       "      <td>특별한 날뿐만 아니라 평소에도 자녀들과 소통하고 싶어 하시는 것 같아요.</td>\n",
       "    </tr>\n",
       "    <tr>\n",
       "      <th>28553</th>\n",
       "      <td>분노</td>\n",
       "      <td>짜증내는</td>\n",
       "      <td>이런 감정이 들 때면 옛날 생각이 많이 나. 옛날에는 그게 당연한 것인 줄 알았지.</td>\n",
       "    </tr>\n",
       "    <tr>\n",
       "      <th>28554</th>\n",
       "      <td>분노</td>\n",
       "      <td>짜증내는</td>\n",
       "      <td>추억에 잠기셨군요. 앞으로도 계속 가족과의 좋은 기억을 만들어 나갈 수 있길 바라요.</td>\n",
       "    </tr>\n",
       "  </tbody>\n",
       "</table>\n",
       "<p>28555 rows × 3 columns</p>\n",
       "</div>"
      ],
      "text/plain": [
       "      감정_대분류 감정_소분류                                               전체응답\n",
       "0         분노   툴툴대는                                    요즘 부모님과 많이 부딪혀.\n",
       "1         분노   툴툴대는                                      어떤 일로 부딪히시나요?\n",
       "2         분노   툴툴대는  난 하고 싶은 일이 있는데 부모님은 안정적인 일만 하라고 하셔. 내 마음대로 하지도...\n",
       "3         분노   툴툴대는                                  부모님과의 충돌로 힘드시겠군요.\n",
       "4         분노   툴툴대는                    응. 그래도 난 내가 하고 싶은 일을 위해 노력할 거야.\n",
       "...      ...    ...                                                ...\n",
       "28550     분노   짜증내는                         자녀들이 찾아오지 않아서 슬퍼하시는 것 같아요.\n",
       "28551     분노   짜증내는   응 이제 다들 독립해가지고 명절 아니면 찾아오질 않아. 안부전화라도 해주면 좋을 텐데.\n",
       "28552     분노   짜증내는           특별한 날뿐만 아니라 평소에도 자녀들과 소통하고 싶어 하시는 것 같아요.\n",
       "28553     분노   짜증내는     이런 감정이 들 때면 옛날 생각이 많이 나. 옛날에는 그게 당연한 것인 줄 알았지.\n",
       "28554     분노   짜증내는    추억에 잠기셨군요. 앞으로도 계속 가족과의 좋은 기억을 만들어 나갈 수 있길 바라요.\n",
       "\n",
       "[28555 rows x 3 columns]"
      ]
     },
     "execution_count": 113,
     "metadata": {},
     "output_type": "execute_result"
    }
   ],
   "source": [
    "test = test_answer[['감정_대분류', '감정_소분류', '전체응답']]\n",
    "test_data = []\n",
    "for t in tqdm(range(len(test))):\n",
    "    for all_ans in range(len(test.loc[t].전체응답)):\n",
    "        dic = {}\n",
    "        dic['감정_대분류'] = (test.loc[t].감정_대분류)\n",
    "        dic['감정_소분류'] = (test.loc[t].감정_소분류)\n",
    "        dic['전체응답'] = (test.loc[t].전체응답[all_ans])\n",
    "        test_data.append(dic)\n",
    "        \n",
    "test_df_all = pd.DataFrame(test_data)\n",
    "test_df_all"
   ]
  },
  {
   "cell_type": "code",
   "execution_count": 115,
   "id": "brilliant-aging",
   "metadata": {},
   "outputs": [],
   "source": [
    "train_df_all.to_csv('../Data/train_감정분류.csv')\n",
    "test_df_all.to_csv('../Data/test_감정분류.csv')"
   ]
  }
 ],
 "metadata": {
  "kernelspec": {
   "display_name": "Environment (conda_python3)",
   "language": "python",
   "name": "conda_python3"
  },
  "language_info": {
   "codemirror_mode": {
    "name": "ipython",
    "version": 3
   },
   "file_extension": ".py",
   "mimetype": "text/x-python",
   "name": "python",
   "nbconvert_exporter": "python",
   "pygments_lexer": "ipython3",
   "version": "3.6.13"
  }
 },
 "nbformat": 4,
 "nbformat_minor": 5
}
