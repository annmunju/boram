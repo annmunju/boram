{
 "cells": [
  {
   "cell_type": "code",
   "execution_count": 41,
   "metadata": {},
   "outputs": [],
   "source": [
    "import pandas as pd\n",
    "import numpy as np\n",
    "import matplotlib.pyplot as plt\n",
    "from matplotlib import rc\n",
    "import seaborn as sns\n",
    "%matplotlib inline\n",
    "\n",
    "rc('font', family='AppleGothic')\n",
    "\n",
    "plt.rcParams['axes.unicode_minus'] = False"
   ]
  },
  {
   "cell_type": "code",
   "execution_count": 7,
   "metadata": {},
   "outputs": [],
   "source": [
    "data = pd.read_csv('../Data/data.csv', index_col=0)\n",
    "val = pd.read_csv('../Data/val.csv', index_col=0)"
   ]
  },
  {
   "cell_type": "code",
   "execution_count": 9,
   "metadata": {},
   "outputs": [
    {
     "data": {
      "text/html": [
       "<div>\n",
       "<style scoped>\n",
       "    .dataframe tbody tr th:only-of-type {\n",
       "        vertical-align: middle;\n",
       "    }\n",
       "\n",
       "    .dataframe tbody tr th {\n",
       "        vertical-align: top;\n",
       "    }\n",
       "\n",
       "    .dataframe thead th {\n",
       "        text-align: right;\n",
       "    }\n",
       "</style>\n",
       "<table border=\"1\" class=\"dataframe\">\n",
       "  <thead>\n",
       "    <tr style=\"text-align: right;\">\n",
       "      <th></th>\n",
       "      <th>target</th>\n",
       "      <th>data</th>\n",
       "    </tr>\n",
       "  </thead>\n",
       "  <tbody>\n",
       "    <tr>\n",
       "      <th>0</th>\n",
       "      <td>0</td>\n",
       "      <td>지금 난 기분이 너무 좋아.</td>\n",
       "    </tr>\n",
       "    <tr>\n",
       "      <th>1</th>\n",
       "      <td>0</td>\n",
       "      <td>나도 조카가 생겨! 너무 기뻐.</td>\n",
       "    </tr>\n",
       "    <tr>\n",
       "      <th>2</th>\n",
       "      <td>1</td>\n",
       "      <td>거래처와의 다음 계약이 무산될까봐 불안해.</td>\n",
       "    </tr>\n",
       "    <tr>\n",
       "      <th>3</th>\n",
       "      <td>2</td>\n",
       "      <td>당뇨로 고생 중인데 아내가 이혼하자더군. 아내가 날 버리면 병은 더 악화될 텐데 세...</td>\n",
       "    </tr>\n",
       "    <tr>\n",
       "      <th>4</th>\n",
       "      <td>2</td>\n",
       "      <td>노년에 재정적으로 이루어 놓은게 없어서 걱정이야.</td>\n",
       "    </tr>\n",
       "    <tr>\n",
       "      <th>...</th>\n",
       "      <td>...</td>\n",
       "      <td>...</td>\n",
       "    </tr>\n",
       "    <tr>\n",
       "      <th>199367</th>\n",
       "      <td>2</td>\n",
       "      <td>일단 좀 쉬어야 할 것 같아. 남자 친구와의 추억도 정리하고 마음도 정리해야겠어.</td>\n",
       "    </tr>\n",
       "    <tr>\n",
       "      <th>199368</th>\n",
       "      <td>2</td>\n",
       "      <td>나는 아들이 엄청나게 좋아할 거라 기대했는데 실망스러워.</td>\n",
       "    </tr>\n",
       "    <tr>\n",
       "      <th>199369</th>\n",
       "      <td>5</td>\n",
       "      <td>먼저 업무 인계서부터 천천히 작성 해야지.</td>\n",
       "    </tr>\n",
       "    <tr>\n",
       "      <th>199370</th>\n",
       "      <td>0</td>\n",
       "      <td>기분이 좋아. 나도 일 때문에 바쁠 때는 미리 얘기하기로 했어.</td>\n",
       "    </tr>\n",
       "    <tr>\n",
       "      <th>199371</th>\n",
       "      <td>2</td>\n",
       "      <td>아내를 잘 챙겨줘서 든든한 남편으로 보이는 게 좋겠어.</td>\n",
       "    </tr>\n",
       "  </tbody>\n",
       "</table>\n",
       "<p>199372 rows × 2 columns</p>\n",
       "</div>"
      ],
      "text/plain": [
       "        target                                               data\n",
       "0            0                                    지금 난 기분이 너무 좋아.\n",
       "1            0                                  나도 조카가 생겨! 너무 기뻐.\n",
       "2            1                            거래처와의 다음 계약이 무산될까봐 불안해.\n",
       "3            2  당뇨로 고생 중인데 아내가 이혼하자더군. 아내가 날 버리면 병은 더 악화될 텐데 세...\n",
       "4            2                        노년에 재정적으로 이루어 놓은게 없어서 걱정이야.\n",
       "...        ...                                                ...\n",
       "199367       2      일단 좀 쉬어야 할 것 같아. 남자 친구와의 추억도 정리하고 마음도 정리해야겠어.\n",
       "199368       2                    나는 아들이 엄청나게 좋아할 거라 기대했는데 실망스러워.\n",
       "199369       5                            먼저 업무 인계서부터 천천히 작성 해야지.\n",
       "199370       0                기분이 좋아. 나도 일 때문에 바쁠 때는 미리 얘기하기로 했어.\n",
       "199371       2                     아내를 잘 챙겨줘서 든든한 남편으로 보이는 게 좋겠어.\n",
       "\n",
       "[199372 rows x 2 columns]"
      ]
     },
     "execution_count": 9,
     "metadata": {},
     "output_type": "execute_result"
    }
   ],
   "source": [
    "data\n",
    "# 감성 대분류: 0: 기쁨, 1: 불안, 2: 슬픔,  3: 당황, 4: 상처, 5: 분노"
   ]
  },
  {
   "cell_type": "code",
   "execution_count": 11,
   "metadata": {},
   "outputs": [],
   "source": [
    "emo_ls = []\n",
    "for t in data['target']:\n",
    "    if t == 0:\n",
    "        emo_ls.append('기쁨')\n",
    "    elif t == 1:\n",
    "        emo_ls.append('불안')\n",
    "    elif t == 2:\n",
    "        emo_ls.append('슬픔')\n",
    "    elif t == 3:\n",
    "        emo_ls.append('당황')\n",
    "    elif t == 4:\n",
    "        emo_ls.append('상처')\n",
    "    else:\n",
    "        emo_ls.append('분노')"
   ]
  },
  {
   "cell_type": "code",
   "execution_count": 13,
   "metadata": {},
   "outputs": [
    {
     "data": {
      "text/html": [
       "<div>\n",
       "<style scoped>\n",
       "    .dataframe tbody tr th:only-of-type {\n",
       "        vertical-align: middle;\n",
       "    }\n",
       "\n",
       "    .dataframe tbody tr th {\n",
       "        vertical-align: top;\n",
       "    }\n",
       "\n",
       "    .dataframe thead th {\n",
       "        text-align: right;\n",
       "    }\n",
       "</style>\n",
       "<table border=\"1\" class=\"dataframe\">\n",
       "  <thead>\n",
       "    <tr style=\"text-align: right;\">\n",
       "      <th></th>\n",
       "      <th>target</th>\n",
       "      <th>data</th>\n",
       "      <th>emotion</th>\n",
       "    </tr>\n",
       "  </thead>\n",
       "  <tbody>\n",
       "    <tr>\n",
       "      <th>0</th>\n",
       "      <td>0</td>\n",
       "      <td>지금 난 기분이 너무 좋아.</td>\n",
       "      <td>기쁨</td>\n",
       "    </tr>\n",
       "    <tr>\n",
       "      <th>1</th>\n",
       "      <td>0</td>\n",
       "      <td>나도 조카가 생겨! 너무 기뻐.</td>\n",
       "      <td>기쁨</td>\n",
       "    </tr>\n",
       "    <tr>\n",
       "      <th>2</th>\n",
       "      <td>1</td>\n",
       "      <td>거래처와의 다음 계약이 무산될까봐 불안해.</td>\n",
       "      <td>불안</td>\n",
       "    </tr>\n",
       "    <tr>\n",
       "      <th>3</th>\n",
       "      <td>2</td>\n",
       "      <td>당뇨로 고생 중인데 아내가 이혼하자더군. 아내가 날 버리면 병은 더 악화될 텐데 세...</td>\n",
       "      <td>슬픔</td>\n",
       "    </tr>\n",
       "    <tr>\n",
       "      <th>4</th>\n",
       "      <td>2</td>\n",
       "      <td>노년에 재정적으로 이루어 놓은게 없어서 걱정이야.</td>\n",
       "      <td>슬픔</td>\n",
       "    </tr>\n",
       "    <tr>\n",
       "      <th>...</th>\n",
       "      <td>...</td>\n",
       "      <td>...</td>\n",
       "      <td>...</td>\n",
       "    </tr>\n",
       "    <tr>\n",
       "      <th>199367</th>\n",
       "      <td>2</td>\n",
       "      <td>일단 좀 쉬어야 할 것 같아. 남자 친구와의 추억도 정리하고 마음도 정리해야겠어.</td>\n",
       "      <td>슬픔</td>\n",
       "    </tr>\n",
       "    <tr>\n",
       "      <th>199368</th>\n",
       "      <td>2</td>\n",
       "      <td>나는 아들이 엄청나게 좋아할 거라 기대했는데 실망스러워.</td>\n",
       "      <td>슬픔</td>\n",
       "    </tr>\n",
       "    <tr>\n",
       "      <th>199369</th>\n",
       "      <td>5</td>\n",
       "      <td>먼저 업무 인계서부터 천천히 작성 해야지.</td>\n",
       "      <td>분노</td>\n",
       "    </tr>\n",
       "    <tr>\n",
       "      <th>199370</th>\n",
       "      <td>0</td>\n",
       "      <td>기분이 좋아. 나도 일 때문에 바쁠 때는 미리 얘기하기로 했어.</td>\n",
       "      <td>기쁨</td>\n",
       "    </tr>\n",
       "    <tr>\n",
       "      <th>199371</th>\n",
       "      <td>2</td>\n",
       "      <td>아내를 잘 챙겨줘서 든든한 남편으로 보이는 게 좋겠어.</td>\n",
       "      <td>슬픔</td>\n",
       "    </tr>\n",
       "  </tbody>\n",
       "</table>\n",
       "<p>199372 rows × 3 columns</p>\n",
       "</div>"
      ],
      "text/plain": [
       "        target                                               data emotion\n",
       "0            0                                    지금 난 기분이 너무 좋아.      기쁨\n",
       "1            0                                  나도 조카가 생겨! 너무 기뻐.      기쁨\n",
       "2            1                            거래처와의 다음 계약이 무산될까봐 불안해.      불안\n",
       "3            2  당뇨로 고생 중인데 아내가 이혼하자더군. 아내가 날 버리면 병은 더 악화될 텐데 세...      슬픔\n",
       "4            2                        노년에 재정적으로 이루어 놓은게 없어서 걱정이야.      슬픔\n",
       "...        ...                                                ...     ...\n",
       "199367       2      일단 좀 쉬어야 할 것 같아. 남자 친구와의 추억도 정리하고 마음도 정리해야겠어.      슬픔\n",
       "199368       2                    나는 아들이 엄청나게 좋아할 거라 기대했는데 실망스러워.      슬픔\n",
       "199369       5                            먼저 업무 인계서부터 천천히 작성 해야지.      분노\n",
       "199370       0                기분이 좋아. 나도 일 때문에 바쁠 때는 미리 얘기하기로 했어.      기쁨\n",
       "199371       2                     아내를 잘 챙겨줘서 든든한 남편으로 보이는 게 좋겠어.      슬픔\n",
       "\n",
       "[199372 rows x 3 columns]"
      ]
     },
     "execution_count": 13,
     "metadata": {},
     "output_type": "execute_result"
    }
   ],
   "source": [
    "data['emotion'] = emo_ls\n",
    "data"
   ]
  },
  {
   "cell_type": "code",
   "execution_count": 14,
   "metadata": {},
   "outputs": [
    {
     "data": {
      "text/html": [
       "<div>\n",
       "<style scoped>\n",
       "    .dataframe tbody tr th:only-of-type {\n",
       "        vertical-align: middle;\n",
       "    }\n",
       "\n",
       "    .dataframe tbody tr th {\n",
       "        vertical-align: top;\n",
       "    }\n",
       "\n",
       "    .dataframe thead th {\n",
       "        text-align: right;\n",
       "    }\n",
       "</style>\n",
       "<table border=\"1\" class=\"dataframe\">\n",
       "  <thead>\n",
       "    <tr style=\"text-align: right;\">\n",
       "      <th></th>\n",
       "      <th>target</th>\n",
       "      <th>data</th>\n",
       "      <th>emotion</th>\n",
       "    </tr>\n",
       "  </thead>\n",
       "  <tbody>\n",
       "    <tr>\n",
       "      <th>0</th>\n",
       "      <td>0</td>\n",
       "      <td>지금 난 기분이 너무 좋아.</td>\n",
       "      <td>기쁨</td>\n",
       "    </tr>\n",
       "    <tr>\n",
       "      <th>1</th>\n",
       "      <td>0</td>\n",
       "      <td>나도 조카가 생겨! 너무 기뻐.</td>\n",
       "      <td>기쁨</td>\n",
       "    </tr>\n",
       "    <tr>\n",
       "      <th>2</th>\n",
       "      <td>1</td>\n",
       "      <td>거래처와의 다음 계약이 무산될까봐 불안해.</td>\n",
       "      <td>불안</td>\n",
       "    </tr>\n",
       "    <tr>\n",
       "      <th>3</th>\n",
       "      <td>2</td>\n",
       "      <td>당뇨로 고생 중인데 아내가 이혼하자더군. 아내가 날 버리면 병은 더 악화될 텐데 세...</td>\n",
       "      <td>슬픔</td>\n",
       "    </tr>\n",
       "    <tr>\n",
       "      <th>4</th>\n",
       "      <td>2</td>\n",
       "      <td>노년에 재정적으로 이루어 놓은게 없어서 걱정이야.</td>\n",
       "      <td>슬픔</td>\n",
       "    </tr>\n",
       "    <tr>\n",
       "      <th>...</th>\n",
       "      <td>...</td>\n",
       "      <td>...</td>\n",
       "      <td>...</td>\n",
       "    </tr>\n",
       "    <tr>\n",
       "      <th>199367</th>\n",
       "      <td>2</td>\n",
       "      <td>일단 좀 쉬어야 할 것 같아. 남자 친구와의 추억도 정리하고 마음도 정리해야겠어.</td>\n",
       "      <td>슬픔</td>\n",
       "    </tr>\n",
       "    <tr>\n",
       "      <th>199368</th>\n",
       "      <td>2</td>\n",
       "      <td>나는 아들이 엄청나게 좋아할 거라 기대했는데 실망스러워.</td>\n",
       "      <td>슬픔</td>\n",
       "    </tr>\n",
       "    <tr>\n",
       "      <th>199369</th>\n",
       "      <td>5</td>\n",
       "      <td>먼저 업무 인계서부터 천천히 작성 해야지.</td>\n",
       "      <td>분노</td>\n",
       "    </tr>\n",
       "    <tr>\n",
       "      <th>199370</th>\n",
       "      <td>0</td>\n",
       "      <td>기분이 좋아. 나도 일 때문에 바쁠 때는 미리 얘기하기로 했어.</td>\n",
       "      <td>기쁨</td>\n",
       "    </tr>\n",
       "    <tr>\n",
       "      <th>199371</th>\n",
       "      <td>2</td>\n",
       "      <td>아내를 잘 챙겨줘서 든든한 남편으로 보이는 게 좋겠어.</td>\n",
       "      <td>슬픔</td>\n",
       "    </tr>\n",
       "  </tbody>\n",
       "</table>\n",
       "<p>199372 rows × 3 columns</p>\n",
       "</div>"
      ],
      "text/plain": [
       "        target                                               data emotion\n",
       "0            0                                    지금 난 기분이 너무 좋아.      기쁨\n",
       "1            0                                  나도 조카가 생겨! 너무 기뻐.      기쁨\n",
       "2            1                            거래처와의 다음 계약이 무산될까봐 불안해.      불안\n",
       "3            2  당뇨로 고생 중인데 아내가 이혼하자더군. 아내가 날 버리면 병은 더 악화될 텐데 세...      슬픔\n",
       "4            2                        노년에 재정적으로 이루어 놓은게 없어서 걱정이야.      슬픔\n",
       "...        ...                                                ...     ...\n",
       "199367       2      일단 좀 쉬어야 할 것 같아. 남자 친구와의 추억도 정리하고 마음도 정리해야겠어.      슬픔\n",
       "199368       2                    나는 아들이 엄청나게 좋아할 거라 기대했는데 실망스러워.      슬픔\n",
       "199369       5                            먼저 업무 인계서부터 천천히 작성 해야지.      분노\n",
       "199370       0                기분이 좋아. 나도 일 때문에 바쁠 때는 미리 얘기하기로 했어.      기쁨\n",
       "199371       2                     아내를 잘 챙겨줘서 든든한 남편으로 보이는 게 좋겠어.      슬픔\n",
       "\n",
       "[199372 rows x 3 columns]"
      ]
     },
     "execution_count": 14,
     "metadata": {},
     "output_type": "execute_result"
    }
   ],
   "source": [
    "data"
   ]
  },
  {
   "cell_type": "code",
   "execution_count": 45,
   "metadata": {},
   "outputs": [
    {
     "data": {
      "text/plain": [
       "['상처', '슬픔', '분노', '기쁨', '불안', '당황']"
      ]
     },
     "execution_count": 45,
     "metadata": {},
     "output_type": "execute_result"
    }
   ],
   "source": [
    "keys = list(data['emotion'].value_counts().keys())\n",
    "vals = list(data['emotion'].value_counts().values)\n",
    "keys"
   ]
  },
  {
   "cell_type": "markdown",
   "metadata": {},
   "source": [
    "감정 분류별 단어 빈도수 시각화"
   ]
  },
  {
   "cell_type": "code",
   "execution_count": 74,
   "metadata": {},
   "outputs": [
    {
     "data": {
      "image/png": "[encoded data removed]",
      "text/plain": [
       "<Figure size 360x360 with 1 Axes>"
      ]
     },
     "metadata": {},
     "output_type": "display_data"
    }
   ],
   "source": [
    "plt.figure(figsize=(5, 5))\n",
    "explode = [0.05, 0.05, 0.05, 0.05, 0.05, 0.05]\n",
    "colors = ['#d395d0', '#ffc000', '#8fd9d8', '#ff87d5', '#ffd088', '#8fd9a3']\n",
    "plt.pie(vals, labels=keys, autopct='%.1f%%',  explode=explode, colors=colors, shadow=True)\n",
    "plt.show()"
   ]
  },
  {
   "cell_type": "code",
   "execution_count": 77,
   "metadata": {},
   "outputs": [],
   "source": [
    "d_cnt = []\n",
    "for d in data['data']:\n",
    "    d_cnt.append(len(d))"
   ]
  },
  {
   "cell_type": "markdown",
   "metadata": {},
   "source": [
    "단어 개수 시각화"
   ]
  },
  {
   "cell_type": "code",
   "execution_count": 78,
   "metadata": {},
   "outputs": [
    {
     "data": {
      "image/png": "[encoded data removed]",
      "text/plain": [
       "<Figure size 432x288 with 1 Axes>"
      ]
     },
     "metadata": {
      "needs_background": "light"
     },
     "output_type": "display_data"
    }
   ],
   "source": [
    "sns.histplot(d_cnt)\n",
    "plt.show()                    "
   ]
  },
  {
   "cell_type": "code",
   "execution_count": null,
   "metadata": {},
   "outputs": [],
   "source": []
  }
 ],
 "metadata": {
  "interpreter": {
   "hash": "ecab3b44ec85b3fc152ce43053029da2d7fea401295eddadd715c90b258d02c3"
  },
  "kernelspec": {
   "display_name": "Python 3.9.0 ('multi_crawling')",
   "language": "python",
   "name": "python3"
  },
  "language_info": {
   "codemirror_mode": {
    "name": "ipython",
    "version": 3
   },
   "file_extension": ".py",
   "mimetype": "text/x-python",
   "name": "python",
   "nbconvert_exporter": "python",
   "pygments_lexer": "ipython3",
   "version": "3.9.0"
  },
  "orig_nbformat": 4
 },
 "nbformat": 4,
 "nbformat_minor": 2
}
