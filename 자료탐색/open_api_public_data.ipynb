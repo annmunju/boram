{
 "cells": [
  {
   "cell_type": "code",
   "execution_count": 4,
   "id": "60aae654-38a6-4b64-b832-e58d7173d5a3",
   "metadata": {},
   "outputs": [
    {
     "name": "stdout",
     "output_type": "stream",
     "text": [
      "('<?xml version=\"1.0\" encoding=\"utf-8\"?>\\r\\n'\n",
      " '<Search>\\r\\n'\n",
      " '<Error>인증키가 필요합니다.</Error>\\r\\n'\n",
      " '</Search>\\r\\n')\n",
      "None\n"
     ]
    }
   ],
   "source": [
    "#라이브러리 import\n",
    "import requests\n",
    "import pprint\n",
    "import json\n",
    "\n",
    "# url 입력\n",
    "\n",
    "url = 'http://api.koreafilm.or.kr/openapi-data2/wisenut/search_api/search_xml2.jsp?collection=kmdb_new2&detail=N&director=%EB%B0%95%EC%B0%AC%EC%9A%B1&ServiceKey=2LMK190M6E0P335X22L7'\n",
    "\n",
    "response = requests.get(url)\n",
    "\n",
    "contents = response.text\n",
    "\n",
    "# 데이터 결과값 예쁘게 출력해주는 코드\n",
    "pp = pprint.PrettyPrinter(indent=4)\n",
    "print(pp.pprint(contents))"
   ]
  },
  {
   "cell_type": "code",
   "execution_count": null,
   "id": "fb54354f",
   "metadata": {},
   "outputs": [],
   "source": []
  }
 ],
 "metadata": {
  "kernelspec": {
   "display_name": "Python 3",
   "language": "python",
   "name": "python3"
  },
  "language_info": {
   "codemirror_mode": {
    "name": "ipython",
    "version": 3
   },
   "file_extension": ".py",
   "mimetype": "text/x-python",
   "name": "python",
   "nbconvert_exporter": "python",
   "pygments_lexer": "ipython3",
   "version": "3.9.9"
  }
 },
 "nbformat": 4,
 "nbformat_minor": 5
}
